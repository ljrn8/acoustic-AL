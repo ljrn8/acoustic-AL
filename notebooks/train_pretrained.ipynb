{
 "cells": [
  {
   "cell_type": "code",
   "execution_count": 29,
   "metadata": {},
   "outputs": [
    {
     "name": "stdout",
     "output_type": "stream",
     "text": [
      "The autoreload extension is already loaded. To reload it, use:\n",
      "  %reload_ext autoreload\n"
     ]
    }
   ],
   "source": [
    "%load_ext autoreload\n",
    "%autoreload 2\n",
    "\n",
    "\n",
    "import tensorflow as tf\n",
    "from tensorflow  import keras\n",
    "import tensorflow_hub as hub\n",
    "import numpy as np\n",
    "\n",
    "import librosa \n",
    "from util import WavDataset\n",
    "import matplotlib.pyplot as plt\n",
    "\n",
    "import h5py\n",
    "from pathlib import Path\n",
    "from config import INTERMEDIATE, MODEL_DIR"
   ]
  },
  {
   "cell_type": "code",
   "execution_count": 2,
   "metadata": {},
   "outputs": [],
   "source": [
    "np.random.seed(0)\n",
    "hdf5_dataset = h5py.File(INTERMEDIATE / 'train.hdf5', 'r')\n",
    "random_chunks = np.array(hdf5_dataset)\n",
    "np.random.shuffle(random_chunks)"
   ]
  },
  {
   "cell_type": "code",
   "execution_count": 3,
   "metadata": {
    "scrolled": true
   },
   "outputs": [
    {
     "name": "stdout",
     "output_type": "stream",
     "text": [
      "458.73566 0\t\t594.2076 0\t\t746.2246 0\t\t531.56323 "
     ]
    },
    {
     "name": "stderr",
     "output_type": "stream",
     "text": [
      "2024-09-09 11:10:02.884485: I tensorflow/core/platform/cpu_feature_guard.cc:151] This TensorFlow binary is optimized with oneAPI Deep Neural Network Library (oneDNN) to use the following CPU instructions in performance-critical operations:  SSE3 SSE4.1 SSE4.2\n",
      "To enable them in other operations, rebuild TensorFlow with the appropriate compiler flags.\n"
     ]
    },
    {
     "name": "stdout",
     "output_type": "stream",
     "text": [
      "0\t\t657.0123 0\t\t626.8448 0\t\t664.3427 4\t\t531.1446 0\t\t777.21875 0\t\t763.9229 0\t\t493.90265 0\t\t692.4295 0\t\t566.7892 0\t\t554.7632 0\t\t578.3624 0\t\t545.44275 0\t\t787.87085 0\t\t471.79166 0\t\t701.3546 0\t\t568.9809 0\t\t637.3032 3\t\t641.09607 0\t\t561.34283 0\t\t594.9181 0\t\t801.41156 0\t\t740.50226 0\t\t781.42566 0\t\t628.4475 0\t\t667.9726 0\t\t725.094 0\t\t635.2217 0\t\t614.97064 0\t\t"
     ]
    }
   ],
   "source": [
    "X_shape = (10, 1024)\n",
    "Y_shape = (10, 4)\n",
    "\n",
    "def chunk_generator():\n",
    "    for chunk in random_chunks:\n",
    "        chunk_group = hdf5_dataset[chunk]\n",
    "        yield (\n",
    "            np.array(chunk_group['X']), \n",
    "            np.array(chunk_group['Y']).T) \n",
    "\n",
    "raw_dataset = tf.data.Dataset.from_generator(\n",
    "    chunk_generator,\n",
    "    output_signature=(\n",
    "        tf.TensorSpec(shape=X_shape, dtype=tf.float32),\n",
    "        tf.TensorSpec(shape=Y_shape, dtype=tf.bool)))\n",
    "\n",
    "# test\n",
    "for s in raw_dataset.take(32):\n",
    "    X, Y = s\n",
    "    print(np.array(X).sum(), np.array(Y).sum(), end=\"\\t\\t\")"
   ]
  },
  {
   "cell_type": "code",
   "execution_count": 185,
   "metadata": {},
   "outputs": [
    {
     "name": "stdout",
     "output_type": "stream",
     "text": [
      "Model: \"sequential_14\"\n",
      "_________________________________________________________________\n",
      " Layer (type)                Output Shape              Param #   \n",
      "=================================================================\n",
      " dense_59 (Dense)            (None, 10, 256)           262400    \n",
      "                                                                 \n",
      " dense_60 (Dense)            (None, 10, 128)           32896     \n",
      "                                                                 \n",
      " batch_normalization_7 (Batc  (None, 10, 128)          512       \n",
      " hNormalization)                                                 \n",
      "                                                                 \n",
      " dense_61 (Dense)            (None, 10, 64)            8256      \n",
      "                                                                 \n",
      " batch_normalization_8 (Batc  (None, 10, 64)           256       \n",
      " hNormalization)                                                 \n",
      "                                                                 \n",
      " dense_62 (Dense)            (None, 10, 4)             260       \n",
      "                                                                 \n",
      "=================================================================\n",
      "Total params: 304,580\n",
      "Trainable params: 304,196\n",
      "Non-trainable params: 384\n",
      "_________________________________________________________________\n"
     ]
    }
   ],
   "source": [
    "from keras.layers import Input, Dense, BatchNormalization\n",
    "import tensorflow_addons as tfa\n",
    "\n",
    "# simple DNN head for YAMnet embeddings\n",
    "model = keras.Sequential(\n",
    "    [\n",
    "        Input(shape=(10, 1024)),\n",
    "        Dense(512, activation='relu'),\n",
    "        Dense(256, activation='relu'),\n",
    "        Dense(128, activation='relu'),\n",
    "        BatchNormalization(),\n",
    "        Dense(64, activation='relu'),\n",
    "        BatchNormalization(),\n",
    "        Dense(4, activation='sigmoid')\n",
    "    ]\n",
    ")\n",
    "\n",
    "model.compile(\n",
    "    optimizer='adam',\n",
    "    loss='binary_crossentropy',  \n",
    "    metrics=[\n",
    "        'accuracy', 'SparseCategoricalAccuracy', # testing\n",
    "        keras.metrics.Recall(thresholds=0.5),\n",
    "        keras.metrics.Precision(thresholds=0.5),\n",
    "        tf.keras.metrics.AUC()\n",
    "    ]\n",
    ")\n",
    "\n",
    "model.summary()"
   ]
  },
  {
   "cell_type": "code",
   "execution_count": 187,
   "metadata": {},
   "outputs": [
    {
     "name": "stdout",
     "output_type": "stream",
     "text": [
      "/4185 (per epoch)\n",
      "Epoch 1/50\n"
     ]
    },
    {
     "ename": "ValueError",
     "evalue": "in user code:\n\n    File \"/usr/local/lib/python3.8/dist-packages/keras/engine/training.py\", line 878, in train_function  *\n        return step_function(self, iterator)\n    File \"/usr/local/lib/python3.8/dist-packages/keras/engine/training.py\", line 867, in step_function  **\n        outputs = model.distribute_strategy.run(run_step, args=(data,))\n    File \"/usr/local/lib/python3.8/dist-packages/keras/engine/training.py\", line 860, in run_step  **\n        outputs = model.train_step(data)\n    File \"/usr/local/lib/python3.8/dist-packages/keras/engine/training.py\", line 817, in train_step\n        self.compiled_metrics.update_state(y, y_pred, sample_weight)\n    File \"/usr/local/lib/python3.8/dist-packages/keras/engine/compile_utils.py\", line 460, in update_state\n        metric_obj.update_state(y_t, y_p, sample_weight=mask)\n    File \"/usr/local/lib/python3.8/dist-packages/keras/utils/metrics_utils.py\", line 73, in decorated\n        update_op = update_state_fn(*args, **kwargs)\n    File \"/usr/local/lib/python3.8/dist-packages/keras/metrics.py\", line 177, in update_state_fn\n        return ag_update_state(*args, **kwargs)\n    File \"/usr/local/lib/python3.8/dist-packages/keras/metrics.py\", line 725, in update_state  **\n        matches = ag_fn(y_true, y_pred, **self._fn_kwargs)\n    File \"/usr/local/lib/python3.8/dist-packages/keras/metrics.py\", line 3601, in sparse_categorical_accuracy\n        y_true = tf.squeeze(y_true, [-1])\n\n    ValueError: Can not squeeze dim[2], expected a dimension of 1, got 4 for '{{node Squeeze}} = Squeeze[T=DT_FLOAT, squeeze_dims=[-1]](Cast_4)' with input shapes: [?,10,4].\n",
     "output_type": "error",
     "traceback": [
      "\u001b[0;31m---------------------------------------------------------------------------\u001b[0m",
      "\u001b[0;31mValueError\u001b[0m                                Traceback (most recent call last)",
      "Cell \u001b[0;32mIn[187], line 40\u001b[0m\n\u001b[1;32m     38\u001b[0m \u001b[38;5;66;03m# fit\u001b[39;00m\n\u001b[1;32m     39\u001b[0m \u001b[38;5;28mprint\u001b[39m(\u001b[38;5;124m\"\u001b[39m\u001b[38;5;124m/4185 (per epoch)\u001b[39m\u001b[38;5;124m\"\u001b[39m)\n\u001b[0;32m---> 40\u001b[0m history \u001b[38;5;241m=\u001b[39m \u001b[43mmodel\u001b[49m\u001b[38;5;241;43m.\u001b[39;49m\u001b[43mfit\u001b[49m\u001b[43m(\u001b[49m\n\u001b[1;32m     41\u001b[0m \u001b[43m    \u001b[49m\u001b[43mtrain_dataset\u001b[49m\u001b[38;5;241;43m.\u001b[39;49m\u001b[43mbatch\u001b[49m\u001b[43m(\u001b[49m\u001b[43mBATCH\u001b[49m\u001b[43m)\u001b[49m\u001b[38;5;241;43m.\u001b[39;49m\u001b[43mprefetch\u001b[49m\u001b[43m(\u001b[49m\u001b[38;5;241;43m100\u001b[39;49m\u001b[43m)\u001b[49m\u001b[43m,\u001b[49m\u001b[43m \u001b[49m\n\u001b[1;32m     42\u001b[0m \u001b[43m    \u001b[49m\u001b[43mvalidation_data\u001b[49m\u001b[38;5;241;43m=\u001b[39;49m\u001b[43mvalidation_dataset\u001b[49m\u001b[38;5;241;43m.\u001b[39;49m\u001b[43mbatch\u001b[49m\u001b[43m(\u001b[49m\u001b[43mBATCH\u001b[49m\u001b[43m)\u001b[49m\u001b[38;5;241;43m.\u001b[39;49m\u001b[43mprefetch\u001b[49m\u001b[43m(\u001b[49m\u001b[38;5;241;43m100\u001b[39;49m\u001b[43m)\u001b[49m\u001b[43m,\u001b[49m\n\u001b[1;32m     43\u001b[0m \u001b[43m    \u001b[49m\u001b[43mepochs\u001b[49m\u001b[38;5;241;43m=\u001b[39;49m\u001b[43mEPOCHS\u001b[49m\u001b[43m,\u001b[49m\u001b[43m \u001b[49m\n\u001b[1;32m     44\u001b[0m \u001b[43m    \u001b[49m\u001b[43mverbose\u001b[49m\u001b[38;5;241;43m=\u001b[39;49m\u001b[38;5;241;43m1\u001b[39;49m\u001b[43m,\u001b[49m\n\u001b[1;32m     45\u001b[0m \u001b[43m    \u001b[49m\u001b[43mcallbacks\u001b[49m\u001b[38;5;241;43m=\u001b[39;49m\u001b[43m[\u001b[49m\u001b[43mtensorboard_callback\u001b[49m\u001b[43m,\u001b[49m\u001b[43m \u001b[49m\u001b[43mcp_callback\u001b[49m\u001b[43m]\u001b[49m\u001b[43m)\u001b[49m\n\u001b[1;32m     47\u001b[0m df \u001b[38;5;241m=\u001b[39m pd\u001b[38;5;241m.\u001b[39mDataFrame(history\u001b[38;5;241m.\u001b[39mhistory)\n\u001b[1;32m     48\u001b[0m df\u001b[38;5;241m.\u001b[39mto_csv(\u001b[38;5;124m\"\u001b[39m\u001b[38;5;124mlogs/history.csv\u001b[39m\u001b[38;5;124m\"\u001b[39m)\n",
      "File \u001b[0;32m/usr/local/lib/python3.8/dist-packages/keras/utils/traceback_utils.py:67\u001b[0m, in \u001b[0;36mfilter_traceback.<locals>.error_handler\u001b[0;34m(*args, **kwargs)\u001b[0m\n\u001b[1;32m     65\u001b[0m \u001b[38;5;28;01mexcept\u001b[39;00m \u001b[38;5;167;01mException\u001b[39;00m \u001b[38;5;28;01mas\u001b[39;00m e:  \u001b[38;5;66;03m# pylint: disable=broad-except\u001b[39;00m\n\u001b[1;32m     66\u001b[0m   filtered_tb \u001b[38;5;241m=\u001b[39m _process_traceback_frames(e\u001b[38;5;241m.\u001b[39m__traceback__)\n\u001b[0;32m---> 67\u001b[0m   \u001b[38;5;28;01mraise\u001b[39;00m e\u001b[38;5;241m.\u001b[39mwith_traceback(filtered_tb) \u001b[38;5;28;01mfrom\u001b[39;00m \u001b[38;5;28;01mNone\u001b[39;00m\n\u001b[1;32m     68\u001b[0m \u001b[38;5;28;01mfinally\u001b[39;00m:\n\u001b[1;32m     69\u001b[0m   \u001b[38;5;28;01mdel\u001b[39;00m filtered_tb\n",
      "File \u001b[0;32m/usr/local/lib/python3.8/dist-packages/tensorflow/python/framework/func_graph.py:1129\u001b[0m, in \u001b[0;36mfunc_graph_from_py_func.<locals>.autograph_handler\u001b[0;34m(*args, **kwargs)\u001b[0m\n\u001b[1;32m   1127\u001b[0m \u001b[38;5;28;01mexcept\u001b[39;00m \u001b[38;5;167;01mException\u001b[39;00m \u001b[38;5;28;01mas\u001b[39;00m e:  \u001b[38;5;66;03m# pylint:disable=broad-except\u001b[39;00m\n\u001b[1;32m   1128\u001b[0m   \u001b[38;5;28;01mif\u001b[39;00m \u001b[38;5;28mhasattr\u001b[39m(e, \u001b[38;5;124m\"\u001b[39m\u001b[38;5;124mag_error_metadata\u001b[39m\u001b[38;5;124m\"\u001b[39m):\n\u001b[0;32m-> 1129\u001b[0m     \u001b[38;5;28;01mraise\u001b[39;00m e\u001b[38;5;241m.\u001b[39mag_error_metadata\u001b[38;5;241m.\u001b[39mto_exception(e)\n\u001b[1;32m   1130\u001b[0m   \u001b[38;5;28;01melse\u001b[39;00m:\n\u001b[1;32m   1131\u001b[0m     \u001b[38;5;28;01mraise\u001b[39;00m\n",
      "\u001b[0;31mValueError\u001b[0m: in user code:\n\n    File \"/usr/local/lib/python3.8/dist-packages/keras/engine/training.py\", line 878, in train_function  *\n        return step_function(self, iterator)\n    File \"/usr/local/lib/python3.8/dist-packages/keras/engine/training.py\", line 867, in step_function  **\n        outputs = model.distribute_strategy.run(run_step, args=(data,))\n    File \"/usr/local/lib/python3.8/dist-packages/keras/engine/training.py\", line 860, in run_step  **\n        outputs = model.train_step(data)\n    File \"/usr/local/lib/python3.8/dist-packages/keras/engine/training.py\", line 817, in train_step\n        self.compiled_metrics.update_state(y, y_pred, sample_weight)\n    File \"/usr/local/lib/python3.8/dist-packages/keras/engine/compile_utils.py\", line 460, in update_state\n        metric_obj.update_state(y_t, y_p, sample_weight=mask)\n    File \"/usr/local/lib/python3.8/dist-packages/keras/utils/metrics_utils.py\", line 73, in decorated\n        update_op = update_state_fn(*args, **kwargs)\n    File \"/usr/local/lib/python3.8/dist-packages/keras/metrics.py\", line 177, in update_state_fn\n        return ag_update_state(*args, **kwargs)\n    File \"/usr/local/lib/python3.8/dist-packages/keras/metrics.py\", line 725, in update_state  **\n        matches = ag_fn(y_true, y_pred, **self._fn_kwargs)\n    File \"/usr/local/lib/python3.8/dist-packages/keras/metrics.py\", line 3601, in sparse_categorical_accuracy\n        y_true = tf.squeeze(y_true, [-1])\n\n    ValueError: Can not squeeze dim[2], expected a dimension of 1, got 4 for '{{node Squeeze}} = Squeeze[T=DT_FLOAT, squeeze_dims=[-1]](Cast_4)' with input shapes: [?,10,4].\n"
     ]
    }
   ],
   "source": [
    "# 133921 chunks\n",
    "# 4185 batches\n",
    "\n",
    "from tensorflow.keras.callbacks import TensorBoard\n",
    "import pandas as pd\n",
    "\n",
    "model_dir = MODEL_DIR / \"50e_initial_ds\"\n",
    "model_dir.mkdir(exist_ok=True)\n",
    "EPOCHS = 50\n",
    "BATCH = 32\n",
    "\n",
    "## TODO active learning base\n",
    "# # start with 30% \n",
    "# split = 0.3 * \n",
    "# AL_labelled_chunks = random_chunks\n",
    "# AL_unlabelled_chunks = random_chunks # pretending these arent labeled for AL benchmarking\n",
    "\n",
    "# split\n",
    "n_chunks =  133921 \n",
    "test_cut = int(n_chunks * 0.8)\n",
    "valid_cut = int(cut * 0.8) \n",
    "\n",
    "train_valid_dataset = raw_dataset.take(test_cut)\n",
    "test_dataset = raw_dataset.skip(test_cut)\n",
    "train_dataset = train_valid_dataset.take(valid_cut)\n",
    "validation_dataset = train_valid_dataset.skip(valid_cut)\n",
    "\n",
    "# callbacks\n",
    "log_dir = model_dir / \"logs\"\n",
    "tensorboard_callback = TensorBoard(log_dir=log_dir)\n",
    "checkpoint_path = model_dir / \"training\" / \"model.ckpt\"    \n",
    "Path(checkpoint_path).parent.mkdir(exist_ok=True)                \n",
    "cp_callback = keras.callbacks.ModelCheckpoint(                   \n",
    "    filepath=checkpoint_path, save_weights_only=True, verbose=1  \n",
    ")                                                                \n",
    "\n",
    "# fit\n",
    "print(\"/4185 (per epoch)\")\n",
    "history = model.fit(\n",
    "    train_dataset.batch(BATCH).prefetch(100), \n",
    "    validation_data=validation_dataset.batch(BATCH).prefetch(100),\n",
    "    epochs=EPOCHS, \n",
    "    verbose=1,\n",
    "    callbacks=[tensorboard_callback, cp_callback])\n",
    "\n",
    "df = pd.DataFrame(history.history)\n",
    "df.to_csv(\"logs/history.csv\")\n",
    "model.save(model_dir / 'model.keras')"
   ]
  },
  {
   "cell_type": "code",
   "execution_count": 33,
   "metadata": {},
   "outputs": [
    {
     "data": {
      "text/plain": [
       "<Axes: >"
      ]
     },
     "execution_count": 33,
     "metadata": {},
     "output_type": "execute_result"
    },
    {
     "data": {
      "image/png": "[encoded data removed]",
      "text/plain": [
       "<Figure size 640x480 with 1 Axes>"
      ]
     },
     "metadata": {},
     "output_type": "display_data"
    }
   ],
   "source": [
    "pd.DataFrame(history.history).plot()"
   ]
  },
  {
   "cell_type": "code",
   "execution_count": 102,
   "metadata": {},
   "outputs": [],
   "source": [
    "import soundfile as sf\n",
    "\n",
    "def read_audio_section(filename, start_time, stop_time):\n",
    "    track = sf.SoundFile(filename)\n",
    "    can_seek = track.seekable()\n",
    "    if not can_seek:\n",
    "        raise ValueError(\"Not compatible with seeking\")\n",
    "\n",
    "    sr = track.samplerate\n",
    "    start_frame = sr * start_time\n",
    "    frames_to_read = sr * (stop_time - start_time)\n",
    "    track.seek(start_frame)\n",
    "    audio_section = track.read(frames_to_read)\n",
    "    return audio_section, sr"
   ]
  },
  {
   "cell_type": "code",
   "execution_count": null,
   "metadata": {},
   "outputs": [],
   "source": [
    "import numpy as np\n",
    "import librosa\n",
    "from util import WavDataset\n",
    "import matplotlib.pyplot as plt\n",
    "from matplotlib import patches\n",
    "\n",
    "def view_annotations(n=3):\n",
    "   \n",
    "    ds = WavDataset()\n",
    "    \n",
    "    \n",
    "    for c in random_chunks[:6000]:\n",
    "        g = hdf5_dataset[c]\n",
    "        X, Y = g['X'], g['Y']\n",
    "        \n",
    "        start_s = g.attrs['start_time']\n",
    "        end_s = g.attrs['end_time']\n",
    "        rec = g.attrs['recording']\n",
    "        label_counts = g.attrs['classwize_labeled_frame_counts']\n",
    "        if sum(label_counts) == 0:\n",
    "            continue # ignore if not annotated\n",
    "            \n",
    "        print(f\"label counts = {label_counts}\")\n",
    "        \n",
    "        # spectrogram from wavfile\n",
    "        y, sr = read_audio_section(ds[rec], start_s, end_s)\n",
    "        y = librosa.resample(y, orig_sr=sr, target_sr=16_000)\n",
    "        S = librosa.stft(y)\n",
    "        S = librosa.power_to_db(S, ref=np.max)\n",
    "        librosa.display.specshow(S, y_axis='linear')\n",
    "        \n",
    "        # predictions for train ds\n",
    "        X = np.expand_dims(X, axis=0) # for batch dim\n",
    "        Y_pred = model(X)[0]\n",
    "        Y_pred = np.array(Y_pred > 0.03)\n",
    "        if Y_pred.sum() == 0:\n",
    "            print('failure')\n",
    "            continue\n",
    "\n",
    "        row_idx, col_idx = np.where(Y_pred == 1)\n",
    "\n",
    "        # lines\n",
    "        frame_hop = 0.5\n",
    "        for label_idx, row_idx in zip(col_idx, row_idx):\n",
    "            seconds = frame_hop * row_idx\n",
    "            spec_frame = librosa.time_to_frames(seconds)\n",
    "            width = librosa.time_to_frames(0.5)\n",
    "            \n",
    "            print(spec_frame)\n",
    "\n",
    "            #          trill   nr      traig    upsweep\n",
    "            colours = ['red', 'blue', 'green', 'yellow']\n",
    "            # plt.vlines(\n",
    "            #     spec_frame, \n",
    "            #     linestyles='dashed', \n",
    "            #     colors=colours[label_idx], \n",
    "            #     ymin=0, ymax=8_000, label='TEST')\n",
    "\n",
    "            rect = patches.Rectangle(\n",
    "                (spec_frame - width, 0),  \n",
    "                width, \n",
    "                20_000,  # Height\n",
    "                linewidth=1,\n",
    "                edgecolor='none',\n",
    "                facecolor=colours[label_idx],\n",
    "                alpha=0.2 \n",
    "            )\n",
    "            plt.gca().add_patch(rect)\n",
    "\n",
    "        \n",
    "        plt.show()\n",
    "        \n",
    "view_annotations()\n"
   ]
  },
  {
   "cell_type": "code",
   "execution_count": null,
   "metadata": {},
   "outputs": [],
   "source": []
  }
 ],
 "metadata": {
  "kernelspec": {
   "display_name": "Python 3 (ipykernel)",
   "language": "python",
   "name": "python3"
  },
  "language_info": {
   "codemirror_mode": {
    "name": "ipython",
    "version": 3
   },
   "file_extension": ".py",
   "mimetype": "text/x-python",
   "name": "python",
   "nbconvert_exporter": "python",
   "pygments_lexer": "ipython3",
   "version": "3.8.10"
  }
 },
 "nbformat": 4,
 "nbformat_minor": 4
}
