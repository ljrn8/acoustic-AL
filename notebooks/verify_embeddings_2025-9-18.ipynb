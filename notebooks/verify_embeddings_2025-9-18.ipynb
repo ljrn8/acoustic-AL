{
 "cells": [
  {
   "cell_type": "code",
   "execution_count": 1,
   "id": "746c9e50-5feb-431d-9f27-a091c3276857",
   "metadata": {},
   "outputs": [
    {
     "name": "stdout",
     "output_type": "stream",
     "text": [
      "The history saving thread hit an unexpected error (OperationalError('attempt to write a readonly database')).History will not be written to the database.\n"
     ]
    }
   ],
   "source": [
    "%load_ext autoreload\n",
    "%autoreload 2\n",
    "\n",
    "import numpy as np\n",
    "\n",
    "import librosa \n",
    "from dataset import WavDataset\n",
    "from config import *\n",
    "import matplotlib.pyplot as plt\n",
    "\n",
    "import h5py\n",
    "from pathlib import Path\n",
    "from config import *\n",
    "import pickle"
   ]
  },
  {
   "cell_type": "code",
   "execution_count": 2,
   "id": "a783674d-d64d-484a-8455-cb0d25aaa250",
   "metadata": {},
   "outputs": [
    {
     "data": {
      "text/plain": [
       "(1249, 1024)"
      ]
     },
     "execution_count": 2,
     "metadata": {},
     "output_type": "execute_result"
    }
   ],
   "source": [
    "hdf5_dataset = h5py.File(INTERMEDIATE / 'embeddings.hdf5', 'r')\n",
    "recs = list(hdf5_dataset)\n",
    "annotated = [rec for rec in recs if np.array(hdf5_dataset[rec]['Y']).sum() > 0]\n",
    "hdf5_dataset[annotated[0]]['X'].shape"
   ]
  },
  {
   "cell_type": "code",
   "execution_count": 3,
   "id": "e1f8f8a0-a159-41c5-9aed-d7d33385d44b",
   "metadata": {
    "scrolled": true
   },
   "outputs": [
    {
     "name": "stderr",
     "output_type": "stream",
     "text": [
      " 37%|██████████████████████████████▎                                                   | 37/100 [00:10<00:17,  3.69it/s]\n"
     ]
    },
    {
     "ename": "TypeError",
     "evalue": "boolean index did not match indexed array",
     "output_type": "error",
     "traceback": [
      "\u001b[0;31m---------------------------------------------------------------------------\u001b[0m",
      "\u001b[0;31mTypeError\u001b[0m                                 Traceback (most recent call last)",
      "Cell \u001b[0;32mIn[3], line 26\u001b[0m\n\u001b[1;32m     24\u001b[0m     mask \u001b[38;5;241m=\u001b[39m [l\u001b[38;5;241m.\u001b[39many() \u001b[38;5;28;01mfor\u001b[39;00m l \u001b[38;5;129;01min\u001b[39;00m labels]\n\u001b[1;32m     25\u001b[0m     l\u001b[38;5;241m.\u001b[39mappend(labels[mask, :])\n\u001b[0;32m---> 26\u001b[0m     e\u001b[38;5;241m.\u001b[39mappend(\u001b[43membeddings\u001b[49m\u001b[43m[\u001b[49m\u001b[43mmask\u001b[49m\u001b[43m,\u001b[49m\u001b[43m \u001b[49m\u001b[43m:\u001b[49m\u001b[43m]\u001b[49m)\n\u001b[1;32m     28\u001b[0m all_e \u001b[38;5;241m=\u001b[39m np\u001b[38;5;241m.\u001b[39mconcatenate(e, axis\u001b[38;5;241m=\u001b[39m\u001b[38;5;241m0\u001b[39m)\n\u001b[1;32m     29\u001b[0m all_l \u001b[38;5;241m=\u001b[39m np\u001b[38;5;241m.\u001b[39mconcatenate(l, axis\u001b[38;5;241m=\u001b[39m\u001b[38;5;241m0\u001b[39m)\n",
      "File \u001b[0;32mh5py/_objects.pyx:54\u001b[0m, in \u001b[0;36mh5py._objects.with_phil.wrapper\u001b[0;34m()\u001b[0m\n",
      "File \u001b[0;32mh5py/_objects.pyx:55\u001b[0m, in \u001b[0;36mh5py._objects.with_phil.wrapper\u001b[0;34m()\u001b[0m\n",
      "File \u001b[0;32m~/.local/lib/python3.8/site-packages/h5py/_hl/dataset.py:831\u001b[0m, in \u001b[0;36mDataset.__getitem__\u001b[0;34m(self, args, new_dtype)\u001b[0m\n\u001b[1;32m    826\u001b[0m     \u001b[38;5;28;01mreturn\u001b[39;00m arr\n\u001b[1;32m    828\u001b[0m \u001b[38;5;66;03m# === Everything else ===================\u001b[39;00m\n\u001b[1;32m    829\u001b[0m \n\u001b[1;32m    830\u001b[0m \u001b[38;5;66;03m# Perform the dataspace selection.\u001b[39;00m\n\u001b[0;32m--> 831\u001b[0m selection \u001b[38;5;241m=\u001b[39m \u001b[43msel\u001b[49m\u001b[38;5;241;43m.\u001b[39;49m\u001b[43mselect\u001b[49m\u001b[43m(\u001b[49m\u001b[38;5;28;43mself\u001b[39;49m\u001b[38;5;241;43m.\u001b[39;49m\u001b[43mshape\u001b[49m\u001b[43m,\u001b[49m\u001b[43m \u001b[49m\u001b[43margs\u001b[49m\u001b[43m,\u001b[49m\u001b[43m \u001b[49m\u001b[43mdataset\u001b[49m\u001b[38;5;241;43m=\u001b[39;49m\u001b[38;5;28;43mself\u001b[39;49m\u001b[43m)\u001b[49m\n\u001b[1;32m    833\u001b[0m \u001b[38;5;28;01mif\u001b[39;00m selection\u001b[38;5;241m.\u001b[39mnselect \u001b[38;5;241m==\u001b[39m \u001b[38;5;241m0\u001b[39m:\n\u001b[1;32m    834\u001b[0m     \u001b[38;5;28;01mreturn\u001b[39;00m numpy\u001b[38;5;241m.\u001b[39mzeros(selection\u001b[38;5;241m.\u001b[39marray_shape, dtype\u001b[38;5;241m=\u001b[39mnew_dtype)\n",
      "File \u001b[0;32m~/.local/lib/python3.8/site-packages/h5py/_hl/selections.py:82\u001b[0m, in \u001b[0;36mselect\u001b[0;34m(shape, args, dataset)\u001b[0m\n\u001b[1;32m     79\u001b[0m     space \u001b[38;5;241m=\u001b[39m h5s\u001b[38;5;241m.\u001b[39mcreate_simple(shape)\n\u001b[1;32m     80\u001b[0m     selector \u001b[38;5;241m=\u001b[39m _selector\u001b[38;5;241m.\u001b[39mSelector(space)\n\u001b[0;32m---> 82\u001b[0m \u001b[38;5;28;01mreturn\u001b[39;00m \u001b[43mselector\u001b[49m\u001b[38;5;241;43m.\u001b[39;49m\u001b[43mmake_selection\u001b[49m\u001b[43m(\u001b[49m\u001b[43margs\u001b[49m\u001b[43m)\u001b[49m\n",
      "File \u001b[0;32mh5py/_selector.pyx:282\u001b[0m, in \u001b[0;36mh5py._selector.Selector.make_selection\u001b[0;34m()\u001b[0m\n",
      "File \u001b[0;32mh5py/_selector.pyx:194\u001b[0m, in \u001b[0;36mh5py._selector.Selector.apply_args\u001b[0;34m()\u001b[0m\n",
      "\u001b[0;31mTypeError\u001b[0m: boolean index did not match indexed array"
     ]
    }
   ],
   "source": [
    "import numpy as np\n",
    "import matplotlib.pyplot as plt\n",
    "from sklearn.decomposition import PCA\n",
    "from sklearn.manifold import TSNE\n",
    "from tqdm import tqdm\n",
    "\n",
    "def reduce_dimensions(embeddings, n_pca_components=50, n_tsne_components=3):\n",
    "    pca = PCA(n_components=n_pca_components, random_state=42)\n",
    "    pca_result = pca.fit_transform(embeddings)\n",
    "    tsne = TSNE(n_components=n_tsne_components, random_state=42)\n",
    "    tsne_result = tsne.fit_transform(pca_result)\n",
    "    return tsne_result\n",
    "\n",
    "def visualize_embeddings(tsne_result, labels):\n",
    "    plt.figure(figsize=(10, 7))\n",
    "    scatter = plt.scatter(tsne_result[:, 0], tsne_result[:, 1], c=labels, cmap='tab10', alpha=0.7)\n",
    "    plt.colorbar(scatter)\n",
    "\n",
    "l, e = [], []\n",
    "for i in tqdm(np.random.randint(1, 100, size=100)):\n",
    "    rec = annotated[i]\n",
    "    embeddings = hdf5_dataset[rec]['X']\n",
    "    labels = hdf5_dataset[rec]['Y']\n",
    "    mask = [l.any() for l in labels]\n",
    "    l.append(labels[mask, :])\n",
    "    e.append(embeddings[mask, :])\n",
    "\n",
    "all_e = np.concatenate(e, axis=0)\n",
    "all_l = np.concatenate(l, axis=0)\n",
    "print(\n",
    "    all_e.shape, all_l.shape\n",
    ")"
   ]
  },
  {
   "cell_type": "code",
   "execution_count": null,
   "id": "bda4b384-5ce3-4363-89c2-9dcb8adec027",
   "metadata": {},
   "outputs": [],
   "source": [
    "tsne_result = reduce_dimensions(all_e)\n",
    "visualize_embeddings(tsne_result, all_l)\n",
    "plt.show()"
   ]
  },
  {
   "cell_type": "code",
   "execution_count": null,
   "id": "c0ab1b1b-0e46-48b8-ae65-ef6dc3125106",
   "metadata": {},
   "outputs": [],
   "source": [
    "from sklearn.cluster import KMeans\n",
    "from sklearn.metrics import silhouette_score\n",
    "\n",
    "def cluster_analysis(embeddings, num_clusters):\n",
    "    kmeans = KMeans(n_clusters=num_clusters, random_state=42)\n",
    "    cluster_labels = kmeans.fit_predict(embeddings)\n",
    "    silhouette_avg = silhouette_score(embeddings, cluster_labels)\n",
    "    print(f'Silhouette Score: {silhouette_avg}')\n",
    "    return cluster_labels\n",
    "\n",
    "cluster_labels = cluster_analysis(all_e, num_clusters=4)"
   ]
  }
 ],
 "metadata": {
  "kernelspec": {
   "display_name": "Python 3 (ipykernel)",
   "language": "python",
   "name": "python3"
  },
  "language_info": {
   "codemirror_mode": {
    "name": "ipython",
    "version": 3
   },
   "file_extension": ".py",
   "mimetype": "text/x-python",
   "name": "python",
   "nbconvert_exporter": "python",
   "pygments_lexer": "ipython3",
   "version": "3.8.10"
  }
 },
 "nbformat": 4,
 "nbformat_minor": 5
}
