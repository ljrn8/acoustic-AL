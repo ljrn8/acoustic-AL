{
 "cells": [
  {
   "cell_type": "code",
   "execution_count": 8,
   "id": "c51859fe-4055-4214-8502-500286c31435",
   "metadata": {},
   "outputs": [
    {
     "name": "stdout",
     "output_type": "stream",
     "text": [
      "The autoreload extension is already loaded. To reload it, use:\n",
      "  %reload_ext autoreload\n"
     ]
    }
   ],
   "source": [
    "%load_ext autoreload\n",
    "%autoreload 2\n",
    "\n",
    "import numpy as np\n",
    "from config import *\n",
    "from util import *\n",
    "from preprocessing import *\n",
    "import pickle"
   ]
  },
  {
   "cell_type": "code",
   "execution_count": 6,
   "id": "390981f1-cdbd-4ab6-8840-c94aa8b4c789",
   "metadata": {},
   "outputs": [],
   "source": [
    "X = np.load(INTERMEDIATE / 'logmel.npy')\n",
    "Y = np.load(INTERMEDIATE / 'logmel_labels.npy')"
   ]
  },
  {
   "cell_type": "code",
   "execution_count": null,
   "id": "25c91270-3435-41a7-ab38-60a8cf6f2ff2",
   "metadata": {},
   "outputs": [],
   "source": [
    "def save_metrics(LB_metrics, working_dir):\n",
    "    def plot_pr(name, labels, predictions, **kwargs):\n",
    "        prec, rec, _ = precision_recall_curve(labels, predictions)\n",
    "        plt.plot(prec, rec, label=name, linewidth=2, **kwargs)\n",
    "        plt.xlabel('Precision')\n",
    "        plt.ylabel('Recall')\n",
    "        plt.xlim([0,1])\n",
    "        plt.ylim([0,1])\n",
    "        plt.grid(True)\n",
    "\n",
    "    # save the metrics here aswell\n",
    "    with open(working_dir / 'metrics.pkl', 'rb') as f:\n",
    "        pickle.dump(LB_metrics, f)\n",
    "    \n",
    "    # classwize PR curve\n",
    "    label_order = DEFAULT_TOKENS.keys()\n",
    "    for i, name in enumerate(label_order):\n",
    "        plot_pr(name, test_Y[:, i], pred_Y[:, i])\n",
    "        plt.savefig(working_dir / f'{name} PR Curve.png'))\n",
    "        plt.show()\n",
    "\n",
    "    # AP curves\n",
    "    x = [lb for lb, _ in LB_metrics]\n",
    "    for i, l in enumerate(LABELS):\n",
    "        y = [m[l]['auc_pr'] for _, m in LB_metrics]\n",
    "        title = f'AP of {l} for Random Sampling (oversampled)'\n",
    "        plt.plot(x, y)\n",
    "        plt.ylim(0, 1)\n",
    "        plt.title(title)\n",
    "        plt.savefig(working_dir / f'{title}.png'))\n",
    "        plt.show()\n",
    "\n",
    "    # mAP curve\n",
    "    AP = np.zeros(shape=(4, len(x)))\n",
    "    for i, l in enumerate(LABELS):\n",
    "        AP[i] = np.array([m[l]['auc_pr'] for _, m in LB_metrics])\n",
    "    \n",
    "    title = f'mAP of {l} for Random Sampling (oversampled)'\n",
    "    plt.plot(x, AP.mean(axis=0))\n",
    "    plt.ylim(0, 1)\n",
    "    plt.title(title)\n",
    "    plt.savefig(working_dir / f'{title}.png'))\n",
    "    plt.show()\n",
    "\n"
   ]
  },
  {
   "cell_type": "code",
   "execution_count": null,
   "id": "db77e17b-0be9-4b43-a950-04a04ebbed55",
   "metadata": {},
   "outputs": [],
   "source": [
    "working_dir = INTERMEDIATE / 'AL' / 'LC_oversampled'\n",
    "\n",
    "def LC_sampling(classifier, X_unlabelled, n_samples):\n",
    "    probabilities = classifier.predict_proba(X_unlabelled)\n",
    "    # Calculate least confidence (1 - max probability)\n",
    "    least_confidence = 1 - np.max(probabilities, axis=1)\n",
    "    uncertain_indices = np.argsort(least_confidence)\n",
    "    selected_indices = uncertain_indices[:n_samples]\n",
    "    return selected_indices\n",
    "\n",
    "metrics = AL_resnet16_simulation(LC_sampling, X, Y, \n",
    "                                 metrics_pkl=working_dir / 'metrics.pkl', \n",
    "                                 batch=32, n_queries=200, oversample=True)\n",
    "\n",
    "\n"
   ]
  }
 ],
 "metadata": {
  "kernelspec": {
   "display_name": "Python 3 (ipykernel)",
   "language": "python",
   "name": "python3"
  },
  "language_info": {
   "codemirror_mode": {
    "name": "ipython",
    "version": 3
   },
   "file_extension": ".py",
   "mimetype": "text/x-python",
   "name": "python",
   "nbconvert_exporter": "python",
   "pygments_lexer": "ipython3",
   "version": "3.9.16"
  }
 },
 "nbformat": 4,
 "nbformat_minor": 5
}
