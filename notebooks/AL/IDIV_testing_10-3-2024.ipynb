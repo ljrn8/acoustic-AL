{
 "cells": [
  {
   "cell_type": "code",
   "execution_count": 1,
   "id": "8fc193b4-c0a5-4c3d-aa9c-fbef97008019",
   "metadata": {},
   "outputs": [
    {
     "name": "stderr",
     "output_type": "stream",
     "text": [
      "2024-10-03 11:30:11.647702: E external/local_xla/xla/stream_executor/cuda/cuda_dnn.cc:9261] Unable to register cuDNN factory: Attempting to register factory for plugin cuDNN when one has already been registered\n",
      "2024-10-03 11:30:11.647750: E external/local_xla/xla/stream_executor/cuda/cuda_fft.cc:607] Unable to register cuFFT factory: Attempting to register factory for plugin cuFFT when one has already been registered\n",
      "2024-10-03 11:30:11.780140: E external/local_xla/xla/stream_executor/cuda/cuda_blas.cc:1515] Unable to register cuBLAS factory: Attempting to register factory for plugin cuBLAS when one has already been registered\n",
      "2024-10-03 11:30:12.039303: I tensorflow/core/platform/cpu_feature_guard.cc:182] This TensorFlow binary is optimized to use available CPU instructions in performance-critical operations.\n",
      "To enable the following instructions: AVX2 AVX512F FMA, in other operations, rebuild TensorFlow with the appropriate compiler flags.\n",
      "2024-10-03 11:30:13.649648: W tensorflow/compiler/tf2tensorrt/utils/py_utils.cc:38] TF-TRT Warning: Could not find TensorRT\n"
     ]
    }
   ],
   "source": [
    "%load_ext autoreload\n",
    "%autoreload 2\n",
    "\n",
    "from preprocessing import oversample_minority_classes\n",
    "import numpy as np; np.random.seed(0)\n",
    "from config import OUTPUT_DIR\n",
    "from util import *\n",
    "from AL import AL_split, mAP_and_APs, evaluation_dict, AL_resnet16_simulation\n",
    "import pickle\n",
    "\n",
    "from config import * \n",
    "from util import *\n",
    "from preprocessing import oversample_minority_classes, build_resnet16\n",
    "import numpy as np\n",
    "\n",
    "import numpy as np\n",
    "import matplotlib.pyplot as plt\n",
    "from tqdm import tqdm\n",
    "from sklearn.metrics import precision_recall_curve\n",
    "from scikeras.wrappers import KerasClassifier\n",
    "from modAL import ActiveLearner\n",
    "import pickle\n",
    "from tensorflow import keras\n",
    "import keras_cv\n",
    "from keras import metrics\n",
    "from sklearn.metrics import f1_score, precision_score, recall_score, average_precision_score\n",
    "\n",
    "from util import MULTICLASS_LABELS\n",
    "from sklearn.metrics import average_precision_score"
   ]
  },
  {
   "cell_type": "code",
   "execution_count": 2,
   "id": "fa4ec7b8-d834-4764-ad72-f539fcf41f30",
   "metadata": {},
   "outputs": [],
   "source": [
    "X = np.load(INTERMEDIATE / 'logmel_multiclass_noise.npy')\n",
    "Y = np.load(INTERMEDIATE / 'logmel_labels_multiclass_noise.npy')"
   ]
  },
  {
   "cell_type": "code",
   "execution_count": 10,
   "id": "390d2e4b-cd92-4707-a8dc-7b1bdd56662a",
   "metadata": {},
   "outputs": [],
   "source": [
    "from sklearn.metrics.pairwise import cosine_similarity, pairwise_distances\n",
    "from scipy.stats import entropy\n",
    "\n",
    "def compute_entropy(probabilities):\n",
    "    return -np.sum(probabilities * np.log(probabilities + 1e-10), axis=1)\n",
    "\n",
    "def information_diversity(classifier, unlabeled_X, n_instances=5, alpha=1, perc=0.3):\n",
    "    l = unlabeled_X.shape[0]\n",
    "    \n",
    "    # randomly sample a portion of X\n",
    "    i = np.random.choice(range(l), size=int(perc*l))\n",
    "    limited_X = unlabeled_X[i]\n",
    "    \n",
    "    probs = model.predict(limited_X, verbose=2)\n",
    "    entropies = compute_entropy(probs)\n",
    "    \n",
    "    flat_X = np.array([x.flatten() for x in limited_X])\n",
    "    similarities = pairwise_distances(flat_X, flat_X) # TODO differnece between unl and labeled?\n",
    "\n",
    "    avg_similarities = np.mean(similarities, axis=1)\n",
    "    \n",
    "    combined_scores = entropies - alpha*avg_similarities  \n",
    "    selected_indices = np.argsort(-combined_scores)[:n_instances]\n",
    "    \n",
    "    return limited_X[selected_indices]\n",
    "\n"
   ]
  },
  {
   "cell_type": "code",
   "execution_count": 4,
   "id": "0f53fd48-ced4-4406-bd39-bbf945476ed6",
   "metadata": {},
   "outputs": [],
   "source": [
    "from AL import build_resnet16\n",
    "\n",
    "model = build_resnet16(input_shape=(40, 107, 1))"
   ]
  },
  {
   "cell_type": "code",
   "execution_count": 5,
   "id": "a22f9f67-b389-4c34-aef3-e0495dd5d51d",
   "metadata": {},
   "outputs": [
    {
     "data": {
      "text/plain": [
       "(211636, 40, 107)"
      ]
     },
     "execution_count": 5,
     "metadata": {},
     "output_type": "execute_result"
    }
   ],
   "source": [
    "X.shape"
   ]
  },
  {
   "cell_type": "code",
   "execution_count": null,
   "id": "a7233176-0e5f-45f7-ade1-76ff12a0555f",
   "metadata": {
    "scrolled": true
   },
   "outputs": [
    {
     "name": "stdout",
     "output_type": "stream",
     "text": [
      "993/993 - 13s - 13ms/step\n"
     ]
    }
   ],
   "source": [
    "X_c = X[:int (211636 * 0.5) ]\n",
    "\n",
    "information_diversity(model, X_c, n_instances=5, alpha=1)"
   ]
  },
  {
   "cell_type": "code",
   "execution_count": null,
   "id": "57c2753b-c11b-4e45-a294-7bf9ab1655fe",
   "metadata": {},
   "outputs": [],
   "source": []
  }
 ],
 "metadata": {
  "kernelspec": {
   "display_name": "Python 3 (ipykernel)",
   "language": "python",
   "name": "python3"
  },
  "language_info": {
   "codemirror_mode": {
    "name": "ipython",
    "version": 3
   },
   "file_extension": ".py",
   "mimetype": "text/x-python",
   "name": "python",
   "nbconvert_exporter": "python",
   "pygments_lexer": "ipython3",
   "version": "3.9.16"
  }
 },
 "nbformat": 4,
 "nbformat_minor": 5
}
