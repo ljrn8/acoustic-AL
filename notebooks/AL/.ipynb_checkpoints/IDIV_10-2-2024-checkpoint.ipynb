{
 "cells": [
  {
   "cell_type": "code",
   "execution_count": 1,
   "id": "c51859fe-4055-4214-8502-500286c31435",
   "metadata": {},
   "outputs": [
    {
     "name": "stderr",
     "output_type": "stream",
     "text": [
      "2024-10-02 06:51:05.886572: E external/local_xla/xla/stream_executor/cuda/cuda_dnn.cc:9261] Unable to register cuDNN factory: Attempting to register factory for plugin cuDNN when one has already been registered\n",
      "2024-10-02 06:51:05.886624: E external/local_xla/xla/stream_executor/cuda/cuda_fft.cc:607] Unable to register cuFFT factory: Attempting to register factory for plugin cuFFT when one has already been registered\n",
      "2024-10-02 06:51:06.025308: E external/local_xla/xla/stream_executor/cuda/cuda_blas.cc:1515] Unable to register cuBLAS factory: Attempting to register factory for plugin cuBLAS when one has already been registered\n",
      "2024-10-02 06:51:06.291975: I tensorflow/core/platform/cpu_feature_guard.cc:182] This TensorFlow binary is optimized to use available CPU instructions in performance-critical operations.\n",
      "To enable the following instructions: AVX2 AVX512F FMA, in other operations, rebuild TensorFlow with the appropriate compiler flags.\n",
      "2024-10-02 06:51:07.990465: W tensorflow/compiler/tf2tensorrt/utils/py_utils.cc:38] TF-TRT Warning: Could not find TensorRT\n"
     ]
    }
   ],
   "source": [
    "%load_ext autoreload\n",
    "%autoreload 2\n",
    "\n",
    "from preprocessing import oversample_minority_classes\n",
    "import numpy as np; np.random.seed(0)\n",
    "from config import OUTPUT_DIR\n",
    "from util import *\n",
    "from AL import AL_split, mAP_and_APs, evaluation_dict, AL_resnet16_simulation\n",
    "import pickle"
   ]
  },
  {
   "cell_type": "code",
   "execution_count": 2,
   "id": "390981f1-cdbd-4ab6-8840-c94aa8b4c789",
   "metadata": {},
   "outputs": [],
   "source": [
    "X = np.load(INTERMEDIATE / 'logmel_multiclass_noise.npy')\n",
    "Y = np.load(INTERMEDIATE / 'logmel_labels_multiclass_noise.npy')"
   ]
  },
  {
   "cell_type": "code",
   "execution_count": null,
   "id": "428ebc44-2e08-4c7e-8a4d-16571b42be19",
   "metadata": {},
   "outputs": [
    {
     "name": "stderr",
     "output_type": "stream",
     "text": [
      "2024-10-02 06:51:43.883698: W external/local_tsl/tsl/framework/cpu_allocator_impl.cc:83] Allocation of 583124320 exceeds 10% of free system memory.\n",
      "2024-10-02 06:51:44.305671: W external/local_tsl/tsl/framework/cpu_allocator_impl.cc:83] Allocation of 583124320 exceeds 10% of free system memory.\n"
     ]
    },
    {
     "name": "stdout",
     "output_type": "stream",
     "text": [
      "1065/1065 - 69s - 65ms/step - auc_pr: 0.9933 - loss: 0.0197 - precision: 0.9841 - recall: 0.9552\n",
      "query size: 5110\n"
     ]
    },
    {
     "name": "stderr",
     "output_type": "stream",
     "text": [
      "  0%|                                                                                                              | 0/10 [00:00<?, ?it/s]"
     ]
    },
    {
     "name": "stdout",
     "output_type": "stream",
     "text": [
      "Query no. 1/10\n"
     ]
    },
    {
     "name": "stderr",
     "output_type": "stream",
     "text": [
      "2024-10-02 06:52:54.725208: W external/local_tsl/tsl/framework/cpu_allocator_impl.cc:83] Allocation of 2332993760 exceeds 10% of free system memory.\n",
      "2024-10-02 06:52:56.342127: W external/local_tsl/tsl/framework/cpu_allocator_impl.cc:83] Allocation of 2332993760 exceeds 10% of free system memory.\n"
     ]
    }
   ],
   "source": [
    "from sklearn.metrics.pairwise import cosine_similarity\n",
    "from scipy.stats import entropy\n",
    "\n",
    "def compute_entropy(probabilities):\n",
    "    return -np.sum(probabilities * np.log(probabilities + 1e-10), axis=1)\n",
    "\n",
    "def information_diversity(classifier, unlabeled_X, labeled_X, n_instances=5, alpha=1):\n",
    "    probs = classifier.predict_proba(unlabeled_X)  \n",
    "    entropies = compute_entropy(probs)\n",
    "    \n",
    "    # If no labeled samples, just return the most uncertain samples\n",
    "    if len(labeled_X) == 0:\n",
    "        selected_indices = np.argsort(-entropies)[:num_samples]\n",
    "        return selected_indices\n",
    "    \n",
    "    similarities = cosine_similarity(unlabeled_X, labeled_X)\n",
    "    avg_similarities = np.mean(similarities, axis=1)\n",
    "    combined_scores = entropies - alpha*avg_similarities  \n",
    "    selected_indices = np.argsort(-combined_scores)[:num_samples]\n",
    "    return selected_indices, unlabeled_X[selected_indices]\n",
    "\n",
    "\n",
    "classifier, metrics = AL_resnet16_simulation(\n",
    "    information_diversity, \n",
    "    X, Y, \n",
    "    working_dir=OUTPUT_DIR / 'AL' / 'IDiv_test_10_0.3_', \n",
    "    identity='IDiv_test_10_0.3_',\n",
    "    budget_cap=0.3,\n",
    "    n_queries=10, \n",
    "    oversample=True,\n",
    "    batch=32, \n",
    "    model_file=MODEL_DIR / 'init_trained.keras'\n",
    ")"
   ]
  },
  {
   "cell_type": "code",
   "execution_count": null,
   "id": "71d7b8d1-aea4-410c-b67b-7132356e19f4",
   "metadata": {},
   "outputs": [],
   "source": []
  },
  {
   "cell_type": "code",
   "execution_count": null,
   "id": "e3849d7f-3054-4050-86a8-73f0e12b0fea",
   "metadata": {},
   "outputs": [],
   "source": []
  }
 ],
 "metadata": {
  "kernelspec": {
   "display_name": "Python 3 (ipykernel)",
   "language": "python",
   "name": "python3"
  },
  "language_info": {
   "codemirror_mode": {
    "name": "ipython",
    "version": 3
   },
   "file_extension": ".py",
   "mimetype": "text/x-python",
   "name": "python",
   "nbconvert_exporter": "python",
   "pygments_lexer": "ipython3",
   "version": "3.9.16"
  }
 },
 "nbformat": 4,
 "nbformat_minor": 5
}
