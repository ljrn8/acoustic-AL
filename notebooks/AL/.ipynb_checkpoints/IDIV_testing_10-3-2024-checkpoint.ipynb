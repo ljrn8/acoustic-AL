{
 "cells": [
  {
   "cell_type": "code",
   "execution_count": 1,
   "id": "8fc193b4-c0a5-4c3d-aa9c-fbef97008019",
   "metadata": {},
   "outputs": [
    {
     "name": "stderr",
     "output_type": "stream",
     "text": [
      "2024-10-03 11:17:39.435639: E external/local_xla/xla/stream_executor/cuda/cuda_dnn.cc:9261] Unable to register cuDNN factory: Attempting to register factory for plugin cuDNN when one has already been registered\n",
      "2024-10-03 11:17:39.435673: E external/local_xla/xla/stream_executor/cuda/cuda_fft.cc:607] Unable to register cuFFT factory: Attempting to register factory for plugin cuFFT when one has already been registered\n",
      "2024-10-03 11:17:39.440256: E external/local_xla/xla/stream_executor/cuda/cuda_blas.cc:1515] Unable to register cuBLAS factory: Attempting to register factory for plugin cuBLAS when one has already been registered\n",
      "2024-10-03 11:17:39.454179: I tensorflow/core/platform/cpu_feature_guard.cc:182] This TensorFlow binary is optimized to use available CPU instructions in performance-critical operations.\n",
      "To enable the following instructions: AVX2 AVX512F FMA, in other operations, rebuild TensorFlow with the appropriate compiler flags.\n",
      "2024-10-03 11:17:40.782567: W tensorflow/compiler/tf2tensorrt/utils/py_utils.cc:38] TF-TRT Warning: Could not find TensorRT\n"
     ]
    }
   ],
   "source": [
    "%load_ext autoreload\n",
    "%autoreload 2\n",
    "\n",
    "from preprocessing import oversample_minority_classes\n",
    "import numpy as np; np.random.seed(0)\n",
    "from config import OUTPUT_DIR\n",
    "from util import *\n",
    "from AL import AL_split, mAP_and_APs, evaluation_dict, AL_resnet16_simulation\n",
    "import pickle\n",
    "\n",
    "from config import * \n",
    "from util import *\n",
    "from preprocessing import oversample_minority_classes, build_resnet16\n",
    "import numpy as np\n",
    "\n",
    "import numpy as np\n",
    "import matplotlib.pyplot as plt\n",
    "from tqdm import tqdm\n",
    "from sklearn.metrics import precision_recall_curve\n",
    "from scikeras.wrappers import KerasClassifier\n",
    "from modAL import ActiveLearner\n",
    "import pickle\n",
    "from tensorflow import keras\n",
    "import keras_cv\n",
    "from keras import metrics\n",
    "from sklearn.metrics import f1_score, precision_score, recall_score, average_precision_score\n",
    "\n",
    "from util import MULTICLASS_LABELS\n",
    "from sklearn.metrics import average_precision_score"
   ]
  },
  {
   "cell_type": "code",
   "execution_count": 2,
   "id": "fa4ec7b8-d834-4764-ad72-f539fcf41f30",
   "metadata": {},
   "outputs": [],
   "source": [
    "X = np.load(INTERMEDIATE / 'logmel_multiclass_noise.npy')\n",
    "Y = np.load(INTERMEDIATE / 'logmel_labels_multiclass_noise.npy')"
   ]
  },
  {
   "cell_type": "code",
   "execution_count": 31,
   "id": "390d2e4b-cd92-4707-a8dc-7b1bdd56662a",
   "metadata": {},
   "outputs": [],
   "source": [
    "from sklearn.metrics.pairwise import cosine_similarity, pairwise_distances\n",
    "from scipy.stats import entropy\n",
    "\n",
    "def compute_entropy(probabilities):\n",
    "    return -np.sum(probabilities * np.log(probabilities + 1e-10), axis=1)\n",
    "\n",
    "def information_diversity(classifier, unlabeled_X, n_instances=5, alpha=1, perc=0.3):\n",
    "\n",
    "    # randomly sample a portion of X\n",
    "    limited_X = np.random.choice(unlabeled_X, size=int(perc*unlabeled_X.shape[0]))\n",
    "\n",
    "    probs = model.predict(limited_X, verbose=2)\n",
    "    entropies = compute_entropy(probs)\n",
    "    \n",
    "    # If no labeled samples, just return the most uncertain samples\n",
    "    if len(labeled_X) == 0:\n",
    "        selected_indices = np.argsort(-entropies)[:n_instances]\n",
    "        return selected_indices\n",
    "\n",
    "    flat_X = np.array([x.flatten() for x in limited_X])\n",
    "    similarities = pairwise_distances(flat_X, flat_X) # TODO differnece between unl and labeled?\n",
    "\n",
    "    avg_similarities = np.mean(similarities, axis=1)\n",
    "    combined_scores = entropies - alpha*avg_similarities  \n",
    "    selected_indices = np.argsort(-combined_scores)[:n_instances]\n",
    "    return limited_X[selected_indices]\n",
    "\n",
    "\n"
   ]
  },
  {
   "cell_type": "code",
   "execution_count": 16,
   "id": "0f53fd48-ced4-4406-bd39-bbf945476ed6",
   "metadata": {},
   "outputs": [],
   "source": [
    "from AL import build_resnet16\n",
    "\n",
    "model = build_resnet16(input_shape=(40, 107, 1))"
   ]
  },
  {
   "cell_type": "code",
   "execution_count": 18,
   "id": "a22f9f67-b389-4c34-aef3-e0495dd5d51d",
   "metadata": {},
   "outputs": [
    {
     "data": {
      "text/plain": [
       "(211636, 40, 107)"
      ]
     },
     "execution_count": 18,
     "metadata": {},
     "output_type": "execute_result"
    }
   ],
   "source": [
    "X.shape"
   ]
  },
  {
   "cell_type": "code",
   "execution_count": 33,
   "id": "a7233176-0e5f-45f7-ade1-76ff12a0555f",
   "metadata": {
    "scrolled": true
   },
   "outputs": [
    {
     "name": "stdout",
     "output_type": "stream",
     "text": [
      "73/73 - 1s - 14ms/step\n"
     ]
    },
    {
     "data": {
      "text/plain": [
       "(array([ 616,  135, 2104,  136, 1046]),\n",
       " array([[[-29.10749 , -28.989746, -31.241255, ..., -32.089535,\n",
       "          -32.45372 , -31.78473 ],\n",
       "         [-27.606878, -25.6236  , -26.917904, ..., -29.82351 ,\n",
       "          -24.997631, -24.668304],\n",
       "         [-31.216661, -30.346798, -29.681847, ..., -29.198738,\n",
       "          -25.005753, -24.843733],\n",
       "         ...,\n",
       "         [-40.7145  , -41.593727, -42.27889 , ..., -41.18628 ,\n",
       "          -41.046463, -41.524033],\n",
       "         [-41.653915, -42.245316, -42.372414, ..., -41.300037,\n",
       "          -42.729797, -42.196075],\n",
       "         [-43.19896 , -44.00558 , -43.494286, ..., -41.782143,\n",
       "          -42.961777, -43.451683]],\n",
       " \n",
       "        [[-27.731825, -26.138409, -27.784763, ..., -29.358307,\n",
       "          -29.812405, -32.97025 ],\n",
       "         [-26.347658, -27.907722, -30.833567, ..., -29.74216 ,\n",
       "          -28.216267, -29.055107],\n",
       "         [-27.009903, -29.22684 , -28.942982, ..., -30.004583,\n",
       "          -29.796144, -27.570282],\n",
       "         ...,\n",
       "         [-44.577953, -42.388214, -41.567696, ..., -42.209557,\n",
       "          -42.607353, -42.762047],\n",
       "         [-44.138046, -43.994568, -43.51255 , ..., -42.0636  ,\n",
       "          -41.459915, -42.474743],\n",
       "         [-43.61065 , -43.9955  , -44.074623, ..., -43.10704 ,\n",
       "          -42.14397 , -42.32136 ]],\n",
       " \n",
       "        [[-33.915035, -38.12333 , -37.264256, ..., -32.355045,\n",
       "          -31.954586, -33.452854],\n",
       "         [-31.505253, -35.66617 , -32.350964, ..., -29.546722,\n",
       "          -27.614944, -27.624834],\n",
       "         [-38.25366 , -32.070633, -31.693731, ..., -30.016422,\n",
       "          -27.993896, -27.46416 ],\n",
       "         ...,\n",
       "         [-43.42626 , -41.76307 , -41.931705, ..., -41.562996,\n",
       "          -41.380486, -41.872383],\n",
       "         [-42.157875, -42.66974 , -42.38366 , ..., -41.12819 ,\n",
       "          -41.260406, -42.21999 ],\n",
       "         [-43.003273, -43.087376, -42.175446, ..., -42.11167 ,\n",
       "          -41.32477 , -42.51583 ]],\n",
       " \n",
       "        [[-33.11367 , -33.621063, -32.836826, ..., -30.252663,\n",
       "          -31.674606, -30.85179 ],\n",
       "         [-25.480587, -23.38579 , -24.58421 , ..., -27.427063,\n",
       "          -27.268663, -25.053198],\n",
       "         [-25.14766 , -24.517088, -26.709362, ..., -30.375755,\n",
       "          -30.699646, -28.488537],\n",
       "         ...,\n",
       "         [-42.783516, -43.611862, -44.00908 , ..., -45.239044,\n",
       "          -43.873096, -43.786232],\n",
       "         [-43.31111 , -43.144276, -43.706947, ..., -45.262245,\n",
       "          -45.38318 , -45.17775 ],\n",
       "         [-43.6488  , -43.90689 , -44.15902 , ..., -44.892036,\n",
       "          -45.477936, -46.04937 ]],\n",
       " \n",
       "        [[-34.015335, -31.749619, -29.739975, ..., -29.036598,\n",
       "          -29.643013, -29.707458],\n",
       "         [-25.545609, -27.11781 , -28.09323 , ..., -24.168322,\n",
       "          -24.572342, -25.476524],\n",
       "         [-25.30328 , -27.526596, -27.48972 , ..., -26.652676,\n",
       "          -25.846804, -27.849907],\n",
       "         ...,\n",
       "         [-41.49335 , -42.587067, -40.663742, ..., -42.431885,\n",
       "          -42.02658 , -41.34504 ],\n",
       "         [-42.122017, -42.279724, -41.38116 , ..., -42.410625,\n",
       "          -42.422493, -41.417923],\n",
       "         [-41.695087, -42.790146, -42.965374, ..., -43.34543 ,\n",
       "          -42.12732 , -42.143578]]], dtype=float32))"
      ]
     },
     "execution_count": 33,
     "metadata": {},
     "output_type": "execute_result"
    }
   ],
   "source": [
    "X = X[:11636]\n",
    "cut = int(len(X) * 0.2)\n",
    "X_unlabelled = X[:cut]\n",
    "X_labeled = X[cut:]\n",
    "\n",
    "information_diversity(model, X_unlabelled, X_labeled, n_instances=5, alpha=1)"
   ]
  },
  {
   "cell_type": "code",
   "execution_count": null,
   "id": "57c2753b-c11b-4e45-a294-7bf9ab1655fe",
   "metadata": {},
   "outputs": [],
   "source": []
  }
 ],
 "metadata": {
  "kernelspec": {
   "display_name": "Python 3 (ipykernel)",
   "language": "python",
   "name": "python3"
  },
  "language_info": {
   "codemirror_mode": {
    "name": "ipython",
    "version": 3
   },
   "file_extension": ".py",
   "mimetype": "text/x-python",
   "name": "python",
   "nbconvert_exporter": "python",
   "pygments_lexer": "ipython3",
   "version": "3.9.16"
  }
 },
 "nbformat": 4,
 "nbformat_minor": 5
}
