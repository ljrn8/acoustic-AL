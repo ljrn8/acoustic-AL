{
 "cells": [
  {
   "cell_type": "code",
   "execution_count": 1,
   "id": "697e1502-9d4c-459b-969e-5b56b5b75a3b",
   "metadata": {},
   "outputs": [
    {
     "name": "stderr",
     "output_type": "stream",
     "text": [
      "2024-10-03 09:27:15.484195: E external/local_xla/xla/stream_executor/cuda/cuda_dnn.cc:9261] Unable to register cuDNN factory: Attempting to register factory for plugin cuDNN when one has already been registered\n",
      "2024-10-03 09:27:15.484229: E external/local_xla/xla/stream_executor/cuda/cuda_fft.cc:607] Unable to register cuFFT factory: Attempting to register factory for plugin cuFFT when one has already been registered\n",
      "2024-10-03 09:27:15.485312: E external/local_xla/xla/stream_executor/cuda/cuda_blas.cc:1515] Unable to register cuBLAS factory: Attempting to register factory for plugin cuBLAS when one has already been registered\n",
      "2024-10-03 09:27:15.495221: I tensorflow/core/platform/cpu_feature_guard.cc:182] This TensorFlow binary is optimized to use available CPU instructions in performance-critical operations.\n",
      "To enable the following instructions: AVX2 AVX512F FMA, in other operations, rebuild TensorFlow with the appropriate compiler flags.\n",
      "2024-10-03 09:27:16.759131: W tensorflow/compiler/tf2tensorrt/utils/py_utils.cc:38] TF-TRT Warning: Could not find TensorRT\n"
     ]
    }
   ],
   "source": [
    "%load_ext autoreload\n",
    "%autoreload 2\n",
    "\n",
    "from preprocessing import oversample_minority_classes\n",
    "import numpy as np; np.random.seed(0)\n",
    "from config import OUTPUT_DIR\n",
    "from util import *\n",
    "from AL import AL_split, mAP_and_APs, evaluation_dict, AL_resnet16_simulation\n",
    "import pickle\n",
    "\n",
    "from config import * \n",
    "from util import *\n",
    "from preprocessing import oversample_minority_classes, build_resnet16\n",
    "import numpy as np\n",
    "\n",
    "import numpy as np\n",
    "import matplotlib.pyplot as plt\n",
    "from tqdm import tqdm\n",
    "from sklearn.metrics import precision_recall_curve\n",
    "from scikeras.wrappers import KerasClassifier\n",
    "from modAL import ActiveLearner\n",
    "import pickle\n",
    "from tensorflow import keras\n",
    "import keras_cv\n",
    "from keras import metrics\n",
    "from sklearn.metrics import f1_score, precision_score, recall_score, average_precision_score\n",
    "\n",
    "from util import MULTICLASS_LABELS\n",
    "from sklearn.metrics import average_precision_score\n",
    "\n"
   ]
  },
  {
   "cell_type": "code",
   "execution_count": null,
   "id": "af4f9504-c1dd-43b2-b032-a6c8a94db0a5",
   "metadata": {},
   "outputs": [],
   "source": [
    "X = np.load(INTERMEDIATE / 'logmel_multiclass_noise.npy')\n",
    "Y = np.load(INTERMEDIATE / 'logmel_labels_multiclass_noise.npy')"
   ]
  },
  {
   "cell_type": "code",
   "execution_count": null,
   "id": "6603401e-60dc-41dd-b58c-27b40f4146b2",
   "metadata": {},
   "outputs": [],
   "source": [
    "\n",
    "working_dir = '..'\n",
    "query_method = ...\n",
    "budget_cap = ...\n",
    "query_size = ...\n",
    "\n",
    "working_dir.mkdir(exist_ok=True)\n",
    "keras.utils.set_random_seed(0) # reproducability\n",
    "\n",
    "# split data\n",
    "init, pool, test = AL_split(X, Y)\n",
    "initial_X, initial_Y = init\n",
    "pool_X, pool_Y = pool\n",
    "test_X, test_Y = test\n",
    "currently_labelled = len(initial_X)\n",
    "initial_ds_size = currently_labelled + len(pool_X)\n",
    "\n",
    "query_size = int(((pool_X.shape[0] + initial_X.shape[0]) * budget_cap) / n_queries)\n",
    "print(f'query size: {query_size}')\n",
    "LB_metrics = []\n",
    "\n",
    "# !!! oversample inital only \n",
    "initial_X, initial_Y = oversample_minority_classes(initial_X, initial_Y)\n",
    "import gc; gc.collect()\n",
    "\n",
    "labeled_X, labeled_Y = initial_X, initial_Y\n",
    "\n",
    "for query in range(1, 5+1):\n",
    "    \n",
    "    # new model at each epoch\n",
    "    model = build_resnet16((40, 107, 1))\n",
    "    model.compile(optimizer='adam',\n",
    "            loss=keras_cv.losses.FocalLoss(alpha=0.25, gamma=2), \n",
    "            metrics=[\n",
    "                metrics.Recall(thresholds=0.5), # NOTE: useless: macro\n",
    "                metrics.Precision(thresholds=0.5), # NOTE: useless: macro\n",
    "                metrics.AUC(curve='pr', name='auc_pr') # NOTE: useless: macro\n",
    "            ])\n",
    "\n",
    "\n",
    "    \n",
    "    query_indices, _ =   query_method()\n",
    "    \n",
    "    pool_X, pool_Y = oversample_minority_classes(pool_X, pool_Y)\n",
    "    \n"
   ]
  }
 ],
 "metadata": {
  "kernelspec": {
   "display_name": "Python 3 (ipykernel)",
   "language": "python",
   "name": "python3"
  },
  "language_info": {
   "codemirror_mode": {
    "name": "ipython",
    "version": 3
   },
   "file_extension": ".py",
   "mimetype": "text/x-python",
   "name": "python",
   "nbconvert_exporter": "python",
   "pygments_lexer": "ipython3",
   "version": "3.9.16"
  }
 },
 "nbformat": 4,
 "nbformat_minor": 5
}
