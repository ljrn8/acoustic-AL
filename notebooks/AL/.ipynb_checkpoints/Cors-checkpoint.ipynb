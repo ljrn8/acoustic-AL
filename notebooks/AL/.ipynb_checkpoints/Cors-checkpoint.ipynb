{
 "cells": [
  {
   "cell_type": "code",
   "execution_count": 3,
   "id": "ae5a4790-f6a0-47c6-b4f9-5a639e606f6d",
   "metadata": {},
   "outputs": [],
   "source": [
    "import numpy as np\n",
    "from sklearn.metrics.pairwise import pairwise_distances\n",
    "from config import *\n",
    "from util import *"
   ]
  },
  {
   "cell_type": "code",
   "execution_count": 4,
   "id": "a9021679-7139-441f-a929-91fa938dc355",
   "metadata": {},
   "outputs": [],
   "source": [
    "X = np.load(INTERMEDIATE / 'logmel_multiclass_noise.npy')\n",
    "Y = np.load(INTERMEDIATE / 'logmel_labels_multiclass_noise.npy')"
   ]
  },
  {
   "cell_type": "code",
   "execution_count": 82,
   "id": "abf5cce8-a3f0-4865-9554-6b5b07c3b4a7",
   "metadata": {},
   "outputs": [],
   "source": [
    "\n",
    "# def euclid_2d(X, Y):\n",
    "    # X_flat =  np.array([x.flatten() for x in X])\n",
    "    # Y_flat =  np.array([y.flatten() for x in X])\n",
    "    # return pairwise_distances(X, Y)\n",
    "\n",
    "# from tqdm import tqdm\n",
    "\n",
    "\n",
    "# def _partial_av_similiarities(flat_X, partitions=30):\n",
    "#     step = len(flat_X) // partitions\n",
    "#     avs = []\n",
    "#     for i in tqdm(range(0, len(flat_X), step)):\n",
    "#         start = i\n",
    "#         stop = min(i + step, len(flat_X)) \n",
    "#         p = pairwise_distances(flat_X[start:stop, :], flat_X[start:stop, :]) \n",
    "#         avg_similarities = np.mean(p, axis=1)\n",
    "#         avs.extend(avg_similarities)\n",
    "#     return np.array(avs)\n",
    "\n",
    "\n",
    "# def min_distances(X, selected_indices):\n",
    "#     X_flat = X.reshape(X.shape[0], -1)\n",
    "#     selected_flat = X_flat[selected_indices]\n",
    "\n",
    "#     # Compute distances using broadcasting\n",
    "#     dists = np.linalg.norm(X_flat[:, np.newaxis] - selected_flat, axis=2)\n",
    "#     return dists.min(axis=1)\n",
    "\n",
    "def euclid_dist(X, Y):\n",
    "    return pairwise_distances(\n",
    "        np.array([x.flatten() for x in X]),\n",
    "        np.array([y.flatten() for y in Y]),\n",
    "    )\n",
    "\n",
    "\n",
    "def k_center_greedy(all_X, selected_X, budget):\n",
    "    # while len(selected_indices) < budget + len(s_indices):\n",
    "    #     i += 1\n",
    "    #     print(f\"{i}/{budget}\", end='\\r') # debugging\n",
    "        \n",
    "    #     # Compute the minimum distance from each unselected point to the selected points\n",
    "\n",
    "    #     distances = euclid_dist(selected_X, all_X)\n",
    "    #     min_distances = distances.min(axis=1)\n",
    "\n",
    "    #     # Select the point that maximizes the minimum distance\n",
    "    #     u = np.argmax(min_distances)\n",
    "    #     selected_indices.append(u)\n",
    "\n",
    "    #     # remove from data before new center\n",
    "    #     x = s_indices[u]\n",
    "    #     # all_X = np.delete(all_X, x, axis=0)  # x_lab out of bounds for all_X\n",
    "    #     selected_X = np.delete(selected_X, u, axis=0)\n",
    "    \n",
    "    distances = euclid_dist(selected_X, all_X)\n",
    "    min_distances = distances.min(axis=1)\n",
    "    i = np.argsort(-min_distances)[:budget]\n",
    "    # return selected_X[len(s_indices):]\n",
    "    return i"
   ]
  },
  {
   "cell_type": "code",
   "execution_count": 83,
   "id": "c20f3397-42ac-4d2b-9c5b-6a4d2f12988a",
   "metadata": {},
   "outputs": [
    {
     "data": {
      "text/plain": [
       "((211636, 40, 107), (211636, 5))"
      ]
     },
     "execution_count": 83,
     "metadata": {},
     "output_type": "execute_result"
    }
   ],
   "source": [
    "X.shape, Y.shape"
   ]
  },
  {
   "cell_type": "code",
   "execution_count": 94,
   "id": "d1196e8a-5aa6-488e-b362-4aa4882a2de0",
   "metadata": {},
   "outputs": [
    {
     "data": {
      "text/plain": [
       "21163"
      ]
     },
     "execution_count": 94,
     "metadata": {},
     "output_type": "execute_result"
    }
   ],
   "source": [
    "211636 // 10"
   ]
  },
  {
   "cell_type": "code",
   "execution_count": null,
   "id": "f0b0619d-298d-48e1-8e4d-8287867e4c9e",
   "metadata": {},
   "outputs": [],
   "source": [
    "\n",
    "all_X = X[:len(X) // 10, :, :] # randomly chosen partition of X\n",
    "uncertain_indices = np.random.choice(range(all_X.shape[0]), len(all_X) // 4) # uncertain unlabeleld instances\n",
    "indicies = k_center_greedy(all_X, all_X[uncertain_indices], 100)"
   ]
  },
  {
   "cell_type": "code",
   "execution_count": 90,
   "id": "2b86324c-b889-4c1b-9468-2f4631d5837e",
   "metadata": {},
   "outputs": [
    {
     "data": {
      "text/plain": [
       "100"
      ]
     },
     "execution_count": 90,
     "metadata": {},
     "output_type": "execute_result"
    }
   ],
   "source": [
    "len(indicies)"
   ]
  },
  {
   "cell_type": "code",
   "execution_count": 91,
   "id": "2b308ab3-311e-4102-a151-bf9ce2cef74e",
   "metadata": {},
   "outputs": [
    {
     "data": {
      "text/plain": [
       "0"
      ]
     },
     "execution_count": 91,
     "metadata": {},
     "output_type": "execute_result"
    }
   ],
   "source": [
    "import gc; gc.collect()"
   ]
  },
  {
   "cell_type": "code",
   "execution_count": null,
   "id": "c20a5db8-d6ff-4d50-b343-8851f600fab5",
   "metadata": {},
   "outputs": [],
   "source": []
  }
 ],
 "metadata": {
  "kernelspec": {
   "display_name": "Python 3 (ipykernel)",
   "language": "python",
   "name": "python3"
  },
  "language_info": {
   "codemirror_mode": {
    "name": "ipython",
    "version": 3
   },
   "file_extension": ".py",
   "mimetype": "text/x-python",
   "name": "python",
   "nbconvert_exporter": "python",
   "pygments_lexer": "ipython3",
   "version": "3.9.16"
  }
 },
 "nbformat": 4,
 "nbformat_minor": 5
}
