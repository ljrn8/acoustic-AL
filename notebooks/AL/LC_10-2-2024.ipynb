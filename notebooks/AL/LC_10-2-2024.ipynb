{
 "cells": [
  {
   "cell_type": "code",
   "execution_count": null,
   "id": "028b4473-88a3-47aa-a2f2-b6b87878a752",
   "metadata": {},
   "outputs": [],
   "source": [
    "%load_ext autoreload\n",
    "%autoreload 2\n",
    "\n",
    "from preprocessing import oversample_minority_classes\n",
    "import numpy as np; np.random.seed(0)\n",
    "from config import OUTPUT_DIR\n",
    "from util import *\n",
    "from AL import AL_split, mAP_and_APs, evaluation_dict, AL_resnet16_simulation\n",
    "import pickle"
   ]
  },
  {
   "cell_type": "code",
   "execution_count": null,
   "id": "c802d015-b3da-44bb-9569-df624ae99692",
   "metadata": {},
   "outputs": [],
   "source": [
    "X = np.load(INTERMEDIATE / 'logmel_multiclass_noise.npy')\n",
    "Y = np.load(INTERMEDIATE / 'logmel_labels_multiclass_noise.npy')"
   ]
  },
  {
   "cell_type": "code",
   "execution_count": null,
   "id": "2d9a34a8-7195-4447-982f-7cd9f10d23b3",
   "metadata": {},
   "outputs": [],
   "source": [
    "def LC_sampling(classifier, X_unlabelled, n_instances):\n",
    "    probabilities = classifier.predict_proba(X_unlabelled, batch_size=32, verbose=2)\n",
    "    # least confidence = (1 - max probability)\n",
    "    least_confidence = 1 - np.max(probabilities, axis=1)\n",
    "    uncertain_indices = np.argsort(least_confidence)\n",
    "    selected_indices = uncertain_indices[:n_instances]\n",
    "    return selected_indices, X_unlabelled[selected_indices] \n",
    "\n",
    "\n",
    "classifier, metrics = AL_resnet16_simulation(\n",
    "    LC_sampling, \n",
    "    X, Y, \n",
    "    working_dir=OUTPUT_DIR / 'AL' / 'LC_300_0.3_', \n",
    "    identity='LC_300_0.3_',\n",
    "    budget_cap=0.3,\n",
    "    n_queries=300, \n",
    "    oversample=True,\n",
    "    batch=32, \n",
    ")"
   ]
  }
 ],
 "metadata": {
  "kernelspec": {
   "display_name": "Python 3 (ipykernel)",
   "language": "python",
   "name": "python3"
  },
  "language_info": {
   "codemirror_mode": {
    "name": "ipython",
    "version": 3
   },
   "file_extension": ".py",
   "mimetype": "text/x-python",
   "name": "python",
   "nbconvert_exporter": "python",
   "pygments_lexer": "ipython3",
   "version": "3.9.16"
  }
 },
 "nbformat": 4,
 "nbformat_minor": 5
}
