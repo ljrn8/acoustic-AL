{
 "cells": [
  {
   "cell_type": "markdown",
   "metadata": {},
   "source": [
    "## YAMnet classification by segmentation | initial dataset training and testing"
   ]
  },
  {
   "cell_type": "code",
   "execution_count": 10,
   "metadata": {},
   "outputs": [
    {
     "name": "stdout",
     "output_type": "stream",
     "text": [
      "The autoreload extension is already loaded. To reload it, use:\n",
      "  %reload_ext autoreload\n"
     ]
    }
   ],
   "source": [
    "%load_ext autoreload\n",
    "%autoreload 2\n",
    "TRAIN=True\n",
    "\n",
    "import tensorflow as tf\n",
    "from tensorflow  import keras\n",
    "# import tensorflow_hub as hub\n",
    "import numpy as np\n",
    "\n",
    "import librosa \n",
    "from dataset import WavDataset\n",
    "from config import *\n",
    "import matplotlib.pyplot as plt\n",
    "\n",
    "import h5py\n",
    "from pathlib import Path\n",
    "from config import INTERMEDIATE, MODEL_DIR\n",
    "import pickle"
   ]
  },
  {
   "cell_type": "code",
   "execution_count": 11,
   "metadata": {},
   "outputs": [],
   "source": [
    "from tensorflow_ranking.python.metrics import mean_average_precision"
   ]
  },
  {
   "cell_type": "markdown",
   "metadata": {},
   "source": [
    "## Data\n",
    "- all 5 second overlapping chunks have been pregenerated under ../output/intermediate/train.hdf5 (untracked on github).\n",
    "- YAMnet produces a 1024-long feature vector per 0.96s windows with a 0.48s hop. Thusly 10 frames are predicted per chunk\n",
    "- labels encoded as binary frame-wise time steps (4 signal classes)"
   ]
  },
  {
   "cell_type": "code",
   "execution_count": 12,
   "metadata": {},
   "outputs": [
    {
     "data": {
      "text/plain": [
       "(101, (1249, 1024))"
      ]
     },
     "execution_count": 12,
     "metadata": {},
     "output_type": "execute_result"
    }
   ],
   "source": [
    "hdf5_dataset = h5py.File(INTERMEDIATE / 'embed.hdf5', 'r')\n",
    "recordings = np.array(hdf5_dataset)\n",
    "\n",
    "rec =  recordings[0]\n",
    "\n",
    "annotated = [\n",
    "    rec for rec in recordings if np.array(hdf5_dataset[rec]['Y']).sum() > 0\n",
    "]\n",
    "len(annotated), hdf5_dataset[rec]['X'].shape"
   ]
  },
  {
   "cell_type": "code",
   "execution_count": 13,
   "metadata": {},
   "outputs": [
    {
     "data": {
      "text/plain": [
       "442080"
      ]
     },
     "execution_count": 13,
     "metadata": {},
     "output_type": "execute_result"
    }
   ],
   "source": [
    "def get_embedding_frames(rec):\n",
    "    return [\n",
    "        (rec, i) for i in range(hdf5_dataset[rec]['X'].shape[0])\n",
    "    ]\n",
    "\n",
    "embeddings_frames = []\n",
    "for rec in recordings:\n",
    "    embeddings_frames.extend(get_embedding_frames(rec))\n",
    "\n",
    "len(embeddings_frames)"
   ]
  },
  {
   "cell_type": "code",
   "execution_count": 14,
   "metadata": {
    "scrolled": true
   },
   "outputs": [
    {
     "name": "stdout",
     "output_type": "stream",
     "text": [
      "57.00635 0\t\t58.285202 0\t\t59.04304 0\t\t56.71453 0\t\t57.66487 0\t\t50.090828 0\t\t53.10558 0\t\t63.703053 0\t\t69.35723 0\t\t67.904816 0\t\t64.400475 0\t\t58.83925 0\t\t53.16173 0\t\t59.326614 0\t\t60.24948 0\t\t57.349216 0\t\t58.80186 0\t\t53.310894 0\t\t61.443405 0\t\t52.015244 0\t\t48.812256 0\t\t66.87404 0\t\t65.887695 0\t\t59.561172 0\t\t65.36894 0\t\t"
     ]
    },
    {
     "name": "stdout",
     "output_type": "stream",
     "text": [
      "68.77638 0\t\t65.38515 0\t\t52.331062 0\t\t58.556824 0\t\t58.854324 0\t\t63.58287 0\t\t62.07183 0\t\t(1024,) (4,)\n"
     ]
    }
   ],
   "source": [
    "X_shape = (1024,)\n",
    "Y_shape = (4,)\n",
    "\n",
    "def embedding_frame_generator(frames):\n",
    "    for (rec, frame_idx) in frames:\n",
    "        group =  hdf5_dataset[rec]\n",
    "        yield (\n",
    "            np.array(group['X'][frame_idx, :]), \n",
    "            np.array(group['Y'][frame_idx, :])\n",
    "        ) \n",
    "\n",
    "raw_dataset = tf.data.Dataset.from_generator( \n",
    "    lambda: embedding_frame_generator(embeddings_frames), \n",
    "    output_signature=(\n",
    "        tf.TensorSpec(shape=X_shape, dtype=tf.float32),\n",
    "        tf.TensorSpec(shape=Y_shape, dtype=tf.bool)))\n",
    "\n",
    "# test\n",
    "for s in raw_dataset.take(32):\n",
    "    X, Y = s    \n",
    "    print(np.array(X).sum(), np.array(Y).sum(), end=\"\\t\\t\")\n",
    "\n",
    "print(X.shape, Y.shape)"
   ]
  },
  {
   "cell_type": "code",
   "execution_count": 15,
   "metadata": {},
   "outputs": [
    {
     "name": "stdout",
     "output_type": "stream",
     "text": [
      "282931 70733 88416\n",
      "60.842175 0\t\t47.82476 0\t\t54.555904 0\t\t61.86556 0\t\t61.835472 0\t\t67.81091 0\t\t58.046566 0\t\t65.891846 0\t\t57.639008 0\t\t32.331863 0\t\t110.26908 0\t\t76.39511 0\t\t95.3487 0\t\t68.34055 0\t\t71.22916 0\t\t92.37334 0\t\t65.82136 0\t\t59.175117 0\t\t87.79456 0\t\t61.882133 0\t\t51.60492 0\t\t43.89224 0\t\t64.7926 0\t\t66.20942 0\t\t64.93405 0\t\t65.88392 0\t\t60.481377 0\t\t68.009964 0\t\t57.63435 0\t\t60.891483 0\t\t58.212757 0\t\t59.831745 0\t\t(1024,) (4,)\n"
     ]
    }
   ],
   "source": [
    "n_frames = len(embeddings_frames) \n",
    "\n",
    "# shuffle\n",
    "np.random.seed(0)\n",
    "np.random.shuffle(embeddings_frames) # TODO add order to model dir\n",
    "\n",
    "# split chunks test/train/valid\n",
    "test_cut = int(n_frames * 0.8)\n",
    "valid_cut = int(test_cut * 0.8) \n",
    "\n",
    "train_valid_frames, test_frames = embeddings_frames[:test_cut], embeddings_frames[test_cut:]\n",
    "train_frames, valid_frames = train_valid_frames[:valid_cut], train_valid_frames[valid_cut:]\n",
    "\n",
    "spec = (tf.TensorSpec(shape=X_shape, dtype=tf.float32),\n",
    "        tf.TensorSpec(shape=Y_shape, dtype=tf.bool))\n",
    "\n",
    "train_dataset = tf.data.Dataset.from_generator(lambda: embedding_frame_generator(train_frames), output_signature=spec)\n",
    "valid_dataset = tf.data.Dataset.from_generator(lambda: embedding_frame_generator(valid_frames), output_signature=spec)\n",
    "test_dataset = tf.data.Dataset.from_generator(lambda: embedding_frame_generator(test_frames), output_signature=spec)\n",
    "\n",
    "print(\n",
    "    len(train_frames), len(valid_frames), len(test_frames)\n",
    ")\n",
    "\n",
    "# test\n",
    "for s in test_dataset.take(32):\n",
    "    X, Y = s    \n",
    "    print(np.array(X).sum(), np.array(Y).sum(), end=\"\\t\\t\")\n",
    "\n",
    "print(X.shape, Y.shape)"
   ]
  },
  {
   "cell_type": "markdown",
   "metadata": {},
   "source": [
    "## Training\n",
    "Using a simple DNN against the embeddings (** check??)"
   ]
  },
  {
   "cell_type": "code",
   "execution_count": 16,
   "metadata": {},
   "outputs": [
    {
     "name": "stdout",
     "output_type": "stream",
     "text": [
      "Model: \"sequential\"\n",
      "_________________________________________________________________\n",
      " Layer (type)                Output Shape              Param #   \n",
      "=================================================================\n",
      " dense (Dense)               (None, 512)               524800    \n",
      "                                                                 \n",
      " dense_1 (Dense)             (None, 4)                 2052      \n",
      "                                                                 \n",
      "=================================================================\n",
      "Total params: 526852 (2.01 MB)\n",
      "Trainable params: 526852 (2.01 MB)\n",
      "Non-trainable params: 0 (0.00 Byte)\n",
      "_________________________________________________________________\n"
     ]
    }
   ],
   "source": [
    "from keras.layers import Input, Dense, BatchNormalization\n",
    "# import tensorflow_addons as tfa\n",
    "from functools import partial\n",
    "from keras import metrics\n",
    "\n",
    "def create_model(output_bias=None) -> keras.Model:\n",
    "    # default_dense =  partial(Dense, activation='selu', # self normalizing\n",
    "    #                          kernel_initializer=keras.initializers.LecunNormal(seed=0)\n",
    "    #                         ) # kernel_regularizer ?\n",
    "    default_dense =  partial(Dense, activation='relu', \n",
    "                             kernel_initializer=keras.initializers.LecunNormal(seed=0)\n",
    "                            ) # kernel_regularizer ?\n",
    "    \n",
    "    # simple head for YAMnet base\n",
    "    return keras.Sequential([\n",
    "            Input(shape=(1024,)),\n",
    "            default_dense(512), \n",
    "            Dense(4, activation='sigmoid', \n",
    "                  bias_initializer=output_bias) # correct this \n",
    "    ])\n",
    "\n",
    "def compile(model):\n",
    "    thresh = np.arange(10) * 0.1\n",
    "    model.compile(\n",
    "        optimizer='adam',\n",
    "        loss='binary_crossentropy',  \n",
    "        metrics=[\n",
    "            metrics.Recall(thresholds=0.5),\n",
    "            metrics.Precision(thresholds=0.5),\n",
    "            metrics.AUC(curve='pr'),\n",
    "        ]\n",
    "    )\n",
    "\n",
    "model = create_model()\n",
    "compile(model)\n",
    "model.summary()"
   ]
  },
  {
   "cell_type": "code",
   "execution_count": 15,
   "metadata": {},
   "outputs": [
    {
     "name": "stdout",
     "output_type": "stream",
     "text": [
      "Epoch 1/20\n"
     ]
    },
    {
     "name": "stderr",
     "output_type": "stream",
     "text": [
      "2024-09-20 12:47:57.629121: W tensorflow/core/framework/op_kernel.cc:1828] UNKNOWN: IndexError: Index (1182) out of range for (0-1181)\n",
      "Traceback (most recent call last):\n",
      "\n",
      "  File \"/home/ec2-user/.local/lib/python3.9/site-packages/tensorflow/python/ops/script_ops.py\", line 270, in __call__\n",
      "    ret = func(*args)\n",
      "\n",
      "  File \"/home/ec2-user/.local/lib/python3.9/site-packages/tensorflow/python/autograph/impl/api.py\", line 643, in wrapper\n",
      "    return func(*args, **kwargs)\n",
      "\n",
      "  File \"/home/ec2-user/.local/lib/python3.9/site-packages/tensorflow/python/data/ops/from_generator_op.py\", line 198, in generator_py_func\n",
      "    values = next(generator_state.get_iterator(iterator_id))\n",
      "\n",
      "  File \"/tmp/ipykernel_87048/2983020739.py\", line 9, in embedding_frame_generator\n",
      "    np.array(group['Y'][frame_idx, :])\n",
      "\n",
      "  File \"h5py/_objects.pyx\", line 54, in h5py._objects.with_phil.wrapper\n",
      "\n",
      "  File \"h5py/_objects.pyx\", line 55, in h5py._objects.with_phil.wrapper\n",
      "\n",
      "  File \"/home/ec2-user/.local/lib/python3.9/site-packages/h5py/_hl/dataset.py\", line 831, in __getitem__\n",
      "    selection = sel.select(self.shape, args, dataset=self)\n",
      "\n",
      "  File \"/home/ec2-user/.local/lib/python3.9/site-packages/h5py/_hl/selections.py\", line 82, in select\n",
      "    return selector.make_selection(args)\n",
      "\n",
      "  File \"h5py/_selector.pyx\", line 282, in h5py._selector.Selector.make_selection\n",
      "\n",
      "  File \"h5py/_selector.pyx\", line 151, in h5py._selector.Selector.apply_args\n",
      "\n",
      "IndexError: Index (1182) out of range for (0-1181)\n",
      "\n",
      "\n",
      "2024-09-20 12:47:57.629211: I tensorflow/core/framework/local_rendezvous.cc:404] Local rendezvous is aborting with status: UNKNOWN: IndexError: Index (1182) out of range for (0-1181)\n",
      "Traceback (most recent call last):\n",
      "\n",
      "  File \"/home/ec2-user/.local/lib/python3.9/site-packages/tensorflow/python/ops/script_ops.py\", line 270, in __call__\n",
      "    ret = func(*args)\n",
      "\n",
      "  File \"/home/ec2-user/.local/lib/python3.9/site-packages/tensorflow/python/autograph/impl/api.py\", line 643, in wrapper\n",
      "    return func(*args, **kwargs)\n",
      "\n",
      "  File \"/home/ec2-user/.local/lib/python3.9/site-packages/tensorflow/python/data/ops/from_generator_op.py\", line 198, in generator_py_func\n",
      "    values = next(generator_state.get_iterator(iterator_id))\n",
      "\n",
      "  File \"/tmp/ipykernel_87048/2983020739.py\", line 9, in embedding_frame_generator\n",
      "    np.array(group['Y'][frame_idx, :])\n",
      "\n",
      "  File \"h5py/_objects.pyx\", line 54, in h5py._objects.with_phil.wrapper\n",
      "\n",
      "  File \"h5py/_objects.pyx\", line 55, in h5py._objects.with_phil.wrapper\n",
      "\n",
      "  File \"/home/ec2-user/.local/lib/python3.9/site-packages/h5py/_hl/dataset.py\", line 831, in __getitem__\n",
      "    selection = sel.select(self.shape, args, dataset=self)\n",
      "\n",
      "  File \"/home/ec2-user/.local/lib/python3.9/site-packages/h5py/_hl/selections.py\", line 82, in select\n",
      "    return selector.make_selection(args)\n",
      "\n",
      "  File \"h5py/_selector.pyx\", line 282, in h5py._selector.Selector.make_selection\n",
      "\n",
      "  File \"h5py/_selector.pyx\", line 151, in h5py._selector.Selector.apply_args\n",
      "\n",
      "IndexError: Index (1182) out of range for (0-1181)\n",
      "\n",
      "\n",
      "\t [[{{node PyFunc}}]]\n",
      "\t [[IteratorGetNext]]\n"
     ]
    },
    {
     "ename": "UnknownError",
     "evalue": "Graph execution error:\n\nDetected at node PyFunc defined at (most recent call last):\n<stack traces unavailable>\nIndexError: Index (1182) out of range for (0-1181)\nTraceback (most recent call last):\n\n  File \"/home/ec2-user/.local/lib/python3.9/site-packages/tensorflow/python/ops/script_ops.py\", line 270, in __call__\n    ret = func(*args)\n\n  File \"/home/ec2-user/.local/lib/python3.9/site-packages/tensorflow/python/autograph/impl/api.py\", line 643, in wrapper\n    return func(*args, **kwargs)\n\n  File \"/home/ec2-user/.local/lib/python3.9/site-packages/tensorflow/python/data/ops/from_generator_op.py\", line 198, in generator_py_func\n    values = next(generator_state.get_iterator(iterator_id))\n\n  File \"/tmp/ipykernel_87048/2983020739.py\", line 9, in embedding_frame_generator\n    np.array(group['Y'][frame_idx, :])\n\n  File \"h5py/_objects.pyx\", line 54, in h5py._objects.with_phil.wrapper\n\n  File \"h5py/_objects.pyx\", line 55, in h5py._objects.with_phil.wrapper\n\n  File \"/home/ec2-user/.local/lib/python3.9/site-packages/h5py/_hl/dataset.py\", line 831, in __getitem__\n    selection = sel.select(self.shape, args, dataset=self)\n\n  File \"/home/ec2-user/.local/lib/python3.9/site-packages/h5py/_hl/selections.py\", line 82, in select\n    return selector.make_selection(args)\n\n  File \"h5py/_selector.pyx\", line 282, in h5py._selector.Selector.make_selection\n\n  File \"h5py/_selector.pyx\", line 151, in h5py._selector.Selector.apply_args\n\nIndexError: Index (1182) out of range for (0-1181)\n\n\n\t [[{{node PyFunc}}]]\n\t [[IteratorGetNext]] [Op:__inference_one_step_on_iterator_2128]",
     "output_type": "error",
     "traceback": [
      "\u001b[0;31m---------------------------------------------------------------------------\u001b[0m",
      "\u001b[0;31mUnknownError\u001b[0m                              Traceback (most recent call last)",
      "Cell \u001b[0;32mIn[15], line 64\u001b[0m\n\u001b[1;32m     62\u001b[0m batch \u001b[38;5;241m=\u001b[39m \u001b[38;5;241m64\u001b[39m \u001b[38;5;66;03m# try 128 / 256\u001b[39;00m\n\u001b[1;32m     63\u001b[0m epochs \u001b[38;5;241m=\u001b[39m \u001b[38;5;241m20\u001b[39m\n\u001b[0;32m---> 64\u001b[0m history \u001b[38;5;241m=\u001b[39m \u001b[43mtrain\u001b[49m\u001b[43m(\u001b[49m\n\u001b[1;32m     65\u001b[0m \u001b[43m    \u001b[49m\u001b[43mx\u001b[49m\u001b[38;5;241;43m=\u001b[39;49m\u001b[43mtrain_dataset\u001b[49m\u001b[38;5;241;43m.\u001b[39;49m\u001b[43mbatch\u001b[49m\u001b[43m(\u001b[49m\u001b[43mbatch\u001b[49m\u001b[43m)\u001b[49m\u001b[38;5;241;43m.\u001b[39;49m\u001b[43mprefetch\u001b[49m\u001b[43m(\u001b[49m\u001b[43mtf\u001b[49m\u001b[38;5;241;43m.\u001b[39;49m\u001b[43mdata\u001b[49m\u001b[38;5;241;43m.\u001b[39;49m\u001b[43mAUTOTUNE\u001b[49m\u001b[43m)\u001b[49m\u001b[43m,\u001b[49m\u001b[43m \u001b[49m\n\u001b[1;32m     66\u001b[0m \u001b[43m    \u001b[49m\u001b[43mvalidation_data\u001b[49m\u001b[38;5;241;43m=\u001b[39;49m\u001b[43mvalid_dataset\u001b[49m\u001b[38;5;241;43m.\u001b[39;49m\u001b[43mbatch\u001b[49m\u001b[43m(\u001b[49m\u001b[43mbatch\u001b[49m\u001b[43m)\u001b[49m\u001b[38;5;241;43m.\u001b[39;49m\u001b[43mprefetch\u001b[49m\u001b[43m(\u001b[49m\u001b[43mtf\u001b[49m\u001b[38;5;241;43m.\u001b[39;49m\u001b[43mdata\u001b[49m\u001b[38;5;241;43m.\u001b[39;49m\u001b[43mAUTOTUNE\u001b[49m\u001b[43m)\u001b[49m\u001b[43m,\u001b[49m\n\u001b[1;32m     67\u001b[0m \u001b[43m    \u001b[49m\u001b[43mmodel\u001b[49m\u001b[38;5;241;43m=\u001b[39;49m\u001b[43mmodel\u001b[49m\u001b[43m,\u001b[49m\u001b[43m \u001b[49m\n\u001b[1;32m     68\u001b[0m \u001b[43m    \u001b[49m\u001b[43mmodel_dir\u001b[49m\u001b[38;5;241;43m=\u001b[39;49m\u001b[43mMODEL_DIR\u001b[49m\u001b[43m \u001b[49m\u001b[38;5;241;43m/\u001b[39;49m\u001b[43m \u001b[49m\u001b[38;5;124;43m\"\u001b[39;49m\u001b[38;5;124;43m20e_embedding_frames\u001b[39;49m\u001b[38;5;124;43m\"\u001b[39;49m\u001b[43m,\u001b[49m\u001b[43m \u001b[49m\n\u001b[1;32m     69\u001b[0m \u001b[43m    \u001b[49m\u001b[43mepochs\u001b[49m\u001b[38;5;241;43m=\u001b[39;49m\u001b[43mepochs\u001b[49m\u001b[43m,\u001b[49m\u001b[43m \u001b[49m\n\u001b[1;32m     70\u001b[0m \u001b[43m\u001b[49m\u001b[43m)\u001b[49m\n",
      "Cell \u001b[0;32mIn[15], line 50\u001b[0m, in \u001b[0;36mtrain\u001b[0;34m(model, model_dir, stopping_patience, stopping_moniter, **kwargs)\u001b[0m\n\u001b[1;32m     43\u001b[0m es_checkpoint \u001b[38;5;241m=\u001b[39m EarlyStopping(\n\u001b[1;32m     44\u001b[0m     monitor\u001b[38;5;241m=\u001b[39mstopping_moniter,\n\u001b[1;32m     45\u001b[0m     patience\u001b[38;5;241m=\u001b[39mstopping_patience,\n\u001b[1;32m     46\u001b[0m     restore_best_weights\u001b[38;5;241m=\u001b[39m\u001b[38;5;28;01mTrue\u001b[39;00m,\n\u001b[1;32m     47\u001b[0m )\n\u001b[1;32m     49\u001b[0m \u001b[38;5;66;03m# fit\u001b[39;00m\n\u001b[0;32m---> 50\u001b[0m history \u001b[38;5;241m=\u001b[39m \u001b[43mmodel\u001b[49m\u001b[38;5;241;43m.\u001b[39;49m\u001b[43mfit\u001b[49m\u001b[43m(\u001b[49m\n\u001b[1;32m     51\u001b[0m \u001b[43m    \u001b[49m\u001b[43mverbose\u001b[49m\u001b[38;5;241;43m=\u001b[39;49m\u001b[38;5;241;43m2\u001b[39;49m\u001b[43m,\u001b[49m\n\u001b[1;32m     52\u001b[0m \u001b[43m    \u001b[49m\u001b[43mcallbacks\u001b[49m\u001b[38;5;241;43m=\u001b[39;49m\u001b[43m[\u001b[49m\u001b[43mtensorboard_callback\u001b[49m\u001b[43m,\u001b[49m\u001b[43m \u001b[49m\u001b[43mcp_callback\u001b[49m\u001b[43m,\u001b[49m\u001b[43m \u001b[49m\u001b[43mes_checkpoint\u001b[49m\u001b[43m]\u001b[49m\u001b[43m,\u001b[49m\n\u001b[1;32m     53\u001b[0m \u001b[43m    \u001b[49m\u001b[38;5;241;43m*\u001b[39;49m\u001b[38;5;241;43m*\u001b[39;49m\u001b[43mkwargs\u001b[49m\n\u001b[1;32m     54\u001b[0m \u001b[43m\u001b[49m\u001b[43m)\u001b[49m\n\u001b[1;32m     55\u001b[0m model\u001b[38;5;241m.\u001b[39msave(model_dir \u001b[38;5;241m/\u001b[39m \u001b[38;5;124m'\u001b[39m\u001b[38;5;124mmodel.keras\u001b[39m\u001b[38;5;124m'\u001b[39m)\n\u001b[1;32m     56\u001b[0m df \u001b[38;5;241m=\u001b[39m pd\u001b[38;5;241m.\u001b[39mDataFrame(history\u001b[38;5;241m.\u001b[39mhistory)\n",
      "File \u001b[0;32m~/.local/lib/python3.9/site-packages/keras/src/utils/traceback_utils.py:122\u001b[0m, in \u001b[0;36mfilter_traceback.<locals>.error_handler\u001b[0;34m(*args, **kwargs)\u001b[0m\n\u001b[1;32m    119\u001b[0m     filtered_tb \u001b[38;5;241m=\u001b[39m _process_traceback_frames(e\u001b[38;5;241m.\u001b[39m__traceback__)\n\u001b[1;32m    120\u001b[0m     \u001b[38;5;66;03m# To get the full stack trace, call:\u001b[39;00m\n\u001b[1;32m    121\u001b[0m     \u001b[38;5;66;03m# `keras.config.disable_traceback_filtering()`\u001b[39;00m\n\u001b[0;32m--> 122\u001b[0m     \u001b[38;5;28;01mraise\u001b[39;00m e\u001b[38;5;241m.\u001b[39mwith_traceback(filtered_tb) \u001b[38;5;28;01mfrom\u001b[39;00m \u001b[38;5;28;01mNone\u001b[39;00m\n\u001b[1;32m    123\u001b[0m \u001b[38;5;28;01mfinally\u001b[39;00m:\n\u001b[1;32m    124\u001b[0m     \u001b[38;5;28;01mdel\u001b[39;00m filtered_tb\n",
      "File \u001b[0;32m~/.local/lib/python3.9/site-packages/tensorflow/python/eager/execute.py:53\u001b[0m, in \u001b[0;36mquick_execute\u001b[0;34m(op_name, num_outputs, inputs, attrs, ctx, name)\u001b[0m\n\u001b[1;32m     51\u001b[0m \u001b[38;5;28;01mtry\u001b[39;00m:\n\u001b[1;32m     52\u001b[0m   ctx\u001b[38;5;241m.\u001b[39mensure_initialized()\n\u001b[0;32m---> 53\u001b[0m   tensors \u001b[38;5;241m=\u001b[39m pywrap_tfe\u001b[38;5;241m.\u001b[39mTFE_Py_Execute(ctx\u001b[38;5;241m.\u001b[39m_handle, device_name, op_name,\n\u001b[1;32m     54\u001b[0m                                       inputs, attrs, num_outputs)\n\u001b[1;32m     55\u001b[0m \u001b[38;5;28;01mexcept\u001b[39;00m core\u001b[38;5;241m.\u001b[39m_NotOkStatusException \u001b[38;5;28;01mas\u001b[39;00m e:\n\u001b[1;32m     56\u001b[0m   \u001b[38;5;28;01mif\u001b[39;00m name \u001b[38;5;129;01mis\u001b[39;00m \u001b[38;5;129;01mnot\u001b[39;00m \u001b[38;5;28;01mNone\u001b[39;00m:\n",
      "\u001b[0;31mUnknownError\u001b[0m: Graph execution error:\n\nDetected at node PyFunc defined at (most recent call last):\n<stack traces unavailable>\nIndexError: Index (1182) out of range for (0-1181)\nTraceback (most recent call last):\n\n  File \"/home/ec2-user/.local/lib/python3.9/site-packages/tensorflow/python/ops/script_ops.py\", line 270, in __call__\n    ret = func(*args)\n\n  File \"/home/ec2-user/.local/lib/python3.9/site-packages/tensorflow/python/autograph/impl/api.py\", line 643, in wrapper\n    return func(*args, **kwargs)\n\n  File \"/home/ec2-user/.local/lib/python3.9/site-packages/tensorflow/python/data/ops/from_generator_op.py\", line 198, in generator_py_func\n    values = next(generator_state.get_iterator(iterator_id))\n\n  File \"/tmp/ipykernel_87048/2983020739.py\", line 9, in embedding_frame_generator\n    np.array(group['Y'][frame_idx, :])\n\n  File \"h5py/_objects.pyx\", line 54, in h5py._objects.with_phil.wrapper\n\n  File \"h5py/_objects.pyx\", line 55, in h5py._objects.with_phil.wrapper\n\n  File \"/home/ec2-user/.local/lib/python3.9/site-packages/h5py/_hl/dataset.py\", line 831, in __getitem__\n    selection = sel.select(self.shape, args, dataset=self)\n\n  File \"/home/ec2-user/.local/lib/python3.9/site-packages/h5py/_hl/selections.py\", line 82, in select\n    return selector.make_selection(args)\n\n  File \"h5py/_selector.pyx\", line 282, in h5py._selector.Selector.make_selection\n\n  File \"h5py/_selector.pyx\", line 151, in h5py._selector.Selector.apply_args\n\nIndexError: Index (1182) out of range for (0-1181)\n\n\n\t [[{{node PyFunc}}]]\n\t [[IteratorGetNext]] [Op:__inference_one_step_on_iterator_2128]"
     ]
    }
   ],
   "source": [
    "# 133921 chunks\n",
    "# 4185 batches\n",
    "\n",
    "from tensorflow.keras.callbacks import TensorBoard, ModelCheckpoint, EarlyStopping\n",
    "import pandas as pd\n",
    "\n",
    "# class IncrementallySavedCheckpoint(tf.keras.callbacks.Callback):\n",
    "#     def __init__(self, checkpoint_dir, **kwargs):\n",
    "#         super().__init__()\n",
    "#         self.checkpoint_dir = checkpoint_dir\n",
    "    \n",
    "#     def on_epoch_end(self, epoch, logs=None):\n",
    "#         checkpoint_path = Path(self.checkpoint_dir) / f'model_epoch_{epoch+1}.ckpt'\n",
    "#         self.model.save_weights(checkpoint_path)\n",
    "#         print(f\"Saved checkpoint for epoch {epoch+1} at {checkpoint_path}\")\n",
    "\n",
    "\n",
    "def train(model, model_dir, stopping_patience=5, \n",
    "          stopping_moniter='val_loss', **kwargs):\n",
    "    \n",
    "    model_dir.mkdir(exist_ok=True)\n",
    "\n",
    "    # save frame order\n",
    "    np.save(model_dir / 'train_frames.npy', train_frames)\n",
    "    np.save(model_dir / 'valid_frames.npy', valid_frames)\n",
    "    np.save(model_dir / 'test_frames.npy', test_frames) \n",
    "\n",
    "    # tensorboard\n",
    "    log_dir = model_dir / \"logs\" / \"fit\"\n",
    "    log_dir.mkdir(parents=True, exist_ok=True)\n",
    "    tensorboard_callback = TensorBoard(log_dir=log_dir)\n",
    "\n",
    "    # checkpoints\n",
    "    checkpoint_path = model_dir / \"training\"\n",
    "    Path(checkpoint_path).mkdir(exist_ok=True)  \n",
    "    cp_callback = keras.callbacks.ModelCheckpoint(\n",
    "        checkpoint_path / 'checkpoint.weights.h5', \n",
    "        save_weights_only=True,\n",
    "        verbose=1, \n",
    "    )\n",
    "\n",
    "    # early stopping\n",
    "    es_checkpoint = EarlyStopping(\n",
    "        monitor=stopping_moniter,\n",
    "        patience=stopping_patience,\n",
    "        restore_best_weights=True,\n",
    "    )\n",
    "    \n",
    "    # fit\n",
    "    history = model.fit(\n",
    "        verbose=2,\n",
    "        callbacks=[tensorboard_callback, cp_callback, es_checkpoint],\n",
    "        **kwargs\n",
    "    )\n",
    "    model.save(model_dir / 'model.keras')\n",
    "    df = pd.DataFrame(history.history)\n",
    "    df.to_csv(\"logs/history.csv\")\n",
    "    return history\n",
    "\n",
    "    \n",
    "if TRAIN:\n",
    "    batch = 64 # try 128 / 256\n",
    "    epochs = 20\n",
    "    history = train(\n",
    "        x=train_dataset.batch(batch).prefetch(tf.data.AUTOTUNE), \n",
    "        validation_data=valid_dataset.batch(batch).prefetch(tf.data.AUTOTUNE),\n",
    "        model=model, \n",
    "        model_dir=MODEL_DIR / \"20e_embedding_frames\", \n",
    "        epochs=epochs, \n",
    "    )\n",
    "    \n",
    "    "
   ]
  },
  {
   "cell_type": "code",
   "execution_count": 19,
   "metadata": {},
   "outputs": [],
   "source": [
    "# get model from last checkpoint (should be ~E18 -> overfit)\n",
    "# model = create_model()\n",
    "# load_status = model.load_weights(\"../models/20e_embedding_frames/training/model_epoch_11.ckpt\")\n",
    "# load_status.expect_partial() \n",
    "# compile(model)\n",
    "\n",
    "# model = create_model()\n",
    "# compile(model)\n",
    "# checkpoint = tf.train.Checkpoint(model=model)\n",
    "# checkpoint.restore(tf.train.latest_checkpoint('../models/20e_embedding_frames/training')).expect_partial()\n",
    "# model.load_weights(checkpoint\n",
    "\n",
    "model = keras.models.load_model('../models/20e_embedding_frames/model.keras')"
   ]
  },
  {
   "cell_type": "code",
   "execution_count": 20,
   "metadata": {
    "scrolled": true
   },
   "outputs": [
    {
     "name": "stderr",
     "output_type": "stream",
     "text": [
      "loading/predicting test ds: 13it [00:00, 37.41it/s]"
     ]
    },
    {
     "name": "stderr",
     "output_type": "stream",
     "text": [
      "loading/predicting test ds: 2763it [00:51, 54.02it/s]\n"
     ]
    }
   ],
   "source": [
    "from tqdm import tqdm\n",
    "\n",
    "def get_predictions(model, batched_test_dataset):\n",
    "    y_true, y_pred = [], []\n",
    "    for batch_X, batch_y in tqdm(batched_test_dataset, desc='loading/predicting test ds'):\n",
    "        predictions = model(batch_X, training=False)\n",
    "        y_true.extend(batch_y.numpy())\n",
    "        y_pred.extend(predictions.numpy()) \n",
    "\n",
    "    return np.array(y_true), np.array(y_pred)\n",
    "\n",
    "y_true, y_pred = get_predictions(model, test_dataset.batch(32).prefetch(tf.data.AUTOTUNE))\n",
    "y_true_flat = y_true.reshape(-1, 4)\n",
    "y_pred_flat = y_pred.reshape(-1, 4)"
   ]
  },
  {
   "cell_type": "code",
   "execution_count": 21,
   "metadata": {},
   "outputs": [
    {
     "name": "stdout",
     "output_type": "stream",
     "text": [
      "average class probability of [fast_trill_6khz]: 0.0027031306550850524\n",
      "average class probability of [nr_syllable_3khz]: 0.003110296778863554\n",
      "average class probability of [triangle_3khz]: 0.0007351610568222946\n",
      "average class probability of [upsweep_500hz]: 0.0012101882012305466\n"
     ]
    }
   ],
   "source": [
    "# unbalanced classes\n",
    "labels = [ \"fast_trill_6khz\", \"nr_syllable_3khz\", \"triangle_3khz\", \"upsweep_500hz\"]\n",
    "for i, label in enumerate(labels):\n",
    "    print(f'average class probability of [{label}]: {y_true_flat[:, i].mean()}')"
   ]
  },
  {
   "cell_type": "code",
   "execution_count": 22,
   "metadata": {
    "scrolled": true
   },
   "outputs": [
    {
     "name": "stdout",
     "output_type": "stream",
     "text": [
      "[ True False False False]\n",
      "[8.2456315e-01 2.0862718e-03 7.4647419e-06 1.4880189e-04]\n",
      "[False False  True False]\n",
      "[6.4168688e-07 2.4141671e-05 6.8262097e-04 2.6736173e-04]\n",
      "[False  True False False]\n",
      "[1.2572929e-04 1.6838621e-02 4.1536448e-05 1.5849138e-05]\n",
      "[ True False False False]\n",
      "[7.4694574e-01 2.6468159e-09 9.2299405e-14 3.7061487e-05]\n",
      "[ True False False False]\n",
      "[2.4843907e-02 1.2564924e-04 5.1816473e-06 1.5303721e-03]\n"
     ]
    }
   ],
   "source": [
    "# compare predicted labels\n",
    "annotated = [(y, yp) for (y, yp) in zip(y_true, y_pred) if y.any()] \n",
    "for chunks in annotated[:5]:\n",
    "    annotated_chunk, annotated_chunk_pred = chunks\n",
    "    if annotated_chunk.any():\n",
    "        print(annotated_chunk) \n",
    "        print(annotated_chunk_pred)\n"
   ]
  },
  {
   "cell_type": "code",
   "execution_count": 23,
   "metadata": {},
   "outputs": [
    {
     "name": "stderr",
     "output_type": "stream",
     "text": [
      "/tmp/ipykernel_104200/1115467876.py:5: MatplotlibDeprecationWarning: Passing label as a length 4 sequence when plotting a single dataset is deprecated in Matplotlib 3.9 and will error in 3.11.  To keep the current behavior, cast the sequence to string before passing.\n",
      "  plt.plot(fp*100, tp*100, label=name, linewidth=2, **kwargs)\n",
      "/tmp/ipykernel_104200/1115467876.py:5: MatplotlibDeprecationWarning: Passing label as a length 4 sequence when plotting a single dataset is deprecated in Matplotlib 3.9 and will error in 3.11.  To keep the current behavior, cast the sequence to string before passing.\n",
      "  plt.plot(fp*100, tp*100, label=name, linewidth=2, **kwargs)\n",
      "/tmp/ipykernel_104200/1115467876.py:5: MatplotlibDeprecationWarning: Passing label as a length 4 sequence when plotting a single dataset is deprecated in Matplotlib 3.9 and will error in 3.11.  To keep the current behavior, cast the sequence to string before passing.\n",
      "  plt.plot(fp*100, tp*100, label=name, linewidth=2, **kwargs)\n",
      "/tmp/ipykernel_104200/1115467876.py:5: MatplotlibDeprecationWarning: Passing label as a length 4 sequence when plotting a single dataset is deprecated in Matplotlib 3.9 and will error in 3.11.  To keep the current behavior, cast the sequence to string before passing.\n",
      "  plt.plot(fp*100, tp*100, label=name, linewidth=2, **kwargs)\n"
     ]
    },
    {
     "data": {
      "image/png": "[encoded data removed]",
      "text/plain": [
       "<Figure size 640x480 with 1 Axes>"
      ]
     },
     "metadata": {},
     "output_type": "display_data"
    },
    {
     "name": "stderr",
     "output_type": "stream",
     "text": [
      "/tmp/ipykernel_104200/1115467876.py:14: MatplotlibDeprecationWarning: Passing label as a length 4 sequence when plotting a single dataset is deprecated in Matplotlib 3.9 and will error in 3.11.  To keep the current behavior, cast the sequence to string before passing.\n",
      "  plt.plot(prec, rec, label=name, linewidth=2, **kwargs)\n",
      "/tmp/ipykernel_104200/1115467876.py:14: MatplotlibDeprecationWarning: Passing label as a length 4 sequence when plotting a single dataset is deprecated in Matplotlib 3.9 and will error in 3.11.  To keep the current behavior, cast the sequence to string before passing.\n",
      "  plt.plot(prec, rec, label=name, linewidth=2, **kwargs)\n",
      "/tmp/ipykernel_104200/1115467876.py:14: MatplotlibDeprecationWarning: Passing label as a length 4 sequence when plotting a single dataset is deprecated in Matplotlib 3.9 and will error in 3.11.  To keep the current behavior, cast the sequence to string before passing.\n",
      "  plt.plot(prec, rec, label=name, linewidth=2, **kwargs)\n",
      "/tmp/ipykernel_104200/1115467876.py:14: MatplotlibDeprecationWarning: Passing label as a length 4 sequence when plotting a single dataset is deprecated in Matplotlib 3.9 and will error in 3.11.  To keep the current behavior, cast the sequence to string before passing.\n",
      "  plt.plot(prec, rec, label=name, linewidth=2, **kwargs)\n"
     ]
    },
    {
     "data": {
      "image/png": "[encoded data removed]",
      "text/plain": [
       "<Figure size 640x480 with 1 Axes>"
      ]
     },
     "metadata": {},
     "output_type": "display_data"
    }
   ],
   "source": [
    "from sklearn.metrics import roc_curve, precision_recall_curve\n",
    "\n",
    "def plot_roc(name, labels, predictions, **kwargs):\n",
    "    fp, tp, _ = roc_curve(labels, predictions)\n",
    "    plt.plot(fp*100, tp*100, label=name, linewidth=2, **kwargs)\n",
    "    plt.xlabel('False positive rate')\n",
    "    plt.ylabel('True positive rate')\n",
    "    plt.xlim([0,100])\n",
    "    plt.ylim([0,100])\n",
    "    plt.grid(True)\n",
    "\n",
    "def plot_pr(name, labels, predictions, **kwargs):\n",
    "    prec, rec, _ = precision_recall_curve(labels, predictions)\n",
    "    plt.plot(prec, rec, label=name, linewidth=2, **kwargs)\n",
    "    plt.xlabel('Precision')\n",
    "    plt.ylabel('Recall')\n",
    "    plt.xlim([0,1])\n",
    "    plt.ylim([0,1])\n",
    "    plt.grid(True)\n",
    "\n",
    "for i, label in enumerate(labels):\n",
    "    plot_roc(labels, y_true_flat[:, i], y_pred_flat[:, i])\n",
    "plt.legend(labels) \n",
    "plt.show() \n",
    "\n",
    "for i, label in enumerate(labels):\n",
    "    plot_pr(labels, y_true_flat[:, i], y_pred_flat[:, i])\n",
    "plt.legend(labels) \n",
    "plt.show() "
   ]
  },
  {
   "cell_type": "code",
   "execution_count": 24,
   "metadata": {},
   "outputs": [
    {
     "data": {
      "text/plain": [
       "<tf.Tensor: shape=(), dtype=float32, numpy=0.92988586>"
      ]
     },
     "execution_count": 24,
     "metadata": {},
     "output_type": "execute_result"
    }
   ],
   "source": [
    "m = keras.metrics.AUC(curve='roc')\n",
    "m.update_state(y_true_flat[:, 0], y_pred_flat[:, 0])\n",
    "m.result()"
   ]
  },
  {
   "cell_type": "code",
   "execution_count": 25,
   "metadata": {},
   "outputs": [
    {
     "data": {
      "text/plain": [
       "<tf.Tensor: shape=(), dtype=float32, numpy=0.3706826>"
      ]
     },
     "execution_count": 25,
     "metadata": {},
     "output_type": "execute_result"
    }
   ],
   "source": [
    "m = keras.metrics.AUC(curve='pr')\n",
    "m.update_state(y_true_flat[:, 0], y_pred_flat[:, 0])\n",
    "m.result()"
   ]
  },
  {
   "cell_type": "code",
   "execution_count": 28,
   "metadata": {},
   "outputs": [
    {
     "ename": "TypeError",
     "evalue": "Cannot convert 1.0 to EagerTensor of dtype bool",
     "output_type": "error",
     "traceback": [
      "\u001b[0;31m---------------------------------------------------------------------------\u001b[0m",
      "\u001b[0;31mTypeError\u001b[0m                                 Traceback (most recent call last)",
      "\u001b[0;32m/tmp/ipykernel_104200/2099480465.py\u001b[0m in \u001b[0;36m?\u001b[0;34m()\u001b[0m\n\u001b[0;32m----> 1\u001b[0;31m \u001b[0mmean_average_precision\u001b[0m\u001b[0;34m(\u001b[0m\u001b[0mnp\u001b[0m\u001b[0;34m.\u001b[0m\u001b[0marray\u001b[0m\u001b[0;34m(\u001b[0m\u001b[0my_true_flat\u001b[0m\u001b[0;34m)\u001b[0m\u001b[0;34m,\u001b[0m \u001b[0mnp\u001b[0m\u001b[0;34m.\u001b[0m\u001b[0marray\u001b[0m\u001b[0;34m(\u001b[0m\u001b[0my_pred_flat\u001b[0m\u001b[0;34m)\u001b[0m\u001b[0;34m)\u001b[0m\u001b[0;34m\u001b[0m\u001b[0;34m\u001b[0m\u001b[0m\n\u001b[0m\u001b[1;32m      2\u001b[0m \u001b[0;31m# also check prec and recal metrics\u001b[0m\u001b[0;34m\u001b[0m\u001b[0;34m\u001b[0m\u001b[0m\n",
      "\u001b[0;32m~/.local/lib/python3.9/site-packages/tensorflow_ranking/python/metrics.py\u001b[0m in \u001b[0;36m?\u001b[0;34m(labels, predictions, weights, topn, name)\u001b[0m\n\u001b[1;32m    433\u001b[0m   \u001b[0mmetric\u001b[0m \u001b[0;34m=\u001b[0m \u001b[0mmetrics_impl\u001b[0m\u001b[0;34m.\u001b[0m\u001b[0mMeanAveragePrecisionMetric\u001b[0m\u001b[0;34m(\u001b[0m\u001b[0mname\u001b[0m\u001b[0;34m,\u001b[0m \u001b[0mtopn\u001b[0m\u001b[0;34m)\u001b[0m\u001b[0;34m\u001b[0m\u001b[0;34m\u001b[0m\u001b[0m\n\u001b[1;32m    434\u001b[0m   with tf.compat.v1.name_scope(metric.name, 'mean_average_precision',\n\u001b[1;32m    435\u001b[0m                                (labels, predictions, weights)):\n\u001b[1;32m    436\u001b[0m     \u001b[0;31m# TODO: Add mask argument for metric.compute() call\u001b[0m\u001b[0;34m\u001b[0m\u001b[0;34m\u001b[0m\u001b[0m\n\u001b[0;32m--> 437\u001b[0;31m     per_list_map, per_list_weights = metric.compute(labels, predictions,\n\u001b[0m\u001b[1;32m    438\u001b[0m                                                     weights)\n\u001b[1;32m    439\u001b[0m   \u001b[0;32mreturn\u001b[0m \u001b[0mtf\u001b[0m\u001b[0;34m.\u001b[0m\u001b[0mcompat\u001b[0m\u001b[0;34m.\u001b[0m\u001b[0mv1\u001b[0m\u001b[0;34m.\u001b[0m\u001b[0mmetrics\u001b[0m\u001b[0;34m.\u001b[0m\u001b[0mmean\u001b[0m\u001b[0;34m(\u001b[0m\u001b[0mper_list_map\u001b[0m\u001b[0;34m,\u001b[0m \u001b[0mper_list_weights\u001b[0m\u001b[0;34m)\u001b[0m\u001b[0;34m\u001b[0m\u001b[0;34m\u001b[0m\u001b[0m\n",
      "\u001b[0;32m~/.local/lib/python3.9/site-packages/tensorflow_ranking/python/metrics_impl.py\u001b[0m in \u001b[0;36m?\u001b[0;34m(self, labels, predictions, weights, mask)\u001b[0m\n\u001b[1;32m    285\u001b[0m     \"\"\"\n\u001b[1;32m    286\u001b[0m     \u001b[0;32mif\u001b[0m \u001b[0mself\u001b[0m\u001b[0;34m.\u001b[0m\u001b[0m_ragged\u001b[0m\u001b[0;34m:\u001b[0m\u001b[0;34m\u001b[0m\u001b[0;34m\u001b[0m\u001b[0m\n\u001b[1;32m    287\u001b[0m       labels, predictions, weights, mask = utils.ragged_to_dense(\n\u001b[1;32m    288\u001b[0m           labels, predictions, weights)\n\u001b[0;32m--> 289\u001b[0;31m     labels, predictions, weights, mask = self._prepare_and_validate_params(\n\u001b[0m\u001b[1;32m    290\u001b[0m         labels, predictions, weights, mask)\n\u001b[1;32m    291\u001b[0m     \u001b[0;32mreturn\u001b[0m \u001b[0mself\u001b[0m\u001b[0;34m.\u001b[0m\u001b[0m_compute_impl\u001b[0m\u001b[0;34m(\u001b[0m\u001b[0mlabels\u001b[0m\u001b[0;34m,\u001b[0m \u001b[0mpredictions\u001b[0m\u001b[0;34m,\u001b[0m \u001b[0mweights\u001b[0m\u001b[0;34m,\u001b[0m \u001b[0mmask\u001b[0m\u001b[0;34m)\u001b[0m\u001b[0;34m\u001b[0m\u001b[0;34m\u001b[0m\u001b[0m\n",
      "\u001b[0;32m~/.local/lib/python3.9/site-packages/tensorflow_ranking/python/metrics_impl.py\u001b[0m in \u001b[0;36m?\u001b[0;34m(self, labels, predictions, weights, mask)\u001b[0m\n\u001b[1;32m    248\u001b[0m                        'use ragged=True to enable ragged support for metrics.')\n\u001b[1;32m    249\u001b[0m     \u001b[0mlabels\u001b[0m \u001b[0;34m=\u001b[0m \u001b[0mtf\u001b[0m\u001b[0;34m.\u001b[0m\u001b[0mconvert_to_tensor\u001b[0m\u001b[0;34m(\u001b[0m\u001b[0mvalue\u001b[0m\u001b[0;34m=\u001b[0m\u001b[0mlabels\u001b[0m\u001b[0;34m)\u001b[0m\u001b[0;34m\u001b[0m\u001b[0;34m\u001b[0m\u001b[0m\n\u001b[1;32m    250\u001b[0m     \u001b[0mpredictions\u001b[0m \u001b[0;34m=\u001b[0m \u001b[0mtf\u001b[0m\u001b[0;34m.\u001b[0m\u001b[0mconvert_to_tensor\u001b[0m\u001b[0;34m(\u001b[0m\u001b[0mvalue\u001b[0m\u001b[0;34m=\u001b[0m\u001b[0mpredictions\u001b[0m\u001b[0;34m)\u001b[0m\u001b[0;34m\u001b[0m\u001b[0;34m\u001b[0m\u001b[0m\n\u001b[1;32m    251\u001b[0m     \u001b[0mweights\u001b[0m \u001b[0;34m=\u001b[0m \u001b[0;36m1.0\u001b[0m \u001b[0;32mif\u001b[0m \u001b[0mweights\u001b[0m \u001b[0;32mis\u001b[0m \u001b[0;32mNone\u001b[0m \u001b[0;32melse\u001b[0m \u001b[0mtf\u001b[0m\u001b[0;34m.\u001b[0m\u001b[0mconvert_to_tensor\u001b[0m\u001b[0;34m(\u001b[0m\u001b[0mvalue\u001b[0m\u001b[0;34m=\u001b[0m\u001b[0mweights\u001b[0m\u001b[0;34m)\u001b[0m\u001b[0;34m\u001b[0m\u001b[0;34m\u001b[0m\u001b[0m\n\u001b[0;32m--> 252\u001b[0;31m     \u001b[0mexample_weights\u001b[0m \u001b[0;34m=\u001b[0m \u001b[0mtf\u001b[0m\u001b[0;34m.\u001b[0m\u001b[0mones_like\u001b[0m\u001b[0;34m(\u001b[0m\u001b[0mlabels\u001b[0m\u001b[0;34m)\u001b[0m \u001b[0;34m*\u001b[0m \u001b[0mweights\u001b[0m\u001b[0;34m\u001b[0m\u001b[0;34m\u001b[0m\u001b[0m\n\u001b[0m\u001b[1;32m    253\u001b[0m     predictions.get_shape().assert_is_compatible_with(\n\u001b[1;32m    254\u001b[0m         example_weights.get_shape())\n\u001b[1;32m    255\u001b[0m     \u001b[0mpredictions\u001b[0m\u001b[0;34m.\u001b[0m\u001b[0mget_shape\u001b[0m\u001b[0;34m(\u001b[0m\u001b[0;34m)\u001b[0m\u001b[0;34m.\u001b[0m\u001b[0massert_is_compatible_with\u001b[0m\u001b[0;34m(\u001b[0m\u001b[0mlabels\u001b[0m\u001b[0;34m.\u001b[0m\u001b[0mget_shape\u001b[0m\u001b[0;34m(\u001b[0m\u001b[0;34m)\u001b[0m\u001b[0;34m)\u001b[0m\u001b[0;34m\u001b[0m\u001b[0;34m\u001b[0m\u001b[0m\n",
      "\u001b[0;32m~/.local/lib/python3.9/site-packages/tensorflow/python/util/traceback_utils.py\u001b[0m in \u001b[0;36m?\u001b[0;34m(*args, **kwargs)\u001b[0m\n\u001b[1;32m    151\u001b[0m     \u001b[0;32mexcept\u001b[0m \u001b[0mException\u001b[0m \u001b[0;32mas\u001b[0m \u001b[0me\u001b[0m\u001b[0;34m:\u001b[0m\u001b[0;34m\u001b[0m\u001b[0;34m\u001b[0m\u001b[0m\n\u001b[1;32m    152\u001b[0m       \u001b[0mfiltered_tb\u001b[0m \u001b[0;34m=\u001b[0m \u001b[0m_process_traceback_frames\u001b[0m\u001b[0;34m(\u001b[0m\u001b[0me\u001b[0m\u001b[0;34m.\u001b[0m\u001b[0m__traceback__\u001b[0m\u001b[0;34m)\u001b[0m\u001b[0;34m\u001b[0m\u001b[0;34m\u001b[0m\u001b[0m\n\u001b[1;32m    153\u001b[0m       \u001b[0;32mraise\u001b[0m \u001b[0me\u001b[0m\u001b[0;34m.\u001b[0m\u001b[0mwith_traceback\u001b[0m\u001b[0;34m(\u001b[0m\u001b[0mfiltered_tb\u001b[0m\u001b[0;34m)\u001b[0m \u001b[0;32mfrom\u001b[0m \u001b[0;32mNone\u001b[0m\u001b[0;34m\u001b[0m\u001b[0;34m\u001b[0m\u001b[0m\n\u001b[1;32m    154\u001b[0m     \u001b[0;32mfinally\u001b[0m\u001b[0;34m:\u001b[0m\u001b[0;34m\u001b[0m\u001b[0;34m\u001b[0m\u001b[0m\n\u001b[0;32m--> 155\u001b[0;31m       \u001b[0;32mdel\u001b[0m \u001b[0mfiltered_tb\u001b[0m\u001b[0;34m\u001b[0m\u001b[0;34m\u001b[0m\u001b[0m\n\u001b[0m",
      "\u001b[0;32m~/.local/lib/python3.9/site-packages/tensorflow/python/ops/gen_math_ops.py\u001b[0m in \u001b[0;36m?\u001b[0;34m(x, y, name)\u001b[0m\n\u001b[1;32m   6753\u001b[0m       \u001b[0;32mreturn\u001b[0m \u001b[0m_result\u001b[0m\u001b[0;34m\u001b[0m\u001b[0;34m\u001b[0m\u001b[0m\n\u001b[1;32m   6754\u001b[0m     \u001b[0;32mexcept\u001b[0m \u001b[0m_core\u001b[0m\u001b[0;34m.\u001b[0m\u001b[0m_NotOkStatusException\u001b[0m \u001b[0;32mas\u001b[0m \u001b[0me\u001b[0m\u001b[0;34m:\u001b[0m\u001b[0;34m\u001b[0m\u001b[0;34m\u001b[0m\u001b[0m\n\u001b[1;32m   6755\u001b[0m       \u001b[0m_ops\u001b[0m\u001b[0;34m.\u001b[0m\u001b[0mraise_from_not_ok_status\u001b[0m\u001b[0;34m(\u001b[0m\u001b[0me\u001b[0m\u001b[0;34m,\u001b[0m \u001b[0mname\u001b[0m\u001b[0;34m)\u001b[0m\u001b[0;34m\u001b[0m\u001b[0;34m\u001b[0m\u001b[0m\n\u001b[1;32m   6756\u001b[0m     \u001b[0;32mexcept\u001b[0m \u001b[0m_core\u001b[0m\u001b[0;34m.\u001b[0m\u001b[0m_FallbackException\u001b[0m\u001b[0;34m:\u001b[0m\u001b[0;34m\u001b[0m\u001b[0;34m\u001b[0m\u001b[0m\n\u001b[0;32m-> 6757\u001b[0;31m       \u001b[0;32mpass\u001b[0m\u001b[0;34m\u001b[0m\u001b[0;34m\u001b[0m\u001b[0m\n\u001b[0m\u001b[1;32m   6758\u001b[0m     \u001b[0;32mtry\u001b[0m\u001b[0;34m:\u001b[0m\u001b[0;34m\u001b[0m\u001b[0;34m\u001b[0m\u001b[0m\n\u001b[1;32m   6759\u001b[0m       return mul_eager_fallback(\n\u001b[1;32m   6760\u001b[0m           x, y, name=name, ctx=_ctx)\n",
      "\u001b[0;31mTypeError\u001b[0m: Cannot convert 1.0 to EagerTensor of dtype bool"
     ]
    }
   ],
   "source": [
    "mean_average_precision(np.array(y_true_flat), np.array(y_pred_flat))\n",
    "# also check prec and recal metrics"
   ]
  },
  {
   "cell_type": "code",
   "execution_count": 27,
   "metadata": {},
   "outputs": [
    {
     "data": {
      "text/plain": [
       "'1.26.4'"
      ]
     },
     "execution_count": 27,
     "metadata": {},
     "output_type": "execute_result"
    }
   ],
   "source": []
  },
  {
   "cell_type": "code",
   "execution_count": 20,
   "metadata": {},
   "outputs": [
    {
     "ename": "InvalidArgumentError",
     "evalue": "Incompatible shapes: [88416,4,4] vs. [88416] [Op:RealDiv]",
     "output_type": "error",
     "traceback": [
      "\u001b[0;31m---------------------------------------------------------------------------\u001b[0m",
      "\u001b[0;31mInvalidArgumentError\u001b[0m                      Traceback (most recent call last)",
      "Cell \u001b[0;32mIn[20], line 19\u001b[0m\n\u001b[1;32m     15\u001b[0m     average_precision \u001b[38;5;241m=\u001b[39m tf\u001b[38;5;241m.\u001b[39mreduce_sum(precision \u001b[38;5;241m*\u001b[39m y_true_sorted) \u001b[38;5;241m/\u001b[39m (tf\u001b[38;5;241m.\u001b[39mreduce_sum(y_true_sorted) \u001b[38;5;241m+\u001b[39m tf\u001b[38;5;241m.\u001b[39mkeras\u001b[38;5;241m.\u001b[39mbackend\u001b[38;5;241m.\u001b[39mepsilon())\n\u001b[1;32m     17\u001b[0m     \u001b[38;5;28;01mreturn\u001b[39;00m average_precision\n\u001b[0;32m---> 19\u001b[0m \u001b[43mmean_average_precision\u001b[49m\u001b[43m(\u001b[49m\u001b[43my_true_flat\u001b[49m\u001b[43m,\u001b[49m\u001b[43m \u001b[49m\u001b[43my_pred_flat\u001b[49m\u001b[43m)\u001b[49m\n",
      "Cell \u001b[0;32mIn[20], line 12\u001b[0m, in \u001b[0;36mmean_average_precision\u001b[0;34m(y_true, y_pred)\u001b[0m\n\u001b[1;32m     10\u001b[0m \u001b[38;5;66;03m# Calculate cumulative precision\u001b[39;00m\n\u001b[1;32m     11\u001b[0m tp \u001b[38;5;241m=\u001b[39m tf\u001b[38;5;241m.\u001b[39mcumsum(y_true_sorted)\n\u001b[0;32m---> 12\u001b[0m precision \u001b[38;5;241m=\u001b[39m \u001b[43mtp\u001b[49m\u001b[43m \u001b[49m\u001b[38;5;241;43m/\u001b[39;49m\u001b[43m \u001b[49m\u001b[43m(\u001b[49m\u001b[43mtf\u001b[49m\u001b[38;5;241;43m.\u001b[39;49m\u001b[43mrange\u001b[49m\u001b[43m(\u001b[49m\u001b[38;5;241;43m1\u001b[39;49m\u001b[43m,\u001b[49m\u001b[43m \u001b[49m\u001b[43mtf\u001b[49m\u001b[38;5;241;43m.\u001b[39;49m\u001b[43mshape\u001b[49m\u001b[43m(\u001b[49m\u001b[43my_true_sorted\u001b[49m\u001b[43m)\u001b[49m\u001b[43m[\u001b[49m\u001b[38;5;241;43m0\u001b[39;49m\u001b[43m]\u001b[49m\u001b[43m \u001b[49m\u001b[38;5;241;43m+\u001b[39;49m\u001b[43m \u001b[49m\u001b[38;5;241;43m1\u001b[39;49m\u001b[43m,\u001b[49m\u001b[43m \u001b[49m\u001b[43mdtype\u001b[49m\u001b[38;5;241;43m=\u001b[39;49m\u001b[43mtf\u001b[49m\u001b[38;5;241;43m.\u001b[39;49m\u001b[43mfloat32\u001b[49m\u001b[43m)\u001b[49m\u001b[43m)\u001b[49m\n\u001b[1;32m     14\u001b[0m \u001b[38;5;66;03m# Calculate average precision for each class\u001b[39;00m\n\u001b[1;32m     15\u001b[0m average_precision \u001b[38;5;241m=\u001b[39m tf\u001b[38;5;241m.\u001b[39mreduce_sum(precision \u001b[38;5;241m*\u001b[39m y_true_sorted) \u001b[38;5;241m/\u001b[39m (tf\u001b[38;5;241m.\u001b[39mreduce_sum(y_true_sorted) \u001b[38;5;241m+\u001b[39m tf\u001b[38;5;241m.\u001b[39mkeras\u001b[38;5;241m.\u001b[39mbackend\u001b[38;5;241m.\u001b[39mepsilon())\n",
      "File \u001b[0;32m~/.local/lib/python3.9/site-packages/tensorflow/python/util/traceback_utils.py:153\u001b[0m, in \u001b[0;36mfilter_traceback.<locals>.error_handler\u001b[0;34m(*args, **kwargs)\u001b[0m\n\u001b[1;32m    151\u001b[0m \u001b[38;5;28;01mexcept\u001b[39;00m \u001b[38;5;167;01mException\u001b[39;00m \u001b[38;5;28;01mas\u001b[39;00m e:\n\u001b[1;32m    152\u001b[0m   filtered_tb \u001b[38;5;241m=\u001b[39m _process_traceback_frames(e\u001b[38;5;241m.\u001b[39m__traceback__)\n\u001b[0;32m--> 153\u001b[0m   \u001b[38;5;28;01mraise\u001b[39;00m e\u001b[38;5;241m.\u001b[39mwith_traceback(filtered_tb) \u001b[38;5;28;01mfrom\u001b[39;00m \u001b[38;5;28;01mNone\u001b[39;00m\n\u001b[1;32m    154\u001b[0m \u001b[38;5;28;01mfinally\u001b[39;00m:\n\u001b[1;32m    155\u001b[0m   \u001b[38;5;28;01mdel\u001b[39;00m filtered_tb\n",
      "File \u001b[0;32m~/.local/lib/python3.9/site-packages/tensorflow/python/framework/ops.py:7107\u001b[0m, in \u001b[0;36mraise_from_not_ok_status\u001b[0;34m(e, name)\u001b[0m\n\u001b[1;32m   7105\u001b[0m \u001b[38;5;28;01mdef\u001b[39;00m \u001b[38;5;21mraise_from_not_ok_status\u001b[39m(e, name):\n\u001b[1;32m   7106\u001b[0m   e\u001b[38;5;241m.\u001b[39mmessage \u001b[38;5;241m+\u001b[39m\u001b[38;5;241m=\u001b[39m (\u001b[38;5;124m\"\u001b[39m\u001b[38;5;124m name: \u001b[39m\u001b[38;5;124m\"\u001b[39m \u001b[38;5;241m+\u001b[39m name \u001b[38;5;28;01mif\u001b[39;00m name \u001b[38;5;129;01mis\u001b[39;00m \u001b[38;5;129;01mnot\u001b[39;00m \u001b[38;5;28;01mNone\u001b[39;00m \u001b[38;5;28;01melse\u001b[39;00m \u001b[38;5;124m\"\u001b[39m\u001b[38;5;124m\"\u001b[39m)\n\u001b[0;32m-> 7107\u001b[0m   \u001b[38;5;28;01mraise\u001b[39;00m core\u001b[38;5;241m.\u001b[39m_status_to_exception(e) \u001b[38;5;28;01mfrom\u001b[39;00m \u001b[38;5;28;01mNone\u001b[39;00m\n",
      "\u001b[0;31mInvalidArgumentError\u001b[0m: Incompatible shapes: [88416,4,4] vs. [88416] [Op:RealDiv]"
     ]
    }
   ],
   "source": [
    "def mean_average_precision(y_true, y_pred):\n",
    "    # Ensure y_true and y_pred are binary\n",
    "    y_true = tf.cast(y_true, tf.float32)\n",
    "    y_pred = tf.cast(y_pred, tf.float32)\n",
    "\n",
    "    # Sort predictions\n",
    "    indices = tf.argsort(y_pred, direction='DESCENDING')\n",
    "    y_true_sorted = tf.gather(y_true, indices)\n",
    "    \n",
    "    # Calculate cumulative precision\n",
    "    tp = tf.cumsum(y_true_sorted)\n",
    "    precision = tp / (tf.range(1, tf.shape(y_true_sorted)[0] + 1, dtype=tf.float32))\n",
    "\n",
    "    # Calculate average precision for each class\n",
    "    average_precision = tf.reduce_sum(precision * y_true_sorted) / (tf.reduce_sum(y_true_sorted) + tf.keras.backend.epsilon())\n",
    "\n",
    "    return average_precision\n",
    "\n",
    "mean_average_precision(y_true_flat, y_pred_flat)"
   ]
  },
  {
   "cell_type": "code",
   "execution_count": 21,
   "metadata": {},
   "outputs": [
    {
     "ename": "ModuleNotFoundError",
     "evalue": "No module named 'tfr'",
     "output_type": "error",
     "traceback": [
      "\u001b[0;31m---------------------------------------------------------------------------\u001b[0m",
      "\u001b[0;31mModuleNotFoundError\u001b[0m                       Traceback (most recent call last)",
      "Cell \u001b[0;32mIn[21], line 1\u001b[0m\n\u001b[0;32m----> 1\u001b[0m \u001b[38;5;28;01mimport\u001b[39;00m \u001b[38;5;21;01mtfr\u001b[39;00m\u001b[38;5;21;01m.\u001b[39;00m\u001b[38;5;21;01mkeras\u001b[39;00m\u001b[38;5;21;01m.\u001b[39;00m\u001b[38;5;21;01mmetrics\u001b[39;00m\u001b[38;5;21;01m.\u001b[39;00m\u001b[38;5;21;01mMeanAveragePrecisionMetric\u001b[39;00m \n",
      "\u001b[0;31mModuleNotFoundError\u001b[0m: No module named 'tfr'"
     ]
    }
   ],
   "source": [
    "import tensorflow as tf\n",
    "import tensorflow_recommenders as tfr\n",
    "\n",
    "map_metric = tfr.keras.metrics.MeanAveragePrecisionMetric()\n",
    "map_metric.update_state(y_true_flat, y_pred_flat)\n",
    "final_map = map_metric.result()"
   ]
  },
  {
   "cell_type": "code",
   "execution_count": 23,
   "metadata": {},
   "outputs": [],
   "source": [
    "model.save('../models/full_training_data_20epochs/model.keras')"
   ]
  },
  {
   "cell_type": "code",
   "execution_count": 32,
   "metadata": {},
   "outputs": [
    {
     "name": "stdout",
     "output_type": "stream",
     "text": [
      "Precision: 0.75789475440979\n",
      "Recall: 0.3148688077926636\n"
     ]
    }
   ],
   "source": [
    "import numpy as np\n",
    "import tensorflow as tf\n",
    "from tensorflow.keras.metrics import Precision, Recall\n",
    "\n",
    "threshold = 0.5\n",
    "\n",
    "y_pred_binary = (y_pred >= threshold).astype(int)\n",
    "\n",
    "precision_metric = Precision()\n",
    "recall_metric = Recall()\n",
    "\n",
    "precision_metric.update_state(y_true, y_pred_binary)\n",
    "recall_metric.update_state(y_true, y_pred_binary)\n",
    "\n",
    "precision = precision_metric.result().numpy()\n",
    "recall = recall_metric.result().numpy()\n",
    "\n",
    "print(f\"Precision: {precision}\")\n",
    "print(f\"Recall: {recall}\")"
   ]
  }
 ],
 "metadata": {
  "kernelspec": {
   "display_name": "Python 3 (ipykernel)",
   "language": "python",
   "name": "python3"
  },
  "language_info": {
   "codemirror_mode": {
    "name": "ipython",
    "version": 3
   },
   "file_extension": ".py",
   "mimetype": "text/x-python",
   "name": "python",
   "nbconvert_exporter": "python",
   "pygments_lexer": "ipython3",
   "version": "3.9.16"
  }
 },
 "nbformat": 4,
 "nbformat_minor": 4
}
