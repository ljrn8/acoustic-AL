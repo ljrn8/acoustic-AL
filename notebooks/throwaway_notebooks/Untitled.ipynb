{
 "cells": [
  {
   "cell_type": "code",
   "execution_count": 2,
   "id": "aaa7eca9-a401-4078-b58d-e36cbcf432bd",
   "metadata": {},
   "outputs": [
    {
     "name": "stdout",
     "output_type": "stream",
     "text": [
      "The autoreload extension is already loaded. To reload it, use:\n",
      "  %reload_ext autoreload\n"
     ]
    }
   ],
   "source": [
    "%load_ext autoreload\n",
    "%autoreload 2\n",
    "\n",
    "import numpy as np\n",
    "\n",
    "import librosa \n",
    "import matplotlib.pyplot as plt\n",
    "from tqdm import tqdm\n",
    "from config import *\n",
    "import h5py\n",
    "from util import DEFAULT_TOKENS\n",
    "import librosa"
   ]
  },
  {
   "cell_type": "code",
   "execution_count": 4,
   "id": "e4090d57-2b65-4a02-9899-0aaf1d1a8d88",
   "metadata": {},
   "outputs": [],
   "source": [
    "logmel_f = h5py.File(INTERMEDIATE / 'logmel.hdf5', 'a')\n",
    "samples_f = h5py.File(INTERMEDIATE / '22sr_samples.hdf5', 'r')"
   ]
  },
  {
   "cell_type": "code",
   "execution_count": 20,
   "id": "4db4196d-cfec-4057-bdec-6bfbefe8d12b",
   "metadata": {},
   "outputs": [],
   "source": [
    "Y_new = np.load(INTERMEDIATE / 'multilabel' / 'logmel_labels_5col.npy')\n",
    "X = np.load(INTERMEDIATE / 'multilabel' / 'logmel.npy')"
   ]
  },
  {
   "cell_type": "code",
   "execution_count": 11,
   "id": "49c59013-b8f7-4c75-9552-c66a625b660f",
   "metadata": {},
   "outputs": [
    {
     "name": "stdout",
     "output_type": "stream",
     "text": [
      "[ True  True False False False]\n",
      "[False False  True  True False]\n",
      "[False False  True  True False]\n",
      "[False  True False  True False]\n",
      "[False False  True  True False]\n",
      "[ True False  True False False]\n",
      "[ True False False  True False]\n",
      "[ True  True False False False]\n",
      "[False False  True  True False]\n",
      "[False False  True  True False]\n",
      "[ True  True False False False]\n",
      "[False False  True  True False]\n",
      "[False False  True  True False]\n",
      "[False False  True  True False]\n",
      "[ True False  True False False]\n",
      "[False False  True  True False]\n",
      "[False False  True  True False]\n",
      "[ True False  True False False]\n",
      "[ True False False  True False]\n",
      "[False False  True  True False]\n",
      "[False False  True  True False]\n",
      "[False False  True  True False]\n",
      "[False False  True  True False]\n",
      "[False False  True  True False]\n"
     ]
    }
   ],
   "source": [
    "for y in Y_new:\n",
    "    if y.sum() > 1:\n",
    "        print(y)"
   ]
  },
  {
   "cell_type": "code",
   "execution_count": 12,
   "id": "6efa2900-b66c-4104-ba97-0bcb1f4b9ee3",
   "metadata": {},
   "outputs": [],
   "source": [
    "np.save(INTERMEDIATE / \"logmel_labels_5col\", Y_new)"
   ]
  },
  {
   "cell_type": "code",
   "execution_count": 16,
   "id": "02f86300-dee4-4827-8c68-ed1a13731abc",
   "metadata": {},
   "outputs": [
    {
     "data": {
      "text/plain": [
       "24"
      ]
     },
     "execution_count": 16,
     "metadata": {},
     "output_type": "execute_result"
    }
   ],
   "source": [
    "i = np.where(Y.sum(axis=1) > 1)\n",
    "len(i[0])"
   ]
  },
  {
   "cell_type": "code",
   "execution_count": 31,
   "id": "90267797-9cf7-449d-aa2e-75e33892d666",
   "metadata": {},
   "outputs": [
    {
     "data": {
      "text/plain": [
       "(211636, 211660)"
      ]
     },
     "execution_count": 31,
     "metadata": {},
     "output_type": "execute_result"
    }
   ],
   "source": [
    "len(X_softmax), len(X)"
   ]
  },
  {
   "cell_type": "code",
   "execution_count": 30,
   "id": "7e40933c-dbf6-4b10-8b3e-121886362ac7",
   "metadata": {},
   "outputs": [
    {
     "data": {
      "text/plain": [
       "(211636, 211660)"
      ]
     },
     "execution_count": 30,
     "metadata": {},
     "output_type": "execute_result"
    }
   ],
   "source": [
    "# pool_X = np.delete(pool_X, query_indicies, axis=0)\n",
    "Y_softmax = np.delete(Y, i, axis=0)\n",
    "X_softmax = np.delete(X, i, axis=0)\n",
    "len(Y_softmax), len(Y)"
   ]
  },
  {
   "cell_type": "code",
   "execution_count": 32,
   "id": "c9f439e1-7b63-4609-b191-dab05e71a95f",
   "metadata": {},
   "outputs": [],
   "source": [
    "np.save(INTERMEDIATE / 'logmel_multiclass_noise.npy', X_softmax)\n",
    "np.save(INTERMEDIATE / 'logmel_labels_multiclass_noise.npy', Y_softmax)"
   ]
  },
  {
   "cell_type": "code",
   "execution_count": null,
   "id": "3438a16e-fe95-4507-9502-a838cfe2db6b",
   "metadata": {},
   "outputs": [],
   "source": []
  }
 ],
 "metadata": {
  "kernelspec": {
   "display_name": "Python 3 (ipykernel)",
   "language": "python",
   "name": "python3"
  },
  "language_info": {
   "codemirror_mode": {
    "name": "ipython",
    "version": 3
   },
   "file_extension": ".py",
   "mimetype": "text/x-python",
   "name": "python",
   "nbconvert_exporter": "python",
   "pygments_lexer": "ipython3",
   "version": "3.9.16"
  }
 },
 "nbformat": 4,
 "nbformat_minor": 5
}
