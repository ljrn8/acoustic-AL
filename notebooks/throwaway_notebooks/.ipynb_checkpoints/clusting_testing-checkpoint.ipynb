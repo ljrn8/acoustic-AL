{
 "cells": [
  {
   "cell_type": "code",
   "execution_count": 1,
   "id": "a4ed9b59-6c82-45cb-80a2-803535d46af3",
   "metadata": {},
   "outputs": [],
   "source": [
    "%load_ext autoreload\n",
    "%autoreload 2\n",
    "\n",
    "import numpy as np\n",
    "\n",
    "import librosa \n",
    "import matplotlib.pyplot as plt\n",
    "from tqdm import tqdm\n",
    "from config import *\n",
    "import h5py\n",
    "from util import DEFAULT_TOKENS\n",
    "import librosa"
   ]
  },
  {
   "cell_type": "code",
   "execution_count": 2,
   "id": "debb556f-d6bc-4a62-8089-92c4a20009cf",
   "metadata": {},
   "outputs": [],
   "source": [
    "X = np.load(INTERMEDIATE / 'logmel_multiclass_noise.npy')\n",
    "Y = np.load(INTERMEDIATE / 'logmel_labels_multiclass_noise.npy')"
   ]
  },
  {
   "cell_type": "code",
   "execution_count": 3,
   "id": "66ba84a2-7828-484a-bd4b-6344364dd511",
   "metadata": {},
   "outputs": [],
   "source": [
    "mfccs_features = np.array([\n",
    "    librosa.feature.mfcc(S=x, n_mfcc=11).flatten() for x in X\n",
    "])"
   ]
  },
  {
   "cell_type": "code",
   "execution_count": null,
   "id": "57d14650-4f41-4bea-8eec-fce631945478",
   "metadata": {},
   "outputs": [],
   "source": [
    "from sklearn.cluster import DBSCAN\n",
    "\n",
    "def dbs(features):\n",
    "    dbscan = DBSCAN(eps=20, min_samples=5)\n",
    "    dbscan.fit(features)\n",
    "    return dbscan, dbscan.labels_\n",
    "\n",
    "\n"
   ]
  },
  {
   "cell_type": "code",
   "execution_count": null,
   "id": "de54f46c-eb12-4790-ab65-40c71b29df92",
   "metadata": {},
   "outputs": [],
   "source": [
    "def view(features, labels):\n",
    "    from sklearn.decomposition import PCA\n",
    "    pca = PCA(n_components=2)\n",
    "    reduced_data = pca.fit_transform(features)\n",
    "    plt.figure(figsize=(10, 8))\n",
    "    plt.scatter(reduced_data[:, 0], reduced_data[:, 1], c=labels, cmap='viridis', s=1)\n",
    "    plt.xlabel('Principal Component 1')\n",
    "    plt.ylabel('Principal Component 2')\n",
    "    plt.colorbar(label='Cluster Label')\n",
    "    plt.show()\n",
    "\n",
    "\n",
    "view(mfccs_features, dbscan_labels)"
   ]
  },
  {
   "cell_type": "code",
   "execution_count": null,
   "id": "1ab8e130-a4e8-4aa2-834e-05c4d994e798",
   "metadata": {},
   "outputs": [],
   "source": []
  }
 ],
 "metadata": {
  "kernelspec": {
   "display_name": "Python 3 (ipykernel)",
   "language": "python",
   "name": "python3"
  },
  "language_info": {
   "codemirror_mode": {
    "name": "ipython",
    "version": 3
   },
   "file_extension": ".py",
   "mimetype": "text/x-python",
   "name": "python",
   "nbconvert_exporter": "python",
   "pygments_lexer": "ipython3",
   "version": "3.9.16"
  }
 },
 "nbformat": 4,
 "nbformat_minor": 5
}
