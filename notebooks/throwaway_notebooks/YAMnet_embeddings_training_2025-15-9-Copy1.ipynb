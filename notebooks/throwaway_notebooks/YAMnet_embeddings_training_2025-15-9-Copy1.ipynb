{
 "cells": [
  {
   "cell_type": "markdown",
   "metadata": {},
   "source": [
    "## YAMnet classification by segmentation | initial dataset training and testing"
   ]
  },
  {
   "cell_type": "code",
   "execution_count": 2,
   "metadata": {},
   "outputs": [
    {
     "name": "stderr",
     "output_type": "stream",
     "text": [
      "[autoreload of google.protobuf.descriptor failed: Traceback (most recent call last):\n",
      "  File \"/home/ec2-user/.local/lib/python3.9/site-packages/IPython/extensions/autoreload.py\", line 276, in check\n",
      "    superreload(m, reload, self.old_objects)\n",
      "  File \"/home/ec2-user/.local/lib/python3.9/site-packages/IPython/extensions/autoreload.py\", line 500, in superreload\n",
      "    update_generic(old_obj, new_obj)\n",
      "  File \"/home/ec2-user/.local/lib/python3.9/site-packages/IPython/extensions/autoreload.py\", line 397, in update_generic\n",
      "    update(a, b)\n",
      "  File \"/home/ec2-user/.local/lib/python3.9/site-packages/IPython/extensions/autoreload.py\", line 365, in update_class\n",
      "    update_instances(old, new)\n",
      "  File \"/home/ec2-user/.local/lib/python3.9/site-packages/IPython/extensions/autoreload.py\", line 323, in update_instances\n",
      "    object.__setattr__(ref, \"__class__\", new)\n",
      "TypeError: can't apply this __setattr__ to DescriptorMetaclass object\n",
      "]\n",
      "[autoreload of tensorflow.core.framework.tensor_pb2 failed: Traceback (most recent call last):\n",
      "  File \"/home/ec2-user/.local/lib/python3.9/site-packages/IPython/extensions/autoreload.py\", line 276, in check\n",
      "    superreload(m, reload, self.old_objects)\n",
      "  File \"/home/ec2-user/.local/lib/python3.9/site-packages/IPython/extensions/autoreload.py\", line 500, in superreload\n",
      "    update_generic(old_obj, new_obj)\n",
      "  File \"/home/ec2-user/.local/lib/python3.9/site-packages/IPython/extensions/autoreload.py\", line 397, in update_generic\n",
      "    update(a, b)\n",
      "  File \"/home/ec2-user/.local/lib/python3.9/site-packages/IPython/extensions/autoreload.py\", line 365, in update_class\n",
      "    update_instances(old, new)\n",
      "  File \"/home/ec2-user/.local/lib/python3.9/site-packages/IPython/extensions/autoreload.py\", line 323, in update_instances\n",
      "    object.__setattr__(ref, \"__class__\", new)\n",
      "TypeError: can't apply this __setattr__ to TensorProto object\n",
      "]\n",
      "[autoreload of tensorflow.python.util.tf_stack failed: Traceback (most recent call last):\n",
      "  File \"/home/ec2-user/.local/lib/python3.9/site-packages/IPython/extensions/autoreload.py\", line 276, in check\n",
      "    superreload(m, reload, self.old_objects)\n",
      "  File \"/home/ec2-user/.local/lib/python3.9/site-packages/IPython/extensions/autoreload.py\", line 475, in superreload\n",
      "    module = reload(module)\n",
      "  File \"/usr/lib64/python3.9/importlib/__init__.py\", line 169, in reload\n",
      "    _bootstrap._exec(spec, module)\n",
      "  File \"<frozen importlib._bootstrap>\", line 613, in _exec\n",
      "  File \"<frozen importlib._bootstrap_external>\", line 850, in exec_module\n",
      "  File \"<frozen importlib._bootstrap>\", line 228, in _call_with_frames_removed\n",
      "  File \"/home/ec2-user/.local/lib/python3.9/site-packages/tensorflow/python/util/tf_stack.py\", line 198, in <module>\n",
      "    StackSummary = _tf_stack.StackTraceWrapper\n",
      "AttributeError: module 'tensorflow.python.util._tf_stack' has no attribute 'StackTraceWrapper'\n",
      "]\n",
      "[autoreload of tensorflow.core.lib.core.error_codes_pb2 failed: Traceback (most recent call last):\n",
      "  File \"/home/ec2-user/.local/lib/python3.9/site-packages/IPython/extensions/autoreload.py\", line 276, in check\n",
      "    superreload(m, reload, self.old_objects)\n",
      "  File \"/home/ec2-user/.local/lib/python3.9/site-packages/IPython/extensions/autoreload.py\", line 475, in superreload\n",
      "    module = reload(module)\n",
      "  File \"/usr/lib64/python3.9/importlib/__init__.py\", line 169, in reload\n",
      "    _bootstrap._exec(spec, module)\n",
      "  File \"<frozen importlib._bootstrap>\", line 613, in _exec\n",
      "  File \"<frozen importlib._bootstrap_external>\", line 850, in exec_module\n",
      "  File \"<frozen importlib._bootstrap>\", line 228, in _call_with_frames_removed\n",
      "  File \"/home/ec2-user/.local/lib/python3.9/site-packages/tensorflow/core/lib/core/error_codes_pb2.py\", line 20, in <module>\n",
      "    DESCRIPTOR = _descriptor.FileDescriptor(\n",
      "  File \"/home/ec2-user/.local/lib/python3.9/site-packages/google/protobuf/descriptor.py\", line 1024, in __new__\n",
      "    return _message.default_pool.AddSerializedFile(serialized_pb)\n",
      "TypeError: Couldn't build proto file into descriptor pool!\n",
      "Invalid proto descriptor for file \"tensorflow/core/lib/core/error_codes.proto\":\n",
      "  tensorflow/core/protobuf/error_codes.proto: Import \"tensorflow/core/protobuf/error_codes.proto\" has not been loaded.\n",
      "\n",
      "]\n",
      "[autoreload of tensorflow.python.framework.c_api_util failed: Traceback (most recent call last):\n",
      "  File \"/home/ec2-user/.local/lib/python3.9/site-packages/IPython/extensions/autoreload.py\", line 276, in check\n",
      "    superreload(m, reload, self.old_objects)\n",
      "  File \"/home/ec2-user/.local/lib/python3.9/site-packages/IPython/extensions/autoreload.py\", line 500, in superreload\n",
      "    update_generic(old_obj, new_obj)\n",
      "  File \"/home/ec2-user/.local/lib/python3.9/site-packages/IPython/extensions/autoreload.py\", line 397, in update_generic\n",
      "    update(a, b)\n",
      "  File \"/home/ec2-user/.local/lib/python3.9/site-packages/IPython/extensions/autoreload.py\", line 349, in update_class\n",
      "    if update_generic(old_obj, new_obj):\n",
      "  File \"/home/ec2-user/.local/lib/python3.9/site-packages/IPython/extensions/autoreload.py\", line 397, in update_generic\n",
      "    update(a, b)\n",
      "  File \"/home/ec2-user/.local/lib/python3.9/site-packages/IPython/extensions/autoreload.py\", line 309, in update_function\n",
      "    setattr(old, name, getattr(new, name))\n",
      "ValueError: __init__() requires a code object with 1 free vars, not 0\n",
      "]\n"
     ]
    }
   ],
   "source": [
    "%load_ext autoreload\n",
    "%autoreload 2\n",
    "\n",
    "\n",
    "import tensorflow as tf\n",
    "from tensorflow  import keras\n",
    "import numpy as np\n",
    "\n",
    "import librosa \n",
    "from dataset import WavDataset\n",
    "from config import *\n",
    "import matplotlib.pyplot as plt\n",
    "\n",
    "import h5py\n",
    "from pathlib import Path\n",
    "from config import INTERMEDIATE, MODEL_DIR\n",
    "import pickle"
   ]
  },
  {
   "cell_type": "markdown",
   "metadata": {},
   "source": [
    "## Data\n",
    "- all 5 second overlapping chunks have been pregenerated under ../output/intermediate/train.hdf5 (untracked on github).\n",
    "- YAMnet produces a 1024-long feature vector per 0.96s windows with a 0.48s hop. Thusly 10 frames are predicted per chunk\n",
    "- labels encoded as binary frame-wise time steps (4 signal classes)"
   ]
  },
  {
   "cell_type": "code",
   "execution_count": null,
   "metadata": {},
   "outputs": [],
   "source": [
    "hdf5_dataset = h5py.File(INTERMEDIATE / 'embeddings.hdf5', 'r')\n",
    "RANDOM_CHUNKS = np.array(hdf5_dataset)\n",
    "\n",
    "np.random.seed(0) \n",
    "np.random.shuffle(RANDOM_CHUNKS)\n",
    "with open(\"./logs/chunk_order.pkl\", \"wb\") as f:\n",
    "        pickle.dump(RANDOM_CHUNKS, f)"
   ]
  },
  {
   "cell_type": "code",
   "execution_count": null,
   "metadata": {},
   "outputs": [],
   "source": []
  },
  {
   "cell_type": "code",
   "execution_count": 4,
   "metadata": {
    "scrolled": true
   },
   "outputs": [
    {
     "name": "stderr",
     "output_type": "stream",
     "text": [
      "2024-09-15 21:39:50.901478: I tensorflow/core/platform/cpu_feature_guard.cc:151] This TensorFlow binary is optimized with oneAPI Deep Neural Network Library (oneDNN) to use the following CPU instructions in performance-critical operations:  SSE3 SSE4.1 SSE4.2\n",
      "To enable them in other operations, rebuild TensorFlow with the appropriate compiler flags.\n"
     ]
    },
    {
     "name": "stdout",
     "output_type": "stream",
     "text": [
      "458.73566 0\t\t594.2076 0\t\t746.2246 0\t\t531.56323 0\t\t657.0123 0\t\t626.8448 0\t\t664.3427 4\t\t531.1446 0\t\t777.21875 0\t\t763.9229 0\t\t493.90265 0\t\t692.4295 0\t\t566.7892 0\t\t554.7632 0\t\t578.3624 0\t\t545.44275 0\t\t787.87085 0\t\t471.79166 0\t\t701.3546 0\t\t568.9809 0\t\t637.3032 3\t\t641.09607 0\t\t561.34283 0\t\t594.9181 0\t\t801.41156 0\t\t740.50226 0\t\t781.42566 0\t\t628.4475 0\t\t667.9726 0\t\t725.094 0\t\t635.2217 0\t\t614.97064 0\t\t(10, 1024) (10, 4)\n"
     ]
    }
   ],
   "source": [
    "X_shape = (10, 1024)\n",
    "Y_shape = (10, 4)\n",
    "\n",
    "def chunk_generator(chunks=RANDOM_CHUNKS):\n",
    "    for chunk in chunks:\n",
    "        chunk_group = hdf5_dataset[chunk]\n",
    "        yield (\n",
    "            np.array(chunk_group['X']), \n",
    "            np.array(chunk_group['Y']).T) \n",
    "\n",
    "raw_dataset = tf.data.Dataset.from_generator( \n",
    "    chunk_generator, output_signature=(\n",
    "        tf.TensorSpec(shape=X_shape, dtype=tf.float32),\n",
    "        tf.TensorSpec(shape=Y_shape, dtype=tf.bool)))\n",
    "\n",
    "# test\n",
    "for s in raw_dataset.take(32):\n",
    "    X, Y = s    \n",
    "    print(np.array(X).sum(), np.array(Y).sum(), end=\"\\t\\t\")\n",
    "\n",
    "print(X.shape, Y.shape)"
   ]
  },
  {
   "cell_type": "code",
   "execution_count": 14,
   "metadata": {},
   "outputs": [
    {
     "name": "stdout",
     "output_type": "stream",
     "text": [
      "85708 21428 26785\n"
     ]
    }
   ],
   "source": [
    "n_chunks =  133921 \n",
    "\n",
    "# split chunks test/train/valid\n",
    "test_cut = int(n_chunks * 0.8)\n",
    "valid_cut = int(test_cut * 0.8) \n",
    "train_valid, test = RANDOM_CHUNKS[:test_cut], RANDOM_CHUNKS[test_cut:]\n",
    "train, valid = train_valid[:valid_cut], train_valid[valid_cut:]\n",
    "\n",
    "spec = (tf.TensorSpec(shape=X_shape, dtype=tf.float32),\n",
    "        tf.TensorSpec(shape=Y_shape, dtype=tf.bool))\n",
    "\n",
    "train_dataset = tf.data.Dataset.from_generator(lambda: chunk_generator(train), output_signature=spec)\n",
    "valid_dataset = tf.data.Dataset.from_generator(lambda: chunk_generator(valid), output_signature=spec)\n",
    "test_dataset = tf.data.Dataset.from_generator(lambda: chunk_generator(test), output_signature=spec)\n",
    "\n",
    "print(\n",
    "    len(train), len(valid), len(test)\n",
    ")\n",
    "assert not np.isin(train, valid).any()\n",
    "assert not np.isin(test, train).any()"
   ]
  },
  {
   "cell_type": "markdown",
   "metadata": {},
   "source": [
    "## Training\n",
    "Using a simple DNN against the embeddings (** check??)"
   ]
  },
  {
   "cell_type": "code",
   "execution_count": 15,
   "metadata": {},
   "outputs": [
    {
     "name": "stdout",
     "output_type": "stream",
     "text": [
      "Model: \"sequential\"\n",
      "_________________________________________________________________\n",
      " Layer (type)                Output Shape              Param #   \n",
      "=================================================================\n",
      " dense (Dense)               (None, 10, 512)           524800    \n",
      "                                                                 \n",
      " dense_1 (Dense)             (None, 10, 256)           131328    \n",
      "                                                                 \n",
      " dense_2 (Dense)             (None, 10, 128)           32896     \n",
      "                                                                 \n",
      " dense_3 (Dense)             (None, 10, 64)            8256      \n",
      "                                                                 \n",
      " dense_4 (Dense)             (None, 10, 4)             260       \n",
      "                                                                 \n",
      "=================================================================\n",
      "Total params: 697,540\n",
      "Trainable params: 697,540\n",
      "Non-trainable params: 0\n",
      "_________________________________________________________________\n"
     ]
    }
   ],
   "source": [
    "from keras.layers import Input, Dense, BatchNormalization\n",
    "# import tensorflow_addons as tfa\n",
    "from functools import partial\n",
    "from keras import metrics\n",
    "\n",
    "def create_model(output_bias=None) -> keras.Model:\n",
    "    default_dense =  partial(Dense, activation='selu', # self normalizing\n",
    "                             kernel_initializer=keras.initializers.LecunNormal(seed=0)\n",
    "                            ) # kernel_regularizer ?\n",
    "    \n",
    "    # simple DNN head for YAMnet embeddings\n",
    "    return keras.Sequential(\n",
    "        [\n",
    "            Input(shape=(10, 1024)),\n",
    "            default_dense(512), \n",
    "            default_dense(256),\n",
    "            default_dense(128),\n",
    "            default_dense(64), \n",
    "            Dense(4, activation='sigmoid', \n",
    "                  bias_initializer=output_bias) # correct this \n",
    "        ]\n",
    "    )\n",
    "\n",
    "def compile(model):\n",
    "    model.compile(\n",
    "        optimizer='adam',\n",
    "        loss='binary_crossentropy',  \n",
    "        metrics=[\n",
    "            metrics.Recall(thresholds=0.5),\n",
    "            metrics.Precision(thresholds=0.5),\n",
    "            metrics.AUC(),\n",
    "        ]\n",
    "    )\n",
    "\n",
    "model = create_model()\n",
    "compile(model)\n",
    "model.summary()"
   ]
  },
  {
   "cell_type": "code",
   "execution_count": 6,
   "metadata": {},
   "outputs": [],
   "source": [
    "# 133921 chunks\n",
    "# 4185 batches\n",
    "\n",
    "from tensorflow.keras.callbacks import TensorBoard, ModelCheckpoint, EarlyStopping\n",
    "import pandas as pd\n",
    "\n",
    "class IncrementallySavedCheckpoint(tf.keras.callbacks.Callback):\n",
    "    def __init__(self, checkpoint_dir):\n",
    "        self.checkpoint_dir = checkpoint_dir\n",
    "    \n",
    "    def on_epoch_end(self, epoch, logs=None):\n",
    "        checkpoint_path = Path(self.checkpoint_dir) / f'model_epoch_{epoch+1}.ckpt'\n",
    "        self.model.save_weights(checkpoint_path)\n",
    "        print(f\"Saved checkpoint for epoch {epoch+1} at {checkpoint_path}\")\n",
    "\n",
    "\n",
    "def train(model, model_dir, batch, epochs, stopping_patience=5, \n",
    "          stopping_moniter='val_auc', **kwargs):\n",
    "    \n",
    "    model_dir.mkdir(exist_ok=True)\n",
    "    \n",
    "    log_dir = model_dir / \"logs\" / \"fit\"\n",
    "    log_dir.mkdir(exist_ok=True)\n",
    "    tensorboard_callback = TensorBoard(log_dir=log_dir)\n",
    "    \n",
    "    checkpoint_path = model_dir / \"training\"\n",
    "    Path(checkpoint_path).mkdir(exist_ok=True)  \n",
    "    cp_callback = IncrementallySavedCheckpoint(\n",
    "        checkpoint_path, filepath=checkpoint_path, save_weights_only=True, verbose=1  \n",
    "    )\n",
    "    \n",
    "    es_checkpoint = EarlyStopping(\n",
    "        monitor=stopping_moniter,\n",
    "        patience=stopping_patience,\n",
    "        restore_best_weights=True,\n",
    "    )\n",
    "    \n",
    "    # fit\n",
    "    return model.fit(\n",
    "        train_dataset.batch(batch).prefetch(tf.data.AUTOTUNE), \n",
    "        validation_data=validation_dataset.batch(batch).prefetch(tf.data.AUTOTUNE),\n",
    "        epochs=epochs, \n",
    "        verbose=2,\n",
    "        callbacks=[tensorboard_callback, cp_callback, es_checkpoint],\n",
    "        **kwargs\n",
    "    )\n",
    "    \n",
    "if TRAIN:\n",
    "    history = train(model, model_dir= MODEL_DIR / \"50e_initial_ds\", epochs=50, batch=32)\n",
    "    df = pd.DataFrame(history.history)\n",
    "    df.to_csv(\"logs/history.csv\")\n",
    "    model.save(model_dir / 'model.keras')"
   ]
  },
  {
   "cell_type": "code",
   "execution_count": null,
   "metadata": {},
   "outputs": [],
   "source": [
    "## Evaluation"
   ]
  },
  {
   "cell_type": "code",
   "execution_count": 28,
   "metadata": {},
   "outputs": [
    {
     "data": {
      "text/html": [
       "\n",
       "      <iframe id=\"tensorboard-frame-f870299d29dfb82\" width=\"100%\" height=\"800\" frameborder=\"0\">\n",
       "      </iframe>\n",
       "      <script>\n",
       "        (function() {\n",
       "          const frame = document.getElementById(\"tensorboard-frame-f870299d29dfb82\");\n",
       "          const url = new URL(\"/\", window.location);\n",
       "          const port = 6006;\n",
       "          if (port) {\n",
       "            url.port = port;\n",
       "          }\n",
       "          frame.src = url;\n",
       "        })();\n",
       "      </script>\n",
       "    "
      ],
      "text/plain": [
       "<IPython.core.display.HTML object>"
      ]
     },
     "metadata": {},
     "output_type": "display_data"
    }
   ],
   "source": [
    "%load_ext tensorboard\n",
    "%tensorboard --logdir=/home/ethan/working/acoustic-AL/models/50e_initial_ds/logs"
   ]
  },
  {
   "cell_type": "code",
   "execution_count": 16,
   "metadata": {},
   "outputs": [],
   "source": [
    "# get model from last checkpoint (should be ~E18 -> overfit)\n",
    "model = create_model()\n",
    "load_status = model.load_weights(\"/home/ethan/working/acoustic-AL/models/50e_initial_ds/training/model.ckpt\")\n",
    "load_status.expect_partial() \n",
    "compile(model)"
   ]
  },
  {
   "cell_type": "code",
   "execution_count": 17,
   "metadata": {
    "scrolled": true
   },
   "outputs": [
    {
     "name": "stderr",
     "output_type": "stream",
     "text": [
      "loading/predicting test ds: 838it [02:53,  4.84it/s]\n"
     ]
    }
   ],
   "source": [
    "from tqdm import tqdm\n",
    "\n",
    "def get_predictions(model, batched_test_dataset):\n",
    "    y_true, y_pred = [], []\n",
    "    for batch_X, batch_y in tqdm(batched_test_dataset, desc='loading/predicting test ds'):\n",
    "        predictions = model(batch_X, training=False)\n",
    "        y_true.extend(batch_y.numpy())\n",
    "        y_pred.extend(predictions.numpy()) \n",
    "\n",
    "    return np.array(y_true), np.array(y_pred)\n",
    "\n",
    "y_true, y_pred = get_predictions(model, test_dataset.batch(32).prefetch(tf.data.AUTOTUNE))\n",
    "y_true_flat = y_true.reshape(-1, 4)\n",
    "y_pred_flat = y_pred.reshape(-1, 4)"
   ]
  },
  {
   "cell_type": "code",
   "execution_count": 18,
   "metadata": {},
   "outputs": [
    {
     "name": "stdout",
     "output_type": "stream",
     "text": [
      "average class probability of [fast_trill_6khz]: 0.0015493746499906664\n",
      "average class probability of [nr_syllable_3khz]: 0.0017621803248086616\n",
      "average class probability of [triangle_3khz]: 0.0006832182191525108\n",
      "average class probability of [upsweep_500hz]: 0.0008026880716819116\n"
     ]
    }
   ],
   "source": [
    "# unbalanced classes\n",
    "labels = [ \"fast_trill_6khz\", \"nr_syllable_3khz\", \"triangle_3khz\", \"upsweep_500hz\"]\n",
    "for i, label in enumerate(labels):\n",
    "    print(f'average class probability of [{label}]: {y_true_flat[:, i].mean()}')"
   ]
  },
  {
   "cell_type": "code",
   "execution_count": 19,
   "metadata": {
    "scrolled": true
   },
   "outputs": [
    {
     "name": "stdout",
     "output_type": "stream",
     "text": [
      "[[False False False False]\n",
      " [False False False False]\n",
      " [False False False False]\n",
      " [False False False False]\n",
      " [False False False False]\n",
      " [False  True False False]\n",
      " [False  True False False]\n",
      " [False  True False False]\n",
      " [False  True False False]\n",
      " [False  True False False]]\n",
      "[[1.17322803e-03 9.48876143e-04 1.26880877e-05 6.62854582e-05]\n",
      " [7.14868307e-04 7.50273466e-04 2.21328810e-06 4.79502378e-05]\n",
      " [1.23044848e-03 5.79890609e-03 3.47064124e-05 1.55746937e-04]\n",
      " [3.91898084e-07 4.77123285e-06 2.23981930e-10 1.97947756e-07]\n",
      " [2.57134438e-04 1.31527822e-05 8.13141105e-06 1.10780347e-05]\n",
      " [3.00061703e-03 1.55311525e-02 4.25904989e-04 7.82132149e-04]\n",
      " [5.50460815e-03 2.66017675e-01 1.37954950e-03 7.09498418e-05]\n",
      " [1.61024928e-03 7.90052295e-01 1.86830759e-04 2.65663220e-06]\n",
      " [5.02476096e-03 3.01339924e-01 1.18911266e-03 5.55748920e-05]\n",
      " [7.24053383e-03 1.76751554e-01 2.15676427e-03 1.47938728e-04]]\n",
      "\n",
      "\n",
      "[[False  True False False]\n",
      " [False  True False False]\n",
      " [False  True False False]\n",
      " [False  True False False]\n",
      " [False  True False False]\n",
      " [False  True False False]\n",
      " [False  True False False]\n",
      " [False  True False False]\n",
      " [False  True False False]\n",
      " [False False False False]]\n",
      "[[2.67469883e-03 4.91929054e-02 3.91811132e-04 2.61664391e-04]\n",
      " [2.43100524e-03 6.32260203e-01 3.64929438e-04 7.97739085e-06]\n",
      " [6.55674934e-03 7.84629583e-02 1.78316236e-03 3.35037708e-04]\n",
      " [7.60623813e-03 1.48113370e-01 2.33063102e-03 1.89155340e-04]\n",
      " [8.34703445e-04 2.03558803e-02 5.54300714e-05 2.46554613e-04]\n",
      " [7.14945088e-07 5.18538873e-05 3.51134418e-07 4.77617941e-05]\n",
      " [4.69949841e-03 1.22418195e-01 1.03244185e-03 1.58041716e-04]\n",
      " [1.39108300e-03 8.32490921e-01 1.47283077e-04 1.79792198e-06]\n",
      " [5.16501069e-03 2.09476948e-02 5.76943159e-04 9.93371010e-04]\n",
      " [2.22668052e-03 3.81290913e-03 7.15288188e-05 2.55405903e-04]]\n",
      "\n",
      "\n",
      "[[False False False False]\n",
      " [False False False False]\n",
      " [False False False False]\n",
      " [ True False False False]\n",
      " [ True False False False]\n",
      " [ True False False False]\n",
      " [ True False False False]\n",
      " [False False False False]\n",
      " [False False False False]\n",
      " [False False False False]]\n",
      "[[4.9047768e-03 6.4516717e-05 6.8460999e-08 1.0698420e-05]\n",
      " [7.4383616e-04 8.4224343e-04 4.1598450e-06 6.4948850e-05]\n",
      " [1.3968940e-06 7.5282442e-05 2.6730440e-10 8.8830097e-07]\n",
      " [1.9996640e-05 1.0477304e-03 7.4314945e-09 1.4069119e-06]\n",
      " [4.6035388e-05 4.6067162e-06 1.4677733e-05 1.4552474e-04]\n",
      " [4.1425272e-05 3.3427095e-05 1.0585189e-03 2.7571321e-03]\n",
      " [6.6713393e-03 2.8184056e-04 2.0149350e-04 1.9586980e-03]\n",
      " [1.6692281e-03 5.6776404e-04 9.3529641e-05 6.9141388e-04]\n",
      " [5.1143528e-05 8.4518142e-06 4.7754847e-06 2.1946430e-04]\n",
      " [1.6811490e-04 9.9074656e-05 1.9773051e-06 2.6344289e-05]]\n",
      "\n",
      "\n"
     ]
    }
   ],
   "source": [
    "# compare predicted labels\n",
    "annotated = [(y, yp) for (y, yp) in zip(y_true, y_pred) if y.any()] \n",
    "for chunks in annotated[:3]:\n",
    "    annotated_chunk, annotated_chunk_pred = chunks\n",
    "    if annotated_chunk.any():\n",
    "        print(annotated_chunk) \n",
    "        print(annotated_chunk_pred)\n",
    "        print('\\n')"
   ]
  },
  {
   "cell_type": "code",
   "execution_count": 27,
   "metadata": {},
   "outputs": [
    {
     "data": {
      "image/png": "[encoded data removed]",
      "text/plain": [
       "<Figure size 640x480 with 1 Axes>"
      ]
     },
     "metadata": {},
     "output_type": "display_data"
    },
    {
     "data": {
      "image/png": "[encoded data removed]",
      "text/plain": [
       "<Figure size 640x480 with 1 Axes>"
      ]
     },
     "metadata": {},
     "output_type": "display_data"
    }
   ],
   "source": [
    "from sklearn.metrics import roc_curve, precision_recall_curve\n",
    "\n",
    "\n",
    "def plot_roc(name, labels, predictions, **kwargs):\n",
    "    fp, tp, _ = roc_curve(labels, predictions)\n",
    "    plt.plot(fp*100, tp*100, label=name, linewidth=2, **kwargs)\n",
    "    plt.xlabel('False positive rate')\n",
    "    plt.ylabel('True positive rate')\n",
    "    plt.xlim([0,100])\n",
    "    plt.ylim([0,100])\n",
    "    plt.grid(True)\n",
    "\n",
    "\n",
    "def plot_pr(name, labels, predictions, **kwargs):\n",
    "    prec, rec, _ = precision_recall_curve(labels, predictions)\n",
    "    plt.plot(prec, rec, label=name, linewidth=2, **kwargs)\n",
    "    plt.xlabel('Precision')\n",
    "    plt.ylabel('Recall')\n",
    "    plt.xlim([0,1])\n",
    "    plt.ylim([0,1])\n",
    "    plt.grid(True)\n",
    "\n",
    "for i, label in enumerate(labels):\n",
    "    plot_roc(labels, y_true_flat[:, i], y_pred_flat[:, i])\n",
    "plt.legend(labels) \n",
    "plt.show() \n",
    "\n",
    "for i, label in enumerate(labels):\n",
    "    plot_pr(labels, y_true_flat[:, i], y_pred_flat[:, i])\n",
    "plt.legend(labels) \n",
    "plt.show() "
   ]
  },
  {
   "cell_type": "markdown",
   "metadata": {},
   "source": [
    "# !! annotations were missed"
   ]
  },
  {
   "cell_type": "code",
   "execution_count": 20,
   "metadata": {},
   "outputs": [
    {
     "data": {
      "text/plain": [
       "<tf.Tensor: shape=(), dtype=float32, numpy=0.7542681>"
      ]
     },
     "execution_count": 20,
     "metadata": {},
     "output_type": "execute_result"
    }
   ],
   "source": [
    "m = keras.metrics.AUC(curve='roc')\n",
    "m.update_state(y_true_flat[:, 0], y_pred_flat[:, 0])\n",
    "m.result()"
   ]
  },
  {
   "cell_type": "code",
   "execution_count": 21,
   "metadata": {},
   "outputs": [
    {
     "data": {
      "text/plain": [
       "<tf.Tensor: shape=(), dtype=float32, numpy=0.10567089>"
      ]
     },
     "execution_count": 21,
     "metadata": {},
     "output_type": "execute_result"
    }
   ],
   "source": [
    "m = keras.metrics.AUC(curve='pr')\n",
    "m.update_state(y_true_flat[:, 0], y_pred_flat[:, 0])\n",
    "m.result()"
   ]
  },
  {
   "cell_type": "markdown",
   "metadata": {},
   "source": [
    "## Visualization"
   ]
  },
  {
   "cell_type": "code",
   "execution_count": null,
   "metadata": {},
   "outputs": [],
   "source": [
    "import numpy as np\n",
    "import librosa\n",
    "from util import WavDataset\n",
    "import matplotlib.pyplot as plt\n",
    "from matplotlib import patches\n",
    "import soundfile as sf\n",
    "\n",
    "def read_audio_section(filename, start_time, stop_time):\n",
    "    track = sf.SoundFile(filename)\n",
    "    can_seek = track.seekable()\n",
    "    if not can_seek:\n",
    "        raise ValueError(\"Not compatible with seeking\")\n",
    "\n",
    "    sr = track.samplerate\n",
    "    start_frame = sr * start_time\n",
    "    frames_to_read = sr * (stop_time - start_time)\n",
    "    track.seek(start_frame)\n",
    "    audio_section = track.read(frames_to_read)\n",
    "    return audio_section, sr\n",
    "\n",
    "def view_annotations(n=3, T=0.15):\n",
    "    ds = WavDataset()\n",
    "    for c in RANDOM_CHUNKS[:n]:\n",
    "        g = hdf5_dataset[c]\n",
    "        X, Y = g['X'], g['Y']\n",
    "        \n",
    "        start_s = g.attrs['start_time']\n",
    "        end_s = g.attrs['end_time']\n",
    "        rec = g.attrs['recording']\n",
    "        label_counts = g.attrs['classwize_labeled_frame_counts']\n",
    "        if sum(label_counts) == 0:\n",
    "            continue # ignore if not annotated\n",
    "            \n",
    "        print(f\"label counts = {label_counts}\")\n",
    "        \n",
    "        # spectrogram from wavfile\n",
    "        y, sr = read_audio_section(ds[rec], start_s, end_s)\n",
    "        y = librosa.resample(y, orig_sr=sr, target_sr=16_000)\n",
    "        S = librosa.stft(y)\n",
    "        S = librosa.power_to_db(S, ref=np.max)\n",
    "        librosa.display.specshow(S, y_axis='linear')\n",
    "        \n",
    "        # predictions for train ds\n",
    "        X = np.expand_dims(X, axis=0) # for batch dim\n",
    "        Y_pred = model(X)[0]\n",
    "        Y_pred = np.array(Y_pred > T)\n",
    "        if Y_pred.sum() == 0:\n",
    "            print('failure')\n",
    "            continue\n",
    "\n",
    "        row_idx, col_idx = np.where(Y_pred == 1)\n",
    "\n",
    "        # lines\n",
    "        frame_hop = 0.5\n",
    "        for label_idx, row_idx in zip(col_idx, row_idx):\n",
    "            seconds = frame_hop * row_idx\n",
    "            spec_frame = librosa.time_to_frames(seconds)\n",
    "            width = librosa.time_to_frames(0.5)\n",
    "\n",
    "            colours = ['red', 'blue', 'green', 'yellow']\n",
    "            rect = patches.Rectangle(\n",
    "                (spec_frame - width, 0),  \n",
    "                width, \n",
    "                20_000,  # Height\n",
    "                linewidth=1,\n",
    "                edgecolor='none',\n",
    "                facecolor=colours[label_idx],\n",
    "                alpha=0.2 \n",
    "            )\n",
    "            plt.gca().add_patch(rect)\n",
    "\n",
    "        \n",
    "        plt.show()\n",
    "        \n",
    "# view_annotations()\n"
   ]
  }
 ],
 "metadata": {
  "kernelspec": {
   "display_name": "Python 3 (ipykernel)",
   "language": "python",
   "name": "python3"
  },
  "language_info": {
   "codemirror_mode": {
    "name": "ipython",
    "version": 3
   },
   "file_extension": ".py",
   "mimetype": "text/x-python",
   "name": "python",
   "nbconvert_exporter": "python",
   "pygments_lexer": "ipython3",
   "version": "3.9.16"
  }
 },
 "nbformat": 4,
 "nbformat_minor": 4
}
