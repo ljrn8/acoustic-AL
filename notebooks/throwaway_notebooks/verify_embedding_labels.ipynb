{
 "cells": [
  {
   "cell_type": "code",
   "execution_count": 3,
   "metadata": {},
   "outputs": [],
   "source": [
    "from config import *\n",
    "from util import *\n",
    "import h5py\n"
   ]
  },
  {
   "cell_type": "code",
   "execution_count": 8,
   "metadata": {},
   "outputs": [
    {
     "data": {
      "text/plain": [
       "<HDF5 file \"embeddings_20p.hdf5\" (mode r)>"
      ]
     },
     "execution_count": 8,
     "metadata": {},
     "output_type": "execute_result"
    }
   ],
   "source": [
    "samples_f = h5py.File(INTERMEDIATE / '22sr_samples.hdf5', 'r')\n",
    "f = h5py.File(INTERMEDIATE / 'embeddings_20p.hdf5', 'r')\n",
    "f"
   ]
  },
  {
   "cell_type": "code",
   "execution_count": 13,
   "metadata": {},
   "outputs": [
    {
     "name": "stderr",
     "output_type": "stream",
     "text": [
      "/tmp/ipykernel_134700/1206516096.py:16: UserWarning: power_to_db was called on complex input so phase information will be discarded. To suppress this warning, call power_to_db(np.abs(D)**2) instead.\n",
      "  S = librosa.power_to_db(S)\n",
      "/home/ec2-user/.local/lib/python3.9/site-packages/librosa/core/spectrum.py:266: UserWarning: n_fft=2048 is too large for input signal of length=0\n",
      "  warnings.warn(\n"
     ]
    }
   ],
   "source": [
    "\n",
    "import matplotlib.pyplot as plt\n",
    "\n",
    "\n",
    "for rec in f:\n",
    "    sr = 16_000\n",
    "    samples_22 = np.array(samples_f[rec]['X'])\n",
    "    samples_16 = librosa.resample(samples_22, target_sr=sr, orig_sr=22_000)\n",
    "    label_frames = np.array(f[rec]['Y'])\n",
    "    \n",
    "    col, frame = np.where(np.diff(label_frames)) # might change order\n",
    "    for cl, fr in zip(col, frame):\n",
    "        sample = int((fr * 0.5) * sr)\n",
    "\n",
    "        s = samples_16[sample - 3*sr: sample + 3*sr]\n",
    "        S = librosa.stft(s)\n",
    "        S = librosa.power_to_db(S)\n",
    "        librosa.display.specshow(S)\n",
    "        \n",
    "        plt.vlines(3*sr, ymin=0, ymax=1_000)\n",
    "    \n",
    "    "
   ]
  }
 ],
 "metadata": {
  "kernelspec": {
   "display_name": "Python 3",
   "language": "python",
   "name": "python3"
  },
  "language_info": {
   "codemirror_mode": {
    "name": "ipython",
    "version": 3
   },
   "file_extension": ".py",
   "mimetype": "text/x-python",
   "name": "python",
   "nbconvert_exporter": "python",
   "pygments_lexer": "ipython3",
   "version": "3.9.16"
  }
 },
 "nbformat": 4,
 "nbformat_minor": 2
}
