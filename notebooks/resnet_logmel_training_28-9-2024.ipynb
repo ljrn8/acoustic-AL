{
 "cells": [
  {
   "cell_type": "code",
   "execution_count": 1,
   "id": "4817a178-577d-4050-8d97-d1b6921726ca",
   "metadata": {},
   "outputs": [
    {
     "name": "stderr",
     "output_type": "stream",
     "text": [
      "2024-09-28 11:56:42.687388: E external/local_xla/xla/stream_executor/cuda/cuda_dnn.cc:9261] Unable to register cuDNN factory: Attempting to register factory for plugin cuDNN when one has already been registered\n",
      "2024-09-28 11:56:42.687433: E external/local_xla/xla/stream_executor/cuda/cuda_fft.cc:607] Unable to register cuFFT factory: Attempting to register factory for plugin cuFFT when one has already been registered\n",
      "2024-09-28 11:56:42.818844: E external/local_xla/xla/stream_executor/cuda/cuda_blas.cc:1515] Unable to register cuBLAS factory: Attempting to register factory for plugin cuBLAS when one has already been registered\n",
      "2024-09-28 11:56:43.085249: I tensorflow/core/platform/cpu_feature_guard.cc:182] This TensorFlow binary is optimized to use available CPU instructions in performance-critical operations.\n",
      "To enable the following instructions: AVX2 AVX512F FMA, in other operations, rebuild TensorFlow with the appropriate compiler flags.\n",
      "2024-09-28 11:56:44.647685: W tensorflow/compiler/tf2tensorrt/utils/py_utils.cc:38] TF-TRT Warning: Could not find TensorRT\n"
     ]
    }
   ],
   "source": [
    "%load_ext autoreload\n",
    "%autoreload 2\n",
    "\n",
    "import tensorflow as tf\n",
    "from tensorflow  import keras\n",
    "import tensorflow_hub as hub\n",
    "import numpy as np\n",
    "from util import open_slideshow\n",
    "\n",
    "\n",
    "import librosa \n",
    "import matplotlib.pyplot as plt\n",
    "from tqdm import tqdm\n",
    "from config import *\n",
    "import h5py\n",
    "import soundfile as sf\n",
    "from scipy.signal import resample_poly\n",
    "from util import DEFAULT_TOKENS\n",
    "import librosa\n",
    "\n",
    "TRAIN = False"
   ]
  },
  {
   "cell_type": "code",
   "execution_count": 2,
   "id": "36223a14-f947-4715-8b11-4dbef5655bce",
   "metadata": {},
   "outputs": [],
   "source": [
    "logmel_f = h5py.File(INTERMEDIATE / 'logmel.hdf5', 'r')\n",
    "samples_f = h5py.File(INTERMEDIATE / '22sr_samples.hdf5', 'r')"
   ]
  },
  {
   "cell_type": "code",
   "execution_count": 3,
   "id": "7f3087b7-3c06-4a49-90f1-b4f36a4d98d3",
   "metadata": {},
   "outputs": [
    {
     "data": {
      "text/plain": [
       "array([['1_20230325_183000.wav', '10492', '10599'],\n",
       "       ['1_20230808_200000.wav', '16125', '16232'],\n",
       "       ['1_20230721_193000.wav', '15566', '15673'],\n",
       "       ['1_20230804_060000.wav', '22747', '22854'],\n",
       "       ['1_20230416_193000.wav', '3741', '3848']], dtype='<U21')"
      ]
     },
     "execution_count": 3,
     "metadata": {},
     "output_type": "execute_result"
    }
   ],
   "source": [
    "chunk_len = 2.5\n",
    "chunk_overlap = 1\n",
    "\n",
    "c = librosa.time_to_frames(chunk_len) \n",
    "overlap = librosa.time_to_frames(chunk_overlap)\n",
    "\n",
    "def n_frames(rec):\n",
    "    return logmel_f[rec]['40mels'].shape[1]\n",
    "\n",
    "def get_chunks(rec):\n",
    "    return [\n",
    "        (rec, start, start + c) \n",
    "        for start in range(0, n_frames(rec) - c, overlap)\n",
    "    ]\n",
    "\n",
    "recordings = list(logmel_f)\n",
    "chunk_indexes = np.concatenate([\n",
    "    get_chunks(r) for r in recordings\n",
    "])\n",
    "\n",
    "np.random.seed(0)\n",
    "np.random.shuffle(chunk_indexes)\n",
    "chunk_indexes[:5]"
   ]
  },
  {
   "cell_type": "code",
   "execution_count": 4,
   "id": "92fe7432-1426-4a00-8b1d-b2f4a632e209",
   "metadata": {},
   "outputs": [
    {
     "data": {
      "text/plain": [
       "array([False, False, False, False])"
      ]
     },
     "execution_count": 4,
     "metadata": {},
     "output_type": "execute_result"
    }
   ],
   "source": [
    "from util import DEFAULT_TOKENS\n",
    "\n",
    "# TODO refine these\n",
    "# seconds rqeuried for an annotation to register per chunk\n",
    "seconds_required = {\n",
    "    'fast_trill_6khz': 0.6,\n",
    "    'nr_syllable_3khz': 0.2, \n",
    "    'triangle_3khz': 0.5, # !!\n",
    "    'upsweep_500hz': 0.25,\n",
    "}\n",
    "\n",
    "def get_label(rec, start_frame, end_frame):\n",
    "    start_sample, end_sample = librosa.frames_to_samples([\n",
    "        start_frame, end_frame])\n",
    "    Y_samples = np.array(samples_f[rec]['Y'][:, start_sample:end_sample])\n",
    "    label_vec = np.zeros(4, dtype=bool)\n",
    "    for label, idx in DEFAULT_TOKENS.items():\n",
    "        samples_required = librosa.time_to_samples(\n",
    "            seconds_required[label], sr=22_000)\n",
    "\n",
    "        if Y_samples[idx, :].sum() >= samples_required:\n",
    "            label_vec[idx] = 1\n",
    "\n",
    "    return label_vec\n",
    "\n",
    "\n",
    "get_label('1_20230526_173000.wav', 0, 23456) "
   ]
  },
  {
   "cell_type": "code",
   "execution_count": 5,
   "id": "6eec15e8-534c-4fac-8ed0-989253e882bb",
   "metadata": {},
   "outputs": [],
   "source": [
    "def load_data(chunk_indexes):\n",
    "    X = np.array([logmel_f[rec]['40mels'][:, int(s):int(e)] \n",
    "                  for rec, s, e in tqdm(chunk_indexes)])\n",
    "    Y = np.array([get_label(rec, int(s), int(e)) \n",
    "                  for rec, s, e in tqdm(chunk_indexes, desc='labels')])\n",
    "    return X, Y\n",
    "\n",
    "# X, Y = load_data(chunk_indexes)\n",
    "# np.save(INTERMEDIATE / 'logmel.npy', X)\n",
    "# np.save(INTERMEDIATE / 'logmel_labels.npy', Y)\n",
    "\n",
    "X = np.load(INTERMEDIATE / 'logmel.npy')\n",
    "Y = np.load(INTERMEDIATE / 'logmel_labels.npy')"
   ]
  },
  {
   "cell_type": "code",
   "execution_count": 6,
   "id": "d1a87542-123c-49fa-9172-37bf67784a45",
   "metadata": {},
   "outputs": [
    {
     "name": "stdout",
     "output_type": "stream",
     "text": [
      "Model: \"sequential\"\n",
      "_________________________________________________________________\n",
      " Layer (type)                Output Shape              Param #   \n",
      "=================================================================\n",
      " resnet50 (Functional)       (None, 2, 4, 2048)        23581440  \n",
      "                                                                 \n",
      " global_average_pooling2d (  (None, 2048)              0         \n",
      " GlobalAveragePooling2D)                                         \n",
      "                                                                 \n",
      " dense (Dense)               (None, 256)               524544    \n",
      "                                                                 \n",
      " dense_1 (Dense)             (None, 4)                 1028      \n",
      "                                                                 \n",
      "=================================================================\n",
      "Total params: 24107012 (91.96 MB)\n",
      "Trainable params: 24053892 (91.76 MB)\n",
      "Non-trainable params: 53120 (207.50 KB)\n",
      "_________________________________________________________________\n"
     ]
    }
   ],
   "source": [
    "from keras import layers, metrics\n",
    "import tensorflow_ranking as tfr\n",
    "from tensorflow.keras.applications import ResNet50 # for testing\n",
    "\n",
    "def get_model(input_shape = (40, 107, 1)):\n",
    "    base_model = ResNet50(weights=None, include_top=False, input_shape=input_shape)\n",
    "    # base_model = ResNet32(weights=None, include_top=False, input_shape=input_shape)\n",
    "    # base_model.trainable = False\n",
    "\n",
    "    model = keras.models.Sequential()\n",
    "    model.add(base_model)\n",
    "    model.add(layers.GlobalAveragePooling2D()) \n",
    "    model.add(layers.Dense(256, activation='relu'))  \n",
    "    model.add(layers.Dense(4, activation='sigmoid'))\n",
    "    model.compile(optimizer='adam',\n",
    "                  loss='binary_crossentropy',\n",
    "                  metrics=[\n",
    "                    metrics.Recall(thresholds=0.5),\n",
    "                    metrics.Precision(thresholds=0.5),\n",
    "                    metrics.AUC(curve='pr', name='auc_pr'),\n",
    "                    # tfr.keras.metrics.get(key=\"map\", name=\"metric/map\"),\n",
    "                ])\n",
    "\n",
    "    return model\n",
    "    \n",
    "model = get_model()\n",
    "model.summary()"
   ]
  },
  {
   "cell_type": "code",
   "execution_count": 7,
   "id": "bb35d0fe-56eb-4b23-bcfc-7c9d6dd88763",
   "metadata": {},
   "outputs": [
    {
     "data": {
      "text/plain": [
       "((135462, 40, 107), (42332, 40, 107), (135462, 4), (42332, 4))"
      ]
     },
     "execution_count": 7,
     "metadata": {},
     "output_type": "execute_result"
    }
   ],
   "source": [
    "def split(X, Y, p=0.8):\n",
    "    c = int(len(X) * p)\n",
    "    X_other, X_test = X[:c], X[c:]\n",
    "    Y_other, Y_test = Y[:c], Y[c:]\n",
    "\n",
    "    cc = int(len(X_other) * p)\n",
    "    X_pool, X_train = X_other[:cc], X_other[cc:]\n",
    "    Y_pool, Y_train = Y_other[:cc], Y_other[cc:]\n",
    "\n",
    "    return (X_train, Y_train), (X_pool, Y_pool), (X_test, Y_test)\n",
    "    \n",
    "\n",
    "train, pool, test = split(X, Y)\n",
    "X_pool, Y_pool = pool\n",
    "X_test, Y_test = test\n",
    "X_pool.shape, X_test.shape, Y_pool.shape, Y_test.shape"
   ]
  },
  {
   "cell_type": "code",
   "execution_count": 8,
   "id": "8b57ebe3-6daf-4b89-81df-2f74675c8caa",
   "metadata": {},
   "outputs": [],
   "source": [
    "# test training time\n",
    "# history = model.fit(\n",
    "#     x=X_pool, y=Y_pool, \n",
    "#     batch_size=64,\n",
    "#     validation_data=(X_test, Y_test),\n",
    "#       epochs=1, \n",
    "#       verbose=1)"
   ]
  },
  {
   "cell_type": "code",
   "execution_count": 9,
   "id": "d30230ae-7c64-413b-bde9-c69fe7b8449c",
   "metadata": {},
   "outputs": [
    {
     "name": "stdout",
     "output_type": "stream",
     "text": [
      "Epoch 1/10\n"
     ]
    },
    {
     "name": "stderr",
     "output_type": "stream",
     "text": [
      "2024-09-27 20:02:08.015112: W external/local_tsl/tsl/framework/cpu_allocator_impl.cc:83] Allocation of 2319109440 exceeds 10% of free system memory.\n"
     ]
    },
    {
     "name": "stdout",
     "output_type": "stream",
     "text": [
      "4234/4234 [==============================] - ETA: 0s - loss: 0.0232 - recall: 0.0601 - precision: 0.3603 - auc_pr: 0.0924 - metric/map: 0.0117\n",
      "Epoch 1: saving model to /home/ec2-user/acoustic-AL/models/res50_testing/training/checkpoint.weights.h5\n",
      "4234/4234 [==============================] - 2692s 633ms/step - loss: 0.0232 - recall: 0.0601 - precision: 0.3603 - auc_pr: 0.0924 - metric/map: 0.0117 - val_loss: 0.0187 - val_recall: 0.2380 - val_precision: 0.8056 - val_auc_pr: 0.3002 - val_metric/map: 0.0138\n",
      "Epoch 2/10\n",
      "4234/4234 [==============================] - ETA: 0s - loss: 0.0168 - recall: 0.1928 - precision: 0.7276 - auc_pr: 0.2816 - metric/map: 0.0131\n",
      "Epoch 2: saving model to /home/ec2-user/acoustic-AL/models/res50_testing/training/checkpoint.weights.h5\n",
      "4234/4234 [==============================] - 2679s 633ms/step - loss: 0.0168 - recall: 0.1928 - precision: 0.7276 - auc_pr: 0.2816 - metric/map: 0.0131 - val_loss: 0.0162 - val_recall: 0.3611 - val_precision: 0.5301 - val_auc_pr: 0.4139 - val_metric/map: 0.0158\n",
      "Epoch 3/10\n",
      "4234/4234 [==============================] - ETA: 0s - loss: 0.0110 - recall: 0.4248 - precision: 0.7290 - auc_pr: 0.5550 - metric/map: 0.0147\n",
      "Epoch 3: saving model to /home/ec2-user/acoustic-AL/models/res50_testing/training/checkpoint.weights.h5\n",
      "4234/4234 [==============================] - 2679s 633ms/step - loss: 0.0110 - recall: 0.4248 - precision: 0.7290 - auc_pr: 0.5550 - metric/map: 0.0147 - val_loss: 0.0091 - val_recall: 0.5746 - val_precision: 0.7836 - val_auc_pr: 0.7049 - val_metric/map: 0.0165\n",
      "Epoch 4/10\n",
      "4234/4234 [==============================] - ETA: 0s - loss: 0.0086 - recall: 0.5473 - precision: 0.7413 - auc_pr: 0.6591 - metric/map: 0.0152\n",
      "Epoch 4: saving model to /home/ec2-user/acoustic-AL/models/res50_testing/training/checkpoint.weights.h5\n",
      "4234/4234 [==============================] - 2678s 633ms/step - loss: 0.0086 - recall: 0.5473 - precision: 0.7413 - auc_pr: 0.6591 - metric/map: 0.0152 - val_loss: 0.0093 - val_recall: 0.5800 - val_precision: 0.7374 - val_auc_pr: 0.6958 - val_metric/map: 0.0165\n",
      "Epoch 5/10\n",
      "4234/4234 [==============================] - ETA: 0s - loss: 0.0075 - recall: 0.6064 - precision: 0.7872 - auc_pr: 0.7205 - metric/map: 0.0153\n",
      "Epoch 5: saving model to /home/ec2-user/acoustic-AL/models/res50_testing/training/checkpoint.weights.h5\n",
      "4234/4234 [==============================] - 2682s 633ms/step - loss: 0.0075 - recall: 0.6064 - precision: 0.7872 - auc_pr: 0.7205 - metric/map: 0.0153 - val_loss: 0.0076 - val_recall: 0.6744 - val_precision: 0.7825 - val_auc_pr: 0.7526 - val_metric/map: 0.0167\n",
      "Epoch 6/10\n",
      "4234/4234 [==============================] - ETA: 0s - loss: 0.0068 - recall: 0.6344 - precision: 0.7823 - auc_pr: 0.7536 - metric/map: 0.0154\n",
      "Epoch 6: saving model to /home/ec2-user/acoustic-AL/models/res50_testing/training/checkpoint.weights.h5\n",
      "4234/4234 [==============================] - 2682s 633ms/step - loss: 0.0068 - recall: 0.6344 - precision: 0.7823 - auc_pr: 0.7536 - metric/map: 0.0154 - val_loss: 0.0070 - val_recall: 0.6689 - val_precision: 0.8232 - val_auc_pr: 0.7968 - val_metric/map: 0.0168\n",
      "Epoch 7/10\n",
      "4234/4234 [==============================] - ETA: 0s - loss: 0.0062 - recall: 0.6796 - precision: 0.7912 - auc_pr: 0.7836 - metric/map: 0.0154\n",
      "Epoch 7: saving model to /home/ec2-user/acoustic-AL/models/res50_testing/training/checkpoint.weights.h5\n",
      "4234/4234 [==============================] - 2687s 635ms/step - loss: 0.0062 - recall: 0.6796 - precision: 0.7912 - auc_pr: 0.7836 - metric/map: 0.0154 - val_loss: 0.0074 - val_recall: 0.5882 - val_precision: 0.8722 - val_auc_pr: 0.7873 - val_metric/map: 0.0168\n",
      "Epoch 8/10\n",
      "4234/4234 [==============================] - ETA: 0s - loss: 0.0058 - recall: 0.7005 - precision: 0.8121 - auc_pr: 0.8034 - metric/map: 0.0155\n",
      "Epoch 8: saving model to /home/ec2-user/acoustic-AL/models/res50_testing/training/checkpoint.weights.h5\n",
      "4234/4234 [==============================] - 2688s 635ms/step - loss: 0.0058 - recall: 0.7005 - precision: 0.8121 - auc_pr: 0.8034 - metric/map: 0.0155 - val_loss: 0.0062 - val_recall: 0.6990 - val_precision: 0.8474 - val_auc_pr: 0.8212 - val_metric/map: 0.0169\n",
      "Epoch 9/10\n",
      "4234/4234 [==============================] - ETA: 0s - loss: 0.0056 - recall: 0.7168 - precision: 0.8126 - auc_pr: 0.8158 - metric/map: 0.0155\n",
      "Epoch 9: saving model to /home/ec2-user/acoustic-AL/models/res50_testing/training/checkpoint.weights.h5\n",
      "4234/4234 [==============================] - 2681s 633ms/step - loss: 0.0056 - recall: 0.7168 - precision: 0.8126 - auc_pr: 0.8158 - metric/map: 0.0155 - val_loss: 0.0183 - val_recall: 0.7880 - val_precision: 0.5378 - val_auc_pr: 0.7175 - val_metric/map: 0.0165\n",
      "Epoch 10/10\n",
      "4234/4234 [==============================] - ETA: 0s - loss: 0.0053 - recall: 0.7313 - precision: 0.8224 - auc_pr: 0.8243 - metric/map: 0.0155\n",
      "Epoch 10: saving model to /home/ec2-user/acoustic-AL/models/res50_testing/training/checkpoint.weights.h5\n",
      "4234/4234 [==============================] - 2682s 633ms/step - loss: 0.0053 - recall: 0.7313 - precision: 0.8224 - auc_pr: 0.8243 - metric/map: 0.0155 - val_loss: 0.0066 - val_recall: 0.7606 - val_precision: 0.8081 - val_auc_pr: 0.8294 - val_metric/map: 0.0169\n"
     ]
    }
   ],
   "source": [
    "from tensorflow.keras.callbacks import TensorBoard, ModelCheckpoint, EarlyStopping\n",
    "\n",
    "model_dir = MODEL_DIR / 'res50_testing'\n",
    "model_dir.mkdir(exist_ok=True)\n",
    "\n",
    "checkpoint_path = model_dir / \"training\"\n",
    "Path(checkpoint_path).mkdir(exist_ok=True)  \n",
    "cp_callback = keras.callbacks.ModelCheckpoint(\n",
    "    checkpoint_path / 'checkpoint.weights.h5', \n",
    "    save_weights_only=True,\n",
    "    verbose=1, \n",
    ")\n",
    "\n",
    "es_callback = EarlyStopping(\n",
    "    monitor='val_loss',\n",
    "    patience=3,\n",
    "    restore_best_weights=True,\n",
    ")\n",
    "\n",
    "checkpoint_path = model_dir / \"training\"\n",
    "Path(checkpoint_path).mkdir(exist_ok=True)  \n",
    "cp_callback = keras.callbacks.ModelCheckpoint(\n",
    "    checkpoint_path / 'checkpoint.weights.h5', \n",
    "    save_weights_only=True,\n",
    "    verbose=1, \n",
    ")\n",
    "\n",
    "log_dir = model_dir / \"logs\" / \"fit\"\n",
    "log_dir.mkdir(parents=True, exist_ok=True)\n",
    "tensorboard_callback = TensorBoard(log_dir=log_dir)\n",
    "\n",
    "if TRAIN:\n",
    "    history = model.fit(\n",
    "        x=X_pool, y=Y_pool, \n",
    "        batch_size=32,\n",
    "        validation_data=(X_test, Y_test),\n",
    "          epochs=10, \n",
    "          verbose=1, callbacks=[tensorboard_callback, cp_callback, es_callback])\n",
    "\n",
    "pd.DataFrame(history.history).to_csv(model_dir / 'history.csv')\n",
    "model.save(model_dir / 'model.keras')\n",
    "\n",
    "# TODOs\n",
    "# check labels, oversampleing, undersampling others"
   ]
  },
  {
   "cell_type": "code",
   "execution_count": 10,
   "id": "b5c4ad87-192d-4a09-99f6-c62c5c073f88",
   "metadata": {},
   "outputs": [
    {
     "data": {
      "text/plain": [
       "<Axes: >"
      ]
     },
     "execution_count": 10,
     "metadata": {},
     "output_type": "execute_result"
    },
    {
     "data": {
      "image/png": "[encoded data removed]",
      "text/plain": [
       "<Figure size 640x480 with 1 Axes>"
      ]
     },
     "metadata": {},
     "output_type": "display_data"
    }
   ],
   "source": [
    "pd.DataFrame(history.history).plot()"
   ]
  },
  {
   "cell_type": "code",
   "execution_count": 8,
   "id": "bd842ffe-f07c-4e4b-adaa-9707e0e0e8b5",
   "metadata": {},
   "outputs": [],
   "source": [
    "model = keras.saving.load_model(MODEL_DIR / 'res50_testing' / 'model.keras')"
   ]
  },
  {
   "cell_type": "code",
   "execution_count": 9,
   "id": "7109cb5d-89cb-4a5b-bcfa-1ecbd498d487",
   "metadata": {},
   "outputs": [
    {
     "name": "stderr",
     "output_type": "stream",
     "text": [
      "2024-09-28 11:59:35.562234: W external/local_tsl/tsl/framework/cpu_allocator_impl.cc:83] Allocation of 724723840 exceeds 10% of free system memory.\n"
     ]
    },
    {
     "name": "stdout",
     "output_type": "stream",
     "text": [
      "1323/1323 [==============================] - 110s 82ms/step\n"
     ]
    }
   ],
   "source": [
    "Y_pred = model.predict(X_test)"
   ]
  },
  {
   "cell_type": "code",
   "execution_count": 10,
   "id": "64c234c8-a145-47e5-9ef7-4d75110bc3ff",
   "metadata": {},
   "outputs": [
    {
     "data": {
      "text/plain": [
       "((42332, 4), (42332, 4))"
      ]
     },
     "execution_count": 10,
     "metadata": {},
     "output_type": "execute_result"
    }
   ],
   "source": [
    "Y_pred.shape, Y_test.shape"
   ]
  },
  {
   "cell_type": "code",
   "execution_count": 11,
   "id": "dcc129a3-e882-44a4-b129-b45d5f3b3c2d",
   "metadata": {},
   "outputs": [
    {
     "name": "stdout",
     "output_type": "stream",
     "text": [
      "{   'fast_trill_6khz': {   'auc_pr': 0.853533227467905,\n",
      "                           'f1': 0.8007662835249042,\n",
      "                           'precision': 0.7307692307692307,\n",
      "                           'recall': 0.885593220338983},\n",
      "    'nr_syllable_3khz': {   'auc_pr': 0.9457912555987509,\n",
      "                            'f1': 0.8997772828507795,\n",
      "                            'precision': 0.9619047619047619,\n",
      "                            'recall': 0.8451882845188284},\n",
      "    'triangle_3khz': {   'auc_pr': 0.5567519266136214,\n",
      "                         'f1': 0.45925925925925926,\n",
      "                         'precision': 0.8611111111111112,\n",
      "                         'recall': 0.31313131313131315},\n",
      "    'upsweep_500hz': {   'auc_pr': 0.7518391082598324,\n",
      "                         'f1': 0.7284345047923323,\n",
      "                         'precision': 0.7307692307692307,\n",
      "                         'recall': 0.7261146496815286}}\n"
     ]
    }
   ],
   "source": [
    "from preprocessing import evaluate\n",
    "\n",
    "\n",
    "m = evaluate(Y_pred, Y_test) "
   ]
  },
  {
   "cell_type": "code",
   "execution_count": null,
   "id": "3847db9b-0668-43b4-a47c-878343bf53c7",
   "metadata": {},
   "outputs": [],
   "source": [
    "def undersample(X, Y, reduce_to=0.5): \n",
    "    total_instances = len(X)\n",
    "    assert len(Y) == total_instances\n",
    "\n",
    "    # annotated chunks\n",
    "    annotated_mask = np.any(Y, axis=1)\n",
    "    annotated_X = X[annotated_mask]\n",
    "    annotated_Y = Y[annotated_mask]\n",
    "\n",
    "    # unnanotated chunks\n",
    "    unannotated_mask = ~annotated_mask\n",
    "    unannotated_X = X[unannotated_mask]\n",
    "    unannotated_Y = Y[unannotated_mask]\n",
    "    \n",
    "    n_unannotated_to_sample = int(reduce_to * len(unannotated_X))\n",
    "    if len(unannotated_X) > 0: \n",
    "        sampled_indexes = np.random.choice(len(unannotated_X), size=n_unannotated_to_sample, replace=False)\n",
    "        sampled_X = unannotated_X[sampled_indexes]\n",
    "        sampled_Y = unannotated_Y[sampled_indexes]\n",
    "        new_X = np.vstack((annotated_X, sampled_X))\n",
    "        new_Y = np.vstack((annotated_Y, sampled_Y))\n",
    "    else:\n",
    "        new_X = annotated_X\n",
    "        new_Y = annotated_Y\n",
    "    \n",
    "    return new_X, new_Y\n",
    "\n",
    "\n",
    "X_resampled, Y_resampled = undersample(X, Y)\n",
    "X.shape, Y.shape, X_resampled.shape, Y_resampled.shape"
   ]
  },
  {
   "cell_type": "code",
   "execution_count": 49,
   "id": "b61a5192-443e-45b2-baa3-15ea42078506",
   "metadata": {},
   "outputs": [
    {
     "data": {
      "text/plain": [
       "((211660, 40, 107), (211660, 4), (212811, 40, 107), (212811, 4))"
      ]
     },
     "execution_count": 49,
     "metadata": {},
     "output_type": "execute_result"
    }
   ],
   "source": [
    "def oversample_minority_classes(X, Y):\n",
    "    num_classes = Y.shape[1]\n",
    "    class_counts = np.sum(Y, axis=0)\n",
    "    max_count = np.max(class_counts)\n",
    "    new_X = X\n",
    "    new_Y = Y\n",
    "    for class_index in range(num_classes): # 0 1 2 3\n",
    "        class_indices = np.where(Y[:, class_index] == 1)[0] # locations of nr\n",
    "        num_samples_needed = max_count - len(class_indices)\n",
    "        if num_samples_needed > 0:\n",
    "            sampled_indices = np.random.choice(class_indices, num_samples_needed, replace=True)\n",
    "            sampled_X = X[sampled_indices]\n",
    "            sampled_Y = Y[sampled_indices]\n",
    "            \n",
    "            new_X = np.vstack((new_X, sampled_X))\n",
    "            new_Y = np.vstack((new_Y, sampled_Y))\n",
    "            \n",
    "    return new_X, new_Y\n",
    "\n",
    "X_resampled, Y_resampled = oversample_minority_classes(X, Y)\n",
    "X.shape, Y.shape, X_resampled.shape, Y_resampled.shape"
   ]
  },
  {
   "cell_type": "code",
   "execution_count": 50,
   "id": "b2c14323-3573-406c-a3f7-fa849d65ed44",
   "metadata": {},
   "outputs": [
    {
     "data": {
      "text/plain": [
       "(array([1105, 1139,  446,  715]), array([1146, 1140, 1148, 1152]))"
      ]
     },
     "execution_count": 50,
     "metadata": {},
     "output_type": "execute_result"
    }
   ],
   "source": [
    "np.sum(Y, axis=0), np.sum(Y_resampled, axis=0)"
   ]
  },
  {
   "cell_type": "code",
   "execution_count": null,
   "id": "c930f722-d331-4496-a9b1-fc2a750e5957",
   "metadata": {},
   "outputs": [],
   "source": []
  }
 ],
 "metadata": {
  "kernelspec": {
   "display_name": "Python 3 (ipykernel)",
   "language": "python",
   "name": "python3"
  },
  "language_info": {
   "codemirror_mode": {
    "name": "ipython",
    "version": 3
   },
   "file_extension": ".py",
   "mimetype": "text/x-python",
   "name": "python",
   "nbconvert_exporter": "python",
   "pygments_lexer": "ipython3",
   "version": "3.9.16"
  }
 },
 "nbformat": 4,
 "nbformat_minor": 5
}
