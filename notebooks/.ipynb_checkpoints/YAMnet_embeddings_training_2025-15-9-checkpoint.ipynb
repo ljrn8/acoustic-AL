{
 "cells": [
  {
   "cell_type": "markdown",
   "metadata": {},
   "source": [
    "## YAMnet classification by segmentation | initial dataset training and testing"
   ]
  },
  {
   "cell_type": "code",
   "execution_count": 58,
   "metadata": {},
   "outputs": [
    {
     "name": "stdout",
     "output_type": "stream",
     "text": [
      "The autoreload extension is already loaded. To reload it, use:\n",
      "  %reload_ext autoreload\n"
     ]
    }
   ],
   "source": [
    "%load_ext autoreload\n",
    "%autoreload 2\n",
    "TRAIN=True\n",
    "\n",
    "import tensorflow as tf\n",
    "from tensorflow  import keras\n",
    "import tensorflow_hub as hub\n",
    "import numpy as np\n",
    "\n",
    "import librosa \n",
    "from dataset import WavDataset\n",
    "from config import *\n",
    "import matplotlib.pyplot as plt\n",
    "\n",
    "import h5py\n",
    "from pathlib import Path\n",
    "from config import INTERMEDIATE, MODEL_DIR\n",
    "import pickle"
   ]
  },
  {
   "cell_type": "markdown",
   "metadata": {},
   "source": [
    "## Data\n",
    "- all 5 second overlapping chunks have been pregenerated under ../output/intermediate/train.hdf5 (untracked on github).\n",
    "- YAMnet produces a 1024-long feature vector per 0.96s windows with a 0.48s hop. Thusly 10 frames are predicted per chunk\n",
    "- labels encoded as binary frame-wise time steps (4 signal classes)"
   ]
  },
  {
   "cell_type": "code",
   "execution_count": 28,
   "metadata": {},
   "outputs": [
    {
     "data": {
      "text/plain": [
       "(101, (1249, 1024))"
      ]
     },
     "execution_count": 28,
     "metadata": {},
     "output_type": "execute_result"
    }
   ],
   "source": [
    "hdf5_dataset = h5py.File(INTERMEDIATE / 'embeddings.hdf5', 'r')\n",
    "recordings = np.array(hdf5_dataset)\n",
    "\n",
    "rec =  recordings[0]\n",
    "\n",
    "annotated = [\n",
    "    rec for rec in recordings if np.array(hdf5_dataset[rec]['Y']).sum() > 0\n",
    "]\n",
    "len(annotated), hdf5_dataset[rec]['X'].shape"
   ]
  },
  {
   "cell_type": "code",
   "execution_count": 29,
   "metadata": {},
   "outputs": [
    {
     "data": {
      "text/plain": [
       "442080"
      ]
     },
     "execution_count": 29,
     "metadata": {},
     "output_type": "execute_result"
    }
   ],
   "source": [
    "def get_embedding_frames(rec):\n",
    "    return [\n",
    "        (rec, i) for i in range(hdf5_dataset[rec]['X'].shape[0])\n",
    "    ]\n",
    "\n",
    "embeddings_frames = []\n",
    "for rec in recordings:\n",
    "    embeddings_frames.extend(get_embedding_frames(rec))\n",
    "\n",
    "len(embeddings_frames)"
   ]
  },
  {
   "cell_type": "code",
   "execution_count": 33,
   "metadata": {
    "scrolled": true
   },
   "outputs": [
    {
     "name": "stdout",
     "output_type": "stream",
     "text": [
      "57.00635 0\t\t58.285202 0\t\t59.04304 0\t\t56.71453 0\t\t57.66487 0\t\t50.090828 0\t\t53.10558 0\t\t63.703053 0\t\t69.35723 0\t\t67.904816 0\t\t64.400475 0\t\t58.83925 0\t\t53.16173 0\t\t59.326614 0\t\t60.24948 0\t\t57.349216 0\t\t58.80186 0\t\t53.310894 0\t\t61.443405 0\t\t52.015244 0\t\t48.812256 0\t\t66.87404 0\t\t65.887695 0\t\t59.561172 0\t\t65.36894 0\t\t68.77638 0\t\t65.38515 0\t\t52.331062 0\t\t58.556824 0\t\t58.854324 0\t\t63.58287 0\t\t62.07183 0\t\t(1024,) (4,)\n"
     ]
    }
   ],
   "source": [
    "X_shape = (1024,)\n",
    "Y_shape = (4,)\n",
    "\n",
    "def embedding_frame_generator(frames):\n",
    "    for (rec, frame_idx) in frames:\n",
    "        group =  hdf5_dataset[rec]\n",
    "        yield (\n",
    "            np.array(group['X'][frame_idx, :]), \n",
    "            np.array(group['Y'][frame_idx, :])\n",
    "        ) \n",
    "\n",
    "raw_dataset = tf.data.Dataset.from_generator( \n",
    "    lambda: embedding_frame_generator(embeddings_frames), \n",
    "    output_signature=(\n",
    "        tf.TensorSpec(shape=X_shape, dtype=tf.float32),\n",
    "        tf.TensorSpec(shape=Y_shape, dtype=tf.bool)))\n",
    "\n",
    "# test\n",
    "for s in raw_dataset.take(32):\n",
    "    X, Y = s    \n",
    "    print(np.array(X).sum(), np.array(Y).sum(), end=\"\\t\\t\")\n",
    "\n",
    "print(X.shape, Y.shape)"
   ]
  },
  {
   "cell_type": "code",
   "execution_count": 77,
   "metadata": {},
   "outputs": [
    {
     "name": "stdout",
     "output_type": "stream",
     "text": [
      "282931 70733 88416\n",
      "47.46982 0\t\t53.185875 0\t\t53.694084 0\t\t54.35461 0\t\t51.834087 0\t\t60.01572 0\t\t46.567924 0\t\t61.76877 0\t\t98.84599 0\t\t79.48472 0\t\t85.8453 0\t\t43.72586 0\t\t47.87015 0\t\t97.03653 0\t\t73.54175 0\t\t50.740356 0\t\t60.05765 0\t\t96.00952 0\t\t52.659637 0\t\t62.099316 0\t\t68.575325 0\t\t126.85418 0\t\t84.37164 0\t\t58.926617 0\t\t71.92452 0\t\t83.143555 0\t\t62.76075 0\t\t62.389023 0\t\t63.2009 0\t\t46.753567 0\t\t51.671715 0\t\t84.06982 0\t\t(1024,) (4,)\n"
     ]
    }
   ],
   "source": [
    "n_frames = len(embeddings_frames) \n",
    "\n",
    "# shuffle\n",
    "np.random.seed(0)\n",
    "np.random.shuffle(embeddings_frames) # TODO add order to model dir\n",
    "\n",
    "# split chunks test/train/valid\n",
    "test_cut = int(n_frames * 0.8)\n",
    "valid_cut = int(test_cut * 0.8) \n",
    "\n",
    "train_valid_frames, test_frames = embeddings_frames[:test_cut], embeddings_frames[test_cut:]\n",
    "train_frames, valid_frames = train_valid[:valid_cut], train_valid[valid_cut:]\n",
    "\n",
    "spec = (tf.TensorSpec(shape=X_shape, dtype=tf.float32),\n",
    "        tf.TensorSpec(shape=Y_shape, dtype=tf.bool))\n",
    "\n",
    "train_dataset = tf.data.Dataset.from_generator(lambda: embedding_frame_generator(train_frames), output_signature=spec)\n",
    "valid_dataset = tf.data.Dataset.from_generator(lambda: embedding_frame_generator(valid_frames), output_signature=spec)\n",
    "test_dataset = tf.data.Dataset.from_generator(lambda: embedding_frame_generator(test_frames), output_signature=spec)\n",
    "\n",
    "print(\n",
    "    len(train_frames), len(valid_frames), len(test_frames)\n",
    ")\n",
    "\n",
    "# test\n",
    "for s in test_dataset.take(32):\n",
    "    X, Y = s    \n",
    "    print(np.array(X).sum(), np.array(Y).sum(), end=\"\\t\\t\")\n",
    "\n",
    "print(X.shape, Y.shape)"
   ]
  },
  {
   "cell_type": "markdown",
   "metadata": {},
   "source": [
    "## Training\n",
    "Using a simple DNN against the embeddings (** check??)"
   ]
  },
  {
   "cell_type": "code",
   "execution_count": 79,
   "metadata": {},
   "outputs": [
    {
     "name": "stdout",
     "output_type": "stream",
     "text": [
      "Model: \"sequential_12\"\n",
      "_________________________________________________________________\n",
      " Layer (type)                Output Shape              Param #   \n",
      "=================================================================\n",
      " dense_30 (Dense)            (None, 512)               524800    \n",
      "                                                                 \n",
      " dense_31 (Dense)            (None, 4)                 2052      \n",
      "                                                                 \n",
      "=================================================================\n",
      "Total params: 526,852\n",
      "Trainable params: 526,852\n",
      "Non-trainable params: 0\n",
      "_________________________________________________________________\n"
     ]
    }
   ],
   "source": [
    "from keras.layers import Input, Dense, BatchNormalization\n",
    "# import tensorflow_addons as tfa\n",
    "from functools import partial\n",
    "from keras import metrics\n",
    "\n",
    "def create_model(output_bias=None) -> keras.Model:\n",
    "    # default_dense =  partial(Dense, activation='selu', # self normalizing\n",
    "    #                          kernel_initializer=keras.initializers.LecunNormal(seed=0)\n",
    "    #                         ) # kernel_regularizer ?\n",
    "    default_dense =  partial(Dense, activation='relu', \n",
    "                             kernel_initializer=keras.initializers.LecunNormal(seed=0)\n",
    "                            ) # kernel_regularizer ?\n",
    "    \n",
    "    # simple head for YAMnet base\n",
    "    return keras.Sequential([\n",
    "            Input(shape=(1024,)),\n",
    "            default_dense(512), \n",
    "            Dense(4, activation='sigmoid', \n",
    "                  bias_initializer=output_bias) # correct this \n",
    "    ])\n",
    "\n",
    "def compile(model):\n",
    "    thresh = np.arange(10) * 0.1\n",
    "    model.compile(\n",
    "        optimizer='adam',\n",
    "        loss='binary_crossentropy',  \n",
    "        metrics=[\n",
    "            metrics.Recall(thresholds=0.5),\n",
    "            metrics.Precision(thresholds=0.5),\n",
    "            metrics.AUC(curve='pr'),\n",
    "        ]\n",
    "    )\n",
    "\n",
    "model = create_model()\n",
    "compile(model)\n",
    "model.summary()"
   ]
  },
  {
   "cell_type": "code",
   "execution_count": 82,
   "metadata": {},
   "outputs": [
    {
     "name": "stdout",
     "output_type": "stream",
     "text": [
      "Epoch 1/20\n",
      "Saved checkpoint for epoch 1 at /home/ethan/working/acoustic-AL/models/20e_embedding_frames/training/model_epoch_1.ckpt\n",
      "4421/4421 - 497s - loss: 0.0084 - recall_12: 0.1317 - precision_10: 0.7125 - auc_17: 0.2539 - val_loss: 0.0078 - val_recall_12: 0.1707 - val_precision_10: 0.7302 - val_auc_17: 0.2912 - 497s/epoch - 113ms/step\n",
      "Epoch 2/20\n",
      "Saved checkpoint for epoch 2 at /home/ethan/working/acoustic-AL/models/20e_embedding_frames/training/model_epoch_2.ckpt\n",
      "4421/4421 - 488s - loss: 0.0076 - recall_12: 0.1779 - precision_10: 0.7264 - auc_17: 0.3188 - val_loss: 0.0075 - val_recall_12: 0.1763 - val_precision_10: 0.7143 - val_auc_17: 0.3207 - 488s/epoch - 110ms/step\n",
      "Epoch 3/20\n",
      "Saved checkpoint for epoch 3 at /home/ethan/working/acoustic-AL/models/20e_embedding_frames/training/model_epoch_3.ckpt\n",
      "4421/4421 - 567s - loss: 0.0072 - recall_12: 0.2172 - precision_10: 0.7437 - auc_17: 0.3612 - val_loss: 0.0073 - val_recall_12: 0.1985 - val_precision_10: 0.7589 - val_auc_17: 0.3481 - 567s/epoch - 128ms/step\n",
      "Epoch 4/20\n",
      "Saved checkpoint for epoch 4 at /home/ethan/working/acoustic-AL/models/20e_embedding_frames/training/model_epoch_4.ckpt\n",
      "4421/4421 - 549s - loss: 0.0069 - recall_12: 0.2408 - precision_10: 0.7475 - auc_17: 0.3944 - val_loss: 0.0073 - val_recall_12: 0.2078 - val_precision_10: 0.7417 - val_auc_17: 0.3465 - 549s/epoch - 124ms/step\n",
      "Epoch 5/20\n",
      "Saved checkpoint for epoch 5 at /home/ethan/working/acoustic-AL/models/20e_embedding_frames/training/model_epoch_5.ckpt\n",
      "4421/4421 - 729s - loss: 0.0066 - recall_12: 0.2643 - precision_10: 0.7487 - auc_17: 0.4179 - val_loss: 0.0071 - val_recall_12: 0.2208 - val_precision_10: 0.7437 - val_auc_17: 0.3703 - 729s/epoch - 165ms/step\n",
      "Epoch 6/20\n",
      "Saved checkpoint for epoch 6 at /home/ethan/working/acoustic-AL/models/20e_embedding_frames/training/model_epoch_6.ckpt\n",
      "4421/4421 - 775s - loss: 0.0064 - recall_12: 0.2814 - precision_10: 0.7632 - auc_17: 0.4419 - val_loss: 0.0071 - val_recall_12: 0.2356 - val_precision_10: 0.7175 - val_auc_17: 0.3757 - 775s/epoch - 175ms/step\n",
      "Epoch 7/20\n",
      "Saved checkpoint for epoch 7 at /home/ethan/working/acoustic-AL/models/20e_embedding_frames/training/model_epoch_7.ckpt\n",
      "4421/4421 - 549s - loss: 0.0061 - recall_12: 0.3059 - precision_10: 0.7627 - auc_17: 0.4644 - val_loss: 0.0072 - val_recall_12: 0.2449 - val_precision_10: 0.7374 - val_auc_17: 0.3796 - 549s/epoch - 124ms/step\n",
      "Epoch 8/20\n",
      "Saved checkpoint for epoch 8 at /home/ethan/working/acoustic-AL/models/20e_embedding_frames/training/model_epoch_8.ckpt\n",
      "4421/4421 - 464s - loss: 0.0059 - recall_12: 0.3318 - precision_10: 0.7720 - auc_17: 0.4851 - val_loss: 0.0073 - val_recall_12: 0.2542 - val_precision_10: 0.7366 - val_auc_17: 0.3746 - 464s/epoch - 105ms/step\n",
      "Epoch 9/20\n",
      "Saved checkpoint for epoch 9 at /home/ethan/working/acoustic-AL/models/20e_embedding_frames/training/model_epoch_9.ckpt\n",
      "4421/4421 - 451s - loss: 0.0058 - recall_12: 0.3369 - precision_10: 0.7722 - auc_17: 0.4991 - val_loss: 0.0073 - val_recall_12: 0.2542 - val_precision_10: 0.7527 - val_auc_17: 0.3817 - 451s/epoch - 102ms/step\n",
      "Epoch 10/20\n",
      "Saved checkpoint for epoch 10 at /home/ethan/working/acoustic-AL/models/20e_embedding_frames/training/model_epoch_10.ckpt\n",
      "4421/4421 - 428s - loss: 0.0056 - recall_12: 0.3600 - precision_10: 0.7861 - auc_17: 0.5172 - val_loss: 0.0075 - val_recall_12: 0.2616 - val_precision_10: 0.7306 - val_auc_17: 0.3759 - 428s/epoch - 97ms/step\n",
      "Epoch 11/20\n",
      "Saved checkpoint for epoch 11 at /home/ethan/working/acoustic-AL/models/20e_embedding_frames/training/model_epoch_11.ckpt\n",
      "4421/4421 - 424s - loss: 0.0055 - recall_12: 0.3678 - precision_10: 0.7698 - auc_17: 0.5332 - val_loss: 0.0077 - val_recall_12: 0.2597 - val_precision_10: 0.7107 - val_auc_17: 0.3702 - 424s/epoch - 96ms/step\n"
     ]
    },
    {
     "ename": "NameError",
     "evalue": "name 'model_dir' is not defined",
     "output_type": "error",
     "traceback": [
      "\u001b[0;31m---------------------------------------------------------------------------\u001b[0m",
      "\u001b[0;31mNameError\u001b[0m                                 Traceback (most recent call last)",
      "Cell \u001b[0;32mIn[82], line 68\u001b[0m\n\u001b[1;32m     66\u001b[0m df \u001b[38;5;241m=\u001b[39m pd\u001b[38;5;241m.\u001b[39mDataFrame(history\u001b[38;5;241m.\u001b[39mhistory)\n\u001b[1;32m     67\u001b[0m df\u001b[38;5;241m.\u001b[39mto_csv(\u001b[38;5;124m\"\u001b[39m\u001b[38;5;124mlogs/history.csv\u001b[39m\u001b[38;5;124m\"\u001b[39m)\n\u001b[0;32m---> 68\u001b[0m model\u001b[38;5;241m.\u001b[39msave(\u001b[43mmodel_dir\u001b[49m \u001b[38;5;241m/\u001b[39m \u001b[38;5;124m'\u001b[39m\u001b[38;5;124mmodel.keras\u001b[39m\u001b[38;5;124m'\u001b[39m)\n",
      "\u001b[0;31mNameError\u001b[0m: name 'model_dir' is not defined"
     ]
    }
   ],
   "source": [
    "# 133921 chunks\n",
    "# 4185 batches\n",
    "\n",
    "from tensorflow.keras.callbacks import TensorBoard, ModelCheckpoint, EarlyStopping\n",
    "import pandas as pd\n",
    "\n",
    "class IncrementallySavedCheckpoint(tf.keras.callbacks.Callback):\n",
    "    def __init__(self, checkpoint_dir, **kwargs):\n",
    "        super().__init__()\n",
    "        self.checkpoint_dir = checkpoint_dir\n",
    "    \n",
    "    def on_epoch_end(self, epoch, logs=None):\n",
    "        checkpoint_path = Path(self.checkpoint_dir) / f'model_epoch_{epoch+1}.ckpt'\n",
    "        self.model.save_weights(checkpoint_path)\n",
    "        print(f\"Saved checkpoint for epoch {epoch+1} at {checkpoint_path}\")\n",
    "\n",
    "\n",
    "def train(model, model_dir, stopping_patience=5, \n",
    "          stopping_moniter='val_loss', **kwargs):\n",
    "    \n",
    "    model_dir.mkdir(exist_ok=True)\n",
    "\n",
    "    # save frame order\n",
    "    np.save(model_dir / 'train_frames.npy', train_frames)\n",
    "    np.save(model_dir / 'valid_frames.npy', valid_frames)\n",
    "    np.save(model_dir / 'test_frames.npy', test_frames) \n",
    "\n",
    "    # tensorboard\n",
    "    log_dir = model_dir / \"logs\" / \"fit\"\n",
    "    log_dir.mkdir(parents=True, exist_ok=True)\n",
    "    tensorboard_callback = TensorBoard(log_dir=log_dir)\n",
    "\n",
    "    # checkpoints\n",
    "    checkpoint_path = model_dir / \"training\"\n",
    "    Path(checkpoint_path).mkdir(exist_ok=True)  \n",
    "    \n",
    "    cp_callback = IncrementallySavedCheckpoint(\n",
    "        checkpoint_path, save_weights_only=True, verbose=1  \n",
    "    )\n",
    "\n",
    "    # early stopping\n",
    "    es_checkpoint = EarlyStopping(\n",
    "        monitor=stopping_moniter,\n",
    "        patience=stopping_patience,\n",
    "        restore_best_weights=True,\n",
    "    )\n",
    "    \n",
    "    # fit\n",
    "    history = model.fit(\n",
    "        verbose=2,\n",
    "        callbacks=[tensorboard_callback, cp_callback, es_checkpoint],\n",
    "        **kwargs\n",
    "    )\n",
    "    df = pd.DataFrame(history.history)\n",
    "    df.to_csv(\"logs/history.csv\")\n",
    "    model.save(model_dir / 'model.keras')\n",
    "    return history\n",
    "\n",
    "    \n",
    "if TRAIN:\n",
    "    batch = 64 # try 128 / 256\n",
    "    epochs = 20\n",
    "    history = train(\n",
    "        x=train_dataset.batch(batch).prefetch(tf.data.AUTOTUNE), \n",
    "        validation_data=valid_dataset.batch(batch).prefetch(tf.data.AUTOTUNE),\n",
    "        model=model, \n",
    "        model_dir=MODEL_DIR / \"20e_embedding_frames\", \n",
    "        epochs=epochs, \n",
    "    )\n",
    "    \n",
    "    "
   ]
  },
  {
   "cell_type": "code",
   "execution_count": null,
   "metadata": {},
   "outputs": [],
   "source": [
    "## Evaluation"
   ]
  },
  {
   "cell_type": "code",
   "execution_count": 83,
   "metadata": {},
   "outputs": [
    {
     "data": {
      "text/html": [
       "\n",
       "      <iframe id=\"tensorboard-frame-d0ec6875905428d\" width=\"100%\" height=\"800\" frameborder=\"0\">\n",
       "      </iframe>\n",
       "      <script>\n",
       "        (function() {\n",
       "          const frame = document.getElementById(\"tensorboard-frame-d0ec6875905428d\");\n",
       "          const url = new URL(\"/\", window.location);\n",
       "          const port = 6006;\n",
       "          if (port) {\n",
       "            url.port = port;\n",
       "          }\n",
       "          frame.src = url;\n",
       "        })();\n",
       "      </script>\n",
       "    "
      ],
      "text/plain": [
       "<IPython.core.display.HTML object>"
      ]
     },
     "metadata": {},
     "output_type": "display_data"
    }
   ],
   "source": [
    "%load_ext tensorboard\n",
    "%tensorboard --logdir=/home/ethan/working/acoustic-AL/models/20e_embedding_frames/logs"
   ]
  },
  {
   "cell_type": "code",
   "execution_count": null,
   "metadata": {},
   "outputs": [],
   "source": [
    "# get model from last checkpoint (should be ~E18 -> overfit)\n",
    "# model = create_model()\n",
    "# load_status = model.load_weights(\"/home/ethan/working/acoustic-AL/models/50e_initial_ds/training/model.ckpt\")\n",
    "# load_status.expect_partial() \n",
    "# compile(model)"
   ]
  },
  {
   "cell_type": "code",
   "execution_count": 84,
   "metadata": {
    "scrolled": true
   },
   "outputs": [
    {
     "name": "stderr",
     "output_type": "stream",
     "text": [
      "loading/predicting test ds: 2763it [03:44, 12.30it/s]\n"
     ]
    }
   ],
   "source": [
    "from tqdm import tqdm\n",
    "\n",
    "def get_predictions(model, batched_test_dataset):\n",
    "    y_true, y_pred = [], []\n",
    "    for batch_X, batch_y in tqdm(batched_test_dataset, desc='loading/predicting test ds'):\n",
    "        predictions = model(batch_X, training=False)\n",
    "        y_true.extend(batch_y.numpy())\n",
    "        y_pred.extend(predictions.numpy()) \n",
    "\n",
    "    return np.array(y_true), np.array(y_pred)\n",
    "\n",
    "y_true, y_pred = get_predictions(model, test_dataset.batch(32).prefetch(tf.data.AUTOTUNE))\n",
    "y_true_flat = y_true.reshape(-1, 4)\n",
    "y_pred_flat = y_pred.reshape(-1, 4)"
   ]
  },
  {
   "cell_type": "code",
   "execution_count": 85,
   "metadata": {},
   "outputs": [
    {
     "name": "stdout",
     "output_type": "stream",
     "text": [
      "average class probability of [fast_trill_6khz]: 0.0024656170828809263\n",
      "average class probability of [nr_syllable_3khz]: 0.0029067137169743033\n",
      "average class probability of [triangle_3khz]: 0.0007690915671371698\n",
      "average class probability of [upsweep_500hz]: 0.0011423271806007963\n"
     ]
    }
   ],
   "source": [
    "# unbalanced classes\n",
    "labels = [ \"fast_trill_6khz\", \"nr_syllable_3khz\", \"triangle_3khz\", \"upsweep_500hz\"]\n",
    "for i, label in enumerate(labels):\n",
    "    print(f'average class probability of [{label}]: {y_true_flat[:, i].mean()}')"
   ]
  },
  {
   "cell_type": "code",
   "execution_count": 90,
   "metadata": {
    "scrolled": true
   },
   "outputs": [
    {
     "name": "stdout",
     "output_type": "stream",
     "text": [
      "[ True False False False]\n",
      "[0.00129846 0.00011159 0.00103945 0.0018858 ]\n",
      "[False False False  True]\n",
      "[0.00592357 0.00052753 0.00016913 0.00547817]\n",
      "[False  True False False]\n",
      "[1.8385649e-03 5.8804435e-01 5.6813650e-07 3.7625159e-05]\n",
      "[False False False  True]\n",
      "[2.9501021e-03 3.5363436e-04 7.9011203e-05 2.2474438e-02]\n",
      "[False  True False False]\n",
      "[0.00108451 0.00990373 0.01133612 0.00455785]\n"
     ]
    }
   ],
   "source": [
    "# compare predicted labels\n",
    "annotated = [(y, yp) for (y, yp) in zip(y_true, y_pred) if y.any()] \n",
    "for chunks in annotated[:5]:\n",
    "    annotated_chunk, annotated_chunk_pred = chunks\n",
    "    if annotated_chunk.any():\n",
    "        print(annotated_chunk) \n",
    "        print(annotated_chunk_pred)\n"
   ]
  },
  {
   "cell_type": "code",
   "execution_count": 91,
   "metadata": {},
   "outputs": [
    {
     "data": {
      "image/png": "[encoded data removed]",
      "text/plain": [
       "<Figure size 640x480 with 1 Axes>"
      ]
     },
     "metadata": {},
     "output_type": "display_data"
    },
    {
     "data": {
      "image/png": "[encoded data removed]",
      "text/plain": [
       "<Figure size 640x480 with 1 Axes>"
      ]
     },
     "metadata": {},
     "output_type": "display_data"
    }
   ],
   "source": [
    "from sklearn.metrics import roc_curve, precision_recall_curve\n",
    "\n",
    "def plot_roc(name, labels, predictions, **kwargs):\n",
    "    fp, tp, _ = roc_curve(labels, predictions)\n",
    "    plt.plot(fp*100, tp*100, label=name, linewidth=2, **kwargs)\n",
    "    plt.xlabel('False positive rate')\n",
    "    plt.ylabel('True positive rate')\n",
    "    plt.xlim([0,100])\n",
    "    plt.ylim([0,100])\n",
    "    plt.grid(True)\n",
    "\n",
    "def plot_pr(name, labels, predictions, **kwargs):\n",
    "    prec, rec, _ = precision_recall_curve(labels, predictions)\n",
    "    plt.plot(prec, rec, label=name, linewidth=2, **kwargs)\n",
    "    plt.xlabel('Precision')\n",
    "    plt.ylabel('Recall')\n",
    "    plt.xlim([0,1])\n",
    "    plt.ylim([0,1])\n",
    "    plt.grid(True)\n",
    "\n",
    "for i, label in enumerate(labels):\n",
    "    plot_roc(labels, y_true_flat[:, i], y_pred_flat[:, i])\n",
    "plt.legend(labels) \n",
    "plt.show() \n",
    "\n",
    "for i, label in enumerate(labels):\n",
    "    plot_pr(labels, y_true_flat[:, i], y_pred_flat[:, i])\n",
    "plt.legend(labels) \n",
    "plt.show() "
   ]
  },
  {
   "cell_type": "code",
   "execution_count": 88,
   "metadata": {},
   "outputs": [
    {
     "data": {
      "text/plain": [
       "<tf.Tensor: shape=(), dtype=float32, numpy=0.90292084>"
      ]
     },
     "execution_count": 88,
     "metadata": {},
     "output_type": "execute_result"
    }
   ],
   "source": [
    "m = keras.metrics.AUC(curve='roc')\n",
    "m.update_state(y_true_flat[:, 0], y_pred_flat[:, 0])\n",
    "m.result()"
   ]
  },
  {
   "cell_type": "code",
   "execution_count": 89,
   "metadata": {},
   "outputs": [
    {
     "data": {
      "text/plain": [
       "<tf.Tensor: shape=(), dtype=float32, numpy=0.334299>"
      ]
     },
     "execution_count": 89,
     "metadata": {},
     "output_type": "execute_result"
    }
   ],
   "source": [
    "m = keras.metrics.AUC(curve='pr')\n",
    "m.update_state(y_true_flat[:, 0], y_pred_flat[:, 0])\n",
    "m.result()"
   ]
  }
 ],
 "metadata": {
  "kernelspec": {
   "display_name": "Python 3 (ipykernel)",
   "language": "python",
   "name": "python3"
  },
  "language_info": {
   "codemirror_mode": {
    "name": "ipython",
    "version": 3
   },
   "file_extension": ".py",
   "mimetype": "text/x-python",
   "name": "python",
   "nbconvert_exporter": "python",
   "pygments_lexer": "ipython3",
   "version": "3.8.10"
  }
 },
 "nbformat": 4,
 "nbformat_minor": 4
}
