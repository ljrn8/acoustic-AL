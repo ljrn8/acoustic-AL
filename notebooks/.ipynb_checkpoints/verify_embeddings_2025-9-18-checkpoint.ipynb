{
 "cells": [
  {
   "cell_type": "code",
   "execution_count": 1,
   "id": "746c9e50-5feb-431d-9f27-a091c3276857",
   "metadata": {},
   "outputs": [
    {
     "name": "stdout",
     "output_type": "stream",
     "text": [
      "The history saving thread hit an unexpected error (OperationalError('attempt to write a readonly database')).History will not be written to the database.\n"
     ]
    }
   ],
   "source": [
    "%load_ext autoreload\n",
    "%autoreload 2\n",
    "\n",
    "import numpy as np\n",
    "\n",
    "import librosa \n",
    "from dataset import WavDataset\n",
    "from config import *\n",
    "import matplotlib.pyplot as plt\n",
    "\n",
    "import h5py\n",
    "from pathlib import Path\n",
    "from config import *\n",
    "import pickle"
   ]
  },
  {
   "cell_type": "code",
   "execution_count": 2,
   "id": "a783674d-d64d-484a-8455-cb0d25aaa250",
   "metadata": {},
   "outputs": [
    {
     "data": {
      "text/plain": [
       "(1249, 1024)"
      ]
     },
     "execution_count": 2,
     "metadata": {},
     "output_type": "execute_result"
    }
   ],
   "source": [
    "hdf5_dataset = h5py.File(INTERMEDIATE / 'embeddings.hdf5', 'r')\n",
    "recs = list(hdf5_dataset)\n",
    "annotated = [rec for rec in recs if np.array(hdf5_dataset[rec]['Y']).sum() > 0]\n",
    "hdf5_dataset[annotated[0]]['X'].shape"
   ]
  },
  {
   "cell_type": "code",
   "execution_count": null,
   "id": "e1f8f8a0-a159-41c5-9aed-d7d33385d44b",
   "metadata": {
    "scrolled": true
   },
   "outputs": [],
   "source": [
    "import numpy as np\n",
    "import matplotlib.pyplot as plt\n",
    "from sklearn.decomposition import PCA\n",
    "from sklearn.manifold import TSNE\n",
    "from tqdm import tqdm\n",
    "\n",
    "def reduce_dimensions(embeddings, n_pca_components=50, n_tsne_components=3):\n",
    "    pca = PCA(n_components=n_pca_components, random_state=42)\n",
    "    pca_result = pca.fit_transform(embeddings)\n",
    "    tsne = TSNE(n_components=n_tsne_components, random_state=42)\n",
    "    tsne_result = tsne.fit_transform(pca_result)\n",
    "    return tsne_result\n",
    "\n",
    "def visualize_embeddings(tsne_result, labels):\n",
    "    plt.figure(figsize=(10, 7))\n",
    "    scatter = plt.scatter(tsne_result[:, 0], tsne_result[:, 1], c=labels, cmap='tab10', alpha=0.7)\n",
    "    plt.colorbar(scatter)\n",
    "\n",
    "l, e = [], []\n",
    "for i in tqdm(np.random.randint(1, 100, size=100)):\n",
    "    rec = annotated[i]\n",
    "    embeddings = hdf5_dataset[rec]['X']\n",
    "    labels = hdf5_dataset[rec]['Y']\n",
    "    mask = [l.any() for l in labels]\n",
    "    l.append(labels[mask, :])\n",
    "    e.append(embeddings[mask, :])\n",
    "\n",
    "all_e = np.concatenate(e, axis=0)\n",
    "all_l = np.concatenate(l, axis=0)\n",
    "print(\n",
    "    all_e.shape, all_l.shape\n",
    ")"
   ]
  },
  {
   "cell_type": "code",
   "execution_count": null,
   "id": "bda4b384-5ce3-4363-89c2-9dcb8adec027",
   "metadata": {},
   "outputs": [],
   "source": [
    "tsne_result = reduce_dimensions(all_e)\n",
    "visualize_embeddings(tsne_result, all_l)\n",
    "plt.show()"
   ]
  },
  {
   "cell_type": "code",
   "execution_count": null,
   "id": "c0ab1b1b-0e46-48b8-ae65-ef6dc3125106",
   "metadata": {},
   "outputs": [],
   "source": [
    "from sklearn.cluster import KMeans\n",
    "from sklearn.metrics import silhouette_score\n",
    "\n",
    "def cluster_analysis(embeddings, num_clusters):\n",
    "    kmeans = KMeans(n_clusters=num_clusters, random_state=42)\n",
    "    cluster_labels = kmeans.fit_predict(embeddings)\n",
    "    silhouette_avg = silhouette_score(embeddings, cluster_labels)\n",
    "    print(f'Silhouette Score: {silhouette_avg}')\n",
    "    return cluster_labels\n",
    "\n",
    "cluster_labels = cluster_analysis(all_e, num_clusters=4)"
   ]
  }
 ],
 "metadata": {
  "kernelspec": {
   "display_name": "Python 3 (ipykernel)",
   "language": "python",
   "name": "python3"
  },
  "language_info": {
   "codemirror_mode": {
    "name": "ipython",
    "version": 3
   },
   "file_extension": ".py",
   "mimetype": "text/x-python",
   "name": "python",
   "nbconvert_exporter": "python",
   "pygments_lexer": "ipython3",
   "version": "3.8.10"
  }
 },
 "nbformat": 4,
 "nbformat_minor": 5
}
