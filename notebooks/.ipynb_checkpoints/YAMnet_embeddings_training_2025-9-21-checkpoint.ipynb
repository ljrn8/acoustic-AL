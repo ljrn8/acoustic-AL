{
 "cells": [
  {
   "cell_type": "markdown",
   "metadata": {},
   "source": [
    "## YAMnet classification by segmentation | initial dataset training and testing"
   ]
  },
  {
   "cell_type": "code",
   "execution_count": 2,
   "metadata": {},
   "outputs": [],
   "source": [
    "%load_ext autoreload\n",
    "%autoreload 2\n",
    "TRAIN=True\n",
    "\n",
    "import tensorflow as tf\n",
    "from tensorflow  import keras\n",
    "import tensorflow_hub as hub\n",
    "import tensorflow_ranking as tfr\n",
    "import numpy as np\n",
    "\n",
    "import librosa \n",
    "from dataset import WavDataset\n",
    "from config import *\n",
    "import matplotlib.pyplot as plt\n",
    "\n",
    "import h5py\n",
    "from pathlib import Path\n",
    "from config import INTERMEDIATE, MODEL_DIR\n",
    "import pickle"
   ]
  },
  {
   "cell_type": "markdown",
   "metadata": {},
   "source": [
    "## Data\n",
    "- all 5 second overlapping chunks have been pregenerated under ../output/intermediate/train.hdf5 (untracked on github).\n",
    "- YAMnet produces a 1024-long feature vector per 0.96s windows with a 0.48s hop. Thusly 10 frames are predicted per chunk\n",
    "- labels encoded as binary frame-wise time steps (4 signal classes)"
   ]
  },
  {
   "cell_type": "code",
   "execution_count": 3,
   "metadata": {},
   "outputs": [
    {
     "data": {
      "text/plain": [
       "(101, (1249, 1024))"
      ]
     },
     "execution_count": 3,
     "metadata": {},
     "output_type": "execute_result"
    }
   ],
   "source": [
    "hdf5_dataset = h5py.File(INTERMEDIATE / 'embeddings_20p.hdf5', 'r')\n",
    "recordings = np.array(hdf5_dataset)\n",
    "\n",
    "rec =  recordings[0]\n",
    "\n",
    "annotated = [\n",
    "    rec for rec in recordings if np.array(hdf5_dataset[rec]['Y']).sum() > 0\n",
    "]\n",
    "len(annotated), hdf5_dataset[rec]['X'].shape"
   ]
  },
  {
   "cell_type": "code",
   "execution_count": 4,
   "metadata": {},
   "outputs": [
    {
     "data": {
      "text/plain": [
       "442080"
      ]
     },
     "execution_count": 4,
     "metadata": {},
     "output_type": "execute_result"
    }
   ],
   "source": [
    "def get_embedding_frames(rec):\n",
    "    return [\n",
    "        (rec, i) for i in range(hdf5_dataset[rec]['X'].shape[0])\n",
    "    ]\n",
    "\n",
    "embeddings_frames = []\n",
    "for rec in recordings:\n",
    "    embeddings_frames.extend(get_embedding_frames(rec))\n",
    "\n",
    "len(embeddings_frames)"
   ]
  },
  {
   "cell_type": "code",
   "execution_count": 5,
   "metadata": {
    "scrolled": true
   },
   "outputs": [
    {
     "name": "stdout",
     "output_type": "stream",
     "text": [
      "57.383087 0\t\t58.336655 0\t\t60.01384 0\t\t57.28924 0\t\t57.85022 0\t\t49.963097 0\t\t53.449215 0\t\t64.3324 0\t\t70.1055 0\t\t68.080055 0\t\t64.687904 0\t\t59.184723 0\t\t53.61716 0\t\t59.590363 0\t\t60.360348 0\t\t58.20634 0\t\t59.025845 0\t\t53.041924 0\t\t61.496025 0\t\t51.999657 0\t\t48.8396 0\t\t67.08521 0\t\t66.21982 0\t\t60.171543 0\t\t66.037285 0\t\t69.92178 0\t\t65.28702 0\t\t52.10675 0\t\t58.93723 0\t\t59.238735 0\t\t63.91856 0"
     ]
    },
    {
     "name": "stdout",
     "output_type": "stream",
     "text": [
      "\t\t62.141758 0\t\t60.550026 0\t\t57.07273 0\t\t53.874493 0\t\t69.63828 0\t\t59.21697 0\t\t57.983063 0\t\t63.4432 0\t\t56.17009 0\t\t67.04704 0\t\t63.781395 0\t\t57.202694 0\t\t76.775925 0\t\t70.12697 0\t\t67.78143 0\t\t85.17458 0\t\t76.11391 0\t\t80.64295 0\t\t94.43477 0\t\t82.44854 0\t\t81.52187 0\t\t77.08099 0\t\t67.09074 0\t\t83.46533 0\t\t79.571045 0\t\t81.46047 0\t\t60.44755 0\t\t83.24104 0\t\t85.39656 0\t\t63.68128 0\t\t62.892273 0\t\t63.337692 0\t\t72.900955 0\t\t(1024,) (4,)\n"
     ]
    }
   ],
   "source": [
    "X_shape = (1024,)\n",
    "Y_shape = (4,)\n",
    "\n",
    "def embedding_frame_generator(frames):\n",
    "    for (rec, frame_idx) in frames:\n",
    "        group =  hdf5_dataset[rec]\n",
    "        yield (\n",
    "            np.array(group['X'][frame_idx, :]), \n",
    "            np.array(group['Y'][:, frame_idx])\n",
    "        ) \n",
    "\n",
    "raw_dataset = tf.data.Dataset.from_generator( \n",
    "    lambda: embedding_frame_generator(embeddings_frames), # all frames\n",
    "    output_signature=(\n",
    "        tf.TensorSpec(shape=X_shape, dtype=tf.float32),\n",
    "        tf.TensorSpec(shape=Y_shape, dtype=tf.bool)))\n",
    "\n",
    "# test\n",
    "for s in raw_dataset.take(64):\n",
    "    X, Y = s    \n",
    "    print(np.array(X).sum(), np.array(Y).sum(), end=\"\\t\\t\")\n",
    "\n",
    "print(X.shape, Y.shape)"
   ]
  },
  {
   "cell_type": "code",
   "execution_count": 6,
   "metadata": {},
   "outputs": [
    {
     "name": "stdout",
     "output_type": "stream",
     "text": [
      "282931 70733 88416\n",
      "59.907173 0\t\t49.229683 0\t\t54.9835 0\t\t61.407185 0\t\t61.19307 0\t\t67.63016 0\t\t57.779068 0\t\t66.464096 0\t\t56.8115 0\t\t32.359573 0\t\t110.23826 0\t\t75.64566 0\t\t95.08556 0\t\t68.87187 0\t\t70.54109 0\t\t93.14877 0\t\t64.90764 0\t\t59.059357 0\t\t87.89123 0\t\t62.453396 0\t\t51.820923 0\t\t44.172874 0\t\t64.460464 0\t\t66.53328 0\t\t64.53513 0\t\t65.92909 0\t\t60.593666 0\t\t67.824036 0\t\t57.344513 0\t\t61.455074 0\t\t57.902847 0\t\t60.30487 0\t\t(1024,) (4,)\n"
     ]
    }
   ],
   "source": [
    "n_frames = len(embeddings_frames) \n",
    "\n",
    "# shuffle\n",
    "np.random.seed(0)\n",
    "np.random.shuffle(embeddings_frames) \n",
    "\n",
    "# split chunks test/train/valid\n",
    "test_cut = int(n_frames * 0.8)\n",
    "valid_cut = int(test_cut * 0.8) \n",
    "\n",
    "train_valid_frames, test_frames = embeddings_frames[:test_cut], embeddings_frames[test_cut:]\n",
    "train_frames, valid_frames = train_valid_frames[:valid_cut], train_valid_frames[valid_cut:]\n",
    "\n",
    "spec = (tf.TensorSpec(shape=X_shape, dtype=tf.float32),\n",
    "        tf.TensorSpec(shape=Y_shape, dtype=tf.bool))\n",
    "\n",
    "train_dataset = tf.data.Dataset.from_generator(lambda: embedding_frame_generator(train_frames), output_signature=spec)\n",
    "valid_dataset = tf.data.Dataset.from_generator(lambda: embedding_frame_generator(valid_frames), output_signature=spec)\n",
    "test_dataset = tf.data.Dataset.from_generator(lambda: embedding_frame_generator(test_frames), output_signature=spec)\n",
    "\n",
    "print(\n",
    "    len(train_frames), len(valid_frames), len(test_frames)\n",
    ")\n",
    "\n",
    "# test\n",
    "for s in test_dataset.take(32):\n",
    "    X, Y = s    \n",
    "    print(np.array(X).sum(), np.array(Y).sum(), end=\"\\t\\t\")\n",
    "\n",
    "print(X.shape, Y.shape)"
   ]
  },
  {
   "cell_type": "markdown",
   "metadata": {},
   "source": [
    "## Training\n",
    "Using a simple DNN against the embeddings (** check??)"
   ]
  },
  {
   "cell_type": "code",
   "execution_count": 7,
   "metadata": {},
   "outputs": [
    {
     "name": "stdout",
     "output_type": "stream",
     "text": [
      "Model: \"sequential\"\n",
      "_________________________________________________________________\n",
      " Layer (type)                Output Shape              Param #   \n",
      "=================================================================\n",
      " dense (Dense)               (None, 64)                65600     \n",
      "                                                                 \n",
      " dense_1 (Dense)             (None, 4)                 260       \n",
      "                                                                 \n",
      "=================================================================\n",
      "Total params: 65860 (257.27 KB)\n",
      "Trainable params: 65860 (257.27 KB)\n",
      "Non-trainable params: 0 (0.00 Byte)\n",
      "_________________________________________________________________\n"
     ]
    }
   ],
   "source": [
    "from keras.layers import Input, Dense, BatchNormalization\n",
    "# import tensorflow_addons as tfa\n",
    "from functools import partial\n",
    "from keras import metrics\n",
    "\n",
    "def create_model(output_bias=None) -> keras.Model:\n",
    "    # default_dense =  partial(Dense, activation='selu', # self normalizing\n",
    "    #                          kernel_initializer=keras.initializers.LecunNormal(seed=0)\n",
    "    #                         ) # kernel_regularizer ?\n",
    "    default_dense =  partial(Dense, activation='relu', \n",
    "                             kernel_initializer=keras.initializers.LecunNormal(seed=0)\n",
    "                            ) # kernel_regularizer ?\n",
    "    \n",
    "    # simple head for YAMnet base\n",
    "    return keras.Sequential([\n",
    "            Input(shape=(1024,)),\n",
    "            # default_dense(512), \n",
    "            default_dense(64), \n",
    "            Dense(4, activation='sigmoid', \n",
    "                  bias_initializer=output_bias) # add this ?\n",
    "    ])\n",
    "\n",
    "def compile(model):\n",
    "    thresh = np.arange(10) * 0.1\n",
    "    model.compile(\n",
    "        optimizer='adam',\n",
    "        loss='binary_crossentropy',  \n",
    "        metrics=[\n",
    "            metrics.Recall(thresholds=0.5),\n",
    "            metrics.Precision(thresholds=0.5),\n",
    "            metrics.AUC(curve='pr'),\n",
    "            metrics.AUC(curve='roc'), # not applicitory\n",
    "            tfr.keras.metrics.get(key=\"map\", name=\"metric/map\"),\n",
    "        ]\n",
    "    )\n",
    "\n",
    "model = create_model()\n",
    "compile(model)\n",
    "model.summary()"
   ]
  },
  {
   "cell_type": "code",
   "execution_count": 9,
   "metadata": {},
   "outputs": [
    {
     "name": "stdout",
     "output_type": "stream",
     "text": [
      "Epoch 1/20\n",
      "\n",
      "Epoch 1: saving model to /home/ec2-user/acoustic-AL/models/20e_dnn_embedframes_20perc_3layerNN/training/checkpoint.weights.h5\n",
      "2211/2211 - 195s - loss: 0.0143 - recall: 0.0226 - precision: 0.7475 - auc: 0.1440 - auc_1: 0.8625 - metric/map: 0.0093 - val_loss: 0.0124 - val_recall: 0.0843 - val_precision: 0.8553 - val_auc: 0.2114 - val_auc_1: 0.9035 - val_metric/map: 0.0092 - 195s/epoch - 88ms/step\n",
      "Epoch 2/20\n",
      "\n",
      "Epoch 2: saving model to /home/ec2-user/acoustic-AL/models/20e_dnn_embedframes_20perc_3layerNN/training/checkpoint.weights.h5\n",
      "2211/2211 - 196s - loss: 0.0121 - recall: 0.1048 - precision: 0.8186 - auc: 0.2640 - auc_1: 0.9050 - metric/map: 0.0100 - val_loss: 0.0116 - val_recall: 0.1427 - val_precision: 0.7857 - val_auc: 0.2560 - val_auc_1: 0.9090 - val_metric/map: 0.0094 - 196s/epoch - 89ms/step\n",
      "Epoch 3/20\n",
      "\n",
      "Epoch 3: saving model to /home/ec2-user/acoustic-AL/models/20e_dnn_embedframes_20perc_3layerNN/training/checkpoint.weights.h5\n",
      "2211/2211 - 196s - loss: 0.0114 - recall: 0.1378 - precision: 0.8170 - auc: 0.3109 - auc_1: 0.9110 - metric/map: 0.0102 - val_loss: 0.0113 - val_recall: 0.1673 - val_precision: 0.7500 - val_auc: 0.2749 - val_auc_1: 0.9067 - val_metric/map: 0.0095 - 196s/epoch - 88ms/step\n",
      "Epoch 4/20\n",
      "\n",
      "Epoch 4: saving model to /home/ec2-user/acoustic-AL/models/20e_dnn_embedframes_20perc_3layerNN/training/checkpoint.weights.h5\n",
      "2211/2211 - 197s - loss: 0.0110 - recall: 0.1585 - precision: 0.8148 - auc: 0.3388 - auc_1: 0.9160 - metric/map: 0.0102 - val_loss: 0.0110 - val_recall: 0.1725 - val_precision: 0.7644 - val_auc: 0.2954 - val_auc_1: 0.9054 - val_metric/map: 0.0096 - 197s/epoch - 89ms/step\n",
      "Epoch 5/20\n",
      "\n",
      "Epoch 5: saving model to /home/ec2-user/acoustic-AL/models/20e_dnn_embedframes_20perc_3layerNN/training/checkpoint.weights.h5\n",
      "2211/2211 - 195s - loss: 0.0107 - recall: 0.1723 - precision: 0.8282 - auc: 0.3588 - auc_1: 0.9194 - metric/map: 0.0103 - val_loss: 0.0109 - val_recall: 0.1764 - val_precision: 0.7953 - val_auc: 0.3073 - val_auc_1: 0.9076 - val_metric/map: 0.0096 - 195s/epoch - 88ms/step\n",
      "Epoch 6/20\n",
      "\n",
      "Epoch 6: saving model to /home/ec2-user/acoustic-AL/models/20e_dnn_embedframes_20perc_3layerNN/training/checkpoint.weights.h5\n",
      "2211/2211 - 195s - loss: 0.0105 - recall: 0.1817 - precision: 0.8298 - auc: 0.3723 - auc_1: 0.9223 - metric/map: 0.0103 - val_loss: 0.0107 - val_recall: 0.1777 - val_precision: 0.8107 - val_auc: 0.3195 - val_auc_1: 0.9096 - val_metric/map: 0.0096 - 195s/epoch - 88ms/step\n",
      "Epoch 7/20\n",
      "\n",
      "Epoch 7: saving model to /home/ec2-user/acoustic-AL/models/20e_dnn_embedframes_20perc_3layerNN/training/checkpoint.weights.h5\n",
      "2211/2211 - 194s - loss: 0.0103 - recall: 0.1909 - precision: 0.8322 - auc: 0.3851 - auc_1: 0.9232 - metric/map: 0.0104 - val_loss: 0.0106 - val_recall: 0.1907 - val_precision: 0.7989 - val_auc: 0.3292 - val_auc_1: 0.9112 - val_metric/map: 0.0096 - 194s/epoch - 88ms/step\n",
      "Epoch 8/20\n",
      "\n",
      "Epoch 8: saving model to /home/ec2-user/acoustic-AL/models/20e_dnn_embedframes_20perc_3layerNN/training/checkpoint.weights.h5\n",
      "2211/2211 - 194s - loss: 0.0102 - recall: 0.1988 - precision: 0.8261 - auc: 0.3957 - auc_1: 0.9262 - metric/map: 0.0104 - val_loss: 0.0105 - val_recall: 0.1971 - val_precision: 0.8085 - val_auc: 0.3369 - val_auc_1: 0.9099 - val_metric/map: 0.0097 - 194s/epoch - 88ms/step\n",
      "Epoch 9/20\n"
     ]
    },
    {
     "ename": "KeyboardInterrupt",
     "evalue": "",
     "output_type": "error",
     "traceback": [
      "\u001b[0;31m---------------------------------------------------------------------------\u001b[0m",
      "\u001b[0;31mKeyboardInterrupt\u001b[0m                         Traceback (most recent call last)",
      "Cell \u001b[0;32mIn[9], line 64\u001b[0m\n\u001b[1;32m     62\u001b[0m batch \u001b[38;5;241m=\u001b[39m \u001b[38;5;241m128\u001b[39m \n\u001b[1;32m     63\u001b[0m epochs \u001b[38;5;241m=\u001b[39m \u001b[38;5;241m20\u001b[39m\n\u001b[0;32m---> 64\u001b[0m history \u001b[38;5;241m=\u001b[39m \u001b[43mtrain\u001b[49m\u001b[43m(\u001b[49m\n\u001b[1;32m     65\u001b[0m \u001b[43m    \u001b[49m\u001b[43mx\u001b[49m\u001b[38;5;241;43m=\u001b[39;49m\u001b[43mtrain_dataset\u001b[49m\u001b[38;5;241;43m.\u001b[39;49m\u001b[43mbatch\u001b[49m\u001b[43m(\u001b[49m\u001b[43mbatch\u001b[49m\u001b[43m)\u001b[49m\u001b[38;5;241;43m.\u001b[39;49m\u001b[43mprefetch\u001b[49m\u001b[43m(\u001b[49m\u001b[43mtf\u001b[49m\u001b[38;5;241;43m.\u001b[39;49m\u001b[43mdata\u001b[49m\u001b[38;5;241;43m.\u001b[39;49m\u001b[43mAUTOTUNE\u001b[49m\u001b[43m)\u001b[49m\u001b[43m,\u001b[49m\u001b[43m \u001b[49m\n\u001b[1;32m     66\u001b[0m \u001b[43m    \u001b[49m\u001b[43mvalidation_data\u001b[49m\u001b[38;5;241;43m=\u001b[39;49m\u001b[43mvalid_dataset\u001b[49m\u001b[38;5;241;43m.\u001b[39;49m\u001b[43mbatch\u001b[49m\u001b[43m(\u001b[49m\u001b[43mbatch\u001b[49m\u001b[43m)\u001b[49m\u001b[38;5;241;43m.\u001b[39;49m\u001b[43mprefetch\u001b[49m\u001b[43m(\u001b[49m\u001b[43mtf\u001b[49m\u001b[38;5;241;43m.\u001b[39;49m\u001b[43mdata\u001b[49m\u001b[38;5;241;43m.\u001b[39;49m\u001b[43mAUTOTUNE\u001b[49m\u001b[43m)\u001b[49m\u001b[43m,\u001b[49m\n\u001b[1;32m     67\u001b[0m \u001b[43m    \u001b[49m\u001b[43mmodel\u001b[49m\u001b[38;5;241;43m=\u001b[39;49m\u001b[43mmodel\u001b[49m\u001b[43m,\u001b[49m\u001b[43m \u001b[49m\n\u001b[1;32m     68\u001b[0m \u001b[43m    \u001b[49m\u001b[43mmodel_dir\u001b[49m\u001b[38;5;241;43m=\u001b[39;49m\u001b[43mMODEL_DIR\u001b[49m\u001b[43m \u001b[49m\u001b[38;5;241;43m/\u001b[39;49m\u001b[43m \u001b[49m\u001b[38;5;124;43m\"\u001b[39;49m\u001b[38;5;124;43m20e_dnn_embedframes_20perc_3layerNN\u001b[39;49m\u001b[38;5;124;43m\"\u001b[39;49m\u001b[43m,\u001b[49m\u001b[43m \u001b[49m\n\u001b[1;32m     69\u001b[0m \u001b[43m    \u001b[49m\u001b[43mepochs\u001b[49m\u001b[38;5;241;43m=\u001b[39;49m\u001b[43mepochs\u001b[49m\u001b[43m,\u001b[49m\n\u001b[1;32m     70\u001b[0m \u001b[43m    \u001b[49m\u001b[43mstopping_moniter\u001b[49m\u001b[38;5;241;43m=\u001b[39;49m\u001b[38;5;124;43m'\u001b[39;49m\u001b[38;5;124;43mval_loss\u001b[39;49m\u001b[38;5;124;43m'\u001b[39;49m\n\u001b[1;32m     71\u001b[0m \u001b[43m\u001b[49m\u001b[43m)\u001b[49m\n\u001b[1;32m     72\u001b[0m \u001b[38;5;66;03m# TODO track AP instead of loss (?)\u001b[39;00m\n\u001b[1;32m     73\u001b[0m \u001b[38;5;66;03m# !! also this NN is tiny\u001b[39;00m\n",
      "Cell \u001b[0;32mIn[9], line 50\u001b[0m, in \u001b[0;36mtrain\u001b[0;34m(model, model_dir, stopping_patience, stopping_moniter, **kwargs)\u001b[0m\n\u001b[1;32m     43\u001b[0m es_checkpoint \u001b[38;5;241m=\u001b[39m EarlyStopping(\n\u001b[1;32m     44\u001b[0m     monitor\u001b[38;5;241m=\u001b[39mstopping_moniter,\n\u001b[1;32m     45\u001b[0m     patience\u001b[38;5;241m=\u001b[39mstopping_patience,\n\u001b[1;32m     46\u001b[0m     restore_best_weights\u001b[38;5;241m=\u001b[39m\u001b[38;5;28;01mTrue\u001b[39;00m,\n\u001b[1;32m     47\u001b[0m )\n\u001b[1;32m     49\u001b[0m \u001b[38;5;66;03m# fit\u001b[39;00m\n\u001b[0;32m---> 50\u001b[0m history \u001b[38;5;241m=\u001b[39m \u001b[43mmodel\u001b[49m\u001b[38;5;241;43m.\u001b[39;49m\u001b[43mfit\u001b[49m\u001b[43m(\u001b[49m\n\u001b[1;32m     51\u001b[0m \u001b[43m    \u001b[49m\u001b[43mverbose\u001b[49m\u001b[38;5;241;43m=\u001b[39;49m\u001b[38;5;241;43m2\u001b[39;49m\u001b[43m,\u001b[49m\n\u001b[1;32m     52\u001b[0m \u001b[43m    \u001b[49m\u001b[43mcallbacks\u001b[49m\u001b[38;5;241;43m=\u001b[39;49m\u001b[43m[\u001b[49m\u001b[43mtensorboard_callback\u001b[49m\u001b[43m,\u001b[49m\u001b[43m \u001b[49m\u001b[43mcp_callback\u001b[49m\u001b[43m,\u001b[49m\u001b[43m \u001b[49m\u001b[43mes_checkpoint\u001b[49m\u001b[43m]\u001b[49m\u001b[43m,\u001b[49m\n\u001b[1;32m     53\u001b[0m \u001b[43m    \u001b[49m\u001b[38;5;241;43m*\u001b[39;49m\u001b[38;5;241;43m*\u001b[39;49m\u001b[43mkwargs\u001b[49m\n\u001b[1;32m     54\u001b[0m \u001b[43m\u001b[49m\u001b[43m)\u001b[49m\n\u001b[1;32m     55\u001b[0m model\u001b[38;5;241m.\u001b[39msave(model_dir \u001b[38;5;241m/\u001b[39m \u001b[38;5;124m'\u001b[39m\u001b[38;5;124mmodel.keras\u001b[39m\u001b[38;5;124m'\u001b[39m)\n\u001b[1;32m     56\u001b[0m df \u001b[38;5;241m=\u001b[39m pd\u001b[38;5;241m.\u001b[39mDataFrame(history\u001b[38;5;241m.\u001b[39mhistory)\n",
      "File \u001b[0;32m~/.local/lib/python3.9/site-packages/keras/src/utils/traceback_utils.py:65\u001b[0m, in \u001b[0;36mfilter_traceback.<locals>.error_handler\u001b[0;34m(*args, **kwargs)\u001b[0m\n\u001b[1;32m     63\u001b[0m filtered_tb \u001b[38;5;241m=\u001b[39m \u001b[38;5;28;01mNone\u001b[39;00m\n\u001b[1;32m     64\u001b[0m \u001b[38;5;28;01mtry\u001b[39;00m:\n\u001b[0;32m---> 65\u001b[0m     \u001b[38;5;28;01mreturn\u001b[39;00m \u001b[43mfn\u001b[49m\u001b[43m(\u001b[49m\u001b[38;5;241;43m*\u001b[39;49m\u001b[43margs\u001b[49m\u001b[43m,\u001b[49m\u001b[43m \u001b[49m\u001b[38;5;241;43m*\u001b[39;49m\u001b[38;5;241;43m*\u001b[39;49m\u001b[43mkwargs\u001b[49m\u001b[43m)\u001b[49m\n\u001b[1;32m     66\u001b[0m \u001b[38;5;28;01mexcept\u001b[39;00m \u001b[38;5;167;01mException\u001b[39;00m \u001b[38;5;28;01mas\u001b[39;00m e:\n\u001b[1;32m     67\u001b[0m     filtered_tb \u001b[38;5;241m=\u001b[39m _process_traceback_frames(e\u001b[38;5;241m.\u001b[39m__traceback__)\n",
      "File \u001b[0;32m~/.local/lib/python3.9/site-packages/keras/src/engine/training.py:1807\u001b[0m, in \u001b[0;36mModel.fit\u001b[0;34m(self, x, y, batch_size, epochs, verbose, callbacks, validation_split, validation_data, shuffle, class_weight, sample_weight, initial_epoch, steps_per_epoch, validation_steps, validation_batch_size, validation_freq, max_queue_size, workers, use_multiprocessing)\u001b[0m\n\u001b[1;32m   1799\u001b[0m \u001b[38;5;28;01mwith\u001b[39;00m tf\u001b[38;5;241m.\u001b[39mprofiler\u001b[38;5;241m.\u001b[39mexperimental\u001b[38;5;241m.\u001b[39mTrace(\n\u001b[1;32m   1800\u001b[0m     \u001b[38;5;124m\"\u001b[39m\u001b[38;5;124mtrain\u001b[39m\u001b[38;5;124m\"\u001b[39m,\n\u001b[1;32m   1801\u001b[0m     epoch_num\u001b[38;5;241m=\u001b[39mepoch,\n\u001b[0;32m   (...)\u001b[0m\n\u001b[1;32m   1804\u001b[0m     _r\u001b[38;5;241m=\u001b[39m\u001b[38;5;241m1\u001b[39m,\n\u001b[1;32m   1805\u001b[0m ):\n\u001b[1;32m   1806\u001b[0m     callbacks\u001b[38;5;241m.\u001b[39mon_train_batch_begin(step)\n\u001b[0;32m-> 1807\u001b[0m     tmp_logs \u001b[38;5;241m=\u001b[39m \u001b[38;5;28;43mself\u001b[39;49m\u001b[38;5;241;43m.\u001b[39;49m\u001b[43mtrain_function\u001b[49m\u001b[43m(\u001b[49m\u001b[43miterator\u001b[49m\u001b[43m)\u001b[49m\n\u001b[1;32m   1808\u001b[0m     \u001b[38;5;28;01mif\u001b[39;00m data_handler\u001b[38;5;241m.\u001b[39mshould_sync:\n\u001b[1;32m   1809\u001b[0m         context\u001b[38;5;241m.\u001b[39masync_wait()\n",
      "File \u001b[0;32m~/.local/lib/python3.9/site-packages/tensorflow/python/util/traceback_utils.py:150\u001b[0m, in \u001b[0;36mfilter_traceback.<locals>.error_handler\u001b[0;34m(*args, **kwargs)\u001b[0m\n\u001b[1;32m    148\u001b[0m filtered_tb \u001b[38;5;241m=\u001b[39m \u001b[38;5;28;01mNone\u001b[39;00m\n\u001b[1;32m    149\u001b[0m \u001b[38;5;28;01mtry\u001b[39;00m:\n\u001b[0;32m--> 150\u001b[0m   \u001b[38;5;28;01mreturn\u001b[39;00m \u001b[43mfn\u001b[49m\u001b[43m(\u001b[49m\u001b[38;5;241;43m*\u001b[39;49m\u001b[43margs\u001b[49m\u001b[43m,\u001b[49m\u001b[43m \u001b[49m\u001b[38;5;241;43m*\u001b[39;49m\u001b[38;5;241;43m*\u001b[39;49m\u001b[43mkwargs\u001b[49m\u001b[43m)\u001b[49m\n\u001b[1;32m    151\u001b[0m \u001b[38;5;28;01mexcept\u001b[39;00m \u001b[38;5;167;01mException\u001b[39;00m \u001b[38;5;28;01mas\u001b[39;00m e:\n\u001b[1;32m    152\u001b[0m   filtered_tb \u001b[38;5;241m=\u001b[39m _process_traceback_frames(e\u001b[38;5;241m.\u001b[39m__traceback__)\n",
      "File \u001b[0;32m~/.local/lib/python3.9/site-packages/tensorflow/python/eager/polymorphic_function/polymorphic_function.py:832\u001b[0m, in \u001b[0;36mFunction.__call__\u001b[0;34m(self, *args, **kwds)\u001b[0m\n\u001b[1;32m    829\u001b[0m compiler \u001b[38;5;241m=\u001b[39m \u001b[38;5;124m\"\u001b[39m\u001b[38;5;124mxla\u001b[39m\u001b[38;5;124m\"\u001b[39m \u001b[38;5;28;01mif\u001b[39;00m \u001b[38;5;28mself\u001b[39m\u001b[38;5;241m.\u001b[39m_jit_compile \u001b[38;5;28;01melse\u001b[39;00m \u001b[38;5;124m\"\u001b[39m\u001b[38;5;124mnonXla\u001b[39m\u001b[38;5;124m\"\u001b[39m\n\u001b[1;32m    831\u001b[0m \u001b[38;5;28;01mwith\u001b[39;00m OptionalXlaContext(\u001b[38;5;28mself\u001b[39m\u001b[38;5;241m.\u001b[39m_jit_compile):\n\u001b[0;32m--> 832\u001b[0m   result \u001b[38;5;241m=\u001b[39m \u001b[38;5;28;43mself\u001b[39;49m\u001b[38;5;241;43m.\u001b[39;49m\u001b[43m_call\u001b[49m\u001b[43m(\u001b[49m\u001b[38;5;241;43m*\u001b[39;49m\u001b[43margs\u001b[49m\u001b[43m,\u001b[49m\u001b[43m \u001b[49m\u001b[38;5;241;43m*\u001b[39;49m\u001b[38;5;241;43m*\u001b[39;49m\u001b[43mkwds\u001b[49m\u001b[43m)\u001b[49m\n\u001b[1;32m    834\u001b[0m new_tracing_count \u001b[38;5;241m=\u001b[39m \u001b[38;5;28mself\u001b[39m\u001b[38;5;241m.\u001b[39mexperimental_get_tracing_count()\n\u001b[1;32m    835\u001b[0m without_tracing \u001b[38;5;241m=\u001b[39m (tracing_count \u001b[38;5;241m==\u001b[39m new_tracing_count)\n",
      "File \u001b[0;32m~/.local/lib/python3.9/site-packages/tensorflow/python/eager/polymorphic_function/polymorphic_function.py:868\u001b[0m, in \u001b[0;36mFunction._call\u001b[0;34m(self, *args, **kwds)\u001b[0m\n\u001b[1;32m    865\u001b[0m   \u001b[38;5;28mself\u001b[39m\u001b[38;5;241m.\u001b[39m_lock\u001b[38;5;241m.\u001b[39mrelease()\n\u001b[1;32m    866\u001b[0m   \u001b[38;5;66;03m# In this case we have created variables on the first call, so we run the\u001b[39;00m\n\u001b[1;32m    867\u001b[0m   \u001b[38;5;66;03m# defunned version which is guaranteed to never create variables.\u001b[39;00m\n\u001b[0;32m--> 868\u001b[0m   \u001b[38;5;28;01mreturn\u001b[39;00m \u001b[43mtracing_compilation\u001b[49m\u001b[38;5;241;43m.\u001b[39;49m\u001b[43mcall_function\u001b[49m\u001b[43m(\u001b[49m\n\u001b[1;32m    869\u001b[0m \u001b[43m      \u001b[49m\u001b[43margs\u001b[49m\u001b[43m,\u001b[49m\u001b[43m \u001b[49m\u001b[43mkwds\u001b[49m\u001b[43m,\u001b[49m\u001b[43m \u001b[49m\u001b[38;5;28;43mself\u001b[39;49m\u001b[38;5;241;43m.\u001b[39;49m\u001b[43m_no_variable_creation_config\u001b[49m\n\u001b[1;32m    870\u001b[0m \u001b[43m  \u001b[49m\u001b[43m)\u001b[49m\n\u001b[1;32m    871\u001b[0m \u001b[38;5;28;01melif\u001b[39;00m \u001b[38;5;28mself\u001b[39m\u001b[38;5;241m.\u001b[39m_variable_creation_config \u001b[38;5;129;01mis\u001b[39;00m \u001b[38;5;129;01mnot\u001b[39;00m \u001b[38;5;28;01mNone\u001b[39;00m:\n\u001b[1;32m    872\u001b[0m   \u001b[38;5;66;03m# Release the lock early so that multiple threads can perform the call\u001b[39;00m\n\u001b[1;32m    873\u001b[0m   \u001b[38;5;66;03m# in parallel.\u001b[39;00m\n\u001b[1;32m    874\u001b[0m   \u001b[38;5;28mself\u001b[39m\u001b[38;5;241m.\u001b[39m_lock\u001b[38;5;241m.\u001b[39mrelease()\n",
      "File \u001b[0;32m~/.local/lib/python3.9/site-packages/tensorflow/python/eager/polymorphic_function/tracing_compilation.py:139\u001b[0m, in \u001b[0;36mcall_function\u001b[0;34m(args, kwargs, tracing_options)\u001b[0m\n\u001b[1;32m    137\u001b[0m bound_args \u001b[38;5;241m=\u001b[39m function\u001b[38;5;241m.\u001b[39mfunction_type\u001b[38;5;241m.\u001b[39mbind(\u001b[38;5;241m*\u001b[39margs, \u001b[38;5;241m*\u001b[39m\u001b[38;5;241m*\u001b[39mkwargs)\n\u001b[1;32m    138\u001b[0m flat_inputs \u001b[38;5;241m=\u001b[39m function\u001b[38;5;241m.\u001b[39mfunction_type\u001b[38;5;241m.\u001b[39munpack_inputs(bound_args)\n\u001b[0;32m--> 139\u001b[0m \u001b[38;5;28;01mreturn\u001b[39;00m \u001b[43mfunction\u001b[49m\u001b[38;5;241;43m.\u001b[39;49m\u001b[43m_call_flat\u001b[49m\u001b[43m(\u001b[49m\u001b[43m  \u001b[49m\u001b[38;5;66;43;03m# pylint: disable=protected-access\u001b[39;49;00m\n\u001b[1;32m    140\u001b[0m \u001b[43m    \u001b[49m\u001b[43mflat_inputs\u001b[49m\u001b[43m,\u001b[49m\u001b[43m \u001b[49m\u001b[43mcaptured_inputs\u001b[49m\u001b[38;5;241;43m=\u001b[39;49m\u001b[43mfunction\u001b[49m\u001b[38;5;241;43m.\u001b[39;49m\u001b[43mcaptured_inputs\u001b[49m\n\u001b[1;32m    141\u001b[0m \u001b[43m\u001b[49m\u001b[43m)\u001b[49m\n",
      "File \u001b[0;32m~/.local/lib/python3.9/site-packages/tensorflow/python/eager/polymorphic_function/concrete_function.py:1323\u001b[0m, in \u001b[0;36mConcreteFunction._call_flat\u001b[0;34m(self, tensor_inputs, captured_inputs)\u001b[0m\n\u001b[1;32m   1319\u001b[0m possible_gradient_type \u001b[38;5;241m=\u001b[39m gradients_util\u001b[38;5;241m.\u001b[39mPossibleTapeGradientTypes(args)\n\u001b[1;32m   1320\u001b[0m \u001b[38;5;28;01mif\u001b[39;00m (possible_gradient_type \u001b[38;5;241m==\u001b[39m gradients_util\u001b[38;5;241m.\u001b[39mPOSSIBLE_GRADIENT_TYPES_NONE\n\u001b[1;32m   1321\u001b[0m     \u001b[38;5;129;01mand\u001b[39;00m executing_eagerly):\n\u001b[1;32m   1322\u001b[0m   \u001b[38;5;66;03m# No tape is watching; skip to running the function.\u001b[39;00m\n\u001b[0;32m-> 1323\u001b[0m   \u001b[38;5;28;01mreturn\u001b[39;00m \u001b[38;5;28;43mself\u001b[39;49m\u001b[38;5;241;43m.\u001b[39;49m\u001b[43m_inference_function\u001b[49m\u001b[38;5;241;43m.\u001b[39;49m\u001b[43mcall_preflattened\u001b[49m\u001b[43m(\u001b[49m\u001b[43margs\u001b[49m\u001b[43m)\u001b[49m\n\u001b[1;32m   1324\u001b[0m forward_backward \u001b[38;5;241m=\u001b[39m \u001b[38;5;28mself\u001b[39m\u001b[38;5;241m.\u001b[39m_select_forward_and_backward_functions(\n\u001b[1;32m   1325\u001b[0m     args,\n\u001b[1;32m   1326\u001b[0m     possible_gradient_type,\n\u001b[1;32m   1327\u001b[0m     executing_eagerly)\n\u001b[1;32m   1328\u001b[0m forward_function, args_with_tangents \u001b[38;5;241m=\u001b[39m forward_backward\u001b[38;5;241m.\u001b[39mforward()\n",
      "File \u001b[0;32m~/.local/lib/python3.9/site-packages/tensorflow/python/eager/polymorphic_function/atomic_function.py:216\u001b[0m, in \u001b[0;36mAtomicFunction.call_preflattened\u001b[0;34m(self, args)\u001b[0m\n\u001b[1;32m    214\u001b[0m \u001b[38;5;28;01mdef\u001b[39;00m \u001b[38;5;21mcall_preflattened\u001b[39m(\u001b[38;5;28mself\u001b[39m, args: Sequence[core\u001b[38;5;241m.\u001b[39mTensor]) \u001b[38;5;241m-\u001b[39m\u001b[38;5;241m>\u001b[39m Any:\n\u001b[1;32m    215\u001b[0m \u001b[38;5;250m  \u001b[39m\u001b[38;5;124;03m\"\"\"Calls with flattened tensor inputs and returns the structured output.\"\"\"\u001b[39;00m\n\u001b[0;32m--> 216\u001b[0m   flat_outputs \u001b[38;5;241m=\u001b[39m \u001b[38;5;28;43mself\u001b[39;49m\u001b[38;5;241;43m.\u001b[39;49m\u001b[43mcall_flat\u001b[49m\u001b[43m(\u001b[49m\u001b[38;5;241;43m*\u001b[39;49m\u001b[43margs\u001b[49m\u001b[43m)\u001b[49m\n\u001b[1;32m    217\u001b[0m   \u001b[38;5;28;01mreturn\u001b[39;00m \u001b[38;5;28mself\u001b[39m\u001b[38;5;241m.\u001b[39mfunction_type\u001b[38;5;241m.\u001b[39mpack_output(flat_outputs)\n",
      "File \u001b[0;32m~/.local/lib/python3.9/site-packages/tensorflow/python/eager/polymorphic_function/atomic_function.py:251\u001b[0m, in \u001b[0;36mAtomicFunction.call_flat\u001b[0;34m(self, *args)\u001b[0m\n\u001b[1;32m    249\u001b[0m \u001b[38;5;28;01mwith\u001b[39;00m record\u001b[38;5;241m.\u001b[39mstop_recording():\n\u001b[1;32m    250\u001b[0m   \u001b[38;5;28;01mif\u001b[39;00m \u001b[38;5;28mself\u001b[39m\u001b[38;5;241m.\u001b[39m_bound_context\u001b[38;5;241m.\u001b[39mexecuting_eagerly():\n\u001b[0;32m--> 251\u001b[0m     outputs \u001b[38;5;241m=\u001b[39m \u001b[38;5;28;43mself\u001b[39;49m\u001b[38;5;241;43m.\u001b[39;49m\u001b[43m_bound_context\u001b[49m\u001b[38;5;241;43m.\u001b[39;49m\u001b[43mcall_function\u001b[49m\u001b[43m(\u001b[49m\n\u001b[1;32m    252\u001b[0m \u001b[43m        \u001b[49m\u001b[38;5;28;43mself\u001b[39;49m\u001b[38;5;241;43m.\u001b[39;49m\u001b[43mname\u001b[49m\u001b[43m,\u001b[49m\n\u001b[1;32m    253\u001b[0m \u001b[43m        \u001b[49m\u001b[38;5;28;43mlist\u001b[39;49m\u001b[43m(\u001b[49m\u001b[43margs\u001b[49m\u001b[43m)\u001b[49m\u001b[43m,\u001b[49m\n\u001b[1;32m    254\u001b[0m \u001b[43m        \u001b[49m\u001b[38;5;28;43mlen\u001b[39;49m\u001b[43m(\u001b[49m\u001b[38;5;28;43mself\u001b[39;49m\u001b[38;5;241;43m.\u001b[39;49m\u001b[43mfunction_type\u001b[49m\u001b[38;5;241;43m.\u001b[39;49m\u001b[43mflat_outputs\u001b[49m\u001b[43m)\u001b[49m\u001b[43m,\u001b[49m\n\u001b[1;32m    255\u001b[0m \u001b[43m    \u001b[49m\u001b[43m)\u001b[49m\n\u001b[1;32m    256\u001b[0m   \u001b[38;5;28;01melse\u001b[39;00m:\n\u001b[1;32m    257\u001b[0m     outputs \u001b[38;5;241m=\u001b[39m make_call_op_in_graph(\n\u001b[1;32m    258\u001b[0m         \u001b[38;5;28mself\u001b[39m,\n\u001b[1;32m    259\u001b[0m         \u001b[38;5;28mlist\u001b[39m(args),\n\u001b[1;32m    260\u001b[0m         \u001b[38;5;28mself\u001b[39m\u001b[38;5;241m.\u001b[39m_bound_context\u001b[38;5;241m.\u001b[39mfunction_call_options\u001b[38;5;241m.\u001b[39mas_attrs(),\n\u001b[1;32m    261\u001b[0m     )\n",
      "File \u001b[0;32m~/.local/lib/python3.9/site-packages/tensorflow/python/eager/context.py:1486\u001b[0m, in \u001b[0;36mContext.call_function\u001b[0;34m(self, name, tensor_inputs, num_outputs)\u001b[0m\n\u001b[1;32m   1484\u001b[0m cancellation_context \u001b[38;5;241m=\u001b[39m cancellation\u001b[38;5;241m.\u001b[39mcontext()\n\u001b[1;32m   1485\u001b[0m \u001b[38;5;28;01mif\u001b[39;00m cancellation_context \u001b[38;5;129;01mis\u001b[39;00m \u001b[38;5;28;01mNone\u001b[39;00m:\n\u001b[0;32m-> 1486\u001b[0m   outputs \u001b[38;5;241m=\u001b[39m \u001b[43mexecute\u001b[49m\u001b[38;5;241;43m.\u001b[39;49m\u001b[43mexecute\u001b[49m\u001b[43m(\u001b[49m\n\u001b[1;32m   1487\u001b[0m \u001b[43m      \u001b[49m\u001b[43mname\u001b[49m\u001b[38;5;241;43m.\u001b[39;49m\u001b[43mdecode\u001b[49m\u001b[43m(\u001b[49m\u001b[38;5;124;43m\"\u001b[39;49m\u001b[38;5;124;43mutf-8\u001b[39;49m\u001b[38;5;124;43m\"\u001b[39;49m\u001b[43m)\u001b[49m\u001b[43m,\u001b[49m\n\u001b[1;32m   1488\u001b[0m \u001b[43m      \u001b[49m\u001b[43mnum_outputs\u001b[49m\u001b[38;5;241;43m=\u001b[39;49m\u001b[43mnum_outputs\u001b[49m\u001b[43m,\u001b[49m\n\u001b[1;32m   1489\u001b[0m \u001b[43m      \u001b[49m\u001b[43minputs\u001b[49m\u001b[38;5;241;43m=\u001b[39;49m\u001b[43mtensor_inputs\u001b[49m\u001b[43m,\u001b[49m\n\u001b[1;32m   1490\u001b[0m \u001b[43m      \u001b[49m\u001b[43mattrs\u001b[49m\u001b[38;5;241;43m=\u001b[39;49m\u001b[43mattrs\u001b[49m\u001b[43m,\u001b[49m\n\u001b[1;32m   1491\u001b[0m \u001b[43m      \u001b[49m\u001b[43mctx\u001b[49m\u001b[38;5;241;43m=\u001b[39;49m\u001b[38;5;28;43mself\u001b[39;49m\u001b[43m,\u001b[49m\n\u001b[1;32m   1492\u001b[0m \u001b[43m  \u001b[49m\u001b[43m)\u001b[49m\n\u001b[1;32m   1493\u001b[0m \u001b[38;5;28;01melse\u001b[39;00m:\n\u001b[1;32m   1494\u001b[0m   outputs \u001b[38;5;241m=\u001b[39m execute\u001b[38;5;241m.\u001b[39mexecute_with_cancellation(\n\u001b[1;32m   1495\u001b[0m       name\u001b[38;5;241m.\u001b[39mdecode(\u001b[38;5;124m\"\u001b[39m\u001b[38;5;124mutf-8\u001b[39m\u001b[38;5;124m\"\u001b[39m),\n\u001b[1;32m   1496\u001b[0m       num_outputs\u001b[38;5;241m=\u001b[39mnum_outputs,\n\u001b[0;32m   (...)\u001b[0m\n\u001b[1;32m   1500\u001b[0m       cancellation_manager\u001b[38;5;241m=\u001b[39mcancellation_context,\n\u001b[1;32m   1501\u001b[0m   )\n",
      "File \u001b[0;32m~/.local/lib/python3.9/site-packages/tensorflow/python/eager/execute.py:53\u001b[0m, in \u001b[0;36mquick_execute\u001b[0;34m(op_name, num_outputs, inputs, attrs, ctx, name)\u001b[0m\n\u001b[1;32m     51\u001b[0m \u001b[38;5;28;01mtry\u001b[39;00m:\n\u001b[1;32m     52\u001b[0m   ctx\u001b[38;5;241m.\u001b[39mensure_initialized()\n\u001b[0;32m---> 53\u001b[0m   tensors \u001b[38;5;241m=\u001b[39m \u001b[43mpywrap_tfe\u001b[49m\u001b[38;5;241;43m.\u001b[39;49m\u001b[43mTFE_Py_Execute\u001b[49m\u001b[43m(\u001b[49m\u001b[43mctx\u001b[49m\u001b[38;5;241;43m.\u001b[39;49m\u001b[43m_handle\u001b[49m\u001b[43m,\u001b[49m\u001b[43m \u001b[49m\u001b[43mdevice_name\u001b[49m\u001b[43m,\u001b[49m\u001b[43m \u001b[49m\u001b[43mop_name\u001b[49m\u001b[43m,\u001b[49m\n\u001b[1;32m     54\u001b[0m \u001b[43m                                      \u001b[49m\u001b[43minputs\u001b[49m\u001b[43m,\u001b[49m\u001b[43m \u001b[49m\u001b[43mattrs\u001b[49m\u001b[43m,\u001b[49m\u001b[43m \u001b[49m\u001b[43mnum_outputs\u001b[49m\u001b[43m)\u001b[49m\n\u001b[1;32m     55\u001b[0m \u001b[38;5;28;01mexcept\u001b[39;00m core\u001b[38;5;241m.\u001b[39m_NotOkStatusException \u001b[38;5;28;01mas\u001b[39;00m e:\n\u001b[1;32m     56\u001b[0m   \u001b[38;5;28;01mif\u001b[39;00m name \u001b[38;5;129;01mis\u001b[39;00m \u001b[38;5;129;01mnot\u001b[39;00m \u001b[38;5;28;01mNone\u001b[39;00m:\n",
      "\u001b[0;31mKeyboardInterrupt\u001b[0m: "
     ]
    }
   ],
   "source": [
    "# 133921 chunks\n",
    "# 4185 batches\n",
    "\n",
    "from tensorflow.keras.callbacks import TensorBoard, ModelCheckpoint, EarlyStopping\n",
    "import pandas as pd\n",
    "\n",
    "# class IncrementallySavedCheckpoint(tf.keras.callbacks.Callback):\n",
    "#     def __init__(self, checkpoint_dir, **kwargs):\n",
    "#         super().__init__()\n",
    "#         self.checkpoint_dir = checkpoint_dir\n",
    "    \n",
    "#     def on_epoch_end(self, epoch, logs=None):\n",
    "#         checkpoint_path = Path(self.checkpoint_dir) / f'model_epoch_{epoch+1}.ckpt'\n",
    "#         self.model.save_weights(checkpoint_path)\n",
    "#         print(f\"Saved checkpoint for epoch {epoch+1} at {checkpoint_path}\")\n",
    "\n",
    "\n",
    "def train(model, model_dir, stopping_patience=5, \n",
    "          stopping_moniter='val_loss', **kwargs):\n",
    "    \n",
    "    model_dir.mkdir(exist_ok=True)\n",
    "\n",
    "    # save frame order\n",
    "    np.save(model_dir / 'train_frames.npy', train_frames)\n",
    "    np.save(model_dir / 'valid_frames.npy', valid_frames)\n",
    "    np.save(model_dir / 'test_frames.npy', test_frames) \n",
    "\n",
    "    # tensorboard\n",
    "    log_dir = model_dir / \"logs\" / \"fit\"\n",
    "    log_dir.mkdir(parents=True, exist_ok=True)\n",
    "    tensorboard_callback = TensorBoard(log_dir=log_dir)\n",
    "\n",
    "    # checkpoints\n",
    "    checkpoint_path = model_dir / \"training\"\n",
    "    Path(checkpoint_path).mkdir(exist_ok=True)  \n",
    "    cp_callback = keras.callbacks.ModelCheckpoint(\n",
    "        checkpoint_path / 'checkpoint.weights.h5', \n",
    "        save_weights_only=True,\n",
    "        verbose=1, \n",
    "    )\n",
    "\n",
    "    # early stopping\n",
    "    es_checkpoint = EarlyStopping(\n",
    "        monitor=stopping_moniter,\n",
    "        patience=stopping_patience,\n",
    "        restore_best_weights=True,\n",
    "    )\n",
    "    \n",
    "    # fit\n",
    "    history = model.fit(\n",
    "        verbose=2,\n",
    "        callbacks=[tensorboard_callback, cp_callback, es_checkpoint],\n",
    "        **kwargs\n",
    "    )\n",
    "    model.save(model_dir / 'model.keras')\n",
    "    df = pd.DataFrame(history.history)\n",
    "    df.to_csv(model_dir / \"logs/history.csv\")\n",
    "    return history\n",
    "\n",
    "    \n",
    "if TRAIN:\n",
    "    batch = 128 \n",
    "    epochs = 20\n",
    "    history = train(\n",
    "        x=train_dataset.batch(batch).prefetch(tf.data.AUTOTUNE), \n",
    "        validation_data=valid_dataset.batch(batch).prefetch(tf.data.AUTOTUNE),\n",
    "        model=model, \n",
    "        model_dir=MODEL_DIR / \"20e_dnn_embedframes_20perc_3layerNN\", \n",
    "        epochs=epochs,\n",
    "        stopping_moniter='val_loss'\n",
    "    )\n",
    "    "
   ]
  },
  {
   "cell_type": "code",
   "execution_count": 19,
   "metadata": {},
   "outputs": [],
   "source": [
    "# get model from last checkpoint (should be ~E18 -> overfit)\n",
    "# model = create_model()\n",
    "# load_status = model.load_weights(\"../models/20e_embedding_frames/training/model_epoch_11.ckpt\")\n",
    "# load_status.expect_partial() \n",
    "# compile(model)\n",
    "\n",
    "# model = create_model()\n",
    "# compile(model)\n",
    "# checkpoint = tf.train.Checkpoint(model=model)\n",
    "# checkpoint.restore(tf.train.latest_checkpoint('../models/20e_embedding_frames/training')).expect_partial()\n",
    "# model.load_weights(checkpoint\n",
    "\n",
    "# model = keras.models.load_model('../models/20e_embedding_frames/model.keras')"
   ]
  },
  {
   "cell_type": "code",
   "execution_count": 56,
   "metadata": {
    "scrolled": true
   },
   "outputs": [
    {
     "name": "stderr",
     "output_type": "stream",
     "text": [
      "loading/predicting test ds: 0it [00:00, ?it/s]"
     ]
    },
    {
     "name": "stderr",
     "output_type": "stream",
     "text": [
      "loading/predicting test ds: 2763it [00:55, 49.57it/s]\n"
     ]
    }
   ],
   "source": [
    "from tqdm import tqdm\n",
    "\n",
    "def get_predictions(model, batched_test_dataset):\n",
    "    y_true, y_pred = [], []\n",
    "    for batch_X, batch_y in tqdm(batched_test_dataset, desc='loading/predicting test ds'):\n",
    "        predictions = model(batch_X, training=False)\n",
    "        y_true.extend(batch_y.numpy())\n",
    "        y_pred.extend(predictions.numpy()) \n",
    "\n",
    "    return np.array(y_true), np.array(y_pred)\n",
    "\n",
    "y_true, y_pred = get_predictions(model, test_dataset.batch(32).prefetch(tf.data.AUTOTUNE))\n",
    "y_true_flat = y_true.reshape(-1, 4)\n",
    "y_pred_flat = y_pred.reshape(-1, 4)"
   ]
  },
  {
   "cell_type": "code",
   "execution_count": 57,
   "metadata": {},
   "outputs": [
    {
     "name": "stdout",
     "output_type": "stream",
     "text": [
      "average class probability of [fast_trill_6khz]: 0.003562703583061889\n",
      "average class probability of [nr_syllable_3khz]: 0.004218693449149475\n",
      "average class probability of [triangle_3khz]: 0.001436391603329714\n",
      "average class probability of [upsweep_500hz]: 0.0019453492580528411\n"
     ]
    }
   ],
   "source": [
    "# unbalanced classes\n",
    "labels = [ \"fast_trill_6khz\", \"nr_syllable_3khz\", \"triangle_3khz\", \"upsweep_500hz\"]\n",
    "for i, label in enumerate(labels):\n",
    "    print(f'average class probability of [{label}]: {y_true_flat[:, i].mean()}')"
   ]
  },
  {
   "cell_type": "code",
   "execution_count": 58,
   "metadata": {
    "scrolled": true
   },
   "outputs": [
    {
     "name": "stdout",
     "output_type": "stream",
     "text": [
      "[False  True False False]\n",
      "[4.5631541e-06 9.5886087e-08 4.0198636e-09 1.9300807e-12]\n",
      "[ True False False False]\n",
      "[4.2343536e-01 1.9210652e-03 1.6976329e-06 8.2691776e-04]\n",
      "[False False  True False]\n",
      "[1.3334197e-06 5.8271671e-06 9.9088419e-03 7.8493656e-07]\n",
      "[False False  True False]\n",
      "[0.00148955 0.00026496 0.06608178 0.00230727]\n",
      "[False  True False False]\n",
      "[2.6073390e-05 5.7139306e-04 1.2311344e-03 6.5880849e-05]\n"
     ]
    }
   ],
   "source": [
    "# compare predicted labels\n",
    "annotated = [(y, yp) for (y, yp) in zip(y_true, y_pred) if y.any()] \n",
    "for chunks in annotated[:5]:\n",
    "    annotated_chunk, annotated_chunk_pred = chunks\n",
    "    if annotated_chunk.any():\n",
    "        print(annotated_chunk) \n",
    "        print(annotated_chunk_pred)\n"
   ]
  },
  {
   "cell_type": "code",
   "execution_count": 59,
   "metadata": {},
   "outputs": [
    {
     "name": "stderr",
     "output_type": "stream",
     "text": [
      "/tmp/ipykernel_3188/1115467876.py:5: MatplotlibDeprecationWarning: Passing label as a length 4 sequence when plotting a single dataset is deprecated in Matplotlib 3.9 and will error in 3.11.  To keep the current behavior, cast the sequence to string before passing.\n",
      "  plt.plot(fp*100, tp*100, label=name, linewidth=2, **kwargs)\n",
      "/tmp/ipykernel_3188/1115467876.py:5: MatplotlibDeprecationWarning: Passing label as a length 4 sequence when plotting a single dataset is deprecated in Matplotlib 3.9 and will error in 3.11.  To keep the current behavior, cast the sequence to string before passing.\n",
      "  plt.plot(fp*100, tp*100, label=name, linewidth=2, **kwargs)\n",
      "/tmp/ipykernel_3188/1115467876.py:5: MatplotlibDeprecationWarning: Passing label as a length 4 sequence when plotting a single dataset is deprecated in Matplotlib 3.9 and will error in 3.11.  To keep the current behavior, cast the sequence to string before passing.\n",
      "  plt.plot(fp*100, tp*100, label=name, linewidth=2, **kwargs)\n",
      "/tmp/ipykernel_3188/1115467876.py:5: MatplotlibDeprecationWarning: Passing label as a length 4 sequence when plotting a single dataset is deprecated in Matplotlib 3.9 and will error in 3.11.  To keep the current behavior, cast the sequence to string before passing.\n",
      "  plt.plot(fp*100, tp*100, label=name, linewidth=2, **kwargs)\n"
     ]
    },
    {
     "data": {
      "image/png": "[encoded data removed]",
      "text/plain": [
       "<Figure size 640x480 with 1 Axes>"
      ]
     },
     "metadata": {},
     "output_type": "display_data"
    },
    {
     "name": "stderr",
     "output_type": "stream",
     "text": [
      "/tmp/ipykernel_3188/1115467876.py:14: MatplotlibDeprecationWarning: Passing label as a length 4 sequence when plotting a single dataset is deprecated in Matplotlib 3.9 and will error in 3.11.  To keep the current behavior, cast the sequence to string before passing.\n",
      "  plt.plot(prec, rec, label=name, linewidth=2, **kwargs)\n",
      "/tmp/ipykernel_3188/1115467876.py:14: MatplotlibDeprecationWarning: Passing label as a length 4 sequence when plotting a single dataset is deprecated in Matplotlib 3.9 and will error in 3.11.  To keep the current behavior, cast the sequence to string before passing.\n",
      "  plt.plot(prec, rec, label=name, linewidth=2, **kwargs)\n",
      "/tmp/ipykernel_3188/1115467876.py:14: MatplotlibDeprecationWarning: Passing label as a length 4 sequence when plotting a single dataset is deprecated in Matplotlib 3.9 and will error in 3.11.  To keep the current behavior, cast the sequence to string before passing.\n",
      "  plt.plot(prec, rec, label=name, linewidth=2, **kwargs)\n",
      "/tmp/ipykernel_3188/1115467876.py:14: MatplotlibDeprecationWarning: Passing label as a length 4 sequence when plotting a single dataset is deprecated in Matplotlib 3.9 and will error in 3.11.  To keep the current behavior, cast the sequence to string before passing.\n",
      "  plt.plot(prec, rec, label=name, linewidth=2, **kwargs)\n"
     ]
    },
    {
     "data": {
      "image/png": "[encoded data removed]",
      "text/plain": [
       "<Figure size 640x480 with 1 Axes>"
      ]
     },
     "metadata": {},
     "output_type": "display_data"
    }
   ],
   "source": [
    "from sklearn.metrics import roc_curve, precision_recall_curve\n",
    "\n",
    "def plot_roc(name, labels, predictions, **kwargs):\n",
    "    fp, tp, _ = roc_curve(labels, predictions)\n",
    "    plt.plot(fp*100, tp*100, label=name, linewidth=2, **kwargs)\n",
    "    plt.xlabel('False positive rate')\n",
    "    plt.ylabel('True positive rate')\n",
    "    plt.xlim([0,100])\n",
    "    plt.ylim([0,100])\n",
    "    plt.grid(True)\n",
    "\n",
    "def plot_pr(name, labels, predictions, **kwargs):\n",
    "    prec, rec, _ = precision_recall_curve(labels, predictions)\n",
    "    plt.plot(prec, rec, label=name, linewidth=2, **kwargs)\n",
    "    plt.xlabel('Precision')\n",
    "    plt.ylabel('Recall')\n",
    "    plt.xlim([0,1])\n",
    "    plt.ylim([0,1])\n",
    "    plt.grid(True)\n",
    "\n",
    "for i, label in enumerate(labels):\n",
    "    plot_roc(labels, y_true_flat[:, i], y_pred_flat[:, i])\n",
    "plt.legend(labels) \n",
    "plt.show() \n",
    "\n",
    "for i, label in enumerate(labels):\n",
    "    plot_pr(labels, y_true_flat[:, i], y_pred_flat[:, i])\n",
    "plt.legend(labels) \n",
    "plt.show() "
   ]
  },
  {
   "cell_type": "code",
   "execution_count": 44,
   "metadata": {},
   "outputs": [
    {
     "data": {
      "text/plain": [
       "<tf.Tensor: shape=(), dtype=float32, numpy=0.9031006>"
      ]
     },
     "execution_count": 44,
     "metadata": {},
     "output_type": "execute_result"
    }
   ],
   "source": [
    "m = keras.metrics.AUC(curve='roc')\n",
    "m.update_state(y_true_flat[:, 0], y_pred_flat[:, 0])\n",
    "m.result()"
   ]
  },
  {
   "cell_type": "code",
   "execution_count": 45,
   "metadata": {},
   "outputs": [
    {
     "data": {
      "text/plain": [
       "<tf.Tensor: shape=(), dtype=float32, numpy=0.2640614>"
      ]
     },
     "execution_count": 45,
     "metadata": {},
     "output_type": "execute_result"
    }
   ],
   "source": [
    "m = keras.metrics.AUC(curve='pr')\n",
    "m.update_state(y_true_flat[:, 0], y_pred_flat[:, 0])\n",
    "m.result()"
   ]
  },
  {
   "cell_type": "code",
   "execution_count": 50,
   "metadata": {},
   "outputs": [
    {
     "name": "stdout",
     "output_type": "stream",
     "text": [
      "\n",
      " class  0\n",
      "Precision: 0.6764705777168274\n",
      "Recall: 0.07301587611436844\n",
      "\n",
      " class  1\n",
      "Precision: 0.802281379699707\n",
      "Recall: 0.5656836628913879\n",
      "\n",
      " class  2\n",
      "Precision: 0.2857142984867096\n",
      "Recall: 0.031496062874794006\n",
      "\n",
      " class  3\n",
      "Precision: 0.7105262875556946\n",
      "Recall: 0.15697674453258514\n"
     ]
    }
   ],
   "source": [
    "from tensorflow.keras.metrics import Precision, Recall\n",
    "\n",
    "threshold = 0.5\n",
    "\n",
    "for i in range(4):\n",
    "    print('\\n class ', i)\n",
    "    y_pred_binary = (y_pred_flat[:, i] >= threshold).astype(int)\n",
    "\n",
    "    precision_metric = Precision()\n",
    "    recall_metric = Recall()\n",
    "\n",
    "    precision_metric.update_state(y_true_flat[:, i], y_pred_binary)\n",
    "    recall_metric.update_state(y_true_flat[:, i], y_pred_binary)\n",
    "\n",
    "    precision = precision_metric.result().numpy()\n",
    "    recall = recall_metric.result().numpy()\n",
    "\n",
    "    print(f\"Precision: {precision}\")\n",
    "    print(f\"Recall: {recall}\")"
   ]
  },
  {
   "cell_type": "markdown",
   "metadata": {},
   "source": [
    "### YAMnet doesnt properly represent upsweep?"
   ]
  },
  {
   "cell_type": "code",
   "execution_count": 63,
   "metadata": {},
   "outputs": [
    {
     "name": "stdout",
     "output_type": "stream",
     "text": [
      "2024-09-21 12:22:56.112013: E external/local_xla/xla/stream_executor/cuda/cuda_dnn.cc:9261] Unable to register cuDNN factory: Attempting to register factory for plugin cuDNN when one has already been registered\n",
      "2024-09-21 12:22:56.112055: E external/local_xla/xla/stream_executor/cuda/cuda_fft.cc:607] Unable to register cuFFT factory: Attempting to register factory for plugin cuFFT when one has already been registered\n",
      "2024-09-21 12:22:56.113107: E external/local_xla/xla/stream_executor/cuda/cuda_blas.cc:1515] Unable to register cuBLAS factory: Attempting to register factory for plugin cuBLAS when one has already been registered\n",
      "2024-09-21 12:22:56.119205: I tensorflow/core/platform/cpu_feature_guard.cc:182] This TensorFlow binary is optimized to use available CPU instructions in performance-critical operations.\n",
      "To enable the following instructions: AVX2 AVX512F FMA, in other operations, rebuild TensorFlow with the appropriate compiler flags.\n",
      "2024-09-21 12:22:56.947203: W tensorflow/compiler/tf2tensorrt/utils/py_utils.cc:38] TF-TRT Warning: Could not find TensorRT\n",
      "\n",
      "NOTE: Using experimental fast data loading logic. To disable, pass\n",
      "    \"--load_fast=false\" and report issues on GitHub. More details:\n",
      "    https://github.com/tensorflow/tensorboard/issues/4784\n",
      "\n",
      "TensorBoard 2.15.2 at http://ip-172-31-34-198.ap-southeast-2.compute.internal:6006/ (Press CTRL+C to quit)\n",
      "^C\n"
     ]
    }
   ],
   "source": [
    "%tensorboard --logdir=../models --bind_all"
   ]
  },
  {
   "cell_type": "code",
   "execution_count": null,
   "metadata": {},
   "outputs": [],
   "source": []
  }
 ],
 "metadata": {
  "kernelspec": {
   "display_name": "Python 3 (ipykernel)",
   "language": "python",
   "name": "python3"
  },
  "language_info": {
   "codemirror_mode": {
    "name": "ipython",
    "version": 3
   },
   "file_extension": ".py",
   "mimetype": "text/x-python",
   "name": "python",
   "nbconvert_exporter": "python",
   "pygments_lexer": "ipython3",
   "version": "3.9.16"
  }
 },
 "nbformat": 4,
 "nbformat_minor": 4
}
