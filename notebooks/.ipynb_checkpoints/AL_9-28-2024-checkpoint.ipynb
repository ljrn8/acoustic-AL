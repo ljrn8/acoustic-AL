{
 "cells": [
  {
   "cell_type": "code",
   "execution_count": 1,
   "id": "6d659b9f-5d05-441e-961a-3845149ddbf0",
   "metadata": {
    "tags": []
   },
   "outputs": [
    {
     "name": "stderr",
     "output_type": "stream",
     "text": [
      "2024-09-30 12:45:24.313541: E external/local_xla/xla/stream_executor/cuda/cuda_dnn.cc:9261] Unable to register cuDNN factory: Attempting to register factory for plugin cuDNN when one has already been registered\n",
      "2024-09-30 12:45:24.313577: E external/local_xla/xla/stream_executor/cuda/cuda_fft.cc:607] Unable to register cuFFT factory: Attempting to register factory for plugin cuFFT when one has already been registered\n",
      "2024-09-30 12:45:24.314641: E external/local_xla/xla/stream_executor/cuda/cuda_blas.cc:1515] Unable to register cuBLAS factory: Attempting to register factory for plugin cuBLAS when one has already been registered\n",
      "2024-09-30 12:45:24.321465: I tensorflow/core/platform/cpu_feature_guard.cc:182] This TensorFlow binary is optimized to use available CPU instructions in performance-critical operations.\n",
      "To enable the following instructions: AVX2 AVX512F FMA, in other operations, rebuild TensorFlow with the appropriate compiler flags.\n",
      "2024-09-30 12:45:25.112117: W tensorflow/compiler/tf2tensorrt/utils/py_utils.cc:38] TF-TRT Warning: Could not find TensorRT\n"
     ]
    }
   ],
   "source": [
    "%load_ext autoreload\n",
    "%autoreload 2\n",
    "    \n",
    "import tensorflow as tf\n",
    "from tensorflow  import keras\n",
    "from keras import metrics\n",
    "import numpy as np\n",
    "\n",
    "import librosa \n",
    "import matplotlib.pyplot as plt\n",
    "from tqdm import tqdm\n",
    "import h5py\n",
    "import soundfile as sf\n",
    "from scipy.signal import resample_poly\n",
    "import librosa\n",
    "from modAL.models import ActiveLearner\n",
    "from scikeras.wrappers import KerasClassifier\n",
    "import random as rand\n",
    "\n",
    "from config import *\n",
    "from util import DEFAULT_TOKENS\n",
    "from models import build_resnet16\n",
    "from preprocessing import AL_split"
   ]
  },
  {
   "cell_type": "code",
   "execution_count": 2,
   "id": "ec8b2808-d3ee-446b-a974-8f428cf0895d",
   "metadata": {
    "tags": []
   },
   "outputs": [],
   "source": [
    "logmel_f = h5py.File(INTERMEDIATE / 'logmel.hdf5', 'r')\n",
    "samples_f = h5py.File(INTERMEDIATE / '22sr_samples.hdf5', 'r')\n",
    "\n",
    "X = np.load(INTERMEDIATE / 'logmel.npy')\n",
    "Y = np.load(INTERMEDIATE / 'logmel_labels.npy')"
   ]
  },
  {
   "cell_type": "code",
   "execution_count": 3,
   "id": "9bf801ee-fde6-4c36-9769-30751e6b2143",
   "metadata": {},
   "outputs": [
    {
     "data": {
      "text/plain": [
       "((135462, 40, 107), (135462, 4))"
      ]
     },
     "execution_count": 3,
     "metadata": {},
     "output_type": "execute_result"
    }
   ],
   "source": [
    "batch = 32\n",
    "\n",
    "# resnet 16\n",
    "X_shape = (40, 107, 1)\n",
    "model = build_resnet16(input_shape=X_shape)\n",
    "model.compile(optimizer='adam',\n",
    "              loss='binary_crossentropy',\n",
    "              metrics=[\n",
    "                metrics.Recall(thresholds=0.5),\n",
    "                metrics.Precision(thresholds=0.5),\n",
    "                metrics.AUC(curve='pr', name='auc_pr')\n",
    "              ])\n",
    "classifier = KerasClassifier(model, batch_size=batch, verbose=2)\n",
    "\n",
    "init, pool, test = AL_split(X, Y)\n",
    "initial_X, initial_Y = init\n",
    "pool_X, pool_Y = pool\n",
    "test_X, test_Y = test\n",
    "pool_X.shape, pool_Y.shape"
   ]
  },
  {
   "cell_type": "code",
   "execution_count": 4,
   "id": "15f4872c-44b9-43b9-ac63-966b035ab766",
   "metadata": {},
   "outputs": [
    {
     "name": "stdout",
     "output_type": "stream",
     "text": [
      "1059/1059 - 65s - 62ms/step - auc_pr: 0.0198 - loss: 0.0333 - precision: 0.0472 - recall: 0.0645\n"
     ]
    }
   ],
   "source": [
    "currently_labelled = len(initial_X)\n",
    "initial_ds_size = currently_labelled + len(pool_X)\n",
    "\n",
    "def random_sampling(classifier, X_unlabelled, n_instances):\n",
    "    i = np.random.choice(range(X_unlabelled.shape[0]), size=n_instances, replace=False)\n",
    "    return i, X[i] \n",
    "\n",
    "learner = ActiveLearner(\n",
    "    estimator=classifier,\n",
    "    X_training=initial_X, # !!! TODO: use must larger initial labelled set (?)\n",
    "    y_training=initial_Y,\n",
    "    verbose=2,\n",
    "    query_strategy=random_sampling \n",
    ") # trains on the initial ds"
   ]
  },
  {
   "cell_type": "code",
   "execution_count": null,
   "id": "0dc7b58d-5b03-404e-a541-5dd8dade3eeb",
   "metadata": {
    "scrolled": true
   },
   "outputs": [
    {
     "name": "stdout",
     "output_type": "stream",
     "text": [
      "=== RANDOM SAMPLING ===\n"
     ]
    },
    {
     "name": "stderr",
     "output_type": "stream",
     "text": [
      "  0%|                                                                                           | 0/200 [00:00<?, ?it/s]"
     ]
    },
    {
     "name": "stdout",
     "output_type": "stream",
     "text": [
      "Query no. 1/200\n",
      "22/22 - 1s - 54ms/step - auc_pr: 0.4706 - loss: 0.0153 - precision: 0.5000 - recall: 0.2857\n",
      "evaluating ..\n"
     ]
    },
    {
     "name": "stderr",
     "output_type": "stream",
     "text": [
      "2024-09-30 12:46:54.576724: W external/local_tsl/tsl/framework/cpu_allocator_impl.cc:83] Allocation of 724723840 exceeds 10% of free system memory.\n"
     ]
    },
    {
     "name": "stdout",
     "output_type": "stream",
     "text": [
      "1323/1323 - 18s - 14ms/step\n"
     ]
    },
    {
     "name": "stderr",
     "output_type": "stream",
     "text": [
      "/home/ec2-user/.local/lib/python3.9/site-packages/sklearn/metrics/_classification.py:1531: UndefinedMetricWarning: Precision is ill-defined and being set to 0.0 due to no predicted samples. Use `zero_division` parameter to control this behavior.\n",
      "  _warn_prf(average, modifier, f\"{metric.capitalize()} is\", len(result))\n",
      "/home/ec2-user/.local/lib/python3.9/site-packages/sklearn/metrics/_classification.py:1531: UndefinedMetricWarning: Precision is ill-defined and being set to 0.0 due to no predicted samples. Use `zero_division` parameter to control this behavior.\n",
      "  _warn_prf(average, modifier, f\"{metric.capitalize()} is\", len(result))\n"
     ]
    },
    {
     "name": "stdout",
     "output_type": "stream",
     "text": [
      "{   'fast_trill_6khz': {   'auc_pr': 0.1569690342889799,\n",
      "                           'f1': 0.0,\n",
      "                           'precision': 0.0,\n",
      "                           'recall': 0.0},\n",
      "    'nr_syllable_3khz': {   'auc_pr': 0.6563203867409203,\n",
      "                            'f1': 0.5553719008264463,\n",
      "                            'precision': 0.45901639344262296,\n",
      "                            'recall': 0.702928870292887},\n",
      "    'triangle_3khz': {   'auc_pr': 0.05499791170054827,\n",
      "                         'f1': 0.0,\n",
      "                         'precision': 0.0,\n",
      "                         'recall': 0.0},\n",
      "    'upsweep_500hz': {   'auc_pr': 0.14546355322096463,\n",
      "                         'f1': 0.0,\n",
      "                         'precision': 0.0,\n",
      "                         'recall': 0.0}}\n"
     ]
    },
    {
     "name": "stderr",
     "output_type": "stream",
     "text": [
      "  0%|▍                                                                                | 1/200 [00:21<1:11:40, 21.61s/it]"
     ]
    },
    {
     "name": "stdout",
     "output_type": "stream",
     "text": [
      "Query no. 2/200\n",
      "22/22 - 1s - 54ms/step - auc_pr: 0.3917 - loss: 0.0136 - precision: 0.5000 - recall: 0.2000\n",
      "evaluating ..\n"
     ]
    },
    {
     "name": "stderr",
     "output_type": "stream",
     "text": [
      "2024-09-30 12:47:16.177539: W external/local_tsl/tsl/framework/cpu_allocator_impl.cc:83] Allocation of 724723840 exceeds 10% of free system memory.\n"
     ]
    },
    {
     "name": "stdout",
     "output_type": "stream",
     "text": [
      "1323/1323 - 17s - 13ms/step\n"
     ]
    },
    {
     "name": "stderr",
     "output_type": "stream",
     "text": [
      "/home/ec2-user/.local/lib/python3.9/site-packages/sklearn/metrics/_classification.py:1531: UndefinedMetricWarning: Precision is ill-defined and being set to 0.0 due to no predicted samples. Use `zero_division` parameter to control this behavior.\n",
      "  _warn_prf(average, modifier, f\"{metric.capitalize()} is\", len(result))\n",
      "/home/ec2-user/.local/lib/python3.9/site-packages/sklearn/metrics/_classification.py:1531: UndefinedMetricWarning: Precision is ill-defined and being set to 0.0 due to no predicted samples. Use `zero_division` parameter to control this behavior.\n",
      "  _warn_prf(average, modifier, f\"{metric.capitalize()} is\", len(result))\n"
     ]
    },
    {
     "name": "stdout",
     "output_type": "stream",
     "text": [
      "{   'fast_trill_6khz': {   'auc_pr': 0.5126939533699157,\n",
      "                           'f1': 0.26618705035971224,\n",
      "                           'precision': 0.8809523809523809,\n",
      "                           'recall': 0.15677966101694915},\n",
      "    'nr_syllable_3khz': {   'auc_pr': 0.658913104276558,\n",
      "                            'f1': 0.5645161290322581,\n",
      "                            'precision': 0.7894736842105263,\n",
      "                            'recall': 0.4393305439330544},\n",
      "    'triangle_3khz': {   'auc_pr': 0.0554653381924374,\n",
      "                         'f1': 0.0,\n",
      "                         'precision': 0.0,\n",
      "                         'recall': 0.0},\n",
      "    'upsweep_500hz': {   'auc_pr': 0.14795104344879995,\n",
      "                         'f1': 0.0,\n",
      "                         'precision': 0.0,\n",
      "                         'recall': 0.0}}\n"
     ]
    },
    {
     "name": "stderr",
     "output_type": "stream",
     "text": [
      "  1%|▊                                                                                | 2/200 [00:42<1:09:47, 21.15s/it]"
     ]
    },
    {
     "name": "stdout",
     "output_type": "stream",
     "text": [
      "Query no. 3/200\n",
      "22/22 - 1s - 54ms/step - auc_pr: 0.5068 - loss: 0.0110 - precision: 0.7500 - recall: 0.3750\n",
      "evaluating ..\n"
     ]
    },
    {
     "name": "stderr",
     "output_type": "stream",
     "text": [
      "2024-09-30 12:47:37.006414: W external/local_tsl/tsl/framework/cpu_allocator_impl.cc:83] Allocation of 724723840 exceeds 10% of free system memory.\n"
     ]
    },
    {
     "name": "stdout",
     "output_type": "stream",
     "text": [
      "1323/1323 - 17s - 13ms/step\n"
     ]
    },
    {
     "name": "stderr",
     "output_type": "stream",
     "text": [
      "/home/ec2-user/.local/lib/python3.9/site-packages/sklearn/metrics/_classification.py:1531: UndefinedMetricWarning: Precision is ill-defined and being set to 0.0 due to no predicted samples. Use `zero_division` parameter to control this behavior.\n",
      "  _warn_prf(average, modifier, f\"{metric.capitalize()} is\", len(result))\n",
      "/home/ec2-user/.local/lib/python3.9/site-packages/sklearn/metrics/_classification.py:1531: UndefinedMetricWarning: Precision is ill-defined and being set to 0.0 due to no predicted samples. Use `zero_division` parameter to control this behavior.\n",
      "  _warn_prf(average, modifier, f\"{metric.capitalize()} is\", len(result))\n"
     ]
    },
    {
     "name": "stdout",
     "output_type": "stream",
     "text": [
      "{   'fast_trill_6khz': {   'auc_pr': 0.16329653254892196,\n",
      "                           'f1': 0.19941348973607037,\n",
      "                           'precision': 0.3238095238095238,\n",
      "                           'recall': 0.1440677966101695},\n",
      "    'nr_syllable_3khz': {   'auc_pr': 0.6953582212206083,\n",
      "                            'f1': 0.5250737463126843,\n",
      "                            'precision': 0.89,\n",
      "                            'recall': 0.3723849372384937},\n",
      "    'triangle_3khz': {   'auc_pr': 0.015615248610342698,\n",
      "                         'f1': 0.0,\n",
      "                         'precision': 0.0,\n",
      "                         'recall': 0.0},\n",
      "    'upsweep_500hz': {   'auc_pr': 0.1596875673810729,\n",
      "                         'f1': 0.0,\n",
      "                         'precision': 0.0,\n",
      "                         'recall': 0.0}}\n"
     ]
    },
    {
     "name": "stderr",
     "output_type": "stream",
     "text": [
      "  2%|█▏                                                                               | 3/200 [01:03<1:09:03, 21.03s/it]"
     ]
    },
    {
     "name": "stdout",
     "output_type": "stream",
     "text": [
      "Query no. 4/200\n",
      "22/22 - 1s - 54ms/step - auc_pr: 0.1967 - loss: 0.0148 - precision: 1.0000 - recall: 0.1111\n",
      "evaluating ..\n"
     ]
    },
    {
     "name": "stderr",
     "output_type": "stream",
     "text": [
      "2024-09-30 12:47:57.899491: W external/local_tsl/tsl/framework/cpu_allocator_impl.cc:83] Allocation of 724723840 exceeds 10% of free system memory.\n"
     ]
    },
    {
     "name": "stdout",
     "output_type": "stream",
     "text": [
      "1323/1323 - 17s - 13ms/step\n"
     ]
    },
    {
     "name": "stderr",
     "output_type": "stream",
     "text": [
      "/home/ec2-user/.local/lib/python3.9/site-packages/sklearn/metrics/_classification.py:1531: UndefinedMetricWarning: Precision is ill-defined and being set to 0.0 due to no predicted samples. Use `zero_division` parameter to control this behavior.\n",
      "  _warn_prf(average, modifier, f\"{metric.capitalize()} is\", len(result))\n",
      "/home/ec2-user/.local/lib/python3.9/site-packages/sklearn/metrics/_classification.py:1531: UndefinedMetricWarning: Precision is ill-defined and being set to 0.0 due to no predicted samples. Use `zero_division` parameter to control this behavior.\n",
      "  _warn_prf(average, modifier, f\"{metric.capitalize()} is\", len(result))\n"
     ]
    },
    {
     "name": "stdout",
     "output_type": "stream",
     "text": [
      "{   'fast_trill_6khz': {   'auc_pr': 0.28637863851213935,\n",
      "                           'f1': 0.19011406844106463,\n",
      "                           'precision': 0.9259259259259259,\n",
      "                           'recall': 0.1059322033898305},\n",
      "    'nr_syllable_3khz': {   'auc_pr': 0.6024633624975044,\n",
      "                            'f1': 0.3157894736842105,\n",
      "                            'precision': 0.9782608695652174,\n",
      "                            'recall': 0.18828451882845187},\n",
      "    'triangle_3khz': {   'auc_pr': 0.020810571385699674,\n",
      "                         'f1': 0.0,\n",
      "                         'precision': 0.0,\n",
      "                         'recall': 0.0},\n",
      "    'upsweep_500hz': {   'auc_pr': 0.13436245926716217,\n",
      "                         'f1': 0.0,\n",
      "                         'precision': 0.0,\n",
      "                         'recall': 0.0}}\n"
     ]
    },
    {
     "name": "stderr",
     "output_type": "stream",
     "text": [
      "  2%|█▌                                                                               | 4/200 [01:24<1:08:34, 20.99s/it]"
     ]
    },
    {
     "name": "stdout",
     "output_type": "stream",
     "text": [
      "Query no. 5/200\n",
      "22/22 - 1s - 56ms/step - auc_pr: 0.4493 - loss: 0.0122 - precision: 0.5000 - recall: 0.2000\n",
      "evaluating ..\n"
     ]
    },
    {
     "name": "stderr",
     "output_type": "stream",
     "text": [
      "2024-09-30 12:48:18.903077: W external/local_tsl/tsl/framework/cpu_allocator_impl.cc:83] Allocation of 724723840 exceeds 10% of free system memory.\n"
     ]
    },
    {
     "name": "stdout",
     "output_type": "stream",
     "text": [
      "1323/1323 - 17s - 13ms/step\n"
     ]
    },
    {
     "name": "stderr",
     "output_type": "stream",
     "text": [
      "/home/ec2-user/.local/lib/python3.9/site-packages/sklearn/metrics/_classification.py:1531: UndefinedMetricWarning: Precision is ill-defined and being set to 0.0 due to no predicted samples. Use `zero_division` parameter to control this behavior.\n",
      "  _warn_prf(average, modifier, f\"{metric.capitalize()} is\", len(result))\n",
      "/home/ec2-user/.local/lib/python3.9/site-packages/sklearn/metrics/_classification.py:1531: UndefinedMetricWarning: Precision is ill-defined and being set to 0.0 due to no predicted samples. Use `zero_division` parameter to control this behavior.\n",
      "  _warn_prf(average, modifier, f\"{metric.capitalize()} is\", len(result))\n"
     ]
    },
    {
     "name": "stdout",
     "output_type": "stream",
     "text": [
      "{   'fast_trill_6khz': {   'auc_pr': 0.4636095165197648,\n",
      "                           'f1': 0.379746835443038,\n",
      "                           'precision': 0.75,\n",
      "                           'recall': 0.2542372881355932},\n",
      "    'nr_syllable_3khz': {   'auc_pr': 0.7189474603920167,\n",
      "                            'f1': 0.6600496277915633,\n",
      "                            'precision': 0.8109756097560976,\n",
      "                            'recall': 0.5564853556485355},\n",
      "    'triangle_3khz': {   'auc_pr': 0.053617121467133905,\n",
      "                         'f1': 0.0,\n",
      "                         'precision': 0.0,\n",
      "                         'recall': 0.0},\n",
      "    'upsweep_500hz': {   'auc_pr': 0.12352010064342972,\n",
      "                         'f1': 0.0,\n",
      "                         'precision': 0.0,\n",
      "                         'recall': 0.0}}\n"
     ]
    },
    {
     "name": "stderr",
     "output_type": "stream",
     "text": [
      "  2%|██                                                                               | 5/200 [01:45<1:08:11, 20.98s/it]"
     ]
    },
    {
     "name": "stdout",
     "output_type": "stream",
     "text": [
      "Query no. 6/200\n",
      "22/22 - 1s - 57ms/step - auc_pr: 0.1901 - loss: 0.0161 - precision: 1.0000 - recall: 0.1000\n",
      "evaluating ..\n",
      "1323/1323 - 17s - 13ms/step\n"
     ]
    },
    {
     "name": "stderr",
     "output_type": "stream",
     "text": [
      "/home/ec2-user/.local/lib/python3.9/site-packages/sklearn/metrics/_classification.py:1531: UndefinedMetricWarning: Precision is ill-defined and being set to 0.0 due to no predicted samples. Use `zero_division` parameter to control this behavior.\n",
      "  _warn_prf(average, modifier, f\"{metric.capitalize()} is\", len(result))\n",
      "/home/ec2-user/.local/lib/python3.9/site-packages/sklearn/metrics/_classification.py:1531: UndefinedMetricWarning: Precision is ill-defined and being set to 0.0 due to no predicted samples. Use `zero_division` parameter to control this behavior.\n",
      "  _warn_prf(average, modifier, f\"{metric.capitalize()} is\", len(result))\n"
     ]
    },
    {
     "name": "stdout",
     "output_type": "stream",
     "text": [
      "{   'fast_trill_6khz': {   'auc_pr': 0.33220874110616544,\n",
      "                           'f1': 0.17391304347826086,\n",
      "                           'precision': 0.6,\n",
      "                           'recall': 0.1016949152542373},\n",
      "    'nr_syllable_3khz': {   'auc_pr': 0.7162429552111889,\n",
      "                            'f1': 0.5329341317365269,\n",
      "                            'precision': 0.9368421052631579,\n",
      "                            'recall': 0.3723849372384937},\n",
      "    'triangle_3khz': {   'auc_pr': 0.059972378633929936,\n",
      "                         'f1': 0.0,\n",
      "                         'precision': 0.0,\n",
      "                         'recall': 0.0},\n",
      "    'upsweep_500hz': {   'auc_pr': 0.11135827442768505,\n",
      "                         'f1': 0.0,\n",
      "                         'precision': 0.0,\n",
      "                         'recall': 0.0}}\n"
     ]
    },
    {
     "name": "stderr",
     "output_type": "stream",
     "text": [
      "  3%|██▍                                                                              | 6/200 [02:06<1:07:44, 20.95s/it]"
     ]
    },
    {
     "name": "stdout",
     "output_type": "stream",
     "text": [
      "Query no. 7/200\n",
      "22/22 - 1s - 55ms/step - auc_pr: 0.3314 - loss: 0.0202 - precision: 1.0000 - recall: 0.1250\n",
      "evaluating ..\n",
      "1323/1323 - 17s - 13ms/step\n"
     ]
    },
    {
     "name": "stderr",
     "output_type": "stream",
     "text": [
      "/home/ec2-user/.local/lib/python3.9/site-packages/sklearn/metrics/_classification.py:1531: UndefinedMetricWarning: Precision is ill-defined and being set to 0.0 due to no predicted samples. Use `zero_division` parameter to control this behavior.\n",
      "  _warn_prf(average, modifier, f\"{metric.capitalize()} is\", len(result))\n"
     ]
    },
    {
     "name": "stdout",
     "output_type": "stream",
     "text": [
      "{   'fast_trill_6khz': {   'auc_pr': 0.5715965414262991,\n",
      "                           'f1': 0.5597826086956522,\n",
      "                           'precision': 0.7803030303030303,\n",
      "                           'recall': 0.4364406779661017},\n",
      "    'nr_syllable_3khz': {   'auc_pr': 0.7188303464515329,\n",
      "                            'f1': 0.5400593471810089,\n",
      "                            'precision': 0.9285714285714286,\n",
      "                            'recall': 0.3807531380753138},\n",
      "    'triangle_3khz': {   'auc_pr': 0.08878042510463598,\n",
      "                         'f1': 0.0,\n",
      "                         'precision': 0.0,\n",
      "                         'recall': 0.0},\n",
      "    'upsweep_500hz': {   'auc_pr': 0.08789726638734081,\n",
      "                         'f1': 0.012422360248447204,\n",
      "                         'precision': 0.25,\n",
      "                         'recall': 0.006369426751592357}}\n"
     ]
    },
    {
     "name": "stderr",
     "output_type": "stream",
     "text": [
      "  4%|██▊                                                                              | 7/200 [02:27<1:07:27, 20.97s/it]"
     ]
    },
    {
     "name": "stdout",
     "output_type": "stream",
     "text": [
      "Query no. 8/200\n",
      "22/22 - 1s - 56ms/step - auc_pr: 0.2363 - loss: 0.0190 - precision: 0.5000 - recall: 0.2000\n",
      "evaluating ..\n",
      "1323/1323 - 17s - 13ms/step\n"
     ]
    },
    {
     "name": "stderr",
     "output_type": "stream",
     "text": [
      "/home/ec2-user/.local/lib/python3.9/site-packages/sklearn/metrics/_classification.py:1531: UndefinedMetricWarning: Precision is ill-defined and being set to 0.0 due to no predicted samples. Use `zero_division` parameter to control this behavior.\n",
      "  _warn_prf(average, modifier, f\"{metric.capitalize()} is\", len(result))\n",
      "/home/ec2-user/.local/lib/python3.9/site-packages/sklearn/metrics/_classification.py:1531: UndefinedMetricWarning: Precision is ill-defined and being set to 0.0 due to no predicted samples. Use `zero_division` parameter to control this behavior.\n",
      "  _warn_prf(average, modifier, f\"{metric.capitalize()} is\", len(result))\n"
     ]
    },
    {
     "name": "stdout",
     "output_type": "stream",
     "text": [
      "{   'fast_trill_6khz': {   'auc_pr': 0.35430820152340925,\n",
      "                           'f1': 0.15444015444015444,\n",
      "                           'precision': 0.8695652173913043,\n",
      "                           'recall': 0.0847457627118644},\n",
      "    'nr_syllable_3khz': {   'auc_pr': 0.6034514840117523,\n",
      "                            'f1': 0.5917808219178082,\n",
      "                            'precision': 0.8571428571428571,\n",
      "                            'recall': 0.45188284518828453},\n",
      "    'triangle_3khz': {   'auc_pr': 0.054175520294959915,\n",
      "                         'f1': 0.0,\n",
      "                         'precision': 0.0,\n",
      "                         'recall': 0.0},\n",
      "    'upsweep_500hz': {   'auc_pr': 0.02043358038435099,\n",
      "                         'f1': 0.0,\n",
      "                         'precision': 0.0,\n",
      "                         'recall': 0.0}}\n"
     ]
    },
    {
     "name": "stderr",
     "output_type": "stream",
     "text": [
      "  4%|███▏                                                                             | 8/200 [02:48<1:07:00, 20.94s/it]"
     ]
    },
    {
     "name": "stdout",
     "output_type": "stream",
     "text": [
      "Query no. 9/200\n",
      "22/22 - 1s - 55ms/step - auc_pr: 0.6361 - loss: 0.0144 - precision: 1.0000 - recall: 0.4615\n",
      "evaluating ..\n",
      "1323/1323 - 17s - 13ms/step\n"
     ]
    },
    {
     "name": "stderr",
     "output_type": "stream",
     "text": [
      "/home/ec2-user/.local/lib/python3.9/site-packages/sklearn/metrics/_classification.py:1531: UndefinedMetricWarning: Precision is ill-defined and being set to 0.0 due to no predicted samples. Use `zero_division` parameter to control this behavior.\n",
      "  _warn_prf(average, modifier, f\"{metric.capitalize()} is\", len(result))\n",
      "/home/ec2-user/.local/lib/python3.9/site-packages/sklearn/metrics/_classification.py:1531: UndefinedMetricWarning: Precision is ill-defined and being set to 0.0 due to no predicted samples. Use `zero_division` parameter to control this behavior.\n",
      "  _warn_prf(average, modifier, f\"{metric.capitalize()} is\", len(result))\n"
     ]
    },
    {
     "name": "stdout",
     "output_type": "stream",
     "text": [
      "{   'fast_trill_6khz': {   'auc_pr': 0.1441147235876034,\n",
      "                           'f1': 0.2776470588235294,\n",
      "                           'precision': 0.31216931216931215,\n",
      "                           'recall': 0.25},\n",
      "    'nr_syllable_3khz': {   'auc_pr': 0.7061018683281344,\n",
      "                            'f1': 0.6815144766146993,\n",
      "                            'precision': 0.7285714285714285,\n",
      "                            'recall': 0.6401673640167364},\n",
      "    'triangle_3khz': {   'auc_pr': 0.019798168886493314,\n",
      "                         'f1': 0.0,\n",
      "                         'precision': 0.0,\n",
      "                         'recall': 0.0},\n",
      "    'upsweep_500hz': {   'auc_pr': 0.02613902793473634,\n",
      "                         'f1': 0.0,\n",
      "                         'precision': 0.0,\n",
      "                         'recall': 0.0}}\n"
     ]
    },
    {
     "name": "stderr",
     "output_type": "stream",
     "text": [
      "  4%|███▋                                                                             | 9/200 [03:08<1:06:36, 20.93s/it]"
     ]
    },
    {
     "name": "stdout",
     "output_type": "stream",
     "text": [
      "Query no. 10/200\n",
      "22/22 - 1s - 55ms/step - auc_pr: 0.2308 - loss: 0.0132 - precision: 0.5000 - recall: 0.2500\n",
      "evaluating ..\n",
      "1323/1323 - 17s - 13ms/step\n"
     ]
    },
    {
     "name": "stderr",
     "output_type": "stream",
     "text": [
      "/home/ec2-user/.local/lib/python3.9/site-packages/sklearn/metrics/_classification.py:1531: UndefinedMetricWarning: Precision is ill-defined and being set to 0.0 due to no predicted samples. Use `zero_division` parameter to control this behavior.\n",
      "  _warn_prf(average, modifier, f\"{metric.capitalize()} is\", len(result))\n",
      "/home/ec2-user/.local/lib/python3.9/site-packages/sklearn/metrics/_classification.py:1531: UndefinedMetricWarning: Precision is ill-defined and being set to 0.0 due to no predicted samples. Use `zero_division` parameter to control this behavior.\n",
      "  _warn_prf(average, modifier, f\"{metric.capitalize()} is\", len(result))\n"
     ]
    },
    {
     "name": "stdout",
     "output_type": "stream",
     "text": [
      "{   'fast_trill_6khz': {   'auc_pr': 0.19728811636154503,\n",
      "                           'f1': 0.0859375,\n",
      "                           'precision': 0.55,\n",
      "                           'recall': 0.046610169491525424},\n",
      "    'nr_syllable_3khz': {   'auc_pr': 0.5708622150949085,\n",
      "                            'f1': 0.4144736842105263,\n",
      "                            'precision': 0.9692307692307692,\n",
      "                            'recall': 0.26359832635983266},\n",
      "    'triangle_3khz': {   'auc_pr': 0.04183716715008642,\n",
      "                         'f1': 0.0,\n",
      "                         'precision': 0.0,\n",
      "                         'recall': 0.0},\n",
      "    'upsweep_500hz': {   'auc_pr': 0.013575111413344911,\n",
      "                         'f1': 0.0,\n",
      "                         'precision': 0.0,\n",
      "                         'recall': 0.0}}\n"
     ]
    },
    {
     "name": "stderr",
     "output_type": "stream",
     "text": [
      "  5%|████                                                                            | 10/200 [03:29<1:06:13, 20.91s/it]"
     ]
    },
    {
     "name": "stdout",
     "output_type": "stream",
     "text": [
      "Query no. 11/200\n",
      "22/22 - 1s - 55ms/step - auc_pr: 0.3720 - loss: 0.0128 - precision: 1.0000 - recall: 0.2222\n",
      "evaluating ..\n"
     ]
    }
   ],
   "source": [
    "from preprocessing import evaluation_dict\n",
    "import pickle\n",
    "from models import build_resnet16\n",
    "from keras import metrics\n",
    "\n",
    "n_queries = 200\n",
    "query_size = int(pool_X.shape[0] / n_queries)\n",
    "\n",
    "LB_metrics = []\n",
    "trained_X = initial_X\n",
    "trained_Y = initial_Y\n",
    "\n",
    "print(\"=== RANDOM SAMPLING ===\")\n",
    "for idx in tqdm(range(n_queries)):\n",
    "    print(f'Query no. {idx + 1}/{n_queries}')\n",
    "\n",
    "    # query for instances\n",
    "    query_indicies, query_instances = learner.query(pool_X, n_instances=query_size)\n",
    "    \n",
    "    # train on instances\n",
    "    learner.teach(\n",
    "        X=pool_X[query_indicies], y=pool_Y[query_indicies], \n",
    "        only_new=True, verbose=2\n",
    "    )\n",
    "\n",
    "    # get evaluation metrics\n",
    "    print(\"evaluating ..\")\n",
    "    currently_labelled += query_size\n",
    "    labelling_budget = currently_labelled / initial_ds_size \n",
    "    pred_Y = classifier.predict_proba(test_X, batch_size=batch, verbose=2)\n",
    "    LB_metrics.append(\n",
    "        (labelling_budget, evaluation_dict(pred_Y, test_Y)))\n",
    "\n",
    "    # store trained on samples \n",
    "    trained_X = np.vstack((trained_X, pool_X[query_indicies]))\n",
    "    trained_Y = np.vstack((trained_Y, pool_Y[query_indicies]))\n",
    "    \n",
    "    # remove queried instance from pool\n",
    "    pool_X = np.delete(pool_X, query_indicies, axis=0)\n",
    "    pool_Y = np.delete(pool_Y, query_indicies, axis=0)\n",
    "\n",
    "    with open(INTERMEDIATE / 'AL' / 'RS_metrics.pkl', 'wb') as f:\n",
    "        pickle.dump(LB_metrics, f)\n"
   ]
  },
  {
   "cell_type": "code",
   "execution_count": null,
   "id": "c7ff3c50-38f5-4a24-bba0-4ccc378004ed",
   "metadata": {},
   "outputs": [],
   "source": [
    "pred_Y = classifier.predict_proba(test_X)"
   ]
  },
  {
   "cell_type": "code",
   "execution_count": null,
   "id": "2b090288-d91b-425d-9737-d3ba335e8901",
   "metadata": {},
   "outputs": [],
   "source": [
    "from sklearn.metrics import average_precision_score, precision_recall_curve\n",
    "\n",
    "for i in range(4):\n",
    "    m = average_precision_score(test_Y[:, i], pred_Y[:, i])\n",
    "    print(m)\n",
    "\n",
    "def plot_pr(name, labels, predictions, **kwargs):\n",
    "    prec, rec, _ = precision_recall_curve(labels, predictions)\n",
    "    plt.plot(prec, rec, label=name, linewidth=2, **kwargs)\n",
    "    plt.xlabel('Precision')\n",
    "    plt.ylabel('Recall')\n",
    "    plt.xlim([0,1])\n",
    "    plt.ylim([0,1])\n",
    "    plt.grid(True)\n",
    "\n",
    "label_order = DEFAULT_TOKENS.keys()\n",
    "for i, name in enumerate(label_order):\n",
    "    plot_pr(name, test_Y[:, i], pred_Y[:, i])"
   ]
  },
  {
   "cell_type": "code",
   "execution_count": null,
   "id": "7298914b-0f9f-4a4e-a03d-eb677927380d",
   "metadata": {},
   "outputs": [],
   "source": [
    "m = evaluation_dict(pred_Y, test_Y)"
   ]
  },
  {
   "cell_type": "code",
   "execution_count": null,
   "id": "64fe44d2-8190-4d82-a740-7c521023b657",
   "metadata": {},
   "outputs": [],
   "source": [
    "from util import LABELS\n",
    "\n",
    "x = [lb for lb, _ in LB_metrics]\n",
    "for i, l in enumerate(LABELS):\n",
    "    y = [m[l]['auc_pr'] for _, m in LB_metrics]\n",
    "    plt.plot(y, x)\n",
    "    plt.ylim(0, 1)\n",
    "    plt.title(f'AP of {l} for Random Sampling')\n",
    "    plt.show()"
   ]
  },
  {
   "cell_type": "code",
   "execution_count": null,
   "id": "58c2d334-21e4-4245-9c5e-152275c33690",
   "metadata": {},
   "outputs": [],
   "source": []
  }
 ],
 "metadata": {
  "kernelspec": {
   "display_name": "Python 3 (ipykernel)",
   "language": "python",
   "name": "python3"
  },
  "language_info": {
   "codemirror_mode": {
    "name": "ipython",
    "version": 3
   },
   "file_extension": ".py",
   "mimetype": "text/x-python",
   "name": "python",
   "nbconvert_exporter": "python",
   "pygments_lexer": "ipython3",
   "version": "3.9.16"
  }
 },
 "nbformat": 4,
 "nbformat_minor": 5
}
