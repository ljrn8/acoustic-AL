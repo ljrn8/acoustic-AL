{
 "cells": [
  {
   "cell_type": "code",
   "execution_count": 1,
   "id": "6d659b9f-5d05-441e-961a-3845149ddbf0",
   "metadata": {
    "tags": []
   },
   "outputs": [
    {
     "name": "stderr",
     "output_type": "stream",
     "text": [
      "2024-09-30 16:21:55.788237: E external/local_xla/xla/stream_executor/cuda/cuda_dnn.cc:9261] Unable to register cuDNN factory: Attempting to register factory for plugin cuDNN when one has already been registered\n",
      "2024-09-30 16:21:55.788287: E external/local_xla/xla/stream_executor/cuda/cuda_fft.cc:607] Unable to register cuFFT factory: Attempting to register factory for plugin cuFFT when one has already been registered\n",
      "2024-09-30 16:21:55.917878: E external/local_xla/xla/stream_executor/cuda/cuda_blas.cc:1515] Unable to register cuBLAS factory: Attempting to register factory for plugin cuBLAS when one has already been registered\n",
      "2024-09-30 16:21:56.173252: I tensorflow/core/platform/cpu_feature_guard.cc:182] This TensorFlow binary is optimized to use available CPU instructions in performance-critical operations.\n",
      "To enable the following instructions: AVX2 AVX512F FMA, in other operations, rebuild TensorFlow with the appropriate compiler flags.\n",
      "2024-09-30 16:21:57.679318: W tensorflow/compiler/tf2tensorrt/utils/py_utils.cc:38] TF-TRT Warning: Could not find TensorRT\n"
     ]
    }
   ],
   "source": [
    "%load_ext autoreload\n",
    "%autoreload 2\n",
    "    \n",
    "import tensorflow as tf\n",
    "from tensorflow  import keras\n",
    "from keras import metrics\n",
    "import numpy as np\n",
    "\n",
    "import librosa \n",
    "import matplotlib.pyplot as plt\n",
    "from tqdm import tqdm\n",
    "import h5py\n",
    "import soundfile as sf\n",
    "from scipy.signal import resample_poly\n",
    "import librosa\n",
    "from modAL.models import ActiveLearner\n",
    "from scikeras.wrappers import KerasClassifier\n",
    "import random as rand\n",
    "\n",
    "from config import *\n",
    "from util import DEFAULT_TOKENS\n",
    "from models import build_resnet16\n",
    "from preprocessing import AL_split"
   ]
  },
  {
   "cell_type": "code",
   "execution_count": 2,
   "id": "ec8b2808-d3ee-446b-a974-8f428cf0895d",
   "metadata": {
    "tags": []
   },
   "outputs": [],
   "source": [
    "logmel_f = h5py.File(INTERMEDIATE / 'logmel.hdf5', 'r')\n",
    "samples_f = h5py.File(INTERMEDIATE / '22sr_samples.hdf5', 'r')\n",
    "\n",
    "X = np.load(INTERMEDIATE / 'logmel.npy')\n",
    "Y = np.load(INTERMEDIATE / 'logmel_labels.npy')"
   ]
  },
  {
   "cell_type": "code",
   "execution_count": 3,
   "id": "9bf801ee-fde6-4c36-9769-30751e6b2143",
   "metadata": {},
   "outputs": [
    {
     "data": {
      "text/plain": [
       "((135462, 40, 107), (135462, 4))"
      ]
     },
     "execution_count": 3,
     "metadata": {},
     "output_type": "execute_result"
    }
   ],
   "source": [
    "batch = 32\n",
    "\n",
    "# resnet 16\n",
    "X_shape = (40, 107, 1)\n",
    "model = build_resnet16(input_shape=X_shape)\n",
    "model.compile(optimizer='adam',\n",
    "              loss='binary_crossentropy',\n",
    "              metrics=[\n",
    "                metrics.Recall(thresholds=0.5),\n",
    "                metrics.Precision(thresholds=0.5),\n",
    "                metrics.AUC(curve='pr', name='auc_pr')\n",
    "              ])\n",
    "classifier = KerasClassifier(model, batch_size=batch, verbose=2)\n",
    "\n",
    "# data split\n",
    "init, pool, test = AL_split(X, Y)\n",
    "initial_X, initial_Y = init\n",
    "pool_X, pool_Y = pool\n",
    "test_X, test_Y = test\n",
    "pool_X.shape, pool_Y.shape"
   ]
  },
  {
   "cell_type": "code",
   "execution_count": 4,
   "id": "959fb345-e58f-436e-943e-72fea6469899",
   "metadata": {},
   "outputs": [],
   "source": [
    "from preprocessing import oversample_minority_classes\n",
    "\n",
    "# oversample minority class\n",
    "initial_X, initial_Y = oversample_minority_classes(initial_X, initial_Y)\n",
    "pool_X, pool_Y = oversample_minority_classes(pool_X, pool_Y)"
   ]
  },
  {
   "cell_type": "code",
   "execution_count": 5,
   "id": "15f4872c-44b9-43b9-ac63-966b035ab766",
   "metadata": {},
   "outputs": [
    {
     "name": "stdout",
     "output_type": "stream",
     "text": [
      "1065/1065 - 64s - 60ms/step - auc_pr: 0.1646 - loss: 0.0283 - precision: 0.2891 - recall: 0.1667\n"
     ]
    }
   ],
   "source": [
    "currently_labelled = len(initial_X)\n",
    "initial_ds_size = currently_labelled + len(pool_X)\n",
    "\n",
    "def random_sampling(classifier, X_unlabelled, n_instances):\n",
    "    i = np.random.choice(range(X_unlabelled.shape[0]), size=n_instances, replace=False)\n",
    "    return i, X[i] \n",
    "\n",
    "learner = ActiveLearner(\n",
    "    estimator=classifier,\n",
    "    X_training=initial_X, # !!! TODO: use must larger initial labelled set (?)\n",
    "    y_training=initial_Y,\n",
    "    verbose=2,\n",
    "    query_strategy=random_sampling \n",
    ") # trains on the initial ds"
   ]
  },
  {
   "cell_type": "code",
   "execution_count": null,
   "id": "0dc7b58d-5b03-404e-a541-5dd8dade3eeb",
   "metadata": {
    "scrolled": true
   },
   "outputs": [
    {
     "name": "stdout",
     "output_type": "stream",
     "text": [
      "=== RANDOM SAMPLING ===\n"
     ]
    },
    {
     "name": "stderr",
     "output_type": "stream",
     "text": [
      "  0%|                                                                                                                                              | 0/200 [00:00<?, ?it/s]"
     ]
    },
    {
     "name": "stdout",
     "output_type": "stream",
     "text": [
      "Query no. 1/200\n",
      "22/22 - 1s - 52ms/step - auc_pr: 0.5381 - loss: 0.0182 - precision: 0.6667 - recall: 0.3333\n",
      "evaluating ..\n"
     ]
    },
    {
     "name": "stderr",
     "output_type": "stream",
     "text": [
      "2024-09-30 15:10:30.873473: W external/local_tsl/tsl/framework/cpu_allocator_impl.cc:83] Allocation of 724723840 exceeds 10% of free system memory.\n"
     ]
    },
    {
     "name": "stdout",
     "output_type": "stream",
     "text": [
      "1323/1323 - 17s - 13ms/step\n",
      "{   'fast_trill_6khz': {   'auc_pr': 0.5169182850263834,\n",
      "                           'f1': 0.5132075471698113,\n",
      "                           'precision': 0.46258503401360546,\n",
      "                           'recall': 0.576271186440678},\n",
      "    'nr_syllable_3khz': {   'auc_pr': 0.8264515898042254,\n",
      "                            'f1': 0.8018867924528302,\n",
      "                            'precision': 0.918918918918919,\n",
      "                            'recall': 0.7112970711297071},\n",
      "    'triangle_3khz': {   'auc_pr': 0.1897836875117885,\n",
      "                         'f1': 0.21212121212121213,\n",
      "                         'precision': 0.42424242424242425,\n",
      "                         'recall': 0.1414141414141414},\n",
      "    'upsweep_500hz': {   'auc_pr': 0.40932508662227163,\n",
      "                         'f1': 0.39,\n",
      "                         'precision': 0.9069767441860465,\n",
      "                         'recall': 0.2484076433121019}}\n"
     ]
    },
    {
     "name": "stderr",
     "output_type": "stream",
     "text": [
      "  0%|▋                                                                                                                                   | 1/200 [00:21<1:11:00, 21.41s/it]"
     ]
    },
    {
     "name": "stdout",
     "output_type": "stream",
     "text": [
      "Query no. 2/200\n",
      "22/22 - 1s - 53ms/step - auc_pr: 0.3331 - loss: 0.0164 - precision: 0.4286 - recall: 0.3000\n",
      "evaluating ..\n"
     ]
    },
    {
     "name": "stderr",
     "output_type": "stream",
     "text": [
      "2024-09-30 15:10:52.281443: W external/local_tsl/tsl/framework/cpu_allocator_impl.cc:83] Allocation of 724723840 exceeds 10% of free system memory.\n"
     ]
    },
    {
     "name": "stdout",
     "output_type": "stream",
     "text": [
      "1323/1323 - 17s - 13ms/step\n",
      "{   'fast_trill_6khz': {   'auc_pr': 0.5764225890450144,\n",
      "                           'f1': 0.5546666666666666,\n",
      "                           'precision': 0.7482014388489209,\n",
      "                           'recall': 0.4406779661016949},\n",
      "    'nr_syllable_3khz': {   'auc_pr': 0.8093367592779965,\n",
      "                            'f1': 0.7134268537074149,\n",
      "                            'precision': 0.6846153846153846,\n",
      "                            'recall': 0.7447698744769874},\n",
      "    'triangle_3khz': {   'auc_pr': 0.23255081968851907,\n",
      "                         'f1': 0.07766990291262135,\n",
      "                         'precision': 1.0,\n",
      "                         'recall': 0.04040404040404041},\n",
      "    'upsweep_500hz': {   'auc_pr': 0.4912090665586907,\n",
      "                         'f1': 0.3157894736842105,\n",
      "                         'precision': 0.9090909090909091,\n",
      "                         'recall': 0.1910828025477707}}\n"
     ]
    },
    {
     "name": "stderr",
     "output_type": "stream",
     "text": [
      "  1%|█▎                                                                                                                                  | 2/200 [00:42<1:09:41, 21.12s/it]"
     ]
    },
    {
     "name": "stdout",
     "output_type": "stream",
     "text": [
      "Query no. 3/200\n",
      "22/22 - 1s - 54ms/step - auc_pr: 0.4639 - loss: 0.0159 - precision: 0.7500 - recall: 0.2143\n",
      "evaluating ..\n"
     ]
    },
    {
     "name": "stderr",
     "output_type": "stream",
     "text": [
      "2024-09-30 15:11:13.203060: W external/local_tsl/tsl/framework/cpu_allocator_impl.cc:83] Allocation of 724723840 exceeds 10% of free system memory.\n"
     ]
    },
    {
     "name": "stdout",
     "output_type": "stream",
     "text": [
      "1323/1323 - 17s - 13ms/step\n"
     ]
    },
    {
     "name": "stderr",
     "output_type": "stream",
     "text": [
      "/home/ec2-user/.local/lib/python3.9/site-packages/sklearn/metrics/_classification.py:1531: UndefinedMetricWarning: Precision is ill-defined and being set to 0.0 due to no predicted samples. Use `zero_division` parameter to control this behavior.\n",
      "  _warn_prf(average, modifier, f\"{metric.capitalize()} is\", len(result))\n"
     ]
    },
    {
     "name": "stdout",
     "output_type": "stream",
     "text": [
      "{   'fast_trill_6khz': {   'auc_pr': 0.4928473083263539,\n",
      "                           'f1': 0.2641509433962264,\n",
      "                           'precision': 0.159369527145359,\n",
      "                           'recall': 0.7711864406779662},\n",
      "    'nr_syllable_3khz': {   'auc_pr': 0.8592573666440052,\n",
      "                            'f1': 0.8142857142857143,\n",
      "                            'precision': 0.9447513812154696,\n",
      "                            'recall': 0.7154811715481172},\n",
      "    'triangle_3khz': {   'auc_pr': 0.28970161315669873,\n",
      "                         'f1': 0.0,\n",
      "                         'precision': 0.0,\n",
      "                         'recall': 0.0},\n",
      "    'upsweep_500hz': {   'auc_pr': 0.5176561750815529,\n",
      "                         'f1': 0.45662100456621,\n",
      "                         'precision': 0.8064516129032258,\n",
      "                         'recall': 0.3184713375796178}}\n"
     ]
    },
    {
     "name": "stderr",
     "output_type": "stream",
     "text": [
      "  2%|█▉                                                                                                                                  | 3/200 [01:03<1:09:11, 21.07s/it]"
     ]
    },
    {
     "name": "stdout",
     "output_type": "stream",
     "text": [
      "Query no. 4/200\n",
      "22/22 - 1s - 52ms/step - auc_pr: 0.3714 - loss: 0.0168 - precision: 0.6000 - recall: 0.2308\n",
      "evaluating ..\n"
     ]
    },
    {
     "name": "stderr",
     "output_type": "stream",
     "text": [
      "2024-09-30 15:11:34.201340: W external/local_tsl/tsl/framework/cpu_allocator_impl.cc:83] Allocation of 724723840 exceeds 10% of free system memory.\n"
     ]
    },
    {
     "name": "stdout",
     "output_type": "stream",
     "text": [
      "1323/1323 - 17s - 13ms/step\n",
      "{   'fast_trill_6khz': {   'auc_pr': 0.5504074580433373,\n",
      "                           'f1': 0.5175202156334232,\n",
      "                           'precision': 0.7111111111111111,\n",
      "                           'recall': 0.4067796610169492},\n",
      "    'nr_syllable_3khz': {   'auc_pr': 0.8619210681718177,\n",
      "                            'f1': 0.8188235294117647,\n",
      "                            'precision': 0.9354838709677419,\n",
      "                            'recall': 0.7280334728033473},\n",
      "    'triangle_3khz': {   'auc_pr': 0.25243480722224987,\n",
      "                         'f1': 0.32298136645962733,\n",
      "                         'precision': 0.41935483870967744,\n",
      "                         'recall': 0.26262626262626265},\n",
      "    'upsweep_500hz': {   'auc_pr': 0.5331444705389725,\n",
      "                         'f1': 0.44976076555023925,\n",
      "                         'precision': 0.9038461538461539,\n",
      "                         'recall': 0.29936305732484075}}\n"
     ]
    },
    {
     "name": "stderr",
     "output_type": "stream",
     "text": [
      "  2%|██▋                                                                                                                                 | 4/200 [01:24<1:08:27, 20.95s/it]"
     ]
    },
    {
     "name": "stdout",
     "output_type": "stream",
     "text": [
      "Query no. 5/200\n",
      "22/22 - 1s - 53ms/step - auc_pr: 0.6850 - loss: 0.0114 - precision: 0.8750 - recall: 0.4667\n",
      "evaluating ..\n"
     ]
    },
    {
     "name": "stderr",
     "output_type": "stream",
     "text": [
      "2024-09-30 15:11:55.004422: W external/local_tsl/tsl/framework/cpu_allocator_impl.cc:83] Allocation of 724723840 exceeds 10% of free system memory.\n"
     ]
    },
    {
     "name": "stdout",
     "output_type": "stream",
     "text": [
      "1323/1323 - 17s - 13ms/step\n",
      "{   'fast_trill_6khz': {   'auc_pr': 0.49678486009737416,\n",
      "                           'f1': 0.38125,\n",
      "                           'precision': 0.7261904761904762,\n",
      "                           'recall': 0.2584745762711864},\n",
      "    'nr_syllable_3khz': {   'auc_pr': 0.809448850382776,\n",
      "                            'f1': 0.7713004484304933,\n",
      "                            'precision': 0.8309178743961353,\n",
      "                            'recall': 0.7196652719665272},\n",
      "    'triangle_3khz': {   'auc_pr': 0.15147157464176092,\n",
      "                         'f1': 0.08547008547008547,\n",
      "                         'precision': 0.2777777777777778,\n",
      "                         'recall': 0.050505050505050504},\n",
      "    'upsweep_500hz': {   'auc_pr': 0.5322535707252322,\n",
      "                         'f1': 0.3781094527363184,\n",
      "                         'precision': 0.8636363636363636,\n",
      "                         'recall': 0.24203821656050956}}\n"
     ]
    },
    {
     "name": "stderr",
     "output_type": "stream",
     "text": [
      "  2%|███▎                                                                                                                                | 5/200 [01:45<1:08:16, 21.01s/it]"
     ]
    },
    {
     "name": "stdout",
     "output_type": "stream",
     "text": [
      "Query no. 6/200\n",
      "22/22 - 1s - 54ms/step - auc_pr: 0.7047 - loss: 0.0130 - precision: 0.6667 - recall: 0.5556\n",
      "evaluating ..\n",
      "1323/1323 - 17s - 13ms/step\n",
      "{   'fast_trill_6khz': {   'auc_pr': 0.4684081524972092,\n",
      "                           'f1': 0.5118829981718465,\n",
      "                           'precision': 0.45016077170418006,\n",
      "                           'recall': 0.5932203389830508},\n",
      "    'nr_syllable_3khz': {   'auc_pr': 0.863479300199954,\n",
      "                            'f1': 0.7960687960687961,\n",
      "                            'precision': 0.9642857142857143,\n",
      "                            'recall': 0.6778242677824268},\n",
      "    'triangle_3khz': {   'auc_pr': 0.1547004149365935,\n",
      "                         'f1': 0.1527777777777778,\n",
      "                         'precision': 0.24444444444444444,\n",
      "                         'recall': 0.1111111111111111},\n",
      "    'upsweep_500hz': {   'auc_pr': 0.597238669542678,\n",
      "                         'f1': 0.08536585365853659,\n",
      "                         'precision': 1.0,\n",
      "                         'recall': 0.044585987261146494}}\n"
     ]
    },
    {
     "name": "stderr",
     "output_type": "stream",
     "text": [
      "  3%|███▉                                                                                                                                | 6/200 [02:05<1:07:23, 20.84s/it]"
     ]
    },
    {
     "name": "stdout",
     "output_type": "stream",
     "text": [
      "Query no. 7/200\n",
      "22/22 - 1s - 52ms/step - auc_pr: 0.4615 - loss: 0.0232 - precision: 0.4545 - recall: 0.2174\n",
      "evaluating ..\n",
      "1323/1323 - 17s - 13ms/step\n",
      "{   'fast_trill_6khz': {   'auc_pr': 0.4821038266643366,\n",
      "                           'f1': 0.13024602026049203,\n",
      "                           'precision': 0.07120253164556962,\n",
      "                           'recall': 0.7627118644067796},\n",
      "    'nr_syllable_3khz': {   'auc_pr': 0.6820384202530847,\n",
      "                            'f1': 0.46153846153846156,\n",
      "                            'precision': 0.9863013698630136,\n",
      "                            'recall': 0.301255230125523},\n",
      "    'triangle_3khz': {   'auc_pr': 0.1425886808428482,\n",
      "                         'f1': 0.20304568527918782,\n",
      "                         'precision': 0.13559322033898305,\n",
      "                         'recall': 0.40404040404040403},\n",
      "    'upsweep_500hz': {   'auc_pr': 0.5156315448057363,\n",
      "                         'f1': 0.44144144144144143,\n",
      "                         'precision': 0.7538461538461538,\n",
      "                         'recall': 0.31210191082802546}}\n"
     ]
    },
    {
     "name": "stderr",
     "output_type": "stream",
     "text": [
      "  4%|████▌                                                                                                                               | 7/200 [02:26<1:06:29, 20.67s/it]"
     ]
    },
    {
     "name": "stdout",
     "output_type": "stream",
     "text": [
      "Query no. 8/200\n",
      "22/22 - 1s - 52ms/step - auc_pr: 0.5881 - loss: 0.0158 - precision: 0.8571 - recall: 0.3750\n",
      "evaluating ..\n",
      "1323/1323 - 17s - 13ms/step\n",
      "{   'fast_trill_6khz': {   'auc_pr': 0.28719244270390737,\n",
      "                           'f1': 0.3769633507853403,\n",
      "                           'precision': 0.4931506849315068,\n",
      "                           'recall': 0.3050847457627119},\n",
      "    'nr_syllable_3khz': {   'auc_pr': 0.7167961930507994,\n",
      "                            'f1': 0.6224489795918368,\n",
      "                            'precision': 0.7973856209150327,\n",
      "                            'recall': 0.5104602510460251},\n",
      "    'triangle_3khz': {   'auc_pr': 0.19776786203777955,\n",
      "                         'f1': 0.1423728813559322,\n",
      "                         'precision': 0.0855397148676171,\n",
      "                         'recall': 0.42424242424242425},\n",
      "    'upsweep_500hz': {   'auc_pr': 0.426851299488805,\n",
      "                         'f1': 0.4468864468864469,\n",
      "                         'precision': 0.5258620689655172,\n",
      "                         'recall': 0.3885350318471338}}\n"
     ]
    },
    {
     "name": "stderr",
     "output_type": "stream",
     "text": [
      "  4%|█████▎                                                                                                                              | 8/200 [02:46<1:05:59, 20.62s/it]"
     ]
    },
    {
     "name": "stdout",
     "output_type": "stream",
     "text": [
      "Query no. 9/200\n",
      "22/22 - 1s - 53ms/step - auc_pr: 0.6100 - loss: 0.0111 - precision: 0.7143 - recall: 0.3846\n",
      "evaluating ..\n",
      "1323/1323 - 17s - 13ms/step\n",
      "{   'fast_trill_6khz': {   'auc_pr': 0.24877115505712427,\n",
      "                           'f1': 0.13382899628252787,\n",
      "                           'precision': 0.5454545454545454,\n",
      "                           'recall': 0.07627118644067797},\n",
      "    'nr_syllable_3khz': {   'auc_pr': 0.7873526361146422,\n",
      "                            'f1': 0.6046511627906976,\n",
      "                            'precision': 0.9904761904761905,\n",
      "                            'recall': 0.4351464435146444},\n",
      "    'triangle_3khz': {   'auc_pr': 0.17802765555794164,\n",
      "                         'f1': 0.09807073954983923,\n",
      "                         'precision': 0.05327510917030567,\n",
      "                         'recall': 0.6161616161616161},\n",
      "    'upsweep_500hz': {   'auc_pr': 0.4935461550909738,\n",
      "                         'f1': 0.5036496350364964,\n",
      "                         'precision': 0.5897435897435898,\n",
      "                         'recall': 0.4394904458598726}}\n"
     ]
    },
    {
     "name": "stderr",
     "output_type": "stream",
     "text": [
      "  4%|█████▉                                                                                                                              | 9/200 [03:06<1:05:21, 20.53s/it]"
     ]
    },
    {
     "name": "stdout",
     "output_type": "stream",
     "text": [
      "Query no. 10/200\n",
      "22/22 - 1s - 54ms/step - auc_pr: 0.6126 - loss: 0.0172 - precision: 1.0000 - recall: 0.4000\n",
      "evaluating ..\n",
      "1323/1323 - 17s - 13ms/step\n",
      "{   'fast_trill_6khz': {   'auc_pr': 0.5308518180753213,\n",
      "                           'f1': 0.5765765765765766,\n",
      "                           'precision': 0.6153846153846154,\n",
      "                           'recall': 0.5423728813559322},\n",
      "    'nr_syllable_3khz': {   'auc_pr': 0.8826829928761603,\n",
      "                            'f1': 0.841648590021692,\n",
      "                            'precision': 0.8738738738738738,\n",
      "                            'recall': 0.8117154811715481},\n",
      "    'triangle_3khz': {   'auc_pr': 0.29915433509848144,\n",
      "                         'f1': 0.22413793103448276,\n",
      "                         'precision': 0.7647058823529411,\n",
      "                         'recall': 0.13131313131313133},\n",
      "    'upsweep_500hz': {   'auc_pr': 0.6147788279038916,\n",
      "                         'f1': 0.5591397849462365,\n",
      "                         'precision': 0.48372093023255813,\n",
      "                         'recall': 0.6624203821656051}}\n"
     ]
    },
    {
     "name": "stderr",
     "output_type": "stream",
     "text": [
      "  5%|██████▌                                                                                                                            | 10/200 [03:27<1:04:55, 20.50s/it]"
     ]
    },
    {
     "name": "stdout",
     "output_type": "stream",
     "text": [
      "Query no. 11/200\n",
      "22/22 - 1s - 54ms/step - auc_pr: 0.6326 - loss: 0.0115 - precision: 0.6667 - recall: 0.5000\n",
      "evaluating ..\n",
      "1323/1323 - 17s - 13ms/step\n",
      "{   'fast_trill_6khz': {   'auc_pr': 0.5608913789828921,\n",
      "                           'f1': 0.5643564356435643,\n",
      "                           'precision': 0.6785714285714286,\n",
      "                           'recall': 0.4830508474576271},\n",
      "    'nr_syllable_3khz': {   'auc_pr': 0.8721337844664009,\n",
      "                            'f1': 0.8,\n",
      "                            'precision': 0.9590643274853801,\n",
      "                            'recall': 0.6861924686192469},\n",
      "    'triangle_3khz': {   'auc_pr': 0.3134704527133419,\n",
      "                         'f1': 0.02,\n",
      "                         'precision': 1.0,\n",
      "                         'recall': 0.010101010101010102},\n",
      "    'upsweep_500hz': {   'auc_pr': 0.6149218831909462,\n",
      "                         'f1': 0.44761904761904764,\n",
      "                         'precision': 0.8867924528301887,\n",
      "                         'recall': 0.29936305732484075}}\n"
     ]
    },
    {
     "name": "stderr",
     "output_type": "stream",
     "text": [
      "  6%|███████▏                                                                                                                           | 11/200 [03:47<1:04:34, 20.50s/it]"
     ]
    },
    {
     "name": "stdout",
     "output_type": "stream",
     "text": [
      "Query no. 12/200\n",
      "22/22 - 1s - 52ms/step - auc_pr: 0.6516 - loss: 0.0156 - precision: 0.7143 - recall: 0.5263\n",
      "evaluating ..\n",
      "1323/1323 - 17s - 13ms/step\n",
      "{   'fast_trill_6khz': {   'auc_pr': 0.365817896824847,\n",
      "                           'f1': 0.4158415841584158,\n",
      "                           'precision': 0.5,\n",
      "                           'recall': 0.3559322033898305},\n",
      "    'nr_syllable_3khz': {   'auc_pr': 0.876792248867944,\n",
      "                            'f1': 0.8271028037383178,\n",
      "                            'precision': 0.9365079365079365,\n",
      "                            'recall': 0.7405857740585774},\n",
      "    'triangle_3khz': {   'auc_pr': 0.24071335917330078,\n",
      "                         'f1': 0.23824451410658307,\n",
      "                         'precision': 0.17272727272727273,\n",
      "                         'recall': 0.3838383838383838},\n",
      "    'upsweep_500hz': {   'auc_pr': 0.5906412652411563,\n",
      "                         'f1': 0.48214285714285715,\n",
      "                         'precision': 0.8059701492537313,\n",
      "                         'recall': 0.34394904458598724}}\n"
     ]
    },
    {
     "name": "stderr",
     "output_type": "stream",
     "text": [
      "  6%|███████▊                                                                                                                           | 12/200 [04:08<1:03:59, 20.43s/it]"
     ]
    },
    {
     "name": "stdout",
     "output_type": "stream",
     "text": [
      "Query no. 13/200\n",
      "22/22 - 1s - 53ms/step - auc_pr: 0.5104 - loss: 0.0213 - precision: 0.8000 - recall: 0.4211\n",
      "evaluating ..\n",
      "1323/1323 - 17s - 13ms/step\n",
      "{   'fast_trill_6khz': {   'auc_pr': 0.33054427392176927,\n",
      "                           'f1': 0.2517985611510791,\n",
      "                           'precision': 0.8333333333333334,\n",
      "                           'recall': 0.1483050847457627},\n",
      "    'nr_syllable_3khz': {   'auc_pr': 0.8584533427469757,\n",
      "                            'f1': 0.8299319727891157,\n",
      "                            'precision': 0.905940594059406,\n",
      "                            'recall': 0.7656903765690377},\n",
      "    'triangle_3khz': {   'auc_pr': 0.2962530534605766,\n",
      "                         'f1': 0.09523809523809523,\n",
      "                         'precision': 0.8333333333333334,\n",
      "                         'recall': 0.050505050505050504},\n",
      "    'upsweep_500hz': {   'auc_pr': 0.5155077055985007,\n",
      "                         'f1': 0.43243243243243246,\n",
      "                         'precision': 0.7384615384615385,\n",
      "                         'recall': 0.3057324840764331}}\n"
     ]
    },
    {
     "name": "stderr",
     "output_type": "stream",
     "text": [
      "  6%|████████▌                                                                                                                          | 13/200 [04:28<1:03:37, 20.42s/it]"
     ]
    },
    {
     "name": "stdout",
     "output_type": "stream",
     "text": [
      "Query no. 14/200\n",
      "22/22 - 1s - 54ms/step - auc_pr: 0.4376 - loss: 0.0129 - precision: 0.5000 - recall: 0.3636\n",
      "evaluating ..\n",
      "1323/1323 - 17s - 13ms/step\n",
      "{   'fast_trill_6khz': {   'auc_pr': 0.613381853796999,\n",
      "                           'f1': 0.6003976143141153,\n",
      "                           'precision': 0.5655430711610487,\n",
      "                           'recall': 0.6398305084745762},\n",
      "    'nr_syllable_3khz': {   'auc_pr': 0.8199217851630659,\n",
      "                            'f1': 0.7746478873239436,\n",
      "                            'precision': 0.8823529411764706,\n",
      "                            'recall': 0.6903765690376569},\n",
      "    'triangle_3khz': {   'auc_pr': 0.2582552384910799,\n",
      "                         'f1': 0.14678899082568808,\n",
      "                         'precision': 0.8,\n",
      "                         'recall': 0.08080808080808081},\n",
      "    'upsweep_500hz': {   'auc_pr': 0.5607691396055209,\n",
      "                         'f1': 0.19428571428571428,\n",
      "                         'precision': 0.9444444444444444,\n",
      "                         'recall': 0.10828025477707007}}\n"
     ]
    },
    {
     "name": "stderr",
     "output_type": "stream",
     "text": [
      "  7%|█████████▏                                                                                                                         | 14/200 [04:49<1:03:23, 20.45s/it]"
     ]
    },
    {
     "name": "stdout",
     "output_type": "stream",
     "text": [
      "Query no. 15/200\n",
      "22/22 - 1s - 52ms/step - auc_pr: 0.5819 - loss: 0.0123 - precision: 0.8000 - recall: 0.3077\n",
      "evaluating ..\n",
      "1323/1323 - 17s - 13ms/step\n",
      "{   'fast_trill_6khz': {   'auc_pr': 0.2598216969188455,\n",
      "                           'f1': 0.01680672268907563,\n",
      "                           'precision': 1.0,\n",
      "                           'recall': 0.00847457627118644},\n",
      "    'nr_syllable_3khz': {   'auc_pr': 0.8597978777853071,\n",
      "                            'f1': 0.7991543340380549,\n",
      "                            'precision': 0.8076923076923077,\n",
      "                            'recall': 0.7907949790794979},\n",
      "    'triangle_3khz': {   'auc_pr': 0.2761943905625668,\n",
      "                         'f1': 0.34146341463414637,\n",
      "                         'precision': 0.4307692307692308,\n",
      "                         'recall': 0.2828282828282828},\n",
      "    'upsweep_500hz': {   'auc_pr': 0.5402581998182253,\n",
      "                         'f1': 0.41904761904761906,\n",
      "                         'precision': 0.8301886792452831,\n",
      "                         'recall': 0.2802547770700637}}\n"
     ]
    },
    {
     "name": "stderr",
     "output_type": "stream",
     "text": [
      "  8%|█████████▊                                                                                                                         | 15/200 [05:09<1:02:58, 20.42s/it]"
     ]
    },
    {
     "name": "stdout",
     "output_type": "stream",
     "text": [
      "Query no. 16/200\n",
      "22/22 - 1s - 52ms/step - auc_pr: 0.7486 - loss: 0.0065 - precision: 0.8000 - recall: 0.4000\n",
      "evaluating ..\n",
      "1323/1323 - 17s - 13ms/step\n"
     ]
    },
    {
     "name": "stderr",
     "output_type": "stream",
     "text": [
      "/home/ec2-user/.local/lib/python3.9/site-packages/sklearn/metrics/_classification.py:1531: UndefinedMetricWarning: Precision is ill-defined and being set to 0.0 due to no predicted samples. Use `zero_division` parameter to control this behavior.\n",
      "  _warn_prf(average, modifier, f\"{metric.capitalize()} is\", len(result))\n"
     ]
    },
    {
     "name": "stdout",
     "output_type": "stream",
     "text": [
      "{   'fast_trill_6khz': {   'auc_pr': 0.27911325057791814,\n",
      "                           'f1': 0.0,\n",
      "                           'precision': 0.0,\n",
      "                           'recall': 0.0},\n",
      "    'nr_syllable_3khz': {   'auc_pr': 0.8796662392261972,\n",
      "                            'f1': 0.8366013071895425,\n",
      "                            'precision': 0.8727272727272727,\n",
      "                            'recall': 0.803347280334728},\n",
      "    'triangle_3khz': {   'auc_pr': 0.3591674215389625,\n",
      "                         'f1': 0.4105960264900662,\n",
      "                         'precision': 0.5961538461538461,\n",
      "                         'recall': 0.31313131313131315},\n",
      "    'upsweep_500hz': {   'auc_pr': 0.6181032697005906,\n",
      "                         'f1': 0.5682656826568265,\n",
      "                         'precision': 0.6754385964912281,\n",
      "                         'recall': 0.49044585987261147}}\n"
     ]
    },
    {
     "name": "stderr",
     "output_type": "stream",
     "text": [
      "  8%|██████████▍                                                                                                                        | 16/200 [05:29<1:02:38, 20.43s/it]"
     ]
    },
    {
     "name": "stdout",
     "output_type": "stream",
     "text": [
      "Query no. 17/200\n",
      "22/22 - 1s - 54ms/step - auc_pr: 0.3359 - loss: 0.0202 - precision: 0.5714 - recall: 0.3077\n",
      "evaluating ..\n",
      "1323/1323 - 17s - 13ms/step\n",
      "{   'fast_trill_6khz': {   'auc_pr': 0.44424143713235936,\n",
      "                           'f1': 0.4114583333333333,\n",
      "                           'precision': 0.5337837837837838,\n",
      "                           'recall': 0.3347457627118644},\n",
      "    'nr_syllable_3khz': {   'auc_pr': 0.8554353703784703,\n",
      "                            'f1': 0.8167770419426048,\n",
      "                            'precision': 0.8644859813084113,\n",
      "                            'recall': 0.7740585774058577},\n",
      "    'triangle_3khz': {   'auc_pr': 0.34536077812820737,\n",
      "                         'f1': 0.1308411214953271,\n",
      "                         'precision': 0.875,\n",
      "                         'recall': 0.0707070707070707},\n",
      "    'upsweep_500hz': {   'auc_pr': 0.6286114100857422,\n",
      "                         'f1': 0.22598870056497175,\n",
      "                         'precision': 1.0,\n",
      "                         'recall': 0.12738853503184713}}\n"
     ]
    },
    {
     "name": "stderr",
     "output_type": "stream",
     "text": [
      "  8%|███████████▏                                                                                                                       | 17/200 [05:50<1:02:47, 20.59s/it]"
     ]
    },
    {
     "name": "stdout",
     "output_type": "stream",
     "text": [
      "Query no. 18/200\n",
      "22/22 - 1s - 54ms/step - auc_pr: 0.7007 - loss: 0.0176 - precision: 0.8333 - recall: 0.4762\n",
      "evaluating ..\n",
      "1323/1323 - 17s - 13ms/step\n",
      "{   'fast_trill_6khz': {   'auc_pr': 0.6445958652709433,\n",
      "                           'f1': 0.6062176165803109,\n",
      "                           'precision': 0.78,\n",
      "                           'recall': 0.4957627118644068},\n",
      "    'nr_syllable_3khz': {   'auc_pr': 0.8650088199279103,\n",
      "                            'f1': 0.7934560327198364,\n",
      "                            'precision': 0.776,\n",
      "                            'recall': 0.8117154811715481},\n",
      "    'triangle_3khz': {   'auc_pr': 0.28447601192140054,\n",
      "                         'f1': 0.3493975903614458,\n",
      "                         'precision': 0.43283582089552236,\n",
      "                         'recall': 0.29292929292929293},\n",
      "    'upsweep_500hz': {   'auc_pr': 0.6032513284935267,\n",
      "                         'f1': 0.5878594249201278,\n",
      "                         'precision': 0.5897435897435898,\n",
      "                         'recall': 0.5859872611464968}}\n"
     ]
    },
    {
     "name": "stderr",
     "output_type": "stream",
     "text": [
      "  9%|███████████▊                                                                                                                       | 18/200 [06:11<1:02:42, 20.67s/it]"
     ]
    },
    {
     "name": "stdout",
     "output_type": "stream",
     "text": [
      "Query no. 19/200\n",
      "22/22 - 1s - 55ms/step - auc_pr: 0.6529 - loss: 0.0128 - precision: 0.7692 - recall: 0.6667\n",
      "evaluating ..\n",
      "1323/1323 - 17s - 13ms/step\n",
      "{   'fast_trill_6khz': {   'auc_pr': 0.5837043858180617,\n",
      "                           'f1': 0.45442536327608984,\n",
      "                           'precision': 0.33013435700575816,\n",
      "                           'recall': 0.7288135593220338},\n",
      "    'nr_syllable_3khz': {   'auc_pr': 0.8484094107925987,\n",
      "                            'f1': 0.8144578313253013,\n",
      "                            'precision': 0.9602272727272727,\n",
      "                            'recall': 0.7071129707112971},\n",
      "    'triangle_3khz': {   'auc_pr': 0.18614697780690614,\n",
      "                         'f1': 0.018867924528301886,\n",
      "                         'precision': 0.14285714285714285,\n",
      "                         'recall': 0.010101010101010102},\n",
      "    'upsweep_500hz': {   'auc_pr': 0.5078991018068153,\n",
      "                         'f1': 0.4810126582278481,\n",
      "                         'precision': 0.7125,\n",
      "                         'recall': 0.3630573248407643}}\n"
     ]
    },
    {
     "name": "stderr",
     "output_type": "stream",
     "text": [
      " 10%|████████████▍                                                                                                                      | 19/200 [06:32<1:02:33, 20.74s/it]"
     ]
    },
    {
     "name": "stdout",
     "output_type": "stream",
     "text": [
      "Query no. 20/200\n",
      "22/22 - 1s - 53ms/step - auc_pr: 0.5943 - loss: 0.0175 - precision: 0.7500 - recall: 0.4737\n",
      "evaluating ..\n",
      "1323/1323 - 17s - 13ms/step\n",
      "{   'fast_trill_6khz': {   'auc_pr': 0.6408333413837008,\n",
      "                           'f1': 0.5352941176470588,\n",
      "                           'precision': 0.4099099099099099,\n",
      "                           'recall': 0.7711864406779662},\n",
      "    'nr_syllable_3khz': {   'auc_pr': 0.8705024482792258,\n",
      "                            'f1': 0.8325581395348837,\n",
      "                            'precision': 0.93717277486911,\n",
      "                            'recall': 0.7489539748953975},\n",
      "    'triangle_3khz': {   'auc_pr': 0.278535116701173,\n",
      "                         'f1': 0.34210526315789475,\n",
      "                         'precision': 0.49056603773584906,\n",
      "                         'recall': 0.26262626262626265},\n",
      "    'upsweep_500hz': {   'auc_pr': 0.5360212991360606,\n",
      "                         'f1': 0.5365853658536586,\n",
      "                         'precision': 0.5923076923076923,\n",
      "                         'recall': 0.49044585987261147}}\n"
     ]
    },
    {
     "name": "stderr",
     "output_type": "stream",
     "text": [
      " 10%|█████████████                                                                                                                      | 20/200 [06:53<1:02:20, 20.78s/it]"
     ]
    },
    {
     "name": "stdout",
     "output_type": "stream",
     "text": [
      "Query no. 21/200\n",
      "22/22 - 1s - 53ms/step - auc_pr: 0.5801 - loss: 0.0096 - precision: 1.0000 - recall: 0.5000\n",
      "evaluating ..\n",
      "1323/1323 - 17s - 13ms/step\n",
      "{   'fast_trill_6khz': {   'auc_pr': 0.5391842483064805,\n",
      "                           'f1': 0.4743935309973046,\n",
      "                           'precision': 0.6518518518518519,\n",
      "                           'recall': 0.3728813559322034},\n",
      "    'nr_syllable_3khz': {   'auc_pr': 0.8434432408176344,\n",
      "                            'f1': 0.7902869757174393,\n",
      "                            'precision': 0.8364485981308412,\n",
      "                            'recall': 0.7489539748953975},\n",
      "    'triangle_3khz': {   'auc_pr': 0.243532777567989,\n",
      "                         'f1': 0.10909090909090909,\n",
      "                         'precision': 0.5454545454545454,\n",
      "                         'recall': 0.06060606060606061},\n",
      "    'upsweep_500hz': {   'auc_pr': 0.43499369288040884,\n",
      "                         'f1': 0.44144144144144143,\n",
      "                         'precision': 0.7538461538461538,\n",
      "                         'recall': 0.31210191082802546}}\n"
     ]
    },
    {
     "name": "stderr",
     "output_type": "stream",
     "text": [
      " 10%|█████████████▊                                                                                                                     | 21/200 [07:14<1:02:00, 20.79s/it]"
     ]
    },
    {
     "name": "stdout",
     "output_type": "stream",
     "text": [
      "Query no. 22/200\n",
      "22/22 - 1s - 53ms/step - auc_pr: 0.5839 - loss: 0.0154 - precision: 0.6667 - recall: 0.2353\n",
      "evaluating ..\n",
      "1323/1323 - 17s - 13ms/step\n",
      "{   'fast_trill_6khz': {   'auc_pr': 0.3072214828225381,\n",
      "                           'f1': 0.2875457875457875,\n",
      "                           'precision': 0.18341121495327103,\n",
      "                           'recall': 0.6652542372881356},\n",
      "    'nr_syllable_3khz': {   'auc_pr': 0.8528832167531871,\n",
      "                            'f1': 0.8149882903981265,\n",
      "                            'precision': 0.925531914893617,\n",
      "                            'recall': 0.7280334728033473},\n",
      "    'triangle_3khz': {   'auc_pr': 0.24699055616097026,\n",
      "                         'f1': 0.2714285714285714,\n",
      "                         'precision': 0.4634146341463415,\n",
      "                         'recall': 0.1919191919191919},\n",
      "    'upsweep_500hz': {   'auc_pr': 0.5636860990866259,\n",
      "                         'f1': 0.4686868686868687,\n",
      "                         'precision': 0.3431952662721893,\n",
      "                         'recall': 0.7388535031847133}}\n"
     ]
    },
    {
     "name": "stderr",
     "output_type": "stream",
     "text": [
      " 11%|██████████████▍                                                                                                                    | 22/200 [07:35<1:01:44, 20.81s/it]"
     ]
    },
    {
     "name": "stdout",
     "output_type": "stream",
     "text": [
      "Query no. 23/200\n",
      "22/22 - 1s - 54ms/step - auc_pr: 0.6511 - loss: 0.0123 - precision: 0.6154 - recall: 0.6154\n",
      "evaluating ..\n",
      "1323/1323 - 17s - 13ms/step\n",
      "{   'fast_trill_6khz': {   'auc_pr': 0.5269640400385704,\n",
      "                           'f1': 0.3673469387755102,\n",
      "                           'precision': 0.2460431654676259,\n",
      "                           'recall': 0.7245762711864406},\n",
      "    'nr_syllable_3khz': {   'auc_pr': 0.8611931081145703,\n",
      "                            'f1': 0.7933491686460807,\n",
      "                            'precision': 0.9175824175824175,\n",
      "                            'recall': 0.698744769874477},\n",
      "    'triangle_3khz': {   'auc_pr': 0.31696869169164665,\n",
      "                         'f1': 0.12844036697247707,\n",
      "                         'precision': 0.7,\n",
      "                         'recall': 0.0707070707070707},\n",
      "    'upsweep_500hz': {   'auc_pr': 0.6027384066284185,\n",
      "                         'f1': 0.5306122448979592,\n",
      "                         'precision': 0.7386363636363636,\n",
      "                         'recall': 0.4140127388535032}}\n"
     ]
    },
    {
     "name": "stderr",
     "output_type": "stream",
     "text": [
      " 12%|███████████████                                                                                                                    | 23/200 [07:56<1:01:30, 20.85s/it]"
     ]
    },
    {
     "name": "stdout",
     "output_type": "stream",
     "text": [
      "Query no. 24/200\n",
      "22/22 - 1s - 53ms/step - auc_pr: 0.6436 - loss: 0.0125 - precision: 0.8750 - recall: 0.4667\n",
      "evaluating ..\n",
      "1323/1323 - 17s - 13ms/step\n",
      "{   'fast_trill_6khz': {   'auc_pr': 0.6825832835003328,\n",
      "                           'f1': 0.630071599045346,\n",
      "                           'precision': 0.7213114754098361,\n",
      "                           'recall': 0.559322033898305},\n",
      "    'nr_syllable_3khz': {   'auc_pr': 0.8592056253223077,\n",
      "                            'f1': 0.7504621072088724,\n",
      "                            'precision': 0.6721854304635762,\n",
      "                            'recall': 0.8493723849372385},\n",
      "    'triangle_3khz': {   'auc_pr': 0.33131112504382587,\n",
      "                         'f1': 0.35294117647058826,\n",
      "                         'precision': 0.6486486486486487,\n",
      "                         'recall': 0.24242424242424243},\n",
      "    'upsweep_500hz': {   'auc_pr': 0.5950940416225461,\n",
      "                         'f1': 0.3469387755102041,\n",
      "                         'precision': 0.8717948717948718,\n",
      "                         'recall': 0.21656050955414013}}\n"
     ]
    },
    {
     "name": "stderr",
     "output_type": "stream",
     "text": [
      " 12%|███████████████▋                                                                                                                   | 24/200 [08:16<1:01:08, 20.84s/it]"
     ]
    },
    {
     "name": "stdout",
     "output_type": "stream",
     "text": [
      "Query no. 25/200\n",
      "22/22 - 1s - 54ms/step - auc_pr: 0.6693 - loss: 0.0104 - precision: 0.5556 - recall: 0.5000\n",
      "evaluating ..\n",
      "1323/1323 - 17s - 13ms/step\n",
      "{   'fast_trill_6khz': {   'auc_pr': 0.5261119535675058,\n",
      "                           'f1': 0.5206073752711496,\n",
      "                           'precision': 0.5333333333333333,\n",
      "                           'recall': 0.5084745762711864},\n",
      "    'nr_syllable_3khz': {   'auc_pr': 0.8398863107869117,\n",
      "                            'f1': 0.8047619047619048,\n",
      "                            'precision': 0.9337016574585635,\n",
      "                            'recall': 0.7071129707112971},\n",
      "    'triangle_3khz': {   'auc_pr': 0.3689256227950103,\n",
      "                         'f1': 0.058823529411764705,\n",
      "                         'precision': 1.0,\n",
      "                         'recall': 0.030303030303030304},\n",
      "    'upsweep_500hz': {   'auc_pr': 0.5513299717978488,\n",
      "                         'f1': 0.46218487394957986,\n",
      "                         'precision': 0.6790123456790124,\n",
      "                         'recall': 0.3503184713375796}}\n"
     ]
    },
    {
     "name": "stderr",
     "output_type": "stream",
     "text": [
      " 12%|████████████████▍                                                                                                                  | 25/200 [08:37<1:00:46, 20.84s/it]"
     ]
    },
    {
     "name": "stdout",
     "output_type": "stream",
     "text": [
      "Query no. 26/200\n",
      "22/22 - 1s - 53ms/step - auc_pr: 0.4538 - loss: 0.0091 - precision: 0.6667 - recall: 0.2857\n",
      "evaluating ..\n",
      "1323/1323 - 17s - 13ms/step\n",
      "{   'fast_trill_6khz': {   'auc_pr': 0.3868605681707723,\n",
      "                           'f1': 0.4,\n",
      "                           'precision': 0.4968553459119497,\n",
      "                           'recall': 0.3347457627118644},\n",
      "    'nr_syllable_3khz': {   'auc_pr': 0.8435922968116434,\n",
      "                            'f1': 0.6206896551724138,\n",
      "                            'precision': 0.9908256880733946,\n",
      "                            'recall': 0.45188284518828453},\n",
      "    'triangle_3khz': {   'auc_pr': 0.34888789437101847,\n",
      "                         'f1': 0.05825242718446602,\n",
      "                         'precision': 0.75,\n",
      "                         'recall': 0.030303030303030304},\n",
      "    'upsweep_500hz': {   'auc_pr': 0.5170995455494337,\n",
      "                         'f1': 0.5182926829268293,\n",
      "                         'precision': 0.49707602339181284,\n",
      "                         'recall': 0.5414012738853503}}\n"
     ]
    },
    {
     "name": "stderr",
     "output_type": "stream",
     "text": [
      " 13%|█████████████████                                                                                                                  | 26/200 [08:58<1:00:24, 20.83s/it]"
     ]
    },
    {
     "name": "stdout",
     "output_type": "stream",
     "text": [
      "Query no. 27/200\n",
      "22/22 - 1s - 53ms/step - auc_pr: 0.5269 - loss: 0.0143 - precision: 0.8000 - recall: 0.2857\n",
      "evaluating ..\n",
      "1323/1323 - 17s - 13ms/step\n",
      "{   'fast_trill_6khz': {   'auc_pr': 0.6180700386100055,\n",
      "                           'f1': 0.56957928802589,\n",
      "                           'precision': 0.4607329842931937,\n",
      "                           'recall': 0.7457627118644068},\n",
      "    'nr_syllable_3khz': {   'auc_pr': 0.845964560675157,\n",
      "                            'f1': 0.8169014084507042,\n",
      "                            'precision': 0.93048128342246,\n",
      "                            'recall': 0.7280334728033473},\n",
      "    'triangle_3khz': {   'auc_pr': 0.35383010612877275,\n",
      "                         'f1': 0.14545454545454545,\n",
      "                         'precision': 0.7272727272727273,\n",
      "                         'recall': 0.08080808080808081},\n",
      "    'upsweep_500hz': {   'auc_pr': 0.5736095372822563,\n",
      "                         'f1': 0.5473684210526316,\n",
      "                         'precision': 0.4663677130044843,\n",
      "                         'recall': 0.6624203821656051}}\n"
     ]
    },
    {
     "name": "stderr",
     "output_type": "stream",
     "text": [
      " 14%|█████████████████▋                                                                                                                 | 27/200 [09:19<1:00:02, 20.83s/it]"
     ]
    },
    {
     "name": "stdout",
     "output_type": "stream",
     "text": [
      "Query no. 28/200\n",
      "22/22 - 1s - 53ms/step - auc_pr: 0.6018 - loss: 0.0149 - precision: 0.6667 - recall: 0.5000\n",
      "evaluating ..\n",
      "1323/1323 - 17s - 13ms/step\n",
      "{   'fast_trill_6khz': {   'auc_pr': 0.19344409663263906,\n",
      "                           'f1': 0.03165268528928479,\n",
      "                           'precision': 0.01615608722521409,\n",
      "                           'recall': 0.7754237288135594},\n",
      "    'nr_syllable_3khz': {   'auc_pr': 0.7702651118310498,\n",
      "                            'f1': 0.7555555555555555,\n",
      "                            'precision': 0.8056872037914692,\n",
      "                            'recall': 0.7112970711297071},\n",
      "    'triangle_3khz': {   'auc_pr': 0.28038775232080876,\n",
      "                         'f1': 0.05825242718446602,\n",
      "                         'precision': 0.75,\n",
      "                         'recall': 0.030303030303030304},\n",
      "    'upsweep_500hz': {   'auc_pr': 0.5526110554881196,\n",
      "                         'f1': 0.5379746835443038,\n",
      "                         'precision': 0.5345911949685535,\n",
      "                         'recall': 0.5414012738853503}}\n"
     ]
    },
    {
     "name": "stderr",
     "output_type": "stream",
     "text": [
      " 14%|██████████████████▌                                                                                                                  | 28/200 [09:40<59:45, 20.85s/it]"
     ]
    },
    {
     "name": "stdout",
     "output_type": "stream",
     "text": [
      "Query no. 29/200\n",
      "22/22 - 1s - 54ms/step - auc_pr: 0.7434 - loss: 0.0089 - precision: 0.8889 - recall: 0.6667\n",
      "evaluating ..\n",
      "1323/1323 - 17s - 13ms/step\n",
      "{   'fast_trill_6khz': {   'auc_pr': 0.5565558880766142,\n",
      "                           'f1': 0.37748344370860926,\n",
      "                           'precision': 0.8636363636363636,\n",
      "                           'recall': 0.24152542372881355},\n",
      "    'nr_syllable_3khz': {   'auc_pr': 0.855954381943647,\n",
      "                            'f1': 0.8254716981132075,\n",
      "                            'precision': 0.9459459459459459,\n",
      "                            'recall': 0.7322175732217573},\n",
      "    'triangle_3khz': {   'auc_pr': 0.3311472179062044,\n",
      "                         'f1': 0.02,\n",
      "                         'precision': 1.0,\n",
      "                         'recall': 0.010101010101010102},\n",
      "    'upsweep_500hz': {   'auc_pr': 0.5309522347766841,\n",
      "                         'f1': 0.5214521452145214,\n",
      "                         'precision': 0.541095890410959,\n",
      "                         'recall': 0.5031847133757962}}\n"
     ]
    },
    {
     "name": "stderr",
     "output_type": "stream",
     "text": [
      " 14%|███████████████████▎                                                                                                                 | 29/200 [10:01<59:23, 20.84s/it]"
     ]
    },
    {
     "name": "stdout",
     "output_type": "stream",
     "text": [
      "Query no. 30/200\n",
      "22/22 - 1s - 53ms/step - auc_pr: 0.6279 - loss: 0.0104 - precision: 0.7143 - recall: 0.4167\n",
      "evaluating ..\n",
      "1323/1323 - 17s - 13ms/step\n",
      "{   'fast_trill_6khz': {   'auc_pr': 0.4931618996672247,\n",
      "                           'f1': 0.47394957983193275,\n",
      "                           'precision': 0.39275766016713093,\n",
      "                           'recall': 0.597457627118644},\n",
      "    'nr_syllable_3khz': {   'auc_pr': 0.8477719058860997,\n",
      "                            'f1': 0.8229665071770335,\n",
      "                            'precision': 0.9608938547486033,\n",
      "                            'recall': 0.7196652719665272},\n",
      "    'triangle_3khz': {   'auc_pr': 0.35455700773995175,\n",
      "                         'f1': 0.2644628099173554,\n",
      "                         'precision': 0.7272727272727273,\n",
      "                         'recall': 0.16161616161616163},\n",
      "    'upsweep_500hz': {   'auc_pr': 0.3789461857260116,\n",
      "                         'f1': 0.42727272727272725,\n",
      "                         'precision': 0.746031746031746,\n",
      "                         'recall': 0.29936305732484075}}\n"
     ]
    },
    {
     "name": "stderr",
     "output_type": "stream",
     "text": [
      " 15%|███████████████████▉                                                                                                                 | 30/200 [10:21<59:00, 20.83s/it]"
     ]
    },
    {
     "name": "stdout",
     "output_type": "stream",
     "text": [
      "Query no. 31/200\n",
      "22/22 - 1s - 53ms/step - auc_pr: 0.5884 - loss: 0.0171 - precision: 0.7778 - recall: 0.4667\n",
      "evaluating ..\n",
      "1323/1323 - 17s - 13ms/step\n",
      "{   'fast_trill_6khz': {   'auc_pr': 0.40459832020532327,\n",
      "                           'f1': 0.4095744680851064,\n",
      "                           'precision': 0.55,\n",
      "                           'recall': 0.326271186440678},\n",
      "    'nr_syllable_3khz': {   'auc_pr': 0.865149179955885,\n",
      "                            'f1': 0.8046511627906977,\n",
      "                            'precision': 0.9057591623036649,\n",
      "                            'recall': 0.7238493723849372},\n",
      "    'triangle_3khz': {   'auc_pr': 0.32749295140118395,\n",
      "                         'f1': 0.058823529411764705,\n",
      "                         'precision': 1.0,\n",
      "                         'recall': 0.030303030303030304},\n",
      "    'upsweep_500hz': {   'auc_pr': 0.5268287438610051,\n",
      "                         'f1': 0.4897959183673469,\n",
      "                         'precision': 0.6818181818181818,\n",
      "                         'recall': 0.3821656050955414}}\n"
     ]
    },
    {
     "name": "stderr",
     "output_type": "stream",
     "text": [
      " 16%|████████████████████▌                                                                                                                | 31/200 [10:42<58:45, 20.86s/it]"
     ]
    },
    {
     "name": "stdout",
     "output_type": "stream",
     "text": [
      "Query no. 32/200\n",
      "22/22 - 1s - 54ms/step - auc_pr: 0.4788 - loss: 0.0159 - precision: 0.6667 - recall: 0.1333\n",
      "evaluating ..\n",
      "1323/1323 - 17s - 13ms/step\n",
      "{   'fast_trill_6khz': {   'auc_pr': 0.3844556600623972,\n",
      "                           'f1': 0.15384615384615385,\n",
      "                           'precision': 0.8333333333333334,\n",
      "                           'recall': 0.0847457627118644},\n",
      "    'nr_syllable_3khz': {   'auc_pr': 0.8334018472277019,\n",
      "                            'f1': 0.7857142857142857,\n",
      "                            'precision': 0.7890295358649789,\n",
      "                            'recall': 0.7824267782426778},\n",
      "    'triangle_3khz': {   'auc_pr': 0.3734041535664092,\n",
      "                         'f1': 0.23214285714285715,\n",
      "                         'precision': 1.0,\n",
      "                         'recall': 0.13131313131313133},\n",
      "    'upsweep_500hz': {   'auc_pr': 0.5615279473873931,\n",
      "                         'f1': 0.5393939393939394,\n",
      "                         'precision': 0.5144508670520231,\n",
      "                         'recall': 0.5668789808917197}}\n"
     ]
    },
    {
     "name": "stderr",
     "output_type": "stream",
     "text": [
      " 16%|█████████████████████▎                                                                                                               | 32/200 [11:03<58:23, 20.85s/it]"
     ]
    },
    {
     "name": "stdout",
     "output_type": "stream",
     "text": [
      "Query no. 33/200\n",
      "22/22 - 1s - 52ms/step - auc_pr: 0.4959 - loss: 0.0132 - precision: 0.6250 - recall: 0.3846\n",
      "evaluating ..\n",
      "1323/1323 - 17s - 13ms/step\n",
      "{   'fast_trill_6khz': {   'auc_pr': 0.3918127055125636,\n",
      "                           'f1': 0.18181818181818182,\n",
      "                           'precision': 0.8571428571428571,\n",
      "                           'recall': 0.1016949152542373},\n",
      "    'nr_syllable_3khz': {   'auc_pr': 0.8142443788808278,\n",
      "                            'f1': 0.4533898305084746,\n",
      "                            'precision': 0.30354609929078014,\n",
      "                            'recall': 0.895397489539749},\n",
      "    'triangle_3khz': {   'auc_pr': 0.3425574959977719,\n",
      "                         'f1': 0.11428571428571428,\n",
      "                         'precision': 1.0,\n",
      "                         'recall': 0.06060606060606061},\n",
      "    'upsweep_500hz': {   'auc_pr': 0.5424030501640853,\n",
      "                         'f1': 0.35714285714285715,\n",
      "                         'precision': 0.8974358974358975,\n",
      "                         'recall': 0.2229299363057325}}\n"
     ]
    },
    {
     "name": "stderr",
     "output_type": "stream",
     "text": [
      " 16%|█████████████████████▉                                                                                                               | 33/200 [11:24<57:59, 20.83s/it]"
     ]
    },
    {
     "name": "stdout",
     "output_type": "stream",
     "text": [
      "Query no. 34/200\n",
      "22/22 - 1s - 53ms/step - auc_pr: 0.6350 - loss: 0.0172 - precision: 0.7692 - recall: 0.4762\n",
      "evaluating ..\n",
      "1323/1323 - 17s - 13ms/step\n",
      "{   'fast_trill_6khz': {   'auc_pr': 0.4714574190223938,\n",
      "                           'f1': 0.3761755485893417,\n",
      "                           'precision': 0.7228915662650602,\n",
      "                           'recall': 0.2542372881355932},\n",
      "    'nr_syllable_3khz': {   'auc_pr': 0.8779201766104084,\n",
      "                            'f1': 0.8117154811715481,\n",
      "                            'precision': 0.8117154811715481,\n",
      "                            'recall': 0.8117154811715481},\n",
      "    'triangle_3khz': {   'auc_pr': 0.38271990998619027,\n",
      "                         'f1': 0.4523809523809524,\n",
      "                         'precision': 0.5507246376811594,\n",
      "                         'recall': 0.3838383838383838},\n",
      "    'upsweep_500hz': {   'auc_pr': 0.5790304532826904,\n",
      "                         'f1': 0.5696969696969697,\n",
      "                         'precision': 0.5433526011560693,\n",
      "                         'recall': 0.5987261146496815}}\n"
     ]
    },
    {
     "name": "stderr",
     "output_type": "stream",
     "text": [
      " 17%|██████████████████████▌                                                                                                              | 34/200 [11:45<57:41, 20.85s/it]"
     ]
    },
    {
     "name": "stdout",
     "output_type": "stream",
     "text": [
      "Query no. 35/200\n",
      "22/22 - 1s - 55ms/step - auc_pr: 0.7234 - loss: 0.0095 - precision: 0.7000 - recall: 0.5000\n",
      "evaluating ..\n",
      "1323/1323 - 17s - 13ms/step\n",
      "{   'fast_trill_6khz': {   'auc_pr': 0.4936130043779817,\n",
      "                           'f1': 0.2490842490842491,\n",
      "                           'precision': 0.918918918918919,\n",
      "                           'recall': 0.1440677966101695},\n",
      "    'nr_syllable_3khz': {   'auc_pr': 0.820587903495744,\n",
      "                            'f1': 0.6756756756756757,\n",
      "                            'precision': 0.9541984732824428,\n",
      "                            'recall': 0.5230125523012552},\n",
      "    'triangle_3khz': {   'auc_pr': 0.2615675082137459,\n",
      "                         'f1': 0.12962962962962962,\n",
      "                         'precision': 0.7777777777777778,\n",
      "                         'recall': 0.0707070707070707},\n",
      "    'upsweep_500hz': {   'auc_pr': 0.5521043409598382,\n",
      "                         'f1': 0.54421768707483,\n",
      "                         'precision': 0.583941605839416,\n",
      "                         'recall': 0.5095541401273885}}\n"
     ]
    },
    {
     "name": "stderr",
     "output_type": "stream",
     "text": [
      " 18%|███████████████████████▎                                                                                                             | 35/200 [12:06<57:18, 20.84s/it]"
     ]
    },
    {
     "name": "stdout",
     "output_type": "stream",
     "text": [
      "Query no. 36/200\n",
      "22/22 - 1s - 53ms/step - auc_pr: 0.6400 - loss: 0.0171 - precision: 0.6250 - recall: 0.5000\n",
      "evaluating ..\n",
      "1323/1323 - 17s - 13ms/step\n",
      "{   'fast_trill_6khz': {   'auc_pr': 0.4236011420671465,\n",
      "                           'f1': 0.40865384615384615,\n",
      "                           'precision': 0.4722222222222222,\n",
      "                           'recall': 0.3601694915254237},\n",
      "    'nr_syllable_3khz': {   'auc_pr': 0.8296166382182363,\n",
      "                            'f1': 0.7333333333333333,\n",
      "                            'precision': 0.9470198675496688,\n",
      "                            'recall': 0.5983263598326359},\n",
      "    'triangle_3khz': {   'auc_pr': 0.3119796561064773,\n",
      "                         'f1': 0.34074074074074073,\n",
      "                         'precision': 0.6388888888888888,\n",
      "                         'recall': 0.23232323232323232},\n",
      "    'upsweep_500hz': {   'auc_pr': 0.5638207179313838,\n",
      "                         'f1': 0.5653333333333334,\n",
      "                         'precision': 0.48623853211009177,\n",
      "                         'recall': 0.6751592356687898}}\n"
     ]
    },
    {
     "name": "stderr",
     "output_type": "stream",
     "text": [
      " 18%|███████████████████████▉                                                                                                             | 36/200 [12:26<56:55, 20.83s/it]"
     ]
    },
    {
     "name": "stdout",
     "output_type": "stream",
     "text": [
      "Query no. 37/200\n",
      "22/22 - 1s - 54ms/step - auc_pr: 0.4309 - loss: 0.0150 - precision: 0.7500 - recall: 0.5000\n",
      "evaluating ..\n",
      "1323/1323 - 17s - 13ms/step\n",
      "{   'fast_trill_6khz': {   'auc_pr': 0.3084183570188708,\n",
      "                           'f1': 0.3775280898876405,\n",
      "                           'precision': 0.4019138755980861,\n",
      "                           'recall': 0.3559322033898305},\n",
      "    'nr_syllable_3khz': {   'auc_pr': 0.8338387282370059,\n",
      "                            'f1': 0.8,\n",
      "                            'precision': 0.900523560209424,\n",
      "                            'recall': 0.7196652719665272},\n",
      "    'triangle_3khz': {   'auc_pr': 0.3682958061139593,\n",
      "                         'f1': 0.05825242718446602,\n",
      "                         'precision': 0.75,\n",
      "                         'recall': 0.030303030303030304},\n",
      "    'upsweep_500hz': {   'auc_pr': 0.5875768078733122,\n",
      "                         'f1': 0.5328185328185329,\n",
      "                         'precision': 0.6764705882352942,\n",
      "                         'recall': 0.4394904458598726}}\n"
     ]
    },
    {
     "name": "stderr",
     "output_type": "stream",
     "text": [
      " 18%|████████████████████████▌                                                                                                            | 37/200 [12:47<56:40, 20.86s/it]"
     ]
    },
    {
     "name": "stdout",
     "output_type": "stream",
     "text": [
      "Query no. 38/200\n",
      "22/22 - 1s - 53ms/step - auc_pr: 0.6930 - loss: 0.0115 - precision: 0.7500 - recall: 0.5625\n",
      "evaluating ..\n",
      "1323/1323 - 17s - 13ms/step\n",
      "{   'fast_trill_6khz': {   'auc_pr': 0.6297725663803482,\n",
      "                           'f1': 0.5601965601965602,\n",
      "                           'precision': 0.6666666666666666,\n",
      "                           'recall': 0.4830508474576271},\n",
      "    'nr_syllable_3khz': {   'auc_pr': 0.8321623209821125,\n",
      "                            'f1': 0.7340823970037453,\n",
      "                            'precision': 0.6644067796610169,\n",
      "                            'recall': 0.8200836820083682},\n",
      "    'triangle_3khz': {   'auc_pr': 0.45802626162170706,\n",
      "                         'f1': 0.288135593220339,\n",
      "                         'precision': 0.8947368421052632,\n",
      "                         'recall': 0.1717171717171717},\n",
      "    'upsweep_500hz': {   'auc_pr': 0.6373522024473862,\n",
      "                         'f1': 0.5921787709497207,\n",
      "                         'precision': 0.527363184079602,\n",
      "                         'recall': 0.6751592356687898}}\n"
     ]
    },
    {
     "name": "stderr",
     "output_type": "stream",
     "text": [
      " 19%|█████████████████████████▎                                                                                                           | 38/200 [13:08<56:15, 20.83s/it]"
     ]
    },
    {
     "name": "stdout",
     "output_type": "stream",
     "text": [
      "Query no. 39/200\n",
      "22/22 - 1s - 53ms/step - auc_pr: 0.6765 - loss: 0.0094 - precision: 1.0000 - recall: 0.4545\n",
      "evaluating ..\n",
      "1323/1323 - 17s - 13ms/step\n",
      "{   'fast_trill_6khz': {   'auc_pr': 0.6313759439923136,\n",
      "                           'f1': 0.46208530805687204,\n",
      "                           'precision': 0.3207236842105263,\n",
      "                           'recall': 0.826271186440678},\n",
      "    'nr_syllable_3khz': {   'auc_pr': 0.8094997344043181,\n",
      "                            'f1': 0.7799564270152506,\n",
      "                            'precision': 0.8136363636363636,\n",
      "                            'recall': 0.7489539748953975},\n",
      "    'triangle_3khz': {   'auc_pr': 0.44277550648112807,\n",
      "                         'f1': 0.3,\n",
      "                         'precision': 0.8571428571428571,\n",
      "                         'recall': 0.18181818181818182},\n",
      "    'upsweep_500hz': {   'auc_pr': 0.48809186188373394,\n",
      "                         'f1': 0.4824561403508772,\n",
      "                         'precision': 0.7746478873239436,\n",
      "                         'recall': 0.3503184713375796}}\n"
     ]
    },
    {
     "name": "stderr",
     "output_type": "stream",
     "text": [
      " 20%|█████████████████████████▉                                                                                                           | 39/200 [13:29<55:53, 20.83s/it]"
     ]
    },
    {
     "name": "stdout",
     "output_type": "stream",
     "text": [
      "Query no. 40/200\n",
      "22/22 - 1s - 53ms/step - auc_pr: 0.4997 - loss: 0.0206 - precision: 0.7778 - recall: 0.3684\n",
      "evaluating ..\n",
      "1323/1323 - 17s - 13ms/step\n",
      "{   'fast_trill_6khz': {   'auc_pr': 0.6988932537044279,\n",
      "                           'f1': 0.6604477611940298,\n",
      "                           'precision': 0.59,\n",
      "                           'recall': 0.75},\n",
      "    'nr_syllable_3khz': {   'auc_pr': 0.83012414787411,\n",
      "                            'f1': 0.6272,\n",
      "                            'precision': 0.5077720207253886,\n",
      "                            'recall': 0.8200836820083682},\n",
      "    'triangle_3khz': {   'auc_pr': 0.3929021244003948,\n",
      "                         'f1': 0.32934131736526945,\n",
      "                         'precision': 0.23404255319148937,\n",
      "                         'recall': 0.5555555555555556},\n",
      "    'upsweep_500hz': {   'auc_pr': 0.6148548325299676,\n",
      "                         'f1': 0.6099290780141844,\n",
      "                         'precision': 0.688,\n",
      "                         'recall': 0.5477707006369427}}\n"
     ]
    },
    {
     "name": "stderr",
     "output_type": "stream",
     "text": [
      " 20%|██████████████████████████▌                                                                                                          | 40/200 [13:50<55:36, 20.85s/it]"
     ]
    },
    {
     "name": "stdout",
     "output_type": "stream",
     "text": [
      "Query no. 41/200\n",
      "22/22 - 1s - 54ms/step - auc_pr: 0.6892 - loss: 0.0184 - precision: 0.8125 - recall: 0.5652\n",
      "evaluating ..\n",
      "1323/1323 - 17s - 13ms/step\n",
      "{   'fast_trill_6khz': {   'auc_pr': 0.3958099561416383,\n",
      "                           'f1': 0.39335180055401664,\n",
      "                           'precision': 0.29218106995884774,\n",
      "                           'recall': 0.6016949152542372},\n",
      "    'nr_syllable_3khz': {   'auc_pr': 0.8118275951612469,\n",
      "                            'f1': 0.7390300230946882,\n",
      "                            'precision': 0.8247422680412371,\n",
      "                            'recall': 0.6694560669456067},\n",
      "    'triangle_3khz': {   'auc_pr': 0.3062762841231941,\n",
      "                         'f1': 0.0920863309352518,\n",
      "                         'precision': 0.049573973663826494,\n",
      "                         'recall': 0.6464646464646465},\n",
      "    'upsweep_500hz': {   'auc_pr': 0.6074817973681914,\n",
      "                         'f1': 0.5,\n",
      "                         'precision': 0.835820895522388,\n",
      "                         'recall': 0.35668789808917195}}\n"
     ]
    },
    {
     "name": "stderr",
     "output_type": "stream",
     "text": [
      " 20%|███████████████████████████▎                                                                                                         | 41/200 [14:11<55:14, 20.85s/it]"
     ]
    },
    {
     "name": "stdout",
     "output_type": "stream",
     "text": [
      "Query no. 42/200\n",
      "22/22 - 1s - 54ms/step - auc_pr: 0.6084 - loss: 0.0129 - precision: 0.8571 - recall: 0.4000\n",
      "evaluating ..\n",
      "1323/1323 - 17s - 13ms/step\n",
      "{   'fast_trill_6khz': {   'auc_pr': 0.5049222191088444,\n",
      "                           'f1': 0.5092838196286472,\n",
      "                           'precision': 0.6808510638297872,\n",
      "                           'recall': 0.4067796610169492},\n",
      "    'nr_syllable_3khz': {   'auc_pr': 0.6678327243909349,\n",
      "                            'f1': 0.611336032388664,\n",
      "                            'precision': 0.592156862745098,\n",
      "                            'recall': 0.6317991631799164},\n",
      "    'triangle_3khz': {   'auc_pr': 0.36005988591630184,\n",
      "                         'f1': 0.10471976401179942,\n",
      "                         'precision': 0.056483691328560064,\n",
      "                         'recall': 0.7171717171717171},\n",
      "    'upsweep_500hz': {   'auc_pr': 0.5788228218044198,\n",
      "                         'f1': 0.4413145539906103,\n",
      "                         'precision': 0.8392857142857143,\n",
      "                         'recall': 0.29936305732484075}}\n"
     ]
    },
    {
     "name": "stderr",
     "output_type": "stream",
     "text": [
      " 21%|███████████████████████████▉                                                                                                         | 42/200 [14:31<54:52, 20.84s/it]"
     ]
    },
    {
     "name": "stdout",
     "output_type": "stream",
     "text": [
      "Query no. 43/200\n",
      "22/22 - 1s - 53ms/step - auc_pr: 0.6972 - loss: 0.0110 - precision: 0.6667 - recall: 0.6250\n",
      "evaluating ..\n",
      "1323/1323 - 17s - 13ms/step\n",
      "{   'fast_trill_6khz': {   'auc_pr': 0.5080077079416923,\n",
      "                           'f1': 0.2545454545454545,\n",
      "                           'precision': 0.8974358974358975,\n",
      "                           'recall': 0.1483050847457627},\n",
      "    'nr_syllable_3khz': {   'auc_pr': 0.7210052265979549,\n",
      "                            'f1': 0.584958217270195,\n",
      "                            'precision': 0.875,\n",
      "                            'recall': 0.4393305439330544},\n",
      "    'triangle_3khz': {   'auc_pr': 0.37385040533791347,\n",
      "                         'f1': 0.4158415841584158,\n",
      "                         'precision': 0.4077669902912621,\n",
      "                         'recall': 0.42424242424242425},\n",
      "    'upsweep_500hz': {   'auc_pr': 0.6025983666820263,\n",
      "                         'f1': 0.5703971119133574,\n",
      "                         'precision': 0.6583333333333333,\n",
      "                         'recall': 0.5031847133757962}}\n"
     ]
    },
    {
     "name": "stderr",
     "output_type": "stream",
     "text": [
      " 22%|████████████████████████████▌                                                                                                        | 43/200 [14:52<54:34, 20.86s/it]"
     ]
    },
    {
     "name": "stdout",
     "output_type": "stream",
     "text": [
      "Query no. 44/200\n",
      "22/22 - 1s - 53ms/step - auc_pr: 0.2737 - loss: 0.0277 - precision: 0.3750 - recall: 0.1500\n",
      "evaluating ..\n",
      "1323/1323 - 17s - 13ms/step\n",
      "{   'fast_trill_6khz': {   'auc_pr': 0.6310459858513481,\n",
      "                           'f1': 0.6295399515738499,\n",
      "                           'precision': 0.7344632768361582,\n",
      "                           'recall': 0.5508474576271186},\n",
      "    'nr_syllable_3khz': {   'auc_pr': 0.8555269583292296,\n",
      "                            'f1': 0.6952224052718287,\n",
      "                            'precision': 0.5733695652173914,\n",
      "                            'recall': 0.8828451882845189},\n",
      "    'triangle_3khz': {   'auc_pr': 0.4652545151451428,\n",
      "                         'f1': 0.5128205128205128,\n",
      "                         'precision': 0.7017543859649122,\n",
      "                         'recall': 0.40404040404040403},\n",
      "    'upsweep_500hz': {   'auc_pr': 0.636762349244267,\n",
      "                         'f1': 0.6209150326797386,\n",
      "                         'precision': 0.6375838926174496,\n",
      "                         'recall': 0.6050955414012739}}\n"
     ]
    },
    {
     "name": "stderr",
     "output_type": "stream",
     "text": [
      " 22%|█████████████████████████████▎                                                                                                       | 44/200 [15:13<54:10, 20.84s/it]"
     ]
    },
    {
     "name": "stdout",
     "output_type": "stream",
     "text": [
      "Query no. 45/200\n",
      "22/22 - 1s - 55ms/step - auc_pr: 0.6418 - loss: 0.0199 - precision: 1.0000 - recall: 0.4545\n",
      "evaluating ..\n",
      "1323/1323 - 17s - 13ms/step\n",
      "{   'fast_trill_6khz': {   'auc_pr': 0.7189320844625661,\n",
      "                           'f1': 0.6818181818181818,\n",
      "                           'precision': 0.6164383561643836,\n",
      "                           'recall': 0.7627118644067796},\n",
      "    'nr_syllable_3khz': {   'auc_pr': 0.8627992080927332,\n",
      "                            'f1': 0.7250437828371279,\n",
      "                            'precision': 0.6234939759036144,\n",
      "                            'recall': 0.8661087866108786},\n",
      "    'triangle_3khz': {   'auc_pr': 0.4739965262874981,\n",
      "                         'f1': 0.3442622950819672,\n",
      "                         'precision': 0.9130434782608695,\n",
      "                         'recall': 0.21212121212121213},\n",
      "    'upsweep_500hz': {   'auc_pr': 0.6497731040357683,\n",
      "                         'f1': 0.6554054054054054,\n",
      "                         'precision': 0.697841726618705,\n",
      "                         'recall': 0.6178343949044586}}\n"
     ]
    },
    {
     "name": "stderr",
     "output_type": "stream",
     "text": [
      " 22%|█████████████████████████████▉                                                                                                       | 45/200 [15:34<53:51, 20.85s/it]"
     ]
    },
    {
     "name": "stdout",
     "output_type": "stream",
     "text": [
      "Query no. 46/200\n",
      "22/22 - 1s - 56ms/step - auc_pr: 0.6911 - loss: 0.0150 - precision: 0.9000 - recall: 0.5000\n",
      "evaluating ..\n",
      "1323/1323 - 17s - 13ms/step\n",
      "{   'fast_trill_6khz': {   'auc_pr': 0.6588527100345447,\n",
      "                           'f1': 0.4666666666666667,\n",
      "                           'precision': 0.8191489361702128,\n",
      "                           'recall': 0.326271186440678},\n",
      "    'nr_syllable_3khz': {   'auc_pr': 0.8471020139010008,\n",
      "                            'f1': 0.7012987012987013,\n",
      "                            'precision': 0.9246575342465754,\n",
      "                            'recall': 0.5648535564853556},\n",
      "    'triangle_3khz': {   'auc_pr': 0.39258994809265,\n",
      "                         'f1': 0.4365482233502538,\n",
      "                         'precision': 0.4387755102040816,\n",
      "                         'recall': 0.43434343434343436},\n",
      "    'upsweep_500hz': {   'auc_pr': 0.6098775647335496,\n",
      "                         'f1': 0.5692307692307692,\n",
      "                         'precision': 0.7184466019417476,\n",
      "                         'recall': 0.4713375796178344}}\n"
     ]
    },
    {
     "name": "stderr",
     "output_type": "stream",
     "text": [
      " 23%|██████████████████████████████▌                                                                                                      | 46/200 [15:55<53:32, 20.86s/it]"
     ]
    },
    {
     "name": "stdout",
     "output_type": "stream",
     "text": [
      "Query no. 47/200\n",
      "22/22 - 1s - 55ms/step - auc_pr: 0.6128 - loss: 0.0158 - precision: 0.8000 - recall: 0.4706\n",
      "evaluating ..\n",
      "1323/1323 - 17s - 13ms/step\n",
      "{   'fast_trill_6khz': {   'auc_pr': 0.5868015649480215,\n",
      "                           'f1': 0.5557986870897156,\n",
      "                           'precision': 0.5746606334841629,\n",
      "                           'recall': 0.538135593220339},\n",
      "    'nr_syllable_3khz': {   'auc_pr': 0.8738461707373859,\n",
      "                            'f1': 0.814498933901919,\n",
      "                            'precision': 0.8304347826086956,\n",
      "                            'recall': 0.799163179916318},\n",
      "    'triangle_3khz': {   'auc_pr': 0.45358327306729485,\n",
      "                         'f1': 0.417910447761194,\n",
      "                         'precision': 0.8,\n",
      "                         'recall': 0.2828282828282828},\n",
      "    'upsweep_500hz': {   'auc_pr': 0.5889027895108901,\n",
      "                         'f1': 0.546875,\n",
      "                         'precision': 0.7070707070707071,\n",
      "                         'recall': 0.445859872611465}}\n"
     ]
    },
    {
     "name": "stderr",
     "output_type": "stream",
     "text": [
      " 24%|███████████████████████████████▎                                                                                                     | 47/200 [16:16<53:11, 20.86s/it]"
     ]
    },
    {
     "name": "stdout",
     "output_type": "stream",
     "text": [
      "Query no. 48/200\n",
      "22/22 - 1s - 54ms/step - auc_pr: 0.5903 - loss: 0.0127 - precision: 0.6000 - recall: 0.4000\n",
      "evaluating ..\n",
      "1323/1323 - 17s - 13ms/step\n",
      "{   'fast_trill_6khz': {   'auc_pr': 0.7363261441866027,\n",
      "                           'f1': 0.7014613778705637,\n",
      "                           'precision': 0.691358024691358,\n",
      "                           'recall': 0.711864406779661},\n",
      "    'nr_syllable_3khz': {   'auc_pr': 0.8523604781579719,\n",
      "                            'f1': 0.7799043062200957,\n",
      "                            'precision': 0.9106145251396648,\n",
      "                            'recall': 0.6820083682008368},\n",
      "    'triangle_3khz': {   'auc_pr': 0.4744046789926951,\n",
      "                         'f1': 0.384,\n",
      "                         'precision': 0.9230769230769231,\n",
      "                         'recall': 0.24242424242424243},\n",
      "    'upsweep_500hz': {   'auc_pr': 0.6883832513404013,\n",
      "                         'f1': 0.6406685236768802,\n",
      "                         'precision': 0.5693069306930693,\n",
      "                         'recall': 0.732484076433121}}\n"
     ]
    },
    {
     "name": "stderr",
     "output_type": "stream",
     "text": [
      " 24%|███████████████████████████████▉                                                                                                     | 48/200 [16:37<52:51, 20.86s/it]"
     ]
    },
    {
     "name": "stdout",
     "output_type": "stream",
     "text": [
      "Query no. 49/200\n",
      "22/22 - 1s - 54ms/step - auc_pr: 0.8387 - loss: 0.0084 - precision: 0.8000 - recall: 0.7059\n",
      "evaluating ..\n",
      "1323/1323 - 17s - 13ms/step\n",
      "{   'fast_trill_6khz': {   'auc_pr': 0.6620139367464388,\n",
      "                           'f1': 0.6666666666666666,\n",
      "                           'precision': 0.7061611374407583,\n",
      "                           'recall': 0.6313559322033898},\n",
      "    'nr_syllable_3khz': {   'auc_pr': 0.8614965865510855,\n",
      "                            'f1': 0.8211009174311926,\n",
      "                            'precision': 0.9086294416243654,\n",
      "                            'recall': 0.7489539748953975},\n",
      "    'triangle_3khz': {   'auc_pr': 0.42825065249252015,\n",
      "                         'f1': 0.11320754716981132,\n",
      "                         'precision': 0.8571428571428571,\n",
      "                         'recall': 0.06060606060606061},\n",
      "    'upsweep_500hz': {   'auc_pr': 0.6750233406907208,\n",
      "                         'f1': 0.5172413793103449,\n",
      "                         'precision': 0.3698630136986301,\n",
      "                         'recall': 0.8598726114649682}}\n"
     ]
    },
    {
     "name": "stderr",
     "output_type": "stream",
     "text": [
      " 24%|████████████████████████████████▌                                                                                                    | 49/200 [16:58<52:32, 20.88s/it]"
     ]
    },
    {
     "name": "stdout",
     "output_type": "stream",
     "text": [
      "Query no. 50/200\n",
      "22/22 - 1s - 54ms/step - auc_pr: 0.7431 - loss: 0.0095 - precision: 0.8182 - recall: 0.6000\n",
      "evaluating ..\n",
      "1323/1323 - 17s - 13ms/step\n",
      "{   'fast_trill_6khz': {   'auc_pr': 0.7353761189040139,\n",
      "                           'f1': 0.7014218009478673,\n",
      "                           'precision': 0.7956989247311828,\n",
      "                           'recall': 0.6271186440677966},\n",
      "    'nr_syllable_3khz': {   'auc_pr': 0.816210568636283,\n",
      "                            'f1': 0.7643020594965675,\n",
      "                            'precision': 0.8434343434343434,\n",
      "                            'recall': 0.698744769874477},\n",
      "    'triangle_3khz': {   'auc_pr': 0.4911528563751773,\n",
      "                         'f1': 0.5070422535211268,\n",
      "                         'precision': 0.8372093023255814,\n",
      "                         'recall': 0.36363636363636365},\n",
      "    'upsweep_500hz': {   'auc_pr': 0.6688746749525443,\n",
      "                         'f1': 0.6489675516224189,\n",
      "                         'precision': 0.6043956043956044,\n",
      "                         'recall': 0.7006369426751592}}\n"
     ]
    },
    {
     "name": "stderr",
     "output_type": "stream",
     "text": [
      " 25%|█████████████████████████████████▎                                                                                                   | 50/200 [17:18<52:09, 20.86s/it]"
     ]
    },
    {
     "name": "stdout",
     "output_type": "stream",
     "text": [
      "Query no. 51/200\n",
      "22/22 - 1s - 55ms/step - auc_pr: 0.7171 - loss: 0.0078 - precision: 0.8333 - recall: 0.5000\n",
      "evaluating ..\n",
      "1323/1323 - 17s - 13ms/step\n",
      "{   'fast_trill_6khz': {   'auc_pr': 0.5370621376020444,\n",
      "                           'f1': 0.3287671232876712,\n",
      "                           'precision': 0.8571428571428571,\n",
      "                           'recall': 0.2033898305084746},\n",
      "    'nr_syllable_3khz': {   'auc_pr': 0.7973470257249823,\n",
      "                            'f1': 0.5578635014836796,\n",
      "                            'precision': 0.9591836734693877,\n",
      "                            'recall': 0.39330543933054396},\n",
      "    'triangle_3khz': {   'auc_pr': 0.39970135413127583,\n",
      "                         'f1': 0.352,\n",
      "                         'precision': 0.8461538461538461,\n",
      "                         'recall': 0.2222222222222222},\n",
      "    'upsweep_500hz': {   'auc_pr': 0.651738154207975,\n",
      "                         'f1': 0.5529953917050692,\n",
      "                         'precision': 0.4332129963898917,\n",
      "                         'recall': 0.7643312101910829}}\n"
     ]
    },
    {
     "name": "stderr",
     "output_type": "stream",
     "text": [
      " 26%|█████████████████████████████████▉                                                                                                   | 51/200 [17:39<51:51, 20.88s/it]"
     ]
    },
    {
     "name": "stdout",
     "output_type": "stream",
     "text": [
      "Query no. 52/200\n",
      "22/22 - 1s - 54ms/step - auc_pr: 0.6116 - loss: 0.0110 - precision: 0.6000 - recall: 0.5000\n",
      "evaluating ..\n",
      "1323/1323 - 17s - 13ms/step\n",
      "{   'fast_trill_6khz': {   'auc_pr': 0.6758551313370624,\n",
      "                           'f1': 0.5844504021447721,\n",
      "                           'precision': 0.7956204379562044,\n",
      "                           'recall': 0.461864406779661},\n",
      "    'nr_syllable_3khz': {   'auc_pr': 0.8622521716600476,\n",
      "                            'f1': 0.7688442211055276,\n",
      "                            'precision': 0.9622641509433962,\n",
      "                            'recall': 0.6401673640167364},\n",
      "    'triangle_3khz': {   'auc_pr': 0.42232127184294177,\n",
      "                         'f1': 0.4031620553359684,\n",
      "                         'precision': 0.33116883116883117,\n",
      "                         'recall': 0.5151515151515151},\n",
      "    'upsweep_500hz': {   'auc_pr': 0.6569847398200739,\n",
      "                         'f1': 0.5551020408163265,\n",
      "                         'precision': 0.7727272727272727,\n",
      "                         'recall': 0.43312101910828027}}\n"
     ]
    },
    {
     "name": "stderr",
     "output_type": "stream",
     "text": [
      " 26%|██████████████████████████████████▌                                                                                                  | 52/200 [18:00<51:30, 20.88s/it]"
     ]
    },
    {
     "name": "stdout",
     "output_type": "stream",
     "text": [
      "Query no. 53/200\n",
      "22/22 - 1s - 56ms/step - auc_pr: 0.6757 - loss: 0.0157 - precision: 0.9091 - recall: 0.5000\n",
      "evaluating ..\n",
      "1323/1323 - 17s - 13ms/step\n",
      "{   'fast_trill_6khz': {   'auc_pr': 0.7098795587460329,\n",
      "                           'f1': 0.6262135922330098,\n",
      "                           'precision': 0.7329545454545454,\n",
      "                           'recall': 0.5466101694915254},\n",
      "    'nr_syllable_3khz': {   'auc_pr': 0.8758847661187499,\n",
      "                            'f1': 0.795131845841785,\n",
      "                            'precision': 0.7716535433070866,\n",
      "                            'recall': 0.8200836820083682},\n",
      "    'triangle_3khz': {   'auc_pr': 0.5000643541259091,\n",
      "                         'f1': 0.35772357723577236,\n",
      "                         'precision': 0.9166666666666666,\n",
      "                         'recall': 0.2222222222222222},\n",
      "    'upsweep_500hz': {   'auc_pr': 0.6400477761167158,\n",
      "                         'f1': 0.5755395683453237,\n",
      "                         'precision': 0.46153846153846156,\n",
      "                         'recall': 0.7643312101910829}}\n"
     ]
    },
    {
     "name": "stderr",
     "output_type": "stream",
     "text": [
      " 26%|███████████████████████████████████▏                                                                                                 | 53/200 [18:21<51:10, 20.89s/it]"
     ]
    },
    {
     "name": "stdout",
     "output_type": "stream",
     "text": [
      "Query no. 54/200\n",
      "22/22 - 1s - 54ms/step - auc_pr: 0.7070 - loss: 0.0091 - precision: 0.7273 - recall: 0.6154\n",
      "evaluating ..\n",
      "1323/1323 - 17s - 13ms/step\n",
      "{   'fast_trill_6khz': {   'auc_pr': 0.6534143481585202,\n",
      "                           'f1': 0.5222222222222223,\n",
      "                           'precision': 0.7580645161290323,\n",
      "                           'recall': 0.3983050847457627},\n",
      "    'nr_syllable_3khz': {   'auc_pr': 0.8679853661800128,\n",
      "                            'f1': 0.8111587982832618,\n",
      "                            'precision': 0.8325991189427313,\n",
      "                            'recall': 0.7907949790794979},\n",
      "    'triangle_3khz': {   'auc_pr': 0.47549387011417593,\n",
      "                         'f1': 0.288135593220339,\n",
      "                         'precision': 0.8947368421052632,\n",
      "                         'recall': 0.1717171717171717},\n",
      "    'upsweep_500hz': {   'auc_pr': 0.6171838789515952,\n",
      "                         'f1': 0.6241610738255033,\n",
      "                         'precision': 0.6595744680851063,\n",
      "                         'recall': 0.5923566878980892}}\n"
     ]
    },
    {
     "name": "stderr",
     "output_type": "stream",
     "text": [
      " 27%|███████████████████████████████████▉                                                                                                 | 54/200 [18:42<50:52, 20.91s/it]"
     ]
    },
    {
     "name": "stdout",
     "output_type": "stream",
     "text": [
      "Query no. 55/200\n",
      "22/22 - 1s - 56ms/step - auc_pr: 0.7818 - loss: 0.0106 - precision: 0.9000 - recall: 0.5294\n",
      "evaluating ..\n",
      "1323/1323 - 17s - 13ms/step\n",
      "{   'fast_trill_6khz': {   'auc_pr': 0.7123283005318474,\n",
      "                           'f1': 0.6910755148741419,\n",
      "                           'precision': 0.7512437810945274,\n",
      "                           'recall': 0.6398305084745762},\n",
      "    'nr_syllable_3khz': {   'auc_pr': 0.8862578642345462,\n",
      "                            'f1': 0.8584474885844748,\n",
      "                            'precision': 0.9447236180904522,\n",
      "                            'recall': 0.7866108786610879},\n",
      "    'triangle_3khz': {   'auc_pr': 0.4789271737027479,\n",
      "                         'f1': 0.5245901639344263,\n",
      "                         'precision': 0.5714285714285714,\n",
      "                         'recall': 0.48484848484848486},\n",
      "    'upsweep_500hz': {   'auc_pr': 0.6990139038070209,\n",
      "                         'f1': 0.6310160427807486,\n",
      "                         'precision': 0.543778801843318,\n",
      "                         'recall': 0.7515923566878981}}\n"
     ]
    },
    {
     "name": "stderr",
     "output_type": "stream",
     "text": [
      " 28%|████████████████████████████████████▌                                                                                                | 55/200 [19:03<50:32, 20.91s/it]"
     ]
    },
    {
     "name": "stdout",
     "output_type": "stream",
     "text": [
      "Query no. 56/200\n",
      "22/22 - 1s - 54ms/step - auc_pr: 0.7539 - loss: 0.0128 - precision: 0.7500 - recall: 0.6000\n",
      "evaluating ..\n",
      "1323/1323 - 17s - 13ms/step\n",
      "{   'fast_trill_6khz': {   'auc_pr': 0.6288992571052491,\n",
      "                           'f1': 0.5885167464114832,\n",
      "                           'precision': 0.6758241758241759,\n",
      "                           'recall': 0.5211864406779662},\n",
      "    'nr_syllable_3khz': {   'auc_pr': 0.8645360795534552,\n",
      "                            'f1': 0.5826558265582655,\n",
      "                            'precision': 0.4308617234468938,\n",
      "                            'recall': 0.899581589958159},\n",
      "    'triangle_3khz': {   'auc_pr': 0.5079886605379937,\n",
      "                         'f1': 0.5609756097560976,\n",
      "                         'precision': 0.7076923076923077,\n",
      "                         'recall': 0.46464646464646464},\n",
      "    'upsweep_500hz': {   'auc_pr': 0.6900014184196588,\n",
      "                         'f1': 0.6959247648902821,\n",
      "                         'precision': 0.6851851851851852,\n",
      "                         'recall': 0.7070063694267515}}\n"
     ]
    },
    {
     "name": "stderr",
     "output_type": "stream",
     "text": [
      " 28%|█████████████████████████████████████▏                                                                                               | 56/200 [19:24<50:08, 20.89s/it]"
     ]
    },
    {
     "name": "stdout",
     "output_type": "stream",
     "text": [
      "Query no. 57/200\n",
      "22/22 - 1s - 53ms/step - auc_pr: 0.8282 - loss: 0.0071 - precision: 0.8750 - recall: 0.5385\n",
      "evaluating ..\n",
      "1323/1323 - 17s - 13ms/step\n",
      "{   'fast_trill_6khz': {   'auc_pr': 0.6184988039518123,\n",
      "                           'f1': 0.45077105575326215,\n",
      "                           'precision': 0.3130148270181219,\n",
      "                           'recall': 0.8050847457627118},\n",
      "    'nr_syllable_3khz': {   'auc_pr': 0.8743385944276577,\n",
      "                            'f1': 0.8427947598253275,\n",
      "                            'precision': 0.8812785388127854,\n",
      "                            'recall': 0.8075313807531381},\n",
      "    'triangle_3khz': {   'auc_pr': 0.47995905912798187,\n",
      "                         'f1': 0.5340909090909091,\n",
      "                         'precision': 0.6103896103896104,\n",
      "                         'recall': 0.47474747474747475},\n",
      "    'upsweep_500hz': {   'auc_pr': 0.6257518703138759,\n",
      "                         'f1': 0.6030534351145038,\n",
      "                         'precision': 0.7523809523809524,\n",
      "                         'recall': 0.5031847133757962}}\n"
     ]
    },
    {
     "name": "stderr",
     "output_type": "stream",
     "text": [
      " 28%|█████████████████████████████████████▉                                                                                               | 57/200 [19:45<49:51, 20.92s/it]"
     ]
    },
    {
     "name": "stdout",
     "output_type": "stream",
     "text": [
      "Query no. 58/200\n",
      "22/22 - 1s - 56ms/step - auc_pr: 0.4860 - loss: 0.0081 - precision: 0.5000 - recall: 0.2857\n",
      "evaluating ..\n",
      "1323/1323 - 17s - 13ms/step\n",
      "{   'fast_trill_6khz': {   'auc_pr': 0.4699631469724161,\n",
      "                           'f1': 0.44976076555023925,\n",
      "                           'precision': 0.5164835164835165,\n",
      "                           'recall': 0.3983050847457627},\n",
      "    'nr_syllable_3khz': {   'auc_pr': 0.8376117819114769,\n",
      "                            'f1': 0.8113207547169812,\n",
      "                            'precision': 0.9297297297297298,\n",
      "                            'recall': 0.7196652719665272},\n",
      "    'triangle_3khz': {   'auc_pr': 0.46607855853343544,\n",
      "                         'f1': 0.4,\n",
      "                         'precision': 0.3036649214659686,\n",
      "                         'recall': 0.5858585858585859},\n",
      "    'upsweep_500hz': {   'auc_pr': 0.649191103425328,\n",
      "                         'f1': 0.5564516129032258,\n",
      "                         'precision': 0.7582417582417582,\n",
      "                         'recall': 0.4394904458598726}}\n"
     ]
    },
    {
     "name": "stderr",
     "output_type": "stream",
     "text": [
      " 29%|██████████████████████████████████████▌                                                                                              | 58/200 [20:06<49:30, 20.92s/it]"
     ]
    },
    {
     "name": "stdout",
     "output_type": "stream",
     "text": [
      "Query no. 59/200\n",
      "22/22 - 1s - 54ms/step - auc_pr: 0.6906 - loss: 0.0136 - precision: 0.7500 - recall: 0.5000\n",
      "evaluating ..\n",
      "1323/1323 - 17s - 13ms/step\n",
      "{   'fast_trill_6khz': {   'auc_pr': 0.7112388394968047,\n",
      "                           'f1': 0.650088809946714,\n",
      "                           'precision': 0.5596330275229358,\n",
      "                           'recall': 0.7754237288135594},\n",
      "    'nr_syllable_3khz': {   'auc_pr': 0.8592745086283315,\n",
      "                            'f1': 0.8053097345132744,\n",
      "                            'precision': 0.8544600938967136,\n",
      "                            'recall': 0.7615062761506276},\n",
      "    'triangle_3khz': {   'auc_pr': 0.467374325586235,\n",
      "                         'f1': 0.4966442953020134,\n",
      "                         'precision': 0.74,\n",
      "                         'recall': 0.37373737373737376},\n",
      "    'upsweep_500hz': {   'auc_pr': 0.6623823679300943,\n",
      "                         'f1': 0.6273291925465838,\n",
      "                         'precision': 0.6121212121212121,\n",
      "                         'recall': 0.643312101910828}}\n"
     ]
    },
    {
     "name": "stderr",
     "output_type": "stream",
     "text": [
      " 30%|███████████████████████████████████████▏                                                                                             | 59/200 [20:27<49:04, 20.88s/it]"
     ]
    },
    {
     "name": "stdout",
     "output_type": "stream",
     "text": [
      "Query no. 60/200\n",
      "22/22 - 1s - 54ms/step - auc_pr: 0.7090 - loss: 0.0114 - precision: 0.8182 - recall: 0.6429\n",
      "evaluating ..\n",
      "1323/1323 - 17s - 13ms/step\n",
      "{   'fast_trill_6khz': {   'auc_pr': 0.6281718207150829,\n",
      "                           'f1': 0.4446927374301676,\n",
      "                           'precision': 0.30197268588770865,\n",
      "                           'recall': 0.8432203389830508},\n",
      "    'nr_syllable_3khz': {   'auc_pr': 0.820720096641082,\n",
      "                            'f1': 0.6666666666666666,\n",
      "                            'precision': 0.5676470588235294,\n",
      "                            'recall': 0.8075313807531381},\n",
      "    'triangle_3khz': {   'auc_pr': 0.4064382405587359,\n",
      "                         'f1': 0.44047619047619047,\n",
      "                         'precision': 0.5362318840579711,\n",
      "                         'recall': 0.37373737373737376},\n",
      "    'upsweep_500hz': {   'auc_pr': 0.578335635331862,\n",
      "                         'f1': 0.5,\n",
      "                         'precision': 0.7228915662650602,\n",
      "                         'recall': 0.3821656050955414}}\n"
     ]
    },
    {
     "name": "stderr",
     "output_type": "stream",
     "text": [
      " 30%|███████████████████████████████████████▉                                                                                             | 60/200 [20:47<48:47, 20.91s/it]"
     ]
    },
    {
     "name": "stdout",
     "output_type": "stream",
     "text": [
      "Query no. 61/200\n",
      "22/22 - 1s - 53ms/step - auc_pr: 0.6437 - loss: 0.0074 - precision: 0.6000 - recall: 0.6667\n",
      "evaluating ..\n",
      "1323/1323 - 17s - 13ms/step\n",
      "{   'fast_trill_6khz': {   'auc_pr': 0.4857565739475261,\n",
      "                           'f1': 0.506578947368421,\n",
      "                           'precision': 0.41397849462365593,\n",
      "                           'recall': 0.652542372881356},\n",
      "    'nr_syllable_3khz': {   'auc_pr': 0.86524677766567,\n",
      "                            'f1': 0.8369098712446352,\n",
      "                            'precision': 0.8590308370044053,\n",
      "                            'recall': 0.8158995815899581},\n",
      "    'triangle_3khz': {   'auc_pr': 0.37321005142381464,\n",
      "                         'f1': 0.36231884057971014,\n",
      "                         'precision': 0.6410256410256411,\n",
      "                         'recall': 0.25252525252525254},\n",
      "    'upsweep_500hz': {   'auc_pr': 0.599943952777243,\n",
      "                         'f1': 0.45248868778280543,\n",
      "                         'precision': 0.78125,\n",
      "                         'recall': 0.3184713375796178}}\n"
     ]
    },
    {
     "name": "stderr",
     "output_type": "stream",
     "text": [
      " 30%|████████████████████████████████████████▌                                                                                            | 61/200 [21:08<48:19, 20.86s/it]"
     ]
    },
    {
     "name": "stdout",
     "output_type": "stream",
     "text": [
      "Query no. 62/200\n",
      "22/22 - 1s - 53ms/step - auc_pr: 0.5659 - loss: 0.0101 - precision: 0.7500 - recall: 0.3000\n",
      "evaluating ..\n",
      "1323/1323 - 17s - 13ms/step\n",
      "{   'fast_trill_6khz': {   'auc_pr': 0.42687358649846385,\n",
      "                           'f1': 0.4585365853658537,\n",
      "                           'precision': 0.5402298850574713,\n",
      "                           'recall': 0.3983050847457627},\n",
      "    'nr_syllable_3khz': {   'auc_pr': 0.8377743461151882,\n",
      "                            'f1': 0.76,\n",
      "                            'precision': 0.6720257234726688,\n",
      "                            'recall': 0.8744769874476988},\n",
      "    'triangle_3khz': {   'auc_pr': 0.3542631188194002,\n",
      "                         'f1': 0.3698630136986301,\n",
      "                         'precision': 0.574468085106383,\n",
      "                         'recall': 0.2727272727272727},\n",
      "    'upsweep_500hz': {   'auc_pr': 0.6271614168858917,\n",
      "                         'f1': 0.4608294930875576,\n",
      "                         'precision': 0.8333333333333334,\n",
      "                         'recall': 0.3184713375796178}}\n"
     ]
    },
    {
     "name": "stderr",
     "output_type": "stream",
     "text": [
      " 31%|█████████████████████████████████████████▏                                                                                           | 62/200 [21:29<47:53, 20.82s/it]"
     ]
    },
    {
     "name": "stdout",
     "output_type": "stream",
     "text": [
      "Query no. 63/200\n",
      "22/22 - 1s - 53ms/step - auc_pr: 0.7976 - loss: 0.0070 - precision: 0.7000 - recall: 0.5385\n",
      "evaluating ..\n",
      "1323/1323 - 17s - 13ms/step\n",
      "{   'fast_trill_6khz': {   'auc_pr': 0.4960864034960603,\n",
      "                           'f1': 0.5365853658536586,\n",
      "                           'precision': 0.48148148148148145,\n",
      "                           'recall': 0.6059322033898306},\n",
      "    'nr_syllable_3khz': {   'auc_pr': 0.8551582529856206,\n",
      "                            'f1': 0.75,\n",
      "                            'precision': 0.6613418530351438,\n",
      "                            'recall': 0.8661087866108786},\n",
      "    'triangle_3khz': {   'auc_pr': 0.38027156566173,\n",
      "                         'f1': 0.31496062992125984,\n",
      "                         'precision': 0.7142857142857143,\n",
      "                         'recall': 0.20202020202020202},\n",
      "    'upsweep_500hz': {   'auc_pr': 0.6258754770393797,\n",
      "                         'f1': 0.5864661654135338,\n",
      "                         'precision': 0.7155963302752294,\n",
      "                         'recall': 0.4968152866242038}}\n"
     ]
    },
    {
     "name": "stderr",
     "output_type": "stream",
     "text": [
      " 32%|█████████████████████████████████████████▉                                                                                           | 63/200 [21:49<47:19, 20.73s/it]"
     ]
    },
    {
     "name": "stdout",
     "output_type": "stream",
     "text": [
      "Query no. 64/200\n",
      "22/22 - 1s - 54ms/step - auc_pr: 0.6832 - loss: 0.0143 - precision: 0.7143 - recall: 0.5263\n",
      "evaluating ..\n",
      "1323/1323 - 17s - 13ms/step\n",
      "{   'fast_trill_6khz': {   'auc_pr': 0.6509538826582304,\n",
      "                           'f1': 0.6434426229508197,\n",
      "                           'precision': 0.623015873015873,\n",
      "                           'recall': 0.6652542372881356},\n",
      "    'nr_syllable_3khz': {   'auc_pr': 0.8781679448742057,\n",
      "                            'f1': 0.8340425531914893,\n",
      "                            'precision': 0.8484848484848485,\n",
      "                            'recall': 0.8200836820083682},\n",
      "    'triangle_3khz': {   'auc_pr': 0.44135930800064804,\n",
      "                         'f1': 0.42857142857142855,\n",
      "                         'precision': 0.7317073170731707,\n",
      "                         'recall': 0.30303030303030304},\n",
      "    'upsweep_500hz': {   'auc_pr': 0.6654854179189089,\n",
      "                         'f1': 0.6483180428134556,\n",
      "                         'precision': 0.6235294117647059,\n",
      "                         'recall': 0.6751592356687898}}\n"
     ]
    },
    {
     "name": "stderr",
     "output_type": "stream",
     "text": [
      " 32%|██████████████████████████████████████████▌                                                                                          | 64/200 [22:10<46:47, 20.64s/it]"
     ]
    },
    {
     "name": "stdout",
     "output_type": "stream",
     "text": [
      "Query no. 65/200\n",
      "22/22 - 1s - 54ms/step - auc_pr: 0.6756 - loss: 0.0083 - precision: 0.8571 - recall: 0.6000\n",
      "evaluating ..\n",
      "1323/1323 - 17s - 13ms/step\n",
      "{   'fast_trill_6khz': {   'auc_pr': 0.6675774570817004,\n",
      "                           'f1': 0.5888324873096447,\n",
      "                           'precision': 0.7341772151898734,\n",
      "                           'recall': 0.4915254237288136},\n",
      "    'nr_syllable_3khz': {   'auc_pr': 0.8323416900861668,\n",
      "                            'f1': 0.6720867208672087,\n",
      "                            'precision': 0.9538461538461539,\n",
      "                            'recall': 0.5188284518828452},\n",
      "    'triangle_3khz': {   'auc_pr': 0.46395094406700427,\n",
      "                         'f1': 0.2809917355371901,\n",
      "                         'precision': 0.7727272727272727,\n",
      "                         'recall': 0.1717171717171717},\n",
      "    'upsweep_500hz': {   'auc_pr': 0.6696041724004427,\n",
      "                         'f1': 0.5985915492957746,\n",
      "                         'precision': 0.6692913385826772,\n",
      "                         'recall': 0.5414012738853503}}\n"
     ]
    },
    {
     "name": "stderr",
     "output_type": "stream",
     "text": [
      " 32%|███████████████████████████████████████████▏                                                                                         | 65/200 [22:30<46:17, 20.57s/it]"
     ]
    },
    {
     "name": "stdout",
     "output_type": "stream",
     "text": [
      "Query no. 66/200\n",
      "22/22 - 1s - 53ms/step - auc_pr: 0.3786 - loss: 0.0123 - precision: 0.4000 - recall: 0.2222\n",
      "evaluating ..\n",
      "1323/1323 - 17s - 13ms/step\n",
      "{   'fast_trill_6khz': {   'auc_pr': 0.7183031637222855,\n",
      "                           'f1': 0.5698630136986301,\n",
      "                           'precision': 0.8062015503875969,\n",
      "                           'recall': 0.4406779661016949},\n",
      "    'nr_syllable_3khz': {   'auc_pr': 0.8880979034282916,\n",
      "                            'f1': 0.8087167070217918,\n",
      "                            'precision': 0.9597701149425287,\n",
      "                            'recall': 0.698744769874477},\n",
      "    'triangle_3khz': {   'auc_pr': 0.4430668558883434,\n",
      "                         'f1': 0.36923076923076925,\n",
      "                         'precision': 0.7741935483870968,\n",
      "                         'recall': 0.24242424242424243},\n",
      "    'upsweep_500hz': {   'auc_pr': 0.602163201010523,\n",
      "                         'f1': 0.484304932735426,\n",
      "                         'precision': 0.8181818181818182,\n",
      "                         'recall': 0.34394904458598724}}\n"
     ]
    },
    {
     "name": "stderr",
     "output_type": "stream",
     "text": [
      " 33%|███████████████████████████████████████████▉                                                                                         | 66/200 [22:51<45:52, 20.54s/it]"
     ]
    },
    {
     "name": "stdout",
     "output_type": "stream",
     "text": [
      "Query no. 67/200\n",
      "22/22 - 1s - 52ms/step - auc_pr: 0.7612 - loss: 0.0102 - precision: 1.0000 - recall: 0.4167\n",
      "evaluating ..\n",
      "1323/1323 - 17s - 13ms/step\n",
      "{   'fast_trill_6khz': {   'auc_pr': 0.7446052742403081,\n",
      "                           'f1': 0.6866359447004609,\n",
      "                           'precision': 0.7525252525252525,\n",
      "                           'recall': 0.6313559322033898},\n",
      "    'nr_syllable_3khz': {   'auc_pr': 0.8806946740005637,\n",
      "                            'f1': 0.8317757009345794,\n",
      "                            'precision': 0.9417989417989417,\n",
      "                            'recall': 0.7447698744769874},\n",
      "    'triangle_3khz': {   'auc_pr': 0.456173592658529,\n",
      "                         'f1': 0.368,\n",
      "                         'precision': 0.8846153846153846,\n",
      "                         'recall': 0.23232323232323232},\n",
      "    'upsweep_500hz': {   'auc_pr': 0.5946577879741716,\n",
      "                         'f1': 0.5870307167235495,\n",
      "                         'precision': 0.6323529411764706,\n",
      "                         'recall': 0.5477707006369427}}\n"
     ]
    },
    {
     "name": "stderr",
     "output_type": "stream",
     "text": [
      " 34%|████████████████████████████████████████████▌                                                                                        | 67/200 [23:11<45:26, 20.50s/it]"
     ]
    },
    {
     "name": "stdout",
     "output_type": "stream",
     "text": [
      "Query no. 68/200\n",
      "22/22 - 1s - 52ms/step - auc_pr: 0.7025 - loss: 0.0093 - precision: 0.6667 - recall: 0.6667\n",
      "evaluating ..\n",
      "1323/1323 - 17s - 13ms/step\n",
      "{   'fast_trill_6khz': {   'auc_pr': 0.736819766611723,\n",
      "                           'f1': 0.6149732620320856,\n",
      "                           'precision': 0.8333333333333334,\n",
      "                           'recall': 0.4872881355932203},\n",
      "    'nr_syllable_3khz': {   'auc_pr': 0.8823722437268395,\n",
      "                            'f1': 0.8375286041189931,\n",
      "                            'precision': 0.9242424242424242,\n",
      "                            'recall': 0.7656903765690377},\n",
      "    'triangle_3khz': {   'auc_pr': 0.4782767291317381,\n",
      "                         'f1': 0.42105263157894735,\n",
      "                         'precision': 0.8235294117647058,\n",
      "                         'recall': 0.2828282828282828},\n",
      "    'upsweep_500hz': {   'auc_pr': 0.6155126780373279,\n",
      "                         'f1': 0.6024096385542169,\n",
      "                         'precision': 0.5714285714285714,\n",
      "                         'recall': 0.6369426751592356}}\n"
     ]
    },
    {
     "name": "stderr",
     "output_type": "stream",
     "text": [
      " 34%|█████████████████████████████████████████████▏                                                                                       | 68/200 [23:32<45:00, 20.46s/it]"
     ]
    },
    {
     "name": "stdout",
     "output_type": "stream",
     "text": [
      "Query no. 69/200\n",
      "22/22 - 1s - 54ms/step - auc_pr: 0.8199 - loss: 0.0077 - precision: 0.8182 - recall: 0.6000\n",
      "evaluating ..\n",
      "1323/1323 - 17s - 13ms/step\n",
      "{   'fast_trill_6khz': {   'auc_pr': 0.6624132578053258,\n",
      "                           'f1': 0.6225402504472272,\n",
      "                           'precision': 0.5386996904024768,\n",
      "                           'recall': 0.7372881355932204},\n",
      "    'nr_syllable_3khz': {   'auc_pr': 0.9023818478967908,\n",
      "                            'f1': 0.8654708520179372,\n",
      "                            'precision': 0.9323671497584541,\n",
      "                            'recall': 0.8075313807531381},\n",
      "    'triangle_3khz': {   'auc_pr': 0.47689926351265377,\n",
      "                         'f1': 0.5,\n",
      "                         'precision': 0.7551020408163265,\n",
      "                         'recall': 0.37373737373737376},\n",
      "    'upsweep_500hz': {   'auc_pr': 0.5630627664641715,\n",
      "                         'f1': 0.5575757575757576,\n",
      "                         'precision': 0.5317919075144508,\n",
      "                         'recall': 0.5859872611464968}}\n"
     ]
    },
    {
     "name": "stderr",
     "output_type": "stream",
     "text": [
      " 34%|█████████████████████████████████████████████▉                                                                                       | 69/200 [23:52<44:42, 20.48s/it]"
     ]
    },
    {
     "name": "stdout",
     "output_type": "stream",
     "text": [
      "Query no. 70/200\n",
      "22/22 - 1s - 52ms/step - auc_pr: 0.6172 - loss: 0.0101 - precision: 0.6667 - recall: 0.5000\n",
      "evaluating ..\n",
      "1323/1323 - 17s - 13ms/step\n",
      "{   'fast_trill_6khz': {   'auc_pr': 0.6941772926170159,\n",
      "                           'f1': 0.6196473551637279,\n",
      "                           'precision': 0.7639751552795031,\n",
      "                           'recall': 0.5211864406779662},\n",
      "    'nr_syllable_3khz': {   'auc_pr': 0.88984694924459,\n",
      "                            'f1': 0.8517745302713987,\n",
      "                            'precision': 0.85,\n",
      "                            'recall': 0.8535564853556485},\n",
      "    'triangle_3khz': {   'auc_pr': 0.48994030645155345,\n",
      "                         'f1': 0.4897959183673469,\n",
      "                         'precision': 0.75,\n",
      "                         'recall': 0.36363636363636365},\n",
      "    'upsweep_500hz': {   'auc_pr': 0.6249414127617906,\n",
      "                         'f1': 0.5617977528089888,\n",
      "                         'precision': 0.6818181818181818,\n",
      "                         'recall': 0.47770700636942676}}\n"
     ]
    },
    {
     "name": "stderr",
     "output_type": "stream",
     "text": [
      " 35%|██████████████████████████████████████████████▌                                                                                      | 70/200 [24:13<44:19, 20.46s/it]"
     ]
    },
    {
     "name": "stdout",
     "output_type": "stream",
     "text": [
      "Query no. 71/200\n",
      "22/22 - 1s - 54ms/step - auc_pr: 0.8402 - loss: 0.0045 - precision: 1.0000 - recall: 0.6250\n",
      "evaluating ..\n",
      "1323/1323 - 17s - 13ms/step\n",
      "{   'fast_trill_6khz': {   'auc_pr': 0.7170526151908037,\n",
      "                           'f1': 0.6828193832599119,\n",
      "                           'precision': 0.7110091743119266,\n",
      "                           'recall': 0.6567796610169492},\n",
      "    'nr_syllable_3khz': {   'auc_pr': 0.9061655088964415,\n",
      "                            'f1': 0.8457943925233645,\n",
      "                            'precision': 0.9576719576719577,\n",
      "                            'recall': 0.7573221757322176},\n",
      "    'triangle_3khz': {   'auc_pr': 0.4772512215192682,\n",
      "                         'f1': 0.3969465648854962,\n",
      "                         'precision': 0.8125,\n",
      "                         'recall': 0.26262626262626265},\n",
      "    'upsweep_500hz': {   'auc_pr': 0.6419266482144975,\n",
      "                         'f1': 0.6120996441281139,\n",
      "                         'precision': 0.6935483870967742,\n",
      "                         'recall': 0.5477707006369427}}\n"
     ]
    },
    {
     "name": "stderr",
     "output_type": "stream",
     "text": [
      " 36%|███████████████████████████████████████████████▏                                                                                     | 71/200 [24:33<43:57, 20.45s/it]"
     ]
    },
    {
     "name": "stdout",
     "output_type": "stream",
     "text": [
      "Query no. 72/200\n",
      "22/22 - 1s - 54ms/step - auc_pr: 0.5572 - loss: 0.0093 - precision: 0.7143 - recall: 0.5000\n",
      "evaluating ..\n",
      "1323/1323 - 17s - 13ms/step\n",
      "{   'fast_trill_6khz': {   'auc_pr': 0.6718517096486659,\n",
      "                           'f1': 0.5813333333333334,\n",
      "                           'precision': 0.7841726618705036,\n",
      "                           'recall': 0.461864406779661},\n",
      "    'nr_syllable_3khz': {   'auc_pr': 0.8960873156752996,\n",
      "                            'f1': 0.8511627906976744,\n",
      "                            'precision': 0.9581151832460733,\n",
      "                            'recall': 0.7656903765690377},\n",
      "    'triangle_3khz': {   'auc_pr': 0.45510542024139783,\n",
      "                         'f1': 0.45454545454545453,\n",
      "                         'precision': 0.4132231404958678,\n",
      "                         'recall': 0.5050505050505051},\n",
      "    'upsweep_500hz': {   'auc_pr': 0.6432739101256896,\n",
      "                         'f1': 0.4485981308411215,\n",
      "                         'precision': 0.8421052631578947,\n",
      "                         'recall': 0.3057324840764331}}\n"
     ]
    },
    {
     "name": "stderr",
     "output_type": "stream",
     "text": [
      " 36%|███████████████████████████████████████████████▉                                                                                     | 72/200 [24:53<43:38, 20.46s/it]"
     ]
    },
    {
     "name": "stdout",
     "output_type": "stream",
     "text": [
      "Query no. 73/200\n",
      "22/22 - 1s - 53ms/step - auc_pr: 0.7074 - loss: 0.0113 - precision: 1.0000 - recall: 0.4286\n",
      "evaluating ..\n",
      "1323/1323 - 17s - 13ms/step\n",
      "{   'fast_trill_6khz': {   'auc_pr': 0.6966860665383544,\n",
      "                           'f1': 0.654275092936803,\n",
      "                           'precision': 0.5827814569536424,\n",
      "                           'recall': 0.7457627118644068},\n",
      "    'nr_syllable_3khz': {   'auc_pr': 0.8855543086458255,\n",
      "                            'f1': 0.77882797731569,\n",
      "                            'precision': 0.7103448275862069,\n",
      "                            'recall': 0.8619246861924686},\n",
      "    'triangle_3khz': {   'auc_pr': 0.49643318484078497,\n",
      "                         'f1': 0.5363128491620112,\n",
      "                         'precision': 0.6,\n",
      "                         'recall': 0.48484848484848486},\n",
      "    'upsweep_500hz': {   'auc_pr': 0.682447069922865,\n",
      "                         'f1': 0.5779467680608364,\n",
      "                         'precision': 0.7169811320754716,\n",
      "                         'recall': 0.4840764331210191}}\n"
     ]
    },
    {
     "name": "stderr",
     "output_type": "stream",
     "text": [
      " 36%|████████████████████████████████████████████████▌                                                                                    | 73/200 [25:14<43:14, 20.43s/it]"
     ]
    },
    {
     "name": "stdout",
     "output_type": "stream",
     "text": [
      "Query no. 74/200\n",
      "22/22 - 1s - 53ms/step - auc_pr: 0.9103 - loss: 0.0050 - precision: 0.9167 - recall: 0.8462\n",
      "evaluating ..\n",
      "1323/1323 - 17s - 13ms/step\n",
      "{   'fast_trill_6khz': {   'auc_pr': 0.5846385445140122,\n",
      "                           'f1': 0.5027322404371585,\n",
      "                           'precision': 0.7076923076923077,\n",
      "                           'recall': 0.3898305084745763},\n",
      "    'nr_syllable_3khz': {   'auc_pr': 0.8788720102351275,\n",
      "                            'f1': 0.7617328519855595,\n",
      "                            'precision': 0.6698412698412698,\n",
      "                            'recall': 0.8828451882845189},\n",
      "    'triangle_3khz': {   'auc_pr': 0.5043512464238569,\n",
      "                         'f1': 0.5641025641025641,\n",
      "                         'precision': 0.7719298245614035,\n",
      "                         'recall': 0.4444444444444444},\n",
      "    'upsweep_500hz': {   'auc_pr': 0.6553191564171366,\n",
      "                         'f1': 0.6064981949458483,\n",
      "                         'precision': 0.7,\n",
      "                         'recall': 0.535031847133758}}\n"
     ]
    },
    {
     "name": "stderr",
     "output_type": "stream",
     "text": [
      " 37%|█████████████████████████████████████████████████▏                                                                                   | 74/200 [25:34<42:52, 20.42s/it]"
     ]
    },
    {
     "name": "stdout",
     "output_type": "stream",
     "text": [
      "Query no. 75/200\n",
      "22/22 - 1s - 55ms/step - auc_pr: 0.6664 - loss: 0.0071 - precision: 0.8000 - recall: 0.4444\n",
      "evaluating ..\n",
      "1323/1323 - 17s - 13ms/step\n",
      "{   'fast_trill_6khz': {   'auc_pr': 0.6921499098679873,\n",
      "                           'f1': 0.6696428571428571,\n",
      "                           'precision': 0.7075471698113207,\n",
      "                           'recall': 0.635593220338983},\n",
      "    'nr_syllable_3khz': {   'auc_pr': 0.8844222176729117,\n",
      "                            'f1': 0.7906976744186046,\n",
      "                            'precision': 0.7364620938628159,\n",
      "                            'recall': 0.8535564853556485},\n",
      "    'triangle_3khz': {   'auc_pr': 0.47508385288565613,\n",
      "                         'f1': 0.5142857142857142,\n",
      "                         'precision': 0.4864864864864865,\n",
      "                         'recall': 0.5454545454545454},\n",
      "    'upsweep_500hz': {   'auc_pr': 0.692026375964948,\n",
      "                         'f1': 0.6489675516224189,\n",
      "                         'precision': 0.6043956043956044,\n",
      "                         'recall': 0.7006369426751592}}\n"
     ]
    },
    {
     "name": "stderr",
     "output_type": "stream",
     "text": [
      " 38%|█████████████████████████████████████████████████▉                                                                                   | 75/200 [25:55<42:36, 20.45s/it]"
     ]
    },
    {
     "name": "stdout",
     "output_type": "stream",
     "text": [
      "Query no. 76/200\n",
      "22/22 - 1s - 54ms/step - auc_pr: 0.9041 - loss: 0.0048 - precision: 0.9000 - recall: 0.6923\n",
      "evaluating ..\n",
      "1323/1323 - 17s - 13ms/step\n",
      "{   'fast_trill_6khz': {   'auc_pr': 0.7074461549703485,\n",
      "                           'f1': 0.6744639376218323,\n",
      "                           'precision': 0.6245487364620939,\n",
      "                           'recall': 0.7330508474576272},\n",
      "    'nr_syllable_3khz': {   'auc_pr': 0.8849219220086665,\n",
      "                            'f1': 0.7697974217311234,\n",
      "                            'precision': 0.6875,\n",
      "                            'recall': 0.8744769874476988},\n",
      "    'triangle_3khz': {   'auc_pr': 0.47702598548620506,\n",
      "                         'f1': 0.45528455284552843,\n",
      "                         'precision': 0.38095238095238093,\n",
      "                         'recall': 0.5656565656565656},\n",
      "    'upsweep_500hz': {   'auc_pr': 0.7085407861462334,\n",
      "                         'f1': 0.6625766871165644,\n",
      "                         'precision': 0.6390532544378699,\n",
      "                         'recall': 0.6878980891719745}}\n"
     ]
    },
    {
     "name": "stderr",
     "output_type": "stream",
     "text": [
      " 38%|██████████████████████████████████████████████████▌                                                                                  | 76/200 [26:15<42:13, 20.43s/it]"
     ]
    },
    {
     "name": "stdout",
     "output_type": "stream",
     "text": [
      "Query no. 77/200\n",
      "22/22 - 1s - 52ms/step - auc_pr: 0.6683 - loss: 0.0128 - precision: 0.6000 - recall: 0.5625\n",
      "evaluating ..\n",
      "1323/1323 - 17s - 13ms/step\n",
      "{   'fast_trill_6khz': {   'auc_pr': 0.5890491545976069,\n",
      "                           'f1': 0.3987138263665595,\n",
      "                           'precision': 0.8266666666666667,\n",
      "                           'recall': 0.2627118644067797},\n",
      "    'nr_syllable_3khz': {   'auc_pr': 0.8883619949124163,\n",
      "                            'f1': 0.8221343873517787,\n",
      "                            'precision': 0.7790262172284644,\n",
      "                            'recall': 0.8702928870292888},\n",
      "    'triangle_3khz': {   'auc_pr': 0.45967401958725995,\n",
      "                         'f1': 0.5142857142857142,\n",
      "                         'precision': 0.5921052631578947,\n",
      "                         'recall': 0.45454545454545453},\n",
      "    'upsweep_500hz': {   'auc_pr': 0.687044905963744,\n",
      "                         'f1': 0.6279863481228669,\n",
      "                         'precision': 0.6764705882352942,\n",
      "                         'recall': 0.5859872611464968}}\n"
     ]
    },
    {
     "name": "stderr",
     "output_type": "stream",
     "text": [
      " 38%|███████████████████████████████████████████████████▏                                                                                 | 77/200 [26:35<41:50, 20.41s/it]"
     ]
    },
    {
     "name": "stdout",
     "output_type": "stream",
     "text": [
      "Query no. 78/200\n",
      "22/22 - 1s - 55ms/step - auc_pr: 0.5347 - loss: 0.0109 - precision: 0.6667 - recall: 0.5455\n",
      "evaluating ..\n",
      "1323/1323 - 17s - 13ms/step\n",
      "{   'fast_trill_6khz': {   'auc_pr': 0.5121443014195809,\n",
      "                           'f1': 0.3510971786833856,\n",
      "                           'precision': 0.6746987951807228,\n",
      "                           'recall': 0.23728813559322035},\n",
      "    'nr_syllable_3khz': {   'auc_pr': 0.8626275801001154,\n",
      "                            'f1': 0.8293838862559242,\n",
      "                            'precision': 0.9562841530054644,\n",
      "                            'recall': 0.7322175732217573},\n",
      "    'triangle_3khz': {   'auc_pr': 0.4659299809408293,\n",
      "                         'f1': 0.5095541401273885,\n",
      "                         'precision': 0.6896551724137931,\n",
      "                         'recall': 0.40404040404040403},\n",
      "    'upsweep_500hz': {   'auc_pr': 0.654014240229876,\n",
      "                         'f1': 0.6030769230769231,\n",
      "                         'precision': 0.5833333333333334,\n",
      "                         'recall': 0.6242038216560509}}\n"
     ]
    },
    {
     "name": "stderr",
     "output_type": "stream",
     "text": [
      " 39%|███████████████████████████████████████████████████▊                                                                                 | 78/200 [26:56<41:32, 20.43s/it]"
     ]
    },
    {
     "name": "stdout",
     "output_type": "stream",
     "text": [
      "Query no. 79/200\n",
      "22/22 - 1s - 52ms/step - auc_pr: 0.7801 - loss: 0.0097 - precision: 0.7857 - recall: 0.5500\n",
      "evaluating ..\n",
      "1323/1323 - 17s - 13ms/step\n",
      "{   'fast_trill_6khz': {   'auc_pr': 0.7346839092154778,\n",
      "                           'f1': 0.6337662337662338,\n",
      "                           'precision': 0.8187919463087249,\n",
      "                           'recall': 0.5169491525423728},\n",
      "    'nr_syllable_3khz': {   'auc_pr': 0.8665283147741859,\n",
      "                            'f1': 0.8106796116504854,\n",
      "                            'precision': 0.9653179190751445,\n",
      "                            'recall': 0.698744769874477},\n",
      "    'triangle_3khz': {   'auc_pr': 0.5038417603609274,\n",
      "                         'f1': 0.39322033898305087,\n",
      "                         'precision': 0.29591836734693877,\n",
      "                         'recall': 0.5858585858585859},\n",
      "    'upsweep_500hz': {   'auc_pr': 0.631020767890478,\n",
      "                         'f1': 0.5560165975103735,\n",
      "                         'precision': 0.7976190476190477,\n",
      "                         'recall': 0.4267515923566879}}\n"
     ]
    },
    {
     "name": "stderr",
     "output_type": "stream",
     "text": [
      " 40%|████████████████████████████████████████████████████▌                                                                                | 79/200 [27:16<41:09, 20.41s/it]"
     ]
    },
    {
     "name": "stdout",
     "output_type": "stream",
     "text": [
      "Query no. 80/200\n",
      "22/22 - 1s - 53ms/step - auc_pr: 0.6999 - loss: 0.0093 - precision: 0.8000 - recall: 0.6154\n",
      "evaluating ..\n",
      "1323/1323 - 17s - 13ms/step\n",
      "{   'fast_trill_6khz': {   'auc_pr': 0.7347818689607128,\n",
      "                           'f1': 0.6534653465346535,\n",
      "                           'precision': 0.7857142857142857,\n",
      "                           'recall': 0.559322033898305},\n",
      "    'nr_syllable_3khz': {   'auc_pr': 0.8758270834563993,\n",
      "                            'f1': 0.7890818858560794,\n",
      "                            'precision': 0.9695121951219512,\n",
      "                            'recall': 0.6652719665271967},\n",
      "    'triangle_3khz': {   'auc_pr': 0.4961625651005166,\n",
      "                         'f1': 0.45925925925925926,\n",
      "                         'precision': 0.8611111111111112,\n",
      "                         'recall': 0.31313131313131315},\n",
      "    'upsweep_500hz': {   'auc_pr': 0.6543316302457259,\n",
      "                         'f1': 0.6121212121212121,\n",
      "                         'precision': 0.5838150289017341,\n",
      "                         'recall': 0.643312101910828}}\n"
     ]
    },
    {
     "name": "stderr",
     "output_type": "stream",
     "text": [
      " 40%|█████████████████████████████████████████████████████▏                                                                               | 80/200 [27:37<40:50, 20.42s/it]"
     ]
    },
    {
     "name": "stdout",
     "output_type": "stream",
     "text": [
      "Query no. 81/200\n",
      "22/22 - 1s - 54ms/step - auc_pr: 0.7323 - loss: 0.0122 - precision: 0.7500 - recall: 0.5625\n",
      "evaluating ..\n",
      "1323/1323 - 17s - 13ms/step\n",
      "{   'fast_trill_6khz': {   'auc_pr': 0.7400225785932181,\n",
      "                           'f1': 0.6969072164948453,\n",
      "                           'precision': 0.678714859437751,\n",
      "                           'recall': 0.7161016949152542},\n",
      "    'nr_syllable_3khz': {   'auc_pr': 0.8540968018273104,\n",
      "                            'f1': 0.8382687927107062,\n",
      "                            'precision': 0.92,\n",
      "                            'recall': 0.7698744769874477},\n",
      "    'triangle_3khz': {   'auc_pr': 0.49169913401733756,\n",
      "                         'f1': 0.5517241379310345,\n",
      "                         'precision': 0.64,\n",
      "                         'recall': 0.48484848484848486},\n",
      "    'upsweep_500hz': {   'auc_pr': 0.5811353293714827,\n",
      "                         'f1': 0.5254237288135594,\n",
      "                         'precision': 0.7848101265822784,\n",
      "                         'recall': 0.39490445859872614}}\n"
     ]
    },
    {
     "name": "stderr",
     "output_type": "stream",
     "text": [
      " 40%|█████████████████████████████████████████████████████▊                                                                               | 81/200 [27:57<40:29, 20.42s/it]"
     ]
    },
    {
     "name": "stdout",
     "output_type": "stream",
     "text": [
      "Query no. 82/200\n",
      "22/22 - 1s - 55ms/step - auc_pr: 0.7892 - loss: 0.0065 - precision: 0.6667 - recall: 0.6667\n",
      "evaluating ..\n",
      "1323/1323 - 17s - 13ms/step\n",
      "{   'fast_trill_6khz': {   'auc_pr': 0.7136301563995692,\n",
      "                           'f1': 0.6437994722955145,\n",
      "                           'precision': 0.8531468531468531,\n",
      "                           'recall': 0.5169491525423728},\n",
      "    'nr_syllable_3khz': {   'auc_pr': 0.8485780510662579,\n",
      "                            'f1': 0.6384180790960452,\n",
      "                            'precision': 0.9826086956521739,\n",
      "                            'recall': 0.47280334728033474},\n",
      "    'triangle_3khz': {   'auc_pr': 0.4765057712479123,\n",
      "                         'f1': 0.40714285714285714,\n",
      "                         'precision': 0.3149171270718232,\n",
      "                         'recall': 0.5757575757575758},\n",
      "    'upsweep_500hz': {   'auc_pr': 0.5731259686410209,\n",
      "                         'f1': 0.5454545454545454,\n",
      "                         'precision': 0.7764705882352941,\n",
      "                         'recall': 0.42038216560509556}}\n"
     ]
    },
    {
     "name": "stderr",
     "output_type": "stream",
     "text": [
      " 41%|██████████████████████████████████████████████████████▌                                                                              | 82/200 [28:18<40:11, 20.43s/it]"
     ]
    },
    {
     "name": "stdout",
     "output_type": "stream",
     "text": [
      "Query no. 83/200\n",
      "22/22 - 1s - 53ms/step - auc_pr: 0.5552 - loss: 0.0103 - precision: 0.5714 - recall: 0.4000\n",
      "evaluating ..\n",
      "1323/1323 - 17s - 13ms/step\n",
      "{   'fast_trill_6khz': {   'auc_pr': 0.7471607164682837,\n",
      "                           'f1': 0.6086956521739131,\n",
      "                           'precision': 0.8484848484848485,\n",
      "                           'recall': 0.4745762711864407},\n",
      "    'nr_syllable_3khz': {   'auc_pr': 0.8567767696618722,\n",
      "                            'f1': 0.6989247311827957,\n",
      "                            'precision': 0.9774436090225563,\n",
      "                            'recall': 0.5439330543933054},\n",
      "    'triangle_3khz': {   'auc_pr': 0.48717810661248323,\n",
      "                         'f1': 0.5222929936305732,\n",
      "                         'precision': 0.7068965517241379,\n",
      "                         'recall': 0.41414141414141414},\n",
      "    'upsweep_500hz': {   'auc_pr': 0.6421290913537964,\n",
      "                         'f1': 0.6,\n",
      "                         'precision': 0.6829268292682927,\n",
      "                         'recall': 0.535031847133758}}\n"
     ]
    },
    {
     "name": "stderr",
     "output_type": "stream",
     "text": [
      " 42%|███████████████████████████████████████████████████████▏                                                                             | 83/200 [28:38<39:51, 20.44s/it]"
     ]
    },
    {
     "name": "stdout",
     "output_type": "stream",
     "text": [
      "Query no. 84/200\n",
      "22/22 - 1s - 56ms/step - auc_pr: 0.7647 - loss: 0.0091 - precision: 0.7778 - recall: 0.4667\n",
      "evaluating ..\n",
      "1323/1323 - 17s - 13ms/step\n",
      "{   'fast_trill_6khz': {   'auc_pr': 0.7325935116138096,\n",
      "                           'f1': 0.7088607594936709,\n",
      "                           'precision': 0.7058823529411765,\n",
      "                           'recall': 0.711864406779661},\n",
      "    'nr_syllable_3khz': {   'auc_pr': 0.8811351636883585,\n",
      "                            'f1': 0.8367816091954023,\n",
      "                            'precision': 0.9285714285714286,\n",
      "                            'recall': 0.7615062761506276},\n",
      "    'triangle_3khz': {   'auc_pr': 0.5011577410975182,\n",
      "                         'f1': 0.5205479452054794,\n",
      "                         'precision': 0.8085106382978723,\n",
      "                         'recall': 0.3838383838383838},\n",
      "    'upsweep_500hz': {   'auc_pr': 0.6388148067539152,\n",
      "                         'f1': 0.5882352941176471,\n",
      "                         'precision': 0.49145299145299143,\n",
      "                         'recall': 0.732484076433121}}\n"
     ]
    },
    {
     "name": "stderr",
     "output_type": "stream",
     "text": [
      " 42%|███████████████████████████████████████████████████████▊                                                                             | 84/200 [28:59<39:32, 20.46s/it]"
     ]
    },
    {
     "name": "stdout",
     "output_type": "stream",
     "text": [
      "Query no. 85/200\n",
      "22/22 - 1s - 53ms/step - auc_pr: 0.7393 - loss: 0.0115 - precision: 0.7692 - recall: 0.6667\n",
      "evaluating ..\n",
      "1323/1323 - 17s - 13ms/step\n",
      "{   'fast_trill_6khz': {   'auc_pr': 0.699289525169301,\n",
      "                           'f1': 0.6765432098765433,\n",
      "                           'precision': 0.8106508875739645,\n",
      "                           'recall': 0.5805084745762712},\n",
      "    'nr_syllable_3khz': {   'auc_pr': 0.8379022695274655,\n",
      "                            'f1': 0.75,\n",
      "                            'precision': 0.7880184331797235,\n",
      "                            'recall': 0.7154811715481172},\n",
      "    'triangle_3khz': {   'auc_pr': 0.5346129344121988,\n",
      "                         'f1': 0.5662650602409639,\n",
      "                         'precision': 0.7014925373134329,\n",
      "                         'recall': 0.47474747474747475},\n",
      "    'upsweep_500hz': {   'auc_pr': 0.6462671743126376,\n",
      "                         'f1': 0.6272189349112426,\n",
      "                         'precision': 0.585635359116022,\n",
      "                         'recall': 0.6751592356687898}}\n"
     ]
    },
    {
     "name": "stderr",
     "output_type": "stream",
     "text": [
      " 42%|████████████████████████████████████████████████████████▌                                                                            | 85/200 [29:19<39:12, 20.46s/it]"
     ]
    },
    {
     "name": "stdout",
     "output_type": "stream",
     "text": [
      "Query no. 86/200\n",
      "22/22 - 1s - 57ms/step - auc_pr: 0.7764 - loss: 0.0094 - precision: 0.9000 - recall: 0.6000\n",
      "evaluating ..\n",
      "1323/1323 - 17s - 13ms/step\n",
      "{   'fast_trill_6khz': {   'auc_pr': 0.7315554584810536,\n",
      "                           'f1': 0.7032967032967034,\n",
      "                           'precision': 0.730593607305936,\n",
      "                           'recall': 0.6779661016949152},\n",
      "    'nr_syllable_3khz': {   'auc_pr': 0.8692887790944419,\n",
      "                            'f1': 0.7430025445292621,\n",
      "                            'precision': 0.948051948051948,\n",
      "                            'recall': 0.6108786610878661},\n",
      "    'triangle_3khz': {   'auc_pr': 0.5056525735586437,\n",
      "                         'f1': 0.48847926267281105,\n",
      "                         'precision': 0.4491525423728814,\n",
      "                         'recall': 0.5353535353535354},\n",
      "    'upsweep_500hz': {   'auc_pr': 0.6784499159493073,\n",
      "                         'f1': 0.6445182724252492,\n",
      "                         'precision': 0.6736111111111112,\n",
      "                         'recall': 0.6178343949044586}}\n"
     ]
    },
    {
     "name": "stderr",
     "output_type": "stream",
     "text": [
      " 43%|█████████████████████████████████████████████████████████▏                                                                           | 86/200 [29:40<38:56, 20.49s/it]"
     ]
    },
    {
     "name": "stdout",
     "output_type": "stream",
     "text": [
      "Query no. 87/200\n",
      "22/22 - 1s - 57ms/step - auc_pr: 0.7539 - loss: 0.0103 - precision: 0.7857 - recall: 0.7857\n",
      "evaluating ..\n",
      "1323/1323 - 17s - 13ms/step\n",
      "{   'fast_trill_6khz': {   'auc_pr': 0.7214977605740025,\n",
      "                           'f1': 0.6654929577464789,\n",
      "                           'precision': 0.5692771084337349,\n",
      "                           'recall': 0.8008474576271186},\n",
      "    'nr_syllable_3khz': {   'auc_pr': 0.8870350114624851,\n",
      "                            'f1': 0.7244094488188977,\n",
      "                            'precision': 0.971830985915493,\n",
      "                            'recall': 0.5774058577405857},\n",
      "    'triangle_3khz': {   'auc_pr': 0.5131571179107823,\n",
      "                         'f1': 0.5352112676056338,\n",
      "                         'precision': 0.8837209302325582,\n",
      "                         'recall': 0.3838383838383838},\n",
      "    'upsweep_500hz': {   'auc_pr': 0.6975855077007941,\n",
      "                         'f1': 0.6391752577319587,\n",
      "                         'precision': 0.6940298507462687,\n",
      "                         'recall': 0.5923566878980892}}\n"
     ]
    },
    {
     "name": "stderr",
     "output_type": "stream",
     "text": [
      " 44%|█████████████████████████████████████████████████████████▊                                                                           | 87/200 [30:00<38:35, 20.49s/it]"
     ]
    },
    {
     "name": "stdout",
     "output_type": "stream",
     "text": [
      "Query no. 88/200\n",
      "22/22 - 1s - 54ms/step - auc_pr: 0.6083 - loss: 0.0112 - precision: 0.8182 - recall: 0.6000\n",
      "evaluating ..\n",
      "1323/1323 - 17s - 13ms/step\n",
      "{   'fast_trill_6khz': {   'auc_pr': 0.7050387262160578,\n",
      "                           'f1': 0.6568265682656826,\n",
      "                           'precision': 0.5816993464052288,\n",
      "                           'recall': 0.7542372881355932},\n",
      "    'nr_syllable_3khz': {   'auc_pr': 0.8816755329639294,\n",
      "                            'f1': 0.8502202643171806,\n",
      "                            'precision': 0.8976744186046511,\n",
      "                            'recall': 0.8075313807531381},\n",
      "    'triangle_3khz': {   'auc_pr': 0.46937873443112255,\n",
      "                         'f1': 0.3945578231292517,\n",
      "                         'precision': 0.29743589743589743,\n",
      "                         'recall': 0.5858585858585859},\n",
      "    'upsweep_500hz': {   'auc_pr': 0.6404924261229132,\n",
      "                         'f1': 0.599250936329588,\n",
      "                         'precision': 0.7272727272727273,\n",
      "                         'recall': 0.5095541401273885}}\n"
     ]
    },
    {
     "name": "stderr",
     "output_type": "stream",
     "text": [
      " 44%|██████████████████████████████████████████████████████████▌                                                                          | 88/200 [30:21<38:12, 20.47s/it]"
     ]
    },
    {
     "name": "stdout",
     "output_type": "stream",
     "text": [
      "Query no. 89/200\n",
      "22/22 - 1s - 53ms/step - auc_pr: 0.6526 - loss: 0.0112 - precision: 0.7143 - recall: 0.6250\n",
      "evaluating ..\n",
      "1323/1323 - 17s - 13ms/step\n",
      "{   'fast_trill_6khz': {   'auc_pr': 0.6555519379831998,\n",
      "                           'f1': 0.6173752310536045,\n",
      "                           'precision': 0.5475409836065573,\n",
      "                           'recall': 0.7076271186440678},\n",
      "    'nr_syllable_3khz': {   'auc_pr': 0.8618468675481301,\n",
      "                            'f1': 0.8289473684210527,\n",
      "                            'precision': 0.8709677419354839,\n",
      "                            'recall': 0.7907949790794979},\n",
      "    'triangle_3khz': {   'auc_pr': 0.41881094025985,\n",
      "                         'f1': 0.2631578947368421,\n",
      "                         'precision': 1.0,\n",
      "                         'recall': 0.15151515151515152},\n",
      "    'upsweep_500hz': {   'auc_pr': 0.6164721509522495,\n",
      "                         'f1': 0.5820433436532507,\n",
      "                         'precision': 0.5662650602409639,\n",
      "                         'recall': 0.5987261146496815}}\n"
     ]
    },
    {
     "name": "stderr",
     "output_type": "stream",
     "text": [
      " 44%|███████████████████████████████████████████████████████████▏                                                                         | 89/200 [30:41<37:53, 20.48s/it]"
     ]
    },
    {
     "name": "stdout",
     "output_type": "stream",
     "text": [
      "Query no. 90/200\n",
      "22/22 - 1s - 54ms/step - auc_pr: 0.7205 - loss: 0.0091 - precision: 0.6154 - recall: 0.5714\n",
      "evaluating ..\n",
      "1323/1323 - 17s - 13ms/step\n",
      "{   'fast_trill_6khz': {   'auc_pr': 0.6861211419462858,\n",
      "                           'f1': 0.635593220338983,\n",
      "                           'precision': 0.635593220338983,\n",
      "                           'recall': 0.635593220338983},\n",
      "    'nr_syllable_3khz': {   'auc_pr': 0.8657986908190424,\n",
      "                            'f1': 0.75,\n",
      "                            'precision': 0.6688524590163935,\n",
      "                            'recall': 0.8535564853556485},\n",
      "    'triangle_3khz': {   'auc_pr': 0.4293226344505647,\n",
      "                         'f1': 0.3709677419354839,\n",
      "                         'precision': 0.92,\n",
      "                         'recall': 0.23232323232323232},\n",
      "    'upsweep_500hz': {   'auc_pr': 0.635085748033221,\n",
      "                         'f1': 0.6136363636363636,\n",
      "                         'precision': 0.5538461538461539,\n",
      "                         'recall': 0.6878980891719745}}\n"
     ]
    },
    {
     "name": "stderr",
     "output_type": "stream",
     "text": [
      " 45%|███████████████████████████████████████████████████████████▊                                                                         | 90/200 [31:01<37:30, 20.46s/it]"
     ]
    },
    {
     "name": "stdout",
     "output_type": "stream",
     "text": [
      "Query no. 91/200\n",
      "22/22 - 1s - 54ms/step - auc_pr: 0.5737 - loss: 0.0121 - precision: 0.8889 - recall: 0.5333\n",
      "evaluating ..\n",
      "1323/1323 - 17s - 13ms/step\n",
      "{   'fast_trill_6khz': {   'auc_pr': 0.6720940672793807,\n",
      "                           'f1': 0.6616257088846881,\n",
      "                           'precision': 0.5972696245733788,\n",
      "                           'recall': 0.7415254237288136},\n",
      "    'nr_syllable_3khz': {   'auc_pr': 0.8602173227353593,\n",
      "                            'f1': 0.775894538606403,\n",
      "                            'precision': 0.7054794520547946,\n",
      "                            'recall': 0.8619246861924686},\n",
      "    'triangle_3khz': {   'auc_pr': 0.5383649100834996,\n",
      "                         'f1': 0.5578231292517006,\n",
      "                         'precision': 0.8541666666666666,\n",
      "                         'recall': 0.41414141414141414},\n",
      "    'upsweep_500hz': {   'auc_pr': 0.6649960981827809,\n",
      "                         'f1': 0.6283987915407855,\n",
      "                         'precision': 0.5977011494252874,\n",
      "                         'recall': 0.6624203821656051}}\n"
     ]
    },
    {
     "name": "stderr",
     "output_type": "stream",
     "text": [
      " 46%|████████████████████████████████████████████████████████████▌                                                                        | 91/200 [31:22<37:10, 20.47s/it]"
     ]
    },
    {
     "name": "stdout",
     "output_type": "stream",
     "text": [
      "Query no. 92/200\n",
      "22/22 - 1s - 54ms/step - auc_pr: 0.7358 - loss: 0.0081 - precision: 0.8889 - recall: 0.6667\n",
      "evaluating ..\n",
      "1323/1323 - 17s - 13ms/step\n",
      "{   'fast_trill_6khz': {   'auc_pr': 0.7470889162775691,\n",
      "                           'f1': 0.6878980891719745,\n",
      "                           'precision': 0.6893617021276596,\n",
      "                           'recall': 0.6864406779661016},\n",
      "    'nr_syllable_3khz': {   'auc_pr': 0.8796065009008722,\n",
      "                            'f1': 0.8412371134020619,\n",
      "                            'precision': 0.8292682926829268,\n",
      "                            'recall': 0.8535564853556485},\n",
      "    'triangle_3khz': {   'auc_pr': 0.5613830522787701,\n",
      "                         'f1': 0.5875706214689266,\n",
      "                         'precision': 0.6666666666666666,\n",
      "                         'recall': 0.5252525252525253},\n",
      "    'upsweep_500hz': {   'auc_pr': 0.6686381577380172,\n",
      "                         'f1': 0.6445182724252492,\n",
      "                         'precision': 0.6736111111111112,\n",
      "                         'recall': 0.6178343949044586}}\n"
     ]
    },
    {
     "name": "stderr",
     "output_type": "stream",
     "text": [
      " 46%|█████████████████████████████████████████████████████████████▏                                                                       | 92/200 [31:43<36:56, 20.52s/it]"
     ]
    },
    {
     "name": "stdout",
     "output_type": "stream",
     "text": [
      "Query no. 93/200\n",
      "22/22 - 1s - 54ms/step - auc_pr: 0.6896 - loss: 0.0140 - precision: 0.7143 - recall: 0.5263\n",
      "evaluating ..\n",
      "1323/1323 - 17s - 13ms/step\n",
      "{   'fast_trill_6khz': {   'auc_pr': 0.6935989004535877,\n",
      "                           'f1': 0.6751824817518248,\n",
      "                           'precision': 0.592948717948718,\n",
      "                           'recall': 0.7838983050847458},\n",
      "    'nr_syllable_3khz': {   'auc_pr': 0.8395710252964599,\n",
      "                            'f1': 0.8232758620689655,\n",
      "                            'precision': 0.8488888888888889,\n",
      "                            'recall': 0.799163179916318},\n",
      "    'triangle_3khz': {   'auc_pr': 0.5125831022824964,\n",
      "                         'f1': 0.53125,\n",
      "                         'precision': 0.5483870967741935,\n",
      "                         'recall': 0.5151515151515151},\n",
      "    'upsweep_500hz': {   'auc_pr': 0.6959934111019749,\n",
      "                         'f1': 0.6426426426426426,\n",
      "                         'precision': 0.6079545454545454,\n",
      "                         'recall': 0.6815286624203821}}\n"
     ]
    },
    {
     "name": "stderr",
     "output_type": "stream",
     "text": [
      " 46%|█████████████████████████████████████████████████████████████▊                                                                       | 93/200 [32:03<36:31, 20.48s/it]"
     ]
    },
    {
     "name": "stdout",
     "output_type": "stream",
     "text": [
      "Query no. 94/200\n",
      "22/22 - 1s - 52ms/step - auc_pr: 0.9544 - loss: 0.0050 - precision: 0.9333 - recall: 0.7778\n",
      "evaluating ..\n",
      "1323/1323 - 17s - 13ms/step\n",
      "{   'fast_trill_6khz': {   'auc_pr': 0.7233044328055783,\n",
      "                           'f1': 0.6918238993710691,\n",
      "                           'precision': 0.6846473029045643,\n",
      "                           'recall': 0.6991525423728814},\n",
      "    'nr_syllable_3khz': {   'auc_pr': 0.8387174027395536,\n",
      "                            'f1': 0.8284518828451883,\n",
      "                            'precision': 0.8284518828451883,\n",
      "                            'recall': 0.8284518828451883},\n",
      "    'triangle_3khz': {   'auc_pr': 0.5292339733190986,\n",
      "                         'f1': 0.5373134328358209,\n",
      "                         'precision': 0.5294117647058824,\n",
      "                         'recall': 0.5454545454545454},\n",
      "    'upsweep_500hz': {   'auc_pr': 0.6947151131521141,\n",
      "                         'f1': 0.6304347826086957,\n",
      "                         'precision': 0.5497630331753555,\n",
      "                         'recall': 0.7388535031847133}}\n"
     ]
    },
    {
     "name": "stderr",
     "output_type": "stream",
     "text": [
      " 47%|██████████████████████████████████████████████████████████████▌                                                                      | 94/200 [32:23<36:11, 20.48s/it]"
     ]
    },
    {
     "name": "stdout",
     "output_type": "stream",
     "text": [
      "Query no. 95/200\n",
      "22/22 - 1s - 53ms/step - auc_pr: 0.8615 - loss: 0.0070 - precision: 0.8889 - recall: 0.8000\n",
      "evaluating ..\n",
      "1323/1323 - 17s - 13ms/step\n",
      "{   'fast_trill_6khz': {   'auc_pr': 0.6536926082320451,\n",
      "                           'f1': 0.5739130434782609,\n",
      "                           'precision': 0.43612334801762115,\n",
      "                           'recall': 0.8389830508474576},\n",
      "    'nr_syllable_3khz': {   'auc_pr': 0.8773132349639751,\n",
      "                            'f1': 0.8459958932238193,\n",
      "                            'precision': 0.8306451612903226,\n",
      "                            'recall': 0.8619246861924686},\n",
      "    'triangle_3khz': {   'auc_pr': 0.5411978697112261,\n",
      "                         'f1': 0.5654450261780105,\n",
      "                         'precision': 0.5869565217391305,\n",
      "                         'recall': 0.5454545454545454},\n",
      "    'upsweep_500hz': {   'auc_pr': 0.6576548117517471,\n",
      "                         'f1': 0.63125,\n",
      "                         'precision': 0.6196319018404908,\n",
      "                         'recall': 0.643312101910828}}\n"
     ]
    },
    {
     "name": "stderr",
     "output_type": "stream",
     "text": [
      " 48%|███████████████████████████████████████████████████████████████▏                                                                     | 95/200 [32:44<36:05, 20.62s/it]"
     ]
    },
    {
     "name": "stdout",
     "output_type": "stream",
     "text": [
      "Query no. 96/200\n",
      "22/22 - 1s - 55ms/step - auc_pr: 0.7188 - loss: 0.0105 - precision: 0.6923 - recall: 0.6429\n",
      "evaluating ..\n",
      "1323/1323 - 17s - 13ms/step\n",
      "{   'fast_trill_6khz': {   'auc_pr': 0.603642549883067,\n",
      "                           'f1': 0.529886914378029,\n",
      "                           'precision': 0.4281984334203655,\n",
      "                           'recall': 0.6949152542372882},\n",
      "    'nr_syllable_3khz': {   'auc_pr': 0.8813025658809599,\n",
      "                            'f1': 0.7947269303201506,\n",
      "                            'precision': 0.7226027397260274,\n",
      "                            'recall': 0.8828451882845189},\n",
      "    'triangle_3khz': {   'auc_pr': 0.5530849261884497,\n",
      "                         'f1': 0.593939393939394,\n",
      "                         'precision': 0.7424242424242424,\n",
      "                         'recall': 0.494949494949495},\n",
      "    'upsweep_500hz': {   'auc_pr': 0.5890968970907973,\n",
      "                         'f1': 0.5349794238683128,\n",
      "                         'precision': 0.7558139534883721,\n",
      "                         'recall': 0.4140127388535032}}\n"
     ]
    },
    {
     "name": "stderr",
     "output_type": "stream",
     "text": [
      " 48%|███████████████████████████████████████████████████████████████▊                                                                     | 96/200 [33:05<35:50, 20.68s/it]"
     ]
    },
    {
     "name": "stdout",
     "output_type": "stream",
     "text": [
      "Query no. 97/200\n",
      "22/22 - 1s - 55ms/step - auc_pr: 0.8413 - loss: 0.0057 - precision: 0.8750 - recall: 0.6364\n",
      "evaluating ..\n",
      "1323/1323 - 17s - 13ms/step\n",
      "{   'fast_trill_6khz': {   'auc_pr': 0.6472606863474161,\n",
      "                           'f1': 0.5966850828729282,\n",
      "                           'precision': 0.8571428571428571,\n",
      "                           'recall': 0.4576271186440678},\n",
      "    'nr_syllable_3khz': {   'auc_pr': 0.8792173994840896,\n",
      "                            'f1': 0.8463251670378619,\n",
      "                            'precision': 0.9047619047619048,\n",
      "                            'recall': 0.7949790794979079},\n",
      "    'triangle_3khz': {   'auc_pr': 0.5509566408142418,\n",
      "                         'f1': 0.5824175824175825,\n",
      "                         'precision': 0.6385542168674698,\n",
      "                         'recall': 0.5353535353535354},\n",
      "    'upsweep_500hz': {   'auc_pr': 0.60860107088582,\n",
      "                         'f1': 0.5714285714285714,\n",
      "                         'precision': 0.7578947368421053,\n",
      "                         'recall': 0.4585987261146497}}\n"
     ]
    },
    {
     "name": "stderr",
     "output_type": "stream",
     "text": [
      " 48%|████████████████████████████████████████████████████████████████▌                                                                    | 97/200 [33:26<35:38, 20.76s/it]"
     ]
    },
    {
     "name": "stdout",
     "output_type": "stream",
     "text": [
      "Query no. 98/200\n",
      "22/22 - 1s - 54ms/step - auc_pr: 0.5033 - loss: 0.0150 - precision: 0.8333 - recall: 0.3846\n",
      "evaluating ..\n",
      "1323/1323 - 17s - 13ms/step\n",
      "{   'fast_trill_6khz': {   'auc_pr': 0.7136892760025914,\n",
      "                           'f1': 0.665,\n",
      "                           'precision': 0.8109756097560976,\n",
      "                           'recall': 0.5635593220338984},\n",
      "    'nr_syllable_3khz': {   'auc_pr': 0.8802298323098955,\n",
      "                            'f1': 0.7719298245614035,\n",
      "                            'precision': 0.9625,\n",
      "                            'recall': 0.6443514644351465},\n",
      "    'triangle_3khz': {   'auc_pr': 0.5602323819771531,\n",
      "                         'f1': 0.4452296819787986,\n",
      "                         'precision': 0.3423913043478261,\n",
      "                         'recall': 0.6363636363636364},\n",
      "    'upsweep_500hz': {   'auc_pr': 0.6706606661093379,\n",
      "                         'f1': 0.583732057416268,\n",
      "                         'precision': 0.4674329501915709,\n",
      "                         'recall': 0.7770700636942676}}\n"
     ]
    },
    {
     "name": "stderr",
     "output_type": "stream",
     "text": [
      " 49%|█████████████████████████████████████████████████████████████████▏                                                                   | 98/200 [33:47<35:24, 20.83s/it]"
     ]
    },
    {
     "name": "stdout",
     "output_type": "stream",
     "text": [
      "Query no. 99/200\n",
      "22/22 - 1s - 53ms/step - auc_pr: 0.4686 - loss: 0.0161 - precision: 0.5000 - recall: 0.6154\n",
      "evaluating ..\n",
      "1323/1323 - 17s - 13ms/step\n",
      "{   'fast_trill_6khz': {   'auc_pr': 0.6929297055412659,\n",
      "                           'f1': 0.6535087719298246,\n",
      "                           'precision': 0.6772727272727272,\n",
      "                           'recall': 0.6313559322033898},\n",
      "    'nr_syllable_3khz': {   'auc_pr': 0.8866961610718923,\n",
      "                            'f1': 0.7093333333333334,\n",
      "                            'precision': 0.9779411764705882,\n",
      "                            'recall': 0.5564853556485355},\n",
      "    'triangle_3khz': {   'auc_pr': 0.47725997697863404,\n",
      "                         'f1': 0.4861111111111111,\n",
      "                         'precision': 0.7777777777777778,\n",
      "                         'recall': 0.35353535353535354},\n",
      "    'upsweep_500hz': {   'auc_pr': 0.6759599802436963,\n",
      "                         'f1': 0.4688995215311005,\n",
      "                         'precision': 0.9423076923076923,\n",
      "                         'recall': 0.31210191082802546}}\n"
     ]
    },
    {
     "name": "stderr",
     "output_type": "stream",
     "text": [
      " 50%|█████████████████████████████████████████████████████████████████▊                                                                   | 99/200 [34:08<34:55, 20.75s/it]"
     ]
    },
    {
     "name": "stdout",
     "output_type": "stream",
     "text": [
      "Query no. 100/200\n",
      "22/22 - 1s - 53ms/step - auc_pr: 0.7971 - loss: 0.0112 - precision: 0.8000 - recall: 0.4444\n",
      "evaluating ..\n",
      "1323/1323 - 17s - 13ms/step\n",
      "{   'fast_trill_6khz': {   'auc_pr': 0.7325474680178045,\n",
      "                           'f1': 0.7006369426751592,\n",
      "                           'precision': 0.7021276595744681,\n",
      "                           'recall': 0.6991525423728814},\n",
      "    'nr_syllable_3khz': {   'auc_pr': 0.8964749770431886,\n",
      "                            'f1': 0.8508064516129032,\n",
      "                            'precision': 0.8210116731517509,\n",
      "                            'recall': 0.8828451882845189},\n",
      "    'triangle_3khz': {   'auc_pr': 0.5322962670928822,\n",
      "                         'f1': 0.48175182481751827,\n",
      "                         'precision': 0.868421052631579,\n",
      "                         'recall': 0.3333333333333333},\n",
      "    'upsweep_500hz': {   'auc_pr': 0.6964625832965016,\n",
      "                         'f1': 0.5606694560669456,\n",
      "                         'precision': 0.8170731707317073,\n",
      "                         'recall': 0.4267515923566879}}\n"
     ]
    },
    {
     "name": "stderr",
     "output_type": "stream",
     "text": [
      " 50%|██████████████████████████████████████████████████████████████████                                                                  | 100/200 [34:28<34:24, 20.64s/it]"
     ]
    },
    {
     "name": "stdout",
     "output_type": "stream",
     "text": [
      "Query no. 101/200\n",
      "22/22 - 1s - 53ms/step - auc_pr: 0.6682 - loss: 0.0096 - precision: 0.7500 - recall: 0.4615\n",
      "evaluating ..\n",
      "1323/1323 - 17s - 13ms/step\n",
      "{   'fast_trill_6khz': {   'auc_pr': 0.7508374104995407,\n",
      "                           'f1': 0.717434869739479,\n",
      "                           'precision': 0.6806083650190115,\n",
      "                           'recall': 0.7584745762711864},\n",
      "    'nr_syllable_3khz': {   'auc_pr': 0.899410725637701,\n",
      "                            'f1': 0.8466819221967964,\n",
      "                            'precision': 0.9343434343434344,\n",
      "                            'recall': 0.7740585774058577},\n",
      "    'triangle_3khz': {   'auc_pr': 0.543196683103373,\n",
      "                         'f1': 0.5569620253164557,\n",
      "                         'precision': 0.7457627118644068,\n",
      "                         'recall': 0.4444444444444444},\n",
      "    'upsweep_500hz': {   'auc_pr': 0.6817551852039249,\n",
      "                         'f1': 0.6521739130434783,\n",
      "                         'precision': 0.7563025210084033,\n",
      "                         'recall': 0.5732484076433121}}\n"
     ]
    },
    {
     "name": "stderr",
     "output_type": "stream",
     "text": [
      " 50%|██████████████████████████████████████████████████████████████████▋                                                                 | 101/200 [34:49<34:01, 20.62s/it]"
     ]
    },
    {
     "name": "stdout",
     "output_type": "stream",
     "text": [
      "Query no. 102/200\n",
      "22/22 - 1s - 52ms/step - auc_pr: 0.7847 - loss: 0.0088 - precision: 0.6667 - recall: 0.5333\n",
      "evaluating ..\n",
      "1323/1323 - 17s - 13ms/step\n",
      "{   'fast_trill_6khz': {   'auc_pr': 0.7321399626612066,\n",
      "                           'f1': 0.6801470588235294,\n",
      "                           'precision': 0.6006493506493507,\n",
      "                           'recall': 0.7838983050847458},\n",
      "    'nr_syllable_3khz': {   'auc_pr': 0.8867763687032988,\n",
      "                            'f1': 0.7603603603603604,\n",
      "                            'precision': 0.6677215189873418,\n",
      "                            'recall': 0.8828451882845189},\n",
      "    'triangle_3khz': {   'auc_pr': 0.5543471235473071,\n",
      "                         'f1': 0.5211267605633803,\n",
      "                         'precision': 0.8604651162790697,\n",
      "                         'recall': 0.37373737373737376},\n",
      "    'upsweep_500hz': {   'auc_pr': 0.6693144384079663,\n",
      "                         'f1': 0.5690376569037657,\n",
      "                         'precision': 0.8292682926829268,\n",
      "                         'recall': 0.43312101910828027}}\n"
     ]
    },
    {
     "name": "stderr",
     "output_type": "stream",
     "text": [
      " 51%|███████████████████████████████████████████████████████████████████▎                                                                | 102/200 [35:09<33:32, 20.54s/it]"
     ]
    },
    {
     "name": "stdout",
     "output_type": "stream",
     "text": [
      "Query no. 103/200\n",
      "22/22 - 1s - 53ms/step - auc_pr: 0.8228 - loss: 0.0078 - precision: 0.8000 - recall: 0.8000\n",
      "evaluating ..\n",
      "1323/1323 - 17s - 13ms/step\n",
      "{   'fast_trill_6khz': {   'auc_pr': 0.765010646096694,\n",
      "                           'f1': 0.6785714285714286,\n",
      "                           'precision': 0.8525641025641025,\n",
      "                           'recall': 0.5635593220338984},\n",
      "    'nr_syllable_3khz': {   'auc_pr': 0.9054192848224653,\n",
      "                            'f1': 0.8490945674044266,\n",
      "                            'precision': 0.8178294573643411,\n",
      "                            'recall': 0.8828451882845189},\n",
      "    'triangle_3khz': {   'auc_pr': 0.551452517545251,\n",
      "                         'f1': 0.5621621621621622,\n",
      "                         'precision': 0.6046511627906976,\n",
      "                         'recall': 0.5252525252525253},\n",
      "    'upsweep_500hz': {   'auc_pr': 0.6929052393876486,\n",
      "                         'f1': 0.5772357723577236,\n",
      "                         'precision': 0.797752808988764,\n",
      "                         'recall': 0.45222929936305734}}\n"
     ]
    },
    {
     "name": "stderr",
     "output_type": "stream",
     "text": [
      " 52%|███████████████████████████████████████████████████████████████████▉                                                                | 103/200 [35:29<33:10, 20.52s/it]"
     ]
    },
    {
     "name": "stdout",
     "output_type": "stream",
     "text": [
      "Query no. 104/200\n",
      "22/22 - 1s - 53ms/step - auc_pr: 0.8526 - loss: 0.0053 - precision: 0.8333 - recall: 0.5000\n",
      "evaluating ..\n",
      "1323/1323 - 17s - 13ms/step\n",
      "{   'fast_trill_6khz': {   'auc_pr': 0.7526750327001442,\n",
      "                           'f1': 0.625,\n",
      "                           'precision': 0.8712121212121212,\n",
      "                           'recall': 0.4872881355932203},\n",
      "    'nr_syllable_3khz': {   'auc_pr': 0.9126029008299796,\n",
      "                            'f1': 0.8836206896551724,\n",
      "                            'precision': 0.9111111111111111,\n",
      "                            'recall': 0.8577405857740585},\n",
      "    'triangle_3khz': {   'auc_pr': 0.5398527909891522,\n",
      "                         'f1': 0.5675675675675675,\n",
      "                         'precision': 0.8571428571428571,\n",
      "                         'recall': 0.42424242424242425},\n",
      "    'upsweep_500hz': {   'auc_pr': 0.7030006746306772,\n",
      "                         'f1': 0.6561514195583596,\n",
      "                         'precision': 0.65,\n",
      "                         'recall': 0.6624203821656051}}\n"
     ]
    },
    {
     "name": "stderr",
     "output_type": "stream",
     "text": [
      " 52%|████████████████████████████████████████████████████████████████████▋                                                               | 104/200 [35:50<32:50, 20.52s/it]"
     ]
    },
    {
     "name": "stdout",
     "output_type": "stream",
     "text": [
      "Query no. 105/200\n",
      "22/22 - 1s - 53ms/step - auc_pr: 0.7387 - loss: 0.0120 - precision: 0.9000 - recall: 0.5625\n",
      "evaluating ..\n",
      "1323/1323 - 17s - 13ms/step\n",
      "{   'fast_trill_6khz': {   'auc_pr': 0.7635471695937839,\n",
      "                           'f1': 0.7201565557729941,\n",
      "                           'precision': 0.6690909090909091,\n",
      "                           'recall': 0.7796610169491526},\n",
      "    'nr_syllable_3khz': {   'auc_pr': 0.8936131591020718,\n",
      "                            'f1': 0.83991683991684,\n",
      "                            'precision': 0.8347107438016529,\n",
      "                            'recall': 0.8451882845188284},\n",
      "    'triangle_3khz': {   'auc_pr': 0.5570642154262601,\n",
      "                         'f1': 0.5572139303482587,\n",
      "                         'precision': 0.5490196078431373,\n",
      "                         'recall': 0.5656565656565656},\n",
      "    'upsweep_500hz': {   'auc_pr': 0.7061506307293873,\n",
      "                         'f1': 0.6455331412103746,\n",
      "                         'precision': 0.5894736842105263,\n",
      "                         'recall': 0.7133757961783439}}\n"
     ]
    },
    {
     "name": "stderr",
     "output_type": "stream",
     "text": [
      " 52%|█████████████████████████████████████████████████████████████████████▎                                                              | 105/200 [36:10<32:26, 20.49s/it]"
     ]
    },
    {
     "name": "stdout",
     "output_type": "stream",
     "text": [
      "Query no. 106/200\n",
      "22/22 - 1s - 54ms/step - auc_pr: 0.8342 - loss: 0.0106 - precision: 0.9375 - recall: 0.7143\n",
      "evaluating ..\n",
      "1323/1323 - 17s - 13ms/step\n",
      "{   'fast_trill_6khz': {   'auc_pr': 0.770302665720375,\n",
      "                           'f1': 0.7317073170731707,\n",
      "                           'precision': 0.703125,\n",
      "                           'recall': 0.7627118644067796},\n",
      "    'nr_syllable_3khz': {   'auc_pr': 0.8936224069163518,\n",
      "                            'f1': 0.8584070796460177,\n",
      "                            'precision': 0.9107981220657277,\n",
      "                            'recall': 0.8117154811715481},\n",
      "    'triangle_3khz': {   'auc_pr': 0.5709470723238766,\n",
      "                         'f1': 0.5658536585365853,\n",
      "                         'precision': 0.5471698113207547,\n",
      "                         'recall': 0.5858585858585859},\n",
      "    'upsweep_500hz': {   'auc_pr': 0.7107558049988684,\n",
      "                         'f1': 0.6293333333333333,\n",
      "                         'precision': 0.5412844036697247,\n",
      "                         'recall': 0.7515923566878981}}\n"
     ]
    },
    {
     "name": "stderr",
     "output_type": "stream",
     "text": [
      " 53%|█████████████████████████████████████████████████████████████████████▉                                                              | 106/200 [36:31<32:06, 20.49s/it]"
     ]
    },
    {
     "name": "stdout",
     "output_type": "stream",
     "text": [
      "Query no. 107/200\n",
      "22/22 - 1s - 53ms/step - auc_pr: 0.6643 - loss: 0.0152 - precision: 0.6000 - recall: 0.5294\n",
      "evaluating ..\n",
      "1323/1323 - 17s - 13ms/step\n",
      "{   'fast_trill_6khz': {   'auc_pr': 0.7543854650793631,\n",
      "                           'f1': 0.6718346253229974,\n",
      "                           'precision': 0.8609271523178808,\n",
      "                           'recall': 0.5508474576271186},\n",
      "    'nr_syllable_3khz': {   'auc_pr': 0.8457763162658317,\n",
      "                            'f1': 0.7190635451505016,\n",
      "                            'precision': 0.5988857938718662,\n",
      "                            'recall': 0.899581589958159},\n",
      "    'triangle_3khz': {   'auc_pr': 0.5633303860873159,\n",
      "                         'f1': 0.56,\n",
      "                         'precision': 0.6447368421052632,\n",
      "                         'recall': 0.494949494949495},\n",
      "    'upsweep_500hz': {   'auc_pr': 0.6737360830307706,\n",
      "                         'f1': 0.6547619047619048,\n",
      "                         'precision': 0.6145251396648045,\n",
      "                         'recall': 0.7006369426751592}}\n"
     ]
    },
    {
     "name": "stderr",
     "output_type": "stream",
     "text": [
      " 54%|██████████████████████████████████████████████████████████████████████▌                                                             | 107/200 [36:51<31:45, 20.49s/it]"
     ]
    },
    {
     "name": "stdout",
     "output_type": "stream",
     "text": [
      "Query no. 108/200\n",
      "22/22 - 1s - 53ms/step - auc_pr: 0.6424 - loss: 0.0178 - precision: 0.6667 - recall: 0.4000\n",
      "evaluating ..\n",
      "1323/1323 - 17s - 13ms/step\n",
      "{   'fast_trill_6khz': {   'auc_pr': 0.7126773439631852,\n",
      "                           'f1': 0.6006191950464397,\n",
      "                           'precision': 0.47317073170731705,\n",
      "                           'recall': 0.8220338983050848},\n",
      "    'nr_syllable_3khz': {   'auc_pr': 0.8463904960261562,\n",
      "                            'f1': 0.7689320388349514,\n",
      "                            'precision': 0.717391304347826,\n",
      "                            'recall': 0.8284518828451883},\n",
      "    'triangle_3khz': {   'auc_pr': 0.541956820547992,\n",
      "                         'f1': 0.5684210526315789,\n",
      "                         'precision': 0.5934065934065934,\n",
      "                         'recall': 0.5454545454545454},\n",
      "    'upsweep_500hz': {   'auc_pr': 0.5782395627577891,\n",
      "                         'f1': 0.5704225352112676,\n",
      "                         'precision': 0.6377952755905512,\n",
      "                         'recall': 0.5159235668789809}}\n"
     ]
    },
    {
     "name": "stderr",
     "output_type": "stream",
     "text": [
      " 54%|███████████████████████████████████████████████████████████████████████▎                                                            | 108/200 [37:12<31:30, 20.55s/it]"
     ]
    },
    {
     "name": "stdout",
     "output_type": "stream",
     "text": [
      "Query no. 109/200\n",
      "22/22 - 1s - 54ms/step - auc_pr: 0.8018 - loss: 0.0141 - precision: 0.7619 - recall: 0.6154\n",
      "evaluating ..\n",
      "1323/1323 - 17s - 13ms/step\n",
      "{   'fast_trill_6khz': {   'auc_pr': 0.6951076823410585,\n",
      "                           'f1': 0.6639839034205232,\n",
      "                           'precision': 0.632183908045977,\n",
      "                           'recall': 0.6991525423728814},\n",
      "    'nr_syllable_3khz': {   'auc_pr': 0.886133143810142,\n",
      "                            'f1': 0.7357512953367875,\n",
      "                            'precision': 0.6264705882352941,\n",
      "                            'recall': 0.891213389121339},\n",
      "    'triangle_3khz': {   'auc_pr': 0.5229062094853127,\n",
      "                         'f1': 0.5339805825242718,\n",
      "                         'precision': 0.514018691588785,\n",
      "                         'recall': 0.5555555555555556},\n",
      "    'upsweep_500hz': {   'auc_pr': 0.6581231708383454,\n",
      "                         'f1': 0.6238532110091743,\n",
      "                         'precision': 0.6,\n",
      "                         'recall': 0.6496815286624203}}\n"
     ]
    },
    {
     "name": "stderr",
     "output_type": "stream",
     "text": [
      " 55%|███████████████████████████████████████████████████████████████████████▉                                                            | 109/200 [37:33<31:08, 20.53s/it]"
     ]
    },
    {
     "name": "stdout",
     "output_type": "stream",
     "text": [
      "Query no. 110/200\n",
      "22/22 - 1s - 54ms/step - auc_pr: 0.8069 - loss: 0.0093 - precision: 0.8333 - recall: 0.6250\n",
      "evaluating ..\n",
      "1323/1323 - 17s - 13ms/step\n",
      "{   'fast_trill_6khz': {   'auc_pr': 0.723623152155687,\n",
      "                           'f1': 0.6946902654867256,\n",
      "                           'precision': 0.7268518518518519,\n",
      "                           'recall': 0.6652542372881356},\n",
      "    'nr_syllable_3khz': {   'auc_pr': 0.8941219565090855,\n",
      "                            'f1': 0.8652173913043478,\n",
      "                            'precision': 0.9004524886877828,\n",
      "                            'recall': 0.8326359832635983},\n",
      "    'triangle_3khz': {   'auc_pr': 0.5360865087963362,\n",
      "                         'f1': 0.5405405405405406,\n",
      "                         'precision': 0.8163265306122449,\n",
      "                         'recall': 0.40404040404040403},\n",
      "    'upsweep_500hz': {   'auc_pr': 0.6846416608347785,\n",
      "                         'f1': 0.6253521126760564,\n",
      "                         'precision': 0.5606060606060606,\n",
      "                         'recall': 0.7070063694267515}}\n"
     ]
    },
    {
     "name": "stderr",
     "output_type": "stream",
     "text": [
      " 55%|████████████████████████████████████████████████████████████████████████▌                                                           | 110/200 [37:53<30:47, 20.53s/it]"
     ]
    },
    {
     "name": "stdout",
     "output_type": "stream",
     "text": [
      "Query no. 111/200\n",
      "22/22 - 1s - 54ms/step - auc_pr: 0.5764 - loss: 0.0143 - precision: 0.6667 - recall: 0.6250\n",
      "evaluating ..\n",
      "1323/1323 - 17s - 13ms/step\n",
      "{   'fast_trill_6khz': {   'auc_pr': 0.7324410399013298,\n",
      "                           'f1': 0.5954887218045113,\n",
      "                           'precision': 0.46153846153846156,\n",
      "                           'recall': 0.8389830508474576},\n",
      "    'nr_syllable_3khz': {   'auc_pr': 0.89164174588948,\n",
      "                            'f1': 0.8461538461538461,\n",
      "                            'precision': 0.8196078431372549,\n",
      "                            'recall': 0.8744769874476988},\n",
      "    'triangle_3khz': {   'auc_pr': 0.5400483999027142,\n",
      "                         'f1': 0.5477707006369427,\n",
      "                         'precision': 0.7413793103448276,\n",
      "                         'recall': 0.43434343434343436},\n",
      "    'upsweep_500hz': {   'auc_pr': 0.6619894352713488,\n",
      "                         'f1': 0.5344827586206896,\n",
      "                         'precision': 0.8266666666666667,\n",
      "                         'recall': 0.39490445859872614}}\n"
     ]
    },
    {
     "name": "stderr",
     "output_type": "stream",
     "text": [
      " 56%|█████████████████████████████████████████████████████████████████████████▎                                                          | 111/200 [38:14<30:24, 20.50s/it]"
     ]
    },
    {
     "name": "stdout",
     "output_type": "stream",
     "text": [
      "Query no. 112/200\n",
      "22/22 - 1s - 54ms/step - auc_pr: 0.9611 - loss: 0.0041 - precision: 1.0000 - recall: 0.7857\n",
      "evaluating ..\n",
      "1323/1323 - 17s - 13ms/step\n",
      "{   'fast_trill_6khz': {   'auc_pr': 0.7079452858993461,\n",
      "                           'f1': 0.6666666666666666,\n",
      "                           'precision': 0.6113074204946997,\n",
      "                           'recall': 0.7330508474576272},\n",
      "    'nr_syllable_3khz': {   'auc_pr': 0.8990122656890891,\n",
      "                            'f1': 0.8631578947368421,\n",
      "                            'precision': 0.8686440677966102,\n",
      "                            'recall': 0.8577405857740585},\n",
      "    'triangle_3khz': {   'auc_pr': 0.5622740303021144,\n",
      "                         'f1': 0.46616541353383456,\n",
      "                         'precision': 0.9117647058823529,\n",
      "                         'recall': 0.31313131313131315},\n",
      "    'upsweep_500hz': {   'auc_pr': 0.6508553951843788,\n",
      "                         'f1': 0.47058823529411764,\n",
      "                         'precision': 0.8125,\n",
      "                         'recall': 0.33121019108280253}}\n"
     ]
    },
    {
     "name": "stderr",
     "output_type": "stream",
     "text": [
      " 56%|█████████████████████████████████████████████████████████████████████████▉                                                          | 112/200 [38:34<30:02, 20.49s/it]"
     ]
    },
    {
     "name": "stdout",
     "output_type": "stream",
     "text": [
      "Query no. 113/200\n",
      "22/22 - 1s - 55ms/step - auc_pr: 0.6736 - loss: 0.0127 - precision: 0.6842 - recall: 0.7222\n",
      "evaluating ..\n",
      "1323/1323 - 17s - 13ms/step\n",
      "{   'fast_trill_6khz': {   'auc_pr': 0.762423461719499,\n",
      "                           'f1': 0.6843033509700176,\n",
      "                           'precision': 0.5861027190332326,\n",
      "                           'recall': 0.8220338983050848},\n",
      "    'nr_syllable_3khz': {   'auc_pr': 0.9049402063235671,\n",
      "                            'f1': 0.8663793103448276,\n",
      "                            'precision': 0.8933333333333333,\n",
      "                            'recall': 0.8410041841004184},\n",
      "    'triangle_3khz': {   'auc_pr': 0.5260646738133496,\n",
      "                         'f1': 0.5714285714285714,\n",
      "                         'precision': 0.5773195876288659,\n",
      "                         'recall': 0.5656565656565656},\n",
      "    'upsweep_500hz': {   'auc_pr': 0.6585381188516368,\n",
      "                         'f1': 0.6397306397306397,\n",
      "                         'precision': 0.6785714285714286,\n",
      "                         'recall': 0.6050955414012739}}\n"
     ]
    },
    {
     "name": "stderr",
     "output_type": "stream",
     "text": [
      " 56%|██████████████████████████████████████████████████████████████████████████▌                                                         | 113/200 [38:55<29:43, 20.50s/it]"
     ]
    },
    {
     "name": "stdout",
     "output_type": "stream",
     "text": [
      "Query no. 114/200\n",
      "22/22 - 1s - 55ms/step - auc_pr: 0.6392 - loss: 0.0179 - precision: 0.7500 - recall: 0.5714\n",
      "evaluating ..\n",
      "1323/1323 - 17s - 13ms/step\n",
      "{   'fast_trill_6khz': {   'auc_pr': 0.6985263459572453,\n",
      "                           'f1': 0.584958217270195,\n",
      "                           'precision': 0.8536585365853658,\n",
      "                           'recall': 0.4449152542372881},\n",
      "    'nr_syllable_3khz': {   'auc_pr': 0.8957288501664679,\n",
      "                            'f1': 0.8553459119496856,\n",
      "                            'precision': 0.8571428571428571,\n",
      "                            'recall': 0.8535564853556485},\n",
      "    'triangle_3khz': {   'auc_pr': 0.5116161342435884,\n",
      "                         'f1': 0.43410852713178294,\n",
      "                         'precision': 0.9333333333333333,\n",
      "                         'recall': 0.2828282828282828},\n",
      "    'upsweep_500hz': {   'auc_pr': 0.6786160224086846,\n",
      "                         'f1': 0.6529209621993127,\n",
      "                         'precision': 0.7089552238805971,\n",
      "                         'recall': 0.6050955414012739}}\n"
     ]
    },
    {
     "name": "stderr",
     "output_type": "stream",
     "text": [
      " 57%|███████████████████████████████████████████████████████████████████████████▏                                                        | 114/200 [39:15<29:21, 20.48s/it]"
     ]
    },
    {
     "name": "stdout",
     "output_type": "stream",
     "text": [
      "Query no. 115/200\n",
      "22/22 - 1s - 54ms/step - auc_pr: 0.4211 - loss: 0.0153 - precision: 0.7143 - recall: 0.3571\n",
      "evaluating ..\n",
      "1323/1323 - 17s - 13ms/step\n",
      "{   'fast_trill_6khz': {   'auc_pr': 0.6811187674836486,\n",
      "                           'f1': 0.6570841889117043,\n",
      "                           'precision': 0.6374501992031872,\n",
      "                           'recall': 0.6779661016949152},\n",
      "    'nr_syllable_3khz': {   'auc_pr': 0.8794073847188792,\n",
      "                            'f1': 0.8329718004338394,\n",
      "                            'precision': 0.8648648648648649,\n",
      "                            'recall': 0.803347280334728},\n",
      "    'triangle_3khz': {   'auc_pr': 0.5225567381937777,\n",
      "                         'f1': 0.5308641975308642,\n",
      "                         'precision': 0.6825396825396826,\n",
      "                         'recall': 0.43434343434343436},\n",
      "    'upsweep_500hz': {   'auc_pr': 0.6719469739035043,\n",
      "                         'f1': 0.5,\n",
      "                         'precision': 0.873015873015873,\n",
      "                         'recall': 0.3503184713375796}}\n"
     ]
    },
    {
     "name": "stderr",
     "output_type": "stream",
     "text": [
      " 57%|███████████████████████████████████████████████████████████████████████████▉                                                        | 115/200 [39:35<28:59, 20.47s/it]"
     ]
    },
    {
     "name": "stdout",
     "output_type": "stream",
     "text": [
      "Query no. 116/200\n",
      "22/22 - 1s - 55ms/step - auc_pr: 0.6524 - loss: 0.0123 - precision: 0.7778 - recall: 0.5000\n",
      "evaluating ..\n",
      "1323/1323 - 17s - 13ms/step\n",
      "{   'fast_trill_6khz': {   'auc_pr': 0.7435948545847797,\n",
      "                           'f1': 0.683046683046683,\n",
      "                           'precision': 0.8128654970760234,\n",
      "                           'recall': 0.5889830508474576},\n",
      "    'nr_syllable_3khz': {   'auc_pr': 0.8881481375019211,\n",
      "                            'f1': 0.8310502283105022,\n",
      "                            'precision': 0.914572864321608,\n",
      "                            'recall': 0.7615062761506276},\n",
      "    'triangle_3khz': {   'auc_pr': 0.5086210708342528,\n",
      "                         'f1': 0.43333333333333335,\n",
      "                         'precision': 0.36879432624113473,\n",
      "                         'recall': 0.5252525252525253},\n",
      "    'upsweep_500hz': {   'auc_pr': 0.6869307651639053,\n",
      "                         'f1': 0.5992217898832685,\n",
      "                         'precision': 0.77,\n",
      "                         'recall': 0.49044585987261147}}\n"
     ]
    },
    {
     "name": "stderr",
     "output_type": "stream",
     "text": [
      " 58%|████████████████████████████████████████████████████████████████████████████▌                                                       | 116/200 [39:56<28:41, 20.50s/it]"
     ]
    },
    {
     "name": "stdout",
     "output_type": "stream",
     "text": [
      "Query no. 117/200\n",
      "22/22 - 1s - 53ms/step - auc_pr: 0.8523 - loss: 0.0103 - precision: 0.8824 - recall: 0.6818\n",
      "evaluating ..\n",
      "1323/1323 - 17s - 13ms/step\n",
      "{   'fast_trill_6khz': {   'auc_pr': 0.30351743190029457,\n",
      "                           'f1': 0.19696969696969696,\n",
      "                           'precision': 0.9285714285714286,\n",
      "                           'recall': 0.11016949152542373},\n",
      "    'nr_syllable_3khz': {   'auc_pr': 0.8248277847778588,\n",
      "                            'f1': 0.7816593886462883,\n",
      "                            'precision': 0.817351598173516,\n",
      "                            'recall': 0.7489539748953975},\n",
      "    'triangle_3khz': {   'auc_pr': 0.4747246917205937,\n",
      "                         'f1': 0.52,\n",
      "                         'precision': 0.7647058823529411,\n",
      "                         'recall': 0.3939393939393939},\n",
      "    'upsweep_500hz': {   'auc_pr': 0.6418794431314129,\n",
      "                         'f1': 0.6095238095238096,\n",
      "                         'precision': 0.6075949367088608,\n",
      "                         'recall': 0.6114649681528662}}\n"
     ]
    },
    {
     "name": "stderr",
     "output_type": "stream",
     "text": [
      " 58%|█████████████████████████████████████████████████████████████████████████████▏                                                      | 117/200 [40:16<28:19, 20.47s/it]"
     ]
    },
    {
     "name": "stdout",
     "output_type": "stream",
     "text": [
      "Query no. 118/200\n",
      "22/22 - 1s - 54ms/step - auc_pr: 0.6856 - loss: 0.0104 - precision: 0.6667 - recall: 0.8750\n",
      "evaluating ..\n",
      "1323/1323 - 17s - 13ms/step\n",
      "{   'fast_trill_6khz': {   'auc_pr': 0.7572742026172461,\n",
      "                           'f1': 0.7098214285714286,\n",
      "                           'precision': 0.75,\n",
      "                           'recall': 0.673728813559322},\n",
      "    'nr_syllable_3khz': {   'auc_pr': 0.9045557730578226,\n",
      "                            'f1': 0.7676767676767676,\n",
      "                            'precision': 0.9681528662420382,\n",
      "                            'recall': 0.6359832635983264},\n",
      "    'triangle_3khz': {   'auc_pr': 0.5051705028541228,\n",
      "                         'f1': 0.4803921568627451,\n",
      "                         'precision': 0.4666666666666667,\n",
      "                         'recall': 0.494949494949495},\n",
      "    'upsweep_500hz': {   'auc_pr': 0.6681146076617323,\n",
      "                         'f1': 0.6468842729970327,\n",
      "                         'precision': 0.6055555555555555,\n",
      "                         'recall': 0.6942675159235668}}\n"
     ]
    },
    {
     "name": "stderr",
     "output_type": "stream",
     "text": [
      " 59%|█████████████████████████████████████████████████████████████████████████████▉                                                      | 118/200 [40:37<28:00, 20.49s/it]"
     ]
    },
    {
     "name": "stdout",
     "output_type": "stream",
     "text": [
      "Query no. 119/200\n",
      "22/22 - 1s - 56ms/step - auc_pr: 0.7536 - loss: 0.0128 - precision: 0.7857 - recall: 0.5789\n",
      "evaluating ..\n",
      "1323/1323 - 17s - 13ms/step\n",
      "{   'fast_trill_6khz': {   'auc_pr': 0.7364454032051471,\n",
      "                           'f1': 0.6844660194174758,\n",
      "                           'precision': 0.8011363636363636,\n",
      "                           'recall': 0.597457627118644},\n",
      "    'nr_syllable_3khz': {   'auc_pr': 0.9066389667934979,\n",
      "                            'f1': 0.7493540051679587,\n",
      "                            'precision': 0.9797297297297297,\n",
      "                            'recall': 0.606694560669456},\n",
      "    'triangle_3khz': {   'auc_pr': 0.5192630837467518,\n",
      "                         'f1': 0.5130890052356021,\n",
      "                         'precision': 0.532608695652174,\n",
      "                         'recall': 0.494949494949495},\n",
      "    'upsweep_500hz': {   'auc_pr': 0.7194806008702749,\n",
      "                         'f1': 0.6037735849056604,\n",
      "                         'precision': 0.4794007490636704,\n",
      "                         'recall': 0.8152866242038217}}\n"
     ]
    },
    {
     "name": "stderr",
     "output_type": "stream",
     "text": [
      " 60%|██████████████████████████████████████████████████████████████████████████████▌                                                     | 119/200 [40:57<27:40, 20.50s/it]"
     ]
    },
    {
     "name": "stdout",
     "output_type": "stream",
     "text": [
      "Query no. 120/200\n",
      "22/22 - 1s - 55ms/step - auc_pr: 0.9324 - loss: 0.0051 - precision: 1.0000 - recall: 0.7333\n",
      "evaluating ..\n",
      "1323/1323 - 17s - 13ms/step\n",
      "{   'fast_trill_6khz': {   'auc_pr': 0.7640431918745296,\n",
      "                           'f1': 0.7312775330396476,\n",
      "                           'precision': 0.7614678899082569,\n",
      "                           'recall': 0.7033898305084746},\n",
      "    'nr_syllable_3khz': {   'auc_pr': 0.9124942445543885,\n",
      "                            'f1': 0.8465116279069768,\n",
      "                            'precision': 0.9528795811518325,\n",
      "                            'recall': 0.7615062761506276},\n",
      "    'triangle_3khz': {   'auc_pr': 0.5263928863002411,\n",
      "                         'f1': 0.5217391304347826,\n",
      "                         'precision': 0.9230769230769231,\n",
      "                         'recall': 0.36363636363636365},\n",
      "    'upsweep_500hz': {   'auc_pr': 0.7208542650543214,\n",
      "                         'f1': 0.6313131313131313,\n",
      "                         'precision': 0.5230125523012552,\n",
      "                         'recall': 0.7961783439490446}}\n"
     ]
    },
    {
     "name": "stderr",
     "output_type": "stream",
     "text": [
      " 60%|███████████████████████████████████████████████████████████████████████████████▏                                                    | 120/200 [41:18<27:19, 20.49s/it]"
     ]
    },
    {
     "name": "stdout",
     "output_type": "stream",
     "text": [
      "Query no. 121/200\n",
      "22/22 - 1s - 52ms/step - auc_pr: 0.7687 - loss: 0.0074 - precision: 0.8000 - recall: 0.8571\n",
      "evaluating ..\n",
      "1323/1323 - 17s - 13ms/step\n",
      "{   'fast_trill_6khz': {   'auc_pr': 0.7269871456116777,\n",
      "                           'f1': 0.6867167919799498,\n",
      "                           'precision': 0.8404907975460123,\n",
      "                           'recall': 0.5805084745762712},\n",
      "    'nr_syllable_3khz': {   'auc_pr': 0.9107616958238302,\n",
      "                            'f1': 0.5941176470588235,\n",
      "                            'precision': 1.0,\n",
      "                            'recall': 0.4225941422594142},\n",
      "    'triangle_3khz': {   'auc_pr': 0.4800683063835048,\n",
      "                         'f1': 0.4375,\n",
      "                         'precision': 0.9655172413793104,\n",
      "                         'recall': 0.2828282828282828},\n",
      "    'upsweep_500hz': {   'auc_pr': 0.677257572643098,\n",
      "                         'f1': 0.6601941747572816,\n",
      "                         'precision': 0.6710526315789473,\n",
      "                         'recall': 0.6496815286624203}}\n"
     ]
    },
    {
     "name": "stderr",
     "output_type": "stream",
     "text": [
      " 60%|███████████████████████████████████████████████████████████████████████████████▊                                                    | 121/200 [41:38<26:57, 20.48s/it]"
     ]
    },
    {
     "name": "stdout",
     "output_type": "stream",
     "text": [
      "Query no. 122/200\n",
      "22/22 - 1s - 55ms/step - auc_pr: 0.9063 - loss: 0.0050 - precision: 0.9091 - recall: 0.7692\n",
      "evaluating ..\n",
      "1323/1323 - 17s - 13ms/step\n",
      "{   'fast_trill_6khz': {   'auc_pr': 0.7600569211336615,\n",
      "                           'f1': 0.7048054919908466,\n",
      "                           'precision': 0.7661691542288557,\n",
      "                           'recall': 0.652542372881356},\n",
      "    'nr_syllable_3khz': {   'auc_pr': 0.9098596742714341,\n",
      "                            'f1': 0.785,\n",
      "                            'precision': 0.9751552795031055,\n",
      "                            'recall': 0.6569037656903766},\n",
      "    'triangle_3khz': {   'auc_pr': 0.5289360971373923,\n",
      "                         'f1': 0.5035971223021583,\n",
      "                         'precision': 0.875,\n",
      "                         'recall': 0.35353535353535354},\n",
      "    'upsweep_500hz': {   'auc_pr': 0.7192591861257808,\n",
      "                         'f1': 0.6138613861386139,\n",
      "                         'precision': 0.5020242914979757,\n",
      "                         'recall': 0.7898089171974523}}\n"
     ]
    },
    {
     "name": "stderr",
     "output_type": "stream",
     "text": [
      " 61%|████████████████████████████████████████████████████████████████████████████████▌                                                   | 122/200 [41:59<26:38, 20.49s/it]"
     ]
    },
    {
     "name": "stdout",
     "output_type": "stream",
     "text": [
      "Query no. 123/200\n",
      "22/22 - 1s - 54ms/step - auc_pr: 0.6639 - loss: 0.0098 - precision: 0.6429 - recall: 0.7500\n",
      "evaluating ..\n",
      "1323/1323 - 17s - 13ms/step\n",
      "{   'fast_trill_6khz': {   'auc_pr': 0.7731019406065474,\n",
      "                           'f1': 0.6884422110552764,\n",
      "                           'precision': 0.845679012345679,\n",
      "                           'recall': 0.5805084745762712},\n",
      "    'nr_syllable_3khz': {   'auc_pr': 0.9161541436297964,\n",
      "                            'f1': 0.8656036446469249,\n",
      "                            'precision': 0.95,\n",
      "                            'recall': 0.7949790794979079},\n",
      "    'triangle_3khz': {   'auc_pr': 0.5457437245478214,\n",
      "                         'f1': 0.5342465753424658,\n",
      "                         'precision': 0.8297872340425532,\n",
      "                         'recall': 0.3939393939393939},\n",
      "    'upsweep_500hz': {   'auc_pr': 0.6947256782233345,\n",
      "                         'f1': 0.5714285714285714,\n",
      "                         'precision': 0.8918918918918919,\n",
      "                         'recall': 0.42038216560509556}}\n"
     ]
    },
    {
     "name": "stderr",
     "output_type": "stream",
     "text": [
      " 62%|█████████████████████████████████████████████████████████████████████████████████▏                                                  | 123/200 [42:19<26:16, 20.48s/it]"
     ]
    },
    {
     "name": "stdout",
     "output_type": "stream",
     "text": [
      "Query no. 124/200\n",
      "22/22 - 1s - 52ms/step - auc_pr: 0.6297 - loss: 0.0182 - precision: 1.0000 - recall: 0.4737\n",
      "evaluating ..\n",
      "1323/1323 - 17s - 13ms/step\n",
      "{   'fast_trill_6khz': {   'auc_pr': 0.7311012153647257,\n",
      "                           'f1': 0.6347107438016529,\n",
      "                           'precision': 0.5203252032520326,\n",
      "                           'recall': 0.8135593220338984},\n",
      "    'nr_syllable_3khz': {   'auc_pr': 0.8938941148819599,\n",
      "                            'f1': 0.7937743190661478,\n",
      "                            'precision': 0.7418181818181818,\n",
      "                            'recall': 0.8535564853556485},\n",
      "    'triangle_3khz': {   'auc_pr': 0.5422031820916647,\n",
      "                         'f1': 0.20913107511045656,\n",
      "                         'precision': 0.12241379310344827,\n",
      "                         'recall': 0.7171717171717171},\n",
      "    'upsweep_500hz': {   'auc_pr': 0.7012885659188227,\n",
      "                         'f1': 0.6646706586826348,\n",
      "                         'precision': 0.6271186440677966,\n",
      "                         'recall': 0.7070063694267515}}\n"
     ]
    },
    {
     "name": "stderr",
     "output_type": "stream",
     "text": [
      " 62%|█████████████████████████████████████████████████████████████████████████████████▊                                                  | 124/200 [42:40<25:59, 20.52s/it]"
     ]
    },
    {
     "name": "stdout",
     "output_type": "stream",
     "text": [
      "Query no. 125/200\n",
      "22/22 - 1s - 53ms/step - auc_pr: 0.8278 - loss: 0.0072 - precision: 0.6667 - recall: 0.9091\n",
      "evaluating ..\n",
      "1323/1323 - 17s - 13ms/step\n",
      "{   'fast_trill_6khz': {   'auc_pr': 0.7371101774529395,\n",
      "                           'f1': 0.6344086021505376,\n",
      "                           'precision': 0.8676470588235294,\n",
      "                           'recall': 0.5},\n",
      "    'nr_syllable_3khz': {   'auc_pr': 0.8861017585774716,\n",
      "                            'f1': 0.8387096774193549,\n",
      "                            'precision': 0.9333333333333333,\n",
      "                            'recall': 0.7615062761506276},\n",
      "    'triangle_3khz': {   'auc_pr': 0.5410096075814708,\n",
      "                         'f1': 0.5333333333333333,\n",
      "                         'precision': 0.5925925925925926,\n",
      "                         'recall': 0.48484848484848486},\n",
      "    'upsweep_500hz': {   'auc_pr': 0.6458614729493991,\n",
      "                         'f1': 0.578125,\n",
      "                         'precision': 0.7474747474747475,\n",
      "                         'recall': 0.4713375796178344}}\n"
     ]
    },
    {
     "name": "stderr",
     "output_type": "stream",
     "text": [
      " 62%|██████████████████████████████████████████████████████████████████████████████████▌                                                 | 125/200 [43:00<25:36, 20.48s/it]"
     ]
    },
    {
     "name": "stdout",
     "output_type": "stream",
     "text": [
      "Query no. 126/200\n",
      "22/22 - 1s - 53ms/step - auc_pr: 0.7540 - loss: 0.0095 - precision: 0.7778 - recall: 0.4667\n",
      "evaluating ..\n",
      "1323/1323 - 17s - 13ms/step\n",
      "{   'fast_trill_6khz': {   'auc_pr': 0.7088693772554562,\n",
      "                           'f1': 0.6033519553072626,\n",
      "                           'precision': 0.8852459016393442,\n",
      "                           'recall': 0.4576271186440678},\n",
      "    'nr_syllable_3khz': {   'auc_pr': 0.8991277504896549,\n",
      "                            'f1': 0.8401826484018264,\n",
      "                            'precision': 0.9246231155778895,\n",
      "                            'recall': 0.7698744769874477},\n",
      "    'triangle_3khz': {   'auc_pr': 0.5685981707806422,\n",
      "                         'f1': 0.5454545454545454,\n",
      "                         'precision': 0.5181818181818182,\n",
      "                         'recall': 0.5757575757575758},\n",
      "    'upsweep_500hz': {   'auc_pr': 0.6859806077859067,\n",
      "                         'f1': 0.6280487804878049,\n",
      "                         'precision': 0.6023391812865497,\n",
      "                         'recall': 0.6560509554140127}}\n"
     ]
    },
    {
     "name": "stderr",
     "output_type": "stream",
     "text": [
      " 63%|███████████████████████████████████████████████████████████████████████████████████▏                                                | 126/200 [43:21<25:15, 20.48s/it]"
     ]
    },
    {
     "name": "stdout",
     "output_type": "stream",
     "text": [
      "Query no. 127/200\n",
      "22/22 - 1s - 55ms/step - auc_pr: 0.7782 - loss: 0.0091 - precision: 0.8000 - recall: 0.6154\n",
      "evaluating ..\n",
      "1323/1323 - 17s - 13ms/step\n",
      "{   'fast_trill_6khz': {   'auc_pr': 0.668095891663964,\n",
      "                           'f1': 0.6549295774647887,\n",
      "                           'precision': 0.5602409638554217,\n",
      "                           'recall': 0.788135593220339},\n",
      "    'nr_syllable_3khz': {   'auc_pr': 0.8952495287769584,\n",
      "                            'f1': 0.8435374149659864,\n",
      "                            'precision': 0.9207920792079208,\n",
      "                            'recall': 0.7782426778242678},\n",
      "    'triangle_3khz': {   'auc_pr': 0.5306078067906154,\n",
      "                         'f1': 0.5605095541401274,\n",
      "                         'precision': 0.7586206896551724,\n",
      "                         'recall': 0.4444444444444444},\n",
      "    'upsweep_500hz': {   'auc_pr': 0.6753224315280434,\n",
      "                         'f1': 0.5132743362831859,\n",
      "                         'precision': 0.8405797101449275,\n",
      "                         'recall': 0.36942675159235666}}\n"
     ]
    },
    {
     "name": "stderr",
     "output_type": "stream",
     "text": [
      " 64%|███████████████████████████████████████████████████████████████████████████████████▊                                                | 127/200 [43:41<24:57, 20.52s/it]"
     ]
    },
    {
     "name": "stdout",
     "output_type": "stream",
     "text": [
      "Query no. 128/200\n",
      "22/22 - 1s - 54ms/step - auc_pr: 0.8308 - loss: 0.0105 - precision: 0.8667 - recall: 0.6500\n",
      "evaluating ..\n",
      "1323/1323 - 17s - 13ms/step\n",
      "{   'fast_trill_6khz': {   'auc_pr': 0.7032814951063154,\n",
      "                           'f1': 0.6747967479674797,\n",
      "                           'precision': 0.6484375,\n",
      "                           'recall': 0.7033898305084746},\n",
      "    'nr_syllable_3khz': {   'auc_pr': 0.874241939036615,\n",
      "                            'f1': 0.8240740740740741,\n",
      "                            'precision': 0.9222797927461139,\n",
      "                            'recall': 0.7447698744769874},\n",
      "    'triangle_3khz': {   'auc_pr': 0.5233497491134144,\n",
      "                         'f1': 0.5138888888888888,\n",
      "                         'precision': 0.8222222222222222,\n",
      "                         'recall': 0.37373737373737376},\n",
      "    'upsweep_500hz': {   'auc_pr': 0.6789095810649112,\n",
      "                         'f1': 0.643598615916955,\n",
      "                         'precision': 0.7045454545454546,\n",
      "                         'recall': 0.5923566878980892}}\n"
     ]
    },
    {
     "name": "stderr",
     "output_type": "stream",
     "text": [
      " 64%|████████████████████████████████████████████████████████████████████████████████████▍                                               | 128/200 [44:02<24:36, 20.50s/it]"
     ]
    },
    {
     "name": "stdout",
     "output_type": "stream",
     "text": [
      "Query no. 129/200\n",
      "22/22 - 1s - 54ms/step - auc_pr: 0.7448 - loss: 0.0059 - precision: 0.6667 - recall: 0.4444\n",
      "evaluating ..\n",
      "1323/1323 - 17s - 13ms/step\n",
      "{   'fast_trill_6khz': {   'auc_pr': 0.7779804179482156,\n",
      "                           'f1': 0.7453416149068323,\n",
      "                           'precision': 0.728744939271255,\n",
      "                           'recall': 0.7627118644067796},\n",
      "    'nr_syllable_3khz': {   'auc_pr': 0.8986218233456373,\n",
      "                            'f1': 0.8538812785388128,\n",
      "                            'precision': 0.9396984924623115,\n",
      "                            'recall': 0.7824267782426778},\n",
      "    'triangle_3khz': {   'auc_pr': 0.5291676850916689,\n",
      "                         'f1': 0.5205479452054794,\n",
      "                         'precision': 0.8085106382978723,\n",
      "                         'recall': 0.3838383838383838},\n",
      "    'upsweep_500hz': {   'auc_pr': 0.667050389653644,\n",
      "                         'f1': 0.6486486486486487,\n",
      "                         'precision': 0.6906474820143885,\n",
      "                         'recall': 0.6114649681528662}}\n"
     ]
    },
    {
     "name": "stderr",
     "output_type": "stream",
     "text": [
      " 64%|█████████████████████████████████████████████████████████████████████████████████████▏                                              | 129/200 [44:22<24:14, 20.48s/it]"
     ]
    },
    {
     "name": "stdout",
     "output_type": "stream",
     "text": [
      "Query no. 130/200\n",
      "22/22 - 1s - 53ms/step - auc_pr: 0.6894 - loss: 0.0106 - precision: 0.7500 - recall: 0.6000\n",
      "evaluating ..\n",
      "1323/1323 - 17s - 13ms/step\n",
      "{   'fast_trill_6khz': {   'auc_pr': 0.7176586712903846,\n",
      "                           'f1': 0.6776470588235294,\n",
      "                           'precision': 0.7619047619047619,\n",
      "                           'recall': 0.6101694915254238},\n",
      "    'nr_syllable_3khz': {   'auc_pr': 0.9066440839417044,\n",
      "                            'f1': 0.8271844660194175,\n",
      "                            'precision': 0.7717391304347826,\n",
      "                            'recall': 0.891213389121339},\n",
      "    'triangle_3khz': {   'auc_pr': 0.5094711767741883,\n",
      "                         'f1': 0.5093167701863354,\n",
      "                         'precision': 0.6612903225806451,\n",
      "                         'recall': 0.41414141414141414},\n",
      "    'upsweep_500hz': {   'auc_pr': 0.6341929349777896,\n",
      "                         'f1': 0.5737051792828686,\n",
      "                         'precision': 0.7659574468085106,\n",
      "                         'recall': 0.4585987261146497}}\n"
     ]
    },
    {
     "name": "stderr",
     "output_type": "stream",
     "text": [
      " 65%|█████████████████████████████████████████████████████████████████████████████████████▊                                              | 130/200 [44:43<23:55, 20.50s/it]"
     ]
    },
    {
     "name": "stdout",
     "output_type": "stream",
     "text": [
      "Query no. 131/200\n",
      "22/22 - 1s - 54ms/step - auc_pr: 0.6728 - loss: 0.0075 - precision: 0.7500 - recall: 0.6000\n",
      "evaluating ..\n",
      "1323/1323 - 17s - 13ms/step\n",
      "{   'fast_trill_6khz': {   'auc_pr': 0.5358278992557384,\n",
      "                           'f1': 0.2939068100358423,\n",
      "                           'precision': 0.9534883720930233,\n",
      "                           'recall': 0.17372881355932204},\n",
      "    'nr_syllable_3khz': {   'auc_pr': 0.9110357858497037,\n",
      "                            'f1': 0.8769574944071589,\n",
      "                            'precision': 0.9423076923076923,\n",
      "                            'recall': 0.8200836820083682},\n",
      "    'triangle_3khz': {   'auc_pr': 0.5258211298977243,\n",
      "                         'f1': 0.5508982035928144,\n",
      "                         'precision': 0.6764705882352942,\n",
      "                         'recall': 0.46464646464646464},\n",
      "    'upsweep_500hz': {   'auc_pr': 0.6482719204176027,\n",
      "                         'f1': 0.6102941176470589,\n",
      "                         'precision': 0.7217391304347827,\n",
      "                         'recall': 0.5286624203821656}}\n"
     ]
    },
    {
     "name": "stderr",
     "output_type": "stream",
     "text": [
      " 66%|██████████████████████████████████████████████████████████████████████████████████████▍                                             | 131/200 [45:03<23:34, 20.49s/it]"
     ]
    },
    {
     "name": "stdout",
     "output_type": "stream",
     "text": [
      "Query no. 132/200\n",
      "22/22 - 1s - 54ms/step - auc_pr: 0.7492 - loss: 0.0160 - precision: 0.8750 - recall: 0.5833\n",
      "evaluating ..\n",
      "1323/1323 - 17s - 13ms/step\n",
      "{   'fast_trill_6khz': {   'auc_pr': 0.7403040031183569,\n",
      "                           'f1': 0.6275752773375595,\n",
      "                           'precision': 0.5012658227848101,\n",
      "                           'recall': 0.8389830508474576},\n",
      "    'nr_syllable_3khz': {   'auc_pr': 0.891132248299548,\n",
      "                            'f1': 0.8559670781893004,\n",
      "                            'precision': 0.8421052631578947,\n",
      "                            'recall': 0.8702928870292888},\n",
      "    'triangle_3khz': {   'auc_pr': 0.5422606205496783,\n",
      "                         'f1': 0.5319148936170213,\n",
      "                         'precision': 0.5617977528089888,\n",
      "                         'recall': 0.5050505050505051},\n",
      "    'upsweep_500hz': {   'auc_pr': 0.6506307500748659,\n",
      "                         'f1': 0.5702479338842975,\n",
      "                         'precision': 0.8117647058823529,\n",
      "                         'recall': 0.4394904458598726}}\n"
     ]
    },
    {
     "name": "stderr",
     "output_type": "stream",
     "text": [
      " 66%|███████████████████████████████████████████████████████████████████████████████████████                                             | 132/200 [45:24<23:13, 20.49s/it]"
     ]
    },
    {
     "name": "stdout",
     "output_type": "stream",
     "text": [
      "Query no. 133/200\n",
      "22/22 - 1s - 54ms/step - auc_pr: 0.5957 - loss: 0.0088 - precision: 0.6250 - recall: 0.5556\n",
      "evaluating ..\n",
      "1323/1323 - 17s - 13ms/step\n",
      "{   'fast_trill_6khz': {   'auc_pr': 0.6921651886047262,\n",
      "                           'f1': 0.47648902821316613,\n",
      "                           'precision': 0.9156626506024096,\n",
      "                           'recall': 0.3220338983050847},\n",
      "    'nr_syllable_3khz': {   'auc_pr': 0.9001627357704872,\n",
      "                            'f1': 0.7951219512195122,\n",
      "                            'precision': 0.9532163742690059,\n",
      "                            'recall': 0.6820083682008368},\n",
      "    'triangle_3khz': {   'auc_pr': 0.552298255729895,\n",
      "                         'f1': 0.56,\n",
      "                         'precision': 0.8235294117647058,\n",
      "                         'recall': 0.42424242424242425},\n",
      "    'upsweep_500hz': {   'auc_pr': 0.656221675508265,\n",
      "                         'f1': 0.6202090592334495,\n",
      "                         'precision': 0.6846153846153846,\n",
      "                         'recall': 0.5668789808917197}}\n"
     ]
    },
    {
     "name": "stderr",
     "output_type": "stream",
     "text": [
      " 66%|███████████████████████████████████████████████████████████████████████████████████████▊                                            | 133/200 [45:44<22:55, 20.53s/it]"
     ]
    },
    {
     "name": "stdout",
     "output_type": "stream",
     "text": [
      "Query no. 134/200\n",
      "22/22 - 1s - 52ms/step - auc_pr: 0.8876 - loss: 0.0044 - precision: 0.8333 - recall: 0.5000\n",
      "evaluating ..\n",
      "1323/1323 - 17s - 13ms/step\n",
      "{   'fast_trill_6khz': {   'auc_pr': 0.7304465837689086,\n",
      "                           'f1': 0.64,\n",
      "                           'precision': 0.7804878048780488,\n",
      "                           'recall': 0.5423728813559322},\n",
      "    'nr_syllable_3khz': {   'auc_pr': 0.9098651605621105,\n",
      "                            'f1': 0.8438228438228438,\n",
      "                            'precision': 0.9526315789473684,\n",
      "                            'recall': 0.7573221757322176},\n",
      "    'triangle_3khz': {   'auc_pr': 0.5483379472988651,\n",
      "                         'f1': 0.45454545454545453,\n",
      "                         'precision': 0.9090909090909091,\n",
      "                         'recall': 0.30303030303030304},\n",
      "    'upsweep_500hz': {   'auc_pr': 0.6766027135546296,\n",
      "                         'f1': 0.5905511811023622,\n",
      "                         'precision': 0.7731958762886598,\n",
      "                         'recall': 0.47770700636942676}}\n"
     ]
    },
    {
     "name": "stderr",
     "output_type": "stream",
     "text": [
      " 67%|████████████████████████████████████████████████████████████████████████████████████████▍                                           | 134/200 [46:05<22:33, 20.51s/it]"
     ]
    },
    {
     "name": "stdout",
     "output_type": "stream",
     "text": [
      "Query no. 135/200\n",
      "22/22 - 1s - 55ms/step - auc_pr: 0.8964 - loss: 0.0066 - precision: 0.9231 - recall: 0.8000\n",
      "evaluating ..\n",
      "1323/1323 - 17s - 13ms/step\n",
      "{   'fast_trill_6khz': {   'auc_pr': 0.7701379101687241,\n",
      "                           'f1': 0.7331975560081466,\n",
      "                           'precision': 0.7058823529411765,\n",
      "                           'recall': 0.7627118644067796},\n",
      "    'nr_syllable_3khz': {   'auc_pr': 0.9143655563497799,\n",
      "                            'f1': 0.8717948717948718,\n",
      "                            'precision': 0.8908296943231441,\n",
      "                            'recall': 0.8535564853556485},\n",
      "    'triangle_3khz': {   'auc_pr': 0.5590783123912089,\n",
      "                         'f1': 0.5802469135802469,\n",
      "                         'precision': 0.746031746031746,\n",
      "                         'recall': 0.47474747474747475},\n",
      "    'upsweep_500hz': {   'auc_pr': 0.6926902752194641,\n",
      "                         'f1': 0.6355685131195336,\n",
      "                         'precision': 0.5860215053763441,\n",
      "                         'recall': 0.6942675159235668}}\n"
     ]
    },
    {
     "name": "stderr",
     "output_type": "stream",
     "text": [
      " 68%|█████████████████████████████████████████████████████████████████████████████████████████                                           | 135/200 [46:25<22:13, 20.52s/it]"
     ]
    },
    {
     "name": "stdout",
     "output_type": "stream",
     "text": [
      "Query no. 136/200\n",
      "22/22 - 1s - 52ms/step - auc_pr: 0.7775 - loss: 0.0128 - precision: 0.7391 - recall: 0.8095\n",
      "evaluating ..\n",
      "1323/1323 - 17s - 13ms/step\n",
      "{   'fast_trill_6khz': {   'auc_pr': 0.7420032063202873,\n",
      "                           'f1': 0.6907020872865275,\n",
      "                           'precision': 0.6254295532646048,\n",
      "                           'recall': 0.7711864406779662},\n",
      "    'nr_syllable_3khz': {   'auc_pr': 0.9042150649025623,\n",
      "                            'f1': 0.8487584650112867,\n",
      "                            'precision': 0.9215686274509803,\n",
      "                            'recall': 0.7866108786610879},\n",
      "    'triangle_3khz': {   'auc_pr': 0.5688367744999738,\n",
      "                         'f1': 0.5882352941176471,\n",
      "                         'precision': 0.704225352112676,\n",
      "                         'recall': 0.5050505050505051},\n",
      "    'upsweep_500hz': {   'auc_pr': 0.7200676834343621,\n",
      "                         'f1': 0.5950413223140496,\n",
      "                         'precision': 0.8470588235294118,\n",
      "                         'recall': 0.4585987261146497}}\n"
     ]
    },
    {
     "name": "stderr",
     "output_type": "stream",
     "text": [
      " 68%|█████████████████████████████████████████████████████████████████████████████████████████▊                                          | 136/200 [46:46<21:55, 20.55s/it]"
     ]
    },
    {
     "name": "stdout",
     "output_type": "stream",
     "text": [
      "Query no. 137/200\n",
      "22/22 - 1s - 54ms/step - auc_pr: 0.7268 - loss: 0.0034 - precision: 0.6000 - recall: 0.6000\n",
      "evaluating ..\n",
      "1323/1323 - 17s - 13ms/step\n",
      "{   'fast_trill_6khz': {   'auc_pr': 0.6884001308389528,\n",
      "                           'f1': 0.6790123456790124,\n",
      "                           'precision': 0.66,\n",
      "                           'recall': 0.6991525423728814},\n",
      "    'nr_syllable_3khz': {   'auc_pr': 0.8929715693517343,\n",
      "                            'f1': 0.8615384615384616,\n",
      "                            'precision': 0.9074074074074074,\n",
      "                            'recall': 0.8200836820083682},\n",
      "    'triangle_3khz': {   'auc_pr': 0.5604479841707164,\n",
      "                         'f1': 0.5070422535211268,\n",
      "                         'precision': 0.8372093023255814,\n",
      "                         'recall': 0.36363636363636365},\n",
      "    'upsweep_500hz': {   'auc_pr': 0.6858057665035902,\n",
      "                         'f1': 0.6410256410256411,\n",
      "                         'precision': 0.6451612903225806,\n",
      "                         'recall': 0.6369426751592356}}\n"
     ]
    },
    {
     "name": "stderr",
     "output_type": "stream",
     "text": [
      " 68%|██████████████████████████████████████████████████████████████████████████████████████████▍                                         | 137/200 [47:06<21:32, 20.51s/it]"
     ]
    },
    {
     "name": "stdout",
     "output_type": "stream",
     "text": [
      "Query no. 138/200\n",
      "22/22 - 1s - 52ms/step - auc_pr: 0.9025 - loss: 0.0049 - precision: 1.0000 - recall: 0.7692\n",
      "evaluating ..\n",
      "1323/1323 - 17s - 13ms/step\n",
      "{   'fast_trill_6khz': {   'auc_pr': 0.6502333238051612,\n",
      "                           'f1': 0.6408450704225352,\n",
      "                           'precision': 0.5481927710843374,\n",
      "                           'recall': 0.7711864406779662},\n",
      "    'nr_syllable_3khz': {   'auc_pr': 0.8709481909372914,\n",
      "                            'f1': 0.8423326133909287,\n",
      "                            'precision': 0.8705357142857143,\n",
      "                            'recall': 0.8158995815899581},\n",
      "    'triangle_3khz': {   'auc_pr': 0.5331981234087275,\n",
      "                         'f1': 0.5138888888888888,\n",
      "                         'precision': 0.8222222222222222,\n",
      "                         'recall': 0.37373737373737376},\n",
      "    'upsweep_500hz': {   'auc_pr': 0.6894936430727878,\n",
      "                         'f1': 0.6201550387596899,\n",
      "                         'precision': 0.7920792079207921,\n",
      "                         'recall': 0.5095541401273885}}\n"
     ]
    },
    {
     "name": "stderr",
     "output_type": "stream",
     "text": [
      " 69%|███████████████████████████████████████████████████████████████████████████████████████████                                         | 138/200 [47:27<21:11, 20.50s/it]"
     ]
    },
    {
     "name": "stdout",
     "output_type": "stream",
     "text": [
      "Query no. 139/200\n",
      "22/22 - 1s - 55ms/step - auc_pr: 0.5489 - loss: 0.0133 - precision: 0.6923 - recall: 0.5625\n",
      "evaluating ..\n",
      "1323/1323 - 17s - 13ms/step\n",
      "{   'fast_trill_6khz': {   'auc_pr': 0.7723944522083248,\n",
      "                           'f1': 0.7129629629629629,\n",
      "                           'precision': 0.7857142857142857,\n",
      "                           'recall': 0.652542372881356},\n",
      "    'nr_syllable_3khz': {   'auc_pr': 0.8953092677502917,\n",
      "                            'f1': 0.8616071428571429,\n",
      "                            'precision': 0.9234449760765551,\n",
      "                            'recall': 0.8075313807531381},\n",
      "    'triangle_3khz': {   'auc_pr': 0.5642250484378393,\n",
      "                         'f1': 0.3,\n",
      "                         'precision': 0.1889763779527559,\n",
      "                         'recall': 0.7272727272727273},\n",
      "    'upsweep_500hz': {   'auc_pr': 0.7206368440100683,\n",
      "                         'f1': 0.6548042704626335,\n",
      "                         'precision': 0.7419354838709677,\n",
      "                         'recall': 0.5859872611464968}}\n"
     ]
    },
    {
     "name": "stderr",
     "output_type": "stream",
     "text": [
      " 70%|███████████████████████████████████████████████████████████████████████████████████████████▋                                        | 139/200 [47:48<20:53, 20.55s/it]"
     ]
    },
    {
     "name": "stdout",
     "output_type": "stream",
     "text": [
      "Query no. 140/200\n",
      "22/22 - 1s - 53ms/step - auc_pr: 0.8375 - loss: 0.0053 - precision: 0.8182 - recall: 0.7500\n",
      "evaluating ..\n",
      "1323/1323 - 17s - 13ms/step\n",
      "{   'fast_trill_6khz': {   'auc_pr': 0.7687456731905109,\n",
      "                           'f1': 0.6798029556650246,\n",
      "                           'precision': 0.8117647058823529,\n",
      "                           'recall': 0.5847457627118644},\n",
      "    'nr_syllable_3khz': {   'auc_pr': 0.890402449483518,\n",
      "                            'f1': 0.8435374149659864,\n",
      "                            'precision': 0.9207920792079208,\n",
      "                            'recall': 0.7782426778242678},\n",
      "    'triangle_3khz': {   'auc_pr': 0.5423009935537461,\n",
      "                         'f1': 0.24375,\n",
      "                         'precision': 0.14417744916820702,\n",
      "                         'recall': 0.7878787878787878},\n",
      "    'upsweep_500hz': {   'auc_pr': 0.712262850186727,\n",
      "                         'f1': 0.6822742474916388,\n",
      "                         'precision': 0.7183098591549296,\n",
      "                         'recall': 0.6496815286624203}}\n"
     ]
    },
    {
     "name": "stderr",
     "output_type": "stream",
     "text": [
      " 70%|████████████████████████████████████████████████████████████████████████████████████████████▍                                       | 140/200 [48:08<20:31, 20.53s/it]"
     ]
    },
    {
     "name": "stdout",
     "output_type": "stream",
     "text": [
      "Query no. 141/200\n",
      "22/22 - 1s - 54ms/step - auc_pr: 0.3977 - loss: 0.0105 - precision: 0.5714 - recall: 0.4000\n",
      "evaluating ..\n",
      "1323/1323 - 17s - 13ms/step\n",
      "{   'fast_trill_6khz': {   'auc_pr': 0.7691679554209614,\n",
      "                           'f1': 0.6919431279620853,\n",
      "                           'precision': 0.7849462365591398,\n",
      "                           'recall': 0.6186440677966102},\n",
      "    'nr_syllable_3khz': {   'auc_pr': 0.9088422153907125,\n",
      "                            'f1': 0.8552036199095022,\n",
      "                            'precision': 0.9310344827586207,\n",
      "                            'recall': 0.7907949790794979},\n",
      "    'triangle_3khz': {   'auc_pr': 0.5525999898065799,\n",
      "                         'f1': 0.5666666666666667,\n",
      "                         'precision': 0.6296296296296297,\n",
      "                         'recall': 0.5151515151515151},\n",
      "    'upsweep_500hz': {   'auc_pr': 0.7209504398187636,\n",
      "                         'f1': 0.6820809248554913,\n",
      "                         'precision': 0.6243386243386243,\n",
      "                         'recall': 0.7515923566878981}}\n"
     ]
    },
    {
     "name": "stderr",
     "output_type": "stream",
     "text": [
      " 70%|█████████████████████████████████████████████████████████████████████████████████████████████                                       | 141/200 [48:29<20:11, 20.54s/it]"
     ]
    },
    {
     "name": "stdout",
     "output_type": "stream",
     "text": [
      "Query no. 142/200\n",
      "22/22 - 1s - 52ms/step - auc_pr: 0.8731 - loss: 0.0054 - precision: 0.8889 - recall: 0.6154\n",
      "evaluating ..\n",
      "1323/1323 - 17s - 13ms/step\n",
      "{   'fast_trill_6khz': {   'auc_pr': 0.7623826997553795,\n",
      "                           'f1': 0.7148148148148148,\n",
      "                           'precision': 0.6348684210526315,\n",
      "                           'recall': 0.8177966101694916},\n",
      "    'nr_syllable_3khz': {   'auc_pr': 0.9095321169266433,\n",
      "                            'f1': 0.8577494692144374,\n",
      "                            'precision': 0.8706896551724138,\n",
      "                            'recall': 0.8451882845188284},\n",
      "    'triangle_3khz': {   'auc_pr': 0.5486325523644403,\n",
      "                         'f1': 0.5445544554455446,\n",
      "                         'precision': 0.5339805825242718,\n",
      "                         'recall': 0.5555555555555556},\n",
      "    'upsweep_500hz': {   'auc_pr': 0.6984629683239082,\n",
      "                         'f1': 0.7010309278350515,\n",
      "                         'precision': 0.7611940298507462,\n",
      "                         'recall': 0.6496815286624203}}\n"
     ]
    },
    {
     "name": "stderr",
     "output_type": "stream",
     "text": [
      " 71%|█████████████████████████████████████████████████████████████████████████████████████████████▋                                      | 142/200 [48:49<19:52, 20.56s/it]"
     ]
    },
    {
     "name": "stdout",
     "output_type": "stream",
     "text": [
      "Query no. 143/200\n",
      "22/22 - 1s - 53ms/step - auc_pr: 0.6545 - loss: 0.0101 - precision: 0.6250 - recall: 0.8333\n",
      "evaluating ..\n",
      "1323/1323 - 17s - 13ms/step\n",
      "{   'fast_trill_6khz': {   'auc_pr': 0.7386803726626279,\n",
      "                           'f1': 0.6508313539192399,\n",
      "                           'precision': 0.7405405405405405,\n",
      "                           'recall': 0.5805084745762712},\n",
      "    'nr_syllable_3khz': {   'auc_pr': 0.9100052657903629,\n",
      "                            'f1': 0.8596491228070176,\n",
      "                            'precision': 0.9032258064516129,\n",
      "                            'recall': 0.8200836820083682},\n",
      "    'triangle_3khz': {   'auc_pr': 0.5447034600528224,\n",
      "                         'f1': 0.4580152671755725,\n",
      "                         'precision': 0.36809815950920244,\n",
      "                         'recall': 0.6060606060606061},\n",
      "    'upsweep_500hz': {   'auc_pr': 0.6900124480465727,\n",
      "                         'f1': 0.6201550387596899,\n",
      "                         'precision': 0.7920792079207921,\n",
      "                         'recall': 0.5095541401273885}}\n"
     ]
    },
    {
     "name": "stderr",
     "output_type": "stream",
     "text": [
      " 72%|██████████████████████████████████████████████████████████████████████████████████████████████▍                                     | 143/200 [49:10<19:32, 20.56s/it]"
     ]
    },
    {
     "name": "stdout",
     "output_type": "stream",
     "text": [
      "Query no. 144/200\n",
      "22/22 - 1s - 54ms/step - auc_pr: 0.8386 - loss: 0.0100 - precision: 0.8333 - recall: 0.5263\n",
      "evaluating ..\n",
      "1323/1323 - 17s - 13ms/step\n",
      "{   'fast_trill_6khz': {   'auc_pr': 0.678626426619163,\n",
      "                           'f1': 0.6235565819861432,\n",
      "                           'precision': 0.6852791878172588,\n",
      "                           'recall': 0.5720338983050848},\n",
      "    'nr_syllable_3khz': {   'auc_pr': 0.9059104113357108,\n",
      "                            'f1': 0.868421052631579,\n",
      "                            'precision': 0.9124423963133641,\n",
      "                            'recall': 0.8284518828451883},\n",
      "    'triangle_3khz': {   'auc_pr': 0.5549312401815284,\n",
      "                         'f1': 0.56,\n",
      "                         'precision': 0.6447368421052632,\n",
      "                         'recall': 0.494949494949495},\n",
      "    'upsweep_500hz': {   'auc_pr': 0.5947585325822945,\n",
      "                         'f1': 0.6030769230769231,\n",
      "                         'precision': 0.5833333333333334,\n",
      "                         'recall': 0.6242038216560509}}\n"
     ]
    },
    {
     "name": "stderr",
     "output_type": "stream",
     "text": [
      " 72%|███████████████████████████████████████████████████████████████████████████████████████████████                                     | 144/200 [49:30<19:11, 20.56s/it]"
     ]
    },
    {
     "name": "stdout",
     "output_type": "stream",
     "text": [
      "Query no. 145/200\n",
      "22/22 - 1s - 55ms/step - auc_pr: 0.7584 - loss: 0.0071 - precision: 0.8750 - recall: 0.5833\n",
      "evaluating ..\n",
      "1323/1323 - 17s - 13ms/step\n",
      "{   'fast_trill_6khz': {   'auc_pr': 0.7325869291888112,\n",
      "                           'f1': 0.6692759295499021,\n",
      "                           'precision': 0.6218181818181818,\n",
      "                           'recall': 0.7245762711864406},\n",
      "    'nr_syllable_3khz': {   'auc_pr': 0.8978510803056776,\n",
      "                            'f1': 0.8725701943844493,\n",
      "                            'precision': 0.9017857142857143,\n",
      "                            'recall': 0.8451882845188284},\n",
      "    'triangle_3khz': {   'auc_pr': 0.5712747907901488,\n",
      "                         'f1': 0.5945945945945946,\n",
      "                         'precision': 0.6395348837209303,\n",
      "                         'recall': 0.5555555555555556},\n",
      "    'upsweep_500hz': {   'auc_pr': 0.4919045068424727,\n",
      "                         'f1': 0.4602739726027397,\n",
      "                         'precision': 0.40384615384615385,\n",
      "                         'recall': 0.535031847133758}}\n"
     ]
    },
    {
     "name": "stderr",
     "output_type": "stream",
     "text": [
      " 72%|███████████████████████████████████████████████████████████████████████████████████████████████▋                                    | 145/200 [49:51<18:53, 20.60s/it]"
     ]
    },
    {
     "name": "stdout",
     "output_type": "stream",
     "text": [
      "Query no. 146/200\n",
      "22/22 - 1s - 54ms/step - auc_pr: 0.7563 - loss: 0.0139 - precision: 0.7143 - recall: 0.5000\n",
      "evaluating ..\n",
      "1323/1323 - 17s - 13ms/step\n",
      "{   'fast_trill_6khz': {   'auc_pr': 0.6818966707208376,\n",
      "                           'f1': 0.5927051671732523,\n",
      "                           'precision': 0.46208530805687204,\n",
      "                           'recall': 0.826271186440678},\n",
      "    'nr_syllable_3khz': {   'auc_pr': 0.9081342104430322,\n",
      "                            'f1': 0.8491879350348028,\n",
      "                            'precision': 0.953125,\n",
      "                            'recall': 0.7656903765690377},\n",
      "    'triangle_3khz': {   'auc_pr': 0.5742055070699433,\n",
      "                         'f1': 0.5771812080536913,\n",
      "                         'precision': 0.86,\n",
      "                         'recall': 0.43434343434343436},\n",
      "    'upsweep_500hz': {   'auc_pr': 0.6444013237103934,\n",
      "                         'f1': 0.6394984326018809,\n",
      "                         'precision': 0.6296296296296297,\n",
      "                         'recall': 0.6496815286624203}}\n"
     ]
    },
    {
     "name": "stderr",
     "output_type": "stream",
     "text": [
      " 73%|████████████████████████████████████████████████████████████████████████████████████████████████▎                                   | 146/200 [50:12<18:31, 20.59s/it]"
     ]
    },
    {
     "name": "stdout",
     "output_type": "stream",
     "text": [
      "Query no. 147/200\n",
      "22/22 - 1s - 55ms/step - auc_pr: 0.5711 - loss: 0.0134 - precision: 0.6364 - recall: 0.4667\n",
      "evaluating ..\n",
      "1323/1323 - 17s - 13ms/step\n",
      "{   'fast_trill_6khz': {   'auc_pr': 0.7273877965593882,\n",
      "                           'f1': 0.6588693957115009,\n",
      "                           'precision': 0.6101083032490975,\n",
      "                           'recall': 0.7161016949152542},\n",
      "    'nr_syllable_3khz': {   'auc_pr': 0.8803269335590012,\n",
      "                            'f1': 0.8072562358276644,\n",
      "                            'precision': 0.8811881188118812,\n",
      "                            'recall': 0.7447698744769874},\n",
      "    'triangle_3khz': {   'auc_pr': 0.5674703032543815,\n",
      "                         'f1': 0.5161290322580645,\n",
      "                         'precision': 0.4745762711864407,\n",
      "                         'recall': 0.5656565656565656},\n",
      "    'upsweep_500hz': {   'auc_pr': 0.7271274858921484,\n",
      "                         'f1': 0.616600790513834,\n",
      "                         'precision': 0.8125,\n",
      "                         'recall': 0.4968152866242038}}\n"
     ]
    },
    {
     "name": "stderr",
     "output_type": "stream",
     "text": [
      " 74%|█████████████████████████████████████████████████████████████████████████████████████████████████                                   | 147/200 [50:32<18:11, 20.59s/it]"
     ]
    },
    {
     "name": "stdout",
     "output_type": "stream",
     "text": [
      "Query no. 148/200\n",
      "22/22 - 1s - 57ms/step - auc_pr: 0.7045 - loss: 0.0134 - precision: 0.7059 - recall: 0.6000\n",
      "evaluating ..\n",
      "1323/1323 - 17s - 13ms/step\n",
      "{   'fast_trill_6khz': {   'auc_pr': 0.6454690124809833,\n",
      "                           'f1': 0.6428571428571429,\n",
      "                           'precision': 0.7336956521739131,\n",
      "                           'recall': 0.5720338983050848},\n",
      "    'nr_syllable_3khz': {   'auc_pr': 0.909658208782767,\n",
      "                            'f1': 0.8822269807280514,\n",
      "                            'precision': 0.9035087719298246,\n",
      "                            'recall': 0.8619246861924686},\n",
      "    'triangle_3khz': {   'auc_pr': 0.5614727452597261,\n",
      "                         'f1': 0.5517241379310345,\n",
      "                         'precision': 0.8695652173913043,\n",
      "                         'recall': 0.40404040404040403},\n",
      "    'upsweep_500hz': {   'auc_pr': 0.6729854199783556,\n",
      "                         'f1': 0.4215686274509804,\n",
      "                         'precision': 0.9148936170212766,\n",
      "                         'recall': 0.27388535031847133}}\n"
     ]
    },
    {
     "name": "stderr",
     "output_type": "stream",
     "text": [
      " 74%|█████████████████████████████████████████████████████████████████████████████████████████████████▋                                  | 148/200 [50:53<17:53, 20.64s/it]"
     ]
    },
    {
     "name": "stdout",
     "output_type": "stream",
     "text": [
      "Query no. 149/200\n",
      "22/22 - 1s - 55ms/step - auc_pr: 0.7334 - loss: 0.0108 - precision: 0.7500 - recall: 0.5294\n",
      "evaluating ..\n",
      "1323/1323 - 17s - 13ms/step\n",
      "{   'fast_trill_6khz': {   'auc_pr': 0.7297529836528632,\n",
      "                           'f1': 0.6954643628509719,\n",
      "                           'precision': 0.7092511013215859,\n",
      "                           'recall': 0.6822033898305084},\n",
      "    'nr_syllable_3khz': {   'auc_pr': 0.9219704868775229,\n",
      "                            'f1': 0.8941684665226782,\n",
      "                            'precision': 0.9241071428571429,\n",
      "                            'recall': 0.8661087866108786},\n",
      "    'triangle_3khz': {   'auc_pr': 0.5502834872799519,\n",
      "                         'f1': 0.5675675675675675,\n",
      "                         'precision': 0.8571428571428571,\n",
      "                         'recall': 0.42424242424242425},\n",
      "    'upsweep_500hz': {   'auc_pr': 0.6856628904534632,\n",
      "                         'f1': 0.6089965397923875,\n",
      "                         'precision': 0.6666666666666666,\n",
      "                         'recall': 0.5605095541401274}}\n"
     ]
    },
    {
     "name": "stderr",
     "output_type": "stream",
     "text": [
      " 74%|██████████████████████████████████████████████████████████████████████████████████████████████████▎                                 | 149/200 [51:14<17:31, 20.62s/it]"
     ]
    },
    {
     "name": "stdout",
     "output_type": "stream",
     "text": [
      "Query no. 150/200\n",
      "22/22 - 1s - 54ms/step - auc_pr: 0.9286 - loss: 0.0060 - precision: 0.8824 - recall: 0.8333\n",
      "evaluating ..\n",
      "1323/1323 - 17s - 13ms/step\n",
      "{   'fast_trill_6khz': {   'auc_pr': 0.7715285759540976,\n",
      "                           'f1': 0.6527415143603134,\n",
      "                           'precision': 0.8503401360544217,\n",
      "                           'recall': 0.5296610169491526},\n",
      "    'nr_syllable_3khz': {   'auc_pr': 0.9275370089746924,\n",
      "                            'f1': 0.9019607843137255,\n",
      "                            'precision': 0.9409090909090909,\n",
      "                            'recall': 0.8661087866108786},\n",
      "    'triangle_3khz': {   'auc_pr': 0.5558273449272946,\n",
      "                         'f1': 0.5766871165644172,\n",
      "                         'precision': 0.734375,\n",
      "                         'recall': 0.47474747474747475},\n",
      "    'upsweep_500hz': {   'auc_pr': 0.6776395353149475,\n",
      "                         'f1': 0.6256684491978609,\n",
      "                         'precision': 0.5391705069124424,\n",
      "                         'recall': 0.7452229299363057}}\n"
     ]
    },
    {
     "name": "stderr",
     "output_type": "stream",
     "text": [
      " 75%|███████████████████████████████████████████████████████████████████████████████████████████████████                                 | 150/200 [51:34<17:09, 20.60s/it]"
     ]
    },
    {
     "name": "stdout",
     "output_type": "stream",
     "text": [
      "Query no. 151/200\n",
      "22/22 - 1s - 54ms/step - auc_pr: 0.5304 - loss: 0.0143 - precision: 0.6000 - recall: 0.6429\n",
      "evaluating ..\n",
      "1323/1323 - 17s - 13ms/step\n",
      "{   'fast_trill_6khz': {   'auc_pr': 0.6243888936724248,\n",
      "                           'f1': 0.6069246435845214,\n",
      "                           'precision': 0.5843137254901961,\n",
      "                           'recall': 0.6313559322033898},\n",
      "    'nr_syllable_3khz': {   'auc_pr': 0.9094873739938766,\n",
      "                            'f1': 0.4989010989010989,\n",
      "                            'precision': 0.338301043219076,\n",
      "                            'recall': 0.9497907949790795},\n",
      "    'triangle_3khz': {   'auc_pr': 0.5459947397980927,\n",
      "                         'f1': 0.5605095541401274,\n",
      "                         'precision': 0.7586206896551724,\n",
      "                         'recall': 0.4444444444444444},\n",
      "    'upsweep_500hz': {   'auc_pr': 0.6657309080110877,\n",
      "                         'f1': 0.6171003717472119,\n",
      "                         'precision': 0.7410714285714286,\n",
      "                         'recall': 0.5286624203821656}}\n"
     ]
    },
    {
     "name": "stderr",
     "output_type": "stream",
     "text": [
      " 76%|███████████████████████████████████████████████████████████████████████████████████████████████████▋                                | 151/200 [51:55<16:50, 20.63s/it]"
     ]
    },
    {
     "name": "stdout",
     "output_type": "stream",
     "text": [
      "Query no. 152/200\n",
      "22/22 - 1s - 52ms/step - auc_pr: 0.6153 - loss: 0.0177 - precision: 0.8333 - recall: 0.5263\n",
      "evaluating ..\n",
      "1323/1323 - 17s - 13ms/step\n",
      "{   'fast_trill_6khz': {   'auc_pr': 0.763981118256231,\n",
      "                           'f1': 0.6877323420074349,\n",
      "                           'precision': 0.6125827814569537,\n",
      "                           'recall': 0.7838983050847458},\n",
      "    'nr_syllable_3khz': {   'auc_pr': 0.8891380006912978,\n",
      "                            'f1': 0.8179959100204499,\n",
      "                            'precision': 0.8,\n",
      "                            'recall': 0.8368200836820083},\n",
      "    'triangle_3khz': {   'auc_pr': 0.5229018532735276,\n",
      "                         'f1': 0.33994334277620397,\n",
      "                         'precision': 0.23622047244094488,\n",
      "                         'recall': 0.6060606060606061},\n",
      "    'upsweep_500hz': {   'auc_pr': 0.6435590032722847,\n",
      "                         'f1': 0.61198738170347,\n",
      "                         'precision': 0.60625,\n",
      "                         'recall': 0.6178343949044586}}\n"
     ]
    },
    {
     "name": "stderr",
     "output_type": "stream",
     "text": [
      " 76%|████████████████████████████████████████████████████████████████████████████████████████████████████▎                               | 152/200 [52:15<16:28, 20.59s/it]"
     ]
    },
    {
     "name": "stdout",
     "output_type": "stream",
     "text": [
      "Query no. 153/200\n",
      "22/22 - 1s - 55ms/step - auc_pr: 0.9123 - loss: 0.0066 - precision: 1.0000 - recall: 0.8125\n",
      "evaluating ..\n",
      "1323/1323 - 17s - 13ms/step\n",
      "{   'fast_trill_6khz': {   'auc_pr': 0.7828003365486305,\n",
      "                           'f1': 0.7473460721868365,\n",
      "                           'precision': 0.7489361702127659,\n",
      "                           'recall': 0.7457627118644068},\n",
      "    'nr_syllable_3khz': {   'auc_pr': 0.9040060128452343,\n",
      "                            'f1': 0.8465116279069768,\n",
      "                            'precision': 0.9528795811518325,\n",
      "                            'recall': 0.7615062761506276},\n",
      "    'triangle_3khz': {   'auc_pr': 0.510157490575596,\n",
      "                         'f1': 0.5405405405405406,\n",
      "                         'precision': 0.5813953488372093,\n",
      "                         'recall': 0.5050505050505051},\n",
      "    'upsweep_500hz': {   'auc_pr': 0.6305954811577413,\n",
      "                         'f1': 0.6122448979591837,\n",
      "                         'precision': 0.5645161290322581,\n",
      "                         'recall': 0.6687898089171974}}\n"
     ]
    },
    {
     "name": "stderr",
     "output_type": "stream",
     "text": [
      " 76%|████████████████████████████████████████████████████████████████████████████████████████████████████▉                               | 153/200 [52:36<16:07, 20.60s/it]"
     ]
    },
    {
     "name": "stdout",
     "output_type": "stream",
     "text": [
      "Query no. 154/200\n",
      "22/22 - 1s - 56ms/step - auc_pr: 0.8348 - loss: 0.0067 - precision: 0.9000 - recall: 0.6923\n",
      "evaluating ..\n",
      "1323/1323 - 17s - 13ms/step\n",
      "{   'fast_trill_6khz': {   'auc_pr': 0.7343374312046349,\n",
      "                           'f1': 0.7171492204899778,\n",
      "                           'precision': 0.755868544600939,\n",
      "                           'recall': 0.6822033898305084},\n",
      "    'nr_syllable_3khz': {   'auc_pr': 0.9127068174789851,\n",
      "                            'f1': 0.8716814159292036,\n",
      "                            'precision': 0.9248826291079812,\n",
      "                            'recall': 0.8242677824267782},\n",
      "    'triangle_3khz': {   'auc_pr': 0.5064996511358835,\n",
      "                         'f1': 0.4927536231884058,\n",
      "                         'precision': 0.8717948717948718,\n",
      "                         'recall': 0.3434343434343434},\n",
      "    'upsweep_500hz': {   'auc_pr': 0.6681475636472916,\n",
      "                         'f1': 0.5825688073394495,\n",
      "                         'precision': 0.4551971326164875,\n",
      "                         'recall': 0.8089171974522293}}\n"
     ]
    },
    {
     "name": "stderr",
     "output_type": "stream",
     "text": [
      " 77%|█████████████████████████████████████████████████████████████████████████████████████████████████████▋                              | 154/200 [52:57<15:50, 20.66s/it]"
     ]
    },
    {
     "name": "stdout",
     "output_type": "stream",
     "text": [
      "Query no. 155/200\n",
      "22/22 - 1s - 53ms/step - auc_pr: 0.6932 - loss: 0.0086 - precision: 0.6667 - recall: 0.6154\n",
      "evaluating ..\n",
      "1323/1323 - 17s - 13ms/step\n",
      "{   'fast_trill_6khz': {   'auc_pr': 0.7438173931470856,\n",
      "                           'f1': 0.6363636363636364,\n",
      "                           'precision': 0.8623188405797102,\n",
      "                           'recall': 0.5042372881355932},\n",
      "    'nr_syllable_3khz': {   'auc_pr': 0.9092231143297728,\n",
      "                            'f1': 0.8486238532110092,\n",
      "                            'precision': 0.9390862944162437,\n",
      "                            'recall': 0.7740585774058577},\n",
      "    'triangle_3khz': {   'auc_pr': 0.5049206168036887,\n",
      "                         'f1': 0.5087719298245614,\n",
      "                         'precision': 0.4496124031007752,\n",
      "                         'recall': 0.5858585858585859},\n",
      "    'upsweep_500hz': {   'auc_pr': 0.6608614341655888,\n",
      "                         'f1': 0.5865724381625441,\n",
      "                         'precision': 0.6587301587301587,\n",
      "                         'recall': 0.5286624203821656}}\n"
     ]
    },
    {
     "name": "stderr",
     "output_type": "stream",
     "text": [
      " 78%|██████████████████████████████████████████████████████████████████████████████████████████████████████▎                             | 155/200 [53:17<15:29, 20.64s/it]"
     ]
    },
    {
     "name": "stdout",
     "output_type": "stream",
     "text": [
      "Query no. 156/200\n",
      "22/22 - 1s - 53ms/step - auc_pr: 0.6725 - loss: 0.0148 - precision: 0.7333 - recall: 0.5238\n",
      "evaluating ..\n",
      "1323/1323 - 17s - 13ms/step\n",
      "{   'fast_trill_6khz': {   'auc_pr': 0.7713849931698785,\n",
      "                           'f1': 0.7083333333333334,\n",
      "                           'precision': 0.6967213114754098,\n",
      "                           'recall': 0.7203389830508474},\n",
      "    'nr_syllable_3khz': {   'auc_pr': 0.8966170696817289,\n",
      "                            'f1': 0.8016032064128257,\n",
      "                            'precision': 0.7692307692307693,\n",
      "                            'recall': 0.8368200836820083},\n",
      "    'triangle_3khz': {   'auc_pr': 0.5189899223422474,\n",
      "                         'f1': 0.5494505494505495,\n",
      "                         'precision': 0.6024096385542169,\n",
      "                         'recall': 0.5050505050505051},\n",
      "    'upsweep_500hz': {   'auc_pr': 0.6381439476113921,\n",
      "                         'f1': 0.46788990825688076,\n",
      "                         'precision': 0.8360655737704918,\n",
      "                         'recall': 0.3248407643312102}}\n"
     ]
    },
    {
     "name": "stderr",
     "output_type": "stream",
     "text": [
      " 78%|██████████████████████████████████████████████████████████████████████████████████████████████████████▉                             | 156/200 [53:39<15:25, 21.03s/it]"
     ]
    },
    {
     "name": "stdout",
     "output_type": "stream",
     "text": [
      "Query no. 157/200\n",
      "22/22 - 1s - 58ms/step - auc_pr: 0.8219 - loss: 0.0055 - precision: 0.7273 - recall: 0.6154\n",
      "evaluating ..\n",
      "1323/1323 - 17s - 13ms/step\n",
      "{   'fast_trill_6khz': {   'auc_pr': 0.7693078618895337,\n",
      "                           'f1': 0.7096774193548387,\n",
      "                           'precision': 0.7205240174672489,\n",
      "                           'recall': 0.6991525423728814},\n",
      "    'nr_syllable_3khz': {   'auc_pr': 0.9078185144791985,\n",
      "                            'f1': 0.843010752688172,\n",
      "                            'precision': 0.8672566371681416,\n",
      "                            'recall': 0.8200836820083682},\n",
      "    'triangle_3khz': {   'auc_pr': 0.5290311296685658,\n",
      "                         'f1': 0.497737556561086,\n",
      "                         'precision': 0.45081967213114754,\n",
      "                         'recall': 0.5555555555555556},\n",
      "    'upsweep_500hz': {   'auc_pr': 0.6378944086751863,\n",
      "                         'f1': 0.5833333333333334,\n",
      "                         'precision': 0.719626168224299,\n",
      "                         'recall': 0.49044585987261147}}\n"
     ]
    },
    {
     "name": "stderr",
     "output_type": "stream",
     "text": [
      " 78%|███████████████████████████████████████████████████████████████████████████████████████████████████████▌                            | 157/200 [54:01<15:15, 21.29s/it]"
     ]
    },
    {
     "name": "stdout",
     "output_type": "stream",
     "text": [
      "Query no. 158/200\n",
      "22/22 - 1s - 52ms/step - auc_pr: 0.7765 - loss: 0.0066 - precision: 0.6364 - recall: 0.7000\n",
      "evaluating ..\n",
      "1323/1323 - 17s - 13ms/step\n",
      "{   'fast_trill_6khz': {   'auc_pr': 0.7832555456422011,\n",
      "                           'f1': 0.6055555555555555,\n",
      "                           'precision': 0.8790322580645161,\n",
      "                           'recall': 0.461864406779661},\n",
      "    'nr_syllable_3khz': {   'auc_pr': 0.9067582019598515,\n",
      "                            'f1': 0.8604118993135011,\n",
      "                            'precision': 0.9494949494949495,\n",
      "                            'recall': 0.7866108786610879},\n",
      "    'triangle_3khz': {   'auc_pr': 0.5185311014192002,\n",
      "                         'f1': 0.5,\n",
      "                         'precision': 0.8536585365853658,\n",
      "                         'recall': 0.35353535353535354},\n",
      "    'upsweep_500hz': {   'auc_pr': 0.6966015457761678,\n",
      "                         'f1': 0.6153846153846154,\n",
      "                         'precision': 0.5040650406504065,\n",
      "                         'recall': 0.7898089171974523}}\n"
     ]
    },
    {
     "name": "stderr",
     "output_type": "stream",
     "text": [
      " 79%|████████████████████████████████████████████████████████████████████████████████████████████████████████▎                           | 158/200 [54:22<14:50, 21.21s/it]"
     ]
    },
    {
     "name": "stdout",
     "output_type": "stream",
     "text": [
      "Query no. 159/200\n",
      "22/22 - 1s - 53ms/step - auc_pr: 0.8142 - loss: 0.0122 - precision: 1.0000 - recall: 0.4444\n",
      "evaluating ..\n",
      "1323/1323 - 17s - 13ms/step\n",
      "{   'fast_trill_6khz': {   'auc_pr': 0.7908349496878562,\n",
      "                           'f1': 0.7413441955193483,\n",
      "                           'precision': 0.7137254901960784,\n",
      "                           'recall': 0.7711864406779662},\n",
      "    'nr_syllable_3khz': {   'auc_pr': 0.9130338387143303,\n",
      "                            'f1': 0.8473118279569892,\n",
      "                            'precision': 0.8716814159292036,\n",
      "                            'recall': 0.8242677824267782},\n",
      "    'triangle_3khz': {   'auc_pr': 0.5222448527434779,\n",
      "                         'f1': 0.4083044982698962,\n",
      "                         'precision': 0.3105263157894737,\n",
      "                         'recall': 0.5959595959595959},\n",
      "    'upsweep_500hz': {   'auc_pr': 0.7065913170060372,\n",
      "                         'f1': 0.6666666666666666,\n",
      "                         'precision': 0.6583850931677019,\n",
      "                         'recall': 0.6751592356687898}}\n"
     ]
    },
    {
     "name": "stderr",
     "output_type": "stream",
     "text": [
      " 80%|████████████████████████████████████████████████████████████████████████████████████████████████████████▉                           | 159/200 [54:43<14:27, 21.16s/it]"
     ]
    },
    {
     "name": "stdout",
     "output_type": "stream",
     "text": [
      "Query no. 160/200\n",
      "22/22 - 1s - 54ms/step - auc_pr: 0.7907 - loss: 0.0105 - precision: 0.8750 - recall: 0.7778\n",
      "evaluating ..\n",
      "1323/1323 - 17s - 13ms/step\n",
      "{   'fast_trill_6khz': {   'auc_pr': 0.650662431823185,\n",
      "                           'f1': 0.6241830065359477,\n",
      "                           'precision': 0.5079787234042553,\n",
      "                           'recall': 0.809322033898305},\n",
      "    'nr_syllable_3khz': {   'auc_pr': 0.9185031151562714,\n",
      "                            'f1': 0.869757174392936,\n",
      "                            'precision': 0.9205607476635514,\n",
      "                            'recall': 0.8242677824267782},\n",
      "    'triangle_3khz': {   'auc_pr': 0.5276602854093507,\n",
      "                         'f1': 0.5487804878048781,\n",
      "                         'precision': 0.6923076923076923,\n",
      "                         'recall': 0.45454545454545453},\n",
      "    'upsweep_500hz': {   'auc_pr': 0.6220326597046685,\n",
      "                         'f1': 0.6021505376344086,\n",
      "                         'precision': 0.6885245901639344,\n",
      "                         'recall': 0.535031847133758}}\n"
     ]
    },
    {
     "name": "stderr",
     "output_type": "stream",
     "text": [
      " 80%|█████████████████████████████████████████████████████████████████████████████████████████████████████████▌                          | 160/200 [55:04<14:02, 21.05s/it]"
     ]
    },
    {
     "name": "stdout",
     "output_type": "stream",
     "text": [
      "Query no. 161/200\n",
      "22/22 - 1s - 56ms/step - auc_pr: 0.9042 - loss: 0.0062 - precision: 0.7778 - recall: 0.8750\n",
      "evaluating ..\n",
      "1323/1323 - 17s - 13ms/step\n",
      "{   'fast_trill_6khz': {   'auc_pr': 0.717101033896198,\n",
      "                           'f1': 0.6149732620320856,\n",
      "                           'precision': 0.8333333333333334,\n",
      "                           'recall': 0.4872881355932203},\n",
      "    'nr_syllable_3khz': {   'auc_pr': 0.9274289578374613,\n",
      "                            'f1': 0.8738738738738738,\n",
      "                            'precision': 0.9463414634146341,\n",
      "                            'recall': 0.8117154811715481},\n",
      "    'triangle_3khz': {   'auc_pr': 0.5258007043439775,\n",
      "                         'f1': 0.53,\n",
      "                         'precision': 0.5247524752475248,\n",
      "                         'recall': 0.5353535353535354},\n",
      "    'upsweep_500hz': {   'auc_pr': 0.6703282232375886,\n",
      "                         'f1': 0.5338983050847458,\n",
      "                         'precision': 0.7974683544303798,\n",
      "                         'recall': 0.4012738853503185}}\n"
     ]
    },
    {
     "name": "stderr",
     "output_type": "stream",
     "text": [
      " 80%|██████████████████████████████████████████████████████████████████████████████████████████████████████████▎                         | 161/200 [55:25<13:39, 21.01s/it]"
     ]
    },
    {
     "name": "stdout",
     "output_type": "stream",
     "text": [
      "Query no. 162/200\n",
      "22/22 - 1s - 53ms/step - auc_pr: 0.8138 - loss: 0.0086 - precision: 0.8333 - recall: 0.6667\n",
      "evaluating ..\n",
      "1323/1323 - 17s - 13ms/step\n",
      "{   'fast_trill_6khz': {   'auc_pr': 0.6768226339879658,\n",
      "                           'f1': 0.6327077747989276,\n",
      "                           'precision': 0.8613138686131386,\n",
      "                           'recall': 0.5},\n",
      "    'nr_syllable_3khz': {   'auc_pr': 0.918496482534629,\n",
      "                            'f1': 0.8654708520179372,\n",
      "                            'precision': 0.9323671497584541,\n",
      "                            'recall': 0.8075313807531381},\n",
      "    'triangle_3khz': {   'auc_pr': 0.5168880492734133,\n",
      "                         'f1': 0.5108225108225108,\n",
      "                         'precision': 0.44696969696969696,\n",
      "                         'recall': 0.5959595959595959},\n",
      "    'upsweep_500hz': {   'auc_pr': 0.6730456917400578,\n",
      "                         'f1': 0.552,\n",
      "                         'precision': 0.7419354838709677,\n",
      "                         'recall': 0.4394904458598726}}\n"
     ]
    },
    {
     "name": "stderr",
     "output_type": "stream",
     "text": [
      " 81%|██████████████████████████████████████████████████████████████████████████████████████████████████████████▉                         | 162/200 [55:46<13:15, 20.93s/it]"
     ]
    },
    {
     "name": "stdout",
     "output_type": "stream",
     "text": [
      "Query no. 163/200\n",
      "22/22 - 1s - 53ms/step - auc_pr: 0.7696 - loss: 0.0089 - precision: 0.8182 - recall: 0.6429\n",
      "evaluating ..\n",
      "1323/1323 - 17s - 13ms/step\n",
      "{   'fast_trill_6khz': {   'auc_pr': 0.6786233881863699,\n",
      "                           'f1': 0.6273458445040214,\n",
      "                           'precision': 0.8540145985401459,\n",
      "                           'recall': 0.4957627118644068},\n",
      "    'nr_syllable_3khz': {   'auc_pr': 0.893334571270478,\n",
      "                            'f1': 0.8514851485148515,\n",
      "                            'precision': 0.8082706766917294,\n",
      "                            'recall': 0.899581589958159},\n",
      "    'triangle_3khz': {   'auc_pr': 0.5212833423602695,\n",
      "                         'f1': 0.5539906103286385,\n",
      "                         'precision': 0.5175438596491229,\n",
      "                         'recall': 0.5959595959595959},\n",
      "    'upsweep_500hz': {   'auc_pr': 0.667684020749525,\n",
      "                         'f1': 0.5491803278688525,\n",
      "                         'precision': 0.7701149425287356,\n",
      "                         'recall': 0.4267515923566879}}\n"
     ]
    },
    {
     "name": "stderr",
     "output_type": "stream",
     "text": [
      " 82%|███████████████████████████████████████████████████████████████████████████████████████████████████████████▌                        | 163/200 [56:06<12:50, 20.84s/it]"
     ]
    },
    {
     "name": "stdout",
     "output_type": "stream",
     "text": [
      "Query no. 164/200\n",
      "22/22 - 1s - 53ms/step - auc_pr: 0.6806 - loss: 0.0084 - precision: 0.6667 - recall: 0.5000\n",
      "evaluating ..\n",
      "1323/1323 - 17s - 13ms/step\n",
      "{   'fast_trill_6khz': {   'auc_pr': 0.454592389304154,\n",
      "                           'f1': 0.3501683501683502,\n",
      "                           'precision': 0.8524590163934426,\n",
      "                           'recall': 0.22033898305084745},\n",
      "    'nr_syllable_3khz': {   'auc_pr': 0.8614437914804564,\n",
      "                            'f1': 0.7258883248730964,\n",
      "                            'precision': 0.9225806451612903,\n",
      "                            'recall': 0.5983263598326359},\n",
      "    'triangle_3khz': {   'auc_pr': 0.4846698500828724,\n",
      "                         'f1': 0.5058823529411764,\n",
      "                         'precision': 0.6056338028169014,\n",
      "                         'recall': 0.43434343434343436},\n",
      "    'upsweep_500hz': {   'auc_pr': 0.6789146099935931,\n",
      "                         'f1': 0.5714285714285714,\n",
      "                         'precision': 0.7254901960784313,\n",
      "                         'recall': 0.4713375796178344}}\n"
     ]
    },
    {
     "name": "stderr",
     "output_type": "stream",
     "text": [
      " 82%|████████████████████████████████████████████████████████████████████████████████████████████████████████████▏                       | 164/200 [56:27<12:27, 20.78s/it]"
     ]
    },
    {
     "name": "stdout",
     "output_type": "stream",
     "text": [
      "Query no. 165/200\n",
      "22/22 - 1s - 54ms/step - auc_pr: 0.7186 - loss: 0.0127 - precision: 0.8571 - recall: 0.6000\n",
      "evaluating ..\n",
      "1323/1323 - 17s - 13ms/step\n",
      "{   'fast_trill_6khz': {   'auc_pr': 0.7328044967752607,\n",
      "                           'f1': 0.6081871345029239,\n",
      "                           'precision': 0.4642857142857143,\n",
      "                           'recall': 0.8813559322033898},\n",
      "    'nr_syllable_3khz': {   'auc_pr': 0.9125513646096853,\n",
      "                            'f1': 0.8823529411764706,\n",
      "                            'precision': 0.8860759493670886,\n",
      "                            'recall': 0.8786610878661087},\n",
      "    'triangle_3khz': {   'auc_pr': 0.5290184908619917,\n",
      "                         'f1': 0.5402843601895735,\n",
      "                         'precision': 0.5089285714285714,\n",
      "                         'recall': 0.5757575757575758},\n",
      "    'upsweep_500hz': {   'auc_pr': 0.730041864944398,\n",
      "                         'f1': 0.6726190476190477,\n",
      "                         'precision': 0.6312849162011173,\n",
      "                         'recall': 0.7197452229299363}}\n"
     ]
    },
    {
     "name": "stderr",
     "output_type": "stream",
     "text": [
      " 82%|████████████████████████████████████████████████████████████████████████████████████████████████████████████▉                       | 165/200 [56:48<12:07, 20.80s/it]"
     ]
    },
    {
     "name": "stdout",
     "output_type": "stream",
     "text": [
      "Query no. 166/200\n",
      "22/22 - 1s - 55ms/step - auc_pr: 0.9014 - loss: 0.0067 - precision: 0.9091 - recall: 0.9091\n",
      "evaluating ..\n",
      "1323/1323 - 17s - 13ms/step\n",
      "{   'fast_trill_6khz': {   'auc_pr': 0.728951690668993,\n",
      "                           'f1': 0.6755218216318786,\n",
      "                           'precision': 0.6116838487972509,\n",
      "                           'recall': 0.7542372881355932},\n",
      "    'nr_syllable_3khz': {   'auc_pr': 0.9188413081191459,\n",
      "                            'f1': 0.8729508196721312,\n",
      "                            'precision': 0.8554216867469879,\n",
      "                            'recall': 0.891213389121339},\n",
      "    'triangle_3khz': {   'auc_pr': 0.5087150131095002,\n",
      "                         'f1': 0.5306122448979592,\n",
      "                         'precision': 0.5360824742268041,\n",
      "                         'recall': 0.5252525252525253},\n",
      "    'upsweep_500hz': {   'auc_pr': 0.6699985563081359,\n",
      "                         'f1': 0.5679012345679012,\n",
      "                         'precision': 0.8023255813953488,\n",
      "                         'recall': 0.4394904458598726}}\n"
     ]
    },
    {
     "name": "stderr",
     "output_type": "stream",
     "text": [
      " 83%|█████████████████████████████████████████████████████████████████████████████████████████████████████████████▌                      | 166/200 [57:08<11:45, 20.75s/it]"
     ]
    },
    {
     "name": "stdout",
     "output_type": "stream",
     "text": [
      "Query no. 167/200\n",
      "22/22 - 1s - 55ms/step - auc_pr: 0.7514 - loss: 0.0114 - precision: 0.7500 - recall: 0.7059\n",
      "evaluating ..\n",
      "1323/1323 - 17s - 13ms/step\n",
      "{   'fast_trill_6khz': {   'auc_pr': 0.6868171542045824,\n",
      "                           'f1': 0.6490872210953347,\n",
      "                           'precision': 0.622568093385214,\n",
      "                           'recall': 0.6779661016949152},\n",
      "    'nr_syllable_3khz': {   'auc_pr': 0.9063707485572714,\n",
      "                            'f1': 0.8105065666041276,\n",
      "                            'precision': 0.7346938775510204,\n",
      "                            'recall': 0.9037656903765691},\n",
      "    'triangle_3khz': {   'auc_pr': 0.4979189770789884,\n",
      "                         'f1': 0.5070422535211268,\n",
      "                         'precision': 0.8372093023255814,\n",
      "                         'recall': 0.36363636363636365},\n",
      "    'upsweep_500hz': {   'auc_pr': 0.6343707576796489,\n",
      "                         'f1': 0.5573770491803278,\n",
      "                         'precision': 0.7816091954022989,\n",
      "                         'recall': 0.43312101910828027}}\n"
     ]
    },
    {
     "name": "stderr",
     "output_type": "stream",
     "text": [
      " 84%|██████████████████████████████████████████████████████████████████████████████████████████████████████████████▏                     | 167/200 [57:29<11:24, 20.75s/it]"
     ]
    },
    {
     "name": "stdout",
     "output_type": "stream",
     "text": [
      "Query no. 168/200\n",
      "22/22 - 1s - 54ms/step - auc_pr: 0.8346 - loss: 0.0067 - precision: 0.7500 - recall: 0.6000\n",
      "evaluating ..\n",
      "1323/1323 - 17s - 13ms/step\n",
      "{   'fast_trill_6khz': {   'auc_pr': 0.7268834017145561,\n",
      "                           'f1': 0.7014613778705637,\n",
      "                           'precision': 0.691358024691358,\n",
      "                           'recall': 0.711864406779661},\n",
      "    'nr_syllable_3khz': {   'auc_pr': 0.9178573410463078,\n",
      "                            'f1': 0.8733031674208145,\n",
      "                            'precision': 0.9507389162561576,\n",
      "                            'recall': 0.8075313807531381},\n",
      "    'triangle_3khz': {   'auc_pr': 0.4838514945916213,\n",
      "                         'f1': 0.5,\n",
      "                         'precision': 0.8536585365853658,\n",
      "                         'recall': 0.35353535353535354},\n",
      "    'upsweep_500hz': {   'auc_pr': 0.7063206611302535,\n",
      "                         'f1': 0.6558265582655827,\n",
      "                         'precision': 0.5707547169811321,\n",
      "                         'recall': 0.7707006369426752}}\n"
     ]
    },
    {
     "name": "stderr",
     "output_type": "stream",
     "text": [
      " 84%|██████████████████████████████████████████████████████████████████████████████████████████████████████████████▉                     | 168/200 [57:50<11:04, 20.76s/it]"
     ]
    },
    {
     "name": "stdout",
     "output_type": "stream",
     "text": [
      "Query no. 169/200\n",
      "22/22 - 1s - 53ms/step - auc_pr: 0.6830 - loss: 0.0117 - precision: 0.7143 - recall: 0.6667\n",
      "evaluating ..\n",
      "1323/1323 - 17s - 13ms/step\n",
      "{   'fast_trill_6khz': {   'auc_pr': 0.7340516955927056,\n",
      "                           'f1': 0.6858513189448441,\n",
      "                           'precision': 0.7900552486187845,\n",
      "                           'recall': 0.6059322033898306},\n",
      "    'nr_syllable_3khz': {   'auc_pr': 0.9139160118939387,\n",
      "                            'f1': 0.8761061946902655,\n",
      "                            'precision': 0.9295774647887324,\n",
      "                            'recall': 0.8284518828451883},\n",
      "    'triangle_3khz': {   'auc_pr': 0.520893910032003,\n",
      "                         'f1': 0.5497076023391813,\n",
      "                         'precision': 0.6527777777777778,\n",
      "                         'recall': 0.47474747474747475},\n",
      "    'upsweep_500hz': {   'auc_pr': 0.7452770569773212,\n",
      "                         'f1': 0.6978193146417445,\n",
      "                         'precision': 0.6829268292682927,\n",
      "                         'recall': 0.7133757961783439}}\n"
     ]
    },
    {
     "name": "stderr",
     "output_type": "stream",
     "text": [
      " 84%|███████████████████████████████████████████████████████████████████████████████████████████████████████████████▌                    | 169/200 [58:11<10:47, 20.89s/it]"
     ]
    },
    {
     "name": "stdout",
     "output_type": "stream",
     "text": [
      "Query no. 170/200\n",
      "22/22 - 1s - 55ms/step - auc_pr: 0.7473 - loss: 0.0098 - precision: 0.8571 - recall: 0.7059\n",
      "evaluating ..\n",
      "1323/1323 - 17s - 13ms/step\n",
      "{   'fast_trill_6khz': {   'auc_pr': 0.7725327407627123,\n",
      "                           'f1': 0.7333333333333333,\n",
      "                           'precision': 0.6824817518248175,\n",
      "                           'recall': 0.7923728813559322},\n",
      "    'nr_syllable_3khz': {   'auc_pr': 0.9059674250847859,\n",
      "                            'f1': 0.8632478632478633,\n",
      "                            'precision': 0.8820960698689956,\n",
      "                            'recall': 0.8451882845188284},\n",
      "    'triangle_3khz': {   'auc_pr': 0.5296167679833702,\n",
      "                         'f1': 0.5473684210526316,\n",
      "                         'precision': 0.5714285714285714,\n",
      "                         'recall': 0.5252525252525253},\n",
      "    'upsweep_500hz': {   'auc_pr': 0.7162631569293116,\n",
      "                         'f1': 0.6533333333333333,\n",
      "                         'precision': 0.6853146853146853,\n",
      "                         'recall': 0.6242038216560509}}\n"
     ]
    },
    {
     "name": "stderr",
     "output_type": "stream",
     "text": [
      " 85%|████████████████████████████████████████████████████████████████████████████████████████████████████████████████▏                   | 170/200 [58:32<10:24, 20.81s/it]"
     ]
    },
    {
     "name": "stdout",
     "output_type": "stream",
     "text": [
      "Query no. 171/200\n",
      "22/22 - 1s - 54ms/step - auc_pr: 0.4663 - loss: 0.0147 - precision: 0.5556 - recall: 0.3846\n",
      "evaluating ..\n",
      "1323/1323 - 17s - 13ms/step\n",
      "{   'fast_trill_6khz': {   'auc_pr': 0.7884354957719625,\n",
      "                           'f1': 0.6819672131147541,\n",
      "                           'precision': 0.5561497326203209,\n",
      "                           'recall': 0.8813559322033898},\n",
      "    'nr_syllable_3khz': {   'auc_pr': 0.916622499303489,\n",
      "                            'f1': 0.8571428571428571,\n",
      "                            'precision': 0.8255813953488372,\n",
      "                            'recall': 0.891213389121339},\n",
      "    'triangle_3khz': {   'auc_pr': 0.5210703093147776,\n",
      "                         'f1': 0.5194805194805194,\n",
      "                         'precision': 0.7272727272727273,\n",
      "                         'recall': 0.40404040404040403},\n",
      "    'upsweep_500hz': {   'auc_pr': 0.6558309418634128,\n",
      "                         'f1': 0.4890829694323144,\n",
      "                         'precision': 0.7777777777777778,\n",
      "                         'recall': 0.35668789808917195}}\n"
     ]
    },
    {
     "name": "stderr",
     "output_type": "stream",
     "text": [
      " 86%|████████████████████████████████████████████████████████████████████████████████████████████████████████████████▊                   | 171/200 [58:52<10:02, 20.77s/it]"
     ]
    },
    {
     "name": "stdout",
     "output_type": "stream",
     "text": [
      "Query no. 172/200\n",
      "22/22 - 1s - 55ms/step - auc_pr: 0.7624 - loss: 0.0073 - precision: 0.8182 - recall: 0.6923\n",
      "evaluating ..\n",
      "1323/1323 - 17s - 13ms/step\n",
      "{   'fast_trill_6khz': {   'auc_pr': 0.7558360732844616,\n",
      "                           'f1': 0.7177242888402626,\n",
      "                           'precision': 0.7420814479638009,\n",
      "                           'recall': 0.6949152542372882},\n",
      "    'nr_syllable_3khz': {   'auc_pr': 0.8850510197679818,\n",
      "                            'f1': 0.8046511627906977,\n",
      "                            'precision': 0.9057591623036649,\n",
      "                            'recall': 0.7238493723849372},\n",
      "    'triangle_3khz': {   'auc_pr': 0.48286177781523354,\n",
      "                         'f1': 0.44933920704845814,\n",
      "                         'precision': 0.3984375,\n",
      "                         'recall': 0.5151515151515151},\n",
      "    'upsweep_500hz': {   'auc_pr': 0.5691563327641346,\n",
      "                         'f1': 0.39603960396039606,\n",
      "                         'precision': 0.8888888888888888,\n",
      "                         'recall': 0.25477707006369427}}\n"
     ]
    },
    {
     "name": "stderr",
     "output_type": "stream",
     "text": [
      " 86%|█████████████████████████████████████████████████████████████████████████████████████████████████████████████████▌                  | 172/200 [59:13<09:40, 20.73s/it]"
     ]
    },
    {
     "name": "stdout",
     "output_type": "stream",
     "text": [
      "Query no. 173/200\n",
      "22/22 - 1s - 55ms/step - auc_pr: 0.7827 - loss: 0.0123 - precision: 0.8125 - recall: 0.6500\n",
      "evaluating ..\n",
      "1323/1323 - 17s - 13ms/step\n",
      "{   'fast_trill_6khz': {   'auc_pr': 0.7409213465621104,\n",
      "                           'f1': 0.7212389380530974,\n",
      "                           'precision': 0.7546296296296297,\n",
      "                           'recall': 0.690677966101695},\n",
      "    'nr_syllable_3khz': {   'auc_pr': 0.8925918376665319,\n",
      "                            'f1': 0.825,\n",
      "                            'precision': 0.8215767634854771,\n",
      "                            'recall': 0.8284518828451883},\n",
      "    'triangle_3khz': {   'auc_pr': 0.49615846670657177,\n",
      "                         'f1': 0.48,\n",
      "                         'precision': 0.5526315789473685,\n",
      "                         'recall': 0.42424242424242425},\n",
      "    'upsweep_500hz': {   'auc_pr': 0.696806495284479,\n",
      "                         'f1': 0.5855855855855856,\n",
      "                         'precision': 0.4529616724738676,\n",
      "                         'recall': 0.8280254777070064}}\n"
     ]
    },
    {
     "name": "stderr",
     "output_type": "stream",
     "text": [
      " 86%|██████████████████████████████████████████████████████████████████████████████████████████████████████████████████▏                 | 173/200 [59:34<09:19, 20.73s/it]"
     ]
    },
    {
     "name": "stdout",
     "output_type": "stream",
     "text": [
      "Query no. 174/200\n",
      "22/22 - 1s - 57ms/step - auc_pr: 0.8073 - loss: 0.0101 - precision: 0.8000 - recall: 0.6000\n",
      "evaluating ..\n",
      "1323/1323 - 17s - 13ms/step\n",
      "{   'fast_trill_6khz': {   'auc_pr': 0.7353041141848687,\n",
      "                           'f1': 0.7025948103792415,\n",
      "                           'precision': 0.6641509433962264,\n",
      "                           'recall': 0.7457627118644068},\n",
      "    'nr_syllable_3khz': {   'auc_pr': 0.9102594780894946,\n",
      "                            'f1': 0.7773722627737226,\n",
      "                            'precision': 0.6893203883495146,\n",
      "                            'recall': 0.891213389121339},\n",
      "    'triangle_3khz': {   'auc_pr': 0.5189015286716694,\n",
      "                         'f1': 0.5022026431718062,\n",
      "                         'precision': 0.4453125,\n",
      "                         'recall': 0.5757575757575758},\n",
      "    'upsweep_500hz': {   'auc_pr': 0.6792865988279218,\n",
      "                         'f1': 0.6145833333333334,\n",
      "                         'precision': 0.5198237885462555,\n",
      "                         'recall': 0.7515923566878981}}\n"
     ]
    },
    {
     "name": "stderr",
     "output_type": "stream",
     "text": [
      " 87%|██████████████████████████████████████████████████████████████████████████████████████████████████████████████████▊                 | 174/200 [59:55<08:59, 20.75s/it]"
     ]
    },
    {
     "name": "stdout",
     "output_type": "stream",
     "text": [
      "Query no. 175/200\n",
      "22/22 - 1s - 53ms/step - auc_pr: 0.7591 - loss: 0.0069 - precision: 0.6667 - recall: 0.6667\n",
      "evaluating ..\n",
      "1323/1323 - 17s - 13ms/step\n",
      "{   'fast_trill_6khz': {   'auc_pr': 0.7068924169113281,\n",
      "                           'f1': 0.112,\n",
      "                           'precision': 1.0,\n",
      "                           'recall': 0.059322033898305086},\n",
      "    'nr_syllable_3khz': {   'auc_pr': 0.9129567580491107,\n",
      "                            'f1': 0.8779443254817987,\n",
      "                            'precision': 0.8991228070175439,\n",
      "                            'recall': 0.8577405857740585},\n",
      "    'triangle_3khz': {   'auc_pr': 0.5122213935329847,\n",
      "                         'f1': 0.5185185185185185,\n",
      "                         'precision': 0.6666666666666666,\n",
      "                         'recall': 0.42424242424242425},\n",
      "    'upsweep_500hz': {   'auc_pr': 0.7075913027564789,\n",
      "                         'f1': 0.6758241758241759,\n",
      "                         'precision': 0.5942028985507246,\n",
      "                         'recall': 0.7834394904458599}}\n"
     ]
    },
    {
     "name": "stderr",
     "output_type": "stream",
     "text": [
      " 88%|█████████████████████████████████████████████████████████████████████████████████████████████████████████████████▊                | 175/200 [1:00:15<08:37, 20.69s/it]"
     ]
    },
    {
     "name": "stdout",
     "output_type": "stream",
     "text": [
      "Query no. 176/200\n",
      "22/22 - 1s - 53ms/step - auc_pr: 0.7041 - loss: 0.0142 - precision: 0.7143 - recall: 0.5882\n",
      "evaluating ..\n",
      "1323/1323 - 17s - 13ms/step\n",
      "{   'fast_trill_6khz': {   'auc_pr': 0.7775045008296072,\n",
      "                           'f1': 0.719047619047619,\n",
      "                           'precision': 0.8206521739130435,\n",
      "                           'recall': 0.6398305084745762},\n",
      "    'nr_syllable_3khz': {   'auc_pr': 0.9070757192835355,\n",
      "                            'f1': 0.8551724137931035,\n",
      "                            'precision': 0.9489795918367347,\n",
      "                            'recall': 0.7782426778242678},\n",
      "    'triangle_3khz': {   'auc_pr': 0.5452660224831347,\n",
      "                         'f1': 0.5760869565217391,\n",
      "                         'precision': 0.6235294117647059,\n",
      "                         'recall': 0.5353535353535354},\n",
      "    'upsweep_500hz': {   'auc_pr': 0.6679486216727706,\n",
      "                         'f1': 0.4700460829493088,\n",
      "                         'precision': 0.85,\n",
      "                         'recall': 0.3248407643312102}}\n"
     ]
    },
    {
     "name": "stderr",
     "output_type": "stream",
     "text": [
      " 88%|██████████████████████████████████████████████████████████████████████████████████████████████████████████████████▍               | 176/200 [1:00:36<08:15, 20.66s/it]"
     ]
    },
    {
     "name": "stdout",
     "output_type": "stream",
     "text": [
      "Query no. 177/200\n",
      "22/22 - 1s - 54ms/step - auc_pr: 0.7507 - loss: 0.0062 - precision: 0.6667 - recall: 0.5714\n",
      "evaluating ..\n",
      "1323/1323 - 17s - 13ms/step\n",
      "{   'fast_trill_6khz': {   'auc_pr': 0.7852452296695915,\n",
      "                           'f1': 0.7358916478555305,\n",
      "                           'precision': 0.7874396135265701,\n",
      "                           'recall': 0.690677966101695},\n",
      "    'nr_syllable_3khz': {   'auc_pr': 0.9190178511511107,\n",
      "                            'f1': 0.8769574944071589,\n",
      "                            'precision': 0.9423076923076923,\n",
      "                            'recall': 0.8200836820083682},\n",
      "    'triangle_3khz': {   'auc_pr': 0.5393023730978014,\n",
      "                         'f1': 0.54421768707483,\n",
      "                         'precision': 0.8333333333333334,\n",
      "                         'recall': 0.40404040404040403},\n",
      "    'upsweep_500hz': {   'auc_pr': 0.6870786263744141,\n",
      "                         'f1': 0.5022421524663677,\n",
      "                         'precision': 0.8484848484848485,\n",
      "                         'recall': 0.35668789808917195}}\n"
     ]
    },
    {
     "name": "stderr",
     "output_type": "stream",
     "text": [
      " 88%|███████████████████████████████████████████████████████████████████████████████████████████████████████████████████               | 177/200 [1:00:56<07:55, 20.67s/it]"
     ]
    },
    {
     "name": "stdout",
     "output_type": "stream",
     "text": [
      "Query no. 178/200\n",
      "22/22 - 1s - 54ms/step - auc_pr: 0.9631 - loss: 0.0059 - precision: 1.0000 - recall: 0.6250\n",
      "evaluating ..\n",
      "1323/1323 - 17s - 13ms/step\n",
      "{   'fast_trill_6khz': {   'auc_pr': 0.8007334128882159,\n",
      "                           'f1': 0.7486033519553073,\n",
      "                           'precision': 0.6677740863787376,\n",
      "                           'recall': 0.8516949152542372},\n",
      "    'nr_syllable_3khz': {   'auc_pr': 0.9192527172982974,\n",
      "                            'f1': 0.8628230616302187,\n",
      "                            'precision': 0.821969696969697,\n",
      "                            'recall': 0.9079497907949791},\n",
      "    'triangle_3khz': {   'auc_pr': 0.5518543101720994,\n",
      "                         'f1': 0.5759162303664922,\n",
      "                         'precision': 0.5978260869565217,\n",
      "                         'recall': 0.5555555555555556},\n",
      "    'upsweep_500hz': {   'auc_pr': 0.679536703629214,\n",
      "                         'f1': 0.6312056737588653,\n",
      "                         'precision': 0.712,\n",
      "                         'recall': 0.5668789808917197}}\n"
     ]
    },
    {
     "name": "stderr",
     "output_type": "stream",
     "text": [
      " 89%|███████████████████████████████████████████████████████████████████████████████████████████████████████████████████▋              | 178/200 [1:01:17<07:34, 20.68s/it]"
     ]
    },
    {
     "name": "stdout",
     "output_type": "stream",
     "text": [
      "Query no. 179/200\n",
      "22/22 - 1s - 54ms/step - auc_pr: 0.7151 - loss: 0.0092 - precision: 0.7000 - recall: 0.5833\n",
      "evaluating ..\n",
      "1323/1323 - 18s - 14ms/step\n",
      "{   'fast_trill_6khz': {   'auc_pr': 0.7832533240249792,\n",
      "                           'f1': 0.7073608617594255,\n",
      "                           'precision': 0.6137071651090342,\n",
      "                           'recall': 0.8347457627118644},\n",
      "    'nr_syllable_3khz': {   'auc_pr': 0.9139188225923948,\n",
      "                            'f1': 0.8786610878661087,\n",
      "                            'precision': 0.8786610878661087,\n",
      "                            'recall': 0.8786610878661087},\n",
      "    'triangle_3khz': {   'auc_pr': 0.5628442589262241,\n",
      "                         'f1': 0.5925925925925926,\n",
      "                         'precision': 0.7619047619047619,\n",
      "                         'recall': 0.48484848484848486},\n",
      "    'upsweep_500hz': {   'auc_pr': 0.7058962742239197,\n",
      "                         'f1': 0.6350974930362117,\n",
      "                         'precision': 0.5643564356435643,\n",
      "                         'recall': 0.7261146496815286}}\n"
     ]
    },
    {
     "name": "stderr",
     "output_type": "stream",
     "text": [
      " 90%|████████████████████████████████████████████████████████████████████████████████████████████████████████████████████▎             | 179/200 [1:01:39<07:23, 21.12s/it]"
     ]
    },
    {
     "name": "stdout",
     "output_type": "stream",
     "text": [
      "Query no. 180/200\n",
      "22/22 - 1s - 57ms/step - auc_pr: 0.8211 - loss: 0.0129 - precision: 0.9000 - recall: 0.7200\n",
      "evaluating ..\n",
      "1323/1323 - 17s - 13ms/step\n",
      "{   'fast_trill_6khz': {   'auc_pr': 0.8002014117167959,\n",
      "                           'f1': 0.7433962264150943,\n",
      "                           'precision': 0.6700680272108843,\n",
      "                           'recall': 0.8347457627118644},\n",
      "    'nr_syllable_3khz': {   'auc_pr': 0.9122437167013531,\n",
      "                            'f1': 0.8538283062645011,\n",
      "                            'precision': 0.9583333333333334,\n",
      "                            'recall': 0.7698744769874477},\n",
      "    'triangle_3khz': {   'auc_pr': 0.5436122346380441,\n",
      "                         'f1': 0.5952380952380952,\n",
      "                         'precision': 0.7246376811594203,\n",
      "                         'recall': 0.5050505050505051},\n",
      "    'upsweep_500hz': {   'auc_pr': 0.6992273390849764,\n",
      "                         'f1': 0.6456140350877193,\n",
      "                         'precision': 0.71875,\n",
      "                         'recall': 0.5859872611464968}}\n"
     ]
    },
    {
     "name": "stderr",
     "output_type": "stream",
     "text": [
      " 90%|█████████████████████████████████████████████████████████████████████████████████████████████████████████████████████             | 180/200 [1:02:01<07:04, 21.21s/it]"
     ]
    },
    {
     "name": "stdout",
     "output_type": "stream",
     "text": [
      "Query no. 181/200\n",
      "22/22 - 1s - 54ms/step - auc_pr: 0.7562 - loss: 0.0109 - precision: 1.0000 - recall: 0.6250\n",
      "evaluating ..\n",
      "1323/1323 - 17s - 13ms/step\n",
      "{   'fast_trill_6khz': {   'auc_pr': 0.792730479019827,\n",
      "                           'f1': 0.7419354838709677,\n",
      "                           'precision': 0.8131313131313131,\n",
      "                           'recall': 0.6822033898305084},\n",
      "    'nr_syllable_3khz': {   'auc_pr': 0.9044263584212708,\n",
      "                            'f1': 0.868421052631579,\n",
      "                            'precision': 0.9124423963133641,\n",
      "                            'recall': 0.8284518828451883},\n",
      "    'triangle_3khz': {   'auc_pr': 0.5237811548560143,\n",
      "                         'f1': 0.5699481865284974,\n",
      "                         'precision': 0.5851063829787234,\n",
      "                         'recall': 0.5555555555555556},\n",
      "    'upsweep_500hz': {   'auc_pr': 0.688645655366027,\n",
      "                         'f1': 0.6518105849582173,\n",
      "                         'precision': 0.5792079207920792,\n",
      "                         'recall': 0.7452229299363057}}\n"
     ]
    },
    {
     "name": "stderr",
     "output_type": "stream",
     "text": [
      " 90%|█████████████████████████████████████████████████████████████████████████████████████████████████████████████████████▋            | 181/200 [1:02:22<06:44, 21.29s/it]"
     ]
    },
    {
     "name": "stdout",
     "output_type": "stream",
     "text": [
      "Query no. 182/200\n",
      "22/22 - 1s - 54ms/step - auc_pr: 0.7186 - loss: 0.0108 - precision: 0.7500 - recall: 0.6923\n",
      "evaluating ..\n",
      "1323/1323 - 17s - 13ms/step\n",
      "{   'fast_trill_6khz': {   'auc_pr': 0.7867697919165602,\n",
      "                           'f1': 0.755056179775281,\n",
      "                           'precision': 0.8038277511961722,\n",
      "                           'recall': 0.711864406779661},\n",
      "    'nr_syllable_3khz': {   'auc_pr': 0.8865608025829155,\n",
      "                            'f1': 0.8373205741626795,\n",
      "                            'precision': 0.9776536312849162,\n",
      "                            'recall': 0.7322175732217573},\n",
      "    'triangle_3khz': {   'auc_pr': 0.5131288559628998,\n",
      "                         'f1': 0.569620253164557,\n",
      "                         'precision': 0.7627118644067796,\n",
      "                         'recall': 0.45454545454545453},\n",
      "    'upsweep_500hz': {   'auc_pr': 0.6814927585078574,\n",
      "                         'f1': 0.5477178423236515,\n",
      "                         'precision': 0.7857142857142857,\n",
      "                         'recall': 0.42038216560509556}}\n"
     ]
    },
    {
     "name": "stderr",
     "output_type": "stream",
     "text": [
      " 91%|██████████████████████████████████████████████████████████████████████████████████████████████████████████████████████▎           | 182/200 [1:02:44<06:23, 21.30s/it]"
     ]
    },
    {
     "name": "stdout",
     "output_type": "stream",
     "text": [
      "Query no. 183/200\n",
      "22/22 - 1s - 54ms/step - auc_pr: 0.8227 - loss: 0.0076 - precision: 0.8462 - recall: 0.7333\n",
      "evaluating ..\n",
      "1323/1323 - 17s - 13ms/step\n",
      "{   'fast_trill_6khz': {   'auc_pr': 0.7782800900125686,\n",
      "                           'f1': 0.7441860465116279,\n",
      "                           'precision': 0.7426160337552743,\n",
      "                           'recall': 0.7457627118644068},\n",
      "    'nr_syllable_3khz': {   'auc_pr': 0.8760793852335718,\n",
      "                            'f1': 0.8094218415417559,\n",
      "                            'precision': 0.8289473684210527,\n",
      "                            'recall': 0.7907949790794979},\n",
      "    'triangle_3khz': {   'auc_pr': 0.5272837950496474,\n",
      "                         'f1': 0.5463917525773195,\n",
      "                         'precision': 0.5578947368421052,\n",
      "                         'recall': 0.5353535353535354},\n",
      "    'upsweep_500hz': {   'auc_pr': 0.6875011232921,\n",
      "                         'f1': 0.6197183098591549,\n",
      "                         'precision': 0.6929133858267716,\n",
      "                         'recall': 0.5605095541401274}}\n"
     ]
    },
    {
     "name": "stderr",
     "output_type": "stream",
     "text": [
      " 92%|██████████████████████████████████████████████████████████████████████████████████████████████████████████████████████▉           | 183/200 [1:03:05<06:02, 21.32s/it]"
     ]
    },
    {
     "name": "stdout",
     "output_type": "stream",
     "text": [
      "Query no. 184/200\n",
      "22/22 - 1s - 55ms/step - auc_pr: 0.7419 - loss: 0.0117 - precision: 0.7368 - recall: 0.7778\n",
      "evaluating ..\n",
      "1323/1323 - 17s - 13ms/step\n",
      "{   'fast_trill_6khz': {   'auc_pr': 0.7511142859380463,\n",
      "                           'f1': 0.5971830985915493,\n",
      "                           'precision': 0.8907563025210085,\n",
      "                           'recall': 0.4491525423728814},\n",
      "    'nr_syllable_3khz': {   'auc_pr': 0.9150329341262852,\n",
      "                            'f1': 0.7980295566502463,\n",
      "                            'precision': 0.9700598802395209,\n",
      "                            'recall': 0.6778242677824268},\n",
      "    'triangle_3khz': {   'auc_pr': 0.48388284271809023,\n",
      "                         'f1': 0.4782608695652174,\n",
      "                         'precision': 0.8461538461538461,\n",
      "                         'recall': 0.3333333333333333},\n",
      "    'upsweep_500hz': {   'auc_pr': 0.6676981171922935,\n",
      "                         'f1': 0.6036363636363636,\n",
      "                         'precision': 0.7033898305084746,\n",
      "                         'recall': 0.5286624203821656}}\n"
     ]
    },
    {
     "name": "stderr",
     "output_type": "stream",
     "text": [
      " 92%|███████████████████████████████████████████████████████████████████████████████████████████████████████████████████████▌          | 184/200 [1:03:26<05:40, 21.26s/it]"
     ]
    },
    {
     "name": "stdout",
     "output_type": "stream",
     "text": [
      "Query no. 185/200\n",
      "22/22 - 1s - 54ms/step - auc_pr: 0.8921 - loss: 0.0071 - precision: 0.9167 - recall: 0.6471\n",
      "evaluating ..\n",
      "1323/1323 - 17s - 13ms/step\n",
      "{   'fast_trill_6khz': {   'auc_pr': 0.7597031897263052,\n",
      "                           'f1': 0.6649350649350649,\n",
      "                           'precision': 0.8590604026845637,\n",
      "                           'recall': 0.5423728813559322},\n",
      "    'nr_syllable_3khz': {   'auc_pr': 0.915294593343426,\n",
      "                            'f1': 0.7860696517412935,\n",
      "                            'precision': 0.9693251533742331,\n",
      "                            'recall': 0.6610878661087866},\n",
      "    'triangle_3khz': {   'auc_pr': 0.5020706569909721,\n",
      "                         'f1': 0.5301204819277109,\n",
      "                         'precision': 0.6567164179104478,\n",
      "                         'recall': 0.4444444444444444},\n",
      "    'upsweep_500hz': {   'auc_pr': 0.5400591896187055,\n",
      "                         'f1': 0.4700854700854701,\n",
      "                         'precision': 0.7142857142857143,\n",
      "                         'recall': 0.3503184713375796}}\n"
     ]
    },
    {
     "name": "stderr",
     "output_type": "stream",
     "text": [
      " 92%|████████████████████████████████████████████████████████████████████████████████████████████████████████████████████████▎         | 185/200 [1:03:47<05:19, 21.30s/it]"
     ]
    },
    {
     "name": "stdout",
     "output_type": "stream",
     "text": [
      "Query no. 186/200\n",
      "22/22 - 1s - 54ms/step - auc_pr: 0.6661 - loss: 0.0116 - precision: 0.6471 - recall: 0.6471\n",
      "evaluating ..\n",
      "1323/1323 - 17s - 13ms/step\n",
      "{   'fast_trill_6khz': {   'auc_pr': 0.7549102425098606,\n",
      "                           'f1': 0.7240618101545254,\n",
      "                           'precision': 0.7557603686635944,\n",
      "                           'recall': 0.6949152542372882},\n",
      "    'nr_syllable_3khz': {   'auc_pr': 0.9171585957455255,\n",
      "                            'f1': 0.8705357142857143,\n",
      "                            'precision': 0.9330143540669856,\n",
      "                            'recall': 0.8158995815899581},\n",
      "    'triangle_3khz': {   'auc_pr': 0.521464789929956,\n",
      "                         'f1': 0.5319148936170213,\n",
      "                         'precision': 0.5617977528089888,\n",
      "                         'recall': 0.5050505050505051},\n",
      "    'upsweep_500hz': {   'auc_pr': 0.5003874349305736,\n",
      "                         'f1': 0.44933920704845814,\n",
      "                         'precision': 0.7285714285714285,\n",
      "                         'recall': 0.3248407643312102}}\n"
     ]
    },
    {
     "name": "stderr",
     "output_type": "stream",
     "text": [
      " 93%|████████████████████████████████████████████████████████████████████████████████████████████████████████████████████████▉         | 186/200 [1:04:08<04:57, 21.23s/it]"
     ]
    },
    {
     "name": "stdout",
     "output_type": "stream",
     "text": [
      "Query no. 187/200\n",
      "22/22 - 1s - 57ms/step - auc_pr: 0.8276 - loss: 0.0085 - precision: 0.8125 - recall: 0.7647\n",
      "evaluating ..\n",
      "1323/1323 - 17s - 13ms/step\n",
      "{   'fast_trill_6khz': {   'auc_pr': 0.7471804858155112,\n",
      "                           'f1': 0.6327077747989276,\n",
      "                           'precision': 0.8613138686131386,\n",
      "                           'recall': 0.5},\n",
      "    'nr_syllable_3khz': {   'auc_pr': 0.9259945237167261,\n",
      "                            'f1': 0.8662131519274376,\n",
      "                            'precision': 0.9455445544554455,\n",
      "                            'recall': 0.799163179916318},\n",
      "    'triangle_3khz': {   'auc_pr': 0.5500235848498285,\n",
      "                         'f1': 0.4878048780487805,\n",
      "                         'precision': 0.40816326530612246,\n",
      "                         'recall': 0.6060606060606061},\n",
      "    'upsweep_500hz': {   'auc_pr': 0.662515661646308,\n",
      "                         'f1': 0.6206896551724138,\n",
      "                         'precision': 0.6766917293233082,\n",
      "                         'recall': 0.5732484076433121}}\n"
     ]
    },
    {
     "name": "stderr",
     "output_type": "stream",
     "text": [
      " 94%|█████████████████████████████████████████████████████████████████████████████████████████████████████████████████████████▌        | 187/200 [1:04:30<04:36, 21.27s/it]"
     ]
    },
    {
     "name": "stdout",
     "output_type": "stream",
     "text": [
      "Query no. 188/200\n",
      "22/22 - 1s - 55ms/step - auc_pr: 0.5002 - loss: 0.0131 - precision: 0.6667 - recall: 0.5333\n",
      "evaluating ..\n",
      "1323/1323 - 17s - 13ms/step\n",
      "{   'fast_trill_6khz': {   'auc_pr': 0.7124429845423031,\n",
      "                           'f1': 0.6276595744680851,\n",
      "                           'precision': 0.8428571428571429,\n",
      "                           'recall': 0.5},\n",
      "    'nr_syllable_3khz': {   'auc_pr': 0.9213966601348512,\n",
      "                            'f1': 0.8175182481751825,\n",
      "                            'precision': 0.9767441860465116,\n",
      "                            'recall': 0.702928870292887},\n",
      "    'triangle_3khz': {   'auc_pr': 0.520625167858606,\n",
      "                         'f1': 0.5828571428571429,\n",
      "                         'precision': 0.6710526315789473,\n",
      "                         'recall': 0.5151515151515151},\n",
      "    'upsweep_500hz': {   'auc_pr': 0.698988103133511,\n",
      "                         'f1': 0.6394557823129252,\n",
      "                         'precision': 0.6861313868613139,\n",
      "                         'recall': 0.5987261146496815}}\n"
     ]
    },
    {
     "name": "stderr",
     "output_type": "stream",
     "text": [
      " 94%|██████████████████████████████████████████████████████████████████████████████████████████████████████████████████████████▏       | 188/200 [1:04:51<04:14, 21.24s/it]"
     ]
    },
    {
     "name": "stdout",
     "output_type": "stream",
     "text": [
      "Query no. 189/200\n",
      "22/22 - 1s - 54ms/step - auc_pr: 0.6093 - loss: 0.0119 - precision: 0.7857 - recall: 0.6111\n",
      "evaluating ..\n",
      "1323/1323 - 17s - 13ms/step\n",
      "{   'fast_trill_6khz': {   'auc_pr': 0.4400461425136115,\n",
      "                           'f1': 0.5179584120982986,\n",
      "                           'precision': 0.46757679180887374,\n",
      "                           'recall': 0.5805084745762712},\n",
      "    'nr_syllable_3khz': {   'auc_pr': 0.8972779406897193,\n",
      "                            'f1': 0.7441860465116279,\n",
      "                            'precision': 0.972972972972973,\n",
      "                            'recall': 0.602510460251046},\n",
      "    'triangle_3khz': {   'auc_pr': 0.5124888124595728,\n",
      "                         'f1': 0.38064516129032255,\n",
      "                         'precision': 0.2796208530805687,\n",
      "                         'recall': 0.5959595959595959},\n",
      "    'upsweep_500hz': {   'auc_pr': 0.6410307125731634,\n",
      "                         'f1': 0.5842696629213483,\n",
      "                         'precision': 0.7090909090909091,\n",
      "                         'recall': 0.4968152866242038}}\n"
     ]
    },
    {
     "name": "stderr",
     "output_type": "stream",
     "text": [
      " 94%|██████████████████████████████████████████████████████████████████████████████████████████████████████████████████████████▊       | 189/200 [1:05:12<03:53, 21.22s/it]"
     ]
    },
    {
     "name": "stdout",
     "output_type": "stream",
     "text": [
      "Query no. 190/200\n",
      "22/22 - 1s - 56ms/step - auc_pr: 0.4228 - loss: 0.0104 - precision: 0.6000 - recall: 0.3000\n",
      "evaluating ..\n",
      "1323/1323 - 18s - 13ms/step\n",
      "{   'fast_trill_6khz': {   'auc_pr': 0.48506030944516476,\n",
      "                           'f1': 0.19047619047619047,\n",
      "                           'precision': 0.7027027027027027,\n",
      "                           'recall': 0.11016949152542373},\n",
      "    'nr_syllable_3khz': {   'auc_pr': 0.9046951562052864,\n",
      "                            'f1': 0.8472222222222222,\n",
      "                            'precision': 0.9481865284974094,\n",
      "                            'recall': 0.7656903765690377},\n",
      "    'triangle_3khz': {   'auc_pr': 0.5151434890342447,\n",
      "                         'f1': 0.569620253164557,\n",
      "                         'precision': 0.7627118644067796,\n",
      "                         'recall': 0.45454545454545453},\n",
      "    'upsweep_500hz': {   'auc_pr': 0.6673643642386003,\n",
      "                         'f1': 0.6236559139784946,\n",
      "                         'precision': 0.7131147540983607,\n",
      "                         'recall': 0.554140127388535}}\n"
     ]
    },
    {
     "name": "stderr",
     "output_type": "stream",
     "text": [
      " 95%|███████████████████████████████████████████████████████████████████████████████████████████████████████████████████████████▌      | 190/200 [1:05:33<03:32, 21.25s/it]"
     ]
    },
    {
     "name": "stdout",
     "output_type": "stream",
     "text": [
      "Query no. 191/200\n",
      "22/22 - 1s - 55ms/step - auc_pr: 0.6768 - loss: 0.0100 - precision: 0.8571 - recall: 0.4286\n",
      "evaluating ..\n",
      "1323/1323 - 17s - 13ms/step\n",
      "{   'fast_trill_6khz': {   'auc_pr': 0.531134559135057,\n",
      "                           'f1': 0.18587360594795538,\n",
      "                           'precision': 0.7575757575757576,\n",
      "                           'recall': 0.1059322033898305},\n",
      "    'nr_syllable_3khz': {   'auc_pr': 0.8622865605703833,\n",
      "                            'f1': 0.8099808061420346,\n",
      "                            'precision': 0.74822695035461,\n",
      "                            'recall': 0.8828451882845189},\n",
      "    'triangle_3khz': {   'auc_pr': 0.500064328694293,\n",
      "                         'f1': 0.4059040590405904,\n",
      "                         'precision': 0.31976744186046513,\n",
      "                         'recall': 0.5555555555555556},\n",
      "    'upsweep_500hz': {   'auc_pr': 0.6750149437221489,\n",
      "                         'f1': 0.6,\n",
      "                         'precision': 0.7168141592920354,\n",
      "                         'recall': 0.5159235668789809}}\n"
     ]
    },
    {
     "name": "stderr",
     "output_type": "stream",
     "text": [
      " 96%|████████████████████████████████████████████████████████████████████████████████████████████████████████████████████████████▏     | 191/200 [1:05:55<03:11, 21.26s/it]"
     ]
    },
    {
     "name": "stdout",
     "output_type": "stream",
     "text": [
      "Query no. 192/200\n",
      "22/22 - 1s - 55ms/step - auc_pr: 0.7881 - loss: 0.0080 - precision: 0.9000 - recall: 0.6923\n",
      "evaluating ..\n",
      "1323/1323 - 17s - 13ms/step\n",
      "{   'fast_trill_6khz': {   'auc_pr': 0.6006026217653591,\n",
      "                           'f1': 0.5700483091787439,\n",
      "                           'precision': 0.6629213483146067,\n",
      "                           'recall': 0.5},\n",
      "    'nr_syllable_3khz': {   'auc_pr': 0.8723285722292775,\n",
      "                            'f1': 0.8306997742663657,\n",
      "                            'precision': 0.9019607843137255,\n",
      "                            'recall': 0.7698744769874477},\n",
      "    'triangle_3khz': {   'auc_pr': 0.5197852268853933,\n",
      "                         'f1': 0.5227272727272727,\n",
      "                         'precision': 0.5974025974025974,\n",
      "                         'recall': 0.46464646464646464},\n",
      "    'upsweep_500hz': {   'auc_pr': 0.7009156917417292,\n",
      "                         'f1': 0.6772151898734177,\n",
      "                         'precision': 0.6729559748427673,\n",
      "                         'recall': 0.6815286624203821}}\n"
     ]
    },
    {
     "name": "stderr",
     "output_type": "stream",
     "text": [
      " 96%|████████████████████████████████████████████████████████████████████████████████████████████████████████████████████████████▊     | 192/200 [1:06:16<02:49, 21.21s/it]"
     ]
    },
    {
     "name": "stdout",
     "output_type": "stream",
     "text": [
      "Query no. 193/200\n",
      "22/22 - 1s - 56ms/step - auc_pr: 0.8354 - loss: 0.0070 - precision: 0.7500 - recall: 0.6000\n",
      "evaluating ..\n",
      "1323/1323 - 17s - 13ms/step\n",
      "{   'fast_trill_6khz': {   'auc_pr': 0.7991556369586025,\n",
      "                           'f1': 0.7201426024955436,\n",
      "                           'precision': 0.6215384615384615,\n",
      "                           'recall': 0.8559322033898306},\n",
      "    'nr_syllable_3khz': {   'auc_pr': 0.9005650951512819,\n",
      "                            'f1': 0.8653061224489796,\n",
      "                            'precision': 0.8446215139442231,\n",
      "                            'recall': 0.8870292887029289},\n",
      "    'triangle_3khz': {   'auc_pr': 0.5284661117243582,\n",
      "                         'f1': 0.54421768707483,\n",
      "                         'precision': 0.8333333333333334,\n",
      "                         'recall': 0.40404040404040403},\n",
      "    'upsweep_500hz': {   'auc_pr': 0.7218647773972291,\n",
      "                         'f1': 0.6848484848484848,\n",
      "                         'precision': 0.653179190751445,\n",
      "                         'recall': 0.7197452229299363}}\n"
     ]
    },
    {
     "name": "stderr",
     "output_type": "stream",
     "text": [
      " 96%|█████████████████████████████████████████████████████████████████████████████████████████████████████████████████████████████▍    | 193/200 [1:06:37<02:28, 21.28s/it]"
     ]
    },
    {
     "name": "stdout",
     "output_type": "stream",
     "text": [
      "Query no. 194/200\n",
      "22/22 - 1s - 62ms/step - auc_pr: 0.8275 - loss: 0.0072 - precision: 0.7500 - recall: 0.6429\n",
      "evaluating ..\n",
      "1323/1323 - 17s - 13ms/step\n",
      "{   'fast_trill_6khz': {   'auc_pr': 0.7923651067874214,\n",
      "                           'f1': 0.7797356828193832,\n",
      "                           'precision': 0.8119266055045872,\n",
      "                           'recall': 0.75},\n",
      "    'nr_syllable_3khz': {   'auc_pr': 0.9049450557348923,\n",
      "                            'f1': 0.8571428571428571,\n",
      "                            'precision': 0.8255813953488372,\n",
      "                            'recall': 0.891213389121339},\n",
      "    'triangle_3khz': {   'auc_pr': 0.5494156428677276,\n",
      "                         'f1': 0.5862068965517241,\n",
      "                         'precision': 0.68,\n",
      "                         'recall': 0.5151515151515151},\n",
      "    'upsweep_500hz': {   'auc_pr': 0.7088947316747618,\n",
      "                         'f1': 0.6902654867256637,\n",
      "                         'precision': 0.6428571428571429,\n",
      "                         'recall': 0.7452229299363057}}\n"
     ]
    },
    {
     "name": "stderr",
     "output_type": "stream",
     "text": [
      " 97%|██████████████████████████████████████████████████████████████████████████████████████████████████████████████████████████████    | 194/200 [1:06:59<02:08, 21.37s/it]"
     ]
    },
    {
     "name": "stdout",
     "output_type": "stream",
     "text": [
      "Query no. 195/200\n",
      "22/22 - 1s - 56ms/step - auc_pr: 0.7656 - loss: 0.0084 - precision: 0.6471 - recall: 0.6875\n",
      "evaluating ..\n",
      "1323/1323 - 17s - 13ms/step\n",
      "{   'fast_trill_6khz': {   'auc_pr': 0.7965425723475684,\n",
      "                           'f1': 0.7485604606525912,\n",
      "                           'precision': 0.6842105263157895,\n",
      "                           'recall': 0.826271186440678},\n",
      "    'nr_syllable_3khz': {   'auc_pr': 0.9023632804428091,\n",
      "                            'f1': 0.8669527896995708,\n",
      "                            'precision': 0.8898678414096917,\n",
      "                            'recall': 0.8451882845188284},\n",
      "    'triangle_3khz': {   'auc_pr': 0.5072869400821571,\n",
      "                         'f1': 0.4966442953020134,\n",
      "                         'precision': 0.74,\n",
      "                         'recall': 0.37373737373737376},\n",
      "    'upsweep_500hz': {   'auc_pr': 0.6333054410621725,\n",
      "                         'f1': 0.6143344709897611,\n",
      "                         'precision': 0.6617647058823529,\n",
      "                         'recall': 0.5732484076433121}}\n"
     ]
    },
    {
     "name": "stderr",
     "output_type": "stream",
     "text": [
      " 98%|██████████████████████████████████████████████████████████████████████████████████████████████████████████████████████████████▊   | 195/200 [1:07:20<01:46, 21.40s/it]"
     ]
    },
    {
     "name": "stdout",
     "output_type": "stream",
     "text": [
      "Query no. 196/200\n",
      "22/22 - 1s - 59ms/step - auc_pr: 0.7922 - loss: 0.0067 - precision: 0.8750 - recall: 0.5833\n",
      "evaluating ..\n",
      "1323/1323 - 17s - 13ms/step\n",
      "{   'fast_trill_6khz': {   'auc_pr': 0.7117861252452862,\n",
      "                           'f1': 0.6927592954990215,\n",
      "                           'precision': 0.6436363636363637,\n",
      "                           'recall': 0.75},\n",
      "    'nr_syllable_3khz': {   'auc_pr': 0.9050179765487748,\n",
      "                            'f1': 0.87248322147651,\n",
      "                            'precision': 0.9375,\n",
      "                            'recall': 0.8158995815899581},\n",
      "    'triangle_3khz': {   'auc_pr': 0.5032539255792631,\n",
      "                         'f1': 0.524390243902439,\n",
      "                         'precision': 0.6615384615384615,\n",
      "                         'recall': 0.43434343434343436},\n",
      "    'upsweep_500hz': {   'auc_pr': 0.6888332685338437,\n",
      "                         'f1': 0.6421404682274248,\n",
      "                         'precision': 0.676056338028169,\n",
      "                         'recall': 0.6114649681528662}}\n"
     ]
    }
   ],
   "source": [
    "from preprocessing import evaluation_dict\n",
    "import pickle\n",
    "from models import build_resnet16\n",
    "from keras import metrics\n",
    "from preprocessing import oversample_minority_classes\n",
    "\n",
    "\n",
    "# TODOs\n",
    "# - consider focal loss (?)\n",
    "# - should i use oversampling if query strategies should idealy be doing that for me\n",
    "# - or does the query just sample the one thats ambigous more\n",
    "\n",
    "n_queries = 200\n",
    "query_size = int(pool_X.shape[0] / n_queries)\n",
    "\n",
    "LB_metrics = []\n",
    "trained_X = initial_X\n",
    "trained_Y = initial_Y\n",
    "\n",
    "print(\"=== RANDOM SAMPLING ===\")\n",
    "for idx in tqdm(range(n_queries)):\n",
    "    print(f'Query no. {idx + 1}/{n_queries}')\n",
    "\n",
    "    # query for instances\n",
    "    query_indicies, query_instances = learner.query(pool_X, n_instances=query_size)\n",
    "\n",
    "    # train on instances\n",
    "    learner.teach(\n",
    "        X=pool_X[query_indicies], y=pool_Y[query_indicies], \n",
    "        only_new=True, verbose=2\n",
    "    )\n",
    "\n",
    "    # get evaluation metrics\n",
    "    print(\"evaluating ..\")\n",
    "    currently_labelled += query_size\n",
    "    labelling_budget = currently_labelled / initial_ds_size \n",
    "    pred_Y = classifier.predict_proba(test_X, batch_size=batch, verbose=2)\n",
    "    LB_metrics.append(\n",
    "        (labelling_budget, evaluation_dict(pred_Y, test_Y)))\n",
    "\n",
    "    # store trained on samples \n",
    "    trained_X = np.vstack((trained_X, pool_X[query_indicies]))\n",
    "    trained_Y = np.vstack((trained_Y, pool_Y[query_indicies]))\n",
    "    \n",
    "    # remove queried instance from pool\n",
    "    pool_X = np.delete(pool_X, query_indicies, axis=0)\n",
    "    pool_Y = np.delete(pool_Y, query_indicies, axis=0)\n",
    "\n",
    "    with open(INTERMEDIATE / 'AL' / 'RS_metrics_oversampled.pkl', 'wb') as f:\n",
    "        pickle.dump(LB_metrics, f)\n"
   ]
  },
  {
   "cell_type": "code",
   "execution_count": null,
   "id": "c7ff3c50-38f5-4a24-bba0-4ccc378004ed",
   "metadata": {},
   "outputs": [],
   "source": [
    "pred_Y = classifier.predict_proba(test_X)"
   ]
  },
  {
   "cell_type": "code",
   "execution_count": null,
   "id": "2b090288-d91b-425d-9737-d3ba335e8901",
   "metadata": {},
   "outputs": [],
   "source": [
    "from sklearn.metrics import average_precision_score, precision_recall_curve\n",
    "\n",
    "for i in range(4):\n",
    "    m = average_precision_score(test_Y[:, i], pred_Y[:, i])\n",
    "    print(m)\n",
    "\n",
    "def plot_pr(name, labels, predictions, **kwargs):\n",
    "    prec, rec, _ = precision_recall_curve(labels, predictions)\n",
    "    plt.plot(prec, rec, label=name, linewidth=2, **kwargs)\n",
    "    plt.xlabel('Precision')\n",
    "    plt.ylabel('Recall')\n",
    "    plt.xlim([0,1])\n",
    "    plt.ylim([0,1])\n",
    "    plt.grid(True)\n",
    "\n",
    "label_order = DEFAULT_TOKENS.keys()\n",
    "for i, name in enumerate(label_order):\n",
    "    plot_pr(name, test_Y[:, i], pred_Y[:, i])\n",
    "    plt.savefig(FIGURES_DIR / ('pr curve of RS (oversampled) (200 queries)' + '.png'))\n",
    "    "
   ]
  },
  {
   "cell_type": "code",
   "execution_count": null,
   "id": "7298914b-0f9f-4a4e-a03d-eb677927380d",
   "metadata": {},
   "outputs": [],
   "source": [
    "m = evaluation_dict(pred_Y, test_Y)"
   ]
  },
  {
   "cell_type": "code",
   "execution_count": 3,
   "id": "22b6d087-9a30-429b-8cd4-455865b0140f",
   "metadata": {},
   "outputs": [],
   "source": [
    "import pickle\n",
    "\n",
    "with open(INTERMEDIATE / 'AL' / 'RS_metrics_oversampled.pkl', 'rb') as f:\n",
    "    LB_metrics = pickle.load(f)"
   ]
  },
  {
   "cell_type": "code",
   "execution_count": 7,
   "id": "64fe44d2-8190-4d82-a740-7c521023b657",
   "metadata": {},
   "outputs": [
    {
     "data": {
      "image/png": "[encoded data removed]",
      "text/plain": [
       "<Figure size 640x480 with 1 Axes>"
      ]
     },
     "metadata": {},
     "output_type": "display_data"
    },
    {
     "data": {
      "image/png": "[encoded data removed]",
      "text/plain": [
       "<Figure size 640x480 with 1 Axes>"
      ]
     },
     "metadata": {},
     "output_type": "display_data"
    },
    {
     "data": {
      "image/png": "[encoded data removed]",
      "text/plain": [
       "<Figure size 640x480 with 1 Axes>"
      ]
     },
     "metadata": {},
     "output_type": "display_data"
    },
    {
     "data": {
      "image/png": "[encoded data removed]",
      "text/plain": [
       "<Figure size 640x480 with 1 Axes>"
      ]
     },
     "metadata": {},
     "output_type": "display_data"
    }
   ],
   "source": [
    "from util import LABELS\n",
    "\n",
    "x = [lb for lb, _ in LB_metrics]\n",
    "for i, l in enumerate(LABELS):\n",
    "    y = [m[l]['auc_pr'] for _, m in LB_metrics]\n",
    "    plt.plot(x, y)\n",
    "    plt.ylim(0, 1)\n",
    "    title = f'AP of {l} for Random Sampling (oversampled)'\n",
    "    plt.title(title)\n",
    "    plt.savefig(OUTPUT_DIR / 'AL' / 'RS (oversampled)' / (title + '.png'))\n",
    "    plt.show() \n"
   ]
  },
  {
   "cell_type": "code",
   "execution_count": 14,
   "id": "58c2d334-21e4-4245-9c5e-152275c33690",
   "metadata": {},
   "outputs": [
    {
     "data": {
      "image/png": "[encoded data removed]",
      "text/plain": [
       "<Figure size 640x480 with 1 Axes>"
      ]
     },
     "metadata": {},
     "output_type": "display_data"
    }
   ],
   "source": [
    "from util import LABELS\n",
    "from config import *\n",
    "\n",
    "# output/AL/RS (raw)/RS_metrics.pkl\n",
    "with open(OUTPUT_DIR / 'AL' / 'RS (raw)' / 'RS_metrics.pkl', 'rb') as f:\n",
    "    LB_metrics = pickle.load(f)\n",
    "\n",
    "x = [lb for lb, _ in LB_metrics]\n",
    "AP = np.zeros(shape=(4, len(x)))\n",
    "\n",
    "for i, l in enumerate(LABELS):\n",
    "    AP[i] = np.array([m[l]['auc_pr'] for _, m in LB_metrics])\n",
    "\n",
    "title = f'mAP for Random Sampling'\n",
    "plt.plot(x, AP.mean(axis=0))\n",
    "plt.ylim(0, 1)\n",
    "plt.title(title)\n",
    "plt.savefig(FIGURES_DIR / (title + '.png'))\n",
    "plt.show()\n"
   ]
  },
  {
   "cell_type": "code",
   "execution_count": 21,
   "id": "b3090485-aba2-4cfc-9d7a-f38e38545dfd",
   "metadata": {},
   "outputs": [
    {
     "data": {
      "image/png": "[encoded data removed]",
      "text/plain": [
       "<Figure size 640x480 with 1 Axes>"
      ]
     },
     "metadata": {},
     "output_type": "display_data"
    },
    {
     "data": {
      "image/png": "[encoded data removed]",
      "text/plain": [
       "<Figure size 640x480 with 1 Axes>"
      ]
     },
     "metadata": {},
     "output_type": "display_data"
    },
    {
     "data": {
      "image/png": "[encoded data removed]",
      "text/plain": [
       "<Figure size 640x480 with 1 Axes>"
      ]
     },
     "metadata": {},
     "output_type": "display_data"
    },
    {
     "data": {
      "image/png": "[encoded data removed]",
      "text/plain": [
       "<Figure size 640x480 with 1 Axes>"
      ]
     },
     "metadata": {},
     "output_type": "display_data"
    },
    {
     "data": {
      "image/png": "[encoded data removed]",
      "text/plain": [
       "<Figure size 640x480 with 1 Axes>"
      ]
     },
     "metadata": {},
     "output_type": "display_data"
    }
   ],
   "source": [
    "from AL import save_metrics\n",
    "\n",
    "save_metrics(LB_metrics, OUTPUT_DIR / 'test_dir', identity='test_identity',\n",
    "            true_Y=np.zeros(shape=(10, 4)),\n",
    "            pred_Y=np.zeros(shape=(10, 4)),\n",
    "            )"
   ]
  },
  {
   "cell_type": "code",
   "execution_count": null,
   "id": "69e5b644-0304-45af-ab15-53a0257115de",
   "metadata": {},
   "outputs": [],
   "source": []
  }
 ],
 "metadata": {
  "kernelspec": {
   "display_name": "Python 3 (ipykernel)",
   "language": "python",
   "name": "python3"
  },
  "language_info": {
   "codemirror_mode": {
    "name": "ipython",
    "version": 3
   },
   "file_extension": ".py",
   "mimetype": "text/x-python",
   "name": "python",
   "nbconvert_exporter": "python",
   "pygments_lexer": "ipython3",
   "version": "3.9.16"
  }
 },
 "nbformat": 4,
 "nbformat_minor": 5
}
