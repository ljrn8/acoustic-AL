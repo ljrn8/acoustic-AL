{
 "cells": [
  {
   "cell_type": "code",
   "execution_count": null,
   "id": "6d659b9f-5d05-441e-961a-3845149ddbf0",
   "metadata": {},
   "outputs": [],
   "source": [
    "%load_ext autoreload\n",
    "%autoreload 2\n",
    "    \n",
    "import tensorflow as tf\n",
    "from tensorflow  import keras\n",
    "import tensorflow_hub as hub\n",
    "import numpy as np\n",
    "from util import open_slideshow\n",
    "\n",
    "import librosa \n",
    "import matplotlib.pyplot as plt\n",
    "from tqdm import tqdm\n",
    "from config import *\n",
    "import h5py\n",
    "import soundfile as sf\n",
    "from scipy.signal import resample_poly\n",
    "from util import DEFAULT_TOKENS\n",
    "import librosa"
   ]
  },
  {
   "cell_type": "code",
   "execution_count": 5,
   "id": "ec8b2808-d3ee-446b-a974-8f428cf0895d",
   "metadata": {},
   "outputs": [
    {
     "name": "stdout",
     "output_type": "stream",
     "text": [
      "Model: \"sequential_2\"\n",
      "_________________________________________________________________\n",
      " Layer (type)                Output Shape              Param #   \n",
      "=================================================================\n",
      " resnet50 (Functional)       (None, 2, 4, 2048)        23581440  \n",
      "                                                                 \n",
      " global_average_pooling2d_2  (None, 2048)              0         \n",
      "  (GlobalAveragePooling2D)                                       \n",
      "                                                                 \n",
      " dense_4 (Dense)             (None, 256)               524544    \n",
      "                                                                 \n",
      " dense_5 (Dense)             (None, 4)                 1028      \n",
      "                                                                 \n",
      "=================================================================\n",
      "Total params: 24107012 (91.96 MB)\n",
      "Trainable params: 24053892 (91.76 MB)\n",
      "Non-trainable params: 53120 (207.50 KB)\n",
      "_________________________________________________________________\n"
     ]
    }
   ],
   "source": [
    "from preprocessing import create_resnet50, split\n",
    "\n",
    "logmel_f = h5py.File(INTERMEDIATE / 'logmel.hdf5', 'r')\n",
    "samples_f = h5py.File(INTERMEDIATE / '22sr_samples.hdf5', 'r')\n",
    "\n",
    "X = np.load(INTERMEDIATE / 'logmel.npy')\n",
    "Y = np.load(INTERMEDIATE / 'logmel_labels.npy')\n",
    "\n",
    "train, pool, test = split(X, Y)\n",
    "model = create_resnet50()\n",
    "model.summary()"
   ]
  },
  {
   "cell_type": "code",
   "execution_count": null,
   "id": "0dc7b58d-5b03-404e-a541-5dd8dade3eeb",
   "metadata": {},
   "outputs": [],
   "source": []
  }
 ],
 "metadata": {
  "kernelspec": {
   "display_name": "Python 3 (ipykernel)",
   "language": "python",
   "name": "python3"
  },
  "language_info": {
   "codemirror_mode": {
    "name": "ipython",
    "version": 3
   },
   "file_extension": ".py",
   "mimetype": "text/x-python",
   "name": "python",
   "nbconvert_exporter": "python",
   "pygments_lexer": "ipython3",
   "version": "3.9.16"
  }
 },
 "nbformat": 4,
 "nbformat_minor": 5
}
