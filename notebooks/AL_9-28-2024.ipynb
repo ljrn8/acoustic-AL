{
 "cells": [
  {
   "cell_type": "code",
   "execution_count": 1,
   "id": "6d659b9f-5d05-441e-961a-3845149ddbf0",
   "metadata": {
    "tags": []
   },
   "outputs": [
    {
     "name": "stderr",
     "output_type": "stream",
     "text": [
      "2024-09-30 12:45:24.313541: E external/local_xla/xla/stream_executor/cuda/cuda_dnn.cc:9261] Unable to register cuDNN factory: Attempting to register factory for plugin cuDNN when one has already been registered\n",
      "2024-09-30 12:45:24.313577: E external/local_xla/xla/stream_executor/cuda/cuda_fft.cc:607] Unable to register cuFFT factory: Attempting to register factory for plugin cuFFT when one has already been registered\n",
      "2024-09-30 12:45:24.314641: E external/local_xla/xla/stream_executor/cuda/cuda_blas.cc:1515] Unable to register cuBLAS factory: Attempting to register factory for plugin cuBLAS when one has already been registered\n",
      "2024-09-30 12:45:24.321465: I tensorflow/core/platform/cpu_feature_guard.cc:182] This TensorFlow binary is optimized to use available CPU instructions in performance-critical operations.\n",
      "To enable the following instructions: AVX2 AVX512F FMA, in other operations, rebuild TensorFlow with the appropriate compiler flags.\n",
      "2024-09-30 12:45:25.112117: W tensorflow/compiler/tf2tensorrt/utils/py_utils.cc:38] TF-TRT Warning: Could not find TensorRT\n"
     ]
    }
   ],
   "source": [
    "%load_ext autoreload\n",
    "%autoreload 2\n",
    "    \n",
    "import tensorflow as tf\n",
    "from tensorflow  import keras\n",
    "from keras import metrics\n",
    "import numpy as np\n",
    "\n",
    "import librosa \n",
    "import matplotlib.pyplot as plt\n",
    "from tqdm import tqdm\n",
    "import h5py\n",
    "import soundfile as sf\n",
    "from scipy.signal import resample_poly\n",
    "import librosa\n",
    "from modAL.models import ActiveLearner\n",
    "from scikeras.wrappers import KerasClassifier\n",
    "import random as rand\n",
    "\n",
    "from config import *\n",
    "from util import DEFAULT_TOKENS\n",
    "from models import build_resnet16\n",
    "from preprocessing import AL_split"
   ]
  },
  {
   "cell_type": "code",
   "execution_count": 2,
   "id": "ec8b2808-d3ee-446b-a974-8f428cf0895d",
   "metadata": {
    "tags": []
   },
   "outputs": [],
   "source": [
    "logmel_f = h5py.File(INTERMEDIATE / 'logmel.hdf5', 'r')\n",
    "samples_f = h5py.File(INTERMEDIATE / '22sr_samples.hdf5', 'r')\n",
    "\n",
    "X = np.load(INTERMEDIATE / 'logmel.npy')\n",
    "Y = np.load(INTERMEDIATE / 'logmel_labels.npy')"
   ]
  },
  {
   "cell_type": "code",
   "execution_count": 3,
   "id": "9bf801ee-fde6-4c36-9769-30751e6b2143",
   "metadata": {},
   "outputs": [
    {
     "data": {
      "text/plain": [
       "((135462, 40, 107), (135462, 4))"
      ]
     },
     "execution_count": 3,
     "metadata": {},
     "output_type": "execute_result"
    }
   ],
   "source": [
    "batch = 32\n",
    "\n",
    "# resnet 16\n",
    "X_shape = (40, 107, 1)\n",
    "model = build_resnet16(input_shape=X_shape)\n",
    "model.compile(optimizer='adam',\n",
    "              loss='binary_crossentropy',\n",
    "              metrics=[\n",
    "                metrics.Recall(thresholds=0.5),\n",
    "                metrics.Precision(thresholds=0.5),\n",
    "                metrics.AUC(curve='pr', name='auc_pr')\n",
    "              ])\n",
    "classifier = KerasClassifier(model, batch_size=batch, verbose=2)\n",
    "\n",
    "init, pool, test = AL_split(X, Y)\n",
    "initial_X, initial_Y = init\n",
    "pool_X, pool_Y = pool\n",
    "test_X, test_Y = test\n",
    "pool_X.shape, pool_Y.shape"
   ]
  },
  {
   "cell_type": "code",
   "execution_count": 4,
   "id": "15f4872c-44b9-43b9-ac63-966b035ab766",
   "metadata": {},
   "outputs": [
    {
     "name": "stdout",
     "output_type": "stream",
     "text": [
      "1059/1059 - 65s - 62ms/step - auc_pr: 0.0198 - loss: 0.0333 - precision: 0.0472 - recall: 0.0645\n"
     ]
    }
   ],
   "source": [
    "currently_labelled = len(initial_X)\n",
    "initial_ds_size = currently_labelled + len(pool_X)\n",
    "\n",
    "def random_sampling(classifier, X_unlabelled, n_instances):\n",
    "    i = np.random.choice(range(X_unlabelled.shape[0]), size=n_instances, replace=False)\n",
    "    return i, X[i] \n",
    "\n",
    "learner = ActiveLearner(\n",
    "    estimator=classifier,\n",
    "    X_training=initial_X, # !!! TODO: use must larger initial labelled set (?)\n",
    "    y_training=initial_Y,\n",
    "    verbose=2,\n",
    "    query_strategy=random_sampling \n",
    ") # trains on the initial ds"
   ]
  },
  {
   "cell_type": "code",
   "execution_count": null,
   "id": "0dc7b58d-5b03-404e-a541-5dd8dade3eeb",
   "metadata": {
    "scrolled": true
   },
   "outputs": [
    {
     "name": "stdout",
     "output_type": "stream",
     "text": [
      "=== RANDOM SAMPLING ===\n"
     ]
    },
    {
     "name": "stderr",
     "output_type": "stream",
     "text": [
      "  0%|                                                                                           | 0/200 [00:00<?, ?it/s]"
     ]
    },
    {
     "name": "stdout",
     "output_type": "stream",
     "text": [
      "Query no. 1/200\n",
      "22/22 - 1s - 54ms/step - auc_pr: 0.4706 - loss: 0.0153 - precision: 0.5000 - recall: 0.2857\n",
      "evaluating ..\n"
     ]
    },
    {
     "name": "stderr",
     "output_type": "stream",
     "text": [
      "2024-09-30 12:46:54.576724: W external/local_tsl/tsl/framework/cpu_allocator_impl.cc:83] Allocation of 724723840 exceeds 10% of free system memory.\n"
     ]
    },
    {
     "name": "stdout",
     "output_type": "stream",
     "text": [
      "1323/1323 - 18s - 14ms/step\n"
     ]
    },
    {
     "name": "stderr",
     "output_type": "stream",
     "text": [
      "/home/ec2-user/.local/lib/python3.9/site-packages/sklearn/metrics/_classification.py:1531: UndefinedMetricWarning: Precision is ill-defined and being set to 0.0 due to no predicted samples. Use `zero_division` parameter to control this behavior.\n",
      "  _warn_prf(average, modifier, f\"{metric.capitalize()} is\", len(result))\n",
      "/home/ec2-user/.local/lib/python3.9/site-packages/sklearn/metrics/_classification.py:1531: UndefinedMetricWarning: Precision is ill-defined and being set to 0.0 due to no predicted samples. Use `zero_division` parameter to control this behavior.\n",
      "  _warn_prf(average, modifier, f\"{metric.capitalize()} is\", len(result))\n"
     ]
    },
    {
     "name": "stdout",
     "output_type": "stream",
     "text": [
      "{   'fast_trill_6khz': {   'auc_pr': 0.1569690342889799,\n",
      "                           'f1': 0.0,\n",
      "                           'precision': 0.0,\n",
      "                           'recall': 0.0},\n",
      "    'nr_syllable_3khz': {   'auc_pr': 0.6563203867409203,\n",
      "                            'f1': 0.5553719008264463,\n",
      "                            'precision': 0.45901639344262296,\n",
      "                            'recall': 0.702928870292887},\n",
      "    'triangle_3khz': {   'auc_pr': 0.05499791170054827,\n",
      "                         'f1': 0.0,\n",
      "                         'precision': 0.0,\n",
      "                         'recall': 0.0},\n",
      "    'upsweep_500hz': {   'auc_pr': 0.14546355322096463,\n",
      "                         'f1': 0.0,\n",
      "                         'precision': 0.0,\n",
      "                         'recall': 0.0}}\n"
     ]
    },
    {
     "name": "stderr",
     "output_type": "stream",
     "text": [
      "  0%|▍                                                                                | 1/200 [00:21<1:11:40, 21.61s/it]"
     ]
    },
    {
     "name": "stdout",
     "output_type": "stream",
     "text": [
      "Query no. 2/200\n",
      "22/22 - 1s - 54ms/step - auc_pr: 0.3917 - loss: 0.0136 - precision: 0.5000 - recall: 0.2000\n",
      "evaluating ..\n"
     ]
    },
    {
     "name": "stderr",
     "output_type": "stream",
     "text": [
      "2024-09-30 12:47:16.177539: W external/local_tsl/tsl/framework/cpu_allocator_impl.cc:83] Allocation of 724723840 exceeds 10% of free system memory.\n"
     ]
    },
    {
     "name": "stdout",
     "output_type": "stream",
     "text": [
      "1323/1323 - 17s - 13ms/step\n"
     ]
    },
    {
     "name": "stderr",
     "output_type": "stream",
     "text": [
      "/home/ec2-user/.local/lib/python3.9/site-packages/sklearn/metrics/_classification.py:1531: UndefinedMetricWarning: Precision is ill-defined and being set to 0.0 due to no predicted samples. Use `zero_division` parameter to control this behavior.\n",
      "  _warn_prf(average, modifier, f\"{metric.capitalize()} is\", len(result))\n",
      "/home/ec2-user/.local/lib/python3.9/site-packages/sklearn/metrics/_classification.py:1531: UndefinedMetricWarning: Precision is ill-defined and being set to 0.0 due to no predicted samples. Use `zero_division` parameter to control this behavior.\n",
      "  _warn_prf(average, modifier, f\"{metric.capitalize()} is\", len(result))\n"
     ]
    },
    {
     "name": "stdout",
     "output_type": "stream",
     "text": [
      "{   'fast_trill_6khz': {   'auc_pr': 0.5126939533699157,\n",
      "                           'f1': 0.26618705035971224,\n",
      "                           'precision': 0.8809523809523809,\n",
      "                           'recall': 0.15677966101694915},\n",
      "    'nr_syllable_3khz': {   'auc_pr': 0.658913104276558,\n",
      "                            'f1': 0.5645161290322581,\n",
      "                            'precision': 0.7894736842105263,\n",
      "                            'recall': 0.4393305439330544},\n",
      "    'triangle_3khz': {   'auc_pr': 0.0554653381924374,\n",
      "                         'f1': 0.0,\n",
      "                         'precision': 0.0,\n",
      "                         'recall': 0.0},\n",
      "    'upsweep_500hz': {   'auc_pr': 0.14795104344879995,\n",
      "                         'f1': 0.0,\n",
      "                         'precision': 0.0,\n",
      "                         'recall': 0.0}}\n"
     ]
    },
    {
     "name": "stderr",
     "output_type": "stream",
     "text": [
      "  1%|▊                                                                                | 2/200 [00:42<1:09:47, 21.15s/it]"
     ]
    },
    {
     "name": "stdout",
     "output_type": "stream",
     "text": [
      "Query no. 3/200\n",
      "22/22 - 1s - 54ms/step - auc_pr: 0.5068 - loss: 0.0110 - precision: 0.7500 - recall: 0.3750\n",
      "evaluating ..\n"
     ]
    },
    {
     "name": "stderr",
     "output_type": "stream",
     "text": [
      "2024-09-30 12:47:37.006414: W external/local_tsl/tsl/framework/cpu_allocator_impl.cc:83] Allocation of 724723840 exceeds 10% of free system memory.\n"
     ]
    },
    {
     "name": "stdout",
     "output_type": "stream",
     "text": [
      "1323/1323 - 17s - 13ms/step\n"
     ]
    },
    {
     "name": "stderr",
     "output_type": "stream",
     "text": [
      "/home/ec2-user/.local/lib/python3.9/site-packages/sklearn/metrics/_classification.py:1531: UndefinedMetricWarning: Precision is ill-defined and being set to 0.0 due to no predicted samples. Use `zero_division` parameter to control this behavior.\n",
      "  _warn_prf(average, modifier, f\"{metric.capitalize()} is\", len(result))\n",
      "/home/ec2-user/.local/lib/python3.9/site-packages/sklearn/metrics/_classification.py:1531: UndefinedMetricWarning: Precision is ill-defined and being set to 0.0 due to no predicted samples. Use `zero_division` parameter to control this behavior.\n",
      "  _warn_prf(average, modifier, f\"{metric.capitalize()} is\", len(result))\n"
     ]
    },
    {
     "name": "stdout",
     "output_type": "stream",
     "text": [
      "{   'fast_trill_6khz': {   'auc_pr': 0.16329653254892196,\n",
      "                           'f1': 0.19941348973607037,\n",
      "                           'precision': 0.3238095238095238,\n",
      "                           'recall': 0.1440677966101695},\n",
      "    'nr_syllable_3khz': {   'auc_pr': 0.6953582212206083,\n",
      "                            'f1': 0.5250737463126843,\n",
      "                            'precision': 0.89,\n",
      "                            'recall': 0.3723849372384937},\n",
      "    'triangle_3khz': {   'auc_pr': 0.015615248610342698,\n",
      "                         'f1': 0.0,\n",
      "                         'precision': 0.0,\n",
      "                         'recall': 0.0},\n",
      "    'upsweep_500hz': {   'auc_pr': 0.1596875673810729,\n",
      "                         'f1': 0.0,\n",
      "                         'precision': 0.0,\n",
      "                         'recall': 0.0}}\n"
     ]
    },
    {
     "name": "stderr",
     "output_type": "stream",
     "text": [
      "  2%|█▏                                                                               | 3/200 [01:03<1:09:03, 21.03s/it]"
     ]
    },
    {
     "name": "stdout",
     "output_type": "stream",
     "text": [
      "Query no. 4/200\n",
      "22/22 - 1s - 54ms/step - auc_pr: 0.1967 - loss: 0.0148 - precision: 1.0000 - recall: 0.1111\n",
      "evaluating ..\n"
     ]
    },
    {
     "name": "stderr",
     "output_type": "stream",
     "text": [
      "2024-09-30 12:47:57.899491: W external/local_tsl/tsl/framework/cpu_allocator_impl.cc:83] Allocation of 724723840 exceeds 10% of free system memory.\n"
     ]
    },
    {
     "name": "stdout",
     "output_type": "stream",
     "text": [
      "1323/1323 - 17s - 13ms/step\n"
     ]
    },
    {
     "name": "stderr",
     "output_type": "stream",
     "text": [
      "/home/ec2-user/.local/lib/python3.9/site-packages/sklearn/metrics/_classification.py:1531: UndefinedMetricWarning: Precision is ill-defined and being set to 0.0 due to no predicted samples. Use `zero_division` parameter to control this behavior.\n",
      "  _warn_prf(average, modifier, f\"{metric.capitalize()} is\", len(result))\n",
      "/home/ec2-user/.local/lib/python3.9/site-packages/sklearn/metrics/_classification.py:1531: UndefinedMetricWarning: Precision is ill-defined and being set to 0.0 due to no predicted samples. Use `zero_division` parameter to control this behavior.\n",
      "  _warn_prf(average, modifier, f\"{metric.capitalize()} is\", len(result))\n"
     ]
    },
    {
     "name": "stdout",
     "output_type": "stream",
     "text": [
      "{   'fast_trill_6khz': {   'auc_pr': 0.28637863851213935,\n",
      "                           'f1': 0.19011406844106463,\n",
      "                           'precision': 0.9259259259259259,\n",
      "                           'recall': 0.1059322033898305},\n",
      "    'nr_syllable_3khz': {   'auc_pr': 0.6024633624975044,\n",
      "                            'f1': 0.3157894736842105,\n",
      "                            'precision': 0.9782608695652174,\n",
      "                            'recall': 0.18828451882845187},\n",
      "    'triangle_3khz': {   'auc_pr': 0.020810571385699674,\n",
      "                         'f1': 0.0,\n",
      "                         'precision': 0.0,\n",
      "                         'recall': 0.0},\n",
      "    'upsweep_500hz': {   'auc_pr': 0.13436245926716217,\n",
      "                         'f1': 0.0,\n",
      "                         'precision': 0.0,\n",
      "                         'recall': 0.0}}\n"
     ]
    },
    {
     "name": "stderr",
     "output_type": "stream",
     "text": [
      "  2%|█▌                                                                               | 4/200 [01:24<1:08:34, 20.99s/it]"
     ]
    },
    {
     "name": "stdout",
     "output_type": "stream",
     "text": [
      "Query no. 5/200\n",
      "22/22 - 1s - 56ms/step - auc_pr: 0.4493 - loss: 0.0122 - precision: 0.5000 - recall: 0.2000\n",
      "evaluating ..\n"
     ]
    },
    {
     "name": "stderr",
     "output_type": "stream",
     "text": [
      "2024-09-30 12:48:18.903077: W external/local_tsl/tsl/framework/cpu_allocator_impl.cc:83] Allocation of 724723840 exceeds 10% of free system memory.\n"
     ]
    },
    {
     "name": "stdout",
     "output_type": "stream",
     "text": [
      "1323/1323 - 17s - 13ms/step\n"
     ]
    },
    {
     "name": "stderr",
     "output_type": "stream",
     "text": [
      "/home/ec2-user/.local/lib/python3.9/site-packages/sklearn/metrics/_classification.py:1531: UndefinedMetricWarning: Precision is ill-defined and being set to 0.0 due to no predicted samples. Use `zero_division` parameter to control this behavior.\n",
      "  _warn_prf(average, modifier, f\"{metric.capitalize()} is\", len(result))\n",
      "/home/ec2-user/.local/lib/python3.9/site-packages/sklearn/metrics/_classification.py:1531: UndefinedMetricWarning: Precision is ill-defined and being set to 0.0 due to no predicted samples. Use `zero_division` parameter to control this behavior.\n",
      "  _warn_prf(average, modifier, f\"{metric.capitalize()} is\", len(result))\n"
     ]
    },
    {
     "name": "stdout",
     "output_type": "stream",
     "text": [
      "{   'fast_trill_6khz': {   'auc_pr': 0.4636095165197648,\n",
      "                           'f1': 0.379746835443038,\n",
      "                           'precision': 0.75,\n",
      "                           'recall': 0.2542372881355932},\n",
      "    'nr_syllable_3khz': {   'auc_pr': 0.7189474603920167,\n",
      "                            'f1': 0.6600496277915633,\n",
      "                            'precision': 0.8109756097560976,\n",
      "                            'recall': 0.5564853556485355},\n",
      "    'triangle_3khz': {   'auc_pr': 0.053617121467133905,\n",
      "                         'f1': 0.0,\n",
      "                         'precision': 0.0,\n",
      "                         'recall': 0.0},\n",
      "    'upsweep_500hz': {   'auc_pr': 0.12352010064342972,\n",
      "                         'f1': 0.0,\n",
      "                         'precision': 0.0,\n",
      "                         'recall': 0.0}}\n"
     ]
    },
    {
     "name": "stderr",
     "output_type": "stream",
     "text": [
      "  2%|██                                                                               | 5/200 [01:45<1:08:11, 20.98s/it]"
     ]
    },
    {
     "name": "stdout",
     "output_type": "stream",
     "text": [
      "Query no. 6/200\n",
      "22/22 - 1s - 57ms/step - auc_pr: 0.1901 - loss: 0.0161 - precision: 1.0000 - recall: 0.1000\n",
      "evaluating ..\n",
      "1323/1323 - 17s - 13ms/step\n"
     ]
    },
    {
     "name": "stderr",
     "output_type": "stream",
     "text": [
      "/home/ec2-user/.local/lib/python3.9/site-packages/sklearn/metrics/_classification.py:1531: UndefinedMetricWarning: Precision is ill-defined and being set to 0.0 due to no predicted samples. Use `zero_division` parameter to control this behavior.\n",
      "  _warn_prf(average, modifier, f\"{metric.capitalize()} is\", len(result))\n",
      "/home/ec2-user/.local/lib/python3.9/site-packages/sklearn/metrics/_classification.py:1531: UndefinedMetricWarning: Precision is ill-defined and being set to 0.0 due to no predicted samples. Use `zero_division` parameter to control this behavior.\n",
      "  _warn_prf(average, modifier, f\"{metric.capitalize()} is\", len(result))\n"
     ]
    },
    {
     "name": "stdout",
     "output_type": "stream",
     "text": [
      "{   'fast_trill_6khz': {   'auc_pr': 0.33220874110616544,\n",
      "                           'f1': 0.17391304347826086,\n",
      "                           'precision': 0.6,\n",
      "                           'recall': 0.1016949152542373},\n",
      "    'nr_syllable_3khz': {   'auc_pr': 0.7162429552111889,\n",
      "                            'f1': 0.5329341317365269,\n",
      "                            'precision': 0.9368421052631579,\n",
      "                            'recall': 0.3723849372384937},\n",
      "    'triangle_3khz': {   'auc_pr': 0.059972378633929936,\n",
      "                         'f1': 0.0,\n",
      "                         'precision': 0.0,\n",
      "                         'recall': 0.0},\n",
      "    'upsweep_500hz': {   'auc_pr': 0.11135827442768505,\n",
      "                         'f1': 0.0,\n",
      "                         'precision': 0.0,\n",
      "                         'recall': 0.0}}\n"
     ]
    },
    {
     "name": "stderr",
     "output_type": "stream",
     "text": [
      "  3%|██▍                                                                              | 6/200 [02:06<1:07:44, 20.95s/it]"
     ]
    },
    {
     "name": "stdout",
     "output_type": "stream",
     "text": [
      "Query no. 7/200\n",
      "22/22 - 1s - 55ms/step - auc_pr: 0.3314 - loss: 0.0202 - precision: 1.0000 - recall: 0.1250\n",
      "evaluating ..\n",
      "1323/1323 - 17s - 13ms/step\n"
     ]
    },
    {
     "name": "stderr",
     "output_type": "stream",
     "text": [
      "/home/ec2-user/.local/lib/python3.9/site-packages/sklearn/metrics/_classification.py:1531: UndefinedMetricWarning: Precision is ill-defined and being set to 0.0 due to no predicted samples. Use `zero_division` parameter to control this behavior.\n",
      "  _warn_prf(average, modifier, f\"{metric.capitalize()} is\", len(result))\n"
     ]
    },
    {
     "name": "stdout",
     "output_type": "stream",
     "text": [
      "{   'fast_trill_6khz': {   'auc_pr': 0.5715965414262991,\n",
      "                           'f1': 0.5597826086956522,\n",
      "                           'precision': 0.7803030303030303,\n",
      "                           'recall': 0.4364406779661017},\n",
      "    'nr_syllable_3khz': {   'auc_pr': 0.7188303464515329,\n",
      "                            'f1': 0.5400593471810089,\n",
      "                            'precision': 0.9285714285714286,\n",
      "                            'recall': 0.3807531380753138},\n",
      "    'triangle_3khz': {   'auc_pr': 0.08878042510463598,\n",
      "                         'f1': 0.0,\n",
      "                         'precision': 0.0,\n",
      "                         'recall': 0.0},\n",
      "    'upsweep_500hz': {   'auc_pr': 0.08789726638734081,\n",
      "                         'f1': 0.012422360248447204,\n",
      "                         'precision': 0.25,\n",
      "                         'recall': 0.006369426751592357}}\n"
     ]
    },
    {
     "name": "stderr",
     "output_type": "stream",
     "text": [
      "  4%|██▊                                                                              | 7/200 [02:27<1:07:27, 20.97s/it]"
     ]
    },
    {
     "name": "stdout",
     "output_type": "stream",
     "text": [
      "Query no. 8/200\n",
      "22/22 - 1s - 56ms/step - auc_pr: 0.2363 - loss: 0.0190 - precision: 0.5000 - recall: 0.2000\n",
      "evaluating ..\n",
      "1323/1323 - 17s - 13ms/step\n"
     ]
    },
    {
     "name": "stderr",
     "output_type": "stream",
     "text": [
      "/home/ec2-user/.local/lib/python3.9/site-packages/sklearn/metrics/_classification.py:1531: UndefinedMetricWarning: Precision is ill-defined and being set to 0.0 due to no predicted samples. Use `zero_division` parameter to control this behavior.\n",
      "  _warn_prf(average, modifier, f\"{metric.capitalize()} is\", len(result))\n",
      "/home/ec2-user/.local/lib/python3.9/site-packages/sklearn/metrics/_classification.py:1531: UndefinedMetricWarning: Precision is ill-defined and being set to 0.0 due to no predicted samples. Use `zero_division` parameter to control this behavior.\n",
      "  _warn_prf(average, modifier, f\"{metric.capitalize()} is\", len(result))\n"
     ]
    },
    {
     "name": "stdout",
     "output_type": "stream",
     "text": [
      "{   'fast_trill_6khz': {   'auc_pr': 0.35430820152340925,\n",
      "                           'f1': 0.15444015444015444,\n",
      "                           'precision': 0.8695652173913043,\n",
      "                           'recall': 0.0847457627118644},\n",
      "    'nr_syllable_3khz': {   'auc_pr': 0.6034514840117523,\n",
      "                            'f1': 0.5917808219178082,\n",
      "                            'precision': 0.8571428571428571,\n",
      "                            'recall': 0.45188284518828453},\n",
      "    'triangle_3khz': {   'auc_pr': 0.054175520294959915,\n",
      "                         'f1': 0.0,\n",
      "                         'precision': 0.0,\n",
      "                         'recall': 0.0},\n",
      "    'upsweep_500hz': {   'auc_pr': 0.02043358038435099,\n",
      "                         'f1': 0.0,\n",
      "                         'precision': 0.0,\n",
      "                         'recall': 0.0}}\n"
     ]
    },
    {
     "name": "stderr",
     "output_type": "stream",
     "text": [
      "  4%|███▏                                                                             | 8/200 [02:48<1:07:00, 20.94s/it]"
     ]
    },
    {
     "name": "stdout",
     "output_type": "stream",
     "text": [
      "Query no. 9/200\n",
      "22/22 - 1s - 55ms/step - auc_pr: 0.6361 - loss: 0.0144 - precision: 1.0000 - recall: 0.4615\n",
      "evaluating ..\n",
      "1323/1323 - 17s - 13ms/step\n"
     ]
    },
    {
     "name": "stderr",
     "output_type": "stream",
     "text": [
      "/home/ec2-user/.local/lib/python3.9/site-packages/sklearn/metrics/_classification.py:1531: UndefinedMetricWarning: Precision is ill-defined and being set to 0.0 due to no predicted samples. Use `zero_division` parameter to control this behavior.\n",
      "  _warn_prf(average, modifier, f\"{metric.capitalize()} is\", len(result))\n",
      "/home/ec2-user/.local/lib/python3.9/site-packages/sklearn/metrics/_classification.py:1531: UndefinedMetricWarning: Precision is ill-defined and being set to 0.0 due to no predicted samples. Use `zero_division` parameter to control this behavior.\n",
      "  _warn_prf(average, modifier, f\"{metric.capitalize()} is\", len(result))\n"
     ]
    },
    {
     "name": "stdout",
     "output_type": "stream",
     "text": [
      "{   'fast_trill_6khz': {   'auc_pr': 0.1441147235876034,\n",
      "                           'f1': 0.2776470588235294,\n",
      "                           'precision': 0.31216931216931215,\n",
      "                           'recall': 0.25},\n",
      "    'nr_syllable_3khz': {   'auc_pr': 0.7061018683281344,\n",
      "                            'f1': 0.6815144766146993,\n",
      "                            'precision': 0.7285714285714285,\n",
      "                            'recall': 0.6401673640167364},\n",
      "    'triangle_3khz': {   'auc_pr': 0.019798168886493314,\n",
      "                         'f1': 0.0,\n",
      "                         'precision': 0.0,\n",
      "                         'recall': 0.0},\n",
      "    'upsweep_500hz': {   'auc_pr': 0.02613902793473634,\n",
      "                         'f1': 0.0,\n",
      "                         'precision': 0.0,\n",
      "                         'recall': 0.0}}\n"
     ]
    },
    {
     "name": "stderr",
     "output_type": "stream",
     "text": [
      "  4%|███▋                                                                             | 9/200 [03:08<1:06:36, 20.93s/it]"
     ]
    },
    {
     "name": "stdout",
     "output_type": "stream",
     "text": [
      "Query no. 10/200\n",
      "22/22 - 1s - 55ms/step - auc_pr: 0.2308 - loss: 0.0132 - precision: 0.5000 - recall: 0.2500\n",
      "evaluating ..\n",
      "1323/1323 - 17s - 13ms/step\n"
     ]
    },
    {
     "name": "stderr",
     "output_type": "stream",
     "text": [
      "/home/ec2-user/.local/lib/python3.9/site-packages/sklearn/metrics/_classification.py:1531: UndefinedMetricWarning: Precision is ill-defined and being set to 0.0 due to no predicted samples. Use `zero_division` parameter to control this behavior.\n",
      "  _warn_prf(average, modifier, f\"{metric.capitalize()} is\", len(result))\n",
      "/home/ec2-user/.local/lib/python3.9/site-packages/sklearn/metrics/_classification.py:1531: UndefinedMetricWarning: Precision is ill-defined and being set to 0.0 due to no predicted samples. Use `zero_division` parameter to control this behavior.\n",
      "  _warn_prf(average, modifier, f\"{metric.capitalize()} is\", len(result))\n"
     ]
    },
    {
     "name": "stdout",
     "output_type": "stream",
     "text": [
      "{   'fast_trill_6khz': {   'auc_pr': 0.19728811636154503,\n",
      "                           'f1': 0.0859375,\n",
      "                           'precision': 0.55,\n",
      "                           'recall': 0.046610169491525424},\n",
      "    'nr_syllable_3khz': {   'auc_pr': 0.5708622150949085,\n",
      "                            'f1': 0.4144736842105263,\n",
      "                            'precision': 0.9692307692307692,\n",
      "                            'recall': 0.26359832635983266},\n",
      "    'triangle_3khz': {   'auc_pr': 0.04183716715008642,\n",
      "                         'f1': 0.0,\n",
      "                         'precision': 0.0,\n",
      "                         'recall': 0.0},\n",
      "    'upsweep_500hz': {   'auc_pr': 0.013575111413344911,\n",
      "                         'f1': 0.0,\n",
      "                         'precision': 0.0,\n",
      "                         'recall': 0.0}}\n"
     ]
    },
    {
     "name": "stderr",
     "output_type": "stream",
     "text": [
      "  5%|████                                                                            | 10/200 [03:29<1:06:13, 20.91s/it]"
     ]
    },
    {
     "name": "stdout",
     "output_type": "stream",
     "text": [
      "Query no. 11/200\n",
      "22/22 - 1s - 55ms/step - auc_pr: 0.3720 - loss: 0.0128 - precision: 1.0000 - recall: 0.2222\n",
      "evaluating ..\n",
      "1323/1323 - 17s - 13ms/step\n"
     ]
    },
    {
     "name": "stderr",
     "output_type": "stream",
     "text": [
      "/home/ec2-user/.local/lib/python3.9/site-packages/sklearn/metrics/_classification.py:1531: UndefinedMetricWarning: Precision is ill-defined and being set to 0.0 due to no predicted samples. Use `zero_division` parameter to control this behavior.\n",
      "  _warn_prf(average, modifier, f\"{metric.capitalize()} is\", len(result))\n",
      "/home/ec2-user/.local/lib/python3.9/site-packages/sklearn/metrics/_classification.py:1531: UndefinedMetricWarning: Precision is ill-defined and being set to 0.0 due to no predicted samples. Use `zero_division` parameter to control this behavior.\n",
      "  _warn_prf(average, modifier, f\"{metric.capitalize()} is\", len(result))\n"
     ]
    },
    {
     "name": "stdout",
     "output_type": "stream",
     "text": [
      "{   'fast_trill_6khz': {   'auc_pr': 0.4574064203020916,\n",
      "                           'f1': 0.4375,\n",
      "                           'precision': 0.6637931034482759,\n",
      "                           'recall': 0.326271186440678},\n",
      "    'nr_syllable_3khz': {   'auc_pr': 0.6594615981143618,\n",
      "                            'f1': 0.31886477462437396,\n",
      "                            'precision': 0.1991657977059437,\n",
      "                            'recall': 0.799163179916318},\n",
      "    'triangle_3khz': {   'auc_pr': 0.07475524231239784,\n",
      "                         'f1': 0.0,\n",
      "                         'precision': 0.0,\n",
      "                         'recall': 0.0},\n",
      "    'upsweep_500hz': {   'auc_pr': 0.019150697184086223,\n",
      "                         'f1': 0.0,\n",
      "                         'precision': 0.0,\n",
      "                         'recall': 0.0}}\n"
     ]
    },
    {
     "name": "stderr",
     "output_type": "stream",
     "text": [
      "  6%|████▍                                                                           | 11/200 [03:50<1:05:49, 20.89s/it]"
     ]
    },
    {
     "name": "stdout",
     "output_type": "stream",
     "text": [
      "Query no. 12/200\n",
      "22/22 - 1s - 54ms/step - auc_pr: 0.3583 - loss: 0.0169 - precision: 0.6250 - recall: 0.4167\n",
      "evaluating ..\n",
      "1323/1323 - 17s - 13ms/step\n"
     ]
    },
    {
     "name": "stderr",
     "output_type": "stream",
     "text": [
      "/home/ec2-user/.local/lib/python3.9/site-packages/sklearn/metrics/_classification.py:1531: UndefinedMetricWarning: Precision is ill-defined and being set to 0.0 due to no predicted samples. Use `zero_division` parameter to control this behavior.\n",
      "  _warn_prf(average, modifier, f\"{metric.capitalize()} is\", len(result))\n",
      "/home/ec2-user/.local/lib/python3.9/site-packages/sklearn/metrics/_classification.py:1531: UndefinedMetricWarning: Precision is ill-defined and being set to 0.0 due to no predicted samples. Use `zero_division` parameter to control this behavior.\n",
      "  _warn_prf(average, modifier, f\"{metric.capitalize()} is\", len(result))\n"
     ]
    },
    {
     "name": "stdout",
     "output_type": "stream",
     "text": [
      "{   'fast_trill_6khz': {   'auc_pr': 0.6848748746620267,\n",
      "                           'f1': 0.6514806378132119,\n",
      "                           'precision': 0.7044334975369458,\n",
      "                           'recall': 0.6059322033898306},\n",
      "    'nr_syllable_3khz': {   'auc_pr': 0.7152748717332326,\n",
      "                            'f1': 0.26811594202898553,\n",
      "                            'precision': 1.0,\n",
      "                            'recall': 0.15481171548117154},\n",
      "    'triangle_3khz': {   'auc_pr': 0.1027358005361814,\n",
      "                         'f1': 0.0,\n",
      "                         'precision': 0.0,\n",
      "                         'recall': 0.0},\n",
      "    'upsweep_500hz': {   'auc_pr': 0.07444346771367996,\n",
      "                         'f1': 0.0,\n",
      "                         'precision': 0.0,\n",
      "                         'recall': 0.0}}\n"
     ]
    },
    {
     "name": "stderr",
     "output_type": "stream",
     "text": [
      "  6%|████▊                                                                           | 12/200 [04:11<1:05:23, 20.87s/it]"
     ]
    },
    {
     "name": "stdout",
     "output_type": "stream",
     "text": [
      "Query no. 13/200\n",
      "22/22 - 1s - 55ms/step - auc_pr: 0.4221 - loss: 0.0146 - precision: 0.8000 - recall: 0.3333\n",
      "evaluating ..\n",
      "1323/1323 - 17s - 13ms/step\n"
     ]
    },
    {
     "name": "stderr",
     "output_type": "stream",
     "text": [
      "/home/ec2-user/.local/lib/python3.9/site-packages/sklearn/metrics/_classification.py:1531: UndefinedMetricWarning: Precision is ill-defined and being set to 0.0 due to no predicted samples. Use `zero_division` parameter to control this behavior.\n",
      "  _warn_prf(average, modifier, f\"{metric.capitalize()} is\", len(result))\n",
      "/home/ec2-user/.local/lib/python3.9/site-packages/sklearn/metrics/_classification.py:1531: UndefinedMetricWarning: Precision is ill-defined and being set to 0.0 due to no predicted samples. Use `zero_division` parameter to control this behavior.\n",
      "  _warn_prf(average, modifier, f\"{metric.capitalize()} is\", len(result))\n"
     ]
    },
    {
     "name": "stdout",
     "output_type": "stream",
     "text": [
      "{   'fast_trill_6khz': {   'auc_pr': 0.17500087787293966,\n",
      "                           'f1': 0.11067193675889328,\n",
      "                           'precision': 0.8235294117647058,\n",
      "                           'recall': 0.059322033898305086},\n",
      "    'nr_syllable_3khz': {   'auc_pr': 0.783790994895016,\n",
      "                            'f1': 0.775609756097561,\n",
      "                            'precision': 0.9298245614035088,\n",
      "                            'recall': 0.6652719665271967},\n",
      "    'triangle_3khz': {   'auc_pr': 0.033154300417688964,\n",
      "                         'f1': 0.0,\n",
      "                         'precision': 0.0,\n",
      "                         'recall': 0.0},\n",
      "    'upsweep_500hz': {   'auc_pr': 0.0985612102089654,\n",
      "                         'f1': 0.0,\n",
      "                         'precision': 0.0,\n",
      "                         'recall': 0.0}}\n"
     ]
    },
    {
     "name": "stderr",
     "output_type": "stream",
     "text": [
      "  6%|█████▏                                                                          | 13/200 [04:32<1:05:07, 20.89s/it]"
     ]
    },
    {
     "name": "stdout",
     "output_type": "stream",
     "text": [
      "Query no. 14/200\n",
      "22/22 - 1s - 55ms/step - auc_pr: 0.4682 - loss: 0.0126 - precision: 1.0000 - recall: 0.3333\n",
      "evaluating ..\n",
      "1323/1323 - 17s - 13ms/step\n"
     ]
    },
    {
     "name": "stderr",
     "output_type": "stream",
     "text": [
      "/home/ec2-user/.local/lib/python3.9/site-packages/sklearn/metrics/_classification.py:1531: UndefinedMetricWarning: Precision is ill-defined and being set to 0.0 due to no predicted samples. Use `zero_division` parameter to control this behavior.\n",
      "  _warn_prf(average, modifier, f\"{metric.capitalize()} is\", len(result))\n",
      "/home/ec2-user/.local/lib/python3.9/site-packages/sklearn/metrics/_classification.py:1531: UndefinedMetricWarning: Precision is ill-defined and being set to 0.0 due to no predicted samples. Use `zero_division` parameter to control this behavior.\n",
      "  _warn_prf(average, modifier, f\"{metric.capitalize()} is\", len(result))\n"
     ]
    },
    {
     "name": "stdout",
     "output_type": "stream",
     "text": [
      "{   'fast_trill_6khz': {   'auc_pr': 0.2563262602155829,\n",
      "                           'f1': 0.1450381679389313,\n",
      "                           'precision': 0.7307692307692307,\n",
      "                           'recall': 0.08050847457627118},\n",
      "    'nr_syllable_3khz': {   'auc_pr': 0.7520319040125446,\n",
      "                            'f1': 0.7315914489311164,\n",
      "                            'precision': 0.8461538461538461,\n",
      "                            'recall': 0.6443514644351465},\n",
      "    'triangle_3khz': {   'auc_pr': 0.0457077819824362,\n",
      "                         'f1': 0.0,\n",
      "                         'precision': 0.0,\n",
      "                         'recall': 0.0},\n",
      "    'upsweep_500hz': {   'auc_pr': 0.07629602852437163,\n",
      "                         'f1': 0.0,\n",
      "                         'precision': 0.0,\n",
      "                         'recall': 0.0}}\n"
     ]
    },
    {
     "name": "stderr",
     "output_type": "stream",
     "text": [
      "  7%|█████▌                                                                          | 14/200 [04:53<1:04:42, 20.87s/it]"
     ]
    },
    {
     "name": "stdout",
     "output_type": "stream",
     "text": [
      "Query no. 15/200\n",
      "22/22 - 1s - 55ms/step - auc_pr: 0.4196 - loss: 0.0186 - precision: 0.8000 - recall: 0.2857\n",
      "evaluating ..\n",
      "1323/1323 - 18s - 13ms/step\n"
     ]
    },
    {
     "name": "stderr",
     "output_type": "stream",
     "text": [
      "/home/ec2-user/.local/lib/python3.9/site-packages/sklearn/metrics/_classification.py:1531: UndefinedMetricWarning: Precision is ill-defined and being set to 0.0 due to no predicted samples. Use `zero_division` parameter to control this behavior.\n",
      "  _warn_prf(average, modifier, f\"{metric.capitalize()} is\", len(result))\n",
      "/home/ec2-user/.local/lib/python3.9/site-packages/sklearn/metrics/_classification.py:1531: UndefinedMetricWarning: Precision is ill-defined and being set to 0.0 due to no predicted samples. Use `zero_division` parameter to control this behavior.\n",
      "  _warn_prf(average, modifier, f\"{metric.capitalize()} is\", len(result))\n"
     ]
    },
    {
     "name": "stdout",
     "output_type": "stream",
     "text": [
      "{   'fast_trill_6khz': {   'auc_pr': 0.5979192833368913,\n",
      "                           'f1': 0.6363636363636364,\n",
      "                           'precision': 0.6504424778761062,\n",
      "                           'recall': 0.6228813559322034},\n",
      "    'nr_syllable_3khz': {   'auc_pr': 0.7368281157566932,\n",
      "                            'f1': 0.6722689075630253,\n",
      "                            'precision': 0.6751054852320675,\n",
      "                            'recall': 0.6694560669456067},\n",
      "    'triangle_3khz': {   'auc_pr': 0.07978518937848783,\n",
      "                         'f1': 0.0,\n",
      "                         'precision': 0.0,\n",
      "                         'recall': 0.0},\n",
      "    'upsweep_500hz': {   'auc_pr': 0.10840577939757667,\n",
      "                         'f1': 0.0,\n",
      "                         'precision': 0.0,\n",
      "                         'recall': 0.0}}\n"
     ]
    },
    {
     "name": "stderr",
     "output_type": "stream",
     "text": [
      "  8%|██████                                                                          | 15/200 [05:14<1:04:33, 20.94s/it]"
     ]
    },
    {
     "name": "stdout",
     "output_type": "stream",
     "text": [
      "Query no. 16/200\n",
      "22/22 - 1s - 55ms/step - auc_pr: 0.4623 - loss: 0.0124 - precision: 0.5714 - recall: 0.4000\n",
      "evaluating ..\n",
      "1323/1323 - 18s - 13ms/step\n"
     ]
    },
    {
     "name": "stderr",
     "output_type": "stream",
     "text": [
      "/home/ec2-user/.local/lib/python3.9/site-packages/sklearn/metrics/_classification.py:1531: UndefinedMetricWarning: Precision is ill-defined and being set to 0.0 due to no predicted samples. Use `zero_division` parameter to control this behavior.\n",
      "  _warn_prf(average, modifier, f\"{metric.capitalize()} is\", len(result))\n",
      "/home/ec2-user/.local/lib/python3.9/site-packages/sklearn/metrics/_classification.py:1531: UndefinedMetricWarning: Precision is ill-defined and being set to 0.0 due to no predicted samples. Use `zero_division` parameter to control this behavior.\n",
      "  _warn_prf(average, modifier, f\"{metric.capitalize()} is\", len(result))\n"
     ]
    },
    {
     "name": "stdout",
     "output_type": "stream",
     "text": [
      "{   'fast_trill_6khz': {   'auc_pr': 0.6334867696212161,\n",
      "                           'f1': 0.6173469387755102,\n",
      "                           'precision': 0.7756410256410257,\n",
      "                           'recall': 0.5127118644067796},\n",
      "    'nr_syllable_3khz': {   'auc_pr': 0.6713792296401537,\n",
      "                            'f1': 0.6821052631578948,\n",
      "                            'precision': 0.6864406779661016,\n",
      "                            'recall': 0.6778242677824268},\n",
      "    'triangle_3khz': {   'auc_pr': 0.059136029060717014,\n",
      "                         'f1': 0.0,\n",
      "                         'precision': 0.0,\n",
      "                         'recall': 0.0},\n",
      "    'upsweep_500hz': {   'auc_pr': 0.17485201627984895,\n",
      "                         'f1': 0.0,\n",
      "                         'precision': 0.0,\n",
      "                         'recall': 0.0}}\n"
     ]
    },
    {
     "name": "stderr",
     "output_type": "stream",
     "text": [
      "  8%|██████▍                                                                         | 16/200 [05:35<1:04:24, 21.00s/it]"
     ]
    },
    {
     "name": "stdout",
     "output_type": "stream",
     "text": [
      "Query no. 17/200\n",
      "22/22 - 1s - 53ms/step - auc_pr: 0.5279 - loss: 0.0164 - precision: 0.7143 - recall: 0.3333\n",
      "evaluating ..\n",
      "1323/1323 - 17s - 13ms/step\n"
     ]
    },
    {
     "name": "stderr",
     "output_type": "stream",
     "text": [
      "/home/ec2-user/.local/lib/python3.9/site-packages/sklearn/metrics/_classification.py:1531: UndefinedMetricWarning: Precision is ill-defined and being set to 0.0 due to no predicted samples. Use `zero_division` parameter to control this behavior.\n",
      "  _warn_prf(average, modifier, f\"{metric.capitalize()} is\", len(result))\n",
      "/home/ec2-user/.local/lib/python3.9/site-packages/sklearn/metrics/_classification.py:1531: UndefinedMetricWarning: Precision is ill-defined and being set to 0.0 due to no predicted samples. Use `zero_division` parameter to control this behavior.\n",
      "  _warn_prf(average, modifier, f\"{metric.capitalize()} is\", len(result))\n"
     ]
    },
    {
     "name": "stdout",
     "output_type": "stream",
     "text": [
      "{   'fast_trill_6khz': {   'auc_pr': 0.6174025876982433,\n",
      "                           'f1': 0.6374133949191686,\n",
      "                           'precision': 0.700507614213198,\n",
      "                           'recall': 0.5847457627118644},\n",
      "    'nr_syllable_3khz': {   'auc_pr': 0.7097198005729799,\n",
      "                            'f1': 0.750524109014675,\n",
      "                            'precision': 0.7521008403361344,\n",
      "                            'recall': 0.7489539748953975},\n",
      "    'triangle_3khz': {   'auc_pr': 0.026849430317522766,\n",
      "                         'f1': 0.0,\n",
      "                         'precision': 0.0,\n",
      "                         'recall': 0.0},\n",
      "    'upsweep_500hz': {   'auc_pr': 0.19533604634974566,\n",
      "                         'f1': 0.0,\n",
      "                         'precision': 0.0,\n",
      "                         'recall': 0.0}}\n"
     ]
    },
    {
     "name": "stderr",
     "output_type": "stream",
     "text": [
      "  8%|██████▊                                                                         | 17/200 [05:56<1:03:54, 20.95s/it]"
     ]
    },
    {
     "name": "stdout",
     "output_type": "stream",
     "text": [
      "Query no. 18/200\n",
      "22/22 - 1s - 55ms/step - auc_pr: 0.2342 - loss: 0.0110 - precision: 0.0000e+00 - recall: 0.0000e+00\n",
      "evaluating ..\n",
      "1323/1323 - 17s - 13ms/step\n"
     ]
    },
    {
     "name": "stderr",
     "output_type": "stream",
     "text": [
      "/home/ec2-user/.local/lib/python3.9/site-packages/sklearn/metrics/_classification.py:1531: UndefinedMetricWarning: Precision is ill-defined and being set to 0.0 due to no predicted samples. Use `zero_division` parameter to control this behavior.\n",
      "  _warn_prf(average, modifier, f\"{metric.capitalize()} is\", len(result))\n",
      "/home/ec2-user/.local/lib/python3.9/site-packages/sklearn/metrics/_classification.py:1531: UndefinedMetricWarning: Precision is ill-defined and being set to 0.0 due to no predicted samples. Use `zero_division` parameter to control this behavior.\n",
      "  _warn_prf(average, modifier, f\"{metric.capitalize()} is\", len(result))\n"
     ]
    },
    {
     "name": "stdout",
     "output_type": "stream",
     "text": [
      "{   'fast_trill_6khz': {   'auc_pr': 0.6571529095559039,\n",
      "                           'f1': 0.6464646464646465,\n",
      "                           'precision': 0.8,\n",
      "                           'recall': 0.5423728813559322},\n",
      "    'nr_syllable_3khz': {   'auc_pr': 0.667228208423447,\n",
      "                            'f1': 0.6240409207161125,\n",
      "                            'precision': 0.8026315789473685,\n",
      "                            'recall': 0.5104602510460251},\n",
      "    'triangle_3khz': {   'auc_pr': 0.05478411333129184,\n",
      "                         'f1': 0.0,\n",
      "                         'precision': 0.0,\n",
      "                         'recall': 0.0},\n",
      "    'upsweep_500hz': {   'auc_pr': 0.13835052104237927,\n",
      "                         'f1': 0.0,\n",
      "                         'precision': 0.0,\n",
      "                         'recall': 0.0}}\n"
     ]
    },
    {
     "name": "stderr",
     "output_type": "stream",
     "text": [
      "  9%|███████▏                                                                        | 18/200 [06:17<1:03:36, 20.97s/it]"
     ]
    },
    {
     "name": "stdout",
     "output_type": "stream",
     "text": [
      "Query no. 19/200\n",
      "22/22 - 1s - 59ms/step - auc_pr: 0.2367 - loss: 0.0124 - precision: 0.0000e+00 - recall: 0.0000e+00\n",
      "evaluating ..\n",
      "1323/1323 - 17s - 13ms/step\n"
     ]
    },
    {
     "name": "stderr",
     "output_type": "stream",
     "text": [
      "/home/ec2-user/.local/lib/python3.9/site-packages/sklearn/metrics/_classification.py:1531: UndefinedMetricWarning: Precision is ill-defined and being set to 0.0 due to no predicted samples. Use `zero_division` parameter to control this behavior.\n",
      "  _warn_prf(average, modifier, f\"{metric.capitalize()} is\", len(result))\n",
      "/home/ec2-user/.local/lib/python3.9/site-packages/sklearn/metrics/_classification.py:1531: UndefinedMetricWarning: Precision is ill-defined and being set to 0.0 due to no predicted samples. Use `zero_division` parameter to control this behavior.\n",
      "  _warn_prf(average, modifier, f\"{metric.capitalize()} is\", len(result))\n"
     ]
    },
    {
     "name": "stdout",
     "output_type": "stream",
     "text": [
      "{   'fast_trill_6khz': {   'auc_pr': 0.6273300661093282,\n",
      "                           'f1': 0.5045045045045045,\n",
      "                           'precision': 0.865979381443299,\n",
      "                           'recall': 0.3559322033898305},\n",
      "    'nr_syllable_3khz': {   'auc_pr': 0.7410360714745706,\n",
      "                            'f1': 0.6683168316831684,\n",
      "                            'precision': 0.8181818181818182,\n",
      "                            'recall': 0.5648535564853556},\n",
      "    'triangle_3khz': {   'auc_pr': 0.08406297444752048,\n",
      "                         'f1': 0.0,\n",
      "                         'precision': 0.0,\n",
      "                         'recall': 0.0},\n",
      "    'upsweep_500hz': {   'auc_pr': 0.14180778644038117,\n",
      "                         'f1': 0.0,\n",
      "                         'precision': 0.0,\n",
      "                         'recall': 0.0}}\n"
     ]
    },
    {
     "name": "stderr",
     "output_type": "stream",
     "text": [
      " 10%|███████▌                                                                        | 19/200 [06:38<1:03:16, 20.97s/it]"
     ]
    },
    {
     "name": "stdout",
     "output_type": "stream",
     "text": [
      "Query no. 20/200\n",
      "22/22 - 1s - 56ms/step - auc_pr: 0.2789 - loss: 0.0192 - precision: 0.6667 - recall: 0.1538\n",
      "evaluating ..\n",
      "1323/1323 - 17s - 13ms/step\n"
     ]
    },
    {
     "name": "stderr",
     "output_type": "stream",
     "text": [
      "/home/ec2-user/.local/lib/python3.9/site-packages/sklearn/metrics/_classification.py:1531: UndefinedMetricWarning: Precision is ill-defined and being set to 0.0 due to no predicted samples. Use `zero_division` parameter to control this behavior.\n",
      "  _warn_prf(average, modifier, f\"{metric.capitalize()} is\", len(result))\n",
      "/home/ec2-user/.local/lib/python3.9/site-packages/sklearn/metrics/_classification.py:1531: UndefinedMetricWarning: Precision is ill-defined and being set to 0.0 due to no predicted samples. Use `zero_division` parameter to control this behavior.\n",
      "  _warn_prf(average, modifier, f\"{metric.capitalize()} is\", len(result))\n"
     ]
    },
    {
     "name": "stdout",
     "output_type": "stream",
     "text": [
      "{   'fast_trill_6khz': {   'auc_pr': 0.6530525970999181,\n",
      "                           'f1': 0.5940054495912807,\n",
      "                           'precision': 0.8320610687022901,\n",
      "                           'recall': 0.461864406779661},\n",
      "    'nr_syllable_3khz': {   'auc_pr': 0.8127096708323647,\n",
      "                            'f1': 0.7676348547717843,\n",
      "                            'precision': 0.7613168724279835,\n",
      "                            'recall': 0.7740585774058577},\n",
      "    'triangle_3khz': {   'auc_pr': 0.09956485022040668,\n",
      "                         'f1': 0.0,\n",
      "                         'precision': 0.0,\n",
      "                         'recall': 0.0},\n",
      "    'upsweep_500hz': {   'auc_pr': 0.09589413117766417,\n",
      "                         'f1': 0.0,\n",
      "                         'precision': 0.0,\n",
      "                         'recall': 0.0}}\n"
     ]
    },
    {
     "name": "stderr",
     "output_type": "stream",
     "text": [
      " 10%|████████                                                                        | 20/200 [06:59<1:03:00, 21.00s/it]"
     ]
    },
    {
     "name": "stdout",
     "output_type": "stream",
     "text": [
      "Query no. 21/200\n",
      "22/22 - 1s - 59ms/step - auc_pr: 0.5855 - loss: 0.0124 - precision: 0.8333 - recall: 0.4545\n",
      "evaluating ..\n",
      "1323/1323 - 17s - 13ms/step\n"
     ]
    },
    {
     "name": "stderr",
     "output_type": "stream",
     "text": [
      "/home/ec2-user/.local/lib/python3.9/site-packages/sklearn/metrics/_classification.py:1531: UndefinedMetricWarning: Precision is ill-defined and being set to 0.0 due to no predicted samples. Use `zero_division` parameter to control this behavior.\n",
      "  _warn_prf(average, modifier, f\"{metric.capitalize()} is\", len(result))\n",
      "/home/ec2-user/.local/lib/python3.9/site-packages/sklearn/metrics/_classification.py:1531: UndefinedMetricWarning: Precision is ill-defined and being set to 0.0 due to no predicted samples. Use `zero_division` parameter to control this behavior.\n",
      "  _warn_prf(average, modifier, f\"{metric.capitalize()} is\", len(result))\n"
     ]
    },
    {
     "name": "stdout",
     "output_type": "stream",
     "text": [
      "{   'fast_trill_6khz': {   'auc_pr': 0.6860384146026337,\n",
      "                           'f1': 0.6299212598425197,\n",
      "                           'precision': 0.8275862068965517,\n",
      "                           'recall': 0.5084745762711864},\n",
      "    'nr_syllable_3khz': {   'auc_pr': 0.7892247056984665,\n",
      "                            'f1': 0.7711864406779662,\n",
      "                            'precision': 0.7811158798283262,\n",
      "                            'recall': 0.7615062761506276},\n",
      "    'triangle_3khz': {   'auc_pr': 0.08663978628129128,\n",
      "                         'f1': 0.0,\n",
      "                         'precision': 0.0,\n",
      "                         'recall': 0.0},\n",
      "    'upsweep_500hz': {   'auc_pr': 0.06940460616389921,\n",
      "                         'f1': 0.0,\n",
      "                         'precision': 0.0,\n",
      "                         'recall': 0.0}}\n"
     ]
    },
    {
     "name": "stderr",
     "output_type": "stream",
     "text": [
      " 10%|████████▍                                                                       | 21/200 [07:20<1:02:44, 21.03s/it]"
     ]
    },
    {
     "name": "stdout",
     "output_type": "stream",
     "text": [
      "Query no. 22/200\n",
      "22/22 - 1s - 55ms/step - auc_pr: 0.7932 - loss: 0.0042 - precision: 0.7500 - recall: 0.5000\n",
      "evaluating ..\n",
      "1323/1323 - 17s - 13ms/step\n"
     ]
    },
    {
     "name": "stderr",
     "output_type": "stream",
     "text": [
      "/home/ec2-user/.local/lib/python3.9/site-packages/sklearn/metrics/_classification.py:1531: UndefinedMetricWarning: Precision is ill-defined and being set to 0.0 due to no predicted samples. Use `zero_division` parameter to control this behavior.\n",
      "  _warn_prf(average, modifier, f\"{metric.capitalize()} is\", len(result))\n",
      "/home/ec2-user/.local/lib/python3.9/site-packages/sklearn/metrics/_classification.py:1531: UndefinedMetricWarning: Precision is ill-defined and being set to 0.0 due to no predicted samples. Use `zero_division` parameter to control this behavior.\n",
      "  _warn_prf(average, modifier, f\"{metric.capitalize()} is\", len(result))\n"
     ]
    },
    {
     "name": "stdout",
     "output_type": "stream",
     "text": [
      "{   'fast_trill_6khz': {   'auc_pr': 0.6546112707254642,\n",
      "                           'f1': 0.48148148148148145,\n",
      "                           'precision': 0.8863636363636364,\n",
      "                           'recall': 0.3305084745762712},\n",
      "    'nr_syllable_3khz': {   'auc_pr': 0.7976827701844572,\n",
      "                            'f1': 0.782051282051282,\n",
      "                            'precision': 0.7991266375545851,\n",
      "                            'recall': 0.7656903765690377},\n",
      "    'triangle_3khz': {   'auc_pr': 0.06403630482128868,\n",
      "                         'f1': 0.0,\n",
      "                         'precision': 0.0,\n",
      "                         'recall': 0.0},\n",
      "    'upsweep_500hz': {   'auc_pr': 0.06278329992352392,\n",
      "                         'f1': 0.0,\n",
      "                         'precision': 0.0,\n",
      "                         'recall': 0.0}}\n"
     ]
    },
    {
     "name": "stderr",
     "output_type": "stream",
     "text": [
      " 11%|████████▊                                                                       | 22/200 [07:41<1:02:15, 20.99s/it]"
     ]
    },
    {
     "name": "stdout",
     "output_type": "stream",
     "text": [
      "Query no. 23/200\n",
      "22/22 - 1s - 54ms/step - auc_pr: 0.6302 - loss: 0.0147 - precision: 0.8571 - recall: 0.4000\n",
      "evaluating ..\n",
      "1323/1323 - 17s - 13ms/step\n"
     ]
    },
    {
     "name": "stderr",
     "output_type": "stream",
     "text": [
      "/home/ec2-user/.local/lib/python3.9/site-packages/sklearn/metrics/_classification.py:1531: UndefinedMetricWarning: Precision is ill-defined and being set to 0.0 due to no predicted samples. Use `zero_division` parameter to control this behavior.\n",
      "  _warn_prf(average, modifier, f\"{metric.capitalize()} is\", len(result))\n",
      "/home/ec2-user/.local/lib/python3.9/site-packages/sklearn/metrics/_classification.py:1531: UndefinedMetricWarning: Precision is ill-defined and being set to 0.0 due to no predicted samples. Use `zero_division` parameter to control this behavior.\n",
      "  _warn_prf(average, modifier, f\"{metric.capitalize()} is\", len(result))\n"
     ]
    },
    {
     "name": "stdout",
     "output_type": "stream",
     "text": [
      "{   'fast_trill_6khz': {   'auc_pr': 0.6930113539401396,\n",
      "                           'f1': 0.6632911392405063,\n",
      "                           'precision': 0.8238993710691824,\n",
      "                           'recall': 0.5550847457627118},\n",
      "    'nr_syllable_3khz': {   'auc_pr': 0.7359461656896769,\n",
      "                            'f1': 0.5572005383580081,\n",
      "                            'precision': 0.4107142857142857,\n",
      "                            'recall': 0.8661087866108786},\n",
      "    'triangle_3khz': {   'auc_pr': 0.10597398978639862,\n",
      "                         'f1': 0.0,\n",
      "                         'precision': 0.0,\n",
      "                         'recall': 0.0},\n",
      "    'upsweep_500hz': {   'auc_pr': 0.12348798948690722,\n",
      "                         'f1': 0.0,\n",
      "                         'precision': 0.0,\n",
      "                         'recall': 0.0}}\n"
     ]
    },
    {
     "name": "stderr",
     "output_type": "stream",
     "text": [
      " 12%|█████████▏                                                                      | 23/200 [08:02<1:01:46, 20.94s/it]"
     ]
    },
    {
     "name": "stdout",
     "output_type": "stream",
     "text": [
      "Query no. 24/200\n",
      "22/22 - 1s - 55ms/step - auc_pr: 0.3790 - loss: 0.0103 - precision: 0.5000 - recall: 0.2857\n",
      "evaluating ..\n",
      "1323/1323 - 17s - 13ms/step\n"
     ]
    },
    {
     "name": "stderr",
     "output_type": "stream",
     "text": [
      "/home/ec2-user/.local/lib/python3.9/site-packages/sklearn/metrics/_classification.py:1531: UndefinedMetricWarning: Precision is ill-defined and being set to 0.0 due to no predicted samples. Use `zero_division` parameter to control this behavior.\n",
      "  _warn_prf(average, modifier, f\"{metric.capitalize()} is\", len(result))\n"
     ]
    },
    {
     "name": "stdout",
     "output_type": "stream",
     "text": [
      "{   'fast_trill_6khz': {   'auc_pr': 0.7168672562338206,\n",
      "                           'f1': 0.6829268292682927,\n",
      "                           'precision': 0.8045977011494253,\n",
      "                           'recall': 0.5932203389830508},\n",
      "    'nr_syllable_3khz': {   'auc_pr': 0.44429308797519385,\n",
      "                            'f1': 0.47715736040609136,\n",
      "                            'precision': 0.6064516129032258,\n",
      "                            'recall': 0.39330543933054396},\n",
      "    'triangle_3khz': {   'auc_pr': 0.058088985363112716,\n",
      "                         'f1': 0.0,\n",
      "                         'precision': 0.0,\n",
      "                         'recall': 0.0},\n",
      "    'upsweep_500hz': {   'auc_pr': 0.12033429174871163,\n",
      "                         'f1': 0.0,\n",
      "                         'precision': 0.0,\n",
      "                         'recall': 0.0}}\n"
     ]
    },
    {
     "name": "stderr",
     "output_type": "stream",
     "text": [
      " 12%|█████████▌                                                                      | 24/200 [08:23<1:01:29, 20.97s/it]"
     ]
    },
    {
     "name": "stdout",
     "output_type": "stream",
     "text": [
      "Query no. 25/200\n",
      "22/22 - 1s - 55ms/step - auc_pr: 0.2360 - loss: 0.0115 - precision: 0.5000 - recall: 0.1429\n",
      "evaluating ..\n",
      "1323/1323 - 17s - 13ms/step\n"
     ]
    },
    {
     "name": "stderr",
     "output_type": "stream",
     "text": [
      "/home/ec2-user/.local/lib/python3.9/site-packages/sklearn/metrics/_classification.py:1531: UndefinedMetricWarning: Precision is ill-defined and being set to 0.0 due to no predicted samples. Use `zero_division` parameter to control this behavior.\n",
      "  _warn_prf(average, modifier, f\"{metric.capitalize()} is\", len(result))\n"
     ]
    },
    {
     "name": "stdout",
     "output_type": "stream",
     "text": [
      "{   'fast_trill_6khz': {   'auc_pr': 0.7046236578474987,\n",
      "                           'f1': 0.6096256684491979,\n",
      "                           'precision': 0.8260869565217391,\n",
      "                           'recall': 0.4830508474576271},\n",
      "    'nr_syllable_3khz': {   'auc_pr': 0.5633153501303668,\n",
      "                            'f1': 0.3521594684385382,\n",
      "                            'precision': 0.8548387096774194,\n",
      "                            'recall': 0.2217573221757322},\n",
      "    'triangle_3khz': {   'auc_pr': 0.04710119748294018,\n",
      "                         'f1': 0.0,\n",
      "                         'precision': 0.0,\n",
      "                         'recall': 0.0},\n",
      "    'upsweep_500hz': {   'auc_pr': 0.15079445405082326,\n",
      "                         'f1': 0.0,\n",
      "                         'precision': 0.0,\n",
      "                         'recall': 0.0}}\n"
     ]
    },
    {
     "name": "stderr",
     "output_type": "stream",
     "text": [
      " 12%|██████████                                                                      | 25/200 [08:44<1:01:03, 20.94s/it]"
     ]
    },
    {
     "name": "stdout",
     "output_type": "stream",
     "text": [
      "Query no. 26/200\n",
      "22/22 - 1s - 56ms/step - auc_pr: 0.1308 - loss: 0.0221 - precision: 0.0000e+00 - recall: 0.0000e+00\n",
      "evaluating ..\n",
      "1323/1323 - 17s - 13ms/step\n"
     ]
    },
    {
     "name": "stderr",
     "output_type": "stream",
     "text": [
      "/home/ec2-user/.local/lib/python3.9/site-packages/sklearn/metrics/_classification.py:1531: UndefinedMetricWarning: Precision is ill-defined and being set to 0.0 due to no predicted samples. Use `zero_division` parameter to control this behavior.\n",
      "  _warn_prf(average, modifier, f\"{metric.capitalize()} is\", len(result))\n"
     ]
    },
    {
     "name": "stdout",
     "output_type": "stream",
     "text": [
      "{   'fast_trill_6khz': {   'auc_pr': 0.7108149146381683,\n",
      "                           'f1': 0.633245382585752,\n",
      "                           'precision': 0.8391608391608392,\n",
      "                           'recall': 0.5084745762711864},\n",
      "    'nr_syllable_3khz': {   'auc_pr': 0.6147478640709892,\n",
      "                            'f1': 0.4642857142857143,\n",
      "                            'precision': 0.8041237113402062,\n",
      "                            'recall': 0.3263598326359833},\n",
      "    'triangle_3khz': {   'auc_pr': 0.07455628167478656,\n",
      "                         'f1': 0.0,\n",
      "                         'precision': 0.0,\n",
      "                         'recall': 0.0},\n",
      "    'upsweep_500hz': {   'auc_pr': 0.2106015055356793,\n",
      "                         'f1': 0.2572614107883817,\n",
      "                         'precision': 0.36904761904761907,\n",
      "                         'recall': 0.19745222929936307}}\n"
     ]
    },
    {
     "name": "stderr",
     "output_type": "stream",
     "text": [
      " 13%|██████████▍                                                                     | 26/200 [09:04<1:00:41, 20.93s/it]"
     ]
    },
    {
     "name": "stdout",
     "output_type": "stream",
     "text": [
      "Query no. 27/200\n",
      "22/22 - 1s - 56ms/step - auc_pr: 0.3076 - loss: 0.0067 - precision: 0.5000 - recall: 0.4000\n",
      "evaluating ..\n",
      "1323/1323 - 17s - 13ms/step\n"
     ]
    },
    {
     "name": "stderr",
     "output_type": "stream",
     "text": [
      "/home/ec2-user/.local/lib/python3.9/site-packages/sklearn/metrics/_classification.py:1531: UndefinedMetricWarning: Precision is ill-defined and being set to 0.0 due to no predicted samples. Use `zero_division` parameter to control this behavior.\n",
      "  _warn_prf(average, modifier, f\"{metric.capitalize()} is\", len(result))\n"
     ]
    },
    {
     "name": "stdout",
     "output_type": "stream",
     "text": [
      "{   'fast_trill_6khz': {   'auc_pr': 0.6921993718480589,\n",
      "                           'f1': 0.5674157303370787,\n",
      "                           'precision': 0.8416666666666667,\n",
      "                           'recall': 0.4279661016949153},\n",
      "    'nr_syllable_3khz': {   'auc_pr': 0.7769243375442363,\n",
      "                            'f1': 0.35051546391752575,\n",
      "                            'precision': 0.9807692307692307,\n",
      "                            'recall': 0.21338912133891214},\n",
      "    'triangle_3khz': {   'auc_pr': 0.0677692823002365,\n",
      "                         'f1': 0.0,\n",
      "                         'precision': 0.0,\n",
      "                         'recall': 0.0},\n",
      "    'upsweep_500hz': {   'auc_pr': 0.2289564164556596,\n",
      "                         'f1': 0.13872832369942195,\n",
      "                         'precision': 0.75,\n",
      "                         'recall': 0.07643312101910828}}\n"
     ]
    },
    {
     "name": "stderr",
     "output_type": "stream",
     "text": [
      " 14%|██████████▊                                                                     | 27/200 [09:26<1:00:25, 20.96s/it]"
     ]
    },
    {
     "name": "stdout",
     "output_type": "stream",
     "text": [
      "Query no. 28/200\n",
      "22/22 - 1s - 54ms/step - auc_pr: 0.4635 - loss: 0.0099 - precision: 0.6000 - recall: 0.3750\n",
      "evaluating ..\n",
      "1323/1323 - 17s - 13ms/step\n"
     ]
    },
    {
     "name": "stderr",
     "output_type": "stream",
     "text": [
      "/home/ec2-user/.local/lib/python3.9/site-packages/sklearn/metrics/_classification.py:1531: UndefinedMetricWarning: Precision is ill-defined and being set to 0.0 due to no predicted samples. Use `zero_division` parameter to control this behavior.\n",
      "  _warn_prf(average, modifier, f\"{metric.capitalize()} is\", len(result))\n"
     ]
    },
    {
     "name": "stdout",
     "output_type": "stream",
     "text": [
      "{   'fast_trill_6khz': {   'auc_pr': 0.6356322737030875,\n",
      "                           'f1': 0.3310344827586207,\n",
      "                           'precision': 0.8888888888888888,\n",
      "                           'recall': 0.2033898305084746},\n",
      "    'nr_syllable_3khz': {   'auc_pr': 0.7542336749501702,\n",
      "                            'f1': 0.71875,\n",
      "                            'precision': 0.9517241379310345,\n",
      "                            'recall': 0.5774058577405857},\n",
      "    'triangle_3khz': {   'auc_pr': 0.0995307357884666,\n",
      "                         'f1': 0.0,\n",
      "                         'precision': 0.0,\n",
      "                         'recall': 0.0},\n",
      "    'upsweep_500hz': {   'auc_pr': 0.20500570900508736,\n",
      "                         'f1': 0.1827956989247312,\n",
      "                         'precision': 0.5862068965517241,\n",
      "                         'recall': 0.10828025477707007}}\n"
     ]
    },
    {
     "name": "stderr",
     "output_type": "stream",
     "text": [
      " 14%|███████████▍                                                                      | 28/200 [09:46<59:59, 20.93s/it]"
     ]
    },
    {
     "name": "stdout",
     "output_type": "stream",
     "text": [
      "Query no. 29/200\n",
      "22/22 - 1s - 55ms/step - auc_pr: 0.6472 - loss: 0.0077 - precision: 0.6667 - recall: 0.2500\n",
      "evaluating ..\n",
      "1323/1323 - 17s - 13ms/step\n"
     ]
    },
    {
     "name": "stderr",
     "output_type": "stream",
     "text": [
      "/home/ec2-user/.local/lib/python3.9/site-packages/sklearn/metrics/_classification.py:1531: UndefinedMetricWarning: Precision is ill-defined and being set to 0.0 due to no predicted samples. Use `zero_division` parameter to control this behavior.\n",
      "  _warn_prf(average, modifier, f\"{metric.capitalize()} is\", len(result))\n"
     ]
    },
    {
     "name": "stdout",
     "output_type": "stream",
     "text": [
      "{   'fast_trill_6khz': {   'auc_pr': 0.7020816219389685,\n",
      "                           'f1': 0.6120218579234973,\n",
      "                           'precision': 0.8615384615384616,\n",
      "                           'recall': 0.4745762711864407},\n",
      "    'nr_syllable_3khz': {   'auc_pr': 0.7943961826479824,\n",
      "                            'f1': 0.6788511749347258,\n",
      "                            'precision': 0.9027777777777778,\n",
      "                            'recall': 0.5439330543933054},\n",
      "    'triangle_3khz': {   'auc_pr': 0.07828714150787414,\n",
      "                         'f1': 0.0,\n",
      "                         'precision': 0.0,\n",
      "                         'recall': 0.0},\n",
      "    'upsweep_500hz': {   'auc_pr': 0.2208812582322392,\n",
      "                         'f1': 0.17486338797814208,\n",
      "                         'precision': 0.6153846153846154,\n",
      "                         'recall': 0.10191082802547771}}\n"
     ]
    },
    {
     "name": "stderr",
     "output_type": "stream",
     "text": [
      " 14%|███████████▉                                                                      | 29/200 [10:07<59:34, 20.90s/it]"
     ]
    },
    {
     "name": "stdout",
     "output_type": "stream",
     "text": [
      "Query no. 30/200\n",
      "22/22 - 1s - 54ms/step - auc_pr: 0.7474 - loss: 0.0087 - precision: 0.7778 - recall: 0.6364\n",
      "evaluating ..\n",
      "1323/1323 - 17s - 13ms/step\n"
     ]
    },
    {
     "name": "stderr",
     "output_type": "stream",
     "text": [
      "/home/ec2-user/.local/lib/python3.9/site-packages/sklearn/metrics/_classification.py:1531: UndefinedMetricWarning: Precision is ill-defined and being set to 0.0 due to no predicted samples. Use `zero_division` parameter to control this behavior.\n",
      "  _warn_prf(average, modifier, f\"{metric.capitalize()} is\", len(result))\n"
     ]
    },
    {
     "name": "stdout",
     "output_type": "stream",
     "text": [
      "{   'fast_trill_6khz': {   'auc_pr': 0.6997578600169818,\n",
      "                           'f1': 0.702928870292887,\n",
      "                           'precision': 0.6942148760330579,\n",
      "                           'recall': 0.711864406779661},\n",
      "    'nr_syllable_3khz': {   'auc_pr': 0.7275421724661021,\n",
      "                            'f1': 0.704225352112676,\n",
      "                            'precision': 0.6782945736434108,\n",
      "                            'recall': 0.7322175732217573},\n",
      "    'triangle_3khz': {   'auc_pr': 0.07810187862078222,\n",
      "                         'f1': 0.0,\n",
      "                         'precision': 0.0,\n",
      "                         'recall': 0.0},\n",
      "    'upsweep_500hz': {   'auc_pr': 0.22019293421554675,\n",
      "                         'f1': 0.16666666666666666,\n",
      "                         'precision': 0.6521739130434783,\n",
      "                         'recall': 0.09554140127388536}}\n"
     ]
    },
    {
     "name": "stderr",
     "output_type": "stream",
     "text": [
      " 15%|████████████▎                                                                     | 30/200 [10:28<59:16, 20.92s/it]"
     ]
    },
    {
     "name": "stdout",
     "output_type": "stream",
     "text": [
      "Query no. 31/200\n",
      "22/22 - 1s - 55ms/step - auc_pr: 0.4515 - loss: 0.0033 - precision: 0.6667 - recall: 0.6667\n",
      "evaluating ..\n",
      "1323/1323 - 17s - 13ms/step\n"
     ]
    },
    {
     "name": "stderr",
     "output_type": "stream",
     "text": [
      "/home/ec2-user/.local/lib/python3.9/site-packages/sklearn/metrics/_classification.py:1531: UndefinedMetricWarning: Precision is ill-defined and being set to 0.0 due to no predicted samples. Use `zero_division` parameter to control this behavior.\n",
      "  _warn_prf(average, modifier, f\"{metric.capitalize()} is\", len(result))\n"
     ]
    },
    {
     "name": "stdout",
     "output_type": "stream",
     "text": [
      "{   'fast_trill_6khz': {   'auc_pr': 0.6344282654986984,\n",
      "                           'f1': 0.5454545454545454,\n",
      "                           'precision': 0.8275862068965517,\n",
      "                           'recall': 0.4067796610169492},\n",
      "    'nr_syllable_3khz': {   'auc_pr': 0.6432929896620805,\n",
      "                            'f1': 0.536144578313253,\n",
      "                            'precision': 0.956989247311828,\n",
      "                            'recall': 0.3723849372384937},\n",
      "    'triangle_3khz': {   'auc_pr': 0.05727947089037498,\n",
      "                         'f1': 0.0,\n",
      "                         'precision': 0.0,\n",
      "                         'recall': 0.0},\n",
      "    'upsweep_500hz': {   'auc_pr': 0.21187137990568922,\n",
      "                         'f1': 0.11695906432748537,\n",
      "                         'precision': 0.7142857142857143,\n",
      "                         'recall': 0.06369426751592357}}\n"
     ]
    },
    {
     "name": "stderr",
     "output_type": "stream",
     "text": [
      " 16%|████████████▋                                                                     | 31/200 [10:49<58:54, 20.92s/it]"
     ]
    },
    {
     "name": "stdout",
     "output_type": "stream",
     "text": [
      "Query no. 32/200\n",
      "22/22 - 1s - 57ms/step - auc_pr: 0.6471 - loss: 0.0112 - precision: 0.6250 - recall: 0.4167\n",
      "evaluating ..\n",
      "1323/1323 - 17s - 13ms/step\n"
     ]
    },
    {
     "name": "stderr",
     "output_type": "stream",
     "text": [
      "/home/ec2-user/.local/lib/python3.9/site-packages/sklearn/metrics/_classification.py:1531: UndefinedMetricWarning: Precision is ill-defined and being set to 0.0 due to no predicted samples. Use `zero_division` parameter to control this behavior.\n",
      "  _warn_prf(average, modifier, f\"{metric.capitalize()} is\", len(result))\n"
     ]
    },
    {
     "name": "stdout",
     "output_type": "stream",
     "text": [
      "{   'fast_trill_6khz': {   'auc_pr': 0.6848894249609612,\n",
      "                           'f1': 0.6801801801801802,\n",
      "                           'precision': 0.7259615384615384,\n",
      "                           'recall': 0.6398305084745762},\n",
      "    'nr_syllable_3khz': {   'auc_pr': 0.7593483737091342,\n",
      "                            'f1': 0.6684931506849315,\n",
      "                            'precision': 0.9682539682539683,\n",
      "                            'recall': 0.5104602510460251},\n",
      "    'triangle_3khz': {   'auc_pr': 0.053334605630148815,\n",
      "                         'f1': 0.0,\n",
      "                         'precision': 0.0,\n",
      "                         'recall': 0.0},\n",
      "    'upsweep_500hz': {   'auc_pr': 0.1417219958924032,\n",
      "                         'f1': 0.29927007299270075,\n",
      "                         'precision': 0.3504273504273504,\n",
      "                         'recall': 0.2611464968152866}}\n"
     ]
    },
    {
     "name": "stderr",
     "output_type": "stream",
     "text": [
      " 16%|█████████████                                                                     | 32/200 [11:10<58:34, 20.92s/it]"
     ]
    },
    {
     "name": "stdout",
     "output_type": "stream",
     "text": [
      "Query no. 33/200\n",
      "22/22 - 1s - 56ms/step - auc_pr: 0.5148 - loss: 0.0140 - precision: 1.0000 - recall: 0.3333\n",
      "evaluating ..\n",
      "1323/1323 - 17s - 13ms/step\n"
     ]
    },
    {
     "name": "stderr",
     "output_type": "stream",
     "text": [
      "/home/ec2-user/.local/lib/python3.9/site-packages/sklearn/metrics/_classification.py:1531: UndefinedMetricWarning: Precision is ill-defined and being set to 0.0 due to no predicted samples. Use `zero_division` parameter to control this behavior.\n",
      "  _warn_prf(average, modifier, f\"{metric.capitalize()} is\", len(result))\n"
     ]
    },
    {
     "name": "stdout",
     "output_type": "stream",
     "text": [
      "{   'fast_trill_6khz': {   'auc_pr': 0.6889445049405865,\n",
      "                           'f1': 0.6757990867579908,\n",
      "                           'precision': 0.7326732673267327,\n",
      "                           'recall': 0.6271186440677966},\n",
      "    'nr_syllable_3khz': {   'auc_pr': 0.8110612898570358,\n",
      "                            'f1': 0.7127659574468085,\n",
      "                            'precision': 0.9781021897810219,\n",
      "                            'recall': 0.5606694560669456},\n",
      "    'triangle_3khz': {   'auc_pr': 0.04617454246819104,\n",
      "                         'f1': 0.0,\n",
      "                         'precision': 0.0,\n",
      "                         'recall': 0.0},\n",
      "    'upsweep_500hz': {   'auc_pr': 0.1600855453448139,\n",
      "                         'f1': 0.31197771587743733,\n",
      "                         'precision': 0.27722772277227725,\n",
      "                         'recall': 0.35668789808917195}}\n"
     ]
    },
    {
     "name": "stderr",
     "output_type": "stream",
     "text": [
      " 16%|█████████████▌                                                                    | 33/200 [11:31<58:15, 20.93s/it]"
     ]
    },
    {
     "name": "stdout",
     "output_type": "stream",
     "text": [
      "Query no. 34/200\n",
      "22/22 - 1s - 56ms/step - auc_pr: 0.6759 - loss: 0.0105 - precision: 0.7500 - recall: 0.5000\n",
      "evaluating ..\n",
      "1323/1323 - 17s - 13ms/step\n"
     ]
    },
    {
     "name": "stderr",
     "output_type": "stream",
     "text": [
      "/home/ec2-user/.local/lib/python3.9/site-packages/sklearn/metrics/_classification.py:1531: UndefinedMetricWarning: Precision is ill-defined and being set to 0.0 due to no predicted samples. Use `zero_division` parameter to control this behavior.\n",
      "  _warn_prf(average, modifier, f\"{metric.capitalize()} is\", len(result))\n",
      "/home/ec2-user/.local/lib/python3.9/site-packages/sklearn/metrics/_classification.py:1531: UndefinedMetricWarning: Precision is ill-defined and being set to 0.0 due to no predicted samples. Use `zero_division` parameter to control this behavior.\n",
      "  _warn_prf(average, modifier, f\"{metric.capitalize()} is\", len(result))\n"
     ]
    },
    {
     "name": "stdout",
     "output_type": "stream",
     "text": [
      "{   'fast_trill_6khz': {   'auc_pr': 0.5206797341685755,\n",
      "                           'f1': 0.036155419222903884,\n",
      "                           'precision': 0.01843356410042539,\n",
      "                           'recall': 0.9364406779661016},\n",
      "    'nr_syllable_3khz': {   'auc_pr': 0.8126451728676943,\n",
      "                            'f1': 0.6206896551724138,\n",
      "                            'precision': 0.9908256880733946,\n",
      "                            'recall': 0.45188284518828453},\n",
      "    'triangle_3khz': {   'auc_pr': 0.03572194013943589,\n",
      "                         'f1': 0.0,\n",
      "                         'precision': 0.0,\n",
      "                         'recall': 0.0},\n",
      "    'upsweep_500hz': {   'auc_pr': 0.2286140808600546,\n",
      "                         'f1': 0.0,\n",
      "                         'precision': 0.0,\n",
      "                         'recall': 0.0}}\n"
     ]
    },
    {
     "name": "stderr",
     "output_type": "stream",
     "text": [
      " 17%|█████████████▉                                                                    | 34/200 [11:52<57:53, 20.92s/it]"
     ]
    },
    {
     "name": "stdout",
     "output_type": "stream",
     "text": [
      "Query no. 35/200\n",
      "22/22 - 1s - 55ms/step - auc_pr: 0.5777 - loss: 0.0150 - precision: 0.6000 - recall: 0.5000\n",
      "evaluating ..\n",
      "1323/1323 - 17s - 13ms/step\n"
     ]
    },
    {
     "name": "stderr",
     "output_type": "stream",
     "text": [
      "/home/ec2-user/.local/lib/python3.9/site-packages/sklearn/metrics/_classification.py:1531: UndefinedMetricWarning: Precision is ill-defined and being set to 0.0 due to no predicted samples. Use `zero_division` parameter to control this behavior.\n",
      "  _warn_prf(average, modifier, f\"{metric.capitalize()} is\", len(result))\n",
      "/home/ec2-user/.local/lib/python3.9/site-packages/sklearn/metrics/_classification.py:1531: UndefinedMetricWarning: Precision is ill-defined and being set to 0.0 due to no predicted samples. Use `zero_division` parameter to control this behavior.\n",
      "  _warn_prf(average, modifier, f\"{metric.capitalize()} is\", len(result))\n"
     ]
    },
    {
     "name": "stdout",
     "output_type": "stream",
     "text": [
      "{   'fast_trill_6khz': {   'auc_pr': 0.3639188347663412,\n",
      "                           'f1': 0.1532567049808429,\n",
      "                           'precision': 0.8,\n",
      "                           'recall': 0.0847457627118644},\n",
      "    'nr_syllable_3khz': {   'auc_pr': 0.838847030001888,\n",
      "                            'f1': 0.7589743589743589,\n",
      "                            'precision': 0.9801324503311258,\n",
      "                            'recall': 0.6192468619246861},\n",
      "    'triangle_3khz': {   'auc_pr': 0.03958083025183816,\n",
      "                         'f1': 0.0,\n",
      "                         'precision': 0.0,\n",
      "                         'recall': 0.0},\n",
      "    'upsweep_500hz': {   'auc_pr': 0.02452765329843059,\n",
      "                         'f1': 0.0,\n",
      "                         'precision': 0.0,\n",
      "                         'recall': 0.0}}\n"
     ]
    },
    {
     "name": "stderr",
     "output_type": "stream",
     "text": [
      " 18%|██████████████▎                                                                   | 35/200 [12:13<57:32, 20.92s/it]"
     ]
    },
    {
     "name": "stdout",
     "output_type": "stream",
     "text": [
      "Query no. 36/200\n",
      "22/22 - 1s - 57ms/step - auc_pr: 0.2201 - loss: 0.0240 - precision: 0.5000 - recall: 0.1333\n",
      "evaluating ..\n",
      "1323/1323 - 17s - 13ms/step\n"
     ]
    },
    {
     "name": "stderr",
     "output_type": "stream",
     "text": [
      "/home/ec2-user/.local/lib/python3.9/site-packages/sklearn/metrics/_classification.py:1531: UndefinedMetricWarning: Precision is ill-defined and being set to 0.0 due to no predicted samples. Use `zero_division` parameter to control this behavior.\n",
      "  _warn_prf(average, modifier, f\"{metric.capitalize()} is\", len(result))\n",
      "/home/ec2-user/.local/lib/python3.9/site-packages/sklearn/metrics/_classification.py:1531: UndefinedMetricWarning: Precision is ill-defined and being set to 0.0 due to no predicted samples. Use `zero_division` parameter to control this behavior.\n",
      "  _warn_prf(average, modifier, f\"{metric.capitalize()} is\", len(result))\n",
      "/home/ec2-user/.local/lib/python3.9/site-packages/sklearn/metrics/_classification.py:1531: UndefinedMetricWarning: Precision is ill-defined and being set to 0.0 due to no predicted samples. Use `zero_division` parameter to control this behavior.\n",
      "  _warn_prf(average, modifier, f\"{metric.capitalize()} is\", len(result))\n"
     ]
    },
    {
     "name": "stdout",
     "output_type": "stream",
     "text": [
      "{   'fast_trill_6khz': {   'auc_pr': 0.14574091144851453,\n",
      "                           'f1': 0.0,\n",
      "                           'precision': 0.0,\n",
      "                           'recall': 0.0},\n",
      "    'nr_syllable_3khz': {   'auc_pr': 0.7904580410447429,\n",
      "                            'f1': 0.713472485768501,\n",
      "                            'precision': 0.6527777777777778,\n",
      "                            'recall': 0.7866108786610879},\n",
      "    'triangle_3khz': {   'auc_pr': 0.08908113585616681,\n",
      "                         'f1': 0.0,\n",
      "                         'precision': 0.0,\n",
      "                         'recall': 0.0},\n",
      "    'upsweep_500hz': {   'auc_pr': 0.018623041989580306,\n",
      "                         'f1': 0.0,\n",
      "                         'precision': 0.0,\n",
      "                         'recall': 0.0}}\n"
     ]
    },
    {
     "name": "stderr",
     "output_type": "stream",
     "text": [
      " 18%|██████████████▊                                                                   | 36/200 [12:34<57:09, 20.91s/it]"
     ]
    },
    {
     "name": "stdout",
     "output_type": "stream",
     "text": [
      "Query no. 37/200\n",
      "22/22 - 1s - 58ms/step - auc_pr: 0.6734 - loss: 0.0096 - precision: 0.7500 - recall: 0.3000\n",
      "evaluating ..\n",
      "1323/1323 - 17s - 13ms/step\n"
     ]
    },
    {
     "name": "stderr",
     "output_type": "stream",
     "text": [
      "/home/ec2-user/.local/lib/python3.9/site-packages/sklearn/metrics/_classification.py:1531: UndefinedMetricWarning: Precision is ill-defined and being set to 0.0 due to no predicted samples. Use `zero_division` parameter to control this behavior.\n",
      "  _warn_prf(average, modifier, f\"{metric.capitalize()} is\", len(result))\n",
      "/home/ec2-user/.local/lib/python3.9/site-packages/sklearn/metrics/_classification.py:1531: UndefinedMetricWarning: Precision is ill-defined and being set to 0.0 due to no predicted samples. Use `zero_division` parameter to control this behavior.\n",
      "  _warn_prf(average, modifier, f\"{metric.capitalize()} is\", len(result))\n"
     ]
    },
    {
     "name": "stdout",
     "output_type": "stream",
     "text": [
      "{   'fast_trill_6khz': {   'auc_pr': 0.2849636615934361,\n",
      "                           'f1': 0.04149377593360996,\n",
      "                           'precision': 1.0,\n",
      "                           'recall': 0.0211864406779661},\n",
      "    'nr_syllable_3khz': {   'auc_pr': 0.8284034576733348,\n",
      "                            'f1': 0.7717171717171717,\n",
      "                            'precision': 0.74609375,\n",
      "                            'recall': 0.799163179916318},\n",
      "    'triangle_3khz': {   'auc_pr': 0.1091566078853871,\n",
      "                         'f1': 0.0,\n",
      "                         'precision': 0.0,\n",
      "                         'recall': 0.0},\n",
      "    'upsweep_500hz': {   'auc_pr': 0.03708484940664283,\n",
      "                         'f1': 0.0,\n",
      "                         'precision': 0.0,\n",
      "                         'recall': 0.0}}\n"
     ]
    },
    {
     "name": "stderr",
     "output_type": "stream",
     "text": [
      " 18%|███████████████▏                                                                  | 37/200 [12:55<56:59, 20.98s/it]"
     ]
    },
    {
     "name": "stdout",
     "output_type": "stream",
     "text": [
      "Query no. 38/200\n",
      "22/22 - 1s - 58ms/step - auc_pr: 0.4165 - loss: 0.0116 - precision: 0.5000 - recall: 0.3333\n",
      "evaluating ..\n",
      "1323/1323 - 17s - 13ms/step\n"
     ]
    },
    {
     "name": "stderr",
     "output_type": "stream",
     "text": [
      "/home/ec2-user/.local/lib/python3.9/site-packages/sklearn/metrics/_classification.py:1531: UndefinedMetricWarning: Precision is ill-defined and being set to 0.0 due to no predicted samples. Use `zero_division` parameter to control this behavior.\n",
      "  _warn_prf(average, modifier, f\"{metric.capitalize()} is\", len(result))\n",
      "/home/ec2-user/.local/lib/python3.9/site-packages/sklearn/metrics/_classification.py:1531: UndefinedMetricWarning: Precision is ill-defined and being set to 0.0 due to no predicted samples. Use `zero_division` parameter to control this behavior.\n",
      "  _warn_prf(average, modifier, f\"{metric.capitalize()} is\", len(result))\n"
     ]
    },
    {
     "name": "stdout",
     "output_type": "stream",
     "text": [
      "{   'fast_trill_6khz': {   'auc_pr': 0.48871001109525747,\n",
      "                           'f1': 0.32764505119453924,\n",
      "                           'precision': 0.8421052631578947,\n",
      "                           'recall': 0.2033898305084746},\n",
      "    'nr_syllable_3khz': {   'auc_pr': 0.8436510627918801,\n",
      "                            'f1': 0.7587939698492462,\n",
      "                            'precision': 0.949685534591195,\n",
      "                            'recall': 0.6317991631799164},\n",
      "    'triangle_3khz': {   'auc_pr': 0.0945859721127234,\n",
      "                         'f1': 0.0,\n",
      "                         'precision': 0.0,\n",
      "                         'recall': 0.0},\n",
      "    'upsweep_500hz': {   'auc_pr': 0.08497990048847166,\n",
      "                         'f1': 0.0,\n",
      "                         'precision': 0.0,\n",
      "                         'recall': 0.0}}\n"
     ]
    },
    {
     "name": "stderr",
     "output_type": "stream",
     "text": [
      " 19%|███████████████▌                                                                  | 38/200 [13:16<56:40, 20.99s/it]"
     ]
    },
    {
     "name": "stdout",
     "output_type": "stream",
     "text": [
      "Query no. 39/200\n",
      "22/22 - 1s - 56ms/step - auc_pr: 0.0785 - loss: 0.0144 - precision: 0.0000e+00 - recall: 0.0000e+00\n",
      "evaluating ..\n",
      "1323/1323 - 17s - 13ms/step\n"
     ]
    },
    {
     "name": "stderr",
     "output_type": "stream",
     "text": [
      "/home/ec2-user/.local/lib/python3.9/site-packages/sklearn/metrics/_classification.py:1531: UndefinedMetricWarning: Precision is ill-defined and being set to 0.0 due to no predicted samples. Use `zero_division` parameter to control this behavior.\n",
      "  _warn_prf(average, modifier, f\"{metric.capitalize()} is\", len(result))\n",
      "/home/ec2-user/.local/lib/python3.9/site-packages/sklearn/metrics/_classification.py:1531: UndefinedMetricWarning: Precision is ill-defined and being set to 0.0 due to no predicted samples. Use `zero_division` parameter to control this behavior.\n",
      "  _warn_prf(average, modifier, f\"{metric.capitalize()} is\", len(result))\n"
     ]
    },
    {
     "name": "stdout",
     "output_type": "stream",
     "text": [
      "{   'fast_trill_6khz': {   'auc_pr': 0.517034153097374,\n",
      "                           'f1': 0.15503875968992248,\n",
      "                           'precision': 0.9090909090909091,\n",
      "                           'recall': 0.0847457627118644},\n",
      "    'nr_syllable_3khz': {   'auc_pr': 0.8351844928793808,\n",
      "                            'f1': 0.6756756756756757,\n",
      "                            'precision': 0.9541984732824428,\n",
      "                            'recall': 0.5230125523012552},\n",
      "    'triangle_3khz': {   'auc_pr': 0.06555759255641458,\n",
      "                         'f1': 0.0,\n",
      "                         'precision': 0.0,\n",
      "                         'recall': 0.0},\n",
      "    'upsweep_500hz': {   'auc_pr': 0.07338001031376219,\n",
      "                         'f1': 0.0,\n",
      "                         'precision': 0.0,\n",
      "                         'recall': 0.0}}\n"
     ]
    },
    {
     "name": "stderr",
     "output_type": "stream",
     "text": [
      " 20%|███████████████▉                                                                  | 39/200 [13:37<56:14, 20.96s/it]"
     ]
    },
    {
     "name": "stdout",
     "output_type": "stream",
     "text": [
      "Query no. 40/200\n",
      "22/22 - 1s - 55ms/step - auc_pr: 0.6572 - loss: 0.0103 - precision: 1.0000 - recall: 0.3000\n",
      "evaluating ..\n",
      "1323/1323 - 17s - 13ms/step\n"
     ]
    },
    {
     "name": "stderr",
     "output_type": "stream",
     "text": [
      "/home/ec2-user/.local/lib/python3.9/site-packages/sklearn/metrics/_classification.py:1531: UndefinedMetricWarning: Precision is ill-defined and being set to 0.0 due to no predicted samples. Use `zero_division` parameter to control this behavior.\n",
      "  _warn_prf(average, modifier, f\"{metric.capitalize()} is\", len(result))\n"
     ]
    },
    {
     "name": "stdout",
     "output_type": "stream",
     "text": [
      "{   'fast_trill_6khz': {   'auc_pr': 0.44487210535189553,\n",
      "                           'f1': 0.1893939393939394,\n",
      "                           'precision': 0.8928571428571429,\n",
      "                           'recall': 0.1059322033898305},\n",
      "    'nr_syllable_3khz': {   'auc_pr': 0.8319757205245262,\n",
      "                            'f1': 0.7509433962264151,\n",
      "                            'precision': 0.6838487972508591,\n",
      "                            'recall': 0.8326359832635983},\n",
      "    'triangle_3khz': {   'auc_pr': 0.0921408870853151,\n",
      "                         'f1': 0.0,\n",
      "                         'precision': 0.0,\n",
      "                         'recall': 0.0},\n",
      "    'upsweep_500hz': {   'auc_pr': 0.18713859104738356,\n",
      "                         'f1': 0.0,\n",
      "                         'precision': 0.0,\n",
      "                         'recall': 0.0}}\n"
     ]
    },
    {
     "name": "stderr",
     "output_type": "stream",
     "text": [
      " 20%|████████████████▍                                                                 | 40/200 [13:58<55:46, 20.92s/it]"
     ]
    },
    {
     "name": "stdout",
     "output_type": "stream",
     "text": [
      "Query no. 41/200\n",
      "22/22 - 1s - 55ms/step - auc_pr: 0.4960 - loss: 0.0107 - precision: 0.8000 - recall: 0.4444\n",
      "evaluating ..\n",
      "1323/1323 - 17s - 13ms/step\n"
     ]
    },
    {
     "name": "stderr",
     "output_type": "stream",
     "text": [
      "/home/ec2-user/.local/lib/python3.9/site-packages/sklearn/metrics/_classification.py:1531: UndefinedMetricWarning: Precision is ill-defined and being set to 0.0 due to no predicted samples. Use `zero_division` parameter to control this behavior.\n",
      "  _warn_prf(average, modifier, f\"{metric.capitalize()} is\", len(result))\n"
     ]
    },
    {
     "name": "stdout",
     "output_type": "stream",
     "text": [
      "{   'fast_trill_6khz': {   'auc_pr': 0.41135776639158067,\n",
      "                           'f1': 0.16153846153846155,\n",
      "                           'precision': 0.875,\n",
      "                           'recall': 0.08898305084745763},\n",
      "    'nr_syllable_3khz': {   'auc_pr': 0.794557581197779,\n",
      "                            'f1': 0.6272577996715928,\n",
      "                            'precision': 0.5162162162162162,\n",
      "                            'recall': 0.799163179916318},\n",
      "    'triangle_3khz': {   'auc_pr': 0.10790812944571898,\n",
      "                         'f1': 0.0,\n",
      "                         'precision': 0.0,\n",
      "                         'recall': 0.0},\n",
      "    'upsweep_500hz': {   'auc_pr': 0.21924238646803743,\n",
      "                         'f1': 0.05952380952380952,\n",
      "                         'precision': 0.45454545454545453,\n",
      "                         'recall': 0.03184713375796178}}\n"
     ]
    },
    {
     "name": "stderr",
     "output_type": "stream",
     "text": [
      " 20%|████████████████▊                                                                 | 41/200 [14:18<55:24, 20.91s/it]"
     ]
    },
    {
     "name": "stdout",
     "output_type": "stream",
     "text": [
      "Query no. 42/200\n",
      "22/22 - 1s - 57ms/step - auc_pr: 0.5382 - loss: 0.0203 - precision: 0.7778 - recall: 0.3333\n",
      "evaluating ..\n",
      "1323/1323 - 17s - 13ms/step\n"
     ]
    },
    {
     "name": "stderr",
     "output_type": "stream",
     "text": [
      "/home/ec2-user/.local/lib/python3.9/site-packages/sklearn/metrics/_classification.py:1531: UndefinedMetricWarning: Precision is ill-defined and being set to 0.0 due to no predicted samples. Use `zero_division` parameter to control this behavior.\n",
      "  _warn_prf(average, modifier, f\"{metric.capitalize()} is\", len(result))\n"
     ]
    },
    {
     "name": "stdout",
     "output_type": "stream",
     "text": [
      "{   'fast_trill_6khz': {   'auc_pr': 0.6547247342937016,\n",
      "                           'f1': 0.6006389776357828,\n",
      "                           'precision': 0.48205128205128206,\n",
      "                           'recall': 0.7966101694915254},\n",
      "    'nr_syllable_3khz': {   'auc_pr': 0.8247816458168011,\n",
      "                            'f1': 0.8059071729957806,\n",
      "                            'precision': 0.8127659574468085,\n",
      "                            'recall': 0.799163179916318},\n",
      "    'triangle_3khz': {   'auc_pr': 0.07737513127797457,\n",
      "                         'f1': 0.0,\n",
      "                         'precision': 0.0,\n",
      "                         'recall': 0.0},\n",
      "    'upsweep_500hz': {   'auc_pr': 0.2244033185876398,\n",
      "                         'f1': 0.31788079470198677,\n",
      "                         'precision': 0.3310344827586207,\n",
      "                         'recall': 0.3057324840764331}}\n"
     ]
    },
    {
     "name": "stderr",
     "output_type": "stream",
     "text": [
      " 21%|█████████████████▏                                                                | 42/200 [14:39<55:04, 20.91s/it]"
     ]
    },
    {
     "name": "stdout",
     "output_type": "stream",
     "text": [
      "Query no. 43/200\n",
      "22/22 - 1s - 56ms/step - auc_pr: 0.4163 - loss: 0.0129 - precision: 0.5000 - recall: 0.3636\n",
      "evaluating ..\n",
      "1323/1323 - 17s - 13ms/step\n"
     ]
    },
    {
     "name": "stderr",
     "output_type": "stream",
     "text": [
      "/home/ec2-user/.local/lib/python3.9/site-packages/sklearn/metrics/_classification.py:1531: UndefinedMetricWarning: Precision is ill-defined and being set to 0.0 due to no predicted samples. Use `zero_division` parameter to control this behavior.\n",
      "  _warn_prf(average, modifier, f\"{metric.capitalize()} is\", len(result))\n",
      "/home/ec2-user/.local/lib/python3.9/site-packages/sklearn/metrics/_classification.py:1531: UndefinedMetricWarning: Precision is ill-defined and being set to 0.0 due to no predicted samples. Use `zero_division` parameter to control this behavior.\n",
      "  _warn_prf(average, modifier, f\"{metric.capitalize()} is\", len(result))\n"
     ]
    },
    {
     "name": "stdout",
     "output_type": "stream",
     "text": [
      "{   'fast_trill_6khz': {   'auc_pr': 0.44142911458040923,\n",
      "                           'f1': 0.12759170653907495,\n",
      "                           'precision': 0.07042253521126761,\n",
      "                           'recall': 0.6779661016949152},\n",
      "    'nr_syllable_3khz': {   'auc_pr': 0.5833528317245047,\n",
      "                            'f1': 0.5664739884393064,\n",
      "                            'precision': 0.525,\n",
      "                            'recall': 0.6150627615062761},\n",
      "    'triangle_3khz': {   'auc_pr': 0.020034629419335436,\n",
      "                         'f1': 0.0,\n",
      "                         'precision': 0.0,\n",
      "                         'recall': 0.0},\n",
      "    'upsweep_500hz': {   'auc_pr': 0.07131109430621292,\n",
      "                         'f1': 0.0,\n",
      "                         'precision': 0.0,\n",
      "                         'recall': 0.0}}\n"
     ]
    },
    {
     "name": "stderr",
     "output_type": "stream",
     "text": [
      " 22%|█████████████████▋                                                                | 43/200 [15:00<54:43, 20.91s/it]"
     ]
    },
    {
     "name": "stdout",
     "output_type": "stream",
     "text": [
      "Query no. 44/200\n",
      "22/22 - 1s - 55ms/step - auc_pr: 0.2392 - loss: 0.0132 - precision: 0.0000e+00 - recall: 0.0000e+00\n",
      "evaluating ..\n",
      "1323/1323 - 18s - 13ms/step\n"
     ]
    },
    {
     "name": "stderr",
     "output_type": "stream",
     "text": [
      "/home/ec2-user/.local/lib/python3.9/site-packages/sklearn/metrics/_classification.py:1531: UndefinedMetricWarning: Precision is ill-defined and being set to 0.0 due to no predicted samples. Use `zero_division` parameter to control this behavior.\n",
      "  _warn_prf(average, modifier, f\"{metric.capitalize()} is\", len(result))\n",
      "/home/ec2-user/.local/lib/python3.9/site-packages/sklearn/metrics/_classification.py:1531: UndefinedMetricWarning: Precision is ill-defined and being set to 0.0 due to no predicted samples. Use `zero_division` parameter to control this behavior.\n",
      "  _warn_prf(average, modifier, f\"{metric.capitalize()} is\", len(result))\n"
     ]
    },
    {
     "name": "stdout",
     "output_type": "stream",
     "text": [
      "{   'fast_trill_6khz': {   'auc_pr': 0.4672058859542629,\n",
      "                           'f1': 0.1255088195386703,\n",
      "                           'precision': 0.06821533923303835,\n",
      "                           'recall': 0.7838983050847458},\n",
      "    'nr_syllable_3khz': {   'auc_pr': 0.7934032163954059,\n",
      "                            'f1': 0.7775467775467776,\n",
      "                            'precision': 0.7727272727272727,\n",
      "                            'recall': 0.7824267782426778},\n",
      "    'triangle_3khz': {   'auc_pr': 0.03596782481428383,\n",
      "                         'f1': 0.0,\n",
      "                         'precision': 0.0,\n",
      "                         'recall': 0.0},\n",
      "    'upsweep_500hz': {   'auc_pr': 0.20262994962633393,\n",
      "                         'f1': 0.0,\n",
      "                         'precision': 0.0,\n",
      "                         'recall': 0.0}}\n"
     ]
    },
    {
     "name": "stderr",
     "output_type": "stream",
     "text": [
      " 22%|██████████████████                                                                | 44/200 [15:22<54:42, 21.04s/it]"
     ]
    },
    {
     "name": "stdout",
     "output_type": "stream",
     "text": [
      "Query no. 45/200\n",
      "22/22 - 1s - 55ms/step - auc_pr: 0.3925 - loss: 0.0182 - precision: 0.8333 - recall: 0.3571\n",
      "evaluating ..\n"
     ]
    }
   ],
   "source": [
    "from preprocessing import evaluation_dict\n",
    "import pickle\n",
    "from models import build_resnet16\n",
    "from keras import metrics\n",
    "\n",
    "n_queries = 200\n",
    "query_size = int(pool_X.shape[0] / n_queries)\n",
    "\n",
    "LB_metrics = []\n",
    "trained_X = initial_X\n",
    "trained_Y = initial_Y\n",
    "\n",
    "print(\"=== RANDOM SAMPLING ===\")\n",
    "for idx in tqdm(range(n_queries)):\n",
    "    print(f'Query no. {idx + 1}/{n_queries}')\n",
    "\n",
    "    # query for instances\n",
    "    query_indicies, query_instances = learner.query(pool_X, n_instances=query_size)\n",
    "    \n",
    "    # train on instances\n",
    "    learner.teach(\n",
    "        X=pool_X[query_indicies], y=pool_Y[query_indicies], \n",
    "        only_new=True, verbose=2\n",
    "    )\n",
    "\n",
    "    # get evaluation metrics\n",
    "    print(\"evaluating ..\")\n",
    "    currently_labelled += query_size\n",
    "    labelling_budget = currently_labelled / initial_ds_size \n",
    "    pred_Y = classifier.predict_proba(test_X, batch_size=batch, verbose=2)\n",
    "    LB_metrics.append(\n",
    "        (labelling_budget, evaluation_dict(pred_Y, test_Y)))\n",
    "\n",
    "    # store trained on samples \n",
    "    trained_X = np.vstack((trained_X, pool_X[query_indicies]))\n",
    "    trained_Y = np.vstack((trained_Y, pool_Y[query_indicies]))\n",
    "    \n",
    "    # remove queried instance from pool\n",
    "    pool_X = np.delete(pool_X, query_indicies, axis=0)\n",
    "    pool_Y = np.delete(pool_Y, query_indicies, axis=0)\n",
    "\n",
    "    with open(INTERMEDIATE / 'AL' / 'RS_metrics.pkl', 'wb') as f:\n",
    "        pickle.dump(LB_metrics, f)\n"
   ]
  },
  {
   "cell_type": "code",
   "execution_count": null,
   "id": "c7ff3c50-38f5-4a24-bba0-4ccc378004ed",
   "metadata": {},
   "outputs": [],
   "source": [
    "pred_Y = classifier.predict_proba(test_X)"
   ]
  },
  {
   "cell_type": "code",
   "execution_count": null,
   "id": "2b090288-d91b-425d-9737-d3ba335e8901",
   "metadata": {},
   "outputs": [],
   "source": [
    "from sklearn.metrics import average_precision_score, precision_recall_curve\n",
    "\n",
    "for i in range(4):\n",
    "    m = average_precision_score(test_Y[:, i], pred_Y[:, i])\n",
    "    print(m)\n",
    "\n",
    "def plot_pr(name, labels, predictions, **kwargs):\n",
    "    prec, rec, _ = precision_recall_curve(labels, predictions)\n",
    "    plt.plot(prec, rec, label=name, linewidth=2, **kwargs)\n",
    "    plt.xlabel('Precision')\n",
    "    plt.ylabel('Recall')\n",
    "    plt.xlim([0,1])\n",
    "    plt.ylim([0,1])\n",
    "    plt.grid(True)\n",
    "\n",
    "label_order = DEFAULT_TOKENS.keys()\n",
    "for i, name in enumerate(label_order):\n",
    "    plot_pr(name, test_Y[:, i], pred_Y[:, i])"
   ]
  },
  {
   "cell_type": "code",
   "execution_count": null,
   "id": "7298914b-0f9f-4a4e-a03d-eb677927380d",
   "metadata": {},
   "outputs": [],
   "source": [
    "m = evaluation_dict(pred_Y, test_Y)"
   ]
  },
  {
   "cell_type": "code",
   "execution_count": null,
   "id": "64fe44d2-8190-4d82-a740-7c521023b657",
   "metadata": {},
   "outputs": [],
   "source": [
    "from util import LABELS\n",
    "\n",
    "x = [lb for lb, _ in LB_metrics]\n",
    "for i, l in enumerate(LABELS):\n",
    "    y = [m[l]['auc_pr'] for _, m in LB_metrics]\n",
    "    plt.plot(y, x)\n",
    "    plt.ylim(0, 1)\n",
    "    plt.title(f'AP of {l} for Random Sampling')\n",
    "    plt.show()"
   ]
  },
  {
   "cell_type": "code",
   "execution_count": null,
   "id": "58c2d334-21e4-4245-9c5e-152275c33690",
   "metadata": {},
   "outputs": [],
   "source": []
  }
 ],
 "metadata": {
  "kernelspec": {
   "display_name": "Python 3 (ipykernel)",
   "language": "python",
   "name": "python3"
  },
  "language_info": {
   "codemirror_mode": {
    "name": "ipython",
    "version": 3
   },
   "file_extension": ".py",
   "mimetype": "text/x-python",
   "name": "python",
   "nbconvert_exporter": "python",
   "pygments_lexer": "ipython3",
   "version": "3.9.16"
  }
 },
 "nbformat": 4,
 "nbformat_minor": 5
}
