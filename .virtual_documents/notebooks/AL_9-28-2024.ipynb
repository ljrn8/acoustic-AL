get_ipython().run_line_magic("load_ext", " autoreload")
get_ipython().run_line_magic("autoreload", " 2")
    
import tensorflow as tf
from tensorflow  import keras
from keras import metrics
import numpy as np

import librosa 
import matplotlib.pyplot as plt
from tqdm import tqdm
import h5py
import soundfile as sf
from scipy.signal import resample_poly
import librosa
from modAL.models import ActiveLearner
from scikeras.wrappers import KerasClassifier
import random as rand

from config import *
from util import DEFAULT_TOKENS
from models import build_resnet16
from preprocessing import AL_split


logmel_f = h5py.File(INTERMEDIATE / 'logmel.hdf5', 'r')
samples_f = h5py.File(INTERMEDIATE / '22sr_samples.hdf5', 'r')

X = np.load(INTERMEDIATE / 'logmel.npy')
Y = np.load(INTERMEDIATE / 'logmel_labels.npy')


batch = 32

# resnet 16
X_shape = (40, 107, 1)
model = build_resnet16(input_shape=X_shape)
model.compile(optimizer='adam',
              loss='binary_crossentropy',
              metrics=[
                metrics.Recall(thresholds=0.5),
                metrics.Precision(thresholds=0.5),
                metrics.AUC(curve='pr', name='auc_pr')
              ])
classifier = KerasClassifier(model, batch_size=batch, verbose=2)

init, pool, test = AL_split(X, Y)
initial_X, initial_Y = init
pool_X, pool_Y = pool
test_X, test_Y = test
pool_X.shape, pool_Y.shape


currently_labelled = len(initial_X)
initial_ds_size = currently_labelled + len(pool_X)

def random_sampling(classifier, X_unlabelled, n_instances):
    i = np.random.choice(range(X_unlabelled.shape[0]), size=n_instances, replace=False)
    return i, X[i] 

learner = ActiveLearner(
    estimator=classifier,
    X_training=initial_X, # !!! TODO: use must larger initial labelled set (?)
    y_training=initial_Y,
    verbose=2,
    query_strategy=random_sampling 
) # trains on the initial ds


from preprocessing import evaluation_dict
import pickle
from models import build_resnet16
from keras import metrics

n_queries = 200
query_size = int(pool_X.shape[0] / n_queries)

LB_metrics = []
trained_X = initial_X
trained_Y = initial_Y

print("=== RANDOM SAMPLING ===")
for idx in tqdm(range(n_queries)):
    print(f'Query no. {idx + 1}/{n_queries}')

    # query for instances
    query_indicies, query_instances = learner.query(pool_X, n_instances=query_size)
    
    # train on instances
    learner.teach(
        X=pool_X[query_indicies], y=pool_Y[query_indicies], 
        only_new=True, verbose=2
    )

    # get evaluation metrics
    print("evaluating ..")
    currently_labelled += query_size
    labelling_budget = currently_labelled / initial_ds_size 
    pred_Y = classifier.predict_proba(test_X, batch_size=batch, verbose=2)
    LB_metrics.append(
        (labelling_budget, evaluation_dict(pred_Y, test_Y)))

    # store trained on samples 
    trained_X = np.vstack((trained_X, pool_X[query_indicies]))
    trained_Y = np.vstack((trained_Y, pool_Y[query_indicies]))
    
    # remove queried instance from pool
    pool_X = np.delete(pool_X, query_indicies, axis=0)
    pool_Y = np.delete(pool_Y, query_indicies, axis=0)

    with open(INTERMEDIATE / 'AL' / 'RS_metrics.pkl', 'wb') as f:
        pickle.dump(LB_metrics, f)



pred_Y = classifier.predict_proba(test_X)


from sklearn.metrics import average_precision_score, precision_recall_curve

for i in range(4):
    m = average_precision_score(test_Y[:, i], pred_Y[:, i])
    print(m)

def plot_pr(name, labels, predictions, **kwargs):
    prec, rec, _ = precision_recall_curve(labels, predictions)
    plt.plot(prec, rec, label=name, linewidth=2, **kwargs)
    plt.xlabel('Precision')
    plt.ylabel('Recall')
    plt.xlim([0,1])
    plt.ylim([0,1])
    plt.grid(True)

label_order = DEFAULT_TOKENS.keys()
for i, name in enumerate(label_order):
    plot_pr(name, test_Y[:, i], pred_Y[:, i])


m = evaluation_dict(pred_Y, test_Y)


from util import LABELS

x = [lb for lb, _ in LB_metrics]
for i, l in enumerate(LABELS):
    y = [m[l]['auc_pr'] for _, m in LB_metrics]
    plt.plot(y, x)
    plt.ylim(0, 1)
    plt.title(f'AP of {l} for Random Sampling')
    plt.show()



