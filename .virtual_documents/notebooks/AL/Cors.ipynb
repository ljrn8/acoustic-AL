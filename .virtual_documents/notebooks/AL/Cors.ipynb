import numpy as np
from sklearn.metrics.pairwise import pairwise_distances
from config import *
from util import *


X = np.load(INTERMEDIATE / 'logmel_multiclass_noise.npy')
Y = np.load(INTERMEDIATE / 'logmel_labels_multiclass_noise.npy')



# def euclid_2d(X, Y):
    # X_flat =  np.array([x.flatten() for x in X])
    # Y_flat =  np.array([y.flatten() for x in X])
    # return pairwise_distances(X, Y)

# from tqdm import tqdm


# def _partial_av_similiarities(flat_X, partitions=30):
#     step = len(flat_X) // partitions
#     avs = []
#     for i in tqdm(range(0, len(flat_X), step)):
#         start = i
#         stop = min(i + step, len(flat_X)) 
#         p = pairwise_distances(flat_X[start:stop, :], flat_X[start:stop, :]) 
#         avg_similarities = np.mean(p, axis=1)
#         avs.extend(avg_similarities)
#     return np.array(avs)


# def min_distances(X, selected_indices):
#     X_flat = X.reshape(X.shape[0], -1)
#     selected_flat = X_flat[selected_indices]

#     # Compute distances using broadcasting
#     dists = np.linalg.norm(X_flat[:, np.newaxis] - selected_flat, axis=2)
#     return dists.min(axis=1)

def euclid_dist(X, Y):
    return pairwise_distances(
        np.array([x.flatten() for x in X]),
        np.array([y.flatten() for y in Y]),
    )


def k_center_greedy(all_X, selected_X, budget):
    # while len(selected_indices) < budget + len(s_indices):
    #     i += 1
    #     print(f"{i}/{budget}", end='\r') # debugging
        
    #     # Compute the minimum distance from each unselected point to the selected points

    #     distances = euclid_dist(selected_X, all_X)
    #     min_distances = distances.min(axis=1)

    #     # Select the point that maximizes the minimum distance
    #     u = np.argmax(min_distances)
    #     selected_indices.append(u)

    #     # remove from data before new center
    #     x = s_indices[u]
    #     # all_X = np.delete(all_X, x, axis=0)  # x_lab out of bounds for all_X
    #     selected_X = np.delete(selected_X, u, axis=0)
    
    distances = euclid_dist(selected_X, all_X)
    min_distances = distances.min(axis=1)
    i = np.argsort(-min_distances)[:budget]
    # return selected_X[len(s_indices):]
    return i


X.shape, Y.shape


211636 // 10



all_X = X[:len(X) // 5, :, :] # randomly chosen partition of X
uncertain_indices = np.random.choice(range(all_X.shape[0]), len(all_X) // 4) # uncertain unlabeleld instances
indicies = k_center_greedy(all_X, all_X[uncertain_indices], 100)


len(indicies)


import gc; gc.collect()



