get_ipython().run_line_magic("load_ext", " autoreload")
get_ipython().run_line_magic("autoreload", " 2")
import notebook_path

import librosa
import pandas as pd
import numpy as np
import os
from os import path


from util import get_deployment_summary

get_deployment_summary(1)


dates = get_deployment_summary(1)["DATE"]
dates.hist(figsize=(30,5), bins=len(dates.unique()))


from util import list_data

list_data(1)[:3]


summ_df = pd.read_csv("./test_data/1_Summary.txt")
summ_df.head(3)


import matplotlib.pyplot as plt
from plotting import plot_datetime

test_summ = pd.read_csv("./test_data/1_Summary.txt")
plot_datetime(df=test_summ, save_as="DatevTimeD1S1")


from plotting import view_spectogram

view_spectogram() # test


view_spectogram(frequency_range=(2000,5000))


from correlate import *

corrs = correlate_save_view(
    reference_data="./reference_data/test", 
    reference_file="./reference_data/test_2.wav",
    output_file="./correlations/all_corrs",
    return_correlations=40,
    max_recordings=200,
)



