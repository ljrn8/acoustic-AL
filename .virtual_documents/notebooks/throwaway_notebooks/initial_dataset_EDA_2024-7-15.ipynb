


get_ipython().run_line_magic("load_ext", " autoreload")
get_ipython().run_line_magic("autoreload", " 2")
    
import warnings
warnings.simplefilter(action='ignore', category=FutureWarning)
import pandas as pd


from pathlib import Path
from config import *

df = pd.read_csv(Path(ANNOTATIONS) / 'archive' / 'correlated_annotations_7depl.csv', 
                 parse_dates=["datetime"])
categorical = ['label', 'deployment', 'site']
df[categorical] = df[categorical].astype('category')
df.head()


df.info()


df["deployment"].value_counts().plot(kind='pie', title="annotations per deployment")


df["datetime"].min(), df["datetime"].max()


 df["datetime"].max() - df["datetime"].min() 


import matplotlib.pyplot as plt

plt.yscale("linear")
title = "logarithmic annotation counts per date (deployments 1-7, site01)"
plt.title(title)
plt.ylabel("n# annotations (log)")

df.groupby('label')["datetime"].hist(bins=100, legend=True, alpha=0.3, figsize=(12, 5),
                                edgecolor='black', linewidth=1.5)

# plt.savefig(f"../figures/{title}.png")


plt.yscale("logarithmic")
title = "logarithmic annotation counts per date (deployments 1-7, site01)"
plt.title(title)
plt.ylabel("n# annotations (log)")

df.groupby('label')["datetime"].hist(bins=100, legend=True, alpha=0.3, figsize=(12, 5),
                                edgecolor='black', linewidth=1.5)

# plt.savefig(f"../figures/{title}.png")
# TODO line



import seaborn as sns

# Create a DataFrame suitable for a heatmap
heatmap_data = annotation_counts.transpose()

# Plotting heatmap
plt.figure(figsize=(12, 6))
sns.heatmap(heatmap_data, cmap='YlGnBu', cbar_kws={'label': 'n# annotations'}, linewidths=0.1)

plt.title("Heatmap of Annotation Counts per Date (Deployments 1-7, Site01)")
plt.xlabel("Date")
plt.ylabel("Labels")
plt.xticks(rotation=45)
plt.yticks(rotation=0)
plt.tight_layout()
plt.show()


fig, axes = plt.subplots(2, 2,  figsize=(12, 7))

title = "grid annotation counts per date (deployments 1-7, site01)"

for i, (label, group) in enumerate(df.groupby('label')):
    ax = axes[i // 2][i % 2]
    ax.set_title(label)
    ax.hist(group['datetime'], bins=100, alpha=0.3, edgecolor='black', linewidth=1.5)
    
plt.xlabel("date")
plt.ylabel("n# annotations")
plt.savefig(f"../figures/{title}.png")
plt.show()


from datetime import date

cut = df[df["datetime"] <= pd.to_datetime('2023-09-01')]
plt.title("annotation counts per date (before 2023-09)")
plt.ylabel("n# annotations")
ax = cut.groupby('label').datetime.hist(bins=100, 
                                             legend=True, 
                                             alpha = 0.6, lw=3)

