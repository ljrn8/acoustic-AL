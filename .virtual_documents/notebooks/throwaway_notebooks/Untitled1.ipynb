get_ipython().run_line_magic("load_ext", " autoreload")
get_ipython().run_line_magic("autoreload", " 2")
import notebook_path

import librosa
import pandas as pd
import numpy as np
import os
from os import path



