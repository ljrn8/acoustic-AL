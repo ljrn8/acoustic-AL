get_ipython().run_line_magic("load_ext", " autoreload")
get_ipython().run_line_magic("autoreload", " 2")

import numpy as np

import librosa 
import matplotlib.pyplot as plt
from tqdm import tqdm
from config import *
import h5py
from util import DEFAULT_TOKENS
import librosa


X = np.load(INTERMEDIATE / 'logmel_multiclass_noise.npy')
Y = np.load(INTERMEDIATE / 'logmel_labels_multiclass_noise.npy')


mfccs_features = np.array([
    librosa.feature.mfcc(S=x, n_mfcc=11).flatten() for x in X
])


from sklearn.cluster import DBSCAN

# ignore
def dbs(features):
    dbscan = DBSCAN(eps=20, min_samples=5)
    dbscan.fit(features)
    return dbscan, dbscan.labels_


from sklearn.cluster import MiniBatchKMeans, KMeans
from sklearn.metrics.pairwise import pairwise_distances_argmin

mbk = MiniBatchKMeans(init ='k-means++', n_clusters = 5,
                      batch_size = batch_size, n_init = 10,
                      max_no_improvement = 10, verbose = 0)



def view(features, labels):
    from sklearn.decomposition import PCA
    pca = PCA(n_components=2)
    reduced_data = pca.fit_transform(features)
    plt.figure(figsize=(10, 8))
    plt.scatter(reduced_data[:, 0], reduced_data[:, 1], c=labels, cmap='viridis', s=1)
    plt.xlabel('Principal Component 1')
    plt.ylabel('Principal Component 2')
    plt.colorbar(label='Cluster Label')
    plt.show()


view(mfccs_features, dbscan_labels)



